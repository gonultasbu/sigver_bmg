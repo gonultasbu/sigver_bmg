{
 "cells": [
  {
   "cell_type": "code",
   "execution_count": 61,
   "metadata": {
    "scrolled": true
   },
   "outputs": [],
   "source": [
    "import scipy.io as sio\n",
    "from scipy.misc import imread\n",
    "from preprocess.normalize import preprocess_signature\n",
    "import tf_signet\n",
    "from tf_cnn_model import TF_CNNModel\n",
    "import tensorflow as tf\n",
    "import numpy as np\n",
    "import pandas as pd\n",
    "import sys\n",
    "import os\n",
    "import scipy.io\n",
    "from find_largest_image import find_largest\n",
    "import tqdm \n",
    "from sklearn.model_selection import train_test_split\n",
    "from sklearn.svm import SVC\n",
    "from xgboost import XGBClassifier\n",
    "import random\n",
    "from numpy.random import choice\n",
    "from sklearn.ensemble import RandomForestClassifier\n",
    "from sklearn.neural_network import MLPClassifier\n",
    "from sklearn.metrics import accuracy_score"
   ]
  },
  {
   "cell_type": "code",
   "execution_count": 2,
   "metadata": {},
   "outputs": [],
   "source": [
    "data_folder = 'C:\\\\Users\\\\Mert\\\\Documents\\\\GitHub\\\\sigver_bmg\\\\data\\\\downloaded_pp_features\\\\gpds_signet\\\\validation'"
   ]
  },
  {
   "cell_type": "code",
   "execution_count": 3,
   "metadata": {},
   "outputs": [],
   "source": [
    "data_f=pd.read_csv(os.path.join(data_folder,'data_features.csv'))\n",
    "visual_f=pd.read_csv(os.path.join(data_folder,'visual_features.csv'))"
   ]
  },
  {
   "cell_type": "code",
   "execution_count": 4,
   "metadata": {},
   "outputs": [
    {
     "data": {
      "text/html": [
       "<div>\n",
       "<style scoped>\n",
       "    .dataframe tbody tr th:only-of-type {\n",
       "        vertical-align: middle;\n",
       "    }\n",
       "\n",
       "    .dataframe tbody tr th {\n",
       "        vertical-align: top;\n",
       "    }\n",
       "\n",
       "    .dataframe thead th {\n",
       "        text-align: right;\n",
       "    }\n",
       "</style>\n",
       "<table border=\"1\" class=\"dataframe\">\n",
       "  <thead>\n",
       "    <tr style=\"text-align: right;\">\n",
       "      <th></th>\n",
       "      <th>user_id</th>\n",
       "      <th>sig_id</th>\n",
       "      <th>fakeness</th>\n",
       "    </tr>\n",
       "  </thead>\n",
       "  <tbody>\n",
       "    <tr>\n",
       "      <th>0</th>\n",
       "      <td>352</td>\n",
       "      <td>1</td>\n",
       "      <td>True</td>\n",
       "    </tr>\n",
       "    <tr>\n",
       "      <th>1</th>\n",
       "      <td>352</td>\n",
       "      <td>2</td>\n",
       "      <td>True</td>\n",
       "    </tr>\n",
       "    <tr>\n",
       "      <th>2</th>\n",
       "      <td>352</td>\n",
       "      <td>3</td>\n",
       "      <td>True</td>\n",
       "    </tr>\n",
       "    <tr>\n",
       "      <th>3</th>\n",
       "      <td>352</td>\n",
       "      <td>4</td>\n",
       "      <td>True</td>\n",
       "    </tr>\n",
       "    <tr>\n",
       "      <th>4</th>\n",
       "      <td>352</td>\n",
       "      <td>5</td>\n",
       "      <td>True</td>\n",
       "    </tr>\n",
       "  </tbody>\n",
       "</table>\n",
       "</div>"
      ],
      "text/plain": [
       "   user_id  sig_id  fakeness\n",
       "0      352       1      True\n",
       "1      352       2      True\n",
       "2      352       3      True\n",
       "3      352       4      True\n",
       "4      352       5      True"
      ]
     },
     "execution_count": 4,
     "metadata": {},
     "output_type": "execute_result"
    }
   ],
   "source": [
    "data_f.head()"
   ]
  },
  {
   "cell_type": "code",
   "execution_count": 5,
   "metadata": {},
   "outputs": [
    {
     "data": {
      "text/html": [
       "<div>\n",
       "<style scoped>\n",
       "    .dataframe tbody tr th:only-of-type {\n",
       "        vertical-align: middle;\n",
       "    }\n",
       "\n",
       "    .dataframe tbody tr th {\n",
       "        vertical-align: top;\n",
       "    }\n",
       "\n",
       "    .dataframe thead th {\n",
       "        text-align: right;\n",
       "    }\n",
       "</style>\n",
       "<table border=\"1\" class=\"dataframe\">\n",
       "  <thead>\n",
       "    <tr style=\"text-align: right;\">\n",
       "      <th></th>\n",
       "      <th>0</th>\n",
       "      <th>1</th>\n",
       "      <th>2</th>\n",
       "      <th>3</th>\n",
       "      <th>4</th>\n",
       "      <th>5</th>\n",
       "      <th>6</th>\n",
       "      <th>7</th>\n",
       "      <th>8</th>\n",
       "      <th>9</th>\n",
       "      <th>...</th>\n",
       "      <th>2038</th>\n",
       "      <th>2039</th>\n",
       "      <th>2040</th>\n",
       "      <th>2041</th>\n",
       "      <th>2042</th>\n",
       "      <th>2043</th>\n",
       "      <th>2044</th>\n",
       "      <th>2045</th>\n",
       "      <th>2046</th>\n",
       "      <th>2047</th>\n",
       "    </tr>\n",
       "  </thead>\n",
       "  <tbody>\n",
       "    <tr>\n",
       "      <th>0</th>\n",
       "      <td>0.000000</td>\n",
       "      <td>0.000000</td>\n",
       "      <td>0.0</td>\n",
       "      <td>1.370572</td>\n",
       "      <td>0.000000</td>\n",
       "      <td>0.000000</td>\n",
       "      <td>0.0</td>\n",
       "      <td>0.149738</td>\n",
       "      <td>0.323547</td>\n",
       "      <td>0.000000</td>\n",
       "      <td>...</td>\n",
       "      <td>0.0</td>\n",
       "      <td>0.0</td>\n",
       "      <td>0.0</td>\n",
       "      <td>0.0</td>\n",
       "      <td>0.0</td>\n",
       "      <td>0.000000</td>\n",
       "      <td>1.186365</td>\n",
       "      <td>0.331796</td>\n",
       "      <td>0.356497</td>\n",
       "      <td>0.0</td>\n",
       "    </tr>\n",
       "    <tr>\n",
       "      <th>1</th>\n",
       "      <td>0.160537</td>\n",
       "      <td>0.000000</td>\n",
       "      <td>0.0</td>\n",
       "      <td>1.169396</td>\n",
       "      <td>0.239608</td>\n",
       "      <td>0.000000</td>\n",
       "      <td>0.0</td>\n",
       "      <td>0.000000</td>\n",
       "      <td>1.208937</td>\n",
       "      <td>0.000000</td>\n",
       "      <td>...</td>\n",
       "      <td>0.0</td>\n",
       "      <td>0.0</td>\n",
       "      <td>0.0</td>\n",
       "      <td>0.0</td>\n",
       "      <td>0.0</td>\n",
       "      <td>0.000000</td>\n",
       "      <td>1.141376</td>\n",
       "      <td>0.893188</td>\n",
       "      <td>0.000000</td>\n",
       "      <td>0.0</td>\n",
       "    </tr>\n",
       "    <tr>\n",
       "      <th>2</th>\n",
       "      <td>0.393000</td>\n",
       "      <td>0.223869</td>\n",
       "      <td>0.0</td>\n",
       "      <td>0.195907</td>\n",
       "      <td>0.000000</td>\n",
       "      <td>0.000000</td>\n",
       "      <td>0.0</td>\n",
       "      <td>0.060111</td>\n",
       "      <td>0.088993</td>\n",
       "      <td>0.194043</td>\n",
       "      <td>...</td>\n",
       "      <td>0.0</td>\n",
       "      <td>0.0</td>\n",
       "      <td>0.0</td>\n",
       "      <td>0.0</td>\n",
       "      <td>0.0</td>\n",
       "      <td>0.000000</td>\n",
       "      <td>1.038160</td>\n",
       "      <td>0.215892</td>\n",
       "      <td>0.050661</td>\n",
       "      <td>0.0</td>\n",
       "    </tr>\n",
       "    <tr>\n",
       "      <th>3</th>\n",
       "      <td>0.280439</td>\n",
       "      <td>0.609959</td>\n",
       "      <td>0.0</td>\n",
       "      <td>0.392170</td>\n",
       "      <td>0.000000</td>\n",
       "      <td>0.568858</td>\n",
       "      <td>0.0</td>\n",
       "      <td>0.000000</td>\n",
       "      <td>0.246439</td>\n",
       "      <td>0.000000</td>\n",
       "      <td>...</td>\n",
       "      <td>0.0</td>\n",
       "      <td>0.0</td>\n",
       "      <td>0.0</td>\n",
       "      <td>0.0</td>\n",
       "      <td>0.0</td>\n",
       "      <td>0.138333</td>\n",
       "      <td>1.180603</td>\n",
       "      <td>0.000000</td>\n",
       "      <td>0.000000</td>\n",
       "      <td>0.0</td>\n",
       "    </tr>\n",
       "    <tr>\n",
       "      <th>4</th>\n",
       "      <td>0.351282</td>\n",
       "      <td>0.000000</td>\n",
       "      <td>0.0</td>\n",
       "      <td>0.000000</td>\n",
       "      <td>0.000000</td>\n",
       "      <td>0.940088</td>\n",
       "      <td>0.0</td>\n",
       "      <td>0.000000</td>\n",
       "      <td>0.000000</td>\n",
       "      <td>0.000000</td>\n",
       "      <td>...</td>\n",
       "      <td>0.0</td>\n",
       "      <td>0.0</td>\n",
       "      <td>0.0</td>\n",
       "      <td>0.0</td>\n",
       "      <td>0.0</td>\n",
       "      <td>0.398407</td>\n",
       "      <td>1.215286</td>\n",
       "      <td>0.000000</td>\n",
       "      <td>0.000000</td>\n",
       "      <td>0.0</td>\n",
       "    </tr>\n",
       "  </tbody>\n",
       "</table>\n",
       "<p>5 rows × 2048 columns</p>\n",
       "</div>"
      ],
      "text/plain": [
       "          0         1    2         3         4         5    6         7  \\\n",
       "0  0.000000  0.000000  0.0  1.370572  0.000000  0.000000  0.0  0.149738   \n",
       "1  0.160537  0.000000  0.0  1.169396  0.239608  0.000000  0.0  0.000000   \n",
       "2  0.393000  0.223869  0.0  0.195907  0.000000  0.000000  0.0  0.060111   \n",
       "3  0.280439  0.609959  0.0  0.392170  0.000000  0.568858  0.0  0.000000   \n",
       "4  0.351282  0.000000  0.0  0.000000  0.000000  0.940088  0.0  0.000000   \n",
       "\n",
       "          8         9  ...  2038  2039  2040  2041  2042      2043      2044  \\\n",
       "0  0.323547  0.000000  ...   0.0   0.0   0.0   0.0   0.0  0.000000  1.186365   \n",
       "1  1.208937  0.000000  ...   0.0   0.0   0.0   0.0   0.0  0.000000  1.141376   \n",
       "2  0.088993  0.194043  ...   0.0   0.0   0.0   0.0   0.0  0.000000  1.038160   \n",
       "3  0.246439  0.000000  ...   0.0   0.0   0.0   0.0   0.0  0.138333  1.180603   \n",
       "4  0.000000  0.000000  ...   0.0   0.0   0.0   0.0   0.0  0.398407  1.215286   \n",
       "\n",
       "       2045      2046  2047  \n",
       "0  0.331796  0.356497   0.0  \n",
       "1  0.893188  0.000000   0.0  \n",
       "2  0.215892  0.050661   0.0  \n",
       "3  0.000000  0.000000   0.0  \n",
       "4  0.000000  0.000000   0.0  \n",
       "\n",
       "[5 rows x 2048 columns]"
      ]
     },
     "execution_count": 5,
     "metadata": {},
     "output_type": "execute_result"
    }
   ],
   "source": [
    "visual_f.head()"
   ]
  },
  {
   "cell_type": "code",
   "execution_count": 6,
   "metadata": {},
   "outputs": [],
   "source": [
    "data_f_gen = data_f.loc[data_f['fakeness']==False]\n",
    "data_f_fake = data_f.loc[data_f['fakeness']==True]\n",
    "data_f_gen_12 = data_f_gen.loc[data_f_gen['sig_id'].isin(np.arange(1,13))]\n",
    "data_f_gen_valid_12 = data_f_gen.loc[data_f_gen['sig_id'].isin(np.arange(13,25))]"
   ]
  },
  {
   "cell_type": "code",
   "execution_count": 60,
   "metadata": {},
   "outputs": [
    {
     "name": "stderr",
     "output_type": "stream",
     "text": [
      "\n",
      "\n",
      "\n",
      "\n",
      "  0%|                                                                                           | 0/50 [00:00<?, ?it/s]"
     ]
    },
    {
     "name": "stdout",
     "output_type": "stream",
     "text": [
      "gens avg: 1.0 fakes_avg: 0.13333333333333333 cumulative_avg: 0.5666666666666667\n"
     ]
    },
    {
     "name": "stderr",
     "output_type": "stream",
     "text": [
      "\n",
      "\n",
      "\n",
      "\n",
      "  2%|#6                                                                                 | 1/50 [00:01<01:18,  1.61s/it]"
     ]
    },
    {
     "name": "stdout",
     "output_type": "stream",
     "text": [
      "gens avg: 1.0 fakes_avg: 0.31666666666666665 cumulative_avg: 0.6583333333333333\n"
     ]
    },
    {
     "name": "stderr",
     "output_type": "stream",
     "text": [
      "\n",
      "\n",
      "\n",
      "\n",
      "  4%|###3                                                                               | 2/50 [00:03<01:17,  1.61s/it]"
     ]
    },
    {
     "name": "stdout",
     "output_type": "stream",
     "text": [
      "gens avg: 0.9444444444444445 fakes_avg: 0.5333333333333333 cumulative_avg: 0.7388888888888889\n"
     ]
    },
    {
     "name": "stderr",
     "output_type": "stream",
     "text": [
      "\n",
      "\n",
      "\n",
      "\n",
      "  6%|####9                                                                              | 3/50 [00:04<01:14,  1.59s/it]"
     ]
    },
    {
     "name": "stdout",
     "output_type": "stream",
     "text": [
      "gens avg: 0.8541666666666667 fakes_avg: 0.65 cumulative_avg: 0.7520833333333334\n"
     ]
    },
    {
     "name": "stderr",
     "output_type": "stream",
     "text": [
      "\n",
      "\n",
      "\n",
      "\n",
      "  8%|######6                                                                            | 4/50 [00:06<01:12,  1.58s/it]"
     ]
    },
    {
     "name": "stdout",
     "output_type": "stream",
     "text": [
      "gens avg: 0.85 fakes_avg: 0.72 cumulative_avg: 0.7849999999999999\n"
     ]
    },
    {
     "name": "stderr",
     "output_type": "stream",
     "text": [
      "\n",
      "\n",
      "\n",
      "\n",
      " 10%|########3                                                                          | 5/50 [00:07<01:10,  1.58s/it]"
     ]
    },
    {
     "name": "stdout",
     "output_type": "stream",
     "text": [
      "gens avg: 0.875 fakes_avg: 0.6555555555555556 cumulative_avg: 0.7652777777777777\n"
     ]
    },
    {
     "name": "stderr",
     "output_type": "stream",
     "text": [
      "\n",
      "\n",
      "\n",
      "\n",
      " 12%|#########9                                                                         | 6/50 [00:09<01:09,  1.58s/it]"
     ]
    },
    {
     "name": "stdout",
     "output_type": "stream",
     "text": [
      "gens avg: 0.880952380952381 fakes_avg: 0.6 cumulative_avg: 0.7404761904761905\n"
     ]
    },
    {
     "name": "stderr",
     "output_type": "stream",
     "text": [
      "\n",
      "\n",
      "\n",
      "\n",
      " 14%|###########6                                                                       | 7/50 [00:11<01:07,  1.57s/it]"
     ]
    },
    {
     "name": "stdout",
     "output_type": "stream",
     "text": [
      "gens avg: 0.8958333333333334 fakes_avg: 0.6458333333333334 cumulative_avg: 0.7708333333333334\n"
     ]
    },
    {
     "name": "stderr",
     "output_type": "stream",
     "text": [
      "\n",
      "\n",
      "\n",
      "\n",
      " 16%|#############2                                                                     | 8/50 [00:12<01:05,  1.55s/it]"
     ]
    },
    {
     "name": "stdout",
     "output_type": "stream",
     "text": [
      "gens avg: 0.8611111111111112 fakes_avg: 0.6037037037037037 cumulative_avg: 0.7324074074074074\n"
     ]
    },
    {
     "name": "stderr",
     "output_type": "stream",
     "text": [
      "\n",
      "\n",
      "\n",
      "\n",
      " 18%|##############9                                                                    | 9/50 [00:14<01:03,  1.56s/it]"
     ]
    },
    {
     "name": "stdout",
     "output_type": "stream",
     "text": [
      "gens avg: 0.875 fakes_avg: 0.6333333333333334 cumulative_avg: 0.7541666666666667\n"
     ]
    },
    {
     "name": "stderr",
     "output_type": "stream",
     "text": [
      "\n",
      "\n",
      "\n",
      "\n",
      " 20%|################4                                                                 | 10/50 [00:15<01:03,  1.59s/it]"
     ]
    },
    {
     "name": "stdout",
     "output_type": "stream",
     "text": [
      "gens avg: 0.8787878787878788 fakes_avg: 0.6424242424242425 cumulative_avg: 0.7606060606060606\n"
     ]
    },
    {
     "name": "stderr",
     "output_type": "stream",
     "text": [
      "\n",
      "\n",
      "\n",
      "\n",
      " 22%|##################                                                                | 11/50 [00:17<01:04,  1.65s/it]"
     ]
    },
    {
     "name": "stdout",
     "output_type": "stream",
     "text": [
      "gens avg: 0.8333333333333334 fakes_avg: 0.6527777777777778 cumulative_avg: 0.7430555555555556\n"
     ]
    },
    {
     "name": "stderr",
     "output_type": "stream",
     "text": [
      "\n",
      "\n",
      "\n",
      "\n",
      " 24%|###################6                                                              | 12/50 [00:19<01:03,  1.68s/it]"
     ]
    },
    {
     "name": "stdout",
     "output_type": "stream",
     "text": [
      "gens avg: 0.8205128205128205 fakes_avg: 0.6205128205128205 cumulative_avg: 0.7205128205128205\n"
     ]
    },
    {
     "name": "stderr",
     "output_type": "stream",
     "text": [
      "\n",
      "\n",
      "\n",
      "\n",
      " 26%|#####################3                                                            | 13/50 [00:21<01:03,  1.72s/it]"
     ]
    },
    {
     "name": "stdout",
     "output_type": "stream",
     "text": [
      "gens avg: 0.8273809523809523 fakes_avg: 0.6476190476190476 cumulative_avg: 0.7375\n"
     ]
    },
    {
     "name": "stderr",
     "output_type": "stream",
     "text": [
      "\n",
      "\n",
      "\n",
      "\n",
      " 28%|######################9                                                           | 14/50 [00:23<01:05,  1.82s/it]"
     ]
    },
    {
     "name": "stdout",
     "output_type": "stream",
     "text": [
      "gens avg: 0.8388888888888888 fakes_avg: 0.6666666666666666 cumulative_avg: 0.7527777777777778\n"
     ]
    },
    {
     "name": "stderr",
     "output_type": "stream",
     "text": [
      "\n",
      "\n",
      "\n",
      "\n",
      " 30%|########################5                                                         | 15/50 [00:25<01:04,  1.85s/it]"
     ]
    },
    {
     "name": "stdout",
     "output_type": "stream",
     "text": [
      "gens avg: 0.8124999999999999 fakes_avg: 0.6833333333333333 cumulative_avg: 0.7479166666666666\n"
     ]
    },
    {
     "name": "stderr",
     "output_type": "stream",
     "text": [
      "\n",
      "\n",
      "\n",
      "\n",
      " 32%|##########################2                                                       | 16/50 [00:27<01:04,  1.88s/it]"
     ]
    },
    {
     "name": "stdout",
     "output_type": "stream",
     "text": [
      "gens avg: 0.818627450980392 fakes_avg: 0.7000000000000001 cumulative_avg: 0.759313725490196\n"
     ]
    },
    {
     "name": "stderr",
     "output_type": "stream",
     "text": [
      "\n",
      "\n",
      "\n",
      "\n",
      " 34%|###########################8                                                      | 17/50 [00:28<01:02,  1.90s/it]"
     ]
    },
    {
     "name": "stdout",
     "output_type": "stream",
     "text": [
      "gens avg: 0.8287037037037036 fakes_avg: 0.6796296296296297 cumulative_avg: 0.7541666666666667\n"
     ]
    },
    {
     "name": "stderr",
     "output_type": "stream",
     "text": [
      "\n",
      "\n",
      "\n",
      "\n",
      " 36%|#############################5                                                    | 18/50 [00:30<00:59,  1.87s/it]"
     ]
    },
    {
     "name": "stdout",
     "output_type": "stream",
     "text": [
      "gens avg: 0.8377192982456139 fakes_avg: 0.6929824561403509 cumulative_avg: 0.7653508771929824\n"
     ]
    },
    {
     "name": "stderr",
     "output_type": "stream",
     "text": [
      "\n",
      "\n",
      "\n",
      "\n",
      " 38%|###############################1                                                  | 19/50 [00:32<00:57,  1.86s/it]"
     ]
    },
    {
     "name": "stdout",
     "output_type": "stream",
     "text": [
      "gens avg: 0.8124999999999998 fakes_avg: 0.7066666666666668 cumulative_avg: 0.7595833333333333\n"
     ]
    },
    {
     "name": "stderr",
     "output_type": "stream",
     "text": [
      "\n",
      "\n",
      "\n",
      "\n",
      " 40%|################################8                                                 | 20/50 [00:34<00:56,  1.87s/it]"
     ]
    },
    {
     "name": "stdout",
     "output_type": "stream",
     "text": [
      "gens avg: 0.8134920634920633 fakes_avg: 0.715873015873016 cumulative_avg: 0.7646825396825396\n"
     ]
    },
    {
     "name": "stderr",
     "output_type": "stream",
     "text": [
      "\n",
      "\n",
      "\n",
      "\n",
      " 42%|##################################4                                               | 21/50 [00:36<00:53,  1.85s/it]"
     ]
    },
    {
     "name": "stdout",
     "output_type": "stream",
     "text": [
      "gens avg: 0.8219696969696968 fakes_avg: 0.7181818181818183 cumulative_avg: 0.7700757575757575\n"
     ]
    },
    {
     "name": "stderr",
     "output_type": "stream",
     "text": [
      "\n",
      "\n",
      "\n",
      "\n",
      " 44%|####################################                                              | 22/50 [00:38<00:51,  1.85s/it]"
     ]
    },
    {
     "name": "stdout",
     "output_type": "stream",
     "text": [
      "gens avg: 0.8224637681159418 fakes_avg: 0.7246376811594203 cumulative_avg: 0.773550724637681\n"
     ]
    },
    {
     "name": "stderr",
     "output_type": "stream",
     "text": [
      "\n",
      "\n",
      "\n",
      "\n",
      " 46%|#####################################7                                            | 23/50 [00:40<00:50,  1.86s/it]"
     ]
    },
    {
     "name": "stdout",
     "output_type": "stream",
     "text": [
      "gens avg: 0.8298611111111108 fakes_avg: 0.7361111111111112 cumulative_avg: 0.7829861111111109\n"
     ]
    },
    {
     "name": "stderr",
     "output_type": "stream",
     "text": [
      "\n",
      "\n",
      "\n",
      "\n",
      " 48%|#######################################3                                          | 24/50 [00:41<00:47,  1.84s/it]"
     ]
    },
    {
     "name": "stdout",
     "output_type": "stream",
     "text": [
      "gens avg: 0.8233333333333331 fakes_avg: 0.7120000000000001 cumulative_avg: 0.7676666666666666\n"
     ]
    },
    {
     "name": "stderr",
     "output_type": "stream",
     "text": [
      "\n",
      "\n",
      "\n",
      "\n",
      " 50%|#########################################                                         | 25/50 [00:43<00:45,  1.82s/it]"
     ]
    },
    {
     "name": "stdout",
     "output_type": "stream",
     "text": [
      "gens avg: 0.830128205128205 fakes_avg: 0.7230769230769231 cumulative_avg: 0.776602564102564\n"
     ]
    },
    {
     "name": "stderr",
     "output_type": "stream",
     "text": [
      "\n",
      "\n",
      "\n",
      "\n",
      " 52%|##########################################6                                       | 26/50 [00:45<00:42,  1.79s/it]"
     ]
    },
    {
     "name": "stdout",
     "output_type": "stream",
     "text": [
      "gens avg: 0.8364197530864196 fakes_avg: 0.7333333333333334 cumulative_avg: 0.7848765432098765\n"
     ]
    },
    {
     "name": "stderr",
     "output_type": "stream",
     "text": [
      "\n",
      "\n",
      "\n",
      "\n",
      " 54%|############################################2                                     | 27/50 [00:46<00:40,  1.74s/it]"
     ]
    },
    {
     "name": "stdout",
     "output_type": "stream",
     "text": [
      "gens avg: 0.8392857142857142 fakes_avg: 0.7178571428571429 cumulative_avg: 0.7785714285714285\n"
     ]
    },
    {
     "name": "stderr",
     "output_type": "stream",
     "text": [
      "\n",
      "\n",
      "\n",
      "\n",
      " 56%|#############################################9                                    | 28/50 [00:48<00:36,  1.67s/it]"
     ]
    },
    {
     "name": "stdout",
     "output_type": "stream",
     "text": [
      "gens avg: 0.8448275862068965 fakes_avg: 0.6988505747126438 cumulative_avg: 0.7718390804597701\n"
     ]
    },
    {
     "name": "stderr",
     "output_type": "stream",
     "text": [
      "\n",
      "\n",
      "\n",
      "\n",
      " 58%|###############################################5                                  | 29/50 [00:49<00:34,  1.63s/it]"
     ]
    },
    {
     "name": "stdout",
     "output_type": "stream",
     "text": [
      "gens avg: 0.8444444444444443 fakes_avg: 0.7077777777777778 cumulative_avg: 0.7761111111111111\n"
     ]
    },
    {
     "name": "stderr",
     "output_type": "stream",
     "text": [
      "\n",
      "\n",
      "\n",
      "\n",
      " 60%|#################################################1                                | 30/50 [00:51<00:32,  1.63s/it]"
     ]
    },
    {
     "name": "stdout",
     "output_type": "stream",
     "text": [
      "gens avg: 0.8494623655913977 fakes_avg: 0.7118279569892473 cumulative_avg: 0.7806451612903225\n"
     ]
    },
    {
     "name": "stderr",
     "output_type": "stream",
     "text": [
      "\n",
      "\n",
      "\n",
      "\n",
      " 62%|##################################################8                               | 31/50 [00:53<00:30,  1.58s/it]"
     ]
    },
    {
     "name": "stdout",
     "output_type": "stream",
     "text": [
      "gens avg: 0.8515624999999999 fakes_avg: 0.7208333333333333 cumulative_avg: 0.7861979166666666\n"
     ]
    },
    {
     "name": "stderr",
     "output_type": "stream",
     "text": [
      "\n",
      "\n",
      "\n",
      "\n",
      " 64%|####################################################4                             | 32/50 [00:54<00:28,  1.57s/it]"
     ]
    },
    {
     "name": "stdout",
     "output_type": "stream",
     "text": [
      "gens avg: 0.8510101010101009 fakes_avg: 0.709090909090909 cumulative_avg: 0.7800505050505049\n"
     ]
    },
    {
     "name": "stderr",
     "output_type": "stream",
     "text": [
      "\n",
      "\n",
      "\n",
      "\n",
      " 66%|######################################################1                           | 33/50 [00:56<00:26,  1.57s/it]"
     ]
    },
    {
     "name": "stdout",
     "output_type": "stream",
     "text": [
      "gens avg: 0.855392156862745 fakes_avg: 0.7019607843137254 cumulative_avg: 0.7786764705882352\n"
     ]
    },
    {
     "name": "stderr",
     "output_type": "stream",
     "text": [
      "\n",
      "\n",
      "\n",
      "\n",
      " 68%|#######################################################7                          | 34/50 [00:57<00:24,  1.55s/it]"
     ]
    },
    {
     "name": "stdout",
     "output_type": "stream",
     "text": [
      "gens avg: 0.8571428571428571 fakes_avg: 0.7076190476190475 cumulative_avg: 0.7823809523809523\n"
     ]
    },
    {
     "name": "stderr",
     "output_type": "stream",
     "text": [
      "\n",
      "\n",
      "\n",
      "\n",
      " 70%|#########################################################4                        | 35/50 [00:59<00:23,  1.55s/it]"
     ]
    },
    {
     "name": "stdout",
     "output_type": "stream",
     "text": [
      "gens avg: 0.8449074074074073 fakes_avg: 0.7111111111111109 cumulative_avg: 0.7780092592592591\n"
     ]
    },
    {
     "name": "stderr",
     "output_type": "stream",
     "text": [
      "\n",
      "\n",
      "\n",
      "\n",
      " 72%|###########################################################                       | 36/50 [01:00<00:21,  1.56s/it]"
     ]
    },
    {
     "name": "stdout",
     "output_type": "stream",
     "text": [
      "gens avg: 0.8468468468468469 fakes_avg: 0.7180180180180178 cumulative_avg: 0.7824324324324323\n"
     ]
    },
    {
     "name": "stderr",
     "output_type": "stream",
     "text": [
      "\n",
      "\n",
      "\n",
      "\n",
      " 74%|############################################################6                     | 37/50 [01:02<00:20,  1.55s/it]"
     ]
    },
    {
     "name": "stdout",
     "output_type": "stream",
     "text": [
      "gens avg: 0.8486842105263158 fakes_avg: 0.7228070175438595 cumulative_avg: 0.7857456140350876\n"
     ]
    },
    {
     "name": "stderr",
     "output_type": "stream",
     "text": [
      "\n",
      "\n",
      "\n",
      "\n",
      " 76%|##############################################################3                   | 38/50 [01:03<00:18,  1.52s/it]"
     ]
    },
    {
     "name": "stdout",
     "output_type": "stream",
     "text": [
      "gens avg: 0.8482905982905984 fakes_avg: 0.7247863247863245 cumulative_avg: 0.7865384615384614\n"
     ]
    },
    {
     "name": "stderr",
     "output_type": "stream",
     "text": [
      "\n",
      "\n",
      "\n",
      "\n",
      " 78%|###############################################################9                  | 39/50 [01:05<00:16,  1.53s/it]"
     ]
    },
    {
     "name": "stdout",
     "output_type": "stream",
     "text": [
      "gens avg: 0.8333333333333334 fakes_avg: 0.7291666666666664 cumulative_avg: 0.7812499999999999\n"
     ]
    },
    {
     "name": "stderr",
     "output_type": "stream",
     "text": [
      "\n",
      "\n",
      "\n",
      "\n",
      " 80%|#################################################################6                | 40/50 [01:07<00:15,  1.56s/it]"
     ]
    },
    {
     "name": "stdout",
     "output_type": "stream",
     "text": [
      "gens avg: 0.8353658536585366 fakes_avg: 0.735772357723577 cumulative_avg: 0.7855691056910568\n"
     ]
    },
    {
     "name": "stderr",
     "output_type": "stream",
     "text": [
      "\n",
      "\n",
      "\n",
      "\n",
      " 82%|###################################################################2              | 41/50 [01:08<00:14,  1.59s/it]"
     ]
    },
    {
     "name": "stdout",
     "output_type": "stream",
     "text": [
      "gens avg: 0.8353174603174603 fakes_avg: 0.7349206349206346 cumulative_avg: 0.7851190476190475\n"
     ]
    },
    {
     "name": "stderr",
     "output_type": "stream",
     "text": [
      "\n",
      "\n",
      "\n",
      "\n",
      " 84%|####################################################################8             | 42/50 [01:10<00:13,  1.66s/it]"
     ]
    },
    {
     "name": "stdout",
     "output_type": "stream",
     "text": [
      "gens avg: 0.8352713178294575 fakes_avg: 0.7379844961240308 cumulative_avg: 0.7866279069767441\n"
     ]
    },
    {
     "name": "stderr",
     "output_type": "stream",
     "text": [
      "\n",
      "\n",
      "\n",
      "\n",
      " 86%|######################################################################5           | 43/50 [01:12<00:11,  1.65s/it]"
     ]
    },
    {
     "name": "stdout",
     "output_type": "stream",
     "text": [
      "gens avg: 0.831439393939394 fakes_avg: 0.7424242424242422 cumulative_avg: 0.7869318181818181\n"
     ]
    },
    {
     "name": "stderr",
     "output_type": "stream",
     "text": [
      "\n",
      "\n",
      "\n",
      "\n",
      " 88%|########################################################################1         | 44/50 [01:13<00:09,  1.64s/it]"
     ]
    },
    {
     "name": "stdout",
     "output_type": "stream",
     "text": [
      "gens avg: 0.8277777777777777 fakes_avg: 0.7385185185185184 cumulative_avg: 0.783148148148148\n"
     ]
    },
    {
     "name": "stderr",
     "output_type": "stream",
     "text": [
      "\n",
      "\n",
      "\n",
      "\n",
      " 90%|#########################################################################8        | 45/50 [01:15<00:08,  1.61s/it]"
     ]
    },
    {
     "name": "stdout",
     "output_type": "stream",
     "text": [
      "gens avg: 0.8315217391304348 fakes_avg: 0.7427536231884055 cumulative_avg: 0.7871376811594202\n"
     ]
    },
    {
     "name": "stderr",
     "output_type": "stream",
     "text": [
      "\n",
      "\n",
      "\n",
      "\n",
      " 92%|###########################################################################4      | 46/50 [01:16<00:06,  1.60s/it]"
     ]
    },
    {
     "name": "stdout",
     "output_type": "stream",
     "text": [
      "gens avg: 0.8280141843971631 fakes_avg: 0.7453900709219856 cumulative_avg: 0.7867021276595744\n"
     ]
    },
    {
     "name": "stderr",
     "output_type": "stream",
     "text": [
      "\n",
      "\n",
      "\n",
      "\n",
      " 94%|#############################################################################     | 47/50 [01:18<00:04,  1.60s/it]"
     ]
    },
    {
     "name": "stdout",
     "output_type": "stream",
     "text": [
      "gens avg: 0.8211805555555555 fakes_avg: 0.7506944444444442 cumulative_avg: 0.7859374999999998\n"
     ]
    },
    {
     "name": "stderr",
     "output_type": "stream",
     "text": [
      "\n",
      "\n",
      "\n",
      "\n",
      " 96%|##############################################################################7   | 48/50 [01:20<00:03,  1.60s/it]"
     ]
    },
    {
     "name": "stdout",
     "output_type": "stream",
     "text": [
      "gens avg: 0.8231292517006802 fakes_avg: 0.7544217687074828 cumulative_avg: 0.7887755102040814\n"
     ]
    },
    {
     "name": "stderr",
     "output_type": "stream",
     "text": [
      "\n",
      "\n",
      "\n",
      "\n",
      " 98%|################################################################################3 | 49/50 [01:21<00:01,  1.58s/it]"
     ]
    },
    {
     "name": "stdout",
     "output_type": "stream",
     "text": [
      "gens avg: 0.8216666666666665 fakes_avg: 0.7586666666666665 cumulative_avg: 0.7901666666666665\n"
     ]
    },
    {
     "name": "stderr",
     "output_type": "stream",
     "text": [
      "\n",
      "\n",
      "\n",
      "\n",
      "100%|##################################################################################| 50/50 [01:23<00:00,  1.55s/it]"
     ]
    },
    {
     "name": "stdout",
     "output_type": "stream",
     "text": [
      "0.7901666666666667\n",
      "gens avg: 0.8216666666666665 fakes_avg: 0.7586666666666665 cumulative_avg: 0.7901666666666665\n"
     ]
    }
   ],
   "source": [
    "scores_sum = 0\n",
    "run_count = 0\n",
    "gens_sum = 0\n",
    "gens_r_count = 0\n",
    "fakes_sum = 0\n",
    "fakes_r_count = 0\n",
    "randoms_sum = 0\n",
    "randoms_r_count = 0\n",
    "for user_id in tqdm.tqdm(data_f['user_id'].unique(), ascii=True):\n",
    "    y_train = data_f_gen_12['user_id']==user_id\n",
    "    X_train = visual_f.loc[y_train.index]\n",
    "    class_weight = (data_f_gen_12.shape[0]-data_f_gen_12[y_train].shape[0])/data_f_gen_12[y_train].shape[0]\n",
    "    clf = XGBClassifier(tree_method='gpu_hist',verbosity=2, scale_pos_weight=50*float(class_weight), objective='reg:logistic')\n",
    "    # clf = SVC(class_weight='balanced',gamma='scale') # gens avg: 0.8593333333333333 fakes_avg: 0.9433333333333331 randoms_avg: 1.0 cumulative_avg: 0.9342222222222221\n",
    "    clf.fit(X_train, y_train)\n",
    "    y_valid_fakes = data_f_fake.loc[data_f_fake['user_id']==user_id]\n",
    "    y_valid_f = len(y_valid_fakes.index)*[False]\n",
    "    X_valid_f = visual_f.loc[y_valid_fakes.index]\n",
    "    score = clf.score(X_valid_f,y_valid_f)\n",
    "    fakes_sum += score\n",
    "    fakes_r_count += 1 \n",
    "    # print(score)\n",
    "    scores_sum += score\n",
    "    run_count += 1\n",
    "    y_valid_gens = data_f_gen_valid_12.loc[data_f_gen_valid_12['user_id']==user_id]\n",
    "    y_valid_g = len(y_valid_gens.index)*[True]\n",
    "    X_valid_g = visual_f.loc[y_valid_gens.index]\n",
    "    score = clf.score(X_valid_g,y_valid_g)\n",
    "    gens_sum += score\n",
    "    gens_r_count += 1 \n",
    "    # print(score)\n",
    "    scores_sum += score\n",
    "    run_count += 1\n",
    "    '''\n",
    "    y_valid_rand_fakes = data_f_gen_valid_12.loc[choice(data_f_gen_valid_12.loc[data_f_gen_valid_12['user_id']!=user_id].index,10)]\n",
    "    y_valid_rf = len(y_valid_rand_fakes.index)*[False]\n",
    "    X_valid_rf = visual_f.loc[y_valid_rand_fakes.index]\n",
    "    score = clf.score(X_valid_rf,y_valid_rf)\n",
    "    randoms_sum += score\n",
    "    randoms_r_count += 1 \n",
    "    # print(score)\n",
    "    scores_sum += score\n",
    "    run_count += 1\n",
    "    # print(scores_sum/run_count)\n",
    "    '''\n",
    "    print (\"gens avg:\", float(gens_sum)/gens_r_count, \"fakes_avg:\", float(fakes_sum)/fakes_r_count, \n",
    "        \"cumulative_avg:\", (float(gens_sum)/gens_r_count)/2+ \n",
    "        (float(fakes_sum)/fakes_r_count)/2)\n",
    "print(scores_sum/run_count)\n",
    "print(\"gens avg:\", float(gens_sum)/gens_r_count, \"fakes_avg:\", float(fakes_sum)/fakes_r_count, \n",
    "    \"cumulative_avg:\", (float(gens_sum)/gens_r_count)/2+ \n",
    "    (float(fakes_sum)/fakes_r_count)/2)"
   ]
  },
  {
   "cell_type": "code",
   "execution_count": 50,
   "metadata": {},
   "outputs": [
    {
     "data": {
      "text/plain": [
       "array([False,  True,  True,  True, False, False, False,  True, False,\n",
       "        True,  True,  True,  True,  True,  True, False, False, False,\n",
       "        True, False,  True, False, False, False,  True, False, False,\n",
       "       False,  True,  True])"
      ]
     },
     "execution_count": 50,
     "metadata": {},
     "output_type": "execute_result"
    }
   ],
   "source": [
    "clf.predict(X_valid_f)"
   ]
  },
  {
   "cell_type": "code",
   "execution_count": 58,
   "metadata": {},
   "outputs": [
    {
     "data": {
      "text/plain": [
       "[False,\n",
       " True,\n",
       " True,\n",
       " True,\n",
       " False,\n",
       " False,\n",
       " False,\n",
       " True,\n",
       " False,\n",
       " True,\n",
       " True,\n",
       " True,\n",
       " True,\n",
       " True,\n",
       " True,\n",
       " False,\n",
       " False,\n",
       " False,\n",
       " True,\n",
       " False,\n",
       " True,\n",
       " False,\n",
       " False,\n",
       " False,\n",
       " True,\n",
       " False,\n",
       " False,\n",
       " False,\n",
       " True,\n",
       " True]"
      ]
     },
     "execution_count": 58,
     "metadata": {},
     "output_type": "execute_result"
    }
   ],
   "source": [
    "list(map(bool,np.argmax(clf.predict_proba(X_valid_f), axis=1)))"
   ]
  }
 ],
 "metadata": {
  "kernelspec": {
   "display_name": "Python 3",
   "language": "python",
   "name": "python3"
  },
  "language_info": {
   "codemirror_mode": {
    "name": "ipython",
    "version": 3
   },
   "file_extension": ".py",
   "mimetype": "text/x-python",
   "name": "python",
   "nbconvert_exporter": "python",
   "pygments_lexer": "ipython3",
   "version": "3.7.3"
  }
 },
 "nbformat": 4,
 "nbformat_minor": 2
}
