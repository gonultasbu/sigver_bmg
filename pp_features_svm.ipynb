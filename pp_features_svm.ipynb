{
 "cells": [
  {
   "cell_type": "code",
   "execution_count": 1,
   "metadata": {
    "scrolled": true
   },
   "outputs": [
    {
     "name": "stderr",
     "output_type": "stream",
     "text": [
      "c:\\users\\mert\\anaconda3\\envs\\ml_env\\lib\\site-packages\\dask\\config.py:168: YAMLLoadWarning: calling yaml.load() without Loader=... is deprecated, as the default Loader is unsafe. Please read https://msg.pyyaml.org/load for full details.\n",
      "  data = yaml.load(f.read()) or {}\n"
     ]
    }
   ],
   "source": [
    "import scipy.io as sio\n",
    "from scipy.misc import imread\n",
    "from preprocess.normalize import preprocess_signature\n",
    "import tf_signet\n",
    "from tf_cnn_model import TF_CNNModel\n",
    "import tensorflow as tf\n",
    "import numpy as np\n",
    "import pandas as pd\n",
    "import sys\n",
    "import os\n",
    "import scipy.io\n",
    "from find_largest_image import find_largest\n",
    "import tqdm \n",
    "from sklearn.model_selection import train_test_split\n",
    "from sklearn.svm import SVC\n",
    "from xgboost import XGBClassifier\n",
    "import random\n",
    "from numpy.random import choice"
   ]
  },
  {
   "cell_type": "code",
   "execution_count": 2,
   "metadata": {},
   "outputs": [],
   "source": [
    "data_folder = 'C:\\\\Users\\\\Mert\\\\Documents\\\\GitHub\\\\sigver_bmg\\\\data\\\\downloaded_pp_features\\\\gpds_signet\\\\exploitation'"
   ]
  },
  {
   "cell_type": "code",
   "execution_count": 3,
   "metadata": {},
   "outputs": [],
   "source": [
    "data_f = pd.DataFrame(columns=['user_id','sig_id','fakeness'])\n",
    "visual_f = pd.DataFrame()"
   ]
  },
  {
   "cell_type": "code",
   "execution_count": 4,
   "metadata": {
    "scrolled": false
   },
   "outputs": [],
   "source": [
    "datalist = os.listdir(data_folder)"
   ]
  },
  {
   "cell_type": "code",
   "execution_count": 5,
   "metadata": {},
   "outputs": [
    {
     "name": "stderr",
     "output_type": "stream",
     "text": [
      "100%|████████████████████████████████████████████████████████████████████████████████| 602/602 [09:04<00:00,  1.11it/s]\n"
     ]
    }
   ],
   "source": [
    "for data in tqdm.tqdm(datalist):\n",
    "    if not(data.endswith('.mat')): continue\n",
    "    if (data.split('.')[0].split('_')[0] == 'forg'): fakeness = True\n",
    "    else: fakeness = False\n",
    "    user_id = int(data.split('.')[0].split('_')[-1])\n",
    "    matfile = sio.loadmat(os.path.join(data_folder, data))\n",
    "    for row in range(matfile['features'].shape[0]):\n",
    "        data_f = data_f.append(pd.DataFrame([[user_id, int(row+1), fakeness]], columns=['user_id', 'sig_id', 'fakeness']))\n",
    "        visual_f = visual_f.append(pd.DataFrame(np.expand_dims(matfile['features'][row], 1).T))"
   ]
  },
  {
   "cell_type": "code",
   "execution_count": 6,
   "metadata": {},
   "outputs": [],
   "source": [
    "data_f = data_f.reset_index().drop(columns=['index'])\n",
    "visual_f = visual_f.reset_index().drop(columns=['index'])"
   ]
  },
  {
   "cell_type": "code",
   "execution_count": 7,
   "metadata": {},
   "outputs": [
    {
     "data": {
      "text/plain": [
       "(16105, 2048)"
      ]
     },
     "execution_count": 7,
     "metadata": {},
     "output_type": "execute_result"
    }
   ],
   "source": [
    "visual_f.shape"
   ]
  },
  {
   "cell_type": "code",
   "execution_count": 8,
   "metadata": {},
   "outputs": [
    {
     "data": {
      "text/plain": [
       "(16105, 3)"
      ]
     },
     "execution_count": 8,
     "metadata": {},
     "output_type": "execute_result"
    }
   ],
   "source": [
    "data_f.shape"
   ]
  },
  {
   "cell_type": "code",
   "execution_count": 9,
   "metadata": {},
   "outputs": [],
   "source": [
    "data_f.to_csv(os.path.join(data_folder,'data_features.csv'), index=False)\n",
    "visual_f.to_csv(os.path.join(data_folder,'visual_features.csv'), index=False)"
   ]
  },
  {
   "cell_type": "code",
   "execution_count": 10,
   "metadata": {},
   "outputs": [],
   "source": [
    "# data_f.loc[data_f['fakeness']==False]"
   ]
  },
  {
   "cell_type": "code",
   "execution_count": 11,
   "metadata": {},
   "outputs": [],
   "source": [
    "data_f_gen = data_f.loc[data_f['fakeness']==False]\n",
    "data_f_fake = data_f.loc[data_f['fakeness']==True]\n",
    "data_f_gen_14 = data_f_gen.loc[data_f_gen['sig_id'].isin(np.arange(1,15))]\n",
    "data_f_gen_valid_10 = data_f_gen.loc[data_f_gen['sig_id'].isin(np.arange(15,25))]"
   ]
  },
  {
   "cell_type": "code",
   "execution_count": 13,
   "metadata": {},
   "outputs": [
    {
     "name": "stderr",
     "output_type": "stream",
     "text": [
      "100%|################################################################################| 300/300 [09:09<00:00,  1.59s/it]\n"
     ]
    },
    {
     "name": "stdout",
     "output_type": "stream",
     "text": [
      "0.9647001235035702\n"
     ]
    }
   ],
   "source": [
    "scores_sum = 0\n",
    "run_count = 0\n",
    "for user_id in tqdm.tqdm(data_f['user_id'].unique(), ascii=True):\n",
    "    y_train = data_f_gen['user_id']==user_id\n",
    "    X_train = visual_f.loc[y_train.index]\n",
    "    # clf = XGBClassifier(tree_method='gpu_hist',verbosity=2,predictor='gpu_predictor', scale_pos_weight=8946/14)\n",
    "    clf = SVC(class_weight='balanced', gamma='scale')\n",
    "    clf.fit(X_train, y_train)\n",
    "    y_valid_fakes = data_f_fake.loc[data_f_fake['user_id']==user_id]\n",
    "    y_valid = len(y_valid_fakes.index)*[False]\n",
    "    X_valid = visual_f.loc[y_valid_fakes.index]\n",
    "    score = clf.score(X_valid,y_valid)\n",
    "    # print(score)\n",
    "    scores_sum += score\n",
    "    run_count += 1\n",
    "    y_valid_gens = data_f_gen_valid_10.loc[data_f_gen_valid_10['user_id']==user_id]\n",
    "    y_valid = len(y_valid_gens.index)*[True]\n",
    "    X_valid = visual_f.loc[y_valid_gens.index]\n",
    "    score = clf.score(X_valid,y_valid)\n",
    "    # print(score)\n",
    "    scores_sum += score\n",
    "    run_count += 1\n",
    "    y_valid_rand_fakes = data_f_gen_14.loc[choice(data_f_gen_14.loc[data_f_gen_14['user_id']!=3].index,10)]\n",
    "    y_valid = len(y_valid_rand_fakes.index)*[False]\n",
    "    X_valid = visual_f.loc[y_valid_rand_fakes.index]\n",
    "    score = clf.score(X_valid,y_valid)\n",
    "    # print(score)\n",
    "    scores_sum += score\n",
    "    run_count += 1\n",
    "    # print(scores_sum/run_count)\n",
    "print(scores_sum/run_count)"
   ]
  },
  {
   "cell_type": "code",
   "execution_count": 14,
   "metadata": {},
   "outputs": [],
   "source": [
    "y_valid_fakes = data_f_fake.loc[data_f_fake['user_id']==user_id]\n",
    "y_valid = len(y_valid_fakes.index)*[False]\n",
    "X_valid = visual_f.loc[y_valid_fakes.index]"
   ]
  },
  {
   "cell_type": "code",
   "execution_count": 64,
   "metadata": {},
   "outputs": [
    {
     "data": {
      "text/plain": [
       "[False,\n",
       " False,\n",
       " False,\n",
       " False,\n",
       " False,\n",
       " False,\n",
       " False,\n",
       " False,\n",
       " False,\n",
       " False,\n",
       " False,\n",
       " False,\n",
       " False,\n",
       " False,\n",
       " False,\n",
       " False,\n",
       " False,\n",
       " False,\n",
       " False,\n",
       " False,\n",
       " False,\n",
       " False,\n",
       " False,\n",
       " False,\n",
       " False,\n",
       " False,\n",
       " False,\n",
       " False,\n",
       " False,\n",
       " False]"
      ]
     },
     "execution_count": 64,
     "metadata": {},
     "output_type": "execute_result"
    }
   ],
   "source": [
    "y_valid"
   ]
  }
 ],
 "metadata": {
  "kernelspec": {
   "display_name": "Python 3",
   "language": "python",
   "name": "python3"
  },
  "language_info": {
   "codemirror_mode": {
    "name": "ipython",
    "version": 3
   },
   "file_extension": ".py",
   "mimetype": "text/x-python",
   "name": "python",
   "nbconvert_exporter": "python",
   "pygments_lexer": "ipython3",
   "version": "3.6.8"
  }
 },
 "nbformat": 4,
 "nbformat_minor": 2
}
