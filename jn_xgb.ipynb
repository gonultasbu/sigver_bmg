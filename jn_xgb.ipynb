{
 "cells": [
  {
   "cell_type": "code",
   "execution_count": 1,
   "metadata": {},
   "outputs": [
    {
     "name": "stderr",
     "output_type": "stream",
     "text": [
      "c:\\users\\mert\\anaconda3\\envs\\ml_env\\lib\\site-packages\\dask\\config.py:168: YAMLLoadWarning: calling yaml.load() without Loader=... is deprecated, as the default Loader is unsafe. Please read https://msg.pyyaml.org/load for full details.\n",
      "  data = yaml.load(f.read()) or {}\n"
     ]
    }
   ],
   "source": [
    "from scipy.misc import imread\n",
    "from preprocess.normalize import preprocess_signature\n",
    "import tf_signet\n",
    "from tf_cnn_model import TF_CNNModel\n",
    "import tensorflow as tf\n",
    "import numpy as np\n",
    "import pandas as pd\n",
    "import sys\n",
    "import os\n",
    "import scipy.io\n",
    "from find_largest_image import find_largest\n",
    "import tqdm \n",
    "from sklearn.model_selection import train_test_split\n",
    "from sklearn.svm import SVC\n",
    "from xgboost import XGBClassifier\n",
    "# from lightgbm import LGBMClassifier"
   ]
  },
  {
   "cell_type": "code",
   "execution_count": 2,
   "metadata": {
    "scrolled": true
   },
   "outputs": [
    {
     "data": {
      "text/plain": [
       "['data_features.csv', 'firmasSINTESISmanuscritas', 'visual_features.csv']"
      ]
     },
     "execution_count": 2,
     "metadata": {},
     "output_type": "execute_result"
    }
   ],
   "source": [
    "os.listdir(os.path.join(os.getcwd(),'data','GPDSSyntheticSignatures4k'))"
   ]
  },
  {
   "cell_type": "code",
   "execution_count": 3,
   "metadata": {},
   "outputs": [],
   "source": [
    "data_f = pd.read_csv(os.path.join(os.getcwd(),'data','GPDSSyntheticSignatures4k','data_features.csv'))\n",
    "visual_f = pd.read_csv(os.path.join(os.getcwd(),'data','GPDSSyntheticSignatures4k','visual_features.csv'))"
   ]
  },
  {
   "cell_type": "code",
   "execution_count": 4,
   "metadata": {},
   "outputs": [
    {
     "data": {
      "text/html": [
       "<div>\n",
       "<style scoped>\n",
       "    .dataframe tbody tr th:only-of-type {\n",
       "        vertical-align: middle;\n",
       "    }\n",
       "\n",
       "    .dataframe tbody tr th {\n",
       "        vertical-align: top;\n",
       "    }\n",
       "\n",
       "    .dataframe thead th {\n",
       "        text-align: right;\n",
       "    }\n",
       "</style>\n",
       "<table border=\"1\" class=\"dataframe\">\n",
       "  <thead>\n",
       "    <tr style=\"text-align: right;\">\n",
       "      <th></th>\n",
       "      <th>path</th>\n",
       "      <th>user_id</th>\n",
       "      <th>sig_id</th>\n",
       "      <th>fakeness</th>\n",
       "    </tr>\n",
       "  </thead>\n",
       "  <tbody>\n",
       "    <tr>\n",
       "      <th>0</th>\n",
       "      <td>/home/mert/Desktop/sigver_dataset/GPDSSyntheti...</td>\n",
       "      <td>3131</td>\n",
       "      <td>29</td>\n",
       "      <td>True</td>\n",
       "    </tr>\n",
       "    <tr>\n",
       "      <th>1</th>\n",
       "      <td>/home/mert/Desktop/sigver_dataset/GPDSSyntheti...</td>\n",
       "      <td>3131</td>\n",
       "      <td>7</td>\n",
       "      <td>False</td>\n",
       "    </tr>\n",
       "    <tr>\n",
       "      <th>2</th>\n",
       "      <td>/home/mert/Desktop/sigver_dataset/GPDSSyntheti...</td>\n",
       "      <td>3131</td>\n",
       "      <td>4</td>\n",
       "      <td>False</td>\n",
       "    </tr>\n",
       "    <tr>\n",
       "      <th>3</th>\n",
       "      <td>/home/mert/Desktop/sigver_dataset/GPDSSyntheti...</td>\n",
       "      <td>3131</td>\n",
       "      <td>26</td>\n",
       "      <td>True</td>\n",
       "    </tr>\n",
       "    <tr>\n",
       "      <th>4</th>\n",
       "      <td>/home/mert/Desktop/sigver_dataset/GPDSSyntheti...</td>\n",
       "      <td>3131</td>\n",
       "      <td>17</td>\n",
       "      <td>False</td>\n",
       "    </tr>\n",
       "  </tbody>\n",
       "</table>\n",
       "</div>"
      ],
      "text/plain": [
       "                                                path  user_id  sig_id  \\\n",
       "0  /home/mert/Desktop/sigver_dataset/GPDSSyntheti...     3131      29   \n",
       "1  /home/mert/Desktop/sigver_dataset/GPDSSyntheti...     3131       7   \n",
       "2  /home/mert/Desktop/sigver_dataset/GPDSSyntheti...     3131       4   \n",
       "3  /home/mert/Desktop/sigver_dataset/GPDSSyntheti...     3131      26   \n",
       "4  /home/mert/Desktop/sigver_dataset/GPDSSyntheti...     3131      17   \n",
       "\n",
       "   fakeness  \n",
       "0      True  \n",
       "1     False  \n",
       "2     False  \n",
       "3      True  \n",
       "4     False  "
      ]
     },
     "execution_count": 4,
     "metadata": {},
     "output_type": "execute_result"
    }
   ],
   "source": [
    "data_f.columns = ['path','user_id','sig_id','fakeness']\n",
    "data_f.head()"
   ]
  },
  {
   "cell_type": "code",
   "execution_count": null,
   "metadata": {},
   "outputs": [
    {
     "data": {
      "text/html": [
       "<div>\n",
       "<style scoped>\n",
       "    .dataframe tbody tr th:only-of-type {\n",
       "        vertical-align: middle;\n",
       "    }\n",
       "\n",
       "    .dataframe tbody tr th {\n",
       "        vertical-align: top;\n",
       "    }\n",
       "\n",
       "    .dataframe thead th {\n",
       "        text-align: right;\n",
       "    }\n",
       "</style>\n",
       "<table border=\"1\" class=\"dataframe\">\n",
       "  <thead>\n",
       "    <tr style=\"text-align: right;\">\n",
       "      <th></th>\n",
       "      <th>0</th>\n",
       "      <th>1</th>\n",
       "      <th>2</th>\n",
       "      <th>3</th>\n",
       "      <th>4</th>\n",
       "      <th>5</th>\n",
       "      <th>6</th>\n",
       "      <th>7</th>\n",
       "      <th>8</th>\n",
       "      <th>9</th>\n",
       "      <th>...</th>\n",
       "      <th>2038</th>\n",
       "      <th>2039</th>\n",
       "      <th>2040</th>\n",
       "      <th>2041</th>\n",
       "      <th>2042</th>\n",
       "      <th>2043</th>\n",
       "      <th>2044</th>\n",
       "      <th>2045</th>\n",
       "      <th>2046</th>\n",
       "      <th>2047</th>\n",
       "    </tr>\n",
       "  </thead>\n",
       "  <tbody>\n",
       "    <tr>\n",
       "      <th>0</th>\n",
       "      <td>0.0</td>\n",
       "      <td>0.0</td>\n",
       "      <td>2.086571</td>\n",
       "      <td>1.046970</td>\n",
       "      <td>2.012711</td>\n",
       "      <td>0.0</td>\n",
       "      <td>1.471289</td>\n",
       "      <td>0.0</td>\n",
       "      <td>0.0</td>\n",
       "      <td>1.308222</td>\n",
       "      <td>...</td>\n",
       "      <td>0.000000</td>\n",
       "      <td>2.560242</td>\n",
       "      <td>0.000000</td>\n",
       "      <td>0.000000</td>\n",
       "      <td>1.761090</td>\n",
       "      <td>2.054384</td>\n",
       "      <td>0.0</td>\n",
       "      <td>0.0</td>\n",
       "      <td>1.875244</td>\n",
       "      <td>1.555655</td>\n",
       "    </tr>\n",
       "    <tr>\n",
       "      <th>1</th>\n",
       "      <td>0.0</td>\n",
       "      <td>0.0</td>\n",
       "      <td>1.909776</td>\n",
       "      <td>1.295273</td>\n",
       "      <td>0.983222</td>\n",
       "      <td>0.0</td>\n",
       "      <td>0.708483</td>\n",
       "      <td>0.0</td>\n",
       "      <td>0.0</td>\n",
       "      <td>0.912948</td>\n",
       "      <td>...</td>\n",
       "      <td>0.000000</td>\n",
       "      <td>2.821531</td>\n",
       "      <td>0.000000</td>\n",
       "      <td>1.145785</td>\n",
       "      <td>2.461549</td>\n",
       "      <td>1.759992</td>\n",
       "      <td>0.0</td>\n",
       "      <td>0.0</td>\n",
       "      <td>2.124749</td>\n",
       "      <td>1.689826</td>\n",
       "    </tr>\n",
       "    <tr>\n",
       "      <th>2</th>\n",
       "      <td>0.0</td>\n",
       "      <td>0.0</td>\n",
       "      <td>1.989003</td>\n",
       "      <td>1.175972</td>\n",
       "      <td>1.191586</td>\n",
       "      <td>0.0</td>\n",
       "      <td>1.047355</td>\n",
       "      <td>0.0</td>\n",
       "      <td>0.0</td>\n",
       "      <td>1.942684</td>\n",
       "      <td>...</td>\n",
       "      <td>0.000000</td>\n",
       "      <td>2.109819</td>\n",
       "      <td>0.017639</td>\n",
       "      <td>0.462309</td>\n",
       "      <td>2.615123</td>\n",
       "      <td>1.609518</td>\n",
       "      <td>0.0</td>\n",
       "      <td>0.0</td>\n",
       "      <td>2.022851</td>\n",
       "      <td>1.887849</td>\n",
       "    </tr>\n",
       "    <tr>\n",
       "      <th>3</th>\n",
       "      <td>0.0</td>\n",
       "      <td>0.0</td>\n",
       "      <td>2.345391</td>\n",
       "      <td>1.077277</td>\n",
       "      <td>2.091065</td>\n",
       "      <td>0.0</td>\n",
       "      <td>1.449416</td>\n",
       "      <td>0.0</td>\n",
       "      <td>0.0</td>\n",
       "      <td>1.610568</td>\n",
       "      <td>...</td>\n",
       "      <td>0.000000</td>\n",
       "      <td>2.581949</td>\n",
       "      <td>0.000000</td>\n",
       "      <td>0.000000</td>\n",
       "      <td>1.917314</td>\n",
       "      <td>1.687836</td>\n",
       "      <td>0.0</td>\n",
       "      <td>0.0</td>\n",
       "      <td>2.093908</td>\n",
       "      <td>1.857081</td>\n",
       "    </tr>\n",
       "    <tr>\n",
       "      <th>4</th>\n",
       "      <td>0.0</td>\n",
       "      <td>0.0</td>\n",
       "      <td>0.980762</td>\n",
       "      <td>0.578907</td>\n",
       "      <td>0.712328</td>\n",
       "      <td>0.0</td>\n",
       "      <td>0.727942</td>\n",
       "      <td>0.0</td>\n",
       "      <td>0.0</td>\n",
       "      <td>1.355375</td>\n",
       "      <td>...</td>\n",
       "      <td>0.234534</td>\n",
       "      <td>2.123285</td>\n",
       "      <td>0.000000</td>\n",
       "      <td>1.186418</td>\n",
       "      <td>2.821104</td>\n",
       "      <td>1.428768</td>\n",
       "      <td>0.0</td>\n",
       "      <td>0.0</td>\n",
       "      <td>1.720274</td>\n",
       "      <td>1.232280</td>\n",
       "    </tr>\n",
       "  </tbody>\n",
       "</table>\n",
       "<p>5 rows × 2048 columns</p>\n",
       "</div>"
      ],
      "text/plain": [
       "     0    1         2         3         4    5         6    7    8         9  \\\n",
       "0  0.0  0.0  2.086571  1.046970  2.012711  0.0  1.471289  0.0  0.0  1.308222   \n",
       "1  0.0  0.0  1.909776  1.295273  0.983222  0.0  0.708483  0.0  0.0  0.912948   \n",
       "2  0.0  0.0  1.989003  1.175972  1.191586  0.0  1.047355  0.0  0.0  1.942684   \n",
       "3  0.0  0.0  2.345391  1.077277  2.091065  0.0  1.449416  0.0  0.0  1.610568   \n",
       "4  0.0  0.0  0.980762  0.578907  0.712328  0.0  0.727942  0.0  0.0  1.355375   \n",
       "\n",
       "   ...      2038      2039      2040      2041      2042      2043  2044  \\\n",
       "0  ...  0.000000  2.560242  0.000000  0.000000  1.761090  2.054384   0.0   \n",
       "1  ...  0.000000  2.821531  0.000000  1.145785  2.461549  1.759992   0.0   \n",
       "2  ...  0.000000  2.109819  0.017639  0.462309  2.615123  1.609518   0.0   \n",
       "3  ...  0.000000  2.581949  0.000000  0.000000  1.917314  1.687836   0.0   \n",
       "4  ...  0.234534  2.123285  0.000000  1.186418  2.821104  1.428768   0.0   \n",
       "\n",
       "   2045      2046      2047  \n",
       "0   0.0  1.875244  1.555655  \n",
       "1   0.0  2.124749  1.689826  \n",
       "2   0.0  2.022851  1.887849  \n",
       "3   0.0  2.093908  1.857081  \n",
       "4   0.0  1.720274  1.232280  \n",
       "\n",
       "[5 rows x 2048 columns]"
      ]
     },
     "execution_count": 5,
     "metadata": {},
     "output_type": "execute_result"
    }
   ],
   "source": [
    "visual_f.head()"
   ]
  },
  {
   "cell_type": "code",
   "execution_count": null,
   "metadata": {},
   "outputs": [
    {
     "name": "stdout",
     "output_type": "stream",
     "text": [
      "(216000, 4)\n",
      "(216000, 2048)\n",
      "4000 users are enrolled in the dataset\n"
     ]
    }
   ],
   "source": [
    "print(data_f.shape)\n",
    "print(visual_f.shape)\n",
    "print(len(data_f['user_id'].unique()), 'users are enrolled in the dataset')\n",
    "user_count = len(data_f['user_id'].unique())"
   ]
  },
  {
   "cell_type": "code",
   "execution_count": null,
   "metadata": {},
   "outputs": [
    {
     "name": "stderr",
     "output_type": "stream",
     "text": [
      "c:\\users\\mert\\anaconda3\\envs\\ml_env\\lib\\site-packages\\sklearn\\model_selection\\_split.py:2179: FutureWarning: From version 0.21, test_size will always complement train_size unless both are specified.\n",
      "  FutureWarning)\n"
     ]
    }
   ],
   "source": [
    "user_id_list = np.arange(1,len(data_f['user_id'].unique())+1)\n",
    "train_idx, test_idx = train_test_split(user_id_list, train_size=0.8, random_state=1923)"
   ]
  },
  {
   "cell_type": "code",
   "execution_count": null,
   "metadata": {},
   "outputs": [],
   "source": [
    "# Filter train users and test users.\n",
    "data_f_train = data_f.loc[data_f['user_id'].isin(train_idx)]\n",
    "data_f_test = data_f.loc[data_f['user_id'].isin(test_idx)]\n",
    "# Filter fakes and genuines.\n",
    "data_f_train_gen = data_f_train.loc[data_f_train['fakeness']==False]\n",
    "data_f_train_fake = data_f_train.loc[data_f_train['fakeness']==True]\n",
    "data_f_train_gen_5 = data_f_train_gen.loc[data_f_train_gen['sig_id'].isin(np.arange(1,6))]\n",
    "data_f_train_gen_12 = data_f_train_gen.loc[data_f_train_gen['sig_id'].isin(np.arange(1,13))]"
   ]
  },
  {
   "cell_type": "code",
   "execution_count": null,
   "metadata": {},
   "outputs": [],
   "source": [
    "X_train = visual_f.iloc[data_f_train_gen_12.index]\n",
    "y_train = data_f_train_gen_12['user_id']"
   ]
  },
  {
   "cell_type": "code",
   "execution_count": null,
   "metadata": {},
   "outputs": [
    {
     "data": {
      "text/plain": [
       "1     3131\n",
       "2     3131\n",
       "6     3131\n",
       "18    3131\n",
       "25    3131\n",
       "Name: user_id, dtype: int64"
      ]
     },
     "execution_count": 10,
     "metadata": {},
     "output_type": "execute_result"
    }
   ],
   "source": [
    "y_train.head()"
   ]
  },
  {
   "cell_type": "code",
   "execution_count": null,
   "metadata": {},
   "outputs": [],
   "source": [
    "data_f_test_gen = data_f_test.loc[data_f_test['fakeness']==False]\n",
    "data_f_test_fake = data_f_test.loc[data_f_test['fakeness']==True]\n",
    "data_f_test_gen_5 = data_f_test_gen.loc[data_f_test_gen['sig_id'].isin(np.arange(1,6))]\n",
    "data_f_test_gen_12 = data_f_test_gen.loc[data_f_test_gen['sig_id'].isin(np.arange(1,13))]"
   ]
  },
  {
   "cell_type": "code",
   "execution_count": null,
   "metadata": {},
   "outputs": [],
   "source": [
    "X_valid = visual_f.iloc[data_f_test_gen_12.index]\n",
    "y_valid = data_f_test_gen_12['user_id']"
   ]
  },
  {
   "cell_type": "code",
   "execution_count": null,
   "metadata": {},
   "outputs": [],
   "source": [
    "%%time\n",
    "clf=XGBClassifier(max_depth=1,tree_method='gpu_hist', verbosity=2, predictor='gpu_predictor')\n",
    "clf.fit(X_train, y_train)"
   ]
  },
  {
   "cell_type": "code",
   "execution_count": null,
   "metadata": {},
   "outputs": [],
   "source": [
    "'''\n",
    "clf=LGBMClassifier(device='gpu')\n",
    "clf.fit(X_train, y_train)\n",
    "'''"
   ]
  },
  {
   "cell_type": "code",
   "execution_count": null,
   "metadata": {},
   "outputs": [],
   "source": [
    "# TODO Let the fitting end.\n",
    "# TODO Add benchmark metric above. \n",
    "# TODO CNN Model & Training, thundersvm model, gbm model, re-implementation of the paper."
   ]
  }
 ],
 "metadata": {
  "kernelspec": {
   "display_name": "Python 3",
   "language": "python",
   "name": "python3"
  },
  "language_info": {
   "codemirror_mode": {
    "name": "ipython",
    "version": 3
   },
   "file_extension": ".py",
   "mimetype": "text/x-python",
   "name": "python",
   "nbconvert_exporter": "python",
   "pygments_lexer": "ipython3",
   "version": "3.6.8"
  }
 },
 "nbformat": 4,
 "nbformat_minor": 2
}
