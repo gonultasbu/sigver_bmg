{
 "cells": [
  {
   "cell_type": "code",
   "execution_count": 1,
   "metadata": {
    "scrolled": true
   },
   "outputs": [],
   "source": [
    "import scipy.io as sio\n",
    "from scipy.misc import imread\n",
    "from preprocess.normalize import preprocess_signature\n",
    "import tf_signet\n",
    "from tf_cnn_model import TF_CNNModel\n",
    "import tensorflow as tf\n",
    "import numpy as np\n",
    "import pandas as pd\n",
    "import sys\n",
    "import os\n",
    "import scipy.io\n",
    "from find_largest_image import find_largest\n",
    "import tqdm \n",
    "from sklearn.model_selection import train_test_split\n",
    "from sklearn.svm import SVC\n",
    "from xgboost import XGBClassifier\n",
    "import random\n",
    "from numpy.random import choice\n",
    "from sklearn.neural_network import MLPClassifier\n",
    "from sklearn.metrics import accuracy_score"
   ]
  },
  {
   "cell_type": "code",
   "execution_count": 2,
   "metadata": {},
   "outputs": [],
   "source": [
    "data_folder = 'C:\\\\Users\\\\Mert\\\\Documents\\\\GitHub\\\\sigver_bmg\\\\data\\\\downloaded_pp_features\\\\gpds_signet_all'"
   ]
  },
  {
   "cell_type": "code",
   "execution_count": 3,
   "metadata": {},
   "outputs": [],
   "source": [
    "data_f = pd.read_csv(os.path.join(data_folder,'data_features.csv'))\n",
    "visual_f = pd.read_csv(os.path.join(data_folder,'visual_features.csv'))"
   ]
  },
  {
   "cell_type": "code",
   "execution_count": 4,
   "metadata": {},
   "outputs": [
    {
     "name": "stderr",
     "output_type": "stream",
     "text": [
      "\r",
      "  0%|                                                                                           | 0/50 [00:00<?, ?it/s]"
     ]
    },
    {
     "name": "stdout",
     "output_type": "stream",
     "text": [
      "gens_avg_error: 8.333333333333337 fakes_avg_error: 30.000000000000004 cumulative_avg_error: 19.166666666666664\n"
     ]
    },
    {
     "name": "stderr",
     "output_type": "stream",
     "text": [
      "\r",
      "  2%|#6                                                                                 | 1/50 [00:12<10:24, 12.75s/it]"
     ]
    },
    {
     "name": "stdout",
     "output_type": "stream",
     "text": [
      "gens_avg_error: 8.333333333333337 fakes_avg_error: 18.333333333333336 cumulative_avg_error: 13.33333333333333\n"
     ]
    },
    {
     "name": "stderr",
     "output_type": "stream",
     "text": [
      "\r",
      "  4%|###3                                                                               | 2/50 [00:22<09:31, 11.90s/it]"
     ]
    },
    {
     "name": "stdout",
     "output_type": "stream",
     "text": [
      "gens_avg_error: 5.55555555555557 fakes_avg_error: 14.444444444444448 cumulative_avg_error: 10.000000000000009\n"
     ]
    },
    {
     "name": "stderr",
     "output_type": "stream",
     "text": [
      "\r",
      "  6%|####9                                                                              | 3/50 [00:29<08:12, 10.49s/it]"
     ]
    },
    {
     "name": "stdout",
     "output_type": "stream",
     "text": [
      "gens_avg_error: 4.166666666666674 fakes_avg_error: 10.83333333333334 cumulative_avg_error: 7.500000000000007\n"
     ]
    },
    {
     "name": "stderr",
     "output_type": "stream",
     "text": [
      "\r",
      "  8%|######6                                                                            | 4/50 [00:35<06:56,  9.06s/it]"
     ]
    },
    {
     "name": "stdout",
     "output_type": "stream",
     "text": [
      "gens_avg_error: 5.000000000000004 fakes_avg_error: 8.666666666666668 cumulative_avg_error: 6.833333333333336\n"
     ]
    },
    {
     "name": "stderr",
     "output_type": "stream",
     "text": [
      "\r",
      " 10%|########3                                                                          | 5/50 [00:42<06:24,  8.54s/it]"
     ]
    },
    {
     "name": "stdout",
     "output_type": "stream",
     "text": [
      "gens_avg_error: 5.5555555555555465 fakes_avg_error: 8.888888888888891 cumulative_avg_error: 7.222222222222219\n"
     ]
    },
    {
     "name": "stderr",
     "output_type": "stream",
     "text": [
      "\r",
      " 12%|#########9                                                                         | 6/50 [00:49<05:49,  7.94s/it]"
     ]
    },
    {
     "name": "stdout",
     "output_type": "stream",
     "text": [
      "gens_avg_error: 4.761904761904756 fakes_avg_error: 7.619047619047614 cumulative_avg_error: 6.190476190476191\n"
     ]
    },
    {
     "name": "stderr",
     "output_type": "stream",
     "text": [
      "\r",
      " 14%|###########6                                                                       | 7/50 [00:57<05:37,  7.86s/it]"
     ]
    },
    {
     "name": "stdout",
     "output_type": "stream",
     "text": [
      "gens_avg_error: 5.208333333333326 fakes_avg_error: 7.08333333333333 cumulative_avg_error: 6.145833333333329\n"
     ]
    },
    {
     "name": "stderr",
     "output_type": "stream",
     "text": [
      "\r",
      " 16%|#############2                                                                     | 8/50 [01:06<05:50,  8.33s/it]"
     ]
    },
    {
     "name": "stdout",
     "output_type": "stream",
     "text": [
      "gens_avg_error: 4.629629629629628 fakes_avg_error: 6.296296296296289 cumulative_avg_error: 5.462962962962958\n"
     ]
    },
    {
     "name": "stderr",
     "output_type": "stream",
     "text": [
      "\r",
      " 18%|##############9                                                                    | 9/50 [01:16<05:55,  8.67s/it]"
     ]
    },
    {
     "name": "stdout",
     "output_type": "stream",
     "text": [
      "gens_avg_error: 4.1666666666666625 fakes_avg_error: 7.999999999999985 cumulative_avg_error: 6.0833333333333295\n"
     ]
    },
    {
     "name": "stderr",
     "output_type": "stream",
     "text": [
      "\r",
      " 20%|################4                                                                 | 10/50 [01:24<05:44,  8.61s/it]"
     ]
    },
    {
     "name": "stdout",
     "output_type": "stream",
     "text": [
      "gens_avg_error: 3.7878787878787845 fakes_avg_error: 7.2727272727272645 cumulative_avg_error: 5.530303030303019\n"
     ]
    },
    {
     "name": "stderr",
     "output_type": "stream",
     "text": [
      "\r",
      " 22%|##################                                                                | 11/50 [01:34<05:46,  8.88s/it]"
     ]
    },
    {
     "name": "stdout",
     "output_type": "stream",
     "text": [
      "gens_avg_error: 4.861111111111105 fakes_avg_error: 6.94444444444443 cumulative_avg_error: 5.902777777777768\n"
     ]
    },
    {
     "name": "stderr",
     "output_type": "stream",
     "text": [
      "\r",
      " 24%|###################6                                                              | 12/50 [01:42<05:33,  8.78s/it]"
     ]
    },
    {
     "name": "stdout",
     "output_type": "stream",
     "text": [
      "gens_avg_error: 4.487179487179482 fakes_avg_error: 6.923076923076909 cumulative_avg_error: 5.7051282051281955\n"
     ]
    },
    {
     "name": "stderr",
     "output_type": "stream",
     "text": [
      "\r",
      " 26%|#####################3                                                            | 13/50 [01:51<05:21,  8.70s/it]"
     ]
    },
    {
     "name": "stdout",
     "output_type": "stream",
     "text": [
      "gens_avg_error: 4.1666666666666625 fakes_avg_error: 6.428571428571416 cumulative_avg_error: 5.29761904761904\n"
     ]
    },
    {
     "name": "stderr",
     "output_type": "stream",
     "text": [
      "\r",
      " 28%|######################9                                                           | 14/50 [01:58<05:04,  8.45s/it]"
     ]
    },
    {
     "name": "stdout",
     "output_type": "stream",
     "text": [
      "gens_avg_error: 5.5555555555555465 fakes_avg_error: 5.999999999999995 cumulative_avg_error: 5.777777777777771\n"
     ]
    },
    {
     "name": "stderr",
     "output_type": "stream",
     "text": [
      "\r",
      " 30%|########################5                                                         | 15/50 [02:05<04:37,  7.94s/it]"
     ]
    },
    {
     "name": "stdout",
     "output_type": "stream",
     "text": [
      "gens_avg_error: 5.7291666666666625 fakes_avg_error: 5.624999999999991 cumulative_avg_error: 5.6770833333333215\n"
     ]
    },
    {
     "name": "stderr",
     "output_type": "stream",
     "text": [
      "\r",
      " 32%|##########################2                                                       | 16/50 [02:15<04:45,  8.40s/it]"
     ]
    },
    {
     "name": "stdout",
     "output_type": "stream",
     "text": [
      "gens_avg_error: 5.882352941176472 fakes_avg_error: 6.8627450980392135 cumulative_avg_error: 6.372549019607843\n"
     ]
    },
    {
     "name": "stderr",
     "output_type": "stream",
     "text": [
      "\r",
      " 34%|###########################8                                                      | 17/50 [02:21<04:17,  7.82s/it]"
     ]
    },
    {
     "name": "stdout",
     "output_type": "stream",
     "text": [
      "gens_avg_error: 5.555555555555558 fakes_avg_error: 6.864623243933588 cumulative_avg_error: 6.210089399744567\n"
     ]
    },
    {
     "name": "stderr",
     "output_type": "stream",
     "text": [
      "\r",
      " 36%|#############################5                                                    | 18/50 [02:33<04:45,  8.91s/it]"
     ]
    },
    {
     "name": "stdout",
     "output_type": "stream",
     "text": [
      "gens_avg_error: 5.263157894736848 fakes_avg_error: 7.047791893526911 cumulative_avg_error: 6.155474894131885\n"
     ]
    },
    {
     "name": "stderr",
     "output_type": "stream",
     "text": [
      "\r",
      " 38%|###############################1                                                  | 19/50 [02:39<04:10,  8.07s/it]"
     ]
    },
    {
     "name": "stdout",
     "output_type": "stream",
     "text": [
      "gens_avg_error: 5.416666666666659 fakes_avg_error: 6.695402298850562 cumulative_avg_error: 6.05603448275861\n"
     ]
    },
    {
     "name": "stderr",
     "output_type": "stream",
     "text": [
      "\r",
      " 40%|################################8                                                 | 20/50 [02:48<04:11,  8.39s/it]"
     ]
    },
    {
     "name": "stdout",
     "output_type": "stream",
     "text": [
      "gens_avg_error: 5.158730158730151 fakes_avg_error: 6.535303776683088 cumulative_avg_error: 5.84701696770662\n"
     ]
    },
    {
     "name": "stderr",
     "output_type": "stream",
     "text": [
      "\r",
      " 42%|##################################4                                               | 21/50 [02:58<04:16,  8.86s/it]"
     ]
    },
    {
     "name": "stdout",
     "output_type": "stream",
     "text": [
      "gens_avg_error: 4.92424242424242 fakes_avg_error: 6.238244514106583 cumulative_avg_error: 5.581243469174502\n"
     ]
    },
    {
     "name": "stderr",
     "output_type": "stream",
     "text": [
      "\r",
      " 44%|####################################                                              | 22/50 [03:05<03:56,  8.44s/it]"
     ]
    },
    {
     "name": "stdout",
     "output_type": "stream",
     "text": [
      "gens_avg_error: 4.710144927536231 fakes_avg_error: 6.691654172913541 cumulative_avg_error: 5.7008995502248805\n"
     ]
    },
    {
     "name": "stderr",
     "output_type": "stream",
     "text": [
      "\r",
      " 46%|#####################################7                                            | 23/50 [03:16<04:02,  8.99s/it]"
     ]
    },
    {
     "name": "stdout",
     "output_type": "stream",
     "text": [
      "gens_avg_error: 4.513888888888884 fakes_avg_error: 6.968390804597702 cumulative_avg_error: 5.741139846743293\n"
     ]
    },
    {
     "name": "stderr",
     "output_type": "stream",
     "text": [
      "\r",
      " 48%|#######################################3                                          | 24/50 [03:25<03:56,  9.11s/it]"
     ]
    },
    {
     "name": "stdout",
     "output_type": "stream",
     "text": [
      "gens_avg_error: 4.333333333333334 fakes_avg_error: 8.956321839080461 cumulative_avg_error: 6.644827586206903\n"
     ]
    },
    {
     "name": "stderr",
     "output_type": "stream",
     "text": [
      "\r",
      " 50%|#########################################                                         | 25/50 [03:33<03:41,  8.85s/it]"
     ]
    },
    {
     "name": "stdout",
     "output_type": "stream",
     "text": [
      "gens_avg_error: 4.1666666666666625 fakes_avg_error: 8.74005305039789 cumulative_avg_error: 6.453359858532282\n"
     ]
    },
    {
     "name": "stderr",
     "output_type": "stream",
     "text": [
      "\r",
      " 52%|##########################################6                                       | 26/50 [03:42<03:35,  8.98s/it]"
     ]
    },
    {
     "name": "stdout",
     "output_type": "stream",
     "text": [
      "gens_avg_error: 4.629629629629628 fakes_avg_error: 9.280544912728828 cumulative_avg_error: 6.955087271179227\n"
     ]
    },
    {
     "name": "stderr",
     "output_type": "stream",
     "text": [
      "\r",
      " 54%|############################################2                                     | 27/50 [03:52<03:31,  9.19s/it]"
     ]
    },
    {
     "name": "stdout",
     "output_type": "stream",
     "text": [
      "gens_avg_error: 4.46428571428571 fakes_avg_error: 8.949096880131368 cumulative_avg_error: 6.7066912972085335\n"
     ]
    },
    {
     "name": "stderr",
     "output_type": "stream",
     "text": [
      "\r",
      " 56%|#############################################9                                    | 28/50 [03:59<03:06,  8.46s/it]"
     ]
    },
    {
     "name": "stdout",
     "output_type": "stream",
     "text": [
      "gens_avg_error: 4.31034482758621 fakes_avg_error: 9.100277447483162 cumulative_avg_error: 6.705311137534686\n"
     ]
    },
    {
     "name": "stderr",
     "output_type": "stream",
     "text": [
      "\r",
      " 58%|###############################################5                                  | 29/50 [04:04<02:38,  7.54s/it]"
     ]
    },
    {
     "name": "stdout",
     "output_type": "stream",
     "text": [
      "gens_avg_error: 4.444444444444439 fakes_avg_error: 8.796934865900386 cumulative_avg_error: 6.620689655172418\n"
     ]
    },
    {
     "name": "stderr",
     "output_type": "stream",
     "text": [
      "\r",
      " 60%|#################################################1                                | 30/50 [04:14<02:43,  8.18s/it]"
     ]
    },
    {
     "name": "stdout",
     "output_type": "stream",
     "text": [
      "gens_avg_error: 4.3010752688172005 fakes_avg_error: 8.62068965517243 cumulative_avg_error: 6.46088246199481\n"
     ]
    },
    {
     "name": "stderr",
     "output_type": "stream",
     "text": [
      "\r",
      " 62%|##################################################8                               | 31/50 [04:21<02:29,  7.86s/it]"
     ]
    },
    {
     "name": "stdout",
     "output_type": "stream",
     "text": [
      "gens_avg_error: 4.1666666666666625 fakes_avg_error: 8.45545977011496 cumulative_avg_error: 6.311063218390811\n"
     ]
    },
    {
     "name": "stderr",
     "output_type": "stream",
     "text": [
      "\r",
      " 64%|####################################################4                             | 32/50 [04:26<02:06,  7.01s/it]"
     ]
    },
    {
     "name": "stdout",
     "output_type": "stream",
     "text": [
      "gens_avg_error: 4.040404040404033 fakes_avg_error: 8.199233716475106 cumulative_avg_error: 6.119818878439576\n"
     ]
    },
    {
     "name": "stderr",
     "output_type": "stream",
     "text": [
      "\r",
      " 66%|######################################################1                           | 33/50 [04:31<01:48,  6.36s/it]"
     ]
    },
    {
     "name": "stdout",
     "output_type": "stream",
     "text": [
      "gens_avg_error: 3.9215686274509665 fakes_avg_error: 7.958079783637606 cumulative_avg_error: 5.939824205544286\n"
     ]
    },
    {
     "name": "stderr",
     "output_type": "stream",
     "text": [
      "\r",
      " 68%|#######################################################7                          | 34/50 [04:37<01:39,  6.24s/it]"
     ]
    },
    {
     "name": "stdout",
     "output_type": "stream",
     "text": [
      "gens_avg_error: 4.047619047619044 fakes_avg_error: 8.206896551724153 cumulative_avg_error: 6.127257799671604\n"
     ]
    },
    {
     "name": "stderr",
     "output_type": "stream",
     "text": [
      "\r",
      " 70%|#########################################################4                        | 35/50 [04:45<01:41,  6.75s/it]"
     ]
    },
    {
     "name": "stdout",
     "output_type": "stream",
     "text": [
      "gens_avg_error: 4.1666666666666625 fakes_avg_error: 8.071519795657744 cumulative_avg_error: 6.119093231162198\n"
     ]
    },
    {
     "name": "stderr",
     "output_type": "stream",
     "text": [
      "\r",
      " 72%|###########################################################                       | 36/50 [04:53<01:38,  7.05s/it]"
     ]
    },
    {
     "name": "stdout",
     "output_type": "stream",
     "text": [
      "gens_avg_error: 4.95495495495496 fakes_avg_error: 7.853370611991317 cumulative_avg_error: 6.404162783473133\n"
     ]
    },
    {
     "name": "stderr",
     "output_type": "stream",
     "text": [
      "\r",
      " 74%|############################################################6                     | 37/50 [04:58<01:25,  6.57s/it]"
     ]
    },
    {
     "name": "stdout",
     "output_type": "stream",
     "text": [
      "gens_avg_error: 4.824561403508776 fakes_avg_error: 7.6467029643073285 cumulative_avg_error: 6.2356321839080575\n"
     ]
    },
    {
     "name": "stderr",
     "output_type": "stream",
     "text": [
      "\r",
      " 76%|##############################################################3                   | 38/50 [05:05<01:20,  6.67s/it]"
     ]
    },
    {
     "name": "stdout",
     "output_type": "stream",
     "text": [
      "gens_avg_error: 4.700854700854706 fakes_avg_error: 7.5361037430003 cumulative_avg_error: 6.1184792219274975\n"
     ]
    },
    {
     "name": "stderr",
     "output_type": "stream",
     "text": [
      "\r",
      " 78%|###############################################################9                  | 39/50 [05:14<01:19,  7.26s/it]"
     ]
    },
    {
     "name": "stdout",
     "output_type": "stream",
     "text": [
      "gens_avg_error: 5.000000000000004 fakes_avg_error: 7.4310344827586245 cumulative_avg_error: 6.21551724137932\n"
     ]
    },
    {
     "name": "stderr",
     "output_type": "stream",
     "text": [
      "\r",
      " 80%|#################################################################6                | 40/50 [05:20<01:11,  7.15s/it]"
     ]
    },
    {
     "name": "stdout",
     "output_type": "stream",
     "text": [
      "gens_avg_error: 4.878048780487809 fakes_avg_error: 7.249789739276702 cumulative_avg_error: 6.0639192598822556\n"
     ]
    },
    {
     "name": "stderr",
     "output_type": "stream",
     "text": [
      "\r",
      " 82%|###################################################################2              | 41/50 [05:26<00:59,  6.64s/it]"
     ]
    },
    {
     "name": "stdout",
     "output_type": "stream",
     "text": [
      "gens_avg_error: 4.960317460317465 fakes_avg_error: 7.632731253420911 cumulative_avg_error: 6.296524356869182\n"
     ]
    },
    {
     "name": "stderr",
     "output_type": "stream",
     "text": [
      "\r",
      " 84%|####################################################################8             | 42/50 [05:35<00:58,  7.30s/it]"
     ]
    },
    {
     "name": "stdout",
     "output_type": "stream",
     "text": [
      "gens_avg_error: 5.232558139534882 fakes_avg_error: 7.45522587543438 cumulative_avg_error: 6.34389200748463\n"
     ]
    },
    {
     "name": "stderr",
     "output_type": "stream",
     "text": [
      "\r",
      " 86%|######################################################################5           | 43/50 [05:45<00:57,  8.16s/it]"
     ]
    },
    {
     "name": "stdout",
     "output_type": "stream",
     "text": [
      "gens_avg_error: 5.30303030303031 fakes_avg_error: 7.28578892371996 cumulative_avg_error: 6.294409613375129\n"
     ]
    },
    {
     "name": "stderr",
     "output_type": "stream",
     "text": [
      "\r",
      " 88%|########################################################################1         | 44/50 [05:52<00:46,  7.70s/it]"
     ]
    },
    {
     "name": "stdout",
     "output_type": "stream",
     "text": [
      "gens_avg_error: 5.185185185185192 fakes_avg_error: 7.494252873563212 cumulative_avg_error: 6.339719029374202\n"
     ]
    },
    {
     "name": "stderr",
     "output_type": "stream",
     "text": [
      "\r",
      " 90%|#########################################################################8        | 45/50 [06:00<00:39,  7.98s/it]"
     ]
    },
    {
     "name": "stdout",
     "output_type": "stream",
     "text": [
      "gens_avg_error: 5.072463768115942 fakes_avg_error: 7.403798100949521 cumulative_avg_error: 6.238130934532737\n"
     ]
    },
    {
     "name": "stderr",
     "output_type": "stream",
     "text": [
      "\r",
      " 92%|###########################################################################4      | 46/50 [06:09<00:32,  8.12s/it]"
     ]
    },
    {
     "name": "stdout",
     "output_type": "stream",
     "text": [
      "gens_avg_error: 5.141843971631211 fakes_avg_error: 8.168256297383214 cumulative_avg_error: 6.655050134507212\n"
     ]
    },
    {
     "name": "stderr",
     "output_type": "stream",
     "text": [
      "\r",
      " 94%|#############################################################################     | 47/50 [06:16<00:23,  7.98s/it]"
     ]
    },
    {
     "name": "stdout",
     "output_type": "stream",
     "text": [
      "gens_avg_error: 5.034722222222232 fakes_avg_error: 7.998084291187723 cumulative_avg_error: 6.516403256704972\n"
     ]
    },
    {
     "name": "stderr",
     "output_type": "stream",
     "text": [
      "\r",
      " 96%|##############################################################################7   | 48/50 [06:22<00:14,  7.31s/it]"
     ]
    },
    {
     "name": "stdout",
     "output_type": "stream",
     "text": [
      "gens_avg_error: 5.102040816326547 fakes_avg_error: 7.902885292047834 cumulative_avg_error: 6.50246305418719\n"
     ]
    },
    {
     "name": "stderr",
     "output_type": "stream",
     "text": [
      "\r",
      " 98%|################################################################################3 | 49/50 [06:33<00:08,  8.44s/it]"
     ]
    },
    {
     "name": "stdout",
     "output_type": "stream",
     "text": [
      "gens_avg_error: 5.000000000000016 fakes_avg_error: 8.078160919540212 cumulative_avg_error: 6.539080459770119\n"
     ]
    },
    {
     "name": "stderr",
     "output_type": "stream",
     "text": [
      "100%|##################################################################################| 50/50 [06:42<00:00,  8.50s/it]\n",
      "  0%|                                                                                           | 0/50 [00:00<?, ?it/s]"
     ]
    },
    {
     "name": "stdout",
     "output_type": "stream",
     "text": [
      "gens_avg_error: 5.065359477124199 fakes_avg_error: 7.9197656073923595 cumulative_avg_error: 6.492562542258273\n"
     ]
    },
    {
     "name": "stderr",
     "output_type": "stream",
     "text": [
      "\r",
      "  2%|#6                                                                                 | 1/50 [00:04<03:21,  4.12s/it]"
     ]
    },
    {
     "name": "stdout",
     "output_type": "stream",
     "text": [
      "gens_avg_error: 5.448717948717963 fakes_avg_error: 7.8956675508399465 cumulative_avg_error: 6.672192749778949\n"
     ]
    },
    {
     "name": "stderr",
     "output_type": "stream",
     "text": [
      "\r",
      "  4%|###3                                                                               | 2/50 [00:12<04:13,  5.29s/it]"
     ]
    },
    {
     "name": "stdout",
     "output_type": "stream",
     "text": [
      "gens_avg_error: 5.817610062893097 fakes_avg_error: 7.746692691390145 cumulative_avg_error: 6.782151377141621\n"
     ]
    },
    {
     "name": "stderr",
     "output_type": "stream",
     "text": [
      "\r",
      "  6%|####9                                                                              | 3/50 [00:17<04:12,  5.38s/it]"
     ]
    },
    {
     "name": "stdout",
     "output_type": "stream",
     "text": [
      "gens_avg_error: 5.864197530864224 fakes_avg_error: 7.664963814389081 cumulative_avg_error: 6.764580672626652\n"
     ]
    },
    {
     "name": "stderr",
     "output_type": "stream",
     "text": [
      "\r",
      "  8%|######6                                                                            | 4/50 [00:27<05:03,  6.59s/it]"
     ]
    },
    {
     "name": "stdout",
     "output_type": "stream",
     "text": [
      "gens_avg_error: 6.212121212121236 fakes_avg_error: 7.768025078369889 cumulative_avg_error: 6.990073145245557\n"
     ]
    },
    {
     "name": "stderr",
     "output_type": "stream",
     "text": [
      "\r",
      " 10%|########3                                                                          | 5/50 [00:39<06:11,  8.25s/it]"
     ]
    },
    {
     "name": "stdout",
     "output_type": "stream",
     "text": [
      "gens_avg_error: 6.250000000000022 fakes_avg_error: 7.629310344827567 cumulative_avg_error: 6.9396551724137945\n"
     ]
    },
    {
     "name": "stderr",
     "output_type": "stream",
     "text": [
      "\r",
      " 12%|#########9                                                                         | 6/50 [00:47<06:05,  8.30s/it]"
     ]
    },
    {
     "name": "stdout",
     "output_type": "stream",
     "text": [
      "gens_avg_error: 6.140350877193013 fakes_avg_error: 7.61242185924581 cumulative_avg_error: 6.8763863682194115\n"
     ]
    },
    {
     "name": "stderr",
     "output_type": "stream",
     "text": [
      "\r",
      " 14%|###########6                                                                       | 7/50 [00:55<05:51,  8.17s/it]"
     ]
    },
    {
     "name": "stdout",
     "output_type": "stream",
     "text": [
      "gens_avg_error: 6.178160919540254 fakes_avg_error: 7.711058263971449 cumulative_avg_error: 6.944609591755846\n"
     ]
    },
    {
     "name": "stderr",
     "output_type": "stream",
     "text": [
      "\r",
      " 16%|#############2                                                                     | 8/50 [01:02<05:30,  7.86s/it]"
     ]
    },
    {
     "name": "stdout",
     "output_type": "stream",
     "text": [
      "gens_avg_error: 6.355932203389858 fakes_avg_error: 7.580362361192272 cumulative_avg_error: 6.968147282291071\n"
     ]
    },
    {
     "name": "stderr",
     "output_type": "stream",
     "text": [
      "\r",
      " 18%|##############9                                                                    | 9/50 [01:08<05:02,  7.37s/it]"
     ]
    },
    {
     "name": "stdout",
     "output_type": "stream",
     "text": [
      "gens_avg_error: 6.250000000000022 fakes_avg_error: 7.513546798029546 cumulative_avg_error: 6.88177339901479\n"
     ]
    },
    {
     "name": "stderr",
     "output_type": "stream",
     "text": [
      "\r",
      " 20%|################4                                                                 | 10/50 [01:19<05:30,  8.25s/it]"
     ]
    },
    {
     "name": "stdout",
     "output_type": "stream",
     "text": [
      "gens_avg_error: 6.557377049180346 fakes_avg_error: 7.390373899701186 cumulative_avg_error: 6.973875474440772\n"
     ]
    },
    {
     "name": "stderr",
     "output_type": "stream",
     "text": [
      "\r",
      " 22%|##################                                                                | 11/50 [01:25<04:56,  7.61s/it]"
     ]
    },
    {
     "name": "stdout",
     "output_type": "stream",
     "text": [
      "gens_avg_error: 6.854838709677447 fakes_avg_error: 7.271174320673756 cumulative_avg_error: 7.063006515175596\n"
     ]
    },
    {
     "name": "stderr",
     "output_type": "stream",
     "text": [
      "\r",
      " 24%|###################6                                                              | 12/50 [01:31<04:32,  7.17s/it]"
     ]
    },
    {
     "name": "stdout",
     "output_type": "stream",
     "text": [
      "gens_avg_error: 6.878306878306906 fakes_avg_error: 7.261578961086346 cumulative_avg_error: 7.069942919696626\n"
     ]
    },
    {
     "name": "stderr",
     "output_type": "stream",
     "text": [
      "\r",
      " 26%|#####################3                                                            | 13/50 [01:39<04:34,  7.43s/it]"
     ]
    },
    {
     "name": "stdout",
     "output_type": "stream",
     "text": [
      "gens_avg_error: 6.901041666666696 fakes_avg_error: 7.14811678981937 cumulative_avg_error: 7.024579228243033\n"
     ]
    },
    {
     "name": "stderr",
     "output_type": "stream",
     "text": [
      "\r",
      " 28%|######################9                                                           | 14/50 [01:48<04:43,  7.88s/it]"
     ]
    },
    {
     "name": "stdout",
     "output_type": "stream",
     "text": [
      "gens_avg_error: 7.179487179487209 fakes_avg_error: 7.089427813565741 cumulative_avg_error: 7.134457496526481\n"
     ]
    },
    {
     "name": "stderr",
     "output_type": "stream",
     "text": [
      "\r",
      " 30%|########################5                                                         | 15/50 [01:54<04:18,  7.38s/it]"
     ]
    },
    {
     "name": "stdout",
     "output_type": "stream",
     "text": [
      "gens_avg_error: 7.070707070707094 fakes_avg_error: 7.1840324426531215 cumulative_avg_error: 7.127369756680113\n"
     ]
    },
    {
     "name": "stderr",
     "output_type": "stream",
     "text": [
      "\r",
      " 32%|##########################2                                                       | 16/50 [02:02<04:10,  7.38s/it]"
     ]
    },
    {
     "name": "stdout",
     "output_type": "stream",
     "text": [
      "gens_avg_error: 6.965174129353258 fakes_avg_error: 7.176310565399602 cumulative_avg_error: 7.070742347376435\n"
     ]
    },
    {
     "name": "stderr",
     "output_type": "stream",
     "text": [
      "\r",
      " 34%|###########################8                                                      | 17/50 [02:08<03:59,  7.25s/it]"
     ]
    },
    {
     "name": "stdout",
     "output_type": "stream",
     "text": [
      "gens_avg_error: 7.352941176470617 fakes_avg_error: 7.1197961943398 cumulative_avg_error: 7.236368685405203\n"
     ]
    },
    {
     "name": "stderr",
     "output_type": "stream",
     "text": [
      "\r",
      " 36%|#############################5                                                    | 18/50 [02:17<04:04,  7.63s/it]"
     ]
    },
    {
     "name": "stdout",
     "output_type": "stream",
     "text": [
      "gens_avg_error: 7.608695652173947 fakes_avg_error: 7.01661074224792 cumulative_avg_error: 7.312653197210928\n"
     ]
    },
    {
     "name": "stderr",
     "output_type": "stream",
     "text": [
      "\r",
      " 38%|###############################1                                                  | 19/50 [02:25<03:57,  7.66s/it]"
     ]
    },
    {
     "name": "stdout",
     "output_type": "stream",
     "text": [
      "gens_avg_error: 7.50000000000004 fakes_avg_error: 6.916373445930091 cumulative_avg_error: 7.20818672296506\n"
     ]
    },
    {
     "name": "stderr",
     "output_type": "stream",
     "text": [
      "\r",
      " 40%|################################8                                                 | 20/50 [02:31<03:39,  7.33s/it]"
     ]
    },
    {
     "name": "stdout",
     "output_type": "stream",
     "text": [
      "gens_avg_error: 8.098591549295818 fakes_avg_error: 6.959804805846559 cumulative_avg_error: 7.529198177571184\n"
     ]
    },
    {
     "name": "stderr",
     "output_type": "stream",
     "text": [
      "\r",
      " 42%|##################################4                                               | 21/50 [02:41<03:53,  8.07s/it]"
     ]
    },
    {
     "name": "stdout",
     "output_type": "stream",
     "text": [
      "gens_avg_error: 7.98611111111115 fakes_avg_error: 6.8631408502098035 cumulative_avg_error: 7.424625980660471\n"
     ]
    },
    {
     "name": "stderr",
     "output_type": "stream",
     "text": [
      "\r",
      " 44%|####################################                                              | 22/50 [02:49<03:42,  7.95s/it]"
     ]
    },
    {
     "name": "stdout",
     "output_type": "stream",
     "text": [
      "gens_avg_error: 7.990867579908711 fakes_avg_error: 6.769125222124739 cumulative_avg_error: 7.37999640101672\n"
     ]
    },
    {
     "name": "stderr",
     "output_type": "stream",
     "text": [
      "\r",
      " 46%|#####################################7                                            | 23/50 [02:59<03:56,  8.75s/it]"
     ]
    },
    {
     "name": "stdout",
     "output_type": "stream",
     "text": [
      "gens_avg_error: 7.882882882882914 fakes_avg_error: 6.722695602005935 cumulative_avg_error: 7.30278924244443\n"
     ]
    },
    {
     "name": "stderr",
     "output_type": "stream",
     "text": [
      "\r",
      " 48%|#######################################3                                          | 24/50 [03:05<03:24,  7.87s/it]"
     ]
    },
    {
     "name": "stdout",
     "output_type": "stream",
     "text": [
      "gens_avg_error: 8.00000000000004 fakes_avg_error: 6.633059660645846 cumulative_avg_error: 7.316529830322938\n"
     ]
    },
    {
     "name": "stderr",
     "output_type": "stream",
     "text": [
      "\r",
      " 50%|#########################################                                         | 25/50 [03:13<03:14,  7.80s/it]"
     ]
    },
    {
     "name": "stdout",
     "output_type": "stream",
     "text": [
      "gens_avg_error: 7.894736842105299 fakes_avg_error: 6.545782559847879 cumulative_avg_error: 7.2202597009765945\n"
     ]
    },
    {
     "name": "stderr",
     "output_type": "stream",
     "text": [
      "\r",
      " 52%|##########################################6                                       | 26/50 [03:18<02:50,  7.09s/it]"
     ]
    },
    {
     "name": "stdout",
     "output_type": "stream",
     "text": [
      "gens_avg_error: 7.90043290043293 fakes_avg_error: 6.504062440023017 cumulative_avg_error: 7.202247670227968\n"
     ]
    },
    {
     "name": "stderr",
     "output_type": "stream",
     "text": [
      "\r",
      " 54%|############################################2                                     | 27/50 [03:24<02:36,  6.82s/it]"
     ]
    },
    {
     "name": "stdout",
     "output_type": "stream",
     "text": [
      "gens_avg_error: 8.226495726495752 fakes_avg_error: 6.420677024125276 cumulative_avg_error: 7.32358637531052\n"
     ]
    },
    {
     "name": "stderr",
     "output_type": "stream",
     "text": [
      "\r",
      " 56%|#############################################9                                    | 28/50 [03:36<02:58,  8.11s/it]"
     ]
    },
    {
     "name": "stdout",
     "output_type": "stream",
     "text": [
      "gens_avg_error: 8.227848101265845 fakes_avg_error: 6.930119930992895 cumulative_avg_error: 7.578984016129375\n"
     ]
    },
    {
     "name": "stderr",
     "output_type": "stream",
     "text": [
      "\r",
      " 58%|###############################################5                                  | 29/50 [03:47<03:08,  9.00s/it]"
     ]
    },
    {
     "name": "stdout",
     "output_type": "stream",
     "text": [
      "gens_avg_error: 8.229166666666677 fakes_avg_error: 6.843493431855485 cumulative_avg_error: 7.536330049261086\n"
     ]
    },
    {
     "name": "stderr",
     "output_type": "stream",
     "text": [
      "\r",
      " 60%|#################################################1                                | 30/50 [03:53<02:41,  8.08s/it]"
     ]
    },
    {
     "name": "stdout",
     "output_type": "stream",
     "text": [
      "gens_avg_error: 8.127572016460915 fakes_avg_error: 6.759005858622702 cumulative_avg_error: 7.443288937541803\n"
     ]
    },
    {
     "name": "stderr",
     "output_type": "stream",
     "text": [
      "\r",
      " 62%|##################################################8                               | 31/50 [03:59<02:22,  7.51s/it]"
     ]
    },
    {
     "name": "stdout",
     "output_type": "stream",
     "text": [
      "gens_avg_error: 8.13008130081302 fakes_avg_error: 6.717229364411859 cumulative_avg_error: 7.423655332612444\n"
     ]
    },
    {
     "name": "stderr",
     "output_type": "stream",
     "text": [
      "\r",
      " 64%|####################################################4                             | 32/50 [04:07<02:20,  7.78s/it]"
     ]
    },
    {
     "name": "stdout",
     "output_type": "stream",
     "text": [
      "gens_avg_error: 8.032128514056236 fakes_avg_error: 6.636298890141834 cumulative_avg_error: 7.334213702099035\n"
     ]
    },
    {
     "name": "stderr",
     "output_type": "stream",
     "text": [
      "\r",
      " 66%|######################################################1                           | 33/50 [04:14<02:07,  7.52s/it]"
     ]
    },
    {
     "name": "stdout",
     "output_type": "stream",
     "text": [
      "gens_avg_error: 8.13492063492065 fakes_avg_error: 6.557295331925861 cumulative_avg_error: 7.346107983423256\n"
     ]
    },
    {
     "name": "stderr",
     "output_type": "stream",
     "text": [
      "\r",
      " 68%|#######################################################7                          | 34/50 [04:22<02:03,  7.72s/it]"
     ]
    },
    {
     "name": "stdout",
     "output_type": "stream",
     "text": [
      "gens_avg_error: 8.039215686274526 fakes_avg_error: 6.519366367236534 cumulative_avg_error: 7.27929102675553\n"
     ]
    },
    {
     "name": "stderr",
     "output_type": "stream",
     "text": [
      "\r",
      " 70%|#########################################################4                        | 35/50 [04:29<01:50,  7.36s/it]"
     ]
    },
    {
     "name": "stdout",
     "output_type": "stream",
     "text": [
      "gens_avg_error: 8.139534883720945 fakes_avg_error: 6.831156680795791 cumulative_avg_error: 7.485345782258368\n"
     ]
    },
    {
     "name": "stderr",
     "output_type": "stream",
     "text": [
      "\r",
      " 72%|###########################################################                       | 36/50 [04:35<01:39,  7.09s/it]"
     ]
    },
    {
     "name": "stdout",
     "output_type": "stream",
     "text": [
      "gens_avg_error: 8.237547892720332 fakes_avg_error: 6.752637638487791 cumulative_avg_error: 7.495092765604062\n"
     ]
    },
    {
     "name": "stderr",
     "output_type": "stream",
     "text": [
      "\r",
      " 74%|############################################################6                     | 37/50 [04:44<01:38,  7.61s/it]"
     ]
    },
    {
     "name": "stdout",
     "output_type": "stream",
     "text": [
      "gens_avg_error: 8.238636363636376 fakes_avg_error: 6.675903119868609 cumulative_avg_error: 7.4572697417524925\n"
     ]
    },
    {
     "name": "stderr",
     "output_type": "stream",
     "text": [
      "\r",
      " 76%|##############################################################3                   | 38/50 [04:54<01:38,  8.20s/it]"
     ]
    },
    {
     "name": "stdout",
     "output_type": "stream",
     "text": [
      "gens_avg_error: 8.239700374531845 fakes_avg_error: 6.600892972454364 cumulative_avg_error: 7.42029667349311\n"
     ]
    },
    {
     "name": "stderr",
     "output_type": "stream",
     "text": [
      "\r",
      " 78%|###############################################################9                  | 39/50 [05:03<01:32,  8.45s/it]"
     ]
    },
    {
     "name": "stdout",
     "output_type": "stream",
     "text": [
      "gens_avg_error: 8.240740740740748 fakes_avg_error: 6.527549717204861 cumulative_avg_error: 7.384145228972805\n"
     ]
    },
    {
     "name": "stderr",
     "output_type": "stream",
     "text": [
      "\r",
      " 80%|#################################################################6                | 40/50 [05:11<01:23,  8.35s/it]"
     ]
    },
    {
     "name": "stdout",
     "output_type": "stream",
     "text": [
      "gens_avg_error: 8.333333333333348 fakes_avg_error: 6.455818401631186 cumulative_avg_error: 7.394575867482267\n"
     ]
    },
    {
     "name": "stderr",
     "output_type": "stream",
     "text": [
      "\r",
      " 82%|###################################################################2              | 41/50 [05:17<01:09,  7.68s/it]"
     ]
    },
    {
     "name": "stdout",
     "output_type": "stream",
     "text": [
      "gens_avg_error: 8.242753623188415 fakes_avg_error: 6.458110230598956 cumulative_avg_error: 7.350431926893686\n"
     ]
    },
    {
     "name": "stderr",
     "output_type": "stream",
     "text": [
      "\r",
      " 84%|####################################################################8             | 42/50 [05:27<01:07,  8.44s/it]"
     ]
    },
    {
     "name": "stdout",
     "output_type": "stream",
     "text": [
      "gens_avg_error: 8.15412186379929 fakes_avg_error: 6.711248830269934 cumulative_avg_error: 7.432685347034607\n"
     ]
    },
    {
     "name": "stderr",
     "output_type": "stream",
     "text": [
      "\r",
      " 86%|######################################################################5           | 43/50 [05:37<01:01,  8.72s/it]"
     ]
    },
    {
     "name": "stdout",
     "output_type": "stream",
     "text": [
      "gens_avg_error: 8.156028368794333 fakes_avg_error: 6.639852566118131 cumulative_avg_error: 7.397940467456232\n"
     ]
    },
    {
     "name": "stderr",
     "output_type": "stream",
     "text": [
      "\r",
      " 88%|########################################################################1         | 44/50 [05:42<00:46,  7.79s/it]"
     ]
    },
    {
     "name": "stdout",
     "output_type": "stream",
     "text": [
      "gens_avg_error: 8.157894736842108 fakes_avg_error: 7.166450609281794 cumulative_avg_error: 7.662172673061951\n"
     ]
    },
    {
     "name": "stderr",
     "output_type": "stream",
     "text": [
      "\r",
      " 90%|#########################################################################8        | 45/50 [05:53<00:43,  8.60s/it]"
     ]
    },
    {
     "name": "stdout",
     "output_type": "stream",
     "text": [
      "gens_avg_error: 8.072916666666663 fakes_avg_error: 7.0918000821017735 cumulative_avg_error: 7.582358374384213\n"
     ]
    },
    {
     "name": "stderr",
     "output_type": "stream",
     "text": [
      "\r",
      " 92%|###########################################################################4      | 46/50 [05:59<00:31,  7.95s/it]"
     ]
    },
    {
     "name": "stdout",
     "output_type": "stream",
     "text": [
      "gens_avg_error: 8.161512027491414 fakes_avg_error: 7.053053002217558 cumulative_avg_error: 7.607282514854486\n"
     ]
    },
    {
     "name": "stderr",
     "output_type": "stream",
     "text": [
      "\r",
      " 94%|#############################################################################     | 47/50 [06:07<00:23,  7.95s/it]"
     ]
    },
    {
     "name": "stdout",
     "output_type": "stream",
     "text": [
      "gens_avg_error: 8.078231292517014 fakes_avg_error: 7.627341577024871 cumulative_avg_error: 7.852786434770942\n"
     ]
    },
    {
     "name": "stderr",
     "output_type": "stream",
     "text": [
      "\r",
      " 96%|##############################################################################7   | 48/50 [06:14<00:15,  7.82s/it]"
     ]
    },
    {
     "name": "stdout",
     "output_type": "stream",
     "text": [
      "gens_avg_error: 7.996632996633002 fakes_avg_error: 7.550297722711486 cumulative_avg_error: 7.773465359672249\n"
     ]
    },
    {
     "name": "stderr",
     "output_type": "stream",
     "text": [
      "\r",
      " 98%|################################################################################3 | 49/50 [06:19<00:06,  6.96s/it]"
     ]
    },
    {
     "name": "stdout",
     "output_type": "stream",
     "text": [
      "gens_avg_error: 7.9999999999999964 fakes_avg_error: 7.47479474548437 cumulative_avg_error: 7.737397372742183\n"
     ]
    },
    {
     "name": "stderr",
     "output_type": "stream",
     "text": [
      "100%|##################################################################################| 50/50 [06:28<00:00,  7.50s/it]\n",
      "  0%|                                                                                           | 0/50 [00:00<?, ?it/s]"
     ]
    },
    {
     "name": "stdout",
     "output_type": "stream",
     "text": [
      "gens_avg_error: 7.920792079207917 fakes_avg_error: 7.928839681997724 cumulative_avg_error: 7.92481588060282\n"
     ]
    },
    {
     "name": "stderr",
     "output_type": "stream",
     "text": [
      "\r",
      "  2%|#6                                                                                 | 1/50 [00:08<06:59,  8.56s/it]"
     ]
    },
    {
     "name": "stdout",
     "output_type": "stream",
     "text": [
      "gens_avg_error: 7.843137254901967 fakes_avg_error: 7.851105959625205 cumulative_avg_error: 7.847121607263585\n"
     ]
    },
    {
     "name": "stderr",
     "output_type": "stream",
     "text": [
      "\r",
      "  4%|###3                                                                               | 2/50 [00:14<06:16,  7.85s/it]"
     ]
    },
    {
     "name": "stdout",
     "output_type": "stream",
     "text": [
      "gens_avg_error: 7.7669902912621325 fakes_avg_error: 7.871969008560875 cumulative_avg_error: 7.819479649911498\n"
     ]
    },
    {
     "name": "stderr",
     "output_type": "stream",
     "text": [
      "\r",
      "  6%|####9                                                                              | 3/50 [00:23<06:21,  8.11s/it]"
     ]
    },
    {
     "name": "stdout",
     "output_type": "stream",
     "text": [
      "gens_avg_error: 7.7724358974358925 fakes_avg_error: 7.828328280914453 cumulative_avg_error: 7.800382089175173\n"
     ]
    },
    {
     "name": "stderr",
     "output_type": "stream",
     "text": [
      "\r",
      "  8%|######6                                                                            | 4/50 [00:29<05:46,  7.53s/it]"
     ]
    },
    {
     "name": "stdout",
     "output_type": "stream",
     "text": [
      "gens_avg_error: 8.0952380952381 fakes_avg_error: 7.789046142083878 cumulative_avg_error: 7.942142118660989\n"
     ]
    },
    {
     "name": "stderr",
     "output_type": "stream",
     "text": [
      "\r",
      " 10%|########3                                                                          | 5/50 [00:37<05:47,  7.73s/it]"
     ]
    },
    {
     "name": "stdout",
     "output_type": "stream",
     "text": [
      "gens_avg_error: 8.018867924528305 fakes_avg_error: 7.715564574705724 cumulative_avg_error: 7.867216249617015\n"
     ]
    },
    {
     "name": "stderr",
     "output_type": "stream",
     "text": [
      "\r",
      " 12%|#########9                                                                         | 6/50 [00:47<06:02,  8.24s/it]"
     ]
    },
    {
     "name": "stdout",
     "output_type": "stream",
     "text": [
      "gens_avg_error: 7.943925233644855 fakes_avg_error: 7.712684601179576 cumulative_avg_error: 7.828304917412221\n"
     ]
    },
    {
     "name": "stderr",
     "output_type": "stream",
     "text": [
      "\r",
      " 14%|###########6                                                                       | 7/50 [00:55<05:55,  8.27s/it]"
     ]
    },
    {
     "name": "stdout",
     "output_type": "stream",
     "text": [
      "gens_avg_error: 7.870370370370372 fakes_avg_error: 8.351147398082237 cumulative_avg_error: 8.1107588842263\n"
     ]
    },
    {
     "name": "stderr",
     "output_type": "stream",
     "text": [
      "\r",
      " 16%|#############2                                                                     | 8/50 [01:03<05:37,  8.03s/it]"
     ]
    },
    {
     "name": "stdout",
     "output_type": "stream",
     "text": [
      "gens_avg_error: 7.874617737003053 fakes_avg_error: 8.335693446417869 cumulative_avg_error: 8.105155591710457\n"
     ]
    },
    {
     "name": "stderr",
     "output_type": "stream",
     "text": [
      "\r",
      " 18%|##############9                                                                    | 9/50 [01:10<05:18,  7.77s/it]"
     ]
    },
    {
     "name": "stdout",
     "output_type": "stream",
     "text": [
      "gens_avg_error: 7.878787878787874 fakes_avg_error: 8.441732596904982 cumulative_avg_error: 8.160260237846428\n"
     ]
    },
    {
     "name": "stderr",
     "output_type": "stream",
     "text": [
      "\r",
      " 20%|################4                                                                 | 10/50 [01:17<05:01,  7.54s/it]"
     ]
    },
    {
     "name": "stdout",
     "output_type": "stream",
     "text": [
      "gens_avg_error: 8.183183183183173 fakes_avg_error: 8.425741011947874 cumulative_avg_error: 8.304462097565523\n"
     ]
    },
    {
     "name": "stderr",
     "output_type": "stream",
     "text": [
      "\r",
      " 22%|##################                                                                | 11/50 [01:27<05:20,  8.22s/it]"
     ]
    },
    {
     "name": "stdout",
     "output_type": "stream",
     "text": [
      "gens_avg_error: 8.333333333333325 fakes_avg_error: 8.350511181484055 cumulative_avg_error: 8.341922257408685\n"
     ]
    },
    {
     "name": "stderr",
     "output_type": "stream",
     "text": [
      "\r",
      " 24%|###################6                                                              | 12/50 [01:33<04:49,  7.62s/it]"
     ]
    },
    {
     "name": "stdout",
     "output_type": "stream",
     "text": [
      "gens_avg_error: 8.480825958702065 fakes_avg_error: 8.276612852444377 cumulative_avg_error: 8.378719405573221\n"
     ]
    },
    {
     "name": "stderr",
     "output_type": "stream",
     "text": [
      "\r",
      " 26%|#####################3                                                            | 13/50 [01:40<04:33,  7.39s/it]"
     ]
    },
    {
     "name": "stdout",
     "output_type": "stream",
     "text": [
      "gens_avg_error: 8.552631578947366 fakes_avg_error: 8.204010985317666 cumulative_avg_error: 8.378321282132518\n"
     ]
    },
    {
     "name": "stderr",
     "output_type": "stream",
     "text": [
      "\r",
      " 28%|######################9                                                           | 14/50 [01:48<04:38,  7.73s/it]"
     ]
    },
    {
     "name": "stdout",
     "output_type": "stream",
     "text": [
      "gens_avg_error: 8.550724637681151 fakes_avg_error: 8.132671759358379 cumulative_avg_error: 8.341698198519765\n"
     ]
    },
    {
     "name": "stderr",
     "output_type": "stream",
     "text": [
      "\r",
      " 30%|########################5                                                         | 15/50 [01:55<04:17,  7.36s/it]"
     ]
    },
    {
     "name": "stdout",
     "output_type": "stream",
     "text": [
      "gens_avg_error: 8.548850574712642 fakes_avg_error: 8.20624068097311 cumulative_avg_error: 8.377545627842874\n"
     ]
    },
    {
     "name": "stderr",
     "output_type": "stream",
     "text": [
      "\r",
      " 32%|##########################2                                                       | 16/50 [02:01<03:57,  7.00s/it]"
     ]
    },
    {
     "name": "stdout",
     "output_type": "stream",
     "text": [
      "gens_avg_error: 8.618233618233617 fakes_avg_error: 8.33553207116423 cumulative_avg_error: 8.476882844698919\n"
     ]
    },
    {
     "name": "stderr",
     "output_type": "stream",
     "text": [
      "\r",
      " 34%|###########################8                                                      | 17/50 [02:13<04:45,  8.66s/it]"
     ]
    },
    {
     "name": "stdout",
     "output_type": "stream",
     "text": [
      "gens_avg_error: 8.615819209039543 fakes_avg_error: 8.37788631914872 cumulative_avg_error: 8.496852764094132\n"
     ]
    },
    {
     "name": "stderr",
     "output_type": "stream",
     "text": [
      "\r",
      " 36%|#############################5                                                    | 18/50 [02:20<04:17,  8.06s/it]"
     ]
    },
    {
     "name": "stdout",
     "output_type": "stream",
     "text": [
      "gens_avg_error: 8.54341736694677 fakes_avg_error: 8.335495117587243 cumulative_avg_error: 8.439456242267006\n"
     ]
    },
    {
     "name": "stderr",
     "output_type": "stream",
     "text": [
      "\r",
      " 38%|###############################1                                                  | 19/50 [02:25<03:43,  7.21s/it]"
     ]
    },
    {
     "name": "stdout",
     "output_type": "stream",
     "text": [
      "gens_avg_error: 8.541666666666659 fakes_avg_error: 8.293810436051785 cumulative_avg_error: 8.417738551359221\n"
     ]
    },
    {
     "name": "stderr",
     "output_type": "stream",
     "text": [
      "\r",
      " 40%|################################8                                                 | 20/50 [02:33<03:41,  7.37s/it]"
     ]
    },
    {
     "name": "stdout",
     "output_type": "stream",
     "text": [
      "gens_avg_error: 8.539944903581254 fakes_avg_error: 8.33925913863216 cumulative_avg_error: 8.439602021106706\n"
     ]
    },
    {
     "name": "stderr",
     "output_type": "stream",
     "text": [
      "\r",
      " 42%|##################################4                                               | 21/50 [02:43<03:56,  8.16s/it]"
     ]
    },
    {
     "name": "stdout",
     "output_type": "stream",
     "text": [
      "gens_avg_error: 8.469945355191244 fakes_avg_error: 8.571451003616037 cumulative_avg_error: 8.520698179403642\n"
     ]
    },
    {
     "name": "stderr",
     "output_type": "stream",
     "text": [
      "\r",
      " 44%|####################################                                              | 22/50 [02:50<03:40,  7.87s/it]"
     ]
    },
    {
     "name": "stdout",
     "output_type": "stream",
     "text": [
      "gens_avg_error: 8.401084010840087 fakes_avg_error: 8.610165494101551 cumulative_avg_error: 8.505624752470819\n"
     ]
    },
    {
     "name": "stderr",
     "output_type": "stream",
     "text": [
      "\r",
      " 46%|#####################################7                                            | 23/50 [02:57<03:26,  7.67s/it]"
     ]
    },
    {
     "name": "stdout",
     "output_type": "stream",
     "text": [
      "gens_avg_error: 8.534946236559126 fakes_avg_error: 8.917072761622236 cumulative_avg_error: 8.726009499090681\n"
     ]
    },
    {
     "name": "stderr",
     "output_type": "stream",
     "text": [
      "\r",
      " 48%|#######################################3                                          | 24/50 [03:02<02:55,  6.76s/it]"
     ]
    },
    {
     "name": "stdout",
     "output_type": "stream",
     "text": [
      "gens_avg_error: 8.533333333333315 fakes_avg_error: 8.845736179529261 cumulative_avg_error: 8.689534756431282\n"
     ]
    },
    {
     "name": "stderr",
     "output_type": "stream",
     "text": [
      "\r",
      " 50%|#########################################                                         | 25/50 [03:11<03:03,  7.34s/it]"
     ]
    },
    {
     "name": "stdout",
     "output_type": "stream",
     "text": [
      "gens_avg_error: 8.465608465608444 fakes_avg_error: 8.82844197704622 cumulative_avg_error: 8.64702522132733\n"
     ]
    },
    {
     "name": "stderr",
     "output_type": "stream",
     "text": [
      "\r",
      " 52%|##########################################6                                       | 26/50 [03:18<02:54,  7.29s/it]"
     ]
    },
    {
     "name": "stdout",
     "output_type": "stream",
     "text": [
      "gens_avg_error: 8.398950131233573 fakes_avg_error: 8.75892668588838 cumulative_avg_error: 8.578938408560976\n"
     ]
    },
    {
     "name": "stderr",
     "output_type": "stream",
     "text": [
      "\r",
      " 54%|############################################2                                     | 27/50 [03:25<02:47,  7.28s/it]"
     ]
    },
    {
     "name": "stdout",
     "output_type": "stream",
     "text": [
      "gens_avg_error: 9.114583333333314 fakes_avg_error: 8.820705904488213 cumulative_avg_error: 8.967644618910764\n"
     ]
    },
    {
     "name": "stderr",
     "output_type": "stream",
     "text": [
      "\r",
      " 56%|#############################################9                                    | 28/50 [03:31<02:31,  6.88s/it]"
     ]
    },
    {
     "name": "stdout",
     "output_type": "stream",
     "text": [
      "gens_avg_error: 9.043927648578798 fakes_avg_error: 8.778168132618791 cumulative_avg_error: 8.9110478905988\n"
     ]
    },
    {
     "name": "stderr",
     "output_type": "stream",
     "text": [
      "\r",
      " 58%|###############################################5                                  | 29/50 [03:40<02:37,  7.52s/it]"
     ]
    },
    {
     "name": "stdout",
     "output_type": "stream",
     "text": [
      "gens_avg_error: 8.974358974358953 fakes_avg_error: 8.710643762367877 cumulative_avg_error: 8.84250136836342\n"
     ]
    },
    {
     "name": "stderr",
     "output_type": "stream",
     "text": [
      "\r",
      " 60%|#################################################1                                | 30/50 [03:50<02:44,  8.25s/it]"
     ]
    },
    {
     "name": "stdout",
     "output_type": "stream",
     "text": [
      "gens_avg_error: 9.414758269720092 fakes_avg_error: 8.669595591153879 cumulative_avg_error: 9.042176930436984\n"
     ]
    },
    {
     "name": "stderr",
     "output_type": "stream",
     "text": [
      "\r",
      " 62%|##################################################8                               | 31/50 [03:56<02:26,  7.70s/it]"
     ]
    },
    {
     "name": "stdout",
     "output_type": "stream",
     "text": [
      "gens_avg_error: 9.406565656565636 fakes_avg_error: 8.704926937685542 cumulative_avg_error: 9.055746297125589\n"
     ]
    },
    {
     "name": "stderr",
     "output_type": "stream",
     "text": [
      "\r",
      " 64%|####################################################4                             | 32/50 [04:05<02:21,  7.87s/it]"
     ]
    },
    {
     "name": "stdout",
     "output_type": "stream",
     "text": [
      "gens_avg_error: 9.335839598997476 fakes_avg_error: 8.6394763592067 cumulative_avg_error: 8.987657979102082\n"
     ]
    },
    {
     "name": "stderr",
     "output_type": "stream",
     "text": [
      "\r",
      " 66%|######################################################1                           | 33/50 [04:12<02:09,  7.63s/it]"
     ]
    },
    {
     "name": "stdout",
     "output_type": "stream",
     "text": [
      "gens_avg_error: 9.328358208955201 fakes_avg_error: 8.624753898814607 cumulative_avg_error: 8.976556053884899\n"
     ]
    },
    {
     "name": "stderr",
     "output_type": "stream",
     "text": [
      "\r",
      " 68%|#######################################################7                          | 34/50 [04:21<02:10,  8.14s/it]"
     ]
    },
    {
     "name": "stdout",
     "output_type": "stream",
     "text": [
      "gens_avg_error: 9.320987654320966 fakes_avg_error: 8.560866832897462 cumulative_avg_error: 8.94092724360922\n"
     ]
    },
    {
     "name": "stderr",
     "output_type": "stream",
     "text": [
      "\r",
      " 70%|#########################################################4                        | 35/50 [04:29<02:00,  8.04s/it]"
     ]
    },
    {
     "name": "stdout",
     "output_type": "stream",
     "text": [
      "gens_avg_error: 9.252450980392135 fakes_avg_error: 8.546938890498712 cumulative_avg_error: 8.899694935445424\n"
     ]
    },
    {
     "name": "stderr",
     "output_type": "stream",
     "text": [
      "\r",
      " 72%|###########################################################                       | 36/50 [04:36<01:50,  7.88s/it]"
     ]
    },
    {
     "name": "stdout",
     "output_type": "stream",
     "text": [
      "gens_avg_error: 9.184914841849123 fakes_avg_error: 8.484552475239592 cumulative_avg_error: 8.834733658544359\n"
     ]
    },
    {
     "name": "stderr",
     "output_type": "stream",
     "text": [
      "\r",
      " 74%|############################################################6                     | 37/50 [04:44<01:39,  7.67s/it]"
     ]
    },
    {
     "name": "stdout",
     "output_type": "stream",
     "text": [
      "gens_avg_error: 9.17874396135263 fakes_avg_error: 8.423070210926264 cumulative_avg_error: 8.800907086139453\n"
     ]
    },
    {
     "name": "stderr",
     "output_type": "stream",
     "text": [
      "\r",
      " 76%|##############################################################3                   | 38/50 [04:49<01:23,  6.98s/it]"
     ]
    },
    {
     "name": "stdout",
     "output_type": "stream",
     "text": [
      "gens_avg_error: 9.11270983213427 fakes_avg_error: 8.362472583509529 cumulative_avg_error: 8.737591207821893\n"
     ]
    },
    {
     "name": "stderr",
     "output_type": "stream",
     "text": [
      "\r",
      " 78%|###############################################################9                  | 39/50 [04:57<01:21,  7.41s/it]"
     ]
    },
    {
     "name": "stdout",
     "output_type": "stream",
     "text": [
      "gens_avg_error: 9.047619047619015 fakes_avg_error: 8.302740636484462 cumulative_avg_error: 8.675179842051739\n"
     ]
    },
    {
     "name": "stderr",
     "output_type": "stream",
     "text": [
      "\r",
      " 80%|#################################################################6                | 40/50 [05:04<01:11,  7.18s/it]"
     ]
    },
    {
     "name": "stdout",
     "output_type": "stream",
     "text": [
      "gens_avg_error: 8.983451536642995 fakes_avg_error: 8.314777936934913 cumulative_avg_error: 8.649114736788954\n"
     ]
    },
    {
     "name": "stderr",
     "output_type": "stream",
     "text": [
      "\r",
      " 82%|###################################################################2              | 41/50 [05:14<01:11,  8.00s/it]"
     ]
    },
    {
     "name": "stdout",
     "output_type": "stream",
     "text": [
      "gens_avg_error: 9.33098591549294 fakes_avg_error: 8.256223162731146 cumulative_avg_error: 8.793604539112042\n"
     ]
    },
    {
     "name": "stderr",
     "output_type": "stream",
     "text": [
      "\r",
      " 84%|####################################################################8             | 42/50 [05:19<00:58,  7.25s/it]"
     ]
    },
    {
     "name": "stdout",
     "output_type": "stream",
     "text": [
      "gens_avg_error: 9.265734265734249 fakes_avg_error: 8.245107383038386 cumulative_avg_error: 8.755420824386317\n"
     ]
    },
    {
     "name": "stderr",
     "output_type": "stream",
     "text": [
      "\r",
      " 86%|######################################################################5           | 43/50 [05:26<00:49,  7.03s/it]"
     ]
    },
    {
     "name": "stdout",
     "output_type": "stream",
     "text": [
      "gens_avg_error: 9.201388888888873 fakes_avg_error: 8.187849692878402 cumulative_avg_error: 8.694619290883644\n"
     ]
    },
    {
     "name": "stderr",
     "output_type": "stream",
     "text": [
      "\r",
      " 88%|########################################################################1         | 44/50 [05:32<00:40,  6.83s/it]"
     ]
    },
    {
     "name": "stdout",
     "output_type": "stream",
     "text": [
      "gens_avg_error: 9.367816091954007 fakes_avg_error: 8.177358775456245 cumulative_avg_error: 8.772587433705127\n"
     ]
    },
    {
     "name": "stderr",
     "output_type": "stream",
     "text": [
      "\r",
      " 90%|#########################################################################8        | 45/50 [05:41<00:37,  7.46s/it]"
     ]
    },
    {
     "name": "stdout",
     "output_type": "stream",
     "text": [
      "gens_avg_error: 9.360730593607302 fakes_avg_error: 8.189842619459975 cumulative_avg_error: 8.775286606533639\n"
     ]
    },
    {
     "name": "stderr",
     "output_type": "stream",
     "text": [
      "\r",
      " 92%|###########################################################################4      | 46/50 [05:52<00:33,  8.38s/it]"
     ]
    },
    {
     "name": "stdout",
     "output_type": "stream",
     "text": [
      "gens_avg_error: 9.297052154195008 fakes_avg_error: 8.179480878284506 cumulative_avg_error: 8.738266516239756\n"
     ]
    },
    {
     "name": "stderr",
     "output_type": "stream",
     "text": [
      "\r",
      " 94%|#############################################################################     | 47/50 [05:58<00:22,  7.59s/it]"
     ]
    },
    {
     "name": "stdout",
     "output_type": "stream",
     "text": [
      "gens_avg_error: 9.290540540540537 fakes_avg_error: 8.124214115593386 cumulative_avg_error: 8.707377328066968\n"
     ]
    },
    {
     "name": "stderr",
     "output_type": "stream",
     "text": [
      "\r",
      " 96%|##############################################################################7   | 48/50 [06:07<00:16,  8.29s/it]"
     ]
    },
    {
     "name": "stdout",
     "output_type": "stream",
     "text": [
      "gens_avg_error: 9.228187919463082 fakes_avg_error: 8.092060553296342 cumulative_avg_error: 8.660124236379719\n"
     ]
    },
    {
     "name": "stderr",
     "output_type": "stream",
     "text": [
      "\r",
      " 98%|################################################################################3 | 49/50 [06:15<00:08,  8.09s/it]"
     ]
    },
    {
     "name": "stdout",
     "output_type": "stream",
     "text": [
      "gens_avg_error: 9.166666666666668 fakes_avg_error: 8.104780149607693 cumulative_avg_error: 8.635723408137185\n"
     ]
    },
    {
     "name": "stderr",
     "output_type": "stream",
     "text": [
      "100%|##################################################################################| 50/50 [06:22<00:00,  7.80s/it]\n",
      "  0%|                                                                                           | 0/50 [00:00<?, ?it/s]"
     ]
    },
    {
     "name": "stdout",
     "output_type": "stream",
     "text": [
      "gens_avg_error: 9.10596026490066 fakes_avg_error: 8.051106108881822 cumulative_avg_error: 8.578533186891235\n"
     ]
    },
    {
     "name": "stderr",
     "output_type": "stream",
     "text": [
      "\r",
      "  2%|#6                                                                                 | 1/50 [00:08<06:40,  8.18s/it]"
     ]
    },
    {
     "name": "stdout",
     "output_type": "stream",
     "text": [
      "gens_avg_error: 9.100877192982459 fakes_avg_error: 7.998138305533908 cumulative_avg_error: 8.54950774925818\n"
     ]
    },
    {
     "name": "stderr",
     "output_type": "stream",
     "text": [
      "\r",
      "  4%|###3                                                                               | 2/50 [00:13<05:55,  7.40s/it]"
     ]
    },
    {
     "name": "stdout",
     "output_type": "stream",
     "text": [
      "gens_avg_error: 9.041394335511988 fakes_avg_error: 7.96764938414698 cumulative_avg_error: 8.504521859829484\n"
     ]
    },
    {
     "name": "stderr",
     "output_type": "stream",
     "text": [
      "\r",
      "  6%|####9                                                                              | 3/50 [00:21<05:50,  7.45s/it]"
     ]
    },
    {
     "name": "stdout",
     "output_type": "stream",
     "text": [
      "gens_avg_error: 9.090909090909093 fakes_avg_error: 7.915911401133036 cumulative_avg_error: 8.503410246021058\n"
     ]
    },
    {
     "name": "stderr",
     "output_type": "stream",
     "text": [
      "\r",
      "  8%|######6                                                                            | 4/50 [00:30<06:08,  8.01s/it]"
     ]
    },
    {
     "name": "stdout",
     "output_type": "stream",
     "text": [
      "gens_avg_error: 9.03225806451613 fakes_avg_error: 7.864841004996692 cumulative_avg_error: 8.448549534756411\n"
     ]
    },
    {
     "name": "stderr",
     "output_type": "stream",
     "text": [
      "\r",
      " 10%|########3                                                                          | 5/50 [00:36<05:37,  7.51s/it]"
     ]
    },
    {
     "name": "stdout",
     "output_type": "stream",
     "text": [
      "gens_avg_error: 8.974358974358976 fakes_avg_error: 7.857160400263807 cumulative_avg_error: 8.415759687311386\n"
     ]
    },
    {
     "name": "stderr",
     "output_type": "stream",
     "text": [
      "\r",
      " 12%|#########9                                                                         | 6/50 [00:46<05:56,  8.09s/it]"
     ]
    },
    {
     "name": "stdout",
     "output_type": "stream",
     "text": [
      "gens_avg_error: 8.917197452229297 fakes_avg_error: 8.2954375102409 cumulative_avg_error: 8.606317481235104\n"
     ]
    },
    {
     "name": "stderr",
     "output_type": "stream",
     "text": [
      "\r",
      " 14%|###########6                                                                       | 7/50 [00:50<05:01,  7.02s/it]"
     ]
    },
    {
     "name": "stdout",
     "output_type": "stream",
     "text": [
      "gens_avg_error: 8.860759493670889 fakes_avg_error: 8.242934741188746 cumulative_avg_error: 8.551847117429823\n"
     ]
    },
    {
     "name": "stderr",
     "output_type": "stream",
     "text": [
      "\r",
      " 16%|#############2                                                                     | 8/50 [00:57<04:48,  6.86s/it]"
     ]
    },
    {
     "name": "stdout",
     "output_type": "stream",
     "text": [
      "gens_avg_error: 8.805031446540879 fakes_avg_error: 8.191092384325927 cumulative_avg_error: 8.498061915433407\n"
     ]
    },
    {
     "name": "stderr",
     "output_type": "stream",
     "text": [
      "\r",
      " 18%|##############9                                                                    | 9/50 [01:04<04:41,  6.86s/it]"
     ]
    },
    {
     "name": "stdout",
     "output_type": "stream",
     "text": [
      "gens_avg_error: 8.854166666666663 fakes_avg_error: 8.244064723590549 cumulative_avg_error: 8.549115695128606\n"
     ]
    },
    {
     "name": "stderr",
     "output_type": "stream",
     "text": [
      "\r",
      " 20%|################4                                                                 | 10/50 [01:12<04:46,  7.17s/it]"
     ]
    },
    {
     "name": "stdout",
     "output_type": "stream",
     "text": [
      "gens_avg_error: 8.7991718426501 fakes_avg_error: 8.296379021373623 cumulative_avg_error: 8.54777543201186\n"
     ]
    },
    {
     "name": "stderr",
     "output_type": "stream",
     "text": [
      "\r",
      " 22%|##################                                                                | 11/50 [01:17<04:19,  6.66s/it]"
     ]
    },
    {
     "name": "stdout",
     "output_type": "stream",
     "text": [
      "gens_avg_error: 8.74485596707818 fakes_avg_error: 8.245166805192305 cumulative_avg_error: 8.495011386135243\n"
     ]
    },
    {
     "name": "stderr",
     "output_type": "stream",
     "text": [
      "\r",
      " 24%|###################6                                                              | 12/50 [01:24<04:15,  6.73s/it]"
     ]
    },
    {
     "name": "stdout",
     "output_type": "stream",
     "text": [
      "gens_avg_error: 8.742331288343564 fakes_avg_error: 8.194582959761675 cumulative_avg_error: 8.46845712405262\n"
     ]
    },
    {
     "name": "stderr",
     "output_type": "stream",
     "text": [
      "\r",
      " 26%|#####################3                                                            | 13/50 [01:30<03:55,  6.37s/it]"
     ]
    },
    {
     "name": "stdout",
     "output_type": "stream",
     "text": [
      "gens_avg_error: 8.689024390243905 fakes_avg_error: 8.144615990494842 cumulative_avg_error: 8.416820190369378\n"
     ]
    },
    {
     "name": "stderr",
     "output_type": "stream",
     "text": [
      "\r",
      " 28%|######################9                                                           | 14/50 [01:36<03:45,  6.26s/it]"
     ]
    },
    {
     "name": "stdout",
     "output_type": "stream",
     "text": [
      "gens_avg_error: 8.636363636363631 fakes_avg_error: 8.11545670166356 cumulative_avg_error: 8.3759101690136\n"
     ]
    },
    {
     "name": "stderr",
     "output_type": "stream",
     "text": [
      "\r",
      " 30%|########################5                                                         | 15/50 [01:43<03:52,  6.65s/it]"
     ]
    },
    {
     "name": "stdout",
     "output_type": "stream",
     "text": [
      "gens_avg_error: 8.63453815261045 fakes_avg_error: 8.06656840828004 cumulative_avg_error: 8.35055328044525\n"
     ]
    },
    {
     "name": "stderr",
     "output_type": "stream",
     "text": [
      "\r",
      " 32%|##########################2                                                       | 16/50 [01:51<04:02,  7.12s/it]"
     ]
    },
    {
     "name": "stdout",
     "output_type": "stream",
     "text": [
      "gens_avg_error: 8.582834331337331 fakes_avg_error: 8.138026082481954 cumulative_avg_error: 8.36043020690964\n"
     ]
    },
    {
     "name": "stderr",
     "output_type": "stream",
     "text": [
      "\r",
      " 34%|###########################8                                                      | 17/50 [01:58<03:47,  6.90s/it]"
     ]
    },
    {
     "name": "stdout",
     "output_type": "stream",
     "text": [
      "gens_avg_error: 8.531746031746035 fakes_avg_error: 8.089585451038605 cumulative_avg_error: 8.31066574139232\n"
     ]
    },
    {
     "name": "stderr",
     "output_type": "stream",
     "text": [
      "\r",
      " 36%|#############################5                                                    | 18/50 [02:07<04:07,  7.72s/it]"
     ]
    },
    {
     "name": "stdout",
     "output_type": "stream",
     "text": [
      "gens_avg_error: 8.481262327416184 fakes_avg_error: 8.06144194738354 cumulative_avg_error: 8.271352137399868\n"
     ]
    },
    {
     "name": "stderr",
     "output_type": "stream",
     "text": [
      "\r",
      " 38%|###############################1                                                  | 19/50 [02:13<03:43,  7.20s/it]"
     ]
    },
    {
     "name": "stdout",
     "output_type": "stream",
     "text": [
      "gens_avg_error: 8.62745098039217 fakes_avg_error: 8.03362954377148 cumulative_avg_error: 8.33054026208182\n"
     ]
    },
    {
     "name": "stderr",
     "output_type": "stream",
     "text": [
      "\r",
      " 40%|################################8                                                 | 20/50 [02:25<04:12,  8.40s/it]"
     ]
    },
    {
     "name": "stdout",
     "output_type": "stream",
     "text": [
      "gens_avg_error: 8.723196881091633 fakes_avg_error: 8.00614243142973 cumulative_avg_error: 8.36466965626068\n"
     ]
    },
    {
     "name": "stderr",
     "output_type": "stream",
     "text": [
      "\r",
      " 42%|##################################4                                               | 21/50 [02:33<04:07,  8.53s/it]"
     ]
    },
    {
     "name": "stdout",
     "output_type": "stream",
     "text": [
      "gens_avg_error: 8.672480620155055 fakes_avg_error: 7.978974936673355 cumulative_avg_error: 8.325727778414205\n"
     ]
    },
    {
     "name": "stderr",
     "output_type": "stream",
     "text": [
      "\r",
      " 44%|####################################                                              | 22/50 [02:45<04:21,  9.35s/it]"
     ]
    },
    {
     "name": "stdout",
     "output_type": "stream",
     "text": [
      "gens_avg_error: 8.622350674373802 fakes_avg_error: 8.31821014898545 cumulative_avg_error: 8.470280411679632\n"
     ]
    },
    {
     "name": "stderr",
     "output_type": "stream",
     "text": [
      "\r",
      " 46%|#####################################7                                            | 23/50 [02:52<03:56,  8.77s/it]"
     ]
    },
    {
     "name": "stdout",
     "output_type": "stream",
     "text": [
      "gens_avg_error: 8.62068965517243 fakes_avg_error: 8.308718519776725 cumulative_avg_error: 8.464704087474573\n"
     ]
    },
    {
     "name": "stderr",
     "output_type": "stream",
     "text": [
      "\r",
      " 48%|#######################################3                                          | 24/50 [03:00<03:38,  8.40s/it]"
     ]
    },
    {
     "name": "stdout",
     "output_type": "stream",
     "text": [
      "gens_avg_error: 8.571428571428585 fakes_avg_error: 8.261240128235137 cumulative_avg_error: 8.416334349831867\n"
     ]
    },
    {
     "name": "stderr",
     "output_type": "stream",
     "text": [
      "\r",
      " 50%|#########################################                                         | 25/50 [03:07<03:24,  8.17s/it]"
     ]
    },
    {
     "name": "stdout",
     "output_type": "stream",
     "text": [
      "gens_avg_error: 8.570075757575779 fakes_avg_error: 8.271119445688345 cumulative_avg_error: 8.420597601632062\n"
     ]
    },
    {
     "name": "stderr",
     "output_type": "stream",
     "text": [
      "\r",
      " 52%|##########################################6                                       | 26/50 [03:15<03:12,  8.00s/it]"
     ]
    },
    {
     "name": "stdout",
     "output_type": "stream",
     "text": [
      "gens_avg_error: 8.757062146892668 fakes_avg_error: 8.224389957294632 cumulative_avg_error: 8.490726052093645\n"
     ]
    },
    {
     "name": "stderr",
     "output_type": "stream",
     "text": [
      "\r",
      " 54%|############################################2                                     | 27/50 [03:23<03:03,  7.98s/it]"
     ]
    },
    {
     "name": "stdout",
     "output_type": "stream",
     "text": [
      "gens_avg_error: 8.941947565543085 fakes_avg_error: 8.2343652946132 cumulative_avg_error: 8.588156430078142\n"
     ]
    },
    {
     "name": "stderr",
     "output_type": "stream",
     "text": [
      "\r",
      " 56%|#############################################9                                    | 28/50 [03:32<03:06,  8.49s/it]"
     ]
    },
    {
     "name": "stdout",
     "output_type": "stream",
     "text": [
      "gens_avg_error: 8.891992551210437 fakes_avg_error: 8.206985227790398 cumulative_avg_error: 8.549488889500424\n"
     ]
    },
    {
     "name": "stderr",
     "output_type": "stream",
     "text": [
      "\r",
      " 58%|###############################################5                                  | 29/50 [03:38<02:39,  7.59s/it]"
     ]
    },
    {
     "name": "stdout",
     "output_type": "stream",
     "text": [
      "gens_avg_error: 8.842592592592602 fakes_avg_error: 8.161390865413786 cumulative_avg_error: 8.501991729003189\n"
     ]
    },
    {
     "name": "stderr",
     "output_type": "stream",
     "text": [
      "\r",
      " 60%|#################################################1                                | 30/50 [03:44<02:24,  7.22s/it]"
     ]
    },
    {
     "name": "stdout",
     "output_type": "stream",
     "text": [
      "gens_avg_error: 8.793738489871094 fakes_avg_error: 8.116300308146307 cumulative_avg_error: 8.455019399008702\n"
     ]
    },
    {
     "name": "stderr",
     "output_type": "stream",
     "text": [
      "\r",
      " 62%|##################################################8                               | 31/50 [03:54<02:29,  7.87s/it]"
     ]
    },
    {
     "name": "stdout",
     "output_type": "stream",
     "text": [
      "gens_avg_error: 8.745421245421259 fakes_avg_error: 8.126650306453199 cumulative_avg_error: 8.436035775937235\n"
     ]
    },
    {
     "name": "stderr",
     "output_type": "stream",
     "text": [
      "\r",
      " 64%|####################################################4                             | 32/50 [04:03<02:31,  8.44s/it]"
     ]
    },
    {
     "name": "stdout",
     "output_type": "stream",
     "text": [
      "gens_avg_error: 8.743169398907124 fakes_avg_error: 8.082242381281324 cumulative_avg_error: 8.41270589009422\n"
     ]
    },
    {
     "name": "stderr",
     "output_type": "stream",
     "text": [
      "\r",
      " 66%|######################################################1                           | 33/50 [04:12<02:25,  8.58s/it]"
     ]
    },
    {
     "name": "stdout",
     "output_type": "stream",
     "text": [
      "gens_avg_error: 8.831521739130455 fakes_avg_error: 8.056433092977255 cumulative_avg_error: 8.44397741605385\n"
     ]
    },
    {
     "name": "stderr",
     "output_type": "stream",
     "text": [
      "\r",
      " 68%|#######################################################7                          | 34/50 [04:18<02:03,  7.73s/it]"
     ]
    },
    {
     "name": "stdout",
     "output_type": "stream",
     "text": [
      "gens_avg_error: 9.009009009009016 fakes_avg_error: 8.012884805988186 cumulative_avg_error: 8.510946907498607\n"
     ]
    },
    {
     "name": "stderr",
     "output_type": "stream",
     "text": [
      "\r",
      " 70%|#########################################################4                        | 35/50 [04:24<01:46,  7.13s/it]"
     ]
    },
    {
     "name": "stdout",
     "output_type": "stream",
     "text": [
      "gens_avg_error: 9.005376344086036 fakes_avg_error: 8.005647074056343 cumulative_avg_error: 8.50551170907119\n"
     ]
    },
    {
     "name": "stderr",
     "output_type": "stream",
     "text": [
      "\r",
      " 72%|###########################################################                       | 36/50 [04:35<01:58,  8.47s/it]"
     ]
    },
    {
     "name": "stdout",
     "output_type": "stream",
     "text": [
      "gens_avg_error: 8.957219251336912 fakes_avg_error: 7.9628361271362635 cumulative_avg_error: 8.460027689236593\n"
     ]
    },
    {
     "name": "stderr",
     "output_type": "stream",
     "text": [
      "\r",
      " 74%|############################################################6                     | 37/50 [04:43<01:45,  8.13s/it]"
     ]
    },
    {
     "name": "stdout",
     "output_type": "stream",
     "text": [
      "gens_avg_error: 8.909574468085124 fakes_avg_error: 7.920480615821701 cumulative_avg_error: 8.415027541953412\n"
     ]
    },
    {
     "name": "stderr",
     "output_type": "stream",
     "text": [
      "\r",
      " 76%|##############################################################3                   | 38/50 [04:49<01:29,  7.43s/it]"
     ]
    },
    {
     "name": "stdout",
     "output_type": "stream",
     "text": [
      "gens_avg_error: 8.862433862433882 fakes_avg_error: 7.878573310976089 cumulative_avg_error: 8.370503586704992\n"
     ]
    },
    {
     "name": "stderr",
     "output_type": "stream",
     "text": [
      "\r",
      " 78%|###############################################################9                  | 39/50 [04:57<01:25,  7.78s/it]"
     ]
    },
    {
     "name": "stdout",
     "output_type": "stream",
     "text": [
      "gens_avg_error: 8.815789473684221 fakes_avg_error: 7.854650995304279 cumulative_avg_error: 8.335220234494244\n"
     ]
    },
    {
     "name": "stderr",
     "output_type": "stream",
     "text": [
      "\r",
      " 80%|#################################################################6                | 40/50 [05:04<01:14,  7.40s/it]"
     ]
    },
    {
     "name": "stdout",
     "output_type": "stream",
     "text": [
      "gens_avg_error: 8.769633507853413 fakes_avg_error: 7.8135271681037395 cumulative_avg_error: 8.291580337978576\n"
     ]
    },
    {
     "name": "stderr",
     "output_type": "stream",
     "text": [
      "\r",
      " 82%|###################################################################2              | 41/50 [05:10<01:03,  7.10s/it]"
     ]
    },
    {
     "name": "stdout",
     "output_type": "stream",
     "text": [
      "gens_avg_error: 8.723958333333348 fakes_avg_error: 7.7728317141032015 cumulative_avg_error: 8.248395023718281\n"
     ]
    },
    {
     "name": "stderr",
     "output_type": "stream",
     "text": [
      "\r",
      " 84%|####################################################################8             | 42/50 [05:16<00:53,  6.63s/it]"
     ]
    },
    {
     "name": "stdout",
     "output_type": "stream",
     "text": [
      "gens_avg_error: 8.72193436960278 fakes_avg_error: 7.818913760489532 cumulative_avg_error: 8.270424065046155\n"
     ]
    },
    {
     "name": "stderr",
     "output_type": "stream",
     "text": [
      "\r",
      " 86%|######################################################################5           | 43/50 [05:24<00:50,  7.20s/it]"
     ]
    },
    {
     "name": "stdout",
     "output_type": "stream",
     "text": [
      "gens_avg_error: 8.676975945017206 fakes_avg_error: 7.778610081311754 cumulative_avg_error: 8.227793013164476\n"
     ]
    },
    {
     "name": "stderr",
     "output_type": "stream",
     "text": [
      "\r",
      " 88%|########################################################################1         | 44/50 [05:28<00:37,  6.19s/it]"
     ]
    },
    {
     "name": "stdout",
     "output_type": "stream",
     "text": [
      "gens_avg_error: 8.760683760683785 fakes_avg_error: 8.046412080894761 cumulative_avg_error: 8.40354792078928\n"
     ]
    },
    {
     "name": "stderr",
     "output_type": "stream",
     "text": [
      "\r",
      " 90%|#########################################################################8        | 45/50 [05:34<00:31,  6.23s/it]"
     ]
    },
    {
     "name": "stdout",
     "output_type": "stream",
     "text": [
      "gens_avg_error: 8.71598639455784 fakes_avg_error: 8.00535895803306 cumulative_avg_error: 8.360672676295454\n"
     ]
    },
    {
     "name": "stderr",
     "output_type": "stream",
     "text": [
      "\r",
      " 92%|###########################################################################4      | 46/50 [05:43<00:27,  6.85s/it]"
     ]
    },
    {
     "name": "stdout",
     "output_type": "stream",
     "text": [
      "gens_avg_error: 8.671742808798665 fakes_avg_error: 8.066245460784149 cumulative_avg_error: 8.368994134791407\n"
     ]
    },
    {
     "name": "stderr",
     "output_type": "stream",
     "text": [
      "\r",
      " 94%|#############################################################################     | 47/50 [05:51<00:22,  7.41s/it]"
     ]
    },
    {
     "name": "stdout",
     "output_type": "stream",
     "text": [
      "gens_avg_error: 8.670033670033694 fakes_avg_error: 8.025506847345854 cumulative_avg_error: 8.34777025868978\n"
     ]
    },
    {
     "name": "stderr",
     "output_type": "stream",
     "text": [
      "\r",
      " 96%|##############################################################################7   | 48/50 [05:59<00:14,  7.40s/it]"
     ]
    },
    {
     "name": "stdout",
     "output_type": "stream",
     "text": [
      "gens_avg_error: 8.668341708542737 fakes_avg_error: 7.985177667208432 cumulative_avg_error: 8.326759687875585\n"
     ]
    },
    {
     "name": "stderr",
     "output_type": "stream",
     "text": [
      "\r",
      " 98%|################################################################################3 | 49/50 [06:06<00:07,  7.34s/it]"
     ]
    },
    {
     "name": "stdout",
     "output_type": "stream",
     "text": [
      "gens_avg_error: 8.750000000000025 fakes_avg_error: 7.961918445539052 cumulative_avg_error: 8.355959222769538\n"
     ]
    },
    {
     "name": "stderr",
     "output_type": "stream",
     "text": [
      "100%|##################################################################################| 50/50 [06:11<00:00,  6.76s/it]\n",
      "  0%|                                                                                           | 0/50 [00:00<?, ?it/s]"
     ]
    },
    {
     "name": "stdout",
     "output_type": "stream",
     "text": [
      "gens_avg_error: 8.74792703150915 fakes_avg_error: 7.955474406838192 cumulative_avg_error: 8.351700719173671\n"
     ]
    },
    {
     "name": "stderr",
     "output_type": "stream",
     "text": [
      "\r",
      "  2%|#6                                                                                 | 1/50 [00:08<07:15,  8.88s/it]"
     ]
    },
    {
     "name": "stdout",
     "output_type": "stream",
     "text": [
      "gens_avg_error: 8.828382838283865 fakes_avg_error: 8.147113972480913 cumulative_avg_error: 8.487748405382389\n"
     ]
    },
    {
     "name": "stderr",
     "output_type": "stream",
     "text": [
      "\r",
      "  4%|###3                                                                               | 2/50 [00:15<06:29,  8.12s/it]"
     ]
    },
    {
     "name": "stdout",
     "output_type": "stream",
     "text": [
      "gens_avg_error: 8.825944170771793 fakes_avg_error: 8.205502573601686 cumulative_avg_error: 8.515723372186734\n"
     ]
    },
    {
     "name": "stderr",
     "output_type": "stream",
     "text": [
      "\r",
      "  6%|####9                                                                              | 3/50 [00:21<05:53,  7.53s/it]"
     ]
    },
    {
     "name": "stdout",
     "output_type": "stream",
     "text": [
      "gens_avg_error: 8.823529411764753 fakes_avg_error: 8.295998476018685 cumulative_avg_error: 8.559763943891719\n"
     ]
    },
    {
     "name": "stderr",
     "output_type": "stream",
     "text": [
      "\r",
      "  8%|######6                                                                            | 4/50 [00:27<05:21,  6.99s/it]"
     ]
    },
    {
     "name": "stdout",
     "output_type": "stream",
     "text": [
      "gens_avg_error: 8.78048780487809 fakes_avg_error: 8.25553019076981 cumulative_avg_error: 8.518008997823955\n"
     ]
    },
    {
     "name": "stderr",
     "output_type": "stream",
     "text": [
      "\r",
      " 10%|########3                                                                          | 5/50 [00:34<05:14,  6.99s/it]"
     ]
    },
    {
     "name": "stdout",
     "output_type": "stream",
     "text": [
      "gens_avg_error: 8.818770226537254 fakes_avg_error: 8.215454801494227 cumulative_avg_error: 8.517112514015746\n"
     ]
    },
    {
     "name": "stderr",
     "output_type": "stream",
     "text": [
      "\r",
      " 12%|#########9                                                                         | 6/50 [00:40<04:53,  6.67s/it]"
     ]
    },
    {
     "name": "stdout",
     "output_type": "stream",
     "text": [
      "gens_avg_error: 8.816425120772987 fakes_avg_error: 8.191869673628716 cumulative_avg_error: 8.504147397200846\n"
     ]
    },
    {
     "name": "stderr",
     "output_type": "stream",
     "text": [
      "\r",
      " 14%|###########6                                                                       | 7/50 [00:51<05:43,  7.99s/it]"
     ]
    },
    {
     "name": "stdout",
     "output_type": "stream",
     "text": [
      "gens_avg_error: 8.774038461538503 fakes_avg_error: 8.152485684813193 cumulative_avg_error: 8.463262073175848\n"
     ]
    },
    {
     "name": "stderr",
     "output_type": "stream",
     "text": [
      "\r",
      " 16%|#############2                                                                     | 8/50 [00:59<05:43,  8.17s/it]"
     ]
    },
    {
     "name": "stdout",
     "output_type": "stream",
     "text": [
      "gens_avg_error: 8.73205741626798 fakes_avg_error: 8.113478576273414 cumulative_avg_error: 8.422767996270697\n"
     ]
    },
    {
     "name": "stderr",
     "output_type": "stream",
     "text": [
      "\r",
      " 18%|##############9                                                                    | 9/50 [01:04<04:56,  7.22s/it]"
     ]
    },
    {
     "name": "stdout",
     "output_type": "stream",
     "text": [
      "gens_avg_error: 8.690476190476225 fakes_avg_error: 8.1224620116245 cumulative_avg_error: 8.406469101050362\n"
     ]
    },
    {
     "name": "stderr",
     "output_type": "stream",
     "text": [
      "\r",
      " 20%|################4                                                                 | 10/50 [01:11<04:46,  7.17s/it]"
     ]
    },
    {
     "name": "stdout",
     "output_type": "stream",
     "text": [
      "gens_avg_error: 8.688783570300206 fakes_avg_error: 8.210349237477777 cumulative_avg_error: 8.449566403888987\n"
     ]
    },
    {
     "name": "stderr",
     "output_type": "stream",
     "text": [
      "\r",
      " 22%|##################                                                                | 11/50 [01:22<05:19,  8.20s/it]"
     ]
    },
    {
     "name": "stdout",
     "output_type": "stream",
     "text": [
      "gens_avg_error: 8.647798742138413 fakes_avg_error: 8.220417531575553 cumulative_avg_error: 8.434108136856988\n"
     ]
    },
    {
     "name": "stderr",
     "output_type": "stream",
     "text": [
      "\r",
      " 24%|###################6                                                              | 12/50 [01:32<05:36,  8.85s/it]"
     ]
    },
    {
     "name": "stdout",
     "output_type": "stream",
     "text": [
      "gens_avg_error: 8.607198748043865 fakes_avg_error: 8.33831854472935 cumulative_avg_error: 8.472758646386612\n"
     ]
    },
    {
     "name": "stderr",
     "output_type": "stream",
     "text": [
      "\r",
      " 26%|#####################3                                                            | 13/50 [01:39<05:09,  8.38s/it]"
     ]
    },
    {
     "name": "stdout",
     "output_type": "stream",
     "text": [
      "gens_avg_error: 8.566978193146458 fakes_avg_error: 8.377236059317838 cumulative_avg_error: 8.472107126232142\n"
     ]
    },
    {
     "name": "stderr",
     "output_type": "stream",
     "text": [
      "\r",
      " 28%|######################9                                                           | 14/50 [01:46<04:46,  7.96s/it]"
     ]
    },
    {
     "name": "stdout",
     "output_type": "stream",
     "text": [
      "gens_avg_error: 8.527131782945785 fakes_avg_error: 8.384783798576823 cumulative_avg_error: 8.455957790761303\n"
     ]
    },
    {
     "name": "stderr",
     "output_type": "stream",
     "text": [
      "\r",
      " 30%|########################5                                                         | 15/50 [01:52<04:14,  7.27s/it]"
     ]
    },
    {
     "name": "stdout",
     "output_type": "stream",
     "text": [
      "gens_avg_error: 8.487654320987703 fakes_avg_error: 8.3459653550649 cumulative_avg_error: 8.416809838026307\n"
     ]
    },
    {
     "name": "stderr",
     "output_type": "stream",
     "text": [
      "\r",
      " 32%|##########################2                                                       | 16/50 [01:58<03:54,  6.89s/it]"
     ]
    },
    {
     "name": "stdout",
     "output_type": "stream",
     "text": [
      "gens_avg_error: 8.563748079877154 fakes_avg_error: 8.307504685225886 cumulative_avg_error: 8.43562638255152\n"
     ]
    },
    {
     "name": "stderr",
     "output_type": "stream",
     "text": [
      "\r",
      " 34%|###########################8                                                      | 17/50 [02:05<03:46,  6.87s/it]"
     ]
    },
    {
     "name": "stdout",
     "output_type": "stream",
     "text": [
      "gens_avg_error: 8.524464831804323 fakes_avg_error: 8.26939686556889 cumulative_avg_error: 8.396930848686601\n"
     ]
    },
    {
     "name": "stderr",
     "output_type": "stream",
     "text": [
      "\r",
      " 36%|#############################5                                                    | 18/50 [02:11<03:30,  6.59s/it]"
     ]
    },
    {
     "name": "stdout",
     "output_type": "stream",
     "text": [
      "gens_avg_error: 8.599695585997003 fakes_avg_error: 8.322961263442997 cumulative_avg_error: 8.461328424720005\n"
     ]
    },
    {
     "name": "stderr",
     "output_type": "stream",
     "text": [
      "\r",
      " 38%|###############################1                                                  | 19/50 [02:19<03:42,  7.17s/it]"
     ]
    },
    {
     "name": "stdout",
     "output_type": "stream",
     "text": [
      "gens_avg_error: 8.5984848484849 fakes_avg_error: 8.315432651639465 cumulative_avg_error: 8.456958750062181\n"
     ]
    },
    {
     "name": "stderr",
     "output_type": "stream",
     "text": [
      "\r",
      " 40%|################################8                                                 | 20/50 [02:27<03:39,  7.31s/it]"
     ]
    },
    {
     "name": "stdout",
     "output_type": "stream",
     "text": [
      "gens_avg_error: 8.559577677224784 fakes_avg_error: 8.368303997107152 cumulative_avg_error: 8.463940837165973\n"
     ]
    },
    {
     "name": "stderr",
     "output_type": "stream",
     "text": [
      "\r",
      " 42%|##################################4                                               | 21/50 [02:36<03:46,  7.82s/it]"
     ]
    },
    {
     "name": "stdout",
     "output_type": "stream",
     "text": [
      "gens_avg_error: 8.521021021021069 fakes_avg_error: 8.435714039162223 cumulative_avg_error: 8.478367530091646\n"
     ]
    },
    {
     "name": "stderr",
     "output_type": "stream",
     "text": [
      "\r",
      " 44%|####################################                                              | 22/50 [02:40<03:08,  6.72s/it]"
     ]
    },
    {
     "name": "stdout",
     "output_type": "stream",
     "text": [
      "gens_avg_error: 8.85650224215252 fakes_avg_error: 8.397885725085263 cumulative_avg_error: 8.627193983618886\n"
     ]
    },
    {
     "name": "stderr",
     "output_type": "stream",
     "text": [
      "\r",
      " 46%|#####################################7                                            | 23/50 [02:47<03:03,  6.80s/it]"
     ]
    },
    {
     "name": "stdout",
     "output_type": "stream",
     "text": [
      "gens_avg_error: 8.854166666666718 fakes_avg_error: 8.360395163812562 cumulative_avg_error: 8.607280915239635\n"
     ]
    },
    {
     "name": "stderr",
     "output_type": "stream",
     "text": [
      "\r",
      " 48%|#######################################3                                          | 24/50 [02:53<02:50,  6.56s/it]"
     ]
    },
    {
     "name": "stdout",
     "output_type": "stream",
     "text": [
      "gens_avg_error: 8.851851851851912 fakes_avg_error: 8.323237851973397 cumulative_avg_error: 8.587544851912654\n"
     ]
    },
    {
     "name": "stderr",
     "output_type": "stream",
     "text": [
      "\r",
      " 50%|#########################################                                         | 25/50 [03:01<02:54,  6.99s/it]"
     ]
    },
    {
     "name": "stdout",
     "output_type": "stream",
     "text": [
      "gens_avg_error: 8.812684365781765 fakes_avg_error: 8.389654203660823 cumulative_avg_error: 8.6011692847213\n"
     ]
    },
    {
     "name": "stderr",
     "output_type": "stream",
     "text": [
      "\r",
      " 52%|##########################################6                                       | 26/50 [03:09<02:55,  7.30s/it]"
     ]
    },
    {
     "name": "stdout",
     "output_type": "stream",
     "text": [
      "gens_avg_error: 8.810572687224727 fakes_avg_error: 8.352695374569807 cumulative_avg_error: 8.581634030897266\n"
     ]
    },
    {
     "name": "stderr",
     "output_type": "stream",
     "text": [
      "\r",
      " 54%|############################################2                                     | 27/50 [03:18<03:01,  7.89s/it]"
     ]
    },
    {
     "name": "stdout",
     "output_type": "stream",
     "text": [
      "gens_avg_error: 9.210526315789537 fakes_avg_error: 8.316060745733967 cumulative_avg_error: 8.76329353076175\n"
     ]
    },
    {
     "name": "stderr",
     "output_type": "stream",
     "text": [
      "\r",
      " 56%|#############################################9                                    | 28/50 [03:23<02:29,  6.78s/it]"
     ]
    },
    {
     "name": "stdout",
     "output_type": "stream",
     "text": [
      "gens_avg_error: 9.17030567685596 fakes_avg_error: 8.279746069988402 cumulative_avg_error: 8.725025873422187\n"
     ]
    },
    {
     "name": "stderr",
     "output_type": "stream",
     "text": [
      "\r",
      " 58%|###############################################5                                  | 29/50 [03:31<02:35,  7.39s/it]"
     ]
    },
    {
     "name": "stdout",
     "output_type": "stream",
     "text": [
      "gens_avg_error: 9.202898550724692 fakes_avg_error: 8.25823992765512 cumulative_avg_error: 8.730569239189911\n"
     ]
    },
    {
     "name": "stderr",
     "output_type": "stream",
     "text": [
      "\r",
      " 60%|#################################################1                                | 30/50 [03:39<02:25,  7.30s/it]"
     ]
    },
    {
     "name": "stdout",
     "output_type": "stream",
     "text": [
      "gens_avg_error: 9.199134199134262 fakes_avg_error: 8.251350000118373 cumulative_avg_error: 8.725242099626318\n"
     ]
    },
    {
     "name": "stderr",
     "output_type": "stream",
     "text": [
      "\r",
      " 62%|##################################################8                               | 31/50 [03:45<02:13,  7.04s/it]"
     ]
    },
    {
     "name": "stdout",
     "output_type": "stream",
     "text": [
      "gens_avg_error: 9.15948275862075 fakes_avg_error: 8.215783836324764 cumulative_avg_error: 8.687633297472752\n"
     ]
    },
    {
     "name": "stderr",
     "output_type": "stream",
     "text": [
      "\r",
      " 64%|####################################################4                             | 32/50 [03:53<02:13,  7.42s/it]"
     ]
    },
    {
     "name": "stdout",
     "output_type": "stream",
     "text": [
      "gens_avg_error: 9.120171673819799 fakes_avg_error: 8.180522961490755 cumulative_avg_error: 8.650347317655282\n"
     ]
    },
    {
     "name": "stderr",
     "output_type": "stream",
     "text": [
      "\r",
      " 66%|######################################################1                           | 33/50 [04:01<02:06,  7.41s/it]"
     ]
    },
    {
     "name": "stdout",
     "output_type": "stream",
     "text": [
      "gens_avg_error: 9.116809116809177 fakes_avg_error: 8.202543518635375 cumulative_avg_error: 8.659676317722276\n"
     ]
    },
    {
     "name": "stderr",
     "output_type": "stream",
     "text": [
      "\r",
      " 68%|#######################################################7                          | 34/50 [04:08<01:59,  7.44s/it]"
     ]
    },
    {
     "name": "stdout",
     "output_type": "stream",
     "text": [
      "gens_avg_error: 9.078014184397231 fakes_avg_error: 8.196007872456779 cumulative_avg_error: 8.637011028427\n"
     ]
    },
    {
     "name": "stderr",
     "output_type": "stream",
     "text": [
      "\r",
      " 70%|#########################################################4                        | 35/50 [04:15<01:47,  7.17s/it]"
     ]
    },
    {
     "name": "stdout",
     "output_type": "stream",
     "text": [
      "gens_avg_error: 9.07485875706221 fakes_avg_error: 8.231900494466139 cumulative_avg_error: 8.65337962576418\n"
     ]
    },
    {
     "name": "stderr",
     "output_type": "stream",
     "text": [
      "\r",
      " 72%|###########################################################                       | 36/50 [04:23<01:45,  7.53s/it]"
     ]
    },
    {
     "name": "stdout",
     "output_type": "stream",
     "text": [
      "gens_avg_error: 9.036568213783468 fakes_avg_error: 8.211231434714527 cumulative_avg_error: 8.623899824249005\n"
     ]
    },
    {
     "name": "stderr",
     "output_type": "stream",
     "text": [
      "\r",
      " 74%|############################################################6                     | 37/50 [04:31<01:39,  7.69s/it]"
     ]
    },
    {
     "name": "stdout",
     "output_type": "stream",
     "text": [
      "gens_avg_error: 9.033613445378219 fakes_avg_error: 8.246758473504235 cumulative_avg_error: 8.640185959441226\n"
     ]
    },
    {
     "name": "stderr",
     "output_type": "stream",
     "text": [
      "\r",
      " 76%|##############################################################3                   | 38/50 [04:38<01:29,  7.47s/it]"
     ]
    },
    {
     "name": "stdout",
     "output_type": "stream",
     "text": [
      "gens_avg_error: 9.135285913528667 fakes_avg_error: 8.212253207924725 cumulative_avg_error: 8.673769560726697\n"
     ]
    },
    {
     "name": "stderr",
     "output_type": "stream",
     "text": [
      "\r",
      " 78%|###############################################################9                  | 39/50 [04:44<01:18,  7.12s/it]"
     ]
    },
    {
     "name": "stdout",
     "output_type": "stream",
     "text": [
      "gens_avg_error: 9.270833333333407 fakes_avg_error: 8.178035486225033 cumulative_avg_error: 8.724434409779214\n"
     ]
    },
    {
     "name": "stderr",
     "output_type": "stream",
     "text": [
      "\r",
      " 80%|#################################################################6                | 40/50 [04:53<01:16,  7.61s/it]"
     ]
    },
    {
     "name": "stdout",
     "output_type": "stream",
     "text": [
      "gens_avg_error: 9.266943291839635 fakes_avg_error: 8.171764246309854 cumulative_avg_error: 8.719353769074745\n"
     ]
    },
    {
     "name": "stderr",
     "output_type": "stream",
     "text": [
      "\r",
      " 82%|###################################################################2              | 41/50 [05:02<01:12,  8.10s/it]"
     ]
    },
    {
     "name": "stdout",
     "output_type": "stream",
     "text": [
      "gens_avg_error: 9.228650137741123 fakes_avg_error: 8.317059986338881 cumulative_avg_error: 8.772855062039998\n"
     ]
    },
    {
     "name": "stderr",
     "output_type": "stream",
     "text": [
      "\r",
      " 84%|####################################################################8             | 42/50 [05:13<01:11,  8.98s/it]"
     ]
    },
    {
     "name": "stdout",
     "output_type": "stream",
     "text": [
      "gens_avg_error: 9.259259259259334 fakes_avg_error: 8.298074981060545 cumulative_avg_error: 8.778667120159934\n"
     ]
    },
    {
     "name": "stderr",
     "output_type": "stream",
     "text": [
      "\r",
      " 86%|######################################################################5           | 43/50 [05:21<01:00,  8.67s/it]"
     ]
    },
    {
     "name": "stdout",
     "output_type": "stream",
     "text": [
      "gens_avg_error: 9.46038251366128 fakes_avg_error: 8.2640664770398 cumulative_avg_error: 8.862224495350546\n"
     ]
    },
    {
     "name": "stderr",
     "output_type": "stream",
     "text": [
      "\r",
      " 88%|########################################################################1         | 44/50 [05:31<00:54,  9.06s/it]"
     ]
    },
    {
     "name": "stdout",
     "output_type": "stream",
     "text": [
      "gens_avg_error: 9.42176870748307 fakes_avg_error: 8.230335593460048 cumulative_avg_error: 8.826052150471565\n"
     ]
    },
    {
     "name": "stderr",
     "output_type": "stream",
     "text": [
      "\r",
      " 90%|#########################################################################8        | 45/50 [05:40<00:44,  8.93s/it]"
     ]
    },
    {
     "name": "stdout",
     "output_type": "stream",
     "text": [
      "gens_avg_error: 9.51897018970197 fakes_avg_error: 8.196878944706143 cumulative_avg_error: 8.857924567204057\n"
     ]
    },
    {
     "name": "stderr",
     "output_type": "stream",
     "text": [
      "\r",
      " 92%|###########################################################################4      | 46/50 [05:46<00:32,  8.20s/it]"
     ]
    },
    {
     "name": "stdout",
     "output_type": "stream",
     "text": [
      "gens_avg_error: 9.784075573549334 fakes_avg_error: 8.205575093052298 cumulative_avg_error: 8.994825333300815\n"
     ]
    },
    {
     "name": "stderr",
     "output_type": "stream",
     "text": [
      "\r",
      " 94%|#############################################################################     | 47/50 [05:55<00:25,  8.43s/it]"
     ]
    },
    {
     "name": "stdout",
     "output_type": "stream",
     "text": [
      "gens_avg_error: 9.77822580645169 fakes_avg_error: 8.172488096709351 cumulative_avg_error: 8.975356951580515\n"
     ]
    },
    {
     "name": "stderr",
     "output_type": "stream",
     "text": [
      "\r",
      " 96%|##############################################################################7   | 48/50 [06:05<00:17,  8.69s/it]"
     ]
    },
    {
     "name": "stdout",
     "output_type": "stream",
     "text": [
      "gens_avg_error: 9.805890227577052 fakes_avg_error: 8.206601263656966 cumulative_avg_error: 9.006245745617015\n"
     ]
    },
    {
     "name": "stderr",
     "output_type": "stream",
     "text": [
      "\r",
      " 98%|################################################################################3 | 49/50 [06:17<00:09,  9.83s/it]"
     ]
    },
    {
     "name": "stdout",
     "output_type": "stream",
     "text": [
      "gens_avg_error: 9.766666666666746 fakes_avg_error: 8.240441525269004 cumulative_avg_error: 9.00355409596787\n"
     ]
    },
    {
     "name": "stderr",
     "output_type": "stream",
     "text": [
      "100%|##################################################################################| 50/50 [06:27<00:00,  9.78s/it]\n",
      "  0%|                                                                                           | 0/50 [00:00<?, ?it/s]"
     ]
    },
    {
     "name": "stdout",
     "output_type": "stream",
     "text": [
      "gens_avg_error: 9.860557768924384 fakes_avg_error: 8.20761108094522 cumulative_avg_error: 9.034084424934807\n"
     ]
    },
    {
     "name": "stderr",
     "output_type": "stream",
     "text": [
      "\r",
      "  2%|#6                                                                                 | 1/50 [00:08<06:36,  8.10s/it]"
     ]
    },
    {
     "name": "stdout",
     "output_type": "stream",
     "text": [
      "gens_avg_error: 9.821428571428648 fakes_avg_error: 8.227951248613419 cumulative_avg_error: 9.024689910021033\n"
     ]
    },
    {
     "name": "stderr",
     "output_type": "stream",
     "text": [
      "\r",
      "  4%|###3                                                                               | 2/50 [00:17<06:44,  8.42s/it]"
     ]
    },
    {
     "name": "stdout",
     "output_type": "stream",
     "text": [
      "gens_avg_error: 9.881422924901262 fakes_avg_error: 8.195429702176217 cumulative_avg_error: 9.03842631353874\n"
     ]
    },
    {
     "name": "stderr",
     "output_type": "stream",
     "text": [
      "\r",
      "  6%|####9                                                                              | 3/50 [00:25<06:39,  8.51s/it]"
     ]
    },
    {
     "name": "stdout",
     "output_type": "stream",
     "text": [
      "gens_avg_error: 9.875328083989587 fakes_avg_error: 8.176287590487853 cumulative_avg_error: 9.02580783723872\n"
     ]
    },
    {
     "name": "stderr",
     "output_type": "stream",
     "text": [
      "\r",
      "  8%|######6                                                                            | 4/50 [00:33<06:17,  8.20s/it]"
     ]
    },
    {
     "name": "stdout",
     "output_type": "stream",
     "text": [
      "gens_avg_error: 9.83660130718963 fakes_avg_error: 8.144223717583987 cumulative_avg_error: 8.990412512386815\n"
     ]
    },
    {
     "name": "stderr",
     "output_type": "stream",
     "text": [
      "\r",
      " 10%|########3                                                                          | 5/50 [00:38<05:27,  7.27s/it]"
     ]
    },
    {
     "name": "stdout",
     "output_type": "stream",
     "text": [
      "gens_avg_error: 9.798177083333414 fakes_avg_error: 8.164493677020502 cumulative_avg_error: 8.981335380176958\n"
     ]
    },
    {
     "name": "stderr",
     "output_type": "stream",
     "text": [
      "\r",
      " 12%|#########9                                                                         | 6/50 [00:46<05:24,  7.36s/it]"
     ]
    },
    {
     "name": "stdout",
     "output_type": "stream",
     "text": [
      "gens_avg_error: 9.760051880674524 fakes_avg_error: 8.197576062194223 cumulative_avg_error: 8.978813971434374\n"
     ]
    },
    {
     "name": "stderr",
     "output_type": "stream",
     "text": [
      "\r",
      " 14%|###########6                                                                       | 7/50 [00:54<05:32,  7.73s/it]"
     ]
    },
    {
     "name": "stdout",
     "output_type": "stream",
     "text": [
      "gens_avg_error: 9.7222222222223 fakes_avg_error: 8.204562201488041 cumulative_avg_error: 8.96339221185517\n"
     ]
    },
    {
     "name": "stderr",
     "output_type": "stream",
     "text": [
      "\r",
      " 16%|#############2                                                                     | 8/50 [01:01<05:07,  7.31s/it]"
     ]
    },
    {
     "name": "stdout",
     "output_type": "stream",
     "text": [
      "gens_avg_error: 9.684684684684763 fakes_avg_error: 8.198624380890273 cumulative_avg_error: 8.941654532787524\n"
     ]
    },
    {
     "name": "stderr",
     "output_type": "stream",
     "text": [
      "\r",
      " 18%|##############9                                                                    | 9/50 [01:09<05:09,  7.54s/it]"
     ]
    },
    {
     "name": "stdout",
     "output_type": "stream",
     "text": [
      "gens_avg_error: 9.647435897435974 fakes_avg_error: 8.167091210194533 cumulative_avg_error: 8.907263553815259\n"
     ]
    },
    {
     "name": "stderr",
     "output_type": "stream",
     "text": [
      "\r",
      " 20%|################4                                                                 | 10/50 [01:15<04:46,  7.17s/it]"
     ]
    },
    {
     "name": "stdout",
     "output_type": "stream",
     "text": [
      "gens_avg_error: 9.610472541507109 fakes_avg_error: 8.327370554216785 cumulative_avg_error: 8.968921547861953\n"
     ]
    },
    {
     "name": "stderr",
     "output_type": "stream",
     "text": [
      "\r",
      " 22%|##################                                                                | 11/50 [01:23<04:48,  7.39s/it]"
     ]
    },
    {
     "name": "stdout",
     "output_type": "stream",
     "text": [
      "gens_avg_error: 9.57379134860059 fakes_avg_error: 8.295586697139612 cumulative_avg_error: 8.934689022870101\n"
     ]
    },
    {
     "name": "stderr",
     "output_type": "stream",
     "text": [
      "\r",
      " 24%|###################6                                                              | 12/50 [01:28<04:18,  6.79s/it]"
     ]
    },
    {
     "name": "stdout",
     "output_type": "stream",
     "text": [
      "gens_avg_error: 9.600760456273838 fakes_avg_error: 8.264044542397642 cumulative_avg_error: 8.932402499335733\n"
     ]
    },
    {
     "name": "stderr",
     "output_type": "stream",
     "text": [
      "\r",
      " 26%|#####################3                                                            | 13/50 [01:38<04:42,  7.65s/it]"
     ]
    },
    {
     "name": "stdout",
     "output_type": "stream",
     "text": [
      "gens_avg_error: 9.564393939394012 fakes_avg_error: 8.232741343373407 cumulative_avg_error: 8.898567641383703\n"
     ]
    },
    {
     "name": "stderr",
     "output_type": "stream",
     "text": [
      "\r",
      " 28%|######################9                                                           | 14/50 [01:44<04:17,  7.15s/it]"
     ]
    },
    {
     "name": "stdout",
     "output_type": "stream",
     "text": [
      "gens_avg_error: 9.842767295597564 fakes_avg_error: 8.201674394907844 cumulative_avg_error: 9.022220845252704\n"
     ]
    },
    {
     "name": "stderr",
     "output_type": "stream",
     "text": [
      "\r",
      " 30%|########################5                                                         | 15/50 [01:49<03:48,  6.52s/it]"
     ]
    },
    {
     "name": "stdout",
     "output_type": "stream",
     "text": [
      "gens_avg_error: 9.805764411027651 fakes_avg_error: 8.184764730655203 cumulative_avg_error: 8.995264570841432\n"
     ]
    },
    {
     "name": "stderr",
     "output_type": "stream",
     "text": [
      "\r",
      " 32%|##########################2                                                       | 16/50 [01:55<03:33,  6.29s/it]"
     ]
    },
    {
     "name": "stdout",
     "output_type": "stream",
     "text": [
      "gens_avg_error: 9.769038701623046 fakes_avg_error: 8.154110181102181 cumulative_avg_error: 8.961574441362608\n"
     ]
    },
    {
     "name": "stderr",
     "output_type": "stream",
     "text": [
      "\r",
      " 34%|###########################8                                                      | 17/50 [02:04<03:59,  7.25s/it]"
     ]
    },
    {
     "name": "stdout",
     "output_type": "stream",
     "text": [
      "gens_avg_error: 9.73258706467669 fakes_avg_error: 8.13612220778962 cumulative_avg_error: 8.934354636233156\n"
     ]
    },
    {
     "name": "stderr",
     "output_type": "stream",
     "text": [
      "\r",
      " 36%|#############################5                                                    | 18/50 [02:11<03:48,  7.14s/it]"
     ]
    },
    {
     "name": "stdout",
     "output_type": "stream",
     "text": [
      "gens_avg_error: 9.727385377943076 fakes_avg_error: 8.105876400325718 cumulative_avg_error: 8.916630889134392\n"
     ]
    },
    {
     "name": "stderr",
     "output_type": "stream",
     "text": [
      "\r",
      " 38%|###############################1                                                  | 19/50 [02:18<03:41,  7.14s/it]"
     ]
    },
    {
     "name": "stdout",
     "output_type": "stream",
     "text": [
      "gens_avg_error: 9.691358024691443 fakes_avg_error: 8.075854635880065 cumulative_avg_error: 8.883606330285755\n"
     ]
    },
    {
     "name": "stderr",
     "output_type": "stream",
     "text": [
      "\r",
      " 40%|################################8                                                 | 20/50 [02:23<03:17,  6.58s/it]"
     ]
    },
    {
     "name": "stdout",
     "output_type": "stream",
     "text": [
      "gens_avg_error: 9.68634686346872 fakes_avg_error: 8.046054434271642 cumulative_avg_error: 8.866200648870182\n"
     ]
    },
    {
     "name": "stderr",
     "output_type": "stream",
     "text": [
      "\r",
      " 42%|##################################4                                               | 21/50 [02:31<03:22,  6.97s/it]"
     ]
    },
    {
     "name": "stdout",
     "output_type": "stream",
     "text": [
      "gens_avg_error: 9.712009803921651 fakes_avg_error: 8.16353217532212 cumulative_avg_error: 8.937770989621885\n"
     ]
    },
    {
     "name": "stderr",
     "output_type": "stream",
     "text": [
      "\r",
      " 44%|####################################                                              | 22/50 [02:42<03:44,  8.02s/it]"
     ]
    },
    {
     "name": "stdout",
     "output_type": "stream",
     "text": [
      "gens_avg_error: 9.676434676434752 fakes_avg_error: 8.133629127060871 cumulative_avg_error: 8.905031901747806\n"
     ]
    },
    {
     "name": "stderr",
     "output_type": "stream",
     "text": [
      "\r",
      " 46%|#####################################7                                            | 23/50 [02:48<03:25,  7.60s/it]"
     ]
    },
    {
     "name": "stdout",
     "output_type": "stream",
     "text": [
      "gens_avg_error: 9.70194647201954 fakes_avg_error: 8.128275249468187 cumulative_avg_error: 8.915110860743859\n"
     ]
    },
    {
     "name": "stderr",
     "output_type": "stream",
     "text": [
      "\r",
      " 48%|#######################################3                                          | 24/50 [02:58<03:35,  8.31s/it]"
     ]
    },
    {
     "name": "stdout",
     "output_type": "stream",
     "text": [
      "gens_avg_error: 9.666666666666746 fakes_avg_error: 8.244172430379216 cumulative_avg_error: 8.95541954852298\n"
     ]
    },
    {
     "name": "stderr",
     "output_type": "stream",
     "text": [
      "\r",
      " 50%|#########################################                                         | 25/50 [03:04<03:10,  7.63s/it]"
     ]
    },
    {
     "name": "stdout",
     "output_type": "stream",
     "text": [
      "gens_avg_error: 9.661835748792347 fakes_avg_error: 8.238456829786056 cumulative_avg_error: 8.950146289289208\n"
     ]
    },
    {
     "name": "stderr",
     "output_type": "stream",
     "text": [
      "\r",
      " 52%|##########################################6                                       | 26/50 [03:13<03:07,  7.80s/it]"
     ]
    },
    {
     "name": "stdout",
     "output_type": "stream",
     "text": [
      "gens_avg_error: 9.626955475331 fakes_avg_error: 8.232782497067204 cumulative_avg_error: 8.929868986199097\n"
     ]
    },
    {
     "name": "stderr",
     "output_type": "stream",
     "text": [
      "\r",
      " 54%|############################################2                                     | 27/50 [03:21<03:00,  7.86s/it]"
     ]
    },
    {
     "name": "stdout",
     "output_type": "stream",
     "text": [
      "gens_avg_error: 9.592326139088803 fakes_avg_error: 8.263120209907493 cumulative_avg_error: 8.927723174498148\n"
     ]
    },
    {
     "name": "stderr",
     "output_type": "stream",
     "text": [
      "\r",
      " 56%|#############################################9                                    | 28/50 [03:26<02:33,  6.97s/it]"
     ]
    },
    {
     "name": "stdout",
     "output_type": "stream",
     "text": [
      "gens_avg_error: 9.557945041816085 fakes_avg_error: 8.233503291592402 cumulative_avg_error: 8.895724166704245\n"
     ]
    },
    {
     "name": "stderr",
     "output_type": "stream",
     "text": [
      "\r",
      " 58%|###############################################5                                  | 29/50 [03:33<02:26,  6.97s/it]"
     ]
    },
    {
     "name": "stdout",
     "output_type": "stream",
     "text": [
      "gens_avg_error: 9.58333333333341 fakes_avg_error: 8.204097922693855 cumulative_avg_error: 8.893715628013632\n"
     ]
    },
    {
     "name": "stderr",
     "output_type": "stream",
     "text": [
      "\r",
      " 60%|#################################################1                                | 30/50 [03:40<02:20,  7.03s/it]"
     ]
    },
    {
     "name": "stdout",
     "output_type": "stream",
     "text": [
      "gens_avg_error: 9.549228944246813 fakes_avg_error: 8.174901844677152 cumulative_avg_error: 8.862065394461982\n"
     ]
    },
    {
     "name": "stderr",
     "output_type": "stream",
     "text": [
      "\r",
      " 62%|##################################################8                               | 31/50 [03:46<02:07,  6.71s/it]"
     ]
    },
    {
     "name": "stdout",
     "output_type": "stream",
     "text": [
      "gens_avg_error: 9.66312056737596 fakes_avg_error: 8.159046532120495 cumulative_avg_error: 8.911083549748234\n"
     ]
    },
    {
     "name": "stderr",
     "output_type": "stream",
     "text": [
      "\r",
      " 64%|####################################################4                             | 32/50 [03:53<02:01,  6.78s/it]"
     ]
    },
    {
     "name": "stdout",
     "output_type": "stream",
     "text": [
      "gens_avg_error: 9.717314487632578 fakes_avg_error: 8.165551668049408 cumulative_avg_error: 8.941433077840987\n"
     ]
    },
    {
     "name": "stderr",
     "output_type": "stream",
     "text": [
      "\r",
      " 66%|######################################################1                           | 33/50 [03:58<01:49,  6.42s/it]"
     ]
    },
    {
     "name": "stdout",
     "output_type": "stream",
     "text": [
      "gens_avg_error: 9.712441314554066 fakes_avg_error: 8.188964566453516 cumulative_avg_error: 8.950702940503795\n"
     ]
    },
    {
     "name": "stderr",
     "output_type": "stream",
     "text": [
      "\r",
      " 68%|#######################################################7                          | 34/50 [04:10<02:07,  7.94s/it]"
     ]
    },
    {
     "name": "stdout",
     "output_type": "stream",
     "text": [
      "gens_avg_error: 9.678362573099486 fakes_avg_error: 8.33566995393964 cumulative_avg_error: 9.007016263519564\n"
     ]
    },
    {
     "name": "stderr",
     "output_type": "stream",
     "text": [
      "\r",
      " 70%|#########################################################4                        | 35/50 [04:14<01:42,  6.86s/it]"
     ]
    },
    {
     "name": "stdout",
     "output_type": "stream",
     "text": [
      "gens_avg_error: 9.7319347319348 fakes_avg_error: 8.329834278110015 cumulative_avg_error: 9.030884505022406\n"
     ]
    },
    {
     "name": "stderr",
     "output_type": "stream",
     "text": [
      "\r",
      " 72%|###########################################################                       | 36/50 [04:23<01:44,  7.48s/it]"
     ]
    },
    {
     "name": "stdout",
     "output_type": "stream",
     "text": [
      "gens_avg_error: 9.698025551684164 fakes_avg_error: 8.300810465294306 cumulative_avg_error: 8.999418008489235\n"
     ]
    },
    {
     "name": "stderr",
     "output_type": "stream",
     "text": [
      "\r",
      " 74%|############################################################6                     | 37/50 [04:28<01:27,  6.75s/it]"
     ]
    },
    {
     "name": "stdout",
     "output_type": "stream",
     "text": [
      "gens_avg_error: 9.693287037037102 fakes_avg_error: 8.27198820673425 cumulative_avg_error: 8.982637621885669\n"
     ]
    },
    {
     "name": "stderr",
     "output_type": "stream",
     "text": [
      "\r",
      " 76%|##############################################################3                   | 38/50 [04:38<01:32,  7.72s/it]"
     ]
    },
    {
     "name": "stdout",
     "output_type": "stream",
     "text": [
      "gens_avg_error: 9.832756632064655 fakes_avg_error: 8.254899435546026 cumulative_avg_error: 9.043828033805346\n"
     ]
    },
    {
     "name": "stderr",
     "output_type": "stream",
     "text": [
      "\r",
      " 78%|###############################################################9                  | 39/50 [04:46<01:27,  7.94s/it]"
     ]
    },
    {
     "name": "stdout",
     "output_type": "stream",
     "text": [
      "gens_avg_error: 9.798850574712715 fakes_avg_error: 8.250215477920486 cumulative_avg_error: 9.024533026316606\n"
     ]
    },
    {
     "name": "stderr",
     "output_type": "stream",
     "text": [
      "\r",
      " 80%|#################################################################6                | 40/50 [04:55<01:22,  8.27s/it]"
     ]
    },
    {
     "name": "stdout",
     "output_type": "stream",
     "text": [
      "gens_avg_error: 9.793814432989745 fakes_avg_error: 8.485323557606893 cumulative_avg_error: 9.139568995298319\n"
     ]
    },
    {
     "name": "stderr",
     "output_type": "stream",
     "text": [
      "\r",
      " 82%|###################################################################2              | 41/50 [05:02<01:10,  7.84s/it]"
     ]
    },
    {
     "name": "stdout",
     "output_type": "stream",
     "text": [
      "gens_avg_error: 9.760273972602796 fakes_avg_error: 8.513341855925594 cumulative_avg_error: 9.136807914264189\n"
     ]
    },
    {
     "name": "stderr",
     "output_type": "stream",
     "text": [
      "\r",
      " 84%|####################################################################8             | 42/50 [05:10<01:03,  7.92s/it]"
     ]
    },
    {
     "name": "stdout",
     "output_type": "stream",
     "text": [
      "gens_avg_error: 9.755403868031909 fakes_avg_error: 8.484286081673286 cumulative_avg_error: 9.119844974852597\n"
     ]
    },
    {
     "name": "stderr",
     "output_type": "stream",
     "text": [
      "\r",
      " 86%|######################################################################5           | 43/50 [05:18<00:55,  7.86s/it]"
     ]
    },
    {
     "name": "stdout",
     "output_type": "stream",
     "text": [
      "gens_avg_error: 9.750566893424084 fakes_avg_error: 8.614158124479376 cumulative_avg_error: 9.182362508951725\n"
     ]
    },
    {
     "name": "stderr",
     "output_type": "stream",
     "text": [
      "\r",
      " 88%|########################################################################1         | 44/50 [05:25<00:45,  7.59s/it]"
     ]
    },
    {
     "name": "stdout",
     "output_type": "stream",
     "text": [
      "gens_avg_error: 9.717514124293835 fakes_avg_error: 8.618855893548949 cumulative_avg_error: 9.168185008921393\n"
     ]
    },
    {
     "name": "stderr",
     "output_type": "stream",
     "text": [
      "\r",
      " 90%|#########################################################################8        | 45/50 [05:34<00:40,  8.02s/it]"
     ]
    },
    {
     "name": "stdout",
     "output_type": "stream",
     "text": [
      "gens_avg_error: 9.68468468468473 fakes_avg_error: 8.638000685414383 cumulative_avg_error: 9.161342685049556\n"
     ]
    },
    {
     "name": "stderr",
     "output_type": "stream",
     "text": [
      "\r",
      " 92%|###########################################################################4      | 46/50 [05:41<00:30,  7.64s/it]"
     ]
    },
    {
     "name": "stdout",
     "output_type": "stream",
     "text": [
      "gens_avg_error: 9.680134680134723 fakes_avg_error: 8.608916508022412 cumulative_avg_error: 9.144525594078567\n"
     ]
    },
    {
     "name": "stderr",
     "output_type": "stream",
     "text": [
      "\r",
      " 94%|#############################################################################     | 47/50 [05:47<00:21,  7.30s/it]"
     ]
    },
    {
     "name": "stdout",
     "output_type": "stream",
     "text": [
      "gens_avg_error: 9.675615212528 fakes_avg_error: 8.602398891105112 cumulative_avg_error: 9.139007051816561\n"
     ]
    },
    {
     "name": "stderr",
     "output_type": "stream",
     "text": [
      "\r",
      " 96%|##############################################################################7   | 48/50 [05:56<00:15,  7.71s/it]"
     ]
    },
    {
     "name": "stdout",
     "output_type": "stream",
     "text": [
      "gens_avg_error: 9.643255295429242 fakes_avg_error: 8.573628326251914 cumulative_avg_error: 9.108441810840585\n"
     ]
    },
    {
     "name": "stderr",
     "output_type": "stream",
     "text": [
      "\r",
      " 98%|################################################################################3 | 49/50 [06:02<00:07,  7.10s/it]"
     ]
    },
    {
     "name": "stdout",
     "output_type": "stream",
     "text": [
      "gens_avg_error: 9.611111111111148 fakes_avg_error: 8.71171623183108 cumulative_avg_error: 9.16141367147112\n"
     ]
    },
    {
     "name": "stderr",
     "output_type": "stream",
     "text": [
      "100%|##################################################################################| 50/50 [06:07<00:00,  6.62s/it]\n",
      "  0%|                                                                                           | 0/50 [00:00<?, ?it/s]"
     ]
    },
    {
     "name": "stdout",
     "output_type": "stream",
     "text": [
      "gens_avg_error: 9.5791805094131 fakes_avg_error: 8.715996244349922 cumulative_avg_error: 9.14758837688151\n"
     ]
    },
    {
     "name": "stderr",
     "output_type": "stream",
     "text": [
      "\r",
      "  2%|#6                                                                                 | 1/50 [00:07<05:50,  7.15s/it]"
     ]
    },
    {
     "name": "stdout",
     "output_type": "stream",
     "text": [
      "gens_avg_error: 9.547461368653455 fakes_avg_error: 8.687135329633522 cumulative_avg_error: 9.117298349143487\n"
     ]
    },
    {
     "name": "stderr",
     "output_type": "stream",
     "text": [
      "\r",
      "  4%|###3                                                                               | 2/50 [00:14<05:49,  7.29s/it]"
     ]
    },
    {
     "name": "stdout",
     "output_type": "stream",
     "text": [
      "gens_avg_error: 9.515951595159544 fakes_avg_error: 8.735472616774453 cumulative_avg_error: 9.125712105966999\n"
     ]
    },
    {
     "name": "stderr",
     "output_type": "stream",
     "text": [
      "\r",
      "  6%|####9                                                                              | 3/50 [00:21<05:37,  7.18s/it]"
     ]
    },
    {
     "name": "stdout",
     "output_type": "stream",
     "text": [
      "gens_avg_error: 9.512061403508799 fakes_avg_error: 8.750597158605233 cumulative_avg_error: 9.13132928105702\n"
     ]
    },
    {
     "name": "stderr",
     "output_type": "stream",
     "text": [
      "\r",
      "  8%|######6                                                                            | 4/50 [00:30<05:46,  7.53s/it]"
     ]
    },
    {
     "name": "stdout",
     "output_type": "stream",
     "text": [
      "gens_avg_error: 9.480874316939914 fakes_avg_error: 8.885841102347513 cumulative_avg_error: 9.183357709643714\n"
     ]
    },
    {
     "name": "stderr",
     "output_type": "stream",
     "text": [
      "\r",
      " 10%|########3                                                                          | 5/50 [00:37<05:33,  7.42s/it]"
     ]
    },
    {
     "name": "stdout",
     "output_type": "stream",
     "text": [
      "gens_avg_error: 9.477124183006557 fakes_avg_error: 8.856802405934616 cumulative_avg_error: 9.166963294470587\n"
     ]
    },
    {
     "name": "stderr",
     "output_type": "stream",
     "text": [
      "\r",
      " 12%|#########9                                                                         | 6/50 [00:46<05:45,  7.84s/it]"
     ]
    },
    {
     "name": "stdout",
     "output_type": "stream",
     "text": [
      "gens_avg_error: 9.446254071661253 fakes_avg_error: 8.838810649997807 cumulative_avg_error: 9.142532360829536\n"
     ]
    },
    {
     "name": "stderr",
     "output_type": "stream",
     "text": [
      "\r",
      " 14%|###########6                                                                       | 7/50 [00:52<05:21,  7.47s/it]"
     ]
    },
    {
     "name": "stdout",
     "output_type": "stream",
     "text": [
      "gens_avg_error: 9.415584415584433 fakes_avg_error: 9.004918407627693 cumulative_avg_error: 9.210251411606063\n"
     ]
    },
    {
     "name": "stderr",
     "output_type": "stream",
     "text": [
      "\r",
      " 16%|#############2                                                                     | 8/50 [00:58<04:50,  6.91s/it]"
     ]
    },
    {
     "name": "stdout",
     "output_type": "stream",
     "text": [
      "gens_avg_error: 9.573894282632157 fakes_avg_error: 8.97577627685867 cumulative_avg_error: 9.27483527974542\n"
     ]
    },
    {
     "name": "stderr",
     "output_type": "stream",
     "text": [
      "\r",
      " 18%|##############9                                                                    | 9/50 [01:04<04:39,  6.83s/it]"
     ]
    },
    {
     "name": "stdout",
     "output_type": "stream",
     "text": [
      "gens_avg_error: 9.543010752688186 fakes_avg_error: 9.161875923277417 cumulative_avg_error: 9.352443337982796\n"
     ]
    },
    {
     "name": "stderr",
     "output_type": "stream",
     "text": [
      "\r",
      " 20%|################4                                                                 | 10/50 [01:10<04:16,  6.40s/it]"
     ]
    },
    {
     "name": "stdout",
     "output_type": "stream",
     "text": [
      "gens_avg_error: 9.512325830653811 fakes_avg_error: 9.132416515163989 cumulative_avg_error: 9.322371172908905\n"
     ]
    },
    {
     "name": "stderr",
     "output_type": "stream",
     "text": [
      "\r",
      " 22%|##################                                                                | 11/50 [01:18<04:25,  6.81s/it]"
     ]
    },
    {
     "name": "stdout",
     "output_type": "stream",
     "text": [
      "gens_avg_error: 9.481837606837617 fakes_avg_error: 9.103145949410251 cumulative_avg_error: 9.292491778123935\n"
     ]
    },
    {
     "name": "stderr",
     "output_type": "stream",
     "text": [
      "\r",
      " 24%|###################6                                                              | 12/50 [01:23<03:59,  6.29s/it]"
     ]
    },
    {
     "name": "stdout",
     "output_type": "stream",
     "text": [
      "gens_avg_error: 9.478168264110764 fakes_avg_error: 9.074062416025551 cumulative_avg_error: 9.27611534006816\n"
     ]
    },
    {
     "name": "stderr",
     "output_type": "stream",
     "text": [
      "\r",
      " 26%|#####################3                                                            | 13/50 [01:30<04:07,  6.68s/it]"
     ]
    },
    {
     "name": "stdout",
     "output_type": "stream",
     "text": [
      "gens_avg_error: 9.5276008492569 fakes_avg_error: 9.100072979383256 cumulative_avg_error: 9.313836914320085\n"
     ]
    },
    {
     "name": "stderr",
     "output_type": "stream",
     "text": [
      "\r",
      " 28%|######################9                                                           | 14/50 [01:37<04:05,  6.82s/it]"
     ]
    },
    {
     "name": "stdout",
     "output_type": "stream",
     "text": [
      "gens_avg_error: 9.550264550264565 fakes_avg_error: 9.081765869395808 cumulative_avg_error: 9.316015209830187\n"
     ]
    },
    {
     "name": "stderr",
     "output_type": "stream",
     "text": [
      "\r",
      " 30%|########################5                                                         | 15/50 [01:44<03:56,  6.76s/it]"
     ]
    },
    {
     "name": "stdout",
     "output_type": "stream",
     "text": [
      "gens_avg_error: 9.520042194092838 fakes_avg_error: 9.084671673606582 cumulative_avg_error: 9.302356933849708\n"
     ]
    },
    {
     "name": "stderr",
     "output_type": "stream",
     "text": [
      "\r",
      " 32%|##########################2                                                       | 16/50 [01:54<04:20,  7.66s/it]"
     ]
    },
    {
     "name": "stdout",
     "output_type": "stream",
     "text": [
      "gens_avg_error: 9.490010515247116 fakes_avg_error: 9.098074391776068 cumulative_avg_error: 9.294042453511597\n"
     ]
    },
    {
     "name": "stderr",
     "output_type": "stream",
     "text": [
      "\r",
      " 34%|###########################8                                                      | 17/50 [02:00<03:59,  7.26s/it]"
     ]
    },
    {
     "name": "stdout",
     "output_type": "stream",
     "text": [
      "gens_avg_error: 9.486373165618456 fakes_avg_error: 9.079946275240092 cumulative_avg_error: 9.283159720429278\n"
     ]
    },
    {
     "name": "stderr",
     "output_type": "stream",
     "text": [
      "\r",
      " 36%|#############################5                                                    | 18/50 [02:08<04:00,  7.50s/it]"
     ]
    },
    {
     "name": "stdout",
     "output_type": "stream",
     "text": [
      "gens_avg_error: 9.50888192267504 fakes_avg_error: 9.051482493813012 cumulative_avg_error: 9.280182208244025\n"
     ]
    },
    {
     "name": "stderr",
     "output_type": "stream",
     "text": [
      "\r",
      " 38%|###############################1                                                  | 19/50 [02:15<03:47,  7.35s/it]"
     ]
    },
    {
     "name": "stdout",
     "output_type": "stream",
     "text": [
      "gens_avg_error: 9.479166666666682 fakes_avg_error: 9.023196611019845 cumulative_avg_error: 9.251181638843263\n"
     ]
    },
    {
     "name": "stderr",
     "output_type": "stream",
     "text": [
      "\r",
      " 40%|################################8                                                 | 20/50 [02:23<03:44,  7.47s/it]"
     ]
    },
    {
     "name": "stdout",
     "output_type": "stream",
     "text": [
      "gens_avg_error: 9.4496365524403 fakes_avg_error: 9.026239612231624 cumulative_avg_error: 9.237938082335962\n"
     ]
    },
    {
     "name": "stderr",
     "output_type": "stream",
     "text": [
      "\r",
      " 42%|##################################4                                               | 21/50 [02:30<03:32,  7.32s/it]"
     ]
    },
    {
     "name": "stdout",
     "output_type": "stream",
     "text": [
      "gens_avg_error: 9.446169772256729 fakes_avg_error: 9.00855977906735 cumulative_avg_error: 9.22736477566204\n"
     ]
    },
    {
     "name": "stderr",
     "output_type": "stream",
     "text": [
      "\r",
      " 44%|####################################                                              | 22/50 [02:38<03:34,  7.67s/it]"
     ]
    },
    {
     "name": "stdout",
     "output_type": "stream",
     "text": [
      "gens_avg_error: 9.442724458204331 fakes_avg_error: 8.990989418554252 cumulative_avg_error: 9.216856938379292\n"
     ]
    },
    {
     "name": "stderr",
     "output_type": "stream",
     "text": [
      "\r",
      " 46%|#####################################7                                            | 23/50 [02:46<03:27,  7.68s/it]"
     ]
    },
    {
     "name": "stdout",
     "output_type": "stream",
     "text": [
      "gens_avg_error: 9.413580246913577 fakes_avg_error: 9.107272373023722 cumulative_avg_error: 9.26042630996865\n"
     ]
    },
    {
     "name": "stderr",
     "output_type": "stream",
     "text": [
      "\r",
      " 48%|#######################################3                                          | 24/50 [02:54<03:19,  7.66s/it]"
     ]
    },
    {
     "name": "stdout",
     "output_type": "stream",
     "text": [
      "gens_avg_error: 9.410256410256402 fakes_avg_error: 9.079249996491345 cumulative_avg_error: 9.244753203373879\n"
     ]
    },
    {
     "name": "stderr",
     "output_type": "stream",
     "text": [
      "\r",
      " 50%|#########################################                                         | 25/50 [03:01<03:11,  7.67s/it]"
     ]
    },
    {
     "name": "stdout",
     "output_type": "stream",
     "text": [
      "gens_avg_error: 9.381390593047033 fakes_avg_error: 9.122974178506205 cumulative_avg_error: 9.252182385776619\n"
     ]
    },
    {
     "name": "stderr",
     "output_type": "stream",
     "text": [
      "\r",
      " 52%|##########################################6                                       | 26/50 [03:10<03:12,  8.00s/it]"
     ]
    },
    {
     "name": "stdout",
     "output_type": "stream",
     "text": [
      "gens_avg_error: 9.35270132517838 fakes_avg_error: 9.10526885482067 cumulative_avg_error: 9.228985089999519\n"
     ]
    },
    {
     "name": "stderr",
     "output_type": "stream",
     "text": [
      "\r",
      " 54%|############################################2                                     | 27/50 [03:17<02:58,  7.78s/it]"
     ]
    },
    {
     "name": "stdout",
     "output_type": "stream",
     "text": [
      "gens_avg_error: 9.32418699186991 fakes_avg_error: 9.077508888799867 cumulative_avg_error: 9.200847940334889\n"
     ]
    },
    {
     "name": "stderr",
     "output_type": "stream",
     "text": [
      "\r",
      " 56%|#############################################9                                    | 28/50 [03:25<02:52,  7.85s/it]"
     ]
    },
    {
     "name": "stdout",
     "output_type": "stream",
     "text": [
      "gens_avg_error: 9.371833839918942 fakes_avg_error: 9.130971374446883 cumulative_avg_error: 9.251402607182913\n"
     ]
    },
    {
     "name": "stderr",
     "output_type": "stream",
     "text": [
      "\r",
      " 58%|###############################################5                                  | 29/50 [03:32<02:39,  7.61s/it]"
     ]
    },
    {
     "name": "stdout",
     "output_type": "stream",
     "text": [
      "gens_avg_error: 9.469696969696972 fakes_avg_error: 9.1134027743223 cumulative_avg_error: 9.291549872009641\n"
     ]
    },
    {
     "name": "stderr",
     "output_type": "stream",
     "text": [
      "\r",
      " 60%|#################################################1                                | 30/50 [03:41<02:35,  7.80s/it]"
     ]
    },
    {
     "name": "stdout",
     "output_type": "stream",
     "text": [
      "gens_avg_error: 9.441087613293053 fakes_avg_error: 9.146292796152144 cumulative_avg_error: 9.293690204722594\n"
     ]
    },
    {
     "name": "stderr",
     "output_type": "stream",
     "text": [
      "\r",
      " 62%|##################################################8                               | 31/50 [03:47<02:21,  7.46s/it]"
     ]
    },
    {
     "name": "stdout",
     "output_type": "stream",
     "text": [
      "gens_avg_error: 9.412650602409634 fakes_avg_error: 9.158904364035214 cumulative_avg_error: 9.285777483222423\n"
     ]
    },
    {
     "name": "stderr",
     "output_type": "stream",
     "text": [
      "\r",
      " 64%|####################################################4                             | 32/50 [03:53<02:05,  6.99s/it]"
     ]
    },
    {
     "name": "stdout",
     "output_type": "stream",
     "text": [
      "gens_avg_error: 9.384384384384381 fakes_avg_error: 9.14141015673582 cumulative_avg_error: 9.2628972705601\n"
     ]
    },
    {
     "name": "stderr",
     "output_type": "stream",
     "text": [
      "\r",
      " 66%|######################################################1                           | 33/50 [04:01<02:04,  7.34s/it]"
     ]
    },
    {
     "name": "stdout",
     "output_type": "stream",
     "text": [
      "gens_avg_error: 9.406187624750507 fakes_avg_error: 9.124020705168757 cumulative_avg_error: 9.265104164959626\n"
     ]
    },
    {
     "name": "stderr",
     "output_type": "stream",
     "text": [
      "\r",
      " 68%|#######################################################7                          | 34/50 [04:09<01:59,  7.44s/it]"
     ]
    },
    {
     "name": "stdout",
     "output_type": "stream",
     "text": [
      "gens_avg_error: 9.40298507462687 fakes_avg_error: 9.176386812516501 cumulative_avg_error: 9.28968594357169\n"
     ]
    },
    {
     "name": "stderr",
     "output_type": "stream",
     "text": [
      "\r",
      " 70%|#########################################################4                        | 35/50 [04:16<01:48,  7.27s/it]"
     ]
    },
    {
     "name": "stdout",
     "output_type": "stream",
     "text": [
      "gens_avg_error: 9.424603174603185 fakes_avg_error: 9.158996772399897 cumulative_avg_error: 9.291799973501536\n"
     ]
    },
    {
     "name": "stderr",
     "output_type": "stream",
     "text": [
      "\r",
      " 72%|###########################################################                       | 36/50 [04:23<01:39,  7.08s/it]"
     ]
    },
    {
     "name": "stdout",
     "output_type": "stream",
     "text": [
      "gens_avg_error: 9.396636993076168 fakes_avg_error: 9.16149233093877 cumulative_avg_error: 9.279064662007475\n"
     ]
    },
    {
     "name": "stderr",
     "output_type": "stream",
     "text": [
      "\r",
      " 74%|############################################################6                     | 37/50 [04:29<01:29,  6.91s/it]"
     ]
    },
    {
     "name": "stdout",
     "output_type": "stream",
     "text": [
      "gens_avg_error: 9.418145956607503 fakes_avg_error: 9.144249256981363 cumulative_avg_error: 9.281197606794434\n"
     ]
    },
    {
     "name": "stderr",
     "output_type": "stream",
     "text": [
      "\r",
      " 76%|##############################################################3                   | 38/50 [04:36<01:21,  6.80s/it]"
     ]
    },
    {
     "name": "stdout",
     "output_type": "stream",
     "text": [
      "gens_avg_error: 9.390363815142589 fakes_avg_error: 9.304099062516325 cumulative_avg_error: 9.34723143882945\n"
     ]
    },
    {
     "name": "stderr",
     "output_type": "stream",
     "text": [
      "\r",
      " 78%|###############################################################9                  | 39/50 [04:45<01:22,  7.50s/it]"
     ]
    },
    {
     "name": "stdout",
     "output_type": "stream",
     "text": [
      "gens_avg_error: 9.387254901960794 fakes_avg_error: 9.307160028762485 cumulative_avg_error: 9.34720746536164\n"
     ]
    },
    {
     "name": "stderr",
     "output_type": "stream",
     "text": [
      "\r",
      " 80%|#################################################################6                | 40/50 [04:51<01:11,  7.19s/it]"
     ]
    },
    {
     "name": "stdout",
     "output_type": "stream",
     "text": [
      "gens_avg_error: 9.408602150537648 fakes_avg_error: 9.289641475403466 cumulative_avg_error: 9.349121812970562\n"
     ]
    },
    {
     "name": "stderr",
     "output_type": "stream",
     "text": [
      "\r",
      " 82%|###################################################################2              | 41/50 [04:59<01:06,  7.37s/it]"
     ]
    },
    {
     "name": "stdout",
     "output_type": "stream",
     "text": [
      "gens_avg_error: 9.381091617933734 fakes_avg_error: 9.437917377522176 cumulative_avg_error: 9.40950449772795\n"
     ]
    },
    {
     "name": "stderr",
     "output_type": "stream",
     "text": [
      "\r",
      " 84%|####################################################################8             | 42/50 [05:04<00:52,  6.57s/it]"
     ]
    },
    {
     "name": "stdout",
     "output_type": "stream",
     "text": [
      "gens_avg_error: 9.353741496598655 fakes_avg_error: 9.429837929385565 cumulative_avg_error: 9.391789712992104\n"
     ]
    },
    {
     "name": "stderr",
     "output_type": "stream",
     "text": [
      "\r",
      " 86%|######################################################################5           | 43/50 [05:09<00:44,  6.33s/it]"
     ]
    },
    {
     "name": "stdout",
     "output_type": "stream",
     "text": [
      "gens_avg_error: 9.32655038759691 fakes_avg_error: 9.412449667561972 cumulative_avg_error: 9.369500027579436\n"
     ]
    },
    {
     "name": "stderr",
     "output_type": "stream",
     "text": [
      "\r",
      " 88%|########################################################################1         | 44/50 [05:15<00:37,  6.22s/it]"
     ]
    },
    {
     "name": "stdout",
     "output_type": "stream",
     "text": [
      "gens_avg_error: 9.39613526570049 fakes_avg_error: 9.38516720475745 cumulative_avg_error: 9.390651235228976\n"
     ]
    },
    {
     "name": "stderr",
     "output_type": "stream",
     "text": [
      "\r",
      " 90%|#########################################################################8        | 45/50 [05:24<00:34,  6.99s/it]"
     ]
    },
    {
     "name": "stdout",
     "output_type": "stream",
     "text": [
      "gens_avg_error: 9.368978805395 fakes_avg_error: 9.358042444050053 cumulative_avg_error: 9.363510624722526\n"
     ]
    },
    {
     "name": "stderr",
     "output_type": "stream",
     "text": [
      "\r",
      " 92%|###########################################################################4      | 46/50 [05:31<00:27,  6.81s/it]"
     ]
    },
    {
     "name": "stdout",
     "output_type": "stream",
     "text": [
      "gens_avg_error: 9.365994236311238 fakes_avg_error: 9.331074022021092 cumulative_avg_error: 9.348534129166165\n"
     ]
    },
    {
     "name": "stderr",
     "output_type": "stream",
     "text": [
      "\r",
      " 94%|#############################################################################     | 47/50 [05:38<00:20,  6.92s/it]"
     ]
    },
    {
     "name": "stdout",
     "output_type": "stream",
     "text": [
      "gens_avg_error: 9.339080459770111 fakes_avg_error: 9.313839134984637 cumulative_avg_error: 9.326459797377373\n"
     ]
    },
    {
     "name": "stderr",
     "output_type": "stream",
     "text": [
      "\r",
      " 96%|##############################################################################7   | 48/50 [05:46<00:14,  7.43s/it]"
     ]
    },
    {
     "name": "stdout",
     "output_type": "stream",
     "text": [
      "gens_avg_error: 9.312320916905447 fakes_avg_error: 9.29670301520914 cumulative_avg_error: 9.304511966057294\n"
     ]
    },
    {
     "name": "stderr",
     "output_type": "stream",
     "text": [
      "\r",
      " 98%|################################################################################3 | 49/50 [05:56<00:08,  8.20s/it]"
     ]
    },
    {
     "name": "stdout",
     "output_type": "stream",
     "text": [
      "gens_avg_error: 9.285714285714286 fakes_avg_error: 9.336807673260928 cumulative_avg_error: 9.311260979487601\n"
     ]
    },
    {
     "name": "stderr",
     "output_type": "stream",
     "text": [
      "100%|##################################################################################| 50/50 [06:02<00:00,  7.40s/it]\n",
      "  0%|                                                                                           | 0/50 [00:00<?, ?it/s]"
     ]
    },
    {
     "name": "stdout",
     "output_type": "stream",
     "text": [
      "gens_avg_error: 9.259259259259256 fakes_avg_error: 9.31020708159922 cumulative_avg_error: 9.284733170429238\n"
     ]
    },
    {
     "name": "stderr",
     "output_type": "stream",
     "text": [
      "\r",
      "  2%|#6                                                                                 | 1/50 [00:04<03:50,  4.71s/it]"
     ]
    },
    {
     "name": "stdout",
     "output_type": "stream",
     "text": [
      "gens_avg_error: 9.256628787878785 fakes_avg_error: 9.312166720571957 cumulative_avg_error: 9.28439775422537\n"
     ]
    },
    {
     "name": "stderr",
     "output_type": "stream",
     "text": [
      "\r",
      "  4%|###3                                                                               | 2/50 [00:14<05:06,  6.38s/it]"
     ]
    },
    {
     "name": "stdout",
     "output_type": "stream",
     "text": [
      "gens_avg_error: 9.2304060434372 fakes_avg_error: 9.285786644876282 cumulative_avg_error: 9.25809634415674\n"
     ]
    },
    {
     "name": "stderr",
     "output_type": "stream",
     "text": [
      "\r",
      "  6%|####9                                                                              | 3/50 [00:20<04:48,  6.14s/it]"
     ]
    },
    {
     "name": "stdout",
     "output_type": "stream",
     "text": [
      "gens_avg_error: 9.298493408662889 fakes_avg_error: 9.268971805013171 cumulative_avg_error: 9.283732606838036\n"
     ]
    },
    {
     "name": "stderr",
     "output_type": "stream",
     "text": [
      "\r",
      "  8%|######6                                                                            | 4/50 [00:29<05:15,  6.86s/it]"
     ]
    },
    {
     "name": "stdout",
     "output_type": "stream",
     "text": [
      "gens_avg_error: 9.272300469483552 fakes_avg_error: 9.252251696642254 cumulative_avg_error: 9.262276083062904\n"
     ]
    },
    {
     "name": "stderr",
     "output_type": "stream",
     "text": [
      "\r",
      " 10%|########3                                                                          | 5/50 [00:38<05:42,  7.62s/it]"
     ]
    },
    {
     "name": "stdout",
     "output_type": "stream",
     "text": [
      "gens_avg_error: 9.293071161048683 fakes_avg_error: 9.22626222558427 cumulative_avg_error: 9.259666693316483\n"
     ]
    },
    {
     "name": "stderr",
     "output_type": "stream",
     "text": [
      "\r",
      " 12%|#########9                                                                         | 6/50 [00:47<05:52,  8.02s/it]"
     ]
    },
    {
     "name": "stdout",
     "output_type": "stream",
     "text": [
      "gens_avg_error: 9.267040149393079 fakes_avg_error: 9.200418353803919 cumulative_avg_error: 9.233729251598499\n"
     ]
    },
    {
     "name": "stderr",
     "output_type": "stream",
     "text": [
      "\r",
      " 14%|###########6                                                                       | 7/50 [00:54<05:27,  7.62s/it]"
     ]
    },
    {
     "name": "stdout",
     "output_type": "stream",
     "text": [
      "gens_avg_error: 9.31098696461824 fakes_avg_error: 9.314383665664804 cumulative_avg_error: 9.312685315141522\n"
     ]
    },
    {
     "name": "stderr",
     "output_type": "stream",
     "text": [
      "\r",
      " 16%|#############2                                                                     | 8/50 [01:01<05:11,  7.42s/it]"
     ]
    },
    {
     "name": "stdout",
     "output_type": "stream",
     "text": [
      "gens_avg_error: 9.33147632311978 fakes_avg_error: 9.29772335833241 cumulative_avg_error: 9.314599840726089\n"
     ]
    },
    {
     "name": "stderr",
     "output_type": "stream",
     "text": [
      "\r",
      " 18%|##############9                                                                    | 9/50 [01:08<05:03,  7.41s/it]"
     ]
    },
    {
     "name": "stdout",
     "output_type": "stream",
     "text": [
      "gens_avg_error: 9.398148148148145 fakes_avg_error: 9.271896349003706 cumulative_avg_error: 9.33502224857592\n"
     ]
    },
    {
     "name": "stderr",
     "output_type": "stream",
     "text": [
      "\r",
      " 20%|################4                                                                 | 10/50 [01:18<05:22,  8.05s/it]"
     ]
    },
    {
     "name": "stdout",
     "output_type": "stream",
     "text": [
      "gens_avg_error: 9.418282548476453 fakes_avg_error: 9.2739132566242 cumulative_avg_error: 9.346097902550321\n"
     ]
    },
    {
     "name": "stderr",
     "output_type": "stream",
     "text": [
      "\r",
      " 22%|##################                                                                | 11/50 [01:25<05:02,  7.75s/it]"
     ]
    },
    {
     "name": "stdout",
     "output_type": "stream",
     "text": [
      "gens_avg_error: 9.392265193370164 fakes_avg_error: 9.285127124239423 cumulative_avg_error: 9.338696158804794\n"
     ]
    },
    {
     "name": "stderr",
     "output_type": "stream",
     "text": [
      "\r",
      " 24%|###################6                                                              | 12/50 [01:31<04:43,  7.46s/it]"
     ]
    },
    {
     "name": "stdout",
     "output_type": "stream",
     "text": [
      "gens_avg_error: 9.50413223140496 fakes_avg_error: 9.259548261638207 cumulative_avg_error: 9.381840246521577\n"
     ]
    },
    {
     "name": "stderr",
     "output_type": "stream",
     "text": [
      "\r",
      " 26%|#####################3                                                            | 13/50 [01:39<04:35,  7.44s/it]"
     ]
    },
    {
     "name": "stdout",
     "output_type": "stream",
     "text": [
      "gens_avg_error: 9.523809523809534 fakes_avg_error: 9.2341099422381 cumulative_avg_error: 9.378959733023818\n"
     ]
    },
    {
     "name": "stderr",
     "output_type": "stream",
     "text": [
      "\r",
      " 28%|######################9                                                           | 14/50 [01:45<04:16,  7.14s/it]"
     ]
    },
    {
     "name": "stdout",
     "output_type": "stream",
     "text": [
      "gens_avg_error: 9.49771689497717 fakes_avg_error: 9.217943430980835 cumulative_avg_error: 9.357830162978997\n"
     ]
    },
    {
     "name": "stderr",
     "output_type": "stream",
     "text": [
      "\r",
      " 30%|########################5                                                         | 15/50 [01:52<04:03,  6.96s/it]"
     ]
    },
    {
     "name": "stdout",
     "output_type": "stream",
     "text": [
      "gens_avg_error: 9.471766848816031 fakes_avg_error: 9.192757793191275 cumulative_avg_error: 9.33226232100366\n"
     ]
    },
    {
     "name": "stderr",
     "output_type": "stream",
     "text": [
      "\r",
      " 32%|##########################2                                                       | 16/50 [02:00<04:13,  7.45s/it]"
     ]
    },
    {
     "name": "stdout",
     "output_type": "stream",
     "text": [
      "gens_avg_error: 9.445958219800188 fakes_avg_error: 9.1677094068338 cumulative_avg_error: 9.306833813316995\n"
     ]
    },
    {
     "name": "stderr",
     "output_type": "stream",
     "text": [
      "\r",
      " 34%|###########################8                                                      | 17/50 [02:08<04:06,  7.48s/it]"
     ]
    },
    {
     "name": "stdout",
     "output_type": "stream",
     "text": [
      "gens_avg_error: 9.420289855072472 fakes_avg_error: 9.151855124025388 cumulative_avg_error: 9.286072489548935\n"
     ]
    },
    {
     "name": "stderr",
     "output_type": "stream",
     "text": [
      "\r",
      " 36%|#############################5                                                    | 18/50 [02:16<04:01,  7.54s/it]"
     ]
    },
    {
     "name": "stdout",
     "output_type": "stream",
     "text": [
      "gens_avg_error: 9.394760614272812 fakes_avg_error: 9.127053348621528 cumulative_avg_error: 9.260906981447171\n"
     ]
    },
    {
     "name": "stderr",
     "output_type": "stream",
     "text": [
      "\r",
      " 38%|###############################1                                                  | 19/50 [02:23<03:51,  7.47s/it]"
     ]
    },
    {
     "name": "stdout",
     "output_type": "stream",
     "text": [
      "gens_avg_error: 9.391891891891891 fakes_avg_error: 9.102385636868494 cumulative_avg_error: 9.247138764380193\n"
     ]
    },
    {
     "name": "stderr",
     "output_type": "stream",
     "text": [
      "\r",
      " 40%|################################8                                                 | 20/50 [02:29<03:33,  7.11s/it]"
     ]
    },
    {
     "name": "stdout",
     "output_type": "stream",
     "text": [
      "gens_avg_error: 9.366576819407014 fakes_avg_error: 9.131759260488792 cumulative_avg_error: 9.249168039947907\n"
     ]
    },
    {
     "name": "stderr",
     "output_type": "stream",
     "text": [
      "\r",
      " 42%|##################################4                                               | 21/50 [02:39<03:53,  8.05s/it]"
     ]
    },
    {
     "name": "stdout",
     "output_type": "stream",
     "text": [
      "gens_avg_error: 9.408602150537638 fakes_avg_error: 9.196817255308265 cumulative_avg_error: 9.30270970292295\n"
     ]
    },
    {
     "name": "stderr",
     "output_type": "stream",
     "text": [
      "\r",
      " 44%|####################################                                              | 22/50 [02:43<03:08,  6.72s/it]"
     ]
    },
    {
     "name": "stdout",
     "output_type": "stream",
     "text": [
      "gens_avg_error: 9.383378016085786 fakes_avg_error: 9.172160908779281 cumulative_avg_error: 9.277769462432527\n"
     ]
    },
    {
     "name": "stderr",
     "output_type": "stream",
     "text": [
      "\r",
      " 46%|#####################################7                                            | 23/50 [02:51<03:09,  7.01s/it]"
     ]
    },
    {
     "name": "stdout",
     "output_type": "stream",
     "text": [
      "gens_avg_error: 9.35828877005348 fakes_avg_error: 9.32588953380038 cumulative_avg_error: 9.342089151926935\n"
     ]
    },
    {
     "name": "stderr",
     "output_type": "stream",
     "text": [
      "\r",
      " 48%|#######################################3                                          | 24/50 [02:56<02:50,  6.56s/it]"
     ]
    },
    {
     "name": "stdout",
     "output_type": "stream",
     "text": [
      "gens_avg_error: 9.377777777777785 fakes_avg_error: 9.327687161710251 cumulative_avg_error: 9.35273246974402\n"
     ]
    },
    {
     "name": "stderr",
     "output_type": "stream",
     "text": [
      "\r",
      " 50%|#########################################                                         | 25/50 [03:06<03:06,  7.44s/it]"
     ]
    },
    {
     "name": "stdout",
     "output_type": "stream",
     "text": [
      "gens_avg_error: 9.397163120567386 fakes_avg_error: 9.302879483088677 cumulative_avg_error: 9.350021301828026\n"
     ]
    },
    {
     "name": "stderr",
     "output_type": "stream",
     "text": [
      "\r",
      " 52%|##########################################6                                       | 26/50 [03:14<03:04,  7.68s/it]"
     ]
    },
    {
     "name": "stdout",
     "output_type": "stream",
     "text": [
      "gens_avg_error: 9.394341290893015 fakes_avg_error: 9.278203410189246 cumulative_avg_error: 9.33627235054113\n"
     ]
    },
    {
     "name": "stderr",
     "output_type": "stream",
     "text": [
      "\r",
      " 54%|############################################2                                     | 27/50 [03:23<03:04,  8.01s/it]"
     ]
    },
    {
     "name": "stdout",
     "output_type": "stream",
     "text": [
      "gens_avg_error: 9.43562610229277 fakes_avg_error: 9.253657898522071 cumulative_avg_error: 9.344642000407422\n"
     ]
    },
    {
     "name": "stderr",
     "output_type": "stream",
     "text": [
      "\r",
      " 56%|#############################################9                                    | 28/50 [03:28<02:36,  7.13s/it]"
     ]
    },
    {
     "name": "stdout",
     "output_type": "stream",
     "text": [
      "gens_avg_error: 9.454705364995608 fakes_avg_error: 9.27321728841164 cumulative_avg_error: 9.36396132670363\n"
     ]
    },
    {
     "name": "stderr",
     "output_type": "stream",
     "text": [
      "\r",
      " 58%|###############################################5                                  | 29/50 [03:37<02:39,  7.60s/it]"
     ]
    },
    {
     "name": "stdout",
     "output_type": "stream",
     "text": [
      "gens_avg_error: 9.429824561403521 fakes_avg_error: 9.248814085021085 cumulative_avg_error: 9.339319323212303\n"
     ]
    },
    {
     "name": "stderr",
     "output_type": "stream",
     "text": [
      "\r",
      " 60%|#################################################1                                | 30/50 [03:43<02:24,  7.24s/it]"
     ]
    },
    {
     "name": "stdout",
     "output_type": "stream",
     "text": [
      "gens_avg_error: 9.405074365704301 fakes_avg_error: 9.278842539318699 cumulative_avg_error: 9.3419584525115\n"
     ]
    },
    {
     "name": "stderr",
     "output_type": "stream",
     "text": [
      "\r",
      " 62%|##################################################8                               | 31/50 [03:47<02:01,  6.38s/it]"
     ]
    },
    {
     "name": "stdout",
     "output_type": "stream",
     "text": [
      "gens_avg_error: 9.380453752181506 fakes_avg_error: 9.341812410507211 cumulative_avg_error: 9.361133081344363\n"
     ]
    },
    {
     "name": "stderr",
     "output_type": "stream",
     "text": [
      "\r",
      " 64%|####################################################4                             | 32/50 [03:54<01:56,  6.46s/it]"
     ]
    },
    {
     "name": "stdout",
     "output_type": "stream",
     "text": [
      "gens_avg_error: 9.355961705831174 fakes_avg_error: 9.317421255388403 cumulative_avg_error: 9.336691480609783\n"
     ]
    },
    {
     "name": "stderr",
     "output_type": "stream",
     "text": [
      "\r",
      " 66%|######################################################1                           | 33/50 [04:01<01:54,  6.74s/it]"
     ]
    },
    {
     "name": "stdout",
     "output_type": "stream",
     "text": [
      "gens_avg_error: 9.331597222222232 fakes_avg_error: 9.293157137535824 cumulative_avg_error: 9.312377179879029\n"
     ]
    },
    {
     "name": "stderr",
     "output_type": "stream",
     "text": [
      "\r",
      " 68%|#######################################################7                          | 34/50 [04:08<01:45,  6.59s/it]"
     ]
    },
    {
     "name": "stdout",
     "output_type": "stream",
     "text": [
      "gens_avg_error: 9.372294372294387 fakes_avg_error: 9.269019067048722 cumulative_avg_error: 9.32065671967155\n"
     ]
    },
    {
     "name": "stderr",
     "output_type": "stream",
     "text": [
      "\r",
      " 70%|#########################################################4                        | 35/50 [04:15<01:41,  6.75s/it]"
     ]
    },
    {
     "name": "stdout",
     "output_type": "stream",
     "text": [
      "gens_avg_error: 9.412780656303987 fakes_avg_error: 9.253641642868116 cumulative_avg_error: 9.333211149586052\n"
     ]
    },
    {
     "name": "stderr",
     "output_type": "stream",
     "text": [
      "\r",
      " 72%|###########################################################                       | 36/50 [04:24<01:44,  7.47s/it]"
     ]
    },
    {
     "name": "stdout",
     "output_type": "stream",
     "text": [
      "gens_avg_error: 9.38845822566754 fakes_avg_error: 9.367542654988181 cumulative_avg_error: 9.37800044032786\n"
     ]
    },
    {
     "name": "stderr",
     "output_type": "stream",
     "text": [
      "\r",
      " 74%|############################################################6                     | 37/50 [04:31<01:37,  7.50s/it]"
     ]
    },
    {
     "name": "stdout",
     "output_type": "stream",
     "text": [
      "gens_avg_error: 9.536082474226815 fakes_avg_error: 9.343399503815542 cumulative_avg_error: 9.439740989021184\n"
     ]
    },
    {
     "name": "stderr",
     "output_type": "stream",
     "text": [
      "\r",
      " 76%|##############################################################3                   | 38/50 [04:38<01:28,  7.35s/it]"
     ]
    },
    {
     "name": "stdout",
     "output_type": "stream",
     "text": [
      "gens_avg_error: 9.554413024850062 fakes_avg_error: 9.31938048195483 cumulative_avg_error: 9.436896753402447\n"
     ]
    },
    {
     "name": "stderr",
     "output_type": "stream",
     "text": [
      "\r",
      " 78%|###############################################################9                  | 39/50 [04:48<01:28,  8.03s/it]"
     ]
    },
    {
     "name": "stdout",
     "output_type": "stream",
     "text": [
      "gens_avg_error: 9.551282051282062 fakes_avg_error: 9.295484634565199 cumulative_avg_error: 9.42338334292363\n"
     ]
    },
    {
     "name": "stderr",
     "output_type": "stream",
     "text": [
      "\r",
      " 80%|#################################################################6                | 40/50 [04:55<01:17,  7.74s/it]"
     ]
    },
    {
     "name": "stdout",
     "output_type": "stream",
     "text": [
      "gens_avg_error: 9.590792838874695 fakes_avg_error: 9.356962508475085 cumulative_avg_error: 9.473877673674892\n"
     ]
    },
    {
     "name": "stderr",
     "output_type": "stream",
     "text": [
      "\r",
      " 82%|###################################################################2              | 41/50 [05:06<01:17,  8.63s/it]"
     ]
    },
    {
     "name": "stdout",
     "output_type": "stream",
     "text": [
      "gens_avg_error: 9.587585034013612 fakes_avg_error: 9.341596107518102 cumulative_avg_error: 9.464590570765852\n"
     ]
    },
    {
     "name": "stderr",
     "output_type": "stream",
     "text": [
      "\r",
      " 84%|####################################################################8             | 42/50 [05:15<01:11,  8.89s/it]"
     ]
    },
    {
     "name": "stdout",
     "output_type": "stream",
     "text": [
      "gens_avg_error: 9.563189143341821 fakes_avg_error: 9.411125549144439 cumulative_avg_error: 9.487157346243125\n"
     ]
    },
    {
     "name": "stderr",
     "output_type": "stream",
     "text": [
      "\r",
      " 86%|######################################################################5           | 43/50 [05:22<00:56,  8.09s/it]"
     ]
    },
    {
     "name": "stdout",
     "output_type": "stream",
     "text": [
      "gens_avg_error: 9.560067681895102 fakes_avg_error: 9.438000865009544 cumulative_avg_error: 9.499034273452322\n"
     ]
    },
    {
     "name": "stderr",
     "output_type": "stream",
     "text": [
      "\r",
      " 88%|########################################################################1         | 44/50 [05:27<00:44,  7.37s/it]"
     ]
    },
    {
     "name": "stdout",
     "output_type": "stream",
     "text": [
      "gens_avg_error: 9.556962025316452 fakes_avg_error: 9.414107191933574 cumulative_avg_error: 9.485534608625013\n"
     ]
    },
    {
     "name": "stderr",
     "output_type": "stream",
     "text": [
      "\r",
      " 90%|#########################################################################8        | 45/50 [05:35<00:38,  7.63s/it]"
     ]
    },
    {
     "name": "stdout",
     "output_type": "stream",
     "text": [
      "gens_avg_error: 9.532828282828287 fakes_avg_error: 9.415586719226676 cumulative_avg_error: 9.474207501027475\n"
     ]
    },
    {
     "name": "stderr",
     "output_type": "stream",
     "text": [
      "\r",
      " 92%|###########################################################################4      | 46/50 [05:49<00:37,  9.36s/it]"
     ]
    },
    {
     "name": "stdout",
     "output_type": "stream",
     "text": [
      "gens_avg_error: 9.592779177162047 fakes_avg_error: 9.391869876105197 cumulative_avg_error: 9.492324526633622\n"
     ]
    },
    {
     "name": "stderr",
     "output_type": "stream",
     "text": [
      "\r",
      " 94%|#############################################################################     | 47/50 [05:55<00:24,  8.31s/it]"
     ]
    },
    {
     "name": "stdout",
     "output_type": "stream",
     "text": [
      "gens_avg_error: 9.568676716917924 fakes_avg_error: 9.368272213099916 cumulative_avg_error: 9.468474465008914\n"
     ]
    },
    {
     "name": "stderr",
     "output_type": "stream",
     "text": [
      "\r",
      " 96%|##############################################################################7   | 48/50 [06:01<00:15,  7.86s/it]"
     ]
    },
    {
     "name": "stdout",
     "output_type": "stream",
     "text": [
      "gens_avg_error: 9.544695071010857 fakes_avg_error: 9.344792834119708 cumulative_avg_error: 9.444743952565283\n"
     ]
    },
    {
     "name": "stderr",
     "output_type": "stream",
     "text": [
      "\r",
      " 98%|################################################################################3 | 49/50 [06:08<00:07,  7.52s/it]"
     ]
    },
    {
     "name": "stdout",
     "output_type": "stream",
     "text": [
      "gens_avg_error: 9.520833333333334 fakes_avg_error: 9.39643085203441 cumulative_avg_error: 9.458632092683871\n"
     ]
    },
    {
     "name": "stderr",
     "output_type": "stream",
     "text": [
      "100%|##################################################################################| 50/50 [06:15<00:00,  7.31s/it]\n",
      "  0%|                                                                                           | 0/50 [00:00<?, ?it/s]"
     ]
    },
    {
     "name": "stdout",
     "output_type": "stream",
     "text": [
      "gens_avg_error: 9.497090606816283 fakes_avg_error: 9.389623460050956 cumulative_avg_error: 9.44335703343362\n"
     ]
    },
    {
     "name": "stderr",
     "output_type": "stream",
     "text": [
      "\r",
      "  2%|#6                                                                                 | 1/50 [00:06<05:20,  6.54s/it]"
     ]
    },
    {
     "name": "stdout",
     "output_type": "stream",
     "text": [
      "gens_avg_error: 9.680762852404634 fakes_avg_error: 9.366266187762262 cumulative_avg_error: 9.523514520083442\n"
     ]
    },
    {
     "name": "stderr",
     "output_type": "stream",
     "text": [
      "\r",
      "  4%|###3                                                                               | 2/50 [00:14<05:36,  7.02s/it]"
     ]
    },
    {
     "name": "stdout",
     "output_type": "stream",
     "text": [
      "gens_avg_error: 9.656741108354005 fakes_avg_error: 9.359567429645399 cumulative_avg_error: 9.508154268999702\n"
     ]
    },
    {
     "name": "stderr",
     "output_type": "stream",
     "text": [
      "\r",
      "  6%|####9                                                                              | 3/50 [00:24<06:03,  7.74s/it]"
     ]
    },
    {
     "name": "stdout",
     "output_type": "stream",
     "text": [
      "gens_avg_error: 9.65346534653464 fakes_avg_error: 9.336400183532422 cumulative_avg_error: 9.494932765033525\n"
     ]
    },
    {
     "name": "stderr",
     "output_type": "stream",
     "text": [
      "\r",
      "  8%|######6                                                                            | 4/50 [00:30<05:38,  7.36s/it]"
     ]
    },
    {
     "name": "stdout",
     "output_type": "stream",
     "text": [
      "gens_avg_error: 9.650205761316855 fakes_avg_error: 9.313347343573087 cumulative_avg_error: 9.481776552444977\n"
     ]
    },
    {
     "name": "stderr",
     "output_type": "stream",
     "text": [
      "\r",
      " 10%|########3                                                                          | 5/50 [00:39<05:50,  7.79s/it]"
     ]
    },
    {
     "name": "stdout",
     "output_type": "stream",
     "text": [
      "gens_avg_error: 9.626436781609183 fakes_avg_error: 9.339669148145557 cumulative_avg_error: 9.48305296487737\n"
     ]
    },
    {
     "name": "stderr",
     "output_type": "stream",
     "text": [
      "\r",
      " 12%|#########9                                                                         | 6/50 [00:46<05:40,  7.73s/it]"
     ]
    },
    {
     "name": "stdout",
     "output_type": "stream",
     "text": [
      "gens_avg_error: 9.602784602784586 fakes_avg_error: 9.316721558100971 cumulative_avg_error: 9.459753080442779\n"
     ]
    },
    {
     "name": "stderr",
     "output_type": "stream",
     "text": [
      "\r",
      " 14%|###########6                                                                       | 7/50 [00:52<05:04,  7.08s/it]"
     ]
    },
    {
     "name": "stdout",
     "output_type": "stream",
     "text": [
      "gens_avg_error: 9.660947712418277 fakes_avg_error: 9.31022632552393 cumulative_avg_error: 9.48558701897111\n"
     ]
    },
    {
     "name": "stderr",
     "output_type": "stream",
     "text": [
      "\r",
      " 16%|#############2                                                                     | 8/50 [01:02<05:34,  7.96s/it]"
     ]
    },
    {
     "name": "stdout",
     "output_type": "stream",
     "text": [
      "gens_avg_error: 9.657701711491418 fakes_avg_error: 9.287462935974967 cumulative_avg_error: 9.472582323733192\n"
     ]
    },
    {
     "name": "stderr",
     "output_type": "stream",
     "text": [
      "\r",
      " 18%|##############9                                                                    | 9/50 [01:11<05:33,  8.14s/it]"
     ]
    },
    {
     "name": "stdout",
     "output_type": "stream",
     "text": [
      "gens_avg_error: 9.715447154471512 fakes_avg_error: 9.264810587350647 cumulative_avg_error: 9.490128870911075\n"
     ]
    },
    {
     "name": "stderr",
     "output_type": "stream",
     "text": [
      "\r",
      " 20%|################4                                                                 | 10/50 [01:18<05:19,  8.00s/it]"
     ]
    },
    {
     "name": "stdout",
     "output_type": "stream",
     "text": [
      "gens_avg_error: 9.691808596918051 fakes_avg_error: 9.25848906929545 cumulative_avg_error: 9.47514883310675\n"
     ]
    },
    {
     "name": "stderr",
     "output_type": "stream",
     "text": [
      "\r",
      " 22%|##################                                                                | 11/50 [01:24<04:47,  7.37s/it]"
     ]
    },
    {
     "name": "stdout",
     "output_type": "stream",
     "text": [
      "gens_avg_error: 9.688511326860805 fakes_avg_error: 9.23601700844764 cumulative_avg_error: 9.462264167654222\n"
     ]
    },
    {
     "name": "stderr",
     "output_type": "stream",
     "text": [
      "\r",
      " 24%|###################6                                                              | 12/50 [01:30<04:17,  6.79s/it]"
     ]
    },
    {
     "name": "stdout",
     "output_type": "stream",
     "text": [
      "gens_avg_error: 9.665052461662594 fakes_avg_error: 9.334719146441717 cumulative_avg_error: 9.499885804052155\n"
     ]
    },
    {
     "name": "stderr",
     "output_type": "stream",
     "text": [
      "\r",
      " 26%|#####################3                                                            | 13/50 [01:37<04:16,  6.94s/it]"
     ]
    },
    {
     "name": "stdout",
     "output_type": "stream",
     "text": [
      "gens_avg_error: 9.641706924315585 fakes_avg_error: 9.312171515653212 cumulative_avg_error: 9.476939219984404\n"
     ]
    },
    {
     "name": "stderr",
     "output_type": "stream",
     "text": [
      "\r",
      " 28%|######################9                                                           | 14/50 [01:44<04:14,  7.08s/it]"
     ]
    },
    {
     "name": "stdout",
     "output_type": "stream",
     "text": [
      "gens_avg_error: 9.61847389558229 fakes_avg_error: 9.345957447744013 cumulative_avg_error: 9.482215671663152\n"
     ]
    },
    {
     "name": "stderr",
     "output_type": "stream",
     "text": [
      "\r",
      " 30%|########################5                                                         | 15/50 [01:54<04:30,  7.73s/it]"
     ]
    },
    {
     "name": "stdout",
     "output_type": "stream",
     "text": [
      "gens_avg_error: 9.595352564102534 fakes_avg_error: 9.323491203879241 cumulative_avg_error: 9.459421883990892\n"
     ]
    },
    {
     "name": "stderr",
     "output_type": "stream",
     "text": [
      "\r",
      " 32%|##########################2                                                       | 16/50 [02:01<04:17,  7.58s/it]"
     ]
    },
    {
     "name": "stdout",
     "output_type": "stream",
     "text": [
      "gens_avg_error: 9.572342126298928 fakes_avg_error: 9.30113271178361 cumulative_avg_error: 9.436737419041275\n"
     ]
    },
    {
     "name": "stderr",
     "output_type": "stream",
     "text": [
      "\r",
      " 34%|###########################8                                                      | 17/50 [02:08<04:09,  7.55s/it]"
     ]
    },
    {
     "name": "stdout",
     "output_type": "stream",
     "text": [
      "gens_avg_error: 9.589314194577325 fakes_avg_error: 9.287741733295373 cumulative_avg_error: 9.43852796393635\n"
     ]
    },
    {
     "name": "stderr",
     "output_type": "stream",
     "text": [
      "\r",
      " 36%|#############################5                                                    | 18/50 [02:15<03:54,  7.32s/it]"
     ]
    },
    {
     "name": "stdout",
     "output_type": "stream",
     "text": [
      "gens_avg_error: 9.606205250596634 fakes_avg_error: 9.265575285244543 cumulative_avg_error: 9.435890267920588\n"
     ]
    },
    {
     "name": "stderr",
     "output_type": "stream",
     "text": [
      "\r",
      " 38%|###############################1                                                  | 19/50 [02:24<04:01,  7.79s/it]"
     ]
    },
    {
     "name": "stdout",
     "output_type": "stream",
     "text": [
      "gens_avg_error: 9.58333333333331 fakes_avg_error: 9.243514391708253 cumulative_avg_error: 9.413423862520776\n"
     ]
    },
    {
     "name": "stderr",
     "output_type": "stream",
     "text": [
      "\r",
      " 40%|################################8                                                 | 20/50 [02:29<03:32,  7.09s/it]"
     ]
    },
    {
     "name": "stdout",
     "output_type": "stream",
     "text": [
      "gens_avg_error: 9.619952494061735 fakes_avg_error: 9.229475956890266 cumulative_avg_error: 9.424714225475995\n"
     ]
    },
    {
     "name": "stderr",
     "output_type": "stream",
     "text": [
      "\r",
      " 42%|##################################4                                               | 21/50 [02:37<03:26,  7.11s/it]"
     ]
    },
    {
     "name": "stdout",
     "output_type": "stream",
     "text": [
      "gens_avg_error: 9.597156398104234 fakes_avg_error: 9.207605160783894 cumulative_avg_error: 9.402380779444064\n"
     ]
    },
    {
     "name": "stderr",
     "output_type": "stream",
     "text": [
      "\r",
      " 44%|####################################                                              | 22/50 [02:41<02:55,  6.27s/it]"
     ]
    },
    {
     "name": "stdout",
     "output_type": "stream",
     "text": [
      "gens_avg_error: 9.574468085106357 fakes_avg_error: 9.185837772696924 cumulative_avg_error: 9.38015292890164\n"
     ]
    },
    {
     "name": "stderr",
     "output_type": "stream",
     "text": [
      "\r",
      " 46%|#####################################7                                            | 23/50 [02:47<02:51,  6.34s/it]"
     ]
    },
    {
     "name": "stdout",
     "output_type": "stream",
     "text": [
      "gens_avg_error: 9.551886792452802 fakes_avg_error: 9.179896331409122 cumulative_avg_error: 9.365891561930962\n"
     ]
    },
    {
     "name": "stderr",
     "output_type": "stream",
     "text": [
      "\r",
      " 48%|#######################################3                                          | 24/50 [02:55<02:52,  6.64s/it]"
     ]
    },
    {
     "name": "stdout",
     "output_type": "stream",
     "text": [
      "gens_avg_error: 9.529411764705852 fakes_avg_error: 9.197512261609731 cumulative_avg_error: 9.363462013157786\n"
     ]
    },
    {
     "name": "stderr",
     "output_type": "stream",
     "text": [
      "\r",
      " 50%|#########################################                                         | 25/50 [03:00<02:39,  6.38s/it]"
     ]
    },
    {
     "name": "stdout",
     "output_type": "stream",
     "text": [
      "gens_avg_error: 9.507042253521103 fakes_avg_error: 9.175921857239755 cumulative_avg_error: 9.341482055380435\n"
     ]
    },
    {
     "name": "stderr",
     "output_type": "stream",
     "text": [
      "\r",
      " 52%|##########################################6                                       | 26/50 [03:07<02:32,  6.37s/it]"
     ]
    },
    {
     "name": "stdout",
     "output_type": "stream",
     "text": [
      "gens_avg_error: 9.5238095238095 fakes_avg_error: 9.162238980134596 cumulative_avg_error: 9.343024251972043\n"
     ]
    },
    {
     "name": "stderr",
     "output_type": "stream",
     "text": [
      "\r",
      " 54%|############################################2                                     | 27/50 [03:15<02:37,  6.83s/it]"
     ]
    },
    {
     "name": "stdout",
     "output_type": "stream",
     "text": [
      "gens_avg_error: 9.501557632398727 fakes_avg_error: 9.140831879713717 cumulative_avg_error: 9.321194756056217\n"
     ]
    },
    {
     "name": "stderr",
     "output_type": "stream",
     "text": [
      "\r",
      " 56%|#############################################9                                    | 28/50 [03:24<02:46,  7.55s/it]"
     ]
    },
    {
     "name": "stdout",
     "output_type": "stream",
     "text": [
      "gens_avg_error: 9.479409479409462 fakes_avg_error: 9.119524579294803 cumulative_avg_error: 9.299467029352137\n"
     ]
    },
    {
     "name": "stderr",
     "output_type": "stream",
     "text": [
      "\r",
      " 58%|###############################################5                                  | 29/50 [03:34<02:52,  8.23s/it]"
     ]
    },
    {
     "name": "stdout",
     "output_type": "stream",
     "text": [
      "gens_avg_error: 9.45736434108525 fakes_avg_error: 9.098316382598771 cumulative_avg_error: 9.277840361842005\n"
     ]
    },
    {
     "name": "stderr",
     "output_type": "stream",
     "text": [
      "\r",
      " 60%|#################################################1                                | 30/50 [03:41<02:40,  8.04s/it]"
     ]
    },
    {
     "name": "stdout",
     "output_type": "stream",
     "text": [
      "gens_avg_error: 9.435421500386676 fakes_avg_error: 9.193215880550976 cumulative_avg_error: 9.314318690468825\n"
     ]
    },
    {
     "name": "stderr",
     "output_type": "stream",
     "text": [
      "\r",
      " 62%|##################################################8                               | 31/50 [03:47<02:20,  7.41s/it]"
     ]
    },
    {
     "name": "stdout",
     "output_type": "stream",
     "text": [
      "gens_avg_error: 9.432870370370338 fakes_avg_error: 9.17193528823489 cumulative_avg_error: 9.302402829302615\n"
     ]
    },
    {
     "name": "stderr",
     "output_type": "stream",
     "text": [
      "\r",
      " 64%|####################################################4                             | 32/50 [03:54<02:12,  7.34s/it]"
     ]
    },
    {
     "name": "stdout",
     "output_type": "stream",
     "text": [
      "gens_avg_error: 9.411085450346391 fakes_avg_error: 9.150752989647737 cumulative_avg_error: 9.280919219997063\n"
     ]
    },
    {
     "name": "stderr",
     "output_type": "stream",
     "text": [
      "\r",
      " 66%|######################################################1                           | 33/50 [04:02<02:05,  7.36s/it]"
     ]
    },
    {
     "name": "stdout",
     "output_type": "stream",
     "text": [
      "gens_avg_error: 9.389400921658964 fakes_avg_error: 9.298639119471908 cumulative_avg_error: 9.344020020565436\n"
     ]
    },
    {
     "name": "stderr",
     "output_type": "stream",
     "text": [
      "\r",
      " 68%|#######################################################7                          | 34/50 [04:11<02:07,  7.96s/it]"
     ]
    },
    {
     "name": "stdout",
     "output_type": "stream",
     "text": [
      "gens_avg_error: 9.367816091953996 fakes_avg_error: 9.422856807319857 cumulative_avg_error: 9.395336449636925\n"
     ]
    },
    {
     "name": "stderr",
     "output_type": "stream",
     "text": [
      "\r",
      " 70%|#########################################################4                        | 35/50 [04:20<02:00,  8.06s/it]"
     ]
    },
    {
     "name": "stdout",
     "output_type": "stream",
     "text": [
      "gens_avg_error: 9.384556574923531 fakes_avg_error: 9.401244750422332 cumulative_avg_error: 9.392900662672933\n"
     ]
    },
    {
     "name": "stderr",
     "output_type": "stream",
     "text": [
      "\r",
      " 72%|###########################################################                       | 36/50 [04:26<01:46,  7.60s/it]"
     ]
    },
    {
     "name": "stdout",
     "output_type": "stream",
     "text": [
      "gens_avg_error: 9.401220442410352 fakes_avg_error: 9.41787042986455 cumulative_avg_error: 9.409545436137456\n"
     ]
    },
    {
     "name": "stderr",
     "output_type": "stream",
     "text": [
      "\r",
      " 74%|############################################################6                     | 37/50 [04:35<01:42,  7.89s/it]"
     ]
    },
    {
     "name": "stdout",
     "output_type": "stream",
     "text": [
      "gens_avg_error: 9.37975646879755 fakes_avg_error: 9.42083028211208 cumulative_avg_error: 9.400293375454815\n"
     ]
    },
    {
     "name": "stderr",
     "output_type": "stream",
     "text": [
      "\r",
      " 76%|##############################################################3                   | 38/50 [04:41<01:28,  7.41s/it]"
     ]
    },
    {
     "name": "stdout",
     "output_type": "stream",
     "text": [
      "gens_avg_error: 9.35839028094152 fakes_avg_error: 9.406963546465663 cumulative_avg_error: 9.382676913703591\n"
     ]
    },
    {
     "name": "stderr",
     "output_type": "stream",
     "text": [
      "\r",
      " 78%|###############################################################9                  | 39/50 [04:48<01:20,  7.28s/it]"
     ]
    },
    {
     "name": "stdout",
     "output_type": "stream",
     "text": [
      "gens_avg_error: 9.337121212121192 fakes_avg_error: 9.476493174769152 cumulative_avg_error: 9.406807193445177\n"
     ]
    },
    {
     "name": "stderr",
     "output_type": "stream",
     "text": [
      "\r",
      " 80%|#################################################################6                | 40/50 [04:57<01:18,  7.84s/it]"
     ]
    },
    {
     "name": "stdout",
     "output_type": "stream",
     "text": [
      "gens_avg_error: 9.315948601662871 fakes_avg_error: 9.57594179190876 cumulative_avg_error: 9.44594519678581\n"
     ]
    },
    {
     "name": "stderr",
     "output_type": "stream",
     "text": [
      "\r",
      " 82%|###################################################################2              | 41/50 [05:04<01:08,  7.65s/it]"
     ]
    },
    {
     "name": "stdout",
     "output_type": "stream",
     "text": [
      "gens_avg_error: 9.294871794871773 fakes_avg_error: 9.561818243359943 cumulative_avg_error: 9.428345019115858\n"
     ]
    },
    {
     "name": "stderr",
     "output_type": "stream",
     "text": [
      "\r",
      " 84%|####################################################################8             | 42/50 [05:11<00:58,  7.34s/it]"
     ]
    },
    {
     "name": "stdout",
     "output_type": "stream",
     "text": [
      "gens_avg_error: 9.292701279157246 fakes_avg_error: 9.540234003532955 cumulative_avg_error: 9.416467641345093\n"
     ]
    },
    {
     "name": "stderr",
     "output_type": "stream",
     "text": [
      "\r",
      " 86%|######################################################################5           | 43/50 [05:19<00:53,  7.68s/it]"
     ]
    },
    {
     "name": "stdout",
     "output_type": "stream",
     "text": [
      "gens_avg_error: 9.309309309309288 fakes_avg_error: 9.668897140161636 cumulative_avg_error: 9.489103224735462\n"
     ]
    },
    {
     "name": "stderr",
     "output_type": "stream",
     "text": [
      "\r",
      " 88%|########################################################################1         | 44/50 [05:26<00:45,  7.51s/it]"
     ]
    },
    {
     "name": "stdout",
     "output_type": "stream",
     "text": [
      "gens_avg_error: 9.456928838951296 fakes_avg_error: 9.692113101644416 cumulative_avg_error: 9.57452097029785\n"
     ]
    },
    {
     "name": "stderr",
     "output_type": "stream",
     "text": [
      "\r",
      " 90%|#########################################################################8        | 45/50 [05:32<00:35,  7.03s/it]"
     ]
    },
    {
     "name": "stdout",
     "output_type": "stream",
     "text": [
      "gens_avg_error: 9.473094170403574 fakes_avg_error: 9.677855747903807 cumulative_avg_error: 9.575474959153695\n"
     ]
    },
    {
     "name": "stderr",
     "output_type": "stream",
     "text": [
      "\r",
      " 92%|###########################################################################4      | 46/50 [05:40<00:28,  7.22s/it]"
     ]
    },
    {
     "name": "stdout",
     "output_type": "stream",
     "text": [
      "gens_avg_error: 9.451901565995513 fakes_avg_error: 9.663662185455113 cumulative_avg_error: 9.557781875725313\n"
     ]
    },
    {
     "name": "stderr",
     "output_type": "stream",
     "text": [
      "\r",
      " 94%|#############################################################################     | 47/50 [05:48<00:22,  7.53s/it]"
     ]
    },
    {
     "name": "stdout",
     "output_type": "stream",
     "text": [
      "gens_avg_error: 9.468005952380942 fakes_avg_error: 9.642091510934014 cumulative_avg_error: 9.555048731657479\n"
     ]
    },
    {
     "name": "stderr",
     "output_type": "stream",
     "text": [
      "\r",
      " 96%|##############################################################################7   | 48/50 [05:55<00:14,  7.42s/it]"
     ]
    },
    {
     "name": "stdout",
     "output_type": "stream",
     "text": [
      "gens_avg_error: 9.5025983667409 fakes_avg_error: 9.739399399179893 cumulative_avg_error: 9.620998882960397\n"
     ]
    },
    {
     "name": "stderr",
     "output_type": "stream",
     "text": [
      "\r",
      " 98%|################################################################################3 | 49/50 [06:00<00:06,  6.65s/it]"
     ]
    },
    {
     "name": "stdout",
     "output_type": "stream",
     "text": [
      "gens_avg_error: 9.518518518518515 fakes_avg_error: 9.82145999310764 cumulative_avg_error: 9.669989255813082\n"
     ]
    },
    {
     "name": "stderr",
     "output_type": "stream",
     "text": [
      "100%|##################################################################################| 50/50 [06:12<00:00,  8.07s/it]\n",
      "  0%|                                                                                           | 0/50 [00:00<?, ?it/s]"
     ]
    },
    {
     "name": "stdout",
     "output_type": "stream",
     "text": [
      "gens_avg_error: 9.534368070953436 fakes_avg_error: 9.79968291995219 cumulative_avg_error: 9.667025495452819\n"
     ]
    },
    {
     "name": "stderr",
     "output_type": "stream",
     "text": [
      "\r",
      "  2%|#6                                                                                 | 1/50 [00:09<07:44,  9.48s/it]"
     ]
    },
    {
     "name": "stdout",
     "output_type": "stream",
     "text": [
      "gens_avg_error: 9.513274336283184 fakes_avg_error: 9.778002205527514 cumulative_avg_error: 9.645638270905344\n"
     ]
    },
    {
     "name": "stderr",
     "output_type": "stream",
     "text": [
      "\r",
      "  4%|###3                                                                               | 2/50 [00:16<06:56,  8.67s/it]"
     ]
    },
    {
     "name": "stdout",
     "output_type": "stream",
     "text": [
      "gens_avg_error: 9.492273730684332 fakes_avg_error: 9.756417211696322 cumulative_avg_error: 9.624345471190331\n"
     ]
    },
    {
     "name": "stderr",
     "output_type": "stream",
     "text": [
      "\r",
      "  6%|####9                                                                              | 3/50 [00:24<06:42,  8.57s/it]"
     ]
    },
    {
     "name": "stdout",
     "output_type": "stream",
     "text": [
      "gens_avg_error: 9.471365638766516 fakes_avg_error: 9.751243181290404 cumulative_avg_error: 9.611304410028465\n"
     ]
    },
    {
     "name": "stderr",
     "output_type": "stream",
     "text": [
      "\r",
      "  8%|######6                                                                            | 4/50 [00:31<06:04,  7.93s/it]"
     ]
    },
    {
     "name": "stdout",
     "output_type": "stream",
     "text": [
      "gens_avg_error: 9.45054945054945 fakes_avg_error: 9.744463892247278 cumulative_avg_error: 9.59750667139836\n"
     ]
    },
    {
     "name": "stderr",
     "output_type": "stream",
     "text": [
      "\r",
      " 10%|########3                                                                          | 5/50 [00:36<05:30,  7.34s/it]"
     ]
    },
    {
     "name": "stdout",
     "output_type": "stream",
     "text": [
      "gens_avg_error: 9.44809941520467 fakes_avg_error: 9.723094453887082 cumulative_avg_error: 9.585596934545881\n"
     ]
    },
    {
     "name": "stderr",
     "output_type": "stream",
     "text": [
      "\r",
      " 12%|#########9                                                                         | 6/50 [00:46<05:45,  7.84s/it]"
     ]
    },
    {
     "name": "stdout",
     "output_type": "stream",
     "text": [
      "gens_avg_error: 9.427425237053244 fakes_avg_error: 9.701818536044883 cumulative_avg_error: 9.564621886549062\n"
     ]
    },
    {
     "name": "stderr",
     "output_type": "stream",
     "text": [
      "\r",
      " 14%|###########6                                                                       | 7/50 [00:51<05:06,  7.12s/it]"
     ]
    },
    {
     "name": "stdout",
     "output_type": "stream",
     "text": [
      "gens_avg_error: 9.406841339155747 fakes_avg_error: 9.680635526140858 cumulative_avg_error: 9.543738432648308\n"
     ]
    },
    {
     "name": "stderr",
     "output_type": "stream",
     "text": [
      "\r",
      " 16%|#############2                                                                     | 8/50 [00:59<05:05,  7.27s/it]"
     ]
    },
    {
     "name": "stdout",
     "output_type": "stream",
     "text": [
      "gens_avg_error: 9.386347131445172 fakes_avg_error: 9.659544816933574 cumulative_avg_error: 9.522945974189367\n"
     ]
    },
    {
     "name": "stderr",
     "output_type": "stream",
     "text": [
      "\r",
      " 18%|##############9                                                                    | 9/50 [01:04<04:33,  6.67s/it]"
     ]
    },
    {
     "name": "stdout",
     "output_type": "stream",
     "text": [
      "gens_avg_error: 9.365942028985508 fakes_avg_error: 9.638545806461973 cumulative_avg_error: 9.50224391772374\n"
     ]
    },
    {
     "name": "stderr",
     "output_type": "stream",
     "text": [
      "\r",
      " 20%|################4                                                                 | 10/50 [01:13<04:55,  7.39s/it]"
     ]
    },
    {
     "name": "stdout",
     "output_type": "stream",
     "text": [
      "gens_avg_error: 9.345625451916117 fakes_avg_error: 9.675483161907106 cumulative_avg_error: 9.510554306911612\n"
     ]
    },
    {
     "name": "stderr",
     "output_type": "stream",
     "text": [
      "\r",
      " 22%|##################                                                                | 11/50 [01:19<04:38,  7.15s/it]"
     ]
    },
    {
     "name": "stdout",
     "output_type": "stream",
     "text": [
      "gens_avg_error: 9.343434343434332 fakes_avg_error: 9.654540557660551 cumulative_avg_error: 9.498987450547446\n"
     ]
    },
    {
     "name": "stderr",
     "output_type": "stream",
     "text": [
      "\r",
      " 24%|###################6                                                              | 12/50 [01:28<04:43,  7.45s/it]"
     ]
    },
    {
     "name": "stdout",
     "output_type": "stream",
     "text": [
      "gens_avg_error: 9.323254139668812 fakes_avg_error: 9.633688418227159 cumulative_avg_error: 9.478471278947985\n"
     ]
    },
    {
     "name": "stderr",
     "output_type": "stream",
     "text": [
      "\r",
      " 26%|#####################3                                                            | 13/50 [01:37<04:57,  8.05s/it]"
     ]
    },
    {
     "name": "stdout",
     "output_type": "stream",
     "text": [
      "gens_avg_error: 9.32112068965516 fakes_avg_error: 9.612926158705115 cumulative_avg_error: 9.467023424180132\n"
     ]
    },
    {
     "name": "stderr",
     "output_type": "stream",
     "text": [
      "\r",
      " 28%|######################9                                                           | 14/50 [01:45<04:45,  7.93s/it]"
     ]
    },
    {
     "name": "stdout",
     "output_type": "stream",
     "text": [
      "gens_avg_error: 9.336917562724 fakes_avg_error: 9.606590116786762 cumulative_avg_error: 9.471753839755381\n"
     ]
    },
    {
     "name": "stderr",
     "output_type": "stream",
     "text": [
      "\r",
      " 30%|########################5                                                         | 15/50 [01:54<04:53,  8.39s/it]"
     ]
    },
    {
     "name": "stdout",
     "output_type": "stream",
     "text": [
      "gens_avg_error: 9.316881258941335 fakes_avg_error: 9.714730481343015 cumulative_avg_error: 9.51580587014218\n"
     ]
    },
    {
     "name": "stderr",
     "output_type": "stream",
     "text": [
      "\r",
      " 32%|##########################2                                                       | 16/50 [01:59<04:10,  7.36s/it]"
     ]
    },
    {
     "name": "stdout",
     "output_type": "stream",
     "text": [
      "gens_avg_error: 9.296930763740175 fakes_avg_error: 9.69392806061209 cumulative_avg_error: 9.495429412176136\n"
     ]
    },
    {
     "name": "stderr",
     "output_type": "stream",
     "text": [
      "\r",
      " 34%|###########################8                                                      | 17/50 [02:07<04:06,  7.48s/it]"
     ]
    },
    {
     "name": "stdout",
     "output_type": "stream",
     "text": [
      "gens_avg_error: 9.40170940170939 fakes_avg_error: 9.687459553360068 cumulative_avg_error: 9.544584477534723\n"
     ]
    },
    {
     "name": "stderr",
     "output_type": "stream",
     "text": [
      "\r",
      " 36%|#############################5                                                    | 18/50 [02:15<04:03,  7.61s/it]"
     ]
    },
    {
     "name": "stdout",
     "output_type": "stream",
     "text": [
      "gens_avg_error: 9.38166311300639 fakes_avg_error: 9.716555233061507 cumulative_avg_error: 9.549109173033955\n"
     ]
    },
    {
     "name": "stderr",
     "output_type": "stream",
     "text": [
      "\r",
      " 38%|###############################1                                                  | 19/50 [02:19<03:26,  6.67s/it]"
     ]
    },
    {
     "name": "stdout",
     "output_type": "stream",
     "text": [
      "gens_avg_error: 9.37943262411346 fakes_avg_error: 9.788080292849322 cumulative_avg_error: 9.583756458481396\n"
     ]
    },
    {
     "name": "stderr",
     "output_type": "stream",
     "text": [
      "\r",
      " 40%|################################8                                                 | 20/50 [02:27<03:32,  7.08s/it]"
     ]
    },
    {
     "name": "stdout",
     "output_type": "stream",
     "text": [
      "gens_avg_error: 9.359518754423203 fakes_avg_error: 9.901764481894926 cumulative_avg_error: 9.630641618159064\n"
     ]
    },
    {
     "name": "stderr",
     "output_type": "stream",
     "text": [
      "\r",
      " 42%|##################################4                                               | 21/50 [02:36<03:37,  7.51s/it]"
     ]
    },
    {
     "name": "stdout",
     "output_type": "stream",
     "text": [
      "gens_avg_error: 9.33968926553671 fakes_avg_error: 9.880786167314648 cumulative_avg_error: 9.610237716425685\n"
     ]
    },
    {
     "name": "stderr",
     "output_type": "stream",
     "text": [
      "\r",
      " 44%|####################################                                              | 22/50 [02:42<03:16,  7.01s/it]"
     ]
    },
    {
     "name": "stdout",
     "output_type": "stream",
     "text": [
      "gens_avg_error: 9.31994362226919 fakes_avg_error: 9.88103820501588 cumulative_avg_error: 9.600490913642535\n"
     ]
    },
    {
     "name": "stderr",
     "output_type": "stream",
     "text": [
      "\r",
      " 46%|#####################################7                                            | 23/50 [02:50<03:16,  7.27s/it]"
     ]
    },
    {
     "name": "stdout",
     "output_type": "stream",
     "text": [
      "gens_avg_error: 9.370604781997171 fakes_avg_error: 9.860192132853406 cumulative_avg_error: 9.615398457425295\n"
     ]
    },
    {
     "name": "stderr",
     "output_type": "stream",
     "text": [
      "\r",
      " 48%|#######################################3                                          | 24/50 [02:56<03:01,  6.97s/it]"
     ]
    },
    {
     "name": "stdout",
     "output_type": "stream",
     "text": [
      "gens_avg_error: 9.385964912280686 fakes_avg_error: 9.853468921345643 cumulative_avg_error: 9.619716916813159\n"
     ]
    },
    {
     "name": "stderr",
     "output_type": "stream",
     "text": [
      "\r",
      " 50%|#########################################                                         | 25/50 [03:01<02:41,  6.47s/it]"
     ]
    },
    {
     "name": "stdout",
     "output_type": "stream",
     "text": [
      "gens_avg_error: 9.366246498599429 fakes_avg_error: 9.979827179914235 cumulative_avg_error: 9.673036839256833\n"
     ]
    },
    {
     "name": "stderr",
     "output_type": "stream",
     "text": [
      "\r",
      " 52%|##########################################6                                       | 26/50 [03:09<02:48,  7.01s/it]"
     ]
    },
    {
     "name": "stdout",
     "output_type": "stream",
     "text": [
      "gens_avg_error: 9.364081062194252 fakes_avg_error: 9.958905110354676 cumulative_avg_error: 9.661493086274465\n"
     ]
    },
    {
     "name": "stderr",
     "output_type": "stream",
     "text": [
      "\r",
      " 54%|############################################2                                     | 27/50 [03:17<02:46,  7.25s/it]"
     ]
    },
    {
     "name": "stdout",
     "output_type": "stream",
     "text": [
      "gens_avg_error: 9.344490934449079 fakes_avg_error: 9.9380705808351 cumulative_avg_error: 9.64128075764209\n"
     ]
    },
    {
     "name": "stderr",
     "output_type": "stream",
     "text": [
      "\r",
      " 56%|#############################################9                                    | 28/50 [03:25<02:40,  7.28s/it]"
     ]
    },
    {
     "name": "stdout",
     "output_type": "stream",
     "text": [
      "gens_avg_error: 9.359777313848284 fakes_avg_error: 9.924281985328843 cumulative_avg_error: 9.642029649588558\n"
     ]
    },
    {
     "name": "stderr",
     "output_type": "stream",
     "text": [
      "\r",
      " 58%|###############################################5                                  | 29/50 [03:32<02:35,  7.41s/it]"
     ]
    },
    {
     "name": "stdout",
     "output_type": "stream",
     "text": [
      "gens_avg_error: 9.409722222222205 fakes_avg_error: 9.91749528674829 cumulative_avg_error: 9.663608754485242\n"
     ]
    },
    {
     "name": "stderr",
     "output_type": "stream",
     "text": [
      "\r",
      " 60%|#################################################1                                | 30/50 [03:42<02:42,  8.12s/it]"
     ]
    },
    {
     "name": "stdout",
     "output_type": "stream",
     "text": [
      "gens_avg_error: 9.390159390159369 fakes_avg_error: 9.896876793428655 cumulative_avg_error: 9.643518091794013\n"
     ]
    },
    {
     "name": "stderr",
     "output_type": "stream",
     "text": [
      "\r",
      " 62%|##################################################8                               | 31/50 [03:49<02:26,  7.73s/it]"
     ]
    },
    {
     "name": "stdout",
     "output_type": "stream",
     "text": [
      "gens_avg_error: 9.37067773167356 fakes_avg_error: 9.924753259279074 cumulative_avg_error: 9.647715495476316\n"
     ]
    },
    {
     "name": "stderr",
     "output_type": "stream",
     "text": [
      "\r",
      " 64%|####################################################4                             | 32/50 [03:55<02:12,  7.34s/it]"
     ]
    },
    {
     "name": "stdout",
     "output_type": "stream",
     "text": [
      "gens_avg_error: 9.403036576949598 fakes_avg_error: 9.904205115885123 cumulative_avg_error: 9.653620846417365\n"
     ]
    },
    {
     "name": "stderr",
     "output_type": "stream",
     "text": [
      "\r",
      " 66%|######################################################1                           | 33/50 [04:09<02:36,  9.19s/it]"
     ]
    },
    {
     "name": "stdout",
     "output_type": "stream",
     "text": [
      "gens_avg_error: 9.38360881542698 fakes_avg_error: 9.883741882174624 cumulative_avg_error: 9.633675348800796\n"
     ]
    },
    {
     "name": "stderr",
     "output_type": "stream",
     "text": [
      "\r",
      " 68%|#######################################################7                          | 34/50 [04:17<02:23,  9.00s/it]"
     ]
    },
    {
     "name": "stdout",
     "output_type": "stream",
     "text": [
      "gens_avg_error: 9.364261168384857 fakes_avg_error: 9.973328668671854 cumulative_avg_error: 9.668794918528356\n"
     ]
    },
    {
     "name": "stderr",
     "output_type": "stream",
     "text": [
      "\r",
      " 70%|#########################################################4                        | 35/50 [04:23<02:00,  8.04s/it]"
     ]
    },
    {
     "name": "stdout",
     "output_type": "stream",
     "text": [
      "gens_avg_error: 9.344993141289414 fakes_avg_error: 10.021394521891324 cumulative_avg_error: 9.683193831590376\n"
     ]
    },
    {
     "name": "stderr",
     "output_type": "stream",
     "text": [
      "\r",
      " 72%|###########################################################                       | 36/50 [04:31<01:50,  7.90s/it]"
     ]
    },
    {
     "name": "stdout",
     "output_type": "stream",
     "text": [
      "gens_avg_error: 9.325804243668701 fakes_avg_error: 10.000816709731385 cumulative_avg_error: 9.663310476700037\n"
     ]
    },
    {
     "name": "stderr",
     "output_type": "stream",
     "text": [
      "\r",
      " 74%|############################################################6                     | 37/50 [04:39<01:43,  7.99s/it]"
     ]
    },
    {
     "name": "stdout",
     "output_type": "stream",
     "text": [
      "gens_avg_error: 9.323770491803252 fakes_avg_error: 9.987153833960082 cumulative_avg_error: 9.655462162881667\n"
     ]
    },
    {
     "name": "stderr",
     "output_type": "stream",
     "text": [
      "\r",
      " 76%|##############################################################3                   | 38/50 [04:48<01:40,  8.37s/it]"
     ]
    },
    {
     "name": "stdout",
     "output_type": "stream",
     "text": [
      "gens_avg_error: 9.30470347648259 fakes_avg_error: 10.000813369405293 cumulative_avg_error: 9.652758422943942\n"
     ]
    },
    {
     "name": "stderr",
     "output_type": "stream",
     "text": [
      "\r",
      " 78%|###############################################################9                  | 39/50 [04:55<01:27,  8.00s/it]"
     ]
    },
    {
     "name": "stdout",
     "output_type": "stream",
     "text": [
      "gens_avg_error: 9.35374149659861 fakes_avg_error: 9.980403546202421 cumulative_avg_error: 9.66707252140051\n"
     ]
    },
    {
     "name": "stderr",
     "output_type": "stream",
     "text": [
      "\r",
      " 80%|#################################################################6                | 40/50 [05:04<01:23,  8.33s/it]"
     ]
    },
    {
     "name": "stdout",
     "output_type": "stream",
     "text": [
      "gens_avg_error: 9.334691106585169 fakes_avg_error: 9.960076858735611 cumulative_avg_error: 9.647383982660385\n"
     ]
    },
    {
     "name": "stderr",
     "output_type": "stream",
     "text": [
      "\r",
      " 82%|###################################################################2              | 41/50 [05:13<01:15,  8.44s/it]"
     ]
    },
    {
     "name": "stdout",
     "output_type": "stream",
     "text": [
      "gens_avg_error: 9.315718157181541 fakes_avg_error: 9.939832800079651 cumulative_avg_error: 9.627775478630596\n"
     ]
    },
    {
     "name": "stderr",
     "output_type": "stream",
     "text": [
      "\r",
      " 84%|####################################################################8             | 42/50 [05:22<01:08,  8.59s/it]"
     ]
    },
    {
     "name": "stdout",
     "output_type": "stream",
     "text": [
      "gens_avg_error: 9.29682217714669 fakes_avg_error: 9.926432192642032 cumulative_avg_error: 9.611627184894367\n"
     ]
    },
    {
     "name": "stderr",
     "output_type": "stream",
     "text": [
      "\r",
      " 86%|######################################################################5           | 43/50 [05:28<00:55,  7.89s/it]"
     ]
    },
    {
     "name": "stdout",
     "output_type": "stream",
     "text": [
      "gens_avg_error: 9.2780026990553 fakes_avg_error: 9.926581115329004 cumulative_avg_error: 9.60229190719215\n"
     ]
    },
    {
     "name": "stderr",
     "output_type": "stream",
     "text": [
      "\r",
      " 88%|########################################################################1         | 44/50 [05:37<00:47,  7.99s/it]"
     ]
    },
    {
     "name": "stdout",
     "output_type": "stream",
     "text": [
      "gens_avg_error: 9.259259259259235 fakes_avg_error: 9.927426057694412 cumulative_avg_error: 9.593342658476821\n"
     ]
    },
    {
     "name": "stderr",
     "output_type": "stream",
     "text": [
      "\r",
      " 90%|#########################################################################8        | 45/50 [05:44<00:39,  7.96s/it]"
     ]
    },
    {
     "name": "stdout",
     "output_type": "stream",
     "text": [
      "gens_avg_error: 9.257392473118253 fakes_avg_error: 9.92085194601896 cumulative_avg_error: 9.5891222095686\n"
     ]
    },
    {
     "name": "stderr",
     "output_type": "stream",
     "text": [
      "\r",
      " 92%|###########################################################################4      | 46/50 [05:52<00:31,  7.93s/it]"
     ]
    },
    {
     "name": "stdout",
     "output_type": "stream",
     "text": [
      "gens_avg_error: 9.272300469483541 fakes_avg_error: 9.900890473290547 cumulative_avg_error: 9.58659547138705\n"
     ]
    },
    {
     "name": "stderr",
     "output_type": "stream",
     "text": [
      "\r",
      " 94%|#############################################################################     | 47/50 [06:00<00:23,  7.93s/it]"
     ]
    },
    {
     "name": "stdout",
     "output_type": "stream",
     "text": [
      "gens_avg_error: 9.25368139223558 fakes_avg_error: 9.895883479182343 cumulative_avg_error: 9.574782435708961\n"
     ]
    },
    {
     "name": "stderr",
     "output_type": "stream",
     "text": [
      "\r",
      " 96%|##############################################################################7   | 48/50 [06:10<00:17,  8.52s/it]"
     ]
    },
    {
     "name": "stdout",
     "output_type": "stream",
     "text": [
      "gens_avg_error: 9.268537074148275 fakes_avg_error: 9.922812236405099 cumulative_avg_error: 9.595674655276687\n"
     ]
    },
    {
     "name": "stderr",
     "output_type": "stream",
     "text": [
      "\r",
      " 98%|################################################################################3 | 49/50 [06:23<00:09,  9.91s/it]"
     ]
    },
    {
     "name": "stdout",
     "output_type": "stream",
     "text": [
      "gens_avg_error: 9.24999999999998 fakes_avg_error: 9.902966611932285 cumulative_avg_error: 9.576483305966132\n"
     ]
    },
    {
     "name": "stderr",
     "output_type": "stream",
     "text": [
      "100%|##################################################################################| 50/50 [06:29<00:00,  8.65s/it]\n"
     ]
    }
   ],
   "source": [
    "DECISION_THRESHOLD = 0.4\n",
    "scores_sum = 0\n",
    "run_count = 0\n",
    "gens_sum = 0\n",
    "gens_r_count = 0\n",
    "fakes_sum = 0\n",
    "fakes_r_count = 0\n",
    "randoms_sum = 0\n",
    "randoms_r_count = 0\n",
    "\n",
    "for fold in np.arange(0,10):\n",
    "    user_numbers = data_f['user_id'].unique()\n",
    "    np.random.shuffle(user_numbers)\n",
    "    dev_user_ids = user_numbers[0:531]\n",
    "    validation_user_ids = user_numbers[531:581]\n",
    "    exploitation_user_ids = user_numbers[581:]\n",
    "\n",
    "    dev_df = data_f.loc[data_f['user_id'].isin(dev_user_ids)]\n",
    "    dev_vf = visual_f.loc[dev_df.index]\n",
    "    val_df = data_f.loc[data_f['user_id'].isin(validation_user_ids)]\n",
    "    val_vf = visual_f.loc[val_df.index]\n",
    "    exp_df = data_f.loc[data_f['user_id'].isin(exploitation_user_ids)]\n",
    "    exp_vf = visual_f.loc[exp_df.index]\n",
    "\n",
    "    dev_df_gen = dev_df.loc[dev_df['fakeness']==0]\n",
    "    dev_df_fake = dev_df.loc[dev_df['fakeness']==1]\n",
    "    dev_df_gen_12 = dev_df_gen.loc[dev_df_gen['sig_id'].isin(np.arange(1,13))]\n",
    "    dev_df_valid_12 = dev_df_gen.loc[dev_df_gen['sig_id'].isin(np.arange(13,25))]\n",
    "\n",
    "    val_df_gen = val_df.loc[val_df['fakeness']==0]\n",
    "    val_df_fake = val_df.loc[val_df['fakeness']==1]\n",
    "    val_df_gen_12 = val_df_gen.loc[val_df_gen['sig_id'].isin(np.arange(1,13))]\n",
    "    val_df_valid_gen_12 = val_df_gen.loc[val_df_gen['sig_id'].isin(np.arange(13,25))]\n",
    "\n",
    "\n",
    "    for user_id in tqdm.tqdm(validation_user_ids, ascii=True):\n",
    "        clf = SVC(C=1,gamma='scale',class_weight='balanced', probability=True, kernel='linear', random_state=1923, cache_size=200) # gens avg: 0.9433333333333331 fakes_avg: 0.8593333333333333 cumulative_avg: 0.9013333333333332\n",
    "        # gens_avg_error: 9.121212121212064 fakes_avg_error: 10.438798417419237 cumulative_avg_error: 9.78000526931565\n",
    "        # gens_avg_error: 9.24999999999998 fakes_avg_error: 9.902966611932285 cumulative_avg_error: 9.576483305966132\n",
    "        y_train = y_train=(pd.concat([val_df_gen_12.loc[val_df_gen_12['user_id']==user_id],dev_df_gen]))['user_id']==user_id\n",
    "        X_train = visual_f.loc[y_train.index]  \n",
    "        clf.fit(X_train, y_train)\n",
    "\n",
    "        y_valid_fakes = val_df_fake.loc[(val_df_fake['user_id']==user_id)]\n",
    "        y_valid_f = len(y_valid_fakes.index)*[False]\n",
    "        X_valid_f = visual_f.loc[y_valid_fakes.index]\n",
    "        # score = accuracy_score(y_valid_f, (clf.predict(X_valid_f)))\n",
    "        score = accuracy_score(y_valid_f, (clf.predict_proba(X_valid_f)[:,1]> DECISION_THRESHOLD))\n",
    "        # score = clf.score(X_valid_f,y_valid_f)\n",
    "        fakes_sum += score\n",
    "        fakes_r_count += 1 \n",
    "        # print(score)\n",
    "        scores_sum += score\n",
    "        run_count += 1\n",
    "        y_valid_gens = val_df_valid_gen_12.loc[val_df_valid_gen_12['user_id']==user_id]\n",
    "        y_valid_g = len(y_valid_gens.index)*[True]\n",
    "        X_valid_g = visual_f.loc[y_valid_gens.index]\n",
    "        # score = accuracy_score(y_valid_g, (clf.predict(X_valid_g)))\n",
    "        score = accuracy_score(y_valid_g, (clf.predict_proba(X_valid_g)[:,1]> DECISION_THRESHOLD))\n",
    "        # score = clf.score(X_valid_g,y_valid_g)\n",
    "        gens_sum += score\n",
    "        gens_r_count += 1 \n",
    "        # print(score)\n",
    "        scores_sum += score\n",
    "        run_count += 1\n",
    "        '''\n",
    "        y_valid_rand_fakes = data_f_gen_valid_12.loc[choice(data_f_gen_valid_12.loc[data_f_gen_valid_12['user_id']!=user_id].index,10)]\n",
    "        y_valid_rf = len(y_valid_rand_fakes.index)*[False]\n",
    "        X_valid_rf = visual_f.loc[y_valid_rand_fakes.index]\n",
    "        score = clf.score(X_valid_rf,y_valid_rf)\n",
    "        randoms_sum += score\n",
    "        randoms_r_count += 1\n",
    "        '''\n",
    "        # print(score)\n",
    "        scores_sum += score\n",
    "        run_count += 1\n",
    "        # print(scores_sum/run_count)\n",
    "        print (\"gens_avg_error:\", 100*(1-(float(gens_sum)/gens_r_count)), \"fakes_avg_error:\", 100*(1-(float(fakes_sum)/fakes_r_count)), \n",
    "                \"cumulative_avg_error:\", 100*(1-((float(gens_sum)/gens_r_count)/2 + (float(fakes_sum)/fakes_r_count)/2)))"
   ]
  },
  {
   "cell_type": "code",
   "execution_count": null,
   "metadata": {},
   "outputs": [],
   "source": []
  }
 ],
 "metadata": {
  "kernelspec": {
   "display_name": "Python 3",
   "language": "python",
   "name": "python3"
  },
  "language_info": {
   "codemirror_mode": {
    "name": "ipython",
    "version": 3
   },
   "file_extension": ".py",
   "mimetype": "text/x-python",
   "name": "python",
   "nbconvert_exporter": "python",
   "pygments_lexer": "ipython3",
   "version": "3.7.3"
  }
 },
 "nbformat": 4,
 "nbformat_minor": 2
}
