{
 "cells": [
  {
   "cell_type": "code",
   "execution_count": 1,
   "metadata": {
    "scrolled": true
   },
   "outputs": [],
   "source": [
    "import scipy.io as sio\n",
    "from scipy.misc import imread\n",
    "from preprocess.normalize import preprocess_signature\n",
    "import tf_signet\n",
    "from tf_cnn_model import TF_CNNModel\n",
    "import tensorflow as tf\n",
    "import numpy as np\n",
    "import pandas as pd\n",
    "import sys\n",
    "import os\n",
    "import scipy.io\n",
    "from find_largest_image import find_largest\n",
    "import tqdm \n",
    "from sklearn.model_selection import train_test_split\n",
    "from sklearn.svm import SVC\n",
    "from xgboost import XGBClassifier\n",
    "import random\n",
    "from numpy.random import choice\n",
    "from sklearn.neural_network import MLPClassifier\n",
    "from sklearn.metrics import accuracy_score"
   ]
  },
  {
   "cell_type": "code",
   "execution_count": 2,
   "metadata": {},
   "outputs": [],
   "source": [
    "data_folder = 'C:\\\\Users\\\\Mert\\\\Documents\\\\GitHub\\\\sigver_bmg\\\\data\\\\downloaded_pp_features\\\\gpds_signet_all'"
   ]
  },
  {
   "cell_type": "code",
   "execution_count": 3,
   "metadata": {},
   "outputs": [],
   "source": [
    "data_f = pd.read_csv(os.path.join(data_folder,'data_features.csv'))\n",
    "visual_f = pd.read_csv(os.path.join(data_folder,'visual_features.csv'))"
   ]
  },
  {
   "cell_type": "code",
   "execution_count": 4,
   "metadata": {},
   "outputs": [
    {
     "name": "stderr",
     "output_type": "stream",
     "text": [
      "\r",
      "  0%|                                                                                           | 0/50 [00:00<?, ?it/s]"
     ]
    },
    {
     "name": "stdout",
     "output_type": "stream",
     "text": [
      "gens_avg_error: 25.0 fakes_avg_error: 0.0 cumulative_avg_error: 12.5\n"
     ]
    },
    {
     "name": "stderr",
     "output_type": "stream",
     "text": [
      "\r",
      "  2%|#6                                                                                 | 1/50 [00:07<05:43,  7.00s/it]"
     ]
    },
    {
     "name": "stdout",
     "output_type": "stream",
     "text": [
      "gens_avg_error: 12.5 fakes_avg_error: 5.555555555555558 cumulative_avg_error: 9.027777777777779\n"
     ]
    },
    {
     "name": "stderr",
     "output_type": "stream",
     "text": [
      "\r",
      "  4%|###3                                                                               | 2/50 [00:14<05:41,  7.12s/it]"
     ]
    },
    {
     "name": "stdout",
     "output_type": "stream",
     "text": [
      "gens_avg_error: 8.333333333333337 fakes_avg_error: 3.703703703703709 cumulative_avg_error: 6.018518518518523\n"
     ]
    },
    {
     "name": "stderr",
     "output_type": "stream",
     "text": [
      "\r",
      "  6%|####9                                                                              | 3/50 [00:20<05:16,  6.73s/it]"
     ]
    },
    {
     "name": "stdout",
     "output_type": "stream",
     "text": [
      "gens_avg_error: 6.25 fakes_avg_error: 2.777777777777779 cumulative_avg_error: 4.513888888888884\n"
     ]
    },
    {
     "name": "stderr",
     "output_type": "stream",
     "text": [
      "\r",
      "  8%|######6                                                                            | 4/50 [00:27<05:12,  6.80s/it]"
     ]
    },
    {
     "name": "stdout",
     "output_type": "stream",
     "text": [
      "gens_avg_error: 5.000000000000004 fakes_avg_error: 6.222222222222218 cumulative_avg_error: 5.611111111111111\n"
     ]
    },
    {
     "name": "stderr",
     "output_type": "stream",
     "text": [
      "\r",
      " 10%|########3                                                                          | 5/50 [00:33<04:55,  6.57s/it]"
     ]
    },
    {
     "name": "stdout",
     "output_type": "stream",
     "text": [
      "gens_avg_error: 4.1666666666666625 fakes_avg_error: 5.185185185185182 cumulative_avg_error: 4.675925925925917\n"
     ]
    },
    {
     "name": "stderr",
     "output_type": "stream",
     "text": [
      "\r",
      " 12%|#########9                                                                         | 6/50 [00:41<05:17,  7.22s/it]"
     ]
    },
    {
     "name": "stdout",
     "output_type": "stream",
     "text": [
      "gens_avg_error: 5.952380952380953 fakes_avg_error: 4.973544973544975 cumulative_avg_error: 5.462962962962958\n"
     ]
    },
    {
     "name": "stderr",
     "output_type": "stream",
     "text": [
      "\r",
      " 14%|###########6                                                                       | 7/50 [00:52<05:52,  8.19s/it]"
     ]
    },
    {
     "name": "stdout",
     "output_type": "stream",
     "text": [
      "gens_avg_error: 7.291666666666674 fakes_avg_error: 5.601851851851847 cumulative_avg_error: 6.44675925925926\n"
     ]
    },
    {
     "name": "stderr",
     "output_type": "stream",
     "text": [
      "\r",
      " 16%|#############2                                                                     | 8/50 [01:01<05:49,  8.32s/it]"
     ]
    },
    {
     "name": "stdout",
     "output_type": "stream",
     "text": [
      "gens_avg_error: 6.481481481481488 fakes_avg_error: 6.090534979423856 cumulative_avg_error: 6.2860082304526665\n"
     ]
    },
    {
     "name": "stderr",
     "output_type": "stream",
     "text": [
      "\r",
      " 18%|##############9                                                                    | 9/50 [01:07<05:19,  7.79s/it]"
     ]
    },
    {
     "name": "stdout",
     "output_type": "stream",
     "text": [
      "gens_avg_error: 8.333333333333337 fakes_avg_error: 8.48148148148148 cumulative_avg_error: 8.407407407407408\n"
     ]
    },
    {
     "name": "stderr",
     "output_type": "stream",
     "text": [
      "\r",
      " 20%|################4                                                                 | 10/50 [01:11<04:25,  6.65s/it]"
     ]
    },
    {
     "name": "stdout",
     "output_type": "stream",
     "text": [
      "gens_avg_error: 7.57575757575758 fakes_avg_error: 13.468013468013462 cumulative_avg_error: 10.52188552188552\n"
     ]
    },
    {
     "name": "stderr",
     "output_type": "stream",
     "text": [
      "\r",
      " 22%|##################                                                                | 11/50 [01:17<04:08,  6.38s/it]"
     ]
    },
    {
     "name": "stdout",
     "output_type": "stream",
     "text": [
      "gens_avg_error: 6.9444444444444535 fakes_avg_error: 12.345679012345679 cumulative_avg_error: 9.645061728395065\n"
     ]
    },
    {
     "name": "stderr",
     "output_type": "stream",
     "text": [
      "\r",
      " 24%|###################6                                                              | 12/50 [01:23<04:00,  6.34s/it]"
     ]
    },
    {
     "name": "stdout",
     "output_type": "stream",
     "text": [
      "gens_avg_error: 7.692307692307687 fakes_avg_error: 11.652421652421651 cumulative_avg_error: 9.672364672364676\n"
     ]
    },
    {
     "name": "stderr",
     "output_type": "stream",
     "text": [
      "\r",
      " 26%|#####################3                                                            | 13/50 [01:31<04:16,  6.93s/it]"
     ]
    },
    {
     "name": "stdout",
     "output_type": "stream",
     "text": [
      "gens_avg_error: 7.14285714285714 fakes_avg_error: 11.058201058201057 cumulative_avg_error: 9.100529100529098\n"
     ]
    },
    {
     "name": "stderr",
     "output_type": "stream",
     "text": [
      "\r",
      " 28%|######################9                                                           | 14/50 [01:41<04:35,  7.66s/it]"
     ]
    },
    {
     "name": "stdout",
     "output_type": "stream",
     "text": [
      "gens_avg_error: 12.777777777777777 fakes_avg_error: 10.559082892416228 cumulative_avg_error: 11.668430335097002\n"
     ]
    },
    {
     "name": "stderr",
     "output_type": "stream",
     "text": [
      "\r",
      " 30%|########################5                                                         | 15/50 [01:52<05:04,  8.69s/it]"
     ]
    },
    {
     "name": "stdout",
     "output_type": "stream",
     "text": [
      "gens_avg_error: 11.979166666666663 fakes_avg_error: 14.690806878306883 cumulative_avg_error: 13.334986772486769\n"
     ]
    },
    {
     "name": "stderr",
     "output_type": "stream",
     "text": [
      "\r",
      " 32%|##########################2                                                       | 16/50 [01:56<04:10,  7.38s/it]"
     ]
    },
    {
     "name": "stdout",
     "output_type": "stream",
     "text": [
      "gens_avg_error: 11.274509803921562 fakes_avg_error: 13.826641767818248 cumulative_avg_error: 12.55057578586991\n"
     ]
    },
    {
     "name": "stderr",
     "output_type": "stream",
     "text": [
      "\r",
      " 34%|###########################8                                                      | 17/50 [02:05<04:20,  7.90s/it]"
     ]
    },
    {
     "name": "stdout",
     "output_type": "stream",
     "text": [
      "gens_avg_error: 10.64814814814814 fakes_avg_error: 13.058495002939452 cumulative_avg_error: 11.853321575543795\n"
     ]
    },
    {
     "name": "stderr",
     "output_type": "stream",
     "text": [
      "\r",
      " 36%|#############################5                                                    | 18/50 [02:14<04:16,  8.02s/it]"
     ]
    },
    {
     "name": "stdout",
     "output_type": "stream",
     "text": [
      "gens_avg_error: 10.526315789473662 fakes_avg_error: 12.371205792258433 cumulative_avg_error: 11.448760790866054\n"
     ]
    },
    {
     "name": "stderr",
     "output_type": "stream",
     "text": [
      "\r",
      " 38%|###############################1                                                  | 19/50 [02:22<04:15,  8.23s/it]"
     ]
    },
    {
     "name": "stdout",
     "output_type": "stream",
     "text": [
      "gens_avg_error: 9.999999999999986 fakes_avg_error: 11.752645502645509 cumulative_avg_error: 10.876322751322753\n"
     ]
    },
    {
     "name": "stderr",
     "output_type": "stream",
     "text": [
      "\r",
      " 40%|################################8                                                 | 20/50 [02:32<04:21,  8.71s/it]"
     ]
    },
    {
     "name": "stdout",
     "output_type": "stream",
     "text": [
      "gens_avg_error: 9.523809523809511 fakes_avg_error: 11.510456034265559 cumulative_avg_error: 10.517132779037542\n"
     ]
    },
    {
     "name": "stderr",
     "output_type": "stream",
     "text": [
      "\r",
      " 42%|##################################4                                               | 21/50 [02:39<04:00,  8.31s/it]"
     ]
    },
    {
     "name": "stdout",
     "output_type": "stream",
     "text": [
      "gens_avg_error: 9.84848484848484 fakes_avg_error: 10.98725348725349 cumulative_avg_error: 10.417869167869165\n"
     ]
    },
    {
     "name": "stderr",
     "output_type": "stream",
     "text": [
      "\r",
      " 44%|####################################                                              | 22/50 [02:45<03:25,  7.33s/it]"
     ]
    },
    {
     "name": "stdout",
     "output_type": "stream",
     "text": [
      "gens_avg_error: 9.42028985507245 fakes_avg_error: 13.118242466068564 cumulative_avg_error: 11.269266160570513\n"
     ]
    },
    {
     "name": "stderr",
     "output_type": "stream",
     "text": [
      "\r",
      " 46%|#####################################7                                            | 23/50 [02:54<03:38,  8.10s/it]"
     ]
    },
    {
     "name": "stdout",
     "output_type": "stream",
     "text": [
      "gens_avg_error: 10.06944444444443 fakes_avg_error: 12.571649029982368 cumulative_avg_error: 11.3205467372134\n"
     ]
    },
    {
     "name": "stderr",
     "output_type": "stream",
     "text": [
      "\r",
      " 48%|#######################################3                                          | 24/50 [03:03<03:35,  8.28s/it]"
     ]
    },
    {
     "name": "stdout",
     "output_type": "stream",
     "text": [
      "gens_avg_error: 9.666666666666657 fakes_avg_error: 13.535449735449745 cumulative_avg_error: 11.601058201058201\n"
     ]
    },
    {
     "name": "stderr",
     "output_type": "stream",
     "text": [
      "\r",
      " 50%|#########################################                                         | 25/50 [03:12<03:31,  8.48s/it]"
     ]
    },
    {
     "name": "stdout",
     "output_type": "stream",
     "text": [
      "gens_avg_error: 9.615384615384603 fakes_avg_error: 13.014855514855528 cumulative_avg_error: 11.315120065120066\n"
     ]
    },
    {
     "name": "stderr",
     "output_type": "stream",
     "text": [
      "\r",
      " 52%|##########################################6                                       | 26/50 [03:23<03:40,  9.20s/it]"
     ]
    },
    {
     "name": "stdout",
     "output_type": "stream",
     "text": [
      "gens_avg_error: 9.259259259259245 fakes_avg_error: 12.779737409367042 cumulative_avg_error: 11.019498334313148\n"
     ]
    },
    {
     "name": "stderr",
     "output_type": "stream",
     "text": [
      "\r",
      " 54%|############################################2                                     | 27/50 [03:32<03:28,  9.06s/it]"
     ]
    },
    {
     "name": "stdout",
     "output_type": "stream",
     "text": [
      "gens_avg_error: 8.92857142857142 fakes_avg_error: 12.323318216175371 cumulative_avg_error: 10.625944822373402\n"
     ]
    },
    {
     "name": "stderr",
     "output_type": "stream",
     "text": [
      "\r",
      " 56%|#############################################9                                    | 28/50 [03:40<03:14,  8.83s/it]"
     ]
    },
    {
     "name": "stdout",
     "output_type": "stream",
     "text": [
      "gens_avg_error: 8.908045977011481 fakes_avg_error: 12.013318737456679 cumulative_avg_error: 10.460682357234074\n"
     ]
    },
    {
     "name": "stderr",
     "output_type": "stream",
     "text": [
      "\r",
      " 58%|###############################################5                                  | 29/50 [03:52<03:27,  9.90s/it]"
     ]
    },
    {
     "name": "stdout",
     "output_type": "stream",
     "text": [
      "gens_avg_error: 8.611111111111091 fakes_avg_error: 12.27954144620812 cumulative_avg_error: 10.445326278659605\n"
     ]
    },
    {
     "name": "stderr",
     "output_type": "stream",
     "text": [
      "\r",
      " 60%|#################################################1                                | 30/50 [04:01<03:07,  9.37s/it]"
     ]
    },
    {
     "name": "stdout",
     "output_type": "stream",
     "text": [
      "gens_avg_error: 8.333333333333314 fakes_avg_error: 11.883427206007857 cumulative_avg_error: 10.10838026967058\n"
     ]
    },
    {
     "name": "stderr",
     "output_type": "stream",
     "text": [
      "\r",
      " 62%|##################################################8                               | 31/50 [04:10<02:57,  9.35s/it]"
     ]
    },
    {
     "name": "stdout",
     "output_type": "stream",
     "text": [
      "gens_avg_error: 8.072916666666652 fakes_avg_error: 12.55373677248678 cumulative_avg_error: 10.313326719576722\n"
     ]
    },
    {
     "name": "stderr",
     "output_type": "stream",
     "text": [
      "\r",
      " 64%|####################################################4                             | 32/50 [04:22<03:02, 10.12s/it]"
     ]
    },
    {
     "name": "stdout",
     "output_type": "stream",
     "text": [
      "gens_avg_error: 8.333333333333325 fakes_avg_error: 12.173320506653852 cumulative_avg_error: 10.253326919993588\n"
     ]
    },
    {
     "name": "stderr",
     "output_type": "stream",
     "text": [
      "\r",
      " 66%|######################################################1                           | 33/50 [04:34<03:00, 10.64s/it]"
     ]
    },
    {
     "name": "stdout",
     "output_type": "stream",
     "text": [
      "gens_avg_error: 8.088235294117641 fakes_avg_error: 12.011360099595404 cumulative_avg_error: 10.049797696856523\n"
     ]
    },
    {
     "name": "stderr",
     "output_type": "stream",
     "text": [
      "\r",
      " 68%|#######################################################7                          | 34/50 [04:47<03:02, 11.40s/it]"
     ]
    },
    {
     "name": "stdout",
     "output_type": "stream",
     "text": [
      "gens_avg_error: 7.857142857142863 fakes_avg_error: 11.763416477702204 cumulative_avg_error: 9.810279667422538\n"
     ]
    },
    {
     "name": "stderr",
     "output_type": "stream",
     "text": [
      "\r",
      " 70%|#########################################################4                        | 35/50 [04:56<02:41, 10.75s/it]"
     ]
    },
    {
     "name": "stdout",
     "output_type": "stream",
     "text": [
      "gens_avg_error: 7.638888888888884 fakes_avg_error: 11.62184009406233 cumulative_avg_error: 9.630364491475607\n"
     ]
    },
    {
     "name": "stderr",
     "output_type": "stream",
     "text": [
      "\r",
      " 72%|###########################################################                       | 36/50 [05:03<02:16,  9.77s/it]"
     ]
    },
    {
     "name": "stdout",
     "output_type": "stream",
     "text": [
      "gens_avg_error: 9.909909909909908 fakes_avg_error: 11.307736307736317 cumulative_avg_error: 10.608823108823117\n"
     ]
    },
    {
     "name": "stderr",
     "output_type": "stream",
     "text": [
      "\r",
      " 74%|############################################################6                     | 37/50 [05:14<02:11, 10.08s/it]"
     ]
    },
    {
     "name": "stdout",
     "output_type": "stream",
     "text": [
      "gens_avg_error: 10.526315789473683 fakes_avg_error: 11.010164299637992 cumulative_avg_error: 10.768240044555832\n"
     ]
    },
    {
     "name": "stderr",
     "output_type": "stream",
     "text": [
      "\r",
      " 76%|##############################################################3                   | 38/50 [05:22<01:53,  9.50s/it]"
     ]
    },
    {
     "name": "stdout",
     "output_type": "stream",
     "text": [
      "gens_avg_error: 10.68376068376068 fakes_avg_error: 11.582553249219929 cumulative_avg_error: 11.13315696649031\n"
     ]
    },
    {
     "name": "stderr",
     "output_type": "stream",
     "text": [
      "\r",
      " 78%|###############################################################9                  | 39/50 [05:32<01:45,  9.55s/it]"
     ]
    },
    {
     "name": "stdout",
     "output_type": "stream",
     "text": [
      "gens_avg_error: 10.624999999999996 fakes_avg_error: 11.376322751322764 cumulative_avg_error: 11.00066137566138\n"
     ]
    },
    {
     "name": "stderr",
     "output_type": "stream",
     "text": [
      "\r",
      " 80%|#################################################################6                | 40/50 [05:43<01:39,  9.94s/it]"
     ]
    },
    {
     "name": "stdout",
     "output_type": "stream",
     "text": [
      "gens_avg_error: 10.97560975609756 fakes_avg_error: 11.098851464705128 cumulative_avg_error: 11.037230610401338\n"
     ]
    },
    {
     "name": "stderr",
     "output_type": "stream",
     "text": [
      "\r",
      " 82%|###################################################################2              | 41/50 [05:52<01:28,  9.78s/it]"
     ]
    },
    {
     "name": "stdout",
     "output_type": "stream",
     "text": [
      "gens_avg_error: 10.912698412698418 fakes_avg_error: 10.993323255228038 cumulative_avg_error: 10.953010833963228\n"
     ]
    },
    {
     "name": "stderr",
     "output_type": "stream",
     "text": [
      "\r",
      " 84%|####################################################################8             | 42/50 [06:01<01:16,  9.54s/it]"
     ]
    },
    {
     "name": "stdout",
     "output_type": "stream",
     "text": [
      "gens_avg_error: 10.658914728682179 fakes_avg_error: 11.977974652393264 cumulative_avg_error: 11.31844469053772\n"
     ]
    },
    {
     "name": "stderr",
     "output_type": "stream",
     "text": [
      "\r",
      " 86%|######################################################################5           | 43/50 [06:13<01:11, 10.26s/it]"
     ]
    },
    {
     "name": "stdout",
     "output_type": "stream",
     "text": [
      "gens_avg_error: 10.416666666666675 fakes_avg_error: 12.236050986050994 cumulative_avg_error: 11.32635882635884\n"
     ]
    },
    {
     "name": "stderr",
     "output_type": "stream",
     "text": [
      "\r",
      " 88%|########################################################################1         | 44/50 [06:22<00:58,  9.81s/it]"
     ]
    },
    {
     "name": "stdout",
     "output_type": "stream",
     "text": [
      "gens_avg_error: 10.185185185185187 fakes_avg_error: 12.038212815990601 cumulative_avg_error: 11.111699000587894\n"
     ]
    },
    {
     "name": "stderr",
     "output_type": "stream",
     "text": [
      "\r",
      " 90%|#########################################################################8        | 45/50 [06:30<00:46,  9.34s/it]"
     ]
    },
    {
     "name": "stdout",
     "output_type": "stream",
     "text": [
      "gens_avg_error: 9.96376811594203 fakes_avg_error: 11.921440073613997 cumulative_avg_error: 10.942604094778009\n"
     ]
    },
    {
     "name": "stderr",
     "output_type": "stream",
     "text": [
      "\r",
      " 92%|###########################################################################4      | 46/50 [06:41<00:39,  9.90s/it]"
     ]
    },
    {
     "name": "stdout",
     "output_type": "stream",
     "text": [
      "gens_avg_error: 9.751773049645395 fakes_avg_error: 11.667792412473277 cumulative_avg_error: 10.709782731059336\n"
     ]
    },
    {
     "name": "stderr",
     "output_type": "stream",
     "text": [
      "\r",
      " 94%|#############################################################################     | 47/50 [06:48<00:27,  9.04s/it]"
     ]
    },
    {
     "name": "stdout",
     "output_type": "stream",
     "text": [
      "gens_avg_error: 9.548611111111116 fakes_avg_error: 11.424713403880082 cumulative_avg_error: 10.486662257495594\n"
     ]
    },
    {
     "name": "stderr",
     "output_type": "stream",
     "text": [
      "\r",
      " 96%|##############################################################################7   | 48/50 [06:55<00:16,  8.31s/it]"
     ]
    },
    {
     "name": "stdout",
     "output_type": "stream",
     "text": [
      "gens_avg_error: 9.353741496598644 fakes_avg_error: 11.191555987474366 cumulative_avg_error: 10.272648742036505\n"
     ]
    },
    {
     "name": "stderr",
     "output_type": "stream",
     "text": [
      "\r",
      " 98%|################################################################################3 | 49/50 [07:06<00:09,  9.03s/it]"
     ]
    },
    {
     "name": "stdout",
     "output_type": "stream",
     "text": [
      "gens_avg_error: 9.166666666666668 fakes_avg_error: 11.234391534391552 cumulative_avg_error: 10.20052910052911\n"
     ]
    },
    {
     "name": "stderr",
     "output_type": "stream",
     "text": [
      "100%|##################################################################################| 50/50 [07:15<00:00,  9.08s/it]\n",
      "  0%|                                                                                           | 0/50 [00:00<?, ?it/s]"
     ]
    },
    {
     "name": "stdout",
     "output_type": "stream",
     "text": [
      "gens_avg_error: 8.986928104575165 fakes_avg_error: 11.079468824566874 cumulative_avg_error: 10.033198464571026\n"
     ]
    },
    {
     "name": "stderr",
     "output_type": "stream",
     "text": [
      "\r",
      "  2%|#6                                                                                 | 1/50 [00:10<08:35, 10.51s/it]"
     ]
    },
    {
     "name": "stdout",
     "output_type": "stream",
     "text": [
      "gens_avg_error: 10.416666666666675 fakes_avg_error: 10.86640211640213 cumulative_avg_error: 10.641534391534401\n"
     ]
    },
    {
     "name": "stderr",
     "output_type": "stream",
     "text": [
      "\r",
      "  4%|###3                                                                               | 2/50 [00:21<08:32, 10.68s/it]"
     ]
    },
    {
     "name": "stdout",
     "output_type": "stream",
     "text": [
      "gens_avg_error: 10.534591194968556 fakes_avg_error: 11.290306478985734 cumulative_avg_error: 10.912448836977152\n"
     ]
    },
    {
     "name": "stderr",
     "output_type": "stream",
     "text": [
      "\r",
      "  6%|####9                                                                              | 3/50 [00:35<09:13, 11.78s/it]"
     ]
    },
    {
     "name": "stdout",
     "output_type": "stream",
     "text": [
      "gens_avg_error: 10.339506172839508 fakes_avg_error: 11.26641191456008 cumulative_avg_error: 10.80295904369979\n"
     ]
    },
    {
     "name": "stderr",
     "output_type": "stream",
     "text": [
      "\r",
      "  8%|######6                                                                            | 4/50 [00:46<08:42, 11.36s/it]"
     ]
    },
    {
     "name": "stdout",
     "output_type": "stream",
     "text": [
      "gens_avg_error: 10.303030303030313 fakes_avg_error: 11.122174122174133 cumulative_avg_error: 10.712602212602217\n"
     ]
    },
    {
     "name": "stderr",
     "output_type": "stream",
     "text": [
      "\r",
      " 10%|########3                                                                          | 5/50 [00:55<08:00, 10.67s/it]"
     ]
    },
    {
     "name": "stdout",
     "output_type": "stream",
     "text": [
      "gens_avg_error: 10.119047619047628 fakes_avg_error: 10.923563869992458 cumulative_avg_error: 10.521305744520038\n"
     ]
    },
    {
     "name": "stderr",
     "output_type": "stream",
     "text": [
      "\r",
      " 12%|#########9                                                                         | 6/50 [01:04<07:27, 10.17s/it]"
     ]
    },
    {
     "name": "stdout",
     "output_type": "stream",
     "text": [
      "gens_avg_error: 10.087719298245624 fakes_avg_error: 10.731922398589077 cumulative_avg_error: 10.40982084841735\n"
     ]
    },
    {
     "name": "stderr",
     "output_type": "stream",
     "text": [
      "\r",
      " 14%|###########6                                                                       | 7/50 [01:16<07:45, 10.81s/it]"
     ]
    },
    {
     "name": "stdout",
     "output_type": "stream",
     "text": [
      "gens_avg_error: 11.494252873563227 fakes_avg_error: 10.834245575624891 cumulative_avg_error: 11.164249224594059\n"
     ]
    },
    {
     "name": "stderr",
     "output_type": "stream",
     "text": [
      "\r",
      " 16%|#############2                                                                     | 8/50 [01:26<07:17, 10.42s/it]"
     ]
    },
    {
     "name": "stdout",
     "output_type": "stream",
     "text": [
      "gens_avg_error: 11.299435028248595 fakes_avg_error: 10.650614294682104 cumulative_avg_error: 10.97502466146535\n"
     ]
    },
    {
     "name": "stderr",
     "output_type": "stream",
     "text": [
      "\r",
      " 18%|##############9                                                                    | 9/50 [01:34<06:36,  9.66s/it]"
     ]
    },
    {
     "name": "stdout",
     "output_type": "stream",
     "text": [
      "gens_avg_error: 11.66666666666668 fakes_avg_error: 11.028659611992953 cumulative_avg_error: 11.347663139329821\n"
     ]
    },
    {
     "name": "stderr",
     "output_type": "stream",
     "text": [
      "\r",
      " 20%|################4                                                                 | 10/50 [01:44<06:39,  9.98s/it]"
     ]
    },
    {
     "name": "stdout",
     "output_type": "stream",
     "text": [
      "gens_avg_error: 11.475409836065587 fakes_avg_error: 10.957151530922038 cumulative_avg_error: 11.216280683493807\n"
     ]
    },
    {
     "name": "stderr",
     "output_type": "stream",
     "text": [
      "\r",
      " 22%|##################                                                                | 11/50 [01:54<06:21,  9.78s/it]"
     ]
    },
    {
     "name": "stdout",
     "output_type": "stream",
     "text": [
      "gens_avg_error: 11.96236559139786 fakes_avg_error: 10.887950162143733 cumulative_avg_error: 11.425157876770797\n"
     ]
    },
    {
     "name": "stderr",
     "output_type": "stream",
     "text": [
      "\r",
      " 24%|###################6                                                              | 12/50 [02:06<06:44, 10.65s/it]"
     ]
    },
    {
     "name": "stdout",
     "output_type": "stream",
     "text": [
      "gens_avg_error: 11.904761904761918 fakes_avg_error: 10.82094566221553 cumulative_avg_error: 11.362853783488724\n"
     ]
    },
    {
     "name": "stderr",
     "output_type": "stream",
     "text": [
      "\r",
      " 26%|#####################3                                                            | 13/50 [02:23<07:38, 12.38s/it]"
     ]
    },
    {
     "name": "stdout",
     "output_type": "stream",
     "text": [
      "gens_avg_error: 11.71875000000001 fakes_avg_error: 10.651868386243413 cumulative_avg_error: 11.185309193121707\n"
     ]
    },
    {
     "name": "stderr",
     "output_type": "stream",
     "text": [
      "\r",
      " 28%|######################9                                                           | 14/50 [02:32<06:48, 11.34s/it]"
     ]
    },
    {
     "name": "stdout",
     "output_type": "stream",
     "text": [
      "gens_avg_error: 11.538461538461553 fakes_avg_error: 10.487993487993519 cumulative_avg_error: 11.01322751322753\n"
     ]
    },
    {
     "name": "stderr",
     "output_type": "stream",
     "text": [
      "\r",
      " 30%|########################5                                                         | 15/50 [02:44<06:47, 11.63s/it]"
     ]
    },
    {
     "name": "stdout",
     "output_type": "stream",
     "text": [
      "gens_avg_error: 11.742424242424255 fakes_avg_error: 10.379589546256241 cumulative_avg_error: 11.061006894340242\n"
     ]
    },
    {
     "name": "stderr",
     "output_type": "stream",
     "text": [
      "\r",
      " 32%|##########################2                                                       | 16/50 [02:58<07:04, 12.50s/it]"
     ]
    },
    {
     "name": "stdout",
     "output_type": "stream",
     "text": [
      "gens_avg_error: 11.567164179104484 fakes_avg_error: 10.97093895601361 cumulative_avg_error: 11.26905156755904\n"
     ]
    },
    {
     "name": "stderr",
     "output_type": "stream",
     "text": [
      "\r",
      " 34%|###########################8                                                      | 17/50 [03:08<06:26, 11.71s/it]"
     ]
    },
    {
     "name": "stdout",
     "output_type": "stream",
     "text": [
      "gens_avg_error: 11.519607843137269 fakes_avg_error: 11.64293495175851 cumulative_avg_error: 11.581271397447889\n"
     ]
    },
    {
     "name": "stderr",
     "output_type": "stream",
     "text": [
      "\r",
      " 36%|#############################5                                                    | 18/50 [03:20<06:10, 11.58s/it]"
     ]
    },
    {
     "name": "stdout",
     "output_type": "stream",
     "text": [
      "gens_avg_error: 11.352657004830935 fakes_avg_error: 12.633617053906931 cumulative_avg_error: 11.993137029368928\n"
     ]
    },
    {
     "name": "stderr",
     "output_type": "stream",
     "text": [
      "\r",
      " 38%|###############################1                                                  | 19/50 [03:28<05:27, 10.57s/it]"
     ]
    },
    {
     "name": "stdout",
     "output_type": "stream",
     "text": [
      "gens_avg_error: 11.309523809523824 fakes_avg_error: 12.54837490551779 cumulative_avg_error: 11.928949357520802\n"
     ]
    },
    {
     "name": "stderr",
     "output_type": "stream",
     "text": [
      "\r",
      " 40%|################################8                                                 | 20/50 [03:39<05:19, 10.65s/it]"
     ]
    },
    {
     "name": "stdout",
     "output_type": "stream",
     "text": [
      "gens_avg_error: 11.15023474178406 fakes_avg_error: 12.371637230792187 cumulative_avg_error: 11.760935986288123\n"
     ]
    },
    {
     "name": "stderr",
     "output_type": "stream",
     "text": [
      "\r",
      " 42%|##################################4                                               | 21/50 [03:49<05:09, 10.67s/it]"
     ]
    },
    {
     "name": "stdout",
     "output_type": "stream",
     "text": [
      "gens_avg_error: 10.995370370370395 fakes_avg_error: 13.033142269253407 cumulative_avg_error: 12.0142563198119\n"
     ]
    },
    {
     "name": "stderr",
     "output_type": "stream",
     "text": [
      "\r",
      " 44%|####################################                                              | 22/50 [03:57<04:33,  9.78s/it]"
     ]
    },
    {
     "name": "stdout",
     "output_type": "stream",
     "text": [
      "gens_avg_error: 10.844748858447517 fakes_avg_error: 12.854606073784181 cumulative_avg_error: 11.84967746611585\n"
     ]
    },
    {
     "name": "stderr",
     "output_type": "stream",
     "text": [
      "\r",
      " 46%|#####################################7                                            | 23/50 [04:06<04:16,  9.49s/it]"
     ]
    },
    {
     "name": "stdout",
     "output_type": "stream",
     "text": [
      "gens_avg_error: 11.036036036036057 fakes_avg_error: 12.82069014827638 cumulative_avg_error: 11.928363092156214\n"
     ]
    },
    {
     "name": "stderr",
     "output_type": "stream",
     "text": [
      "\r",
      " 48%|#######################################3                                          | 24/50 [04:14<03:55,  9.07s/it]"
     ]
    },
    {
     "name": "stdout",
     "output_type": "stream",
     "text": [
      "gens_avg_error: 10.888888888888914 fakes_avg_error: 12.649747612966033 cumulative_avg_error: 11.769318250927475\n"
     ]
    },
    {
     "name": "stderr",
     "output_type": "stream",
     "text": [
      "\r",
      " 50%|#########################################                                         | 25/50 [04:22<03:35,  8.63s/it]"
     ]
    },
    {
     "name": "stdout",
     "output_type": "stream",
     "text": [
      "gens_avg_error: 11.513157894736858 fakes_avg_error: 12.483303565427006 cumulative_avg_error: 11.998230730081927\n"
     ]
    },
    {
     "name": "stderr",
     "output_type": "stream",
     "text": [
      "\r",
      " 52%|##########################################6                                       | 26/50 [04:31<03:34,  8.92s/it]"
     ]
    },
    {
     "name": "stdout",
     "output_type": "stream",
     "text": [
      "gens_avg_error: 11.796536796536806 fakes_avg_error: 12.797373216092446 cumulative_avg_error: 12.296955006314626\n"
     ]
    },
    {
     "name": "stderr",
     "output_type": "stream",
     "text": [
      "\r",
      " 54%|############################################2                                     | 27/50 [04:42<03:37,  9.45s/it]"
     ]
    },
    {
     "name": "stdout",
     "output_type": "stream",
     "text": [
      "gens_avg_error: 11.645299145299159 fakes_avg_error: 12.633304328706652 cumulative_avg_error: 12.139301737002906\n"
     ]
    },
    {
     "name": "stderr",
     "output_type": "stream",
     "text": [
      "\r",
      " 56%|#############################################9                                    | 28/50 [04:49<03:15,  8.87s/it]"
     ]
    },
    {
     "name": "stdout",
     "output_type": "stream",
     "text": [
      "gens_avg_error: 11.603375527426163 fakes_avg_error: 12.59997136252048 cumulative_avg_error: 12.101673444973326\n"
     ]
    },
    {
     "name": "stderr",
     "output_type": "stream",
     "text": [
      "\r",
      " 58%|###############################################5                                  | 29/50 [05:00<03:17,  9.39s/it]"
     ]
    },
    {
     "name": "stdout",
     "output_type": "stream",
     "text": [
      "gens_avg_error: 11.562499999999998 fakes_avg_error: 12.442471720488978 cumulative_avg_error: 12.002485860244484\n"
     ]
    },
    {
     "name": "stderr",
     "output_type": "stream",
     "text": [
      "\r",
      " 60%|#################################################1                                | 30/50 [05:12<03:21, 10.10s/it]"
     ]
    },
    {
     "name": "stdout",
     "output_type": "stream",
     "text": [
      "gens_avg_error: 11.419753086419748 fakes_avg_error: 12.57692680212903 cumulative_avg_error: 11.998339944274395\n"
     ]
    },
    {
     "name": "stderr",
     "output_type": "stream",
     "text": [
      "\r",
      " 62%|##################################################8                               | 31/50 [05:22<03:15, 10.27s/it]"
     ]
    },
    {
     "name": "stdout",
     "output_type": "stream",
     "text": [
      "gens_avg_error: 11.280487804878048 fakes_avg_error: 12.423549646005505 cumulative_avg_error: 11.85201872544177\n"
     ]
    },
    {
     "name": "stderr",
     "output_type": "stream",
     "text": [
      "\r",
      " 64%|####################################################4                             | 32/50 [05:30<02:49,  9.41s/it]"
     ]
    },
    {
     "name": "stdout",
     "output_type": "stream",
     "text": [
      "gens_avg_error: 11.24497991967871 fakes_avg_error: 12.273868324969294 cumulative_avg_error: 11.759424122324003\n"
     ]
    },
    {
     "name": "stderr",
     "output_type": "stream",
     "text": [
      "\r",
      " 66%|######################################################1                           | 33/50 [05:39<02:41,  9.48s/it]"
     ]
    },
    {
     "name": "stdout",
     "output_type": "stream",
     "text": [
      "gens_avg_error: 11.210317460317453 fakes_avg_error: 12.127750844910135 cumulative_avg_error: 11.6690341526138\n"
     ]
    },
    {
     "name": "stderr",
     "output_type": "stream",
     "text": [
      "\r",
      " 68%|#######################################################7                          | 34/50 [05:50<02:34,  9.69s/it]"
     ]
    },
    {
     "name": "stdout",
     "output_type": "stream",
     "text": [
      "gens_avg_error: 11.078431372549014 fakes_avg_error: 11.985071423205307 cumulative_avg_error: 11.531751397877166\n"
     ]
    },
    {
     "name": "stderr",
     "output_type": "stream",
     "text": [
      "\r",
      " 70%|#########################################################4                        | 35/50 [05:57<02:14,  8.96s/it]"
     ]
    },
    {
     "name": "stdout",
     "output_type": "stream",
     "text": [
      "gens_avg_error: 10.949612403100762 fakes_avg_error: 11.845710127586639 cumulative_avg_error: 11.397661265343695\n"
     ]
    },
    {
     "name": "stderr",
     "output_type": "stream",
     "text": [
      "\r",
      " 72%|###########################################################                       | 36/50 [06:07<02:09,  9.27s/it]"
     ]
    },
    {
     "name": "stdout",
     "output_type": "stream",
     "text": [
      "gens_avg_error: 10.919540229885039 fakes_avg_error: 11.709552539913236 cumulative_avg_error: 11.314546384899138\n"
     ]
    },
    {
     "name": "stderr",
     "output_type": "stream",
     "text": [
      "\r",
      " 74%|############################################################6                     | 37/50 [06:16<01:59,  9.16s/it]"
     ]
    },
    {
     "name": "stdout",
     "output_type": "stream",
     "text": [
      "gens_avg_error: 10.79545454545453 fakes_avg_error: 11.576489442868764 cumulative_avg_error: 11.185971994161648\n"
     ]
    },
    {
     "name": "stderr",
     "output_type": "stream",
     "text": [
      "\r",
      " 76%|##############################################################3                   | 38/50 [06:28<01:59,  9.97s/it]"
     ]
    },
    {
     "name": "stdout",
     "output_type": "stream",
     "text": [
      "gens_avg_error: 10.674157303370768 fakes_avg_error: 11.446416527780357 cumulative_avg_error: 11.060286915575567\n"
     ]
    },
    {
     "name": "stderr",
     "output_type": "stream",
     "text": [
      "\r",
      " 78%|###############################################################9                  | 39/50 [06:34<01:36,  8.79s/it]"
     ]
    },
    {
     "name": "stdout",
     "output_type": "stream",
     "text": [
      "gens_avg_error: 10.55555555555554 fakes_avg_error: 11.319234121916121 cumulative_avg_error: 10.937394838735838\n"
     ]
    },
    {
     "name": "stderr",
     "output_type": "stream",
     "text": [
      "\r",
      " 80%|#################################################################6                | 40/50 [06:43<01:28,  8.83s/it]"
     ]
    },
    {
     "name": "stdout",
     "output_type": "stream",
     "text": [
      "gens_avg_error: 10.439560439560424 fakes_avg_error: 11.194846933763202 cumulative_avg_error: 10.817203686661813\n"
     ]
    },
    {
     "name": "stderr",
     "output_type": "stream",
     "text": [
      "\r",
      " 82%|###################################################################2              | 41/50 [06:53<01:23,  9.27s/it]"
     ]
    },
    {
     "name": "stdout",
     "output_type": "stream",
     "text": [
      "gens_avg_error: 10.326086956521719 fakes_avg_error: 11.185607593028891 cumulative_avg_error: 10.755847274775299\n"
     ]
    },
    {
     "name": "stderr",
     "output_type": "stream",
     "text": [
      "\r",
      " 84%|####################################################################8             | 42/50 [07:02<01:14,  9.35s/it]"
     ]
    },
    {
     "name": "stdout",
     "output_type": "stream",
     "text": [
      "gens_avg_error: 10.21505376344084 fakes_avg_error: 11.280386006007081 cumulative_avg_error: 10.74771988472396\n"
     ]
    },
    {
     "name": "stderr",
     "output_type": "stream",
     "text": [
      "\r",
      " 86%|######################################################################5           | 43/50 [07:11<01:03,  9.04s/it]"
     ]
    },
    {
     "name": "stdout",
     "output_type": "stream",
     "text": [
      "gens_avg_error: 10.3723404255319 fakes_avg_error: 11.302225871191407 cumulative_avg_error: 10.837283148361653\n"
     ]
    },
    {
     "name": "stderr",
     "output_type": "stream",
     "text": [
      "\r",
      " 88%|########################################################################1         | 44/50 [07:31<01:14, 12.42s/it]"
     ]
    },
    {
     "name": "stdout",
     "output_type": "stream",
     "text": [
      "gens_avg_error: 10.526315789473673 fakes_avg_error: 11.218342791845526 cumulative_avg_error: 10.8723292906596\n"
     ]
    },
    {
     "name": "stderr",
     "output_type": "stream",
     "text": [
      "\r",
      " 90%|#########################################################################8        | 45/50 [07:40<00:57, 11.42s/it]"
     ]
    },
    {
     "name": "stdout",
     "output_type": "stream",
     "text": [
      "gens_avg_error: 10.590277777777768 fakes_avg_error: 11.101485054430471 cumulative_avg_error: 10.84588141610412\n"
     ]
    },
    {
     "name": "stderr",
     "output_type": "stream",
     "text": [
      "\r",
      " 92%|###########################################################################4      | 46/50 [07:50<00:43, 10.95s/it]"
     ]
    },
    {
     "name": "stdout",
     "output_type": "stream",
     "text": [
      "gens_avg_error: 10.73883161512027 fakes_avg_error: 11.365043627752492 cumulative_avg_error: 11.05193762143638\n"
     ]
    },
    {
     "name": "stderr",
     "output_type": "stream",
     "text": [
      "\r",
      " 94%|#############################################################################     | 47/50 [08:05<00:36, 12.17s/it]"
     ]
    },
    {
     "name": "stdout",
     "output_type": "stream",
     "text": [
      "gens_avg_error: 10.714285714285698 fakes_avg_error: 11.249073794816233 cumulative_avg_error: 10.981679754550965\n"
     ]
    },
    {
     "name": "stderr",
     "output_type": "stream",
     "text": [
      "\r",
      " 96%|##############################################################################7   | 48/50 [08:15<00:22, 11.42s/it]"
     ]
    },
    {
     "name": "stdout",
     "output_type": "stream",
     "text": [
      "gens_avg_error: 10.77441077441077 fakes_avg_error: 11.169116820457825 cumulative_avg_error: 10.971763797434297\n"
     ]
    },
    {
     "name": "stderr",
     "output_type": "stream",
     "text": [
      "\r",
      " 98%|################################################################################3 | 49/50 [08:25<00:10, 10.97s/it]"
     ]
    },
    {
     "name": "stdout",
     "output_type": "stream",
     "text": [
      "gens_avg_error: 10.749999999999982 fakes_avg_error: 11.057425652253238 cumulative_avg_error: 10.903712826126611\n"
     ]
    },
    {
     "name": "stderr",
     "output_type": "stream",
     "text": [
      "100%|##################################################################################| 50/50 [08:40<00:00, 12.27s/it]\n",
      "  0%|                                                                                           | 0/50 [00:00<?, ?it/s]"
     ]
    },
    {
     "name": "stdout",
     "output_type": "stream",
     "text": [
      "gens_avg_error: 10.64356435643563 fakes_avg_error: 11.046956091339844 cumulative_avg_error: 10.845260223887742\n"
     ]
    },
    {
     "name": "stderr",
     "output_type": "stream",
     "text": [
      "\r",
      "  2%|#6                                                                                 | 1/50 [00:07<06:31,  7.99s/it]"
     ]
    },
    {
     "name": "stdout",
     "output_type": "stream",
     "text": [
      "gens_avg_error: 10.702614379084963 fakes_avg_error: 11.298129724431272 cumulative_avg_error: 11.000372051758124\n"
     ]
    },
    {
     "name": "stderr",
     "output_type": "stream",
     "text": [
      "\r",
      "  4%|###3                                                                               | 2/50 [00:14<06:07,  7.66s/it]"
     ]
    },
    {
     "name": "stdout",
     "output_type": "stream",
     "text": [
      "gens_avg_error: 10.598705501618111 fakes_avg_error: 11.25316406367627 cumulative_avg_error: 10.925934782647184\n"
     ]
    },
    {
     "name": "stderr",
     "output_type": "stream",
     "text": [
      "\r",
      "  6%|####9                                                                              | 3/50 [00:24<06:20,  8.10s/it]"
     ]
    },
    {
     "name": "stdout",
     "output_type": "stream",
     "text": [
      "gens_avg_error: 10.737179487179482 fakes_avg_error: 11.316663859767296 cumulative_avg_error: 11.026921673473389\n"
     ]
    },
    {
     "name": "stderr",
     "output_type": "stream",
     "text": [
      "\r",
      "  8%|######6                                                                            | 4/50 [00:35<07:00,  9.14s/it]"
     ]
    },
    {
     "name": "stdout",
     "output_type": "stream",
     "text": [
      "gens_avg_error: 10.634920634920631 fakes_avg_error: 11.367616267452064 cumulative_avg_error: 11.001268451186341\n"
     ]
    },
    {
     "name": "stderr",
     "output_type": "stream",
     "text": [
      "\r",
      " 10%|########3                                                                          | 5/50 [00:42<06:20,  8.45s/it]"
     ]
    },
    {
     "name": "stdout",
     "output_type": "stream",
     "text": [
      "gens_avg_error: 10.534591194968545 fakes_avg_error: 11.291821145432069 cumulative_avg_error: 10.913206170200308\n"
     ]
    },
    {
     "name": "stderr",
     "output_type": "stream",
     "text": [
      "\r",
      " 12%|#########9                                                                         | 6/50 [00:51<06:17,  8.57s/it]"
     ]
    },
    {
     "name": "stdout",
     "output_type": "stream",
     "text": [
      "gens_avg_error: 10.436137071651086 fakes_avg_error: 11.222235469737873 cumulative_avg_error: 10.82918627069448\n"
     ]
    },
    {
     "name": "stderr",
     "output_type": "stream",
     "text": [
      "\r",
      " 14%|###########6                                                                       | 7/50 [00:58<05:52,  8.20s/it]"
     ]
    },
    {
     "name": "stdout",
     "output_type": "stream",
     "text": [
      "gens_avg_error: 10.339506172839496 fakes_avg_error: 11.118325882055114 cumulative_avg_error: 10.7289160274473\n"
     ]
    },
    {
     "name": "stderr",
     "output_type": "stream",
     "text": [
      "\r",
      " 16%|#############2                                                                     | 8/50 [01:09<06:12,  8.86s/it]"
     ]
    },
    {
     "name": "stdout",
     "output_type": "stream",
     "text": [
      "gens_avg_error: 10.244648318042804 fakes_avg_error: 11.016322892311493 cumulative_avg_error: 10.630485605177142\n"
     ]
    },
    {
     "name": "stderr",
     "output_type": "stream",
     "text": [
      "\r",
      " 18%|##############9                                                                    | 9/50 [01:19<06:18,  9.24s/it]"
     ]
    },
    {
     "name": "stdout",
     "output_type": "stream",
     "text": [
      "gens_avg_error: 10.151515151515145 fakes_avg_error: 10.976780562987443 cumulative_avg_error: 10.564147857251294\n"
     ]
    },
    {
     "name": "stderr",
     "output_type": "stream",
     "text": [
      "\r",
      " 20%|################4                                                                 | 10/50 [01:27<05:53,  8.85s/it]"
     ]
    },
    {
     "name": "stdout",
     "output_type": "stream",
     "text": [
      "gens_avg_error: 10.06006006006005 fakes_avg_error: 10.937950708065635 cumulative_avg_error: 10.499005384062842\n"
     ]
    },
    {
     "name": "stderr",
     "output_type": "stream",
     "text": [
      "\r",
      " 22%|##################                                                                | 11/50 [01:40<06:42, 10.31s/it]"
     ]
    },
    {
     "name": "stdout",
     "output_type": "stream",
     "text": [
      "gens_avg_error: 10.119047619047617 fakes_avg_error: 10.870052338648383 cumulative_avg_error: 10.494549978848\n"
     ]
    },
    {
     "name": "stderr",
     "output_type": "stream",
     "text": [
      "\r",
      " 24%|###################6                                                              | 12/50 [01:50<06:22, 10.07s/it]"
     ]
    },
    {
     "name": "stdout",
     "output_type": "stream",
     "text": [
      "gens_avg_error: 10.176991150442483 fakes_avg_error: 10.891851285504007 cumulative_avg_error: 10.534421217973245\n"
     ]
    },
    {
     "name": "stderr",
     "output_type": "stream",
     "text": [
      "\r",
      " 26%|#####################3                                                            | 13/50 [01:58<05:54,  9.58s/it]"
     ]
    },
    {
     "name": "stdout",
     "output_type": "stream",
     "text": [
      "gens_avg_error: 10.087719298245613 fakes_avg_error: 10.79630873036801 cumulative_avg_error: 10.44201401430681\n"
     ]
    },
    {
     "name": "stderr",
     "output_type": "stream",
     "text": [
      "\r",
      " 28%|######################9                                                           | 14/50 [02:08<05:49,  9.71s/it]"
     ]
    },
    {
     "name": "stdout",
     "output_type": "stream",
     "text": [
      "gens_avg_error: 10.144927536231885 fakes_avg_error: 10.702427784886549 cumulative_avg_error: 10.423677660559216\n"
     ]
    },
    {
     "name": "stderr",
     "output_type": "stream",
     "text": [
      "\r",
      " 30%|########################5                                                         | 15/50 [02:18<05:41,  9.77s/it]"
     ]
    },
    {
     "name": "stdout",
     "output_type": "stream",
     "text": [
      "gens_avg_error: 10.12931034482759 fakes_avg_error: 10.610165476396139 cumulative_avg_error: 10.369737910611864\n"
     ]
    },
    {
     "name": "stderr",
     "output_type": "stream",
     "text": [
      "\r",
      " 32%|##########################2                                                       | 16/50 [02:30<05:50, 10.32s/it]"
     ]
    },
    {
     "name": "stdout",
     "output_type": "stream",
     "text": [
      "gens_avg_error: 10.04273504273504 fakes_avg_error: 10.51948030138421 cumulative_avg_error: 10.28110767205963\n"
     ]
    },
    {
     "name": "stderr",
     "output_type": "stream",
     "text": [
      "\r",
      " 34%|###########################8                                                      | 17/50 [02:40<05:35, 10.18s/it]"
     ]
    },
    {
     "name": "stdout",
     "output_type": "stream",
     "text": [
      "gens_avg_error: 10.028248587570621 fakes_avg_error: 10.430332163236889 cumulative_avg_error: 10.229290375403755\n"
     ]
    },
    {
     "name": "stderr",
     "output_type": "stream",
     "text": [
      "\r",
      " 36%|#############################5                                                    | 18/50 [02:48<05:09,  9.68s/it]"
     ]
    },
    {
     "name": "stdout",
     "output_type": "stream",
     "text": [
      "gens_avg_error: 9.943977591036413 fakes_avg_error: 10.398704722089235 cumulative_avg_error: 10.171341156562818\n"
     ]
    },
    {
     "name": "stderr",
     "output_type": "stream",
     "text": [
      "\r",
      " 38%|###############################1                                                  | 19/50 [02:58<05:00,  9.70s/it]"
     ]
    },
    {
     "name": "stdout",
     "output_type": "stream",
     "text": [
      "gens_avg_error: 9.930555555555543 fakes_avg_error: 10.312048849405153 cumulative_avg_error: 10.121302202480354\n"
     ]
    },
    {
     "name": "stderr",
     "output_type": "stream",
     "text": [
      "\r",
      " 40%|################################8                                                 | 20/50 [03:07<04:49,  9.65s/it]"
     ]
    },
    {
     "name": "stdout",
     "output_type": "stream",
     "text": [
      "gens_avg_error: 9.84848484848484 fakes_avg_error: 10.256341243802048 cumulative_avg_error: 10.052413046143439\n"
     ]
    },
    {
     "name": "stderr",
     "output_type": "stream",
     "text": [
      "\r",
      " 42%|##################################4                                               | 21/50 [03:20<05:06, 10.55s/it]"
     ]
    },
    {
     "name": "stdout",
     "output_type": "stream",
     "text": [
      "gens_avg_error: 10.10928961748634 fakes_avg_error: 10.172272872951215 cumulative_avg_error: 10.140781245218777\n"
     ]
    },
    {
     "name": "stderr",
     "output_type": "stream",
     "text": [
      "\r",
      " 44%|####################################                                              | 22/50 [03:33<05:14, 11.24s/it]"
     ]
    },
    {
     "name": "stdout",
     "output_type": "stream",
     "text": [
      "gens_avg_error: 10.027100271002709 fakes_avg_error: 10.116671738482774 cumulative_avg_error: 10.071886004742737\n"
     ]
    },
    {
     "name": "stderr",
     "output_type": "stream",
     "text": [
      "\r",
      " 46%|#####################################7                                            | 23/50 [03:44<04:58, 11.07s/it]"
     ]
    },
    {
     "name": "stdout",
     "output_type": "stream",
     "text": [
      "gens_avg_error: 10.01344086021505 fakes_avg_error: 10.03508567607565 cumulative_avg_error: 10.02426326814535\n"
     ]
    },
    {
     "name": "stderr",
     "output_type": "stream",
     "text": [
      "\r",
      " 48%|#######################################3                                          | 24/50 [03:54<04:40, 10.77s/it]"
     ]
    },
    {
     "name": "stdout",
     "output_type": "stream",
     "text": [
      "gens_avg_error: 10.133333333333328 fakes_avg_error: 9.954804990667043 cumulative_avg_error: 10.04406916200018\n"
     ]
    },
    {
     "name": "stderr",
     "output_type": "stream",
     "text": [
      "\r",
      " 50%|#########################################                                         | 25/50 [04:02<04:10, 10.03s/it]"
     ]
    },
    {
     "name": "stdout",
     "output_type": "stream",
     "text": [
      "gens_avg_error: 10.185185185185187 fakes_avg_error: 9.875798601852226 cumulative_avg_error: 10.0304918935187\n"
     ]
    },
    {
     "name": "stderr",
     "output_type": "stream",
     "text": [
      "\r",
      " 52%|##########################################6                                       | 26/50 [04:11<03:54,  9.75s/it]"
     ]
    },
    {
     "name": "stdout",
     "output_type": "stream",
     "text": [
      "gens_avg_error: 10.301837270341208 fakes_avg_error: 9.798036408136856 cumulative_avg_error: 10.049936839239027\n"
     ]
    },
    {
     "name": "stderr",
     "output_type": "stream",
     "text": [
      "\r",
      " 54%|############################################2                                     | 27/50 [04:24<04:04, 10.63s/it]"
     ]
    },
    {
     "name": "stdout",
     "output_type": "stream",
     "text": [
      "gens_avg_error: 10.221354166666663 fakes_avg_error: 10.190239248698285 cumulative_avg_error: 10.205796707682468\n"
     ]
    },
    {
     "name": "stderr",
     "output_type": "stream",
     "text": [
      "\r",
      " 56%|#############################################9                                    | 28/50 [04:33<03:44, 10.22s/it]"
     ]
    },
    {
     "name": "stdout",
     "output_type": "stream",
     "text": [
      "gens_avg_error: 10.27131782945736 fakes_avg_error: 10.111245145995195 cumulative_avg_error: 10.191281487726279\n"
     ]
    },
    {
     "name": "stderr",
     "output_type": "stream",
     "text": [
      "\r",
      " 58%|###############################################5                                  | 29/50 [04:43<03:31, 10.05s/it]"
     ]
    },
    {
     "name": "stdout",
     "output_type": "stream",
     "text": [
      "gens_avg_error: 10.19230769230769 fakes_avg_error: 10.033466337179853 cumulative_avg_error: 10.112887014743777\n"
     ]
    },
    {
     "name": "stderr",
     "output_type": "stream",
     "text": [
      "\r",
      " 60%|#################################################1                                | 30/50 [04:51<03:08,  9.44s/it]"
     ]
    },
    {
     "name": "stdout",
     "output_type": "stream",
     "text": [
      "gens_avg_error: 10.24173027989822 fakes_avg_error: 9.95687499109451 cumulative_avg_error: 10.099302635496365\n"
     ]
    },
    {
     "name": "stderr",
     "output_type": "stream",
     "text": [
      "\r",
      " 62%|##################################################8                               | 31/50 [04:59<02:53,  9.15s/it]"
     ]
    },
    {
     "name": "stdout",
     "output_type": "stream",
     "text": [
      "gens_avg_error: 10.164141414141415 fakes_avg_error: 9.881444119949856 cumulative_avg_error: 10.02279276704563\n"
     ]
    },
    {
     "name": "stderr",
     "output_type": "stream",
     "text": [
      "\r",
      " 64%|####################################################4                             | 32/50 [05:08<02:41,  8.98s/it]"
     ]
    },
    {
     "name": "stdout",
     "output_type": "stream",
     "text": [
      "gens_avg_error: 10.087719298245613 fakes_avg_error: 10.233212710526661 cumulative_avg_error: 10.160466004386137\n"
     ]
    },
    {
     "name": "stderr",
     "output_type": "stream",
     "text": [
      "\r",
      " 66%|######################################################1                           | 33/50 [05:16<02:30,  8.82s/it]"
     ]
    },
    {
     "name": "stdout",
     "output_type": "stream",
     "text": [
      "gens_avg_error: 10.32338308457712 fakes_avg_error: 10.156845451492892 cumulative_avg_error: 10.240114268035006\n"
     ]
    },
    {
     "name": "stderr",
     "output_type": "stream",
     "text": [
      "\r",
      " 68%|#######################################################7                          | 34/50 [05:26<02:27,  9.25s/it]"
     ]
    },
    {
     "name": "stdout",
     "output_type": "stream",
     "text": [
      "gens_avg_error: 10.246913580246918 fakes_avg_error: 10.427288571605287 cumulative_avg_error: 10.337101075926103\n"
     ]
    },
    {
     "name": "stderr",
     "output_type": "stream",
     "text": [
      "\r",
      " 70%|#########################################################4                        | 35/50 [05:34<02:12,  8.86s/it]"
     ]
    },
    {
     "name": "stdout",
     "output_type": "stream",
     "text": [
      "gens_avg_error: 10.355392156862752 fakes_avg_error: 10.350617332108191 cumulative_avg_error: 10.353004744485473\n"
     ]
    },
    {
     "name": "stderr",
     "output_type": "stream",
     "text": [
      "\r",
      " 72%|###########################################################                       | 36/50 [05:47<02:18,  9.89s/it]"
     ]
    },
    {
     "name": "stdout",
     "output_type": "stream",
     "text": [
      "gens_avg_error: 10.583941605839431 fakes_avg_error: 10.421050782238783 cumulative_avg_error: 10.502496194039113\n"
     ]
    },
    {
     "name": "stderr",
     "output_type": "stream",
     "text": [
      "\r",
      " 74%|############################################################6                     | 37/50 [05:55<02:04,  9.54s/it]"
     ]
    },
    {
     "name": "stdout",
     "output_type": "stream",
     "text": [
      "gens_avg_error: 10.507246376811608 fakes_avg_error: 10.369690510869912 cumulative_avg_error: 10.438468443840755\n"
     ]
    },
    {
     "name": "stderr",
     "output_type": "stream",
     "text": [
      "\r",
      " 76%|##############################################################3                   | 38/50 [06:05<01:52,  9.41s/it]"
     ]
    },
    {
     "name": "stdout",
     "output_type": "stream",
     "text": [
      "gens_avg_error: 10.431654676259006 fakes_avg_error: 10.79868554316581 cumulative_avg_error: 10.615170109712402\n"
     ]
    },
    {
     "name": "stderr",
     "output_type": "stream",
     "text": [
      "\r",
      " 78%|###############################################################9                  | 39/50 [06:13<01:39,  9.06s/it]"
     ]
    },
    {
     "name": "stdout",
     "output_type": "stream",
     "text": [
      "gens_avg_error: 10.476190476190494 fakes_avg_error: 10.745361598809867 cumulative_avg_error: 10.61077603750018\n"
     ]
    },
    {
     "name": "stderr",
     "output_type": "stream",
     "text": [
      "\r",
      " 80%|#################################################################6                | 40/50 [06:21<01:27,  8.80s/it]"
     ]
    },
    {
     "name": "stdout",
     "output_type": "stream",
     "text": [
      "gens_avg_error: 10.460992907801426 fakes_avg_error: 10.81099733215164 cumulative_avg_error: 10.635995119976528\n"
     ]
    },
    {
     "name": "stderr",
     "output_type": "stream",
     "text": [
      "\r",
      " 82%|###################################################################2              | 41/50 [06:30<01:19,  8.84s/it]"
     ]
    },
    {
     "name": "stdout",
     "output_type": "stream",
     "text": [
      "gens_avg_error: 10.563380281690149 fakes_avg_error: 10.96960533215996 cumulative_avg_error: 10.766492806925054\n"
     ]
    },
    {
     "name": "stderr",
     "output_type": "stream",
     "text": [
      "\r",
      " 84%|####################################################################8             | 42/50 [06:43<01:20, 10.03s/it]"
     ]
    },
    {
     "name": "stdout",
     "output_type": "stream",
     "text": [
      "gens_avg_error: 10.4895104895105 fakes_avg_error: 10.89289480536163 cumulative_avg_error: 10.69120264743606\n"
     ]
    },
    {
     "name": "stderr",
     "output_type": "stream",
     "text": [
      "\r",
      " 86%|######################################################################5           | 43/50 [06:52<01:08,  9.77s/it]"
     ]
    },
    {
     "name": "stdout",
     "output_type": "stream",
     "text": [
      "gens_avg_error: 10.416666666666663 fakes_avg_error: 11.187620072916992 cumulative_avg_error: 10.802143369791828\n"
     ]
    },
    {
     "name": "stderr",
     "output_type": "stream",
     "text": [
      "\r",
      " 88%|########################################################################1         | 44/50 [07:02<01:00, 10.02s/it]"
     ]
    },
    {
     "name": "stdout",
     "output_type": "stream",
     "text": [
      "gens_avg_error: 10.517241379310349 fakes_avg_error: 11.340349129885386 cumulative_avg_error: 10.928795254597867\n"
     ]
    },
    {
     "name": "stderr",
     "output_type": "stream",
     "text": [
      "\r",
      " 90%|#########################################################################8        | 45/50 [07:12<00:49,  9.87s/it]"
     ]
    },
    {
     "name": "stdout",
     "output_type": "stream",
     "text": [
      "gens_avg_error: 10.559360730593603 fakes_avg_error: 11.468154957762888 cumulative_avg_error: 11.01375784417824\n"
     ]
    },
    {
     "name": "stderr",
     "output_type": "stream",
     "text": [
      "\r",
      " 92%|###########################################################################4      | 46/50 [07:17<00:33,  8.38s/it]"
     ]
    },
    {
     "name": "stdout",
     "output_type": "stream",
     "text": [
      "gens_avg_error: 10.487528344671194 fakes_avg_error: 11.41281603514772 cumulative_avg_error: 10.950172189909457\n"
     ]
    },
    {
     "name": "stderr",
     "output_type": "stream",
     "text": [
      "\r",
      " 94%|#############################################################################     | 47/50 [07:24<00:23,  7.91s/it]"
     ]
    },
    {
     "name": "stdout",
     "output_type": "stream",
     "text": [
      "gens_avg_error: 10.698198198198183 fakes_avg_error: 11.335702413288617 cumulative_avg_error: 11.0169503057434\n"
     ]
    },
    {
     "name": "stderr",
     "output_type": "stream",
     "text": [
      "\r",
      " 96%|##############################################################################7   | 48/50 [07:32<00:15,  7.92s/it]"
     ]
    },
    {
     "name": "stdout",
     "output_type": "stream",
     "text": [
      "gens_avg_error: 10.682326621923933 fakes_avg_error: 11.25962387360212 cumulative_avg_error: 10.970975247763025\n"
     ]
    },
    {
     "name": "stderr",
     "output_type": "stream",
     "text": [
      "\r",
      " 98%|################################################################################3 | 49/50 [07:41<00:08,  8.22s/it]"
     ]
    },
    {
     "name": "stdout",
     "output_type": "stream",
     "text": [
      "gens_avg_error: 10.611111111111104 fakes_avg_error: 11.184559714444763 cumulative_avg_error: 10.897835412777933\n"
     ]
    },
    {
     "name": "stderr",
     "output_type": "stream",
     "text": [
      "100%|##################################################################################| 50/50 [07:49<00:00,  8.40s/it]\n",
      "  0%|                                                                                           | 0/50 [00:00<?, ?it/s]"
     ]
    },
    {
     "name": "stdout",
     "output_type": "stream",
     "text": [
      "gens_avg_error: 10.871964679911695 fakes_avg_error: 11.380296012632163 cumulative_avg_error: 11.126130346271923\n"
     ]
    },
    {
     "name": "stderr",
     "output_type": "stream",
     "text": [
      "\r",
      "  2%|#6                                                                                 | 1/50 [00:10<08:19, 10.19s/it]"
     ]
    },
    {
     "name": "stdout",
     "output_type": "stream",
     "text": [
      "gens_avg_error: 10.800438596491224 fakes_avg_error: 11.30542564412801 cumulative_avg_error: 11.052932120309622\n"
     ]
    },
    {
     "name": "stderr",
     "output_type": "stream",
     "text": [
      "\r",
      "  4%|###3                                                                               | 2/50 [00:19<08:02, 10.06s/it]"
     ]
    },
    {
     "name": "stdout",
     "output_type": "stream",
     "text": [
      "gens_avg_error: 10.729847494553368 fakes_avg_error: 11.23153397325135 cumulative_avg_error: 10.980690733902353\n"
     ]
    },
    {
     "name": "stderr",
     "output_type": "stream",
     "text": [
      "\r",
      "  6%|####9                                                                              | 3/50 [00:27<07:24,  9.45s/it]"
     ]
    },
    {
     "name": "stdout",
     "output_type": "stream",
     "text": [
      "gens_avg_error: 10.71428571428571 fakes_avg_error: 11.331762107624188 cumulative_avg_error: 11.023023910954954\n"
     ]
    },
    {
     "name": "stderr",
     "output_type": "stream",
     "text": [
      "\r",
      "  8%|######6                                                                            | 4/50 [00:40<07:58, 10.41s/it]"
     ]
    },
    {
     "name": "stdout",
     "output_type": "stream",
     "text": [
      "gens_avg_error: 10.752688172043001 fakes_avg_error: 11.323170094026613 cumulative_avg_error: 11.037929133034808\n"
     ]
    },
    {
     "name": "stderr",
     "output_type": "stream",
     "text": [
      "\r",
      " 10%|########3                                                                          | 5/50 [00:54<08:31, 11.37s/it]"
     ]
    },
    {
     "name": "stdout",
     "output_type": "stream",
     "text": [
      "gens_avg_error: 10.737179487179482 fakes_avg_error: 11.250585670346958 cumulative_avg_error: 10.993882578763214\n"
     ]
    },
    {
     "name": "stderr",
     "output_type": "stream",
     "text": [
      "\r",
      " 12%|#########9                                                                         | 6/50 [01:03<07:55, 10.80s/it]"
     ]
    },
    {
     "name": "stdout",
     "output_type": "stream",
     "text": [
      "gens_avg_error: 10.6687898089172 fakes_avg_error: 11.178925889007163 cumulative_avg_error: 10.923857848962182\n"
     ]
    },
    {
     "name": "stderr",
     "output_type": "stream",
     "text": [
      "\r",
      " 14%|###########6                                                                       | 7/50 [01:15<08:02, 11.21s/it]"
     ]
    },
    {
     "name": "stdout",
     "output_type": "stream",
     "text": [
      "gens_avg_error: 10.60126582278481 fakes_avg_error: 11.276949564815142 cumulative_avg_error: 10.939107693799976\n"
     ]
    },
    {
     "name": "stderr",
     "output_type": "stream",
     "text": [
      "\r",
      " 16%|#############2                                                                     | 8/50 [01:24<07:16, 10.40s/it]"
     ]
    },
    {
     "name": "stdout",
     "output_type": "stream",
     "text": [
      "gens_avg_error: 10.534591194968556 fakes_avg_error: 11.310847156650683 cumulative_avg_error: 10.922719175809625\n"
     ]
    },
    {
     "name": "stderr",
     "output_type": "stream",
     "text": [
      "\r",
      " 18%|##############9                                                                    | 9/50 [01:31<06:25,  9.41s/it]"
     ]
    },
    {
     "name": "stdout",
     "output_type": "stream",
     "text": [
      "gens_avg_error: 10.624999999999996 fakes_avg_error: 11.344321028588277 cumulative_avg_error: 10.984660514294141\n"
     ]
    },
    {
     "name": "stderr",
     "output_type": "stream",
     "text": [
      "\r",
      " 20%|################4                                                                 | 10/50 [01:41<06:18,  9.46s/it]"
     ]
    },
    {
     "name": "stdout",
     "output_type": "stream",
     "text": [
      "gens_avg_error: 10.662525879917172 fakes_avg_error: 11.273859407292697 cumulative_avg_error: 10.968192643604935\n"
     ]
    },
    {
     "name": "stderr",
     "output_type": "stream",
     "text": [
      "\r",
      " 22%|##################                                                                | 11/50 [01:51<06:17,  9.67s/it]"
     ]
    },
    {
     "name": "stdout",
     "output_type": "stream",
     "text": [
      "gens_avg_error: 10.69958847736624 fakes_avg_error: 11.245419945930802 cumulative_avg_error: 10.972504211648527\n"
     ]
    },
    {
     "name": "stderr",
     "output_type": "stream",
     "text": [
      "\r",
      " 24%|###################6                                                              | 12/50 [02:05<06:58, 11.01s/it]"
     ]
    },
    {
     "name": "stdout",
     "output_type": "stream",
     "text": [
      "gens_avg_error: 10.685071574642125 fakes_avg_error: 11.176429639514051 cumulative_avg_error: 10.930750607078089\n"
     ]
    },
    {
     "name": "stderr",
     "output_type": "stream",
     "text": [
      "\r",
      " 26%|#####################3                                                            | 13/50 [02:15<06:32, 10.60s/it]"
     ]
    },
    {
     "name": "stdout",
     "output_type": "stream",
     "text": [
      "gens_avg_error: 10.67073170731707 fakes_avg_error: 11.1082806782975 cumulative_avg_error: 10.889506192807286\n"
     ]
    },
    {
     "name": "stderr",
     "output_type": "stream",
     "text": [
      "\r",
      " 28%|######################9                                                           | 14/50 [02:23<05:58,  9.95s/it]"
     ]
    },
    {
     "name": "stdout",
     "output_type": "stream",
     "text": [
      "gens_avg_error: 10.606060606060607 fakes_avg_error: 11.040957765095705 cumulative_avg_error: 10.82350918557815\n"
     ]
    },
    {
     "name": "stderr",
     "output_type": "stream",
     "text": [
      "\r",
      " 30%|########################5                                                         | 15/50 [02:33<05:47,  9.92s/it]"
     ]
    },
    {
     "name": "stdout",
     "output_type": "stream",
     "text": [
      "gens_avg_error: 11.144578313253017 fakes_avg_error: 11.05476725647062 cumulative_avg_error: 11.099672784861813\n"
     ]
    },
    {
     "name": "stderr",
     "output_type": "stream",
     "text": [
      "\r",
      " 32%|##########################2                                                       | 16/50 [02:42<05:28,  9.67s/it]"
     ]
    },
    {
     "name": "stdout",
     "output_type": "stream",
     "text": [
      "gens_avg_error: 11.427145708582842 fakes_avg_error: 10.988571045354034 cumulative_avg_error: 11.207858376968439\n"
     ]
    },
    {
     "name": "stderr",
     "output_type": "stream",
     "text": [
      "\r",
      " 34%|###########################8                                                      | 17/50 [02:50<05:05,  9.26s/it]"
     ]
    },
    {
     "name": "stdout",
     "output_type": "stream",
     "text": [
      "gens_avg_error: 11.359126984126988 fakes_avg_error: 10.965679891172508 cumulative_avg_error: 11.162403437649749\n"
     ]
    },
    {
     "name": "stderr",
     "output_type": "stream",
     "text": [
      "\r",
      " 36%|#############################5                                                    | 18/50 [03:00<05:00,  9.39s/it]"
     ]
    },
    {
     "name": "stdout",
     "output_type": "stream",
     "text": [
      "gens_avg_error: 11.390532544378695 fakes_avg_error: 10.90079421134309 cumulative_avg_error: 11.145663377860892\n"
     ]
    },
    {
     "name": "stderr",
     "output_type": "stream",
     "text": [
      "\r",
      " 38%|###############################1                                                  | 19/50 [03:10<04:57,  9.60s/it]"
     ]
    },
    {
     "name": "stdout",
     "output_type": "stream",
     "text": [
      "gens_avg_error: 11.32352941176471 fakes_avg_error: 10.857680295814177 cumulative_avg_error: 11.090604853789443\n"
     ]
    },
    {
     "name": "stderr",
     "output_type": "stream",
     "text": [
      "\r",
      " 40%|################################8                                                 | 20/50 [03:21<05:04, 10.16s/it]"
     ]
    },
    {
     "name": "stdout",
     "output_type": "stream",
     "text": [
      "gens_avg_error: 11.257309941520466 fakes_avg_error: 10.834515801242961 cumulative_avg_error: 11.045912871381713\n"
     ]
    },
    {
     "name": "stderr",
     "output_type": "stream",
     "text": [
      "\r",
      " 42%|##################################4                                               | 21/50 [03:33<05:05, 10.55s/it]"
     ]
    },
    {
     "name": "stdout",
     "output_type": "stream",
     "text": [
      "gens_avg_error: 11.191860465116276 fakes_avg_error: 10.7715244303055 cumulative_avg_error: 10.98169244771089\n"
     ]
    },
    {
     "name": "stderr",
     "output_type": "stream",
     "text": [
      "\r",
      " 44%|####################################                                              | 22/50 [03:45<05:05, 10.92s/it]"
     ]
    },
    {
     "name": "stdout",
     "output_type": "stream",
     "text": [
      "gens_avg_error: 11.31984585741812 fakes_avg_error: 10.709261283309512 cumulative_avg_error: 11.014553570363816\n"
     ]
    },
    {
     "name": "stderr",
     "output_type": "stream",
     "text": [
      "\r",
      " 46%|#####################################7                                            | 23/50 [03:56<04:55, 10.93s/it]"
     ]
    },
    {
     "name": "stdout",
     "output_type": "stream",
     "text": [
      "gens_avg_error: 11.254789272030653 fakes_avg_error: 10.6477138046698 cumulative_avg_error: 10.951251538350226\n"
     ]
    },
    {
     "name": "stderr",
     "output_type": "stream",
     "text": [
      "\r",
      " 48%|#######################################3                                          | 24/50 [04:03<04:13,  9.75s/it]"
     ]
    },
    {
     "name": "stdout",
     "output_type": "stream",
     "text": [
      "gens_avg_error: 11.285714285714288 fakes_avg_error: 10.605917344833593 cumulative_avg_error: 10.94581581527394\n"
     ]
    },
    {
     "name": "stderr",
     "output_type": "stream",
     "text": [
      "\r",
      " 50%|#########################################                                         | 25/50 [04:10<03:49,  9.18s/it]"
     ]
    },
    {
     "name": "stdout",
     "output_type": "stream",
     "text": [
      "gens_avg_error: 11.268939393939403 fakes_avg_error: 10.640353420525816 cumulative_avg_error: 10.954646407232605\n"
     ]
    },
    {
     "name": "stderr",
     "output_type": "stream",
     "text": [
      "\r",
      " 52%|##########################################6                                       | 26/50 [04:22<03:58,  9.93s/it]"
     ]
    },
    {
     "name": "stdout",
     "output_type": "stream",
     "text": [
      "gens_avg_error: 11.205273069679855 fakes_avg_error: 10.580238429449407 cumulative_avg_error: 10.892755749564632\n"
     ]
    },
    {
     "name": "stderr",
     "output_type": "stream",
     "text": [
      "\r",
      " 54%|############################################2                                     | 27/50 [04:28<03:18,  8.62s/it]"
     ]
    },
    {
     "name": "stdout",
     "output_type": "stream",
     "text": [
      "gens_avg_error: 11.282771535580526 fakes_avg_error: 10.85787753939631 cumulative_avg_error: 11.070324537488418\n"
     ]
    },
    {
     "name": "stderr",
     "output_type": "stream",
     "text": [
      "\r",
      " 56%|#############################################9                                    | 28/50 [04:35<02:59,  8.15s/it]"
     ]
    },
    {
     "name": "stdout",
     "output_type": "stream",
     "text": [
      "gens_avg_error: 11.219739292364995 fakes_avg_error: 10.797219005656666 cumulative_avg_error: 11.00847914901083\n"
     ]
    },
    {
     "name": "stderr",
     "output_type": "stream",
     "text": [
      "\r",
      " 58%|###############################################5                                  | 29/50 [04:45<03:01,  8.63s/it]"
     ]
    },
    {
     "name": "stdout",
     "output_type": "stream",
     "text": [
      "gens_avg_error: 11.388888888888893 fakes_avg_error: 10.737234455625245 cumulative_avg_error: 11.063061672257069\n"
     ]
    },
    {
     "name": "stderr",
     "output_type": "stream",
     "text": [
      "\r",
      " 60%|#################################################1                                | 30/50 [04:55<03:05,  9.26s/it]"
     ]
    },
    {
     "name": "stdout",
     "output_type": "stream",
     "text": [
      "gens_avg_error: 11.325966850828728 fakes_avg_error: 10.718837621104704 cumulative_avg_error: 11.02240223596671\n"
     ]
    },
    {
     "name": "stderr",
     "output_type": "stream",
     "text": [
      "\r",
      " 62%|##################################################8                               | 31/50 [05:03<02:48,  8.89s/it]"
     ]
    },
    {
     "name": "stdout",
     "output_type": "stream",
     "text": [
      "gens_avg_error: 11.263736263736268 fakes_avg_error: 10.659942908900833 cumulative_avg_error: 10.961839586318556\n"
     ]
    },
    {
     "name": "stderr",
     "output_type": "stream",
     "text": [
      "\r",
      " 64%|####################################################4                             | 32/50 [05:15<02:54,  9.69s/it]"
     ]
    },
    {
     "name": "stdout",
     "output_type": "stream",
     "text": [
      "gens_avg_error: 11.338797814207647 fakes_avg_error: 10.893130834717402 cumulative_avg_error: 11.115964324462524\n"
     ]
    },
    {
     "name": "stderr",
     "output_type": "stream",
     "text": [
      "\r",
      " 66%|######################################################1                           | 33/50 [05:25<02:46,  9.80s/it]"
     ]
    },
    {
     "name": "stdout",
     "output_type": "stream",
     "text": [
      "gens_avg_error: 11.27717391304348 fakes_avg_error: 10.983854074183895 cumulative_avg_error: 11.13051399361369\n"
     ]
    },
    {
     "name": "stderr",
     "output_type": "stream",
     "text": [
      "\r",
      " 68%|#######################################################7                          | 34/50 [05:37<02:47, 10.46s/it]"
     ]
    },
    {
     "name": "stdout",
     "output_type": "stream",
     "text": [
      "gens_avg_error: 11.351351351351347 fakes_avg_error: 10.924481889999116 cumulative_avg_error: 11.137916620675226\n"
     ]
    },
    {
     "name": "stderr",
     "output_type": "stream",
     "text": [
      "\r",
      " 70%|#########################################################4                        | 35/50 [05:50<02:48, 11.21s/it]"
     ]
    },
    {
     "name": "stdout",
     "output_type": "stream",
     "text": [
      "gens_avg_error: 11.37992831541218 fakes_avg_error: 10.86574811639698 cumulative_avg_error: 11.122838215904585\n"
     ]
    },
    {
     "name": "stderr",
     "output_type": "stream",
     "text": [
      "\r",
      " 72%|###########################################################                       | 36/50 [05:59<02:30, 10.73s/it]"
     ]
    },
    {
     "name": "stdout",
     "output_type": "stream",
     "text": [
      "gens_avg_error: 11.363636363636365 fakes_avg_error: 10.843293135382371 cumulative_avg_error: 11.103464749509362\n"
     ]
    },
    {
     "name": "stderr",
     "output_type": "stream",
     "text": [
      "\r",
      " 74%|############################################################6                     | 37/50 [06:10<02:19, 10.70s/it]"
     ]
    },
    {
     "name": "stdout",
     "output_type": "stream",
     "text": [
      "gens_avg_error: 11.303191489361698 fakes_avg_error: 11.104764980406934 cumulative_avg_error: 11.203978234884316\n"
     ]
    },
    {
     "name": "stderr",
     "output_type": "stream",
     "text": [
      "\r",
      " 76%|##############################################################3                   | 38/50 [06:18<01:57,  9.81s/it]"
     ]
    },
    {
     "name": "stdout",
     "output_type": "stream",
     "text": [
      "gens_avg_error: 11.28747795414463 fakes_avg_error: 11.046009610140228 cumulative_avg_error: 11.16674378214243\n"
     ]
    },
    {
     "name": "stderr",
     "output_type": "stream",
     "text": [
      "\r",
      " 78%|###############################################################9                  | 39/50 [06:26<01:43,  9.42s/it]"
     ]
    },
    {
     "name": "stdout",
     "output_type": "stream",
     "text": [
      "gens_avg_error: 11.228070175438598 fakes_avg_error: 10.987872717455282 cumulative_avg_error: 11.10797144644694\n"
     ]
    },
    {
     "name": "stderr",
     "output_type": "stream",
     "text": [
      "\r",
      " 80%|#################################################################6                | 40/50 [06:34<01:28,  8.85s/it]"
     ]
    },
    {
     "name": "stdout",
     "output_type": "stream",
     "text": [
      "gens_avg_error: 11.16928446771379 fakes_avg_error: 11.017604622948529 cumulative_avg_error: 11.093444545331167\n"
     ]
    },
    {
     "name": "stderr",
     "output_type": "stream",
     "text": [
      "\r",
      " 82%|###################################################################2              | 41/50 [06:45<01:26,  9.60s/it]"
     ]
    },
    {
     "name": "stdout",
     "output_type": "stream",
     "text": [
      "gens_avg_error: 11.111111111111116 fakes_avg_error: 10.96022126553734 cumulative_avg_error: 11.035666188324234\n"
     ]
    },
    {
     "name": "stderr",
     "output_type": "stream",
     "text": [
      "\r",
      " 84%|####################################################################8             | 42/50 [06:53<01:12,  9.06s/it]"
     ]
    },
    {
     "name": "stdout",
     "output_type": "stream",
     "text": [
      "gens_avg_error: 11.053540587219345 fakes_avg_error: 10.972517182987051 cumulative_avg_error: 11.013028885103203\n"
     ]
    },
    {
     "name": "stderr",
     "output_type": "stream",
     "text": [
      "\r",
      " 86%|######################################################################5           | 43/50 [07:04<01:07,  9.63s/it]"
     ]
    },
    {
     "name": "stdout",
     "output_type": "stream",
     "text": [
      "gens_avg_error: 10.996563573883167 fakes_avg_error: 10.967504207817013 cumulative_avg_error: 10.982033890850085\n"
     ]
    },
    {
     "name": "stderr",
     "output_type": "stream",
     "text": [
      "\r",
      " 88%|########################################################################1         | 44/50 [07:13<00:56,  9.43s/it]"
     ]
    },
    {
     "name": "stdout",
     "output_type": "stream",
     "text": [
      "gens_avg_error: 10.940170940170946 fakes_avg_error: 10.962542647776917 cumulative_avg_error: 10.951356793973932\n"
     ]
    },
    {
     "name": "stderr",
     "output_type": "stream",
     "text": [
      "\r",
      " 90%|#########################################################################8        | 45/50 [07:24<00:50, 10.06s/it]"
     ]
    },
    {
     "name": "stdout",
     "output_type": "stream",
     "text": [
      "gens_avg_error: 10.8843537414966 fakes_avg_error: 10.974638518621592 cumulative_avg_error: 10.929496130059091\n"
     ]
    },
    {
     "name": "stderr",
     "output_type": "stream",
     "text": [
      "\r",
      " 92%|###########################################################################4      | 46/50 [07:33<00:37,  9.48s/it]"
     ]
    },
    {
     "name": "stdout",
     "output_type": "stream",
     "text": [
      "gens_avg_error: 10.871404399323193 fakes_avg_error: 10.952770641200505 cumulative_avg_error: 10.91208752026185\n"
     ]
    },
    {
     "name": "stderr",
     "output_type": "stream",
     "text": [
      "\r",
      " 94%|#############################################################################     | 47/50 [07:42<00:28,  9.48s/it]"
     ]
    },
    {
     "name": "stdout",
     "output_type": "stream",
     "text": [
      "gens_avg_error: 10.816498316498324 fakes_avg_error: 11.217318937625409 cumulative_avg_error: 11.016908627061861\n"
     ]
    },
    {
     "name": "stderr",
     "output_type": "stream",
     "text": [
      "\r",
      " 96%|##############################################################################7   | 48/50 [07:51<00:18,  9.25s/it]"
     ]
    },
    {
     "name": "stdout",
     "output_type": "stream",
     "text": [
      "gens_avg_error: 10.762144053601352 fakes_avg_error: 11.17770091951339 cumulative_avg_error: 10.96992248655737\n"
     ]
    },
    {
     "name": "stderr",
     "output_type": "stream",
     "text": [
      "\r",
      " 98%|################################################################################3 | 49/50 [07:59<00:08,  8.88s/it]"
     ]
    },
    {
     "name": "stdout",
     "output_type": "stream",
     "text": [
      "gens_avg_error: 10.791666666666666 fakes_avg_error: 11.121812414915821 cumulative_avg_error: 10.956739540791238\n"
     ]
    },
    {
     "name": "stderr",
     "output_type": "stream",
     "text": [
      "100%|##################################################################################| 50/50 [08:06<00:00,  8.33s/it]\n",
      "  0%|                                                                                           | 0/50 [00:00<?, ?it/s]"
     ]
    },
    {
     "name": "stdout",
     "output_type": "stream",
     "text": [
      "gens_avg_error: 10.862354892205639 fakes_avg_error: 11.083063762768642 cumulative_avg_error: 10.97270932748714\n"
     ]
    },
    {
     "name": "stderr",
     "output_type": "stream",
     "text": [
      "\r",
      "  2%|#6                                                                                 | 1/50 [00:09<08:00,  9.80s/it]"
     ]
    },
    {
     "name": "stdout",
     "output_type": "stream",
     "text": [
      "gens_avg_error: 10.808580858085815 fakes_avg_error: 11.044698760642724 cumulative_avg_error: 10.92663980936427\n"
     ]
    },
    {
     "name": "stderr",
     "output_type": "stream",
     "text": [
      "\r",
      "  4%|###3                                                                               | 2/50 [00:19<07:50,  9.80s/it]"
     ]
    },
    {
     "name": "stdout",
     "output_type": "stream",
     "text": [
      "gens_avg_error: 10.755336617405586 fakes_avg_error: 10.99029137758537 cumulative_avg_error: 10.872813997495479\n"
     ]
    },
    {
     "name": "stderr",
     "output_type": "stream",
     "text": [
      "\r",
      "  6%|####9                                                                              | 3/50 [00:28<07:22,  9.41s/it]"
     ]
    },
    {
     "name": "stdout",
     "output_type": "stream",
     "text": [
      "gens_avg_error: 10.702614379084974 fakes_avg_error: 10.93641740024427 cumulative_avg_error: 10.819515889664622\n"
     ]
    },
    {
     "name": "stderr",
     "output_type": "stream",
     "text": [
      "\r",
      "  8%|######6                                                                            | 4/50 [00:40<07:55, 10.33s/it]"
     ]
    },
    {
     "name": "stdout",
     "output_type": "stream",
     "text": [
      "gens_avg_error: 10.73170731707317 fakes_avg_error: 11.034456743455866 cumulative_avg_error: 10.883082030264513\n"
     ]
    },
    {
     "name": "stderr",
     "output_type": "stream",
     "text": [
      "\r",
      " 10%|########3                                                                          | 5/50 [00:49<07:28,  9.96s/it]"
     ]
    },
    {
     "name": "stdout",
     "output_type": "stream",
     "text": [
      "gens_avg_error: 10.720064724919098 fakes_avg_error: 10.997072649231976 cumulative_avg_error: 10.858568687075532\n"
     ]
    },
    {
     "name": "stderr",
     "output_type": "stream",
     "text": [
      "\r",
      " 12%|#########9                                                                         | 6/50 [01:00<07:33, 10.32s/it]"
     ]
    },
    {
     "name": "stdout",
     "output_type": "stream",
     "text": [
      "gens_avg_error: 10.668276972624803 fakes_avg_error: 11.088874230636659 cumulative_avg_error: 10.878575601630725\n"
     ]
    },
    {
     "name": "stderr",
     "output_type": "stream",
     "text": [
      "\r",
      " 14%|###########6                                                                       | 7/50 [01:08<06:51,  9.57s/it]"
     ]
    },
    {
     "name": "stdout",
     "output_type": "stream",
     "text": [
      "gens_avg_error: 10.657051282051288 fakes_avg_error: 11.035562335297055 cumulative_avg_error: 10.846306808674179\n"
     ]
    },
    {
     "name": "stderr",
     "output_type": "stream",
     "text": [
      "\r",
      " 16%|#############2                                                                     | 8/50 [01:19<07:00, 10.01s/it]"
     ]
    },
    {
     "name": "stdout",
     "output_type": "stream",
     "text": [
      "gens_avg_error: 10.60606060606062 fakes_avg_error: 11.014658528270116 cumulative_avg_error: 10.810359567165362\n"
     ]
    },
    {
     "name": "stderr",
     "output_type": "stream",
     "text": [
      "\r",
      " 18%|##############9                                                                    | 9/50 [01:31<07:12, 10.56s/it]"
     ]
    },
    {
     "name": "stdout",
     "output_type": "stream",
     "text": [
      "gens_avg_error: 10.674603174603181 fakes_avg_error: 10.962207773373589 cumulative_avg_error: 10.81840547398838\n"
     ]
    },
    {
     "name": "stderr",
     "output_type": "stream",
     "text": [
      "\r",
      " 20%|################4                                                                 | 10/50 [01:40<06:46, 10.16s/it]"
     ]
    },
    {
     "name": "stdout",
     "output_type": "stream",
     "text": [
      "gens_avg_error: 10.74249605055293 fakes_avg_error: 10.926051970340222 cumulative_avg_error: 10.834274010446576\n"
     ]
    },
    {
     "name": "stderr",
     "output_type": "stream",
     "text": [
      "\r",
      " 22%|##################                                                                | 11/50 [01:47<05:58,  9.20s/it]"
     ]
    },
    {
     "name": "stdout",
     "output_type": "stream",
     "text": [
      "gens_avg_error: 10.691823899371078 fakes_avg_error: 10.890237259788304 cumulative_avg_error: 10.791030579579687\n"
     ]
    },
    {
     "name": "stderr",
     "output_type": "stream",
     "text": [
      "\r",
      " 24%|###################6                                                              | 12/50 [01:56<05:48,  9.17s/it]"
     ]
    },
    {
     "name": "stdout",
     "output_type": "stream",
     "text": [
      "gens_avg_error: 10.641627543036003 fakes_avg_error: 10.886057742136712 cumulative_avg_error: 10.763842642586363\n"
     ]
    },
    {
     "name": "stderr",
     "output_type": "stream",
     "text": [
      "\r",
      " 26%|#####################3                                                            | 13/50 [02:05<05:31,  8.96s/it]"
     ]
    },
    {
     "name": "stdout",
     "output_type": "stream",
     "text": [
      "gens_avg_error: 10.630841121495338 fakes_avg_error: 10.850764637422671 cumulative_avg_error: 10.740802879459\n"
     ]
    },
    {
     "name": "stderr",
     "output_type": "stream",
     "text": [
      "\r",
      " 28%|######################9                                                           | 14/50 [02:18<06:10, 10.30s/it]"
     ]
    },
    {
     "name": "stdout",
     "output_type": "stream",
     "text": [
      "gens_avg_error: 10.58139534883722 fakes_avg_error: 10.877815344535435 cumulative_avg_error: 10.729605346686322\n"
     ]
    },
    {
     "name": "stderr",
     "output_type": "stream",
     "text": [
      "\r",
      " 30%|########################5                                                         | 15/50 [02:30<06:18, 10.82s/it]"
     ]
    },
    {
     "name": "stdout",
     "output_type": "stream",
     "text": [
      "gens_avg_error: 10.570987654321007 fakes_avg_error: 10.827455088310733 cumulative_avg_error: 10.69922137131587\n"
     ]
    },
    {
     "name": "stderr",
     "output_type": "stream",
     "text": [
      "\r",
      " 32%|##########################2                                                       | 16/50 [02:39<05:49, 10.27s/it]"
     ]
    },
    {
     "name": "stdout",
     "output_type": "stream",
     "text": [
      "gens_avg_error: 10.52227342549925 fakes_avg_error: 10.946529796045091 cumulative_avg_error: 10.73440161077217\n"
     ]
    },
    {
     "name": "stderr",
     "output_type": "stream",
     "text": [
      "\r",
      " 34%|###########################8                                                      | 17/50 [02:45<04:54,  8.93s/it]"
     ]
    },
    {
     "name": "stdout",
     "output_type": "stream",
     "text": [
      "gens_avg_error: 10.474006116207967 fakes_avg_error: 10.92689739636904 cumulative_avg_error: 10.700451756288508\n"
     ]
    },
    {
     "name": "stderr",
     "output_type": "stream",
     "text": [
      "\r",
      " 36%|#############################5                                                    | 18/50 [02:52<04:26,  8.33s/it]"
     ]
    },
    {
     "name": "stdout",
     "output_type": "stream",
     "text": [
      "gens_avg_error: 10.502283105022848 fakes_avg_error: 11.196637590906168 cumulative_avg_error: 10.849460347964502\n"
     ]
    },
    {
     "name": "stderr",
     "output_type": "stream",
     "text": [
      "\r",
      " 38%|###############################1                                                  | 19/50 [02:58<03:58,  7.70s/it]"
     ]
    },
    {
     "name": "stdout",
     "output_type": "stream",
     "text": [
      "gens_avg_error: 10.454545454545471 fakes_avg_error: 11.145743783674778 cumulative_avg_error: 10.80014461911012\n"
     ]
    },
    {
     "name": "stderr",
     "output_type": "stream",
     "text": [
      "\r",
      " 40%|################################8                                                 | 20/50 [03:07<03:59,  7.98s/it]"
     ]
    },
    {
     "name": "stdout",
     "output_type": "stream",
     "text": [
      "gens_avg_error: 10.82202111613877 fakes_avg_error: 11.095310553884396 cumulative_avg_error: 10.958665835011583\n"
     ]
    },
    {
     "name": "stderr",
     "output_type": "stream",
     "text": [
      "\r",
      " 42%|##################################4                                               | 21/50 [03:15<03:51,  7.97s/it]"
     ]
    },
    {
     "name": "stdout",
     "output_type": "stream",
     "text": [
      "gens_avg_error: 10.885885885885893 fakes_avg_error: 11.045331677515547 cumulative_avg_error: 10.96560878170072\n"
     ]
    },
    {
     "name": "stderr",
     "output_type": "stream",
     "text": [
      "\r",
      " 44%|####################################                                              | 22/50 [03:26<04:07,  8.84s/it]"
     ]
    },
    {
     "name": "stdout",
     "output_type": "stream",
     "text": [
      "gens_avg_error: 10.874439461883423 fakes_avg_error: 11.294754704372723 cumulative_avg_error: 11.084597083128077\n"
     ]
    },
    {
     "name": "stderr",
     "output_type": "stream",
     "text": [
      "\r",
      " 46%|#####################################7                                            | 23/50 [03:37<04:21,  9.68s/it]"
     ]
    },
    {
     "name": "stdout",
     "output_type": "stream",
     "text": [
      "gens_avg_error: 10.825892857142872 fakes_avg_error: 11.259212644680582 cumulative_avg_error: 11.042552750911728\n"
     ]
    },
    {
     "name": "stderr",
     "output_type": "stream",
     "text": [
      "\r",
      " 48%|#######################################3                                          | 24/50 [03:47<04:15,  9.81s/it]"
     ]
    },
    {
     "name": "stdout",
     "output_type": "stream",
     "text": [
      "gens_avg_error: 10.777777777777786 fakes_avg_error: 11.312875403296808 cumulative_avg_error: 11.045326590537297\n"
     ]
    },
    {
     "name": "stderr",
     "output_type": "stream",
     "text": [
      "\r",
      " 50%|#########################################                                         | 25/50 [03:55<03:45,  9.01s/it]"
     ]
    },
    {
     "name": "stdout",
     "output_type": "stream",
     "text": [
      "gens_avg_error: 10.73008849557523 fakes_avg_error: 11.307066220096374 cumulative_avg_error: 11.018577357835802\n"
     ]
    },
    {
     "name": "stderr",
     "output_type": "stream",
     "text": [
      "\r",
      " 52%|##########################################6                                       | 26/50 [04:03<03:30,  8.79s/it]"
     ]
    },
    {
     "name": "stdout",
     "output_type": "stream",
     "text": [
      "gens_avg_error: 10.719530102790031 fakes_avg_error: 11.257255355690665 cumulative_avg_error: 10.98839272924035\n"
     ]
    },
    {
     "name": "stderr",
     "output_type": "stream",
     "text": [
      "\r",
      " 54%|############################################2                                     | 27/50 [04:11<03:19,  8.68s/it]"
     ]
    },
    {
     "name": "stdout",
     "output_type": "stream",
     "text": [
      "gens_avg_error: 10.709064327485397 fakes_avg_error: 11.207881428692023 cumulative_avg_error: 10.95847287808871\n"
     ]
    },
    {
     "name": "stderr",
     "output_type": "stream",
     "text": [
      "\r",
      " 56%|#############################################9                                    | 28/50 [04:20<03:10,  8.64s/it]"
     ]
    },
    {
     "name": "stdout",
     "output_type": "stream",
     "text": [
      "gens_avg_error: 10.662299854439617 fakes_avg_error: 11.15893871502961 cumulative_avg_error: 10.910619284734613\n"
     ]
    },
    {
     "name": "stderr",
     "output_type": "stream",
     "text": [
      "\r",
      " 58%|###############################################5                                  | 29/50 [04:28<02:57,  8.45s/it]"
     ]
    },
    {
     "name": "stdout",
     "output_type": "stream",
     "text": [
      "gens_avg_error: 10.615942028985526 fakes_avg_error: 11.110421590181652 cumulative_avg_error: 10.863181809583589\n"
     ]
    },
    {
     "name": "stderr",
     "output_type": "stream",
     "text": [
      "\r",
      " 60%|#################################################1                                | 30/50 [04:38<02:57,  8.89s/it]"
     ]
    },
    {
     "name": "stdout",
     "output_type": "stream",
     "text": [
      "gens_avg_error: 10.569985569985596 fakes_avg_error: 11.307634772330942 cumulative_avg_error: 10.938810171158275\n"
     ]
    },
    {
     "name": "stderr",
     "output_type": "stream",
     "text": [
      "\r",
      " 62%|##################################################8                               | 31/50 [04:48<02:59,  9.44s/it]"
     ]
    },
    {
     "name": "stdout",
     "output_type": "stream",
     "text": [
      "gens_avg_error: 10.524425287356342 fakes_avg_error: 11.258894967277788 cumulative_avg_error: 10.89166012731706\n"
     ]
    },
    {
     "name": "stderr",
     "output_type": "stream",
     "text": [
      "\r",
      " 64%|####################################################4                             | 32/50 [04:57<02:46,  9.24s/it]"
     ]
    },
    {
     "name": "stdout",
     "output_type": "stream",
     "text": [
      "gens_avg_error: 10.479256080114475 fakes_avg_error: 11.210573529649992 cumulative_avg_error: 10.844914804882233\n"
     ]
    },
    {
     "name": "stderr",
     "output_type": "stream",
     "text": [
      "\r",
      " 66%|######################################################1                           | 33/50 [05:10<02:53, 10.22s/it]"
     ]
    },
    {
     "name": "stdout",
     "output_type": "stream",
     "text": [
      "gens_avg_error: 10.43447293447295 fakes_avg_error: 11.162665095762591 cumulative_avg_error: 10.798569015117776\n"
     ]
    },
    {
     "name": "stderr",
     "output_type": "stream",
     "text": [
      "\r",
      " 68%|#######################################################7                          | 34/50 [05:16<02:24,  9.02s/it]"
     ]
    },
    {
     "name": "stdout",
     "output_type": "stream",
     "text": [
      "gens_avg_error: 10.425531914893638 fakes_avg_error: 11.115164393227438 cumulative_avg_error: 10.770348154060539\n"
     ]
    },
    {
     "name": "stderr",
     "output_type": "stream",
     "text": [
      "\r",
      " 70%|#########################################################4                        | 35/50 [05:24<02:10,  8.70s/it]"
     ]
    },
    {
     "name": "stdout",
     "output_type": "stream",
     "text": [
      "gens_avg_error: 10.451977401129964 fakes_avg_error: 11.082190532804159 cumulative_avg_error: 10.76708396696706\n"
     ]
    },
    {
     "name": "stderr",
     "output_type": "stream",
     "text": [
      "\r",
      " 72%|###########################################################                       | 36/50 [05:34<02:08,  9.16s/it]"
     ]
    },
    {
     "name": "stdout",
     "output_type": "stream",
     "text": [
      "gens_avg_error: 10.407876230661062 fakes_avg_error: 11.162012513678398 cumulative_avg_error: 10.784944372169726\n"
     ]
    },
    {
     "name": "stderr",
     "output_type": "stream",
     "text": [
      "\r",
      " 74%|############################################################6                     | 37/50 [05:44<02:00,  9.26s/it]"
     ]
    },
    {
     "name": "stdout",
     "output_type": "stream",
     "text": [
      "gens_avg_error: 10.364145658263324 fakes_avg_error: 11.115113301436052 cumulative_avg_error: 10.739629479849688\n"
     ]
    },
    {
     "name": "stderr",
     "output_type": "stream",
     "text": [
      "\r",
      " 76%|##############################################################3                   | 38/50 [05:54<01:54,  9.57s/it]"
     ]
    },
    {
     "name": "stdout",
     "output_type": "stream",
     "text": [
      "gens_avg_error: 10.355648535564876 fakes_avg_error: 11.124394556799643 cumulative_avg_error: 10.740021546182255\n"
     ]
    },
    {
     "name": "stderr",
     "output_type": "stream",
     "text": [
      "\r",
      " 78%|###############################################################9                  | 39/50 [06:05<01:52, 10.18s/it]"
     ]
    },
    {
     "name": "stdout",
     "output_type": "stream",
     "text": [
      "gens_avg_error: 10.347222222222252 fakes_avg_error: 11.09193180170186 cumulative_avg_error: 10.719577011962055\n"
     ]
    },
    {
     "name": "stderr",
     "output_type": "stream",
     "text": [
      "\r",
      " 80%|#################################################################6                | 40/50 [06:17<01:46, 10.65s/it]"
     ]
    },
    {
     "name": "stdout",
     "output_type": "stream",
     "text": [
      "gens_avg_error: 10.304287690179837 fakes_avg_error: 11.128894740284013 cumulative_avg_error: 10.716591215231919\n"
     ]
    },
    {
     "name": "stderr",
     "output_type": "stream",
     "text": [
      "\r",
      " 82%|###################################################################2              | 41/50 [06:24<01:24,  9.40s/it]"
     ]
    },
    {
     "name": "stdout",
     "output_type": "stream",
     "text": [
      "gens_avg_error: 10.296143250688738 fakes_avg_error: 11.096681676618925 cumulative_avg_error: 10.696412463653825\n"
     ]
    },
    {
     "name": "stderr",
     "output_type": "stream",
     "text": [
      "\r",
      " 84%|####################################################################8             | 42/50 [06:33<01:14,  9.29s/it]"
     ]
    },
    {
     "name": "stdout",
     "output_type": "stream",
     "text": [
      "gens_avg_error: 10.25377229080936 fakes_avg_error: 11.0921685832995 cumulative_avg_error: 10.67297043705443\n"
     ]
    },
    {
     "name": "stderr",
     "output_type": "stream",
     "text": [
      "\r",
      " 86%|######################################################################5           | 43/50 [06:43<01:06,  9.46s/it]"
     ]
    },
    {
     "name": "stdout",
     "output_type": "stream",
     "text": [
      "gens_avg_error: 10.211748633879814 fakes_avg_error: 11.046708875990896 cumulative_avg_error: 10.62922875493535\n"
     ]
    },
    {
     "name": "stderr",
     "output_type": "stream",
     "text": [
      "\r",
      " 88%|########################################################################1         | 44/50 [06:53<00:58,  9.71s/it]"
     ]
    },
    {
     "name": "stdout",
     "output_type": "stream",
     "text": [
      "gens_avg_error: 10.17006802721091 fakes_avg_error: 11.00162026833379 cumulative_avg_error: 10.585844147772349\n"
     ]
    },
    {
     "name": "stderr",
     "output_type": "stream",
     "text": [
      "\r",
      " 90%|#########################################################################8        | 45/50 [07:04<00:50, 10.01s/it]"
     ]
    },
    {
     "name": "stdout",
     "output_type": "stream",
     "text": [
      "gens_avg_error: 10.162601626016299 fakes_avg_error: 10.95689823472268 cumulative_avg_error: 10.559749930369488\n"
     ]
    },
    {
     "name": "stderr",
     "output_type": "stream",
     "text": [
      "\r",
      " 92%|###########################################################################4      | 46/50 [07:16<00:42, 10.69s/it]"
     ]
    },
    {
     "name": "stdout",
     "output_type": "stream",
     "text": [
      "gens_avg_error: 10.188933873144435 fakes_avg_error: 11.007005259413404 cumulative_avg_error: 10.59796956627892\n"
     ]
    },
    {
     "name": "stderr",
     "output_type": "stream",
     "text": [
      "\r",
      " 94%|#############################################################################     | 47/50 [07:26<00:31, 10.58s/it]"
     ]
    },
    {
     "name": "stdout",
     "output_type": "stream",
     "text": [
      "gens_avg_error: 10.14784946236562 fakes_avg_error: 11.24488023820609 cumulative_avg_error: 10.696364850285855\n"
     ]
    },
    {
     "name": "stderr",
     "output_type": "stream",
     "text": [
      "\r",
      " 96%|##############################################################################7   | 48/50 [07:36<00:20, 10.34s/it]"
     ]
    },
    {
     "name": "stdout",
     "output_type": "stream",
     "text": [
      "gens_avg_error: 10.10709504685411 fakes_avg_error: 11.199720076606868 cumulative_avg_error: 10.653407561730488\n"
     ]
    },
    {
     "name": "stderr",
     "output_type": "stream",
     "text": [
      "\r",
      " 98%|################################################################################3 | 49/50 [07:46<00:10, 10.13s/it]"
     ]
    },
    {
     "name": "stdout",
     "output_type": "stream",
     "text": [
      "gens_avg_error: 10.100000000000032 fakes_avg_error: 11.183492624871871 cumulative_avg_error: 10.641746312435952\n"
     ]
    },
    {
     "name": "stderr",
     "output_type": "stream",
     "text": [
      "100%|##################################################################################| 50/50 [07:55<00:00,  9.83s/it]\n",
      "  0%|                                                                                           | 0/50 [00:00<?, ?it/s]"
     ]
    },
    {
     "name": "stdout",
     "output_type": "stream",
     "text": [
      "gens_avg_error: 10.059760956175335 fakes_avg_error: 11.178777514812621 cumulative_avg_error: 10.619269235493977\n"
     ]
    },
    {
     "name": "stderr",
     "output_type": "stream",
     "text": [
      "\r",
      "  2%|#6                                                                                 | 1/50 [00:09<07:36,  9.33s/it]"
     ]
    },
    {
     "name": "stdout",
     "output_type": "stream",
     "text": [
      "gens_avg_error: 10.052910052910091 fakes_avg_error: 11.134417286579234 cumulative_avg_error: 10.593663669744657\n"
     ]
    },
    {
     "name": "stderr",
     "output_type": "stream",
     "text": [
      "\r",
      "  4%|###3                                                                               | 2/50 [00:17<07:07,  8.91s/it]"
     ]
    },
    {
     "name": "stdout",
     "output_type": "stream",
     "text": [
      "gens_avg_error: 10.144927536231929 fakes_avg_error: 11.195809576619109 cumulative_avg_error: 10.670368556425514\n"
     ]
    },
    {
     "name": "stderr",
     "output_type": "stream",
     "text": [
      "\r",
      "  6%|####9                                                                              | 3/50 [00:32<08:21, 10.66s/it]"
     ]
    },
    {
     "name": "stdout",
     "output_type": "stream",
     "text": [
      "gens_avg_error: 10.104986876640465 fakes_avg_error: 11.151731586159986 cumulative_avg_error: 10.62835923140022\n"
     ]
    },
    {
     "name": "stderr",
     "output_type": "stream",
     "text": [
      "\r",
      "  8%|######6                                                                            | 4/50 [00:43<08:21, 10.90s/it]"
     ]
    },
    {
     "name": "stdout",
     "output_type": "stream",
     "text": [
      "gens_avg_error: 10.065359477124225 fakes_avg_error: 11.150016112152638 cumulative_avg_error: 10.607687794638432\n"
     ]
    },
    {
     "name": "stderr",
     "output_type": "stream",
     "text": [
      "\r",
      " 10%|########3                                                                          | 5/50 [00:53<07:58, 10.63s/it]"
     ]
    },
    {
     "name": "stdout",
     "output_type": "stream",
     "text": [
      "gens_avg_error: 10.026041666666707 fakes_avg_error: 11.158544695047867 cumulative_avg_error: 10.592293180857283\n"
     ]
    },
    {
     "name": "stderr",
     "output_type": "stream",
     "text": [
      "\r",
      " 12%|#########9                                                                         | 6/50 [01:05<08:11, 11.16s/it]"
     ]
    },
    {
     "name": "stdout",
     "output_type": "stream",
     "text": [
      "gens_avg_error: 9.98702983138785 fakes_avg_error: 11.115126233199435 cumulative_avg_error: 10.551078032293649\n"
     ]
    },
    {
     "name": "stderr",
     "output_type": "stream",
     "text": [
      "\r",
      " 14%|###########6                                                                       | 7/50 [01:11<06:42,  9.37s/it]"
     ]
    },
    {
     "name": "stdout",
     "output_type": "stream",
     "text": [
      "gens_avg_error: 10.10981912144706 fakes_avg_error: 11.098775169210818 cumulative_avg_error: 10.604297145328934\n"
     ]
    },
    {
     "name": "stderr",
     "output_type": "stream",
     "text": [
      "\r",
      " 16%|#############2                                                                     | 8/50 [01:21<06:49,  9.74s/it]"
     ]
    },
    {
     "name": "stdout",
     "output_type": "stream",
     "text": [
      "gens_avg_error: 10.070785070785105 fakes_avg_error: 11.1717528712602 cumulative_avg_error: 10.621268971022646\n"
     ]
    },
    {
     "name": "stderr",
     "output_type": "stream",
     "text": [
      "\r",
      " 18%|##############9                                                                    | 9/50 [01:31<06:39,  9.74s/it]"
     ]
    },
    {
     "name": "stdout",
     "output_type": "stream",
     "text": [
      "gens_avg_error: 10.064102564102607 fakes_avg_error: 11.14160510380664 cumulative_avg_error: 10.60285383395463\n"
     ]
    },
    {
     "name": "stderr",
     "output_type": "stream",
     "text": [
      "\r",
      " 20%|################4                                                                 | 10/50 [01:40<06:21,  9.54s/it]"
     ]
    },
    {
     "name": "stdout",
     "output_type": "stream",
     "text": [
      "gens_avg_error: 10.02554278416351 fakes_avg_error: 11.150002529973403 cumulative_avg_error: 10.58777265706845\n"
     ]
    },
    {
     "name": "stderr",
     "output_type": "stream",
     "text": [
      "\r",
      " 22%|##################                                                                | 11/50 [01:56<07:27, 11.49s/it]"
     ]
    },
    {
     "name": "stdout",
     "output_type": "stream",
     "text": [
      "gens_avg_error: 9.987277353689606 fakes_avg_error: 11.18378114627121 cumulative_avg_error: 10.585529249980407\n"
     ]
    },
    {
     "name": "stderr",
     "output_type": "stream",
     "text": [
      "\r",
      " 24%|###################6                                                              | 12/50 [02:07<07:05, 11.19s/it]"
     ]
    },
    {
     "name": "stdout",
     "output_type": "stream",
     "text": [
      "gens_avg_error: 9.980988593155937 fakes_avg_error: 11.217302890962188 cumulative_avg_error: 10.599145742059068\n"
     ]
    },
    {
     "name": "stderr",
     "output_type": "stream",
     "text": [
      "\r",
      " 26%|#####################3                                                            | 13/50 [02:18<06:57, 11.29s/it]"
     ]
    },
    {
     "name": "stdout",
     "output_type": "stream",
     "text": [
      "gens_avg_error: 9.943181818181856 fakes_avg_error: 11.174813107284297 cumulative_avg_error: 10.558997462733078\n"
     ]
    },
    {
     "name": "stderr",
     "output_type": "stream",
     "text": [
      "\r",
      " 28%|######################9                                                           | 14/50 [02:26<06:06, 10.18s/it]"
     ]
    },
    {
     "name": "stdout",
     "output_type": "stream",
     "text": [
      "gens_avg_error: 9.968553459119533 fakes_avg_error: 11.145222617571282 cumulative_avg_error: 10.556888038345402\n"
     ]
    },
    {
     "name": "stderr",
     "output_type": "stream",
     "text": [
      "\r",
      " 30%|########################5                                                         | 15/50 [02:36<05:57, 10.23s/it]"
     ]
    },
    {
     "name": "stdout",
     "output_type": "stream",
     "text": [
      "gens_avg_error: 9.931077694235624 fakes_avg_error: 11.207030829146392 cumulative_avg_error: 10.569054261691013\n"
     ]
    },
    {
     "name": "stderr",
     "output_type": "stream",
     "text": [
      "\r",
      " 32%|##########################2                                                       | 16/50 [02:47<05:53, 10.38s/it]"
     ]
    },
    {
     "name": "stdout",
     "output_type": "stream",
     "text": [
      "gens_avg_error: 9.925093632958848 fakes_avg_error: 11.16505693090989 cumulative_avg_error: 10.545075281934368\n"
     ]
    },
    {
     "name": "stderr",
     "output_type": "stream",
     "text": [
      "\r",
      " 34%|###########################8                                                      | 17/50 [02:55<05:23,  9.81s/it]"
     ]
    },
    {
     "name": "stdout",
     "output_type": "stream",
     "text": [
      "gens_avg_error: 9.88805970149258 fakes_avg_error: 11.123396270719931 cumulative_avg_error: 10.505727986106251\n"
     ]
    },
    {
     "name": "stderr",
     "output_type": "stream",
     "text": [
      "\r",
      " 36%|#############################5                                                    | 18/50 [03:05<05:10,  9.70s/it]"
     ]
    },
    {
     "name": "stdout",
     "output_type": "stream",
     "text": [
      "gens_avg_error: 9.851301115241673 fakes_avg_error: 11.09443692894525 cumulative_avg_error: 10.472869022093455\n"
     ]
    },
    {
     "name": "stderr",
     "output_type": "stream",
     "text": [
      "\r",
      " 38%|###############################1                                                  | 19/50 [03:13<04:51,  9.40s/it]"
     ]
    },
    {
     "name": "stdout",
     "output_type": "stream",
     "text": [
      "gens_avg_error: 9.814814814814854 fakes_avg_error: 11.053346421801013 cumulative_avg_error: 10.434080618307927\n"
     ]
    },
    {
     "name": "stderr",
     "output_type": "stream",
     "text": [
      "\r",
      " 40%|################################8                                                 | 20/50 [03:23<04:48,  9.63s/it]"
     ]
    },
    {
     "name": "stdout",
     "output_type": "stream",
     "text": [
      "gens_avg_error: 9.840098400984044 fakes_avg_error: 11.172460764647996 cumulative_avg_error: 10.506279582816024\n"
     ]
    },
    {
     "name": "stderr",
     "output_type": "stream",
     "text": [
      "\r",
      " 42%|##################################4                                               | 21/50 [03:36<05:07, 10.61s/it]"
     ]
    },
    {
     "name": "stdout",
     "output_type": "stream",
     "text": [
      "gens_avg_error: 9.803921568627494 fakes_avg_error: 11.24167965889562 cumulative_avg_error: 10.522800613761563\n"
     ]
    },
    {
     "name": "stderr",
     "output_type": "stream",
     "text": [
      "\r",
      " 44%|####################################                                              | 22/50 [03:47<05:01, 10.76s/it]"
     ]
    },
    {
     "name": "stdout",
     "output_type": "stream",
     "text": [
      "gens_avg_error: 9.768009768009811 fakes_avg_error: 11.347021491646924 cumulative_avg_error: 10.557515629828362\n"
     ]
    },
    {
     "name": "stderr",
     "output_type": "stream",
     "text": [
      "\r",
      " 46%|#####################################7                                            | 23/50 [03:59<04:57, 11.01s/it]"
     ]
    },
    {
     "name": "stdout",
     "output_type": "stream",
     "text": [
      "gens_avg_error: 9.732360097323633 fakes_avg_error: 11.329939904694442 cumulative_avg_error: 10.531150001009038\n"
     ]
    },
    {
     "name": "stderr",
     "output_type": "stream",
     "text": [
      "\r",
      " 48%|#######################################3                                          | 24/50 [04:09<04:34, 10.54s/it]"
     ]
    },
    {
     "name": "stdout",
     "output_type": "stream",
     "text": [
      "gens_avg_error: 9.696969696969738 fakes_avg_error: 11.288740123222818 cumulative_avg_error: 10.492854910096284\n"
     ]
    },
    {
     "name": "stderr",
     "output_type": "stream",
     "text": [
      "\r",
      " 50%|#########################################                                         | 25/50 [04:21<04:34, 10.98s/it]"
     ]
    },
    {
     "name": "stdout",
     "output_type": "stream",
     "text": [
      "gens_avg_error: 9.722222222222253 fakes_avg_error: 11.247838890892304 cumulative_avg_error: 10.485030556557273\n"
     ]
    },
    {
     "name": "stderr",
     "output_type": "stream",
     "text": [
      "\r",
      " 52%|##########################################6                                       | 26/50 [04:28<03:59,  9.97s/it]"
     ]
    },
    {
     "name": "stdout",
     "output_type": "stream",
     "text": [
      "gens_avg_error: 9.687123947051779 fakes_avg_error: 11.207232974318682 cumulative_avg_error: 10.447178460685237\n"
     ]
    },
    {
     "name": "stderr",
     "output_type": "stream",
     "text": [
      "\r",
      " 54%|############################################2                                     | 27/50 [04:37<03:40,  9.59s/it]"
     ]
    },
    {
     "name": "stdout",
     "output_type": "stream",
     "text": [
      "gens_avg_error: 9.682254196642726 fakes_avg_error: 11.202890409662858 cumulative_avg_error: 10.442572303152797\n"
     ]
    },
    {
     "name": "stderr",
     "output_type": "stream",
     "text": [
      "\r",
      " 56%|#############################################9                                    | 28/50 [04:46<03:29,  9.54s/it]"
     ]
    },
    {
     "name": "stdout",
     "output_type": "stream",
     "text": [
      "gens_avg_error: 9.677419354838745 fakes_avg_error: 11.186631543200509 cumulative_avg_error: 10.432025449019623\n"
     ]
    },
    {
     "name": "stderr",
     "output_type": "stream",
     "text": [
      "\r",
      " 58%|###############################################5                                  | 29/50 [04:57<03:28,  9.91s/it]"
     ]
    },
    {
     "name": "stdout",
     "output_type": "stream",
     "text": [
      "gens_avg_error: 9.642857142857187 fakes_avg_error: 11.2300126210224 cumulative_avg_error: 10.436434881939793\n"
     ]
    },
    {
     "name": "stderr",
     "output_type": "stream",
     "text": [
      "\r",
      " 60%|#################################################1                                | 30/50 [05:05<03:08,  9.43s/it]"
     ]
    },
    {
     "name": "stdout",
     "output_type": "stream",
     "text": [
      "gens_avg_error: 9.667852906287111 fakes_avg_error: 11.190048163296352 cumulative_avg_error: 10.428950534791737\n"
     ]
    },
    {
     "name": "stderr",
     "output_type": "stream",
     "text": [
      "\r",
      " 62%|##################################################8                               | 31/50 [05:19<03:21, 10.61s/it]"
     ]
    },
    {
     "name": "stdout",
     "output_type": "stream",
     "text": [
      "gens_avg_error: 9.663120567375927 fakes_avg_error: 11.150367141440686 cumulative_avg_error: 10.406743854408306\n"
     ]
    },
    {
     "name": "stderr",
     "output_type": "stream",
     "text": [
      "\r",
      " 64%|####################################################4                             | 32/50 [05:33<03:31, 11.75s/it]"
     ]
    },
    {
     "name": "stdout",
     "output_type": "stream",
     "text": [
      "gens_avg_error: 9.658421672555995 fakes_avg_error: 11.146302239880823 cumulative_avg_error: 10.402361956218408\n"
     ]
    },
    {
     "name": "stderr",
     "output_type": "stream",
     "text": [
      "\r",
      " 66%|######################################################1                           | 33/50 [05:45<03:21, 11.86s/it]"
     ]
    },
    {
     "name": "stdout",
     "output_type": "stream",
     "text": [
      "gens_avg_error: 9.624413145539956 fakes_avg_error: 11.165740142792036 cumulative_avg_error: 10.39507664416599\n"
     ]
    },
    {
     "name": "stderr",
     "output_type": "stream",
     "text": [
      "\r",
      " 68%|#######################################################7                          | 34/50 [05:52<02:44, 10.31s/it]"
     ]
    },
    {
     "name": "stdout",
     "output_type": "stream",
     "text": [
      "gens_avg_error: 9.59064327485385 fakes_avg_error: 11.126562107203297 cumulative_avg_error: 10.358602691028572\n"
     ]
    },
    {
     "name": "stderr",
     "output_type": "stream",
     "text": [
      "\r",
      " 70%|#########################################################4                        | 35/50 [06:05<02:49, 11.27s/it]"
     ]
    },
    {
     "name": "stdout",
     "output_type": "stream",
     "text": [
      "gens_avg_error: 9.55710955710961 fakes_avg_error: 11.122623078856432 cumulative_avg_error: 10.339866317983027\n"
     ]
    },
    {
     "name": "stderr",
     "output_type": "stream",
     "text": [
      "\r",
      " 72%|###########################################################                       | 36/50 [06:20<02:52, 12.33s/it]"
     ]
    },
    {
     "name": "stdout",
     "output_type": "stream",
     "text": [
      "gens_avg_error: 9.610917537746854 fakes_avg_error: 11.083868294609545 cumulative_avg_error: 10.3473929161782\n"
     ]
    },
    {
     "name": "stderr",
     "output_type": "stream",
     "text": [
      "\r",
      " 74%|############################################################6                     | 37/50 [06:32<02:39, 12.30s/it]"
     ]
    },
    {
     "name": "stdout",
     "output_type": "stream",
     "text": [
      "gens_avg_error: 9.606481481481532 fakes_avg_error: 11.103253011179193 cumulative_avg_error: 10.354867246330368\n"
     ]
    },
    {
     "name": "stderr",
     "output_type": "stream",
     "text": [
      "\r",
      " 76%|##############################################################3                   | 38/50 [06:44<02:23, 11.94s/it]"
     ]
    },
    {
     "name": "stdout",
     "output_type": "stream",
     "text": [
      "gens_avg_error: 9.573241061130378 fakes_avg_error: 11.087901501336583 cumulative_avg_error: 10.33057128123348\n"
     ]
    },
    {
     "name": "stderr",
     "output_type": "stream",
     "text": [
      "\r",
      " 78%|###############################################################9                  | 39/50 [06:57<02:14, 12.27s/it]"
     ]
    },
    {
     "name": "stdout",
     "output_type": "stream",
     "text": [
      "gens_avg_error: 9.540229885057517 fakes_avg_error: 11.095644369722779 cumulative_avg_error: 10.317937127390152\n"
     ]
    },
    {
     "name": "stderr",
     "output_type": "stream",
     "text": [
      "\r",
      " 80%|#################################################################6                | 40/50 [07:03<01:45, 10.55s/it]"
     ]
    },
    {
     "name": "stdout",
     "output_type": "stream",
     "text": [
      "gens_avg_error: 9.536082474226848 fakes_avg_error: 11.091879268795902 cumulative_avg_error: 10.313980871511374\n"
     ]
    },
    {
     "name": "stderr",
     "output_type": "stream",
     "text": [
      "\r",
      " 82%|###################################################################2              | 41/50 [07:18<01:46, 11.87s/it]"
     ]
    },
    {
     "name": "stdout",
     "output_type": "stream",
     "text": [
      "gens_avg_error: 9.503424657534287 fakes_avg_error: 11.168048632030613 cumulative_avg_error: 10.335736644782445\n"
     ]
    },
    {
     "name": "stderr",
     "output_type": "stream",
     "text": [
      "\r",
      " 84%|####################################################################8             | 42/50 [07:28<01:30, 11.36s/it]"
     ]
    },
    {
     "name": "stdout",
     "output_type": "stream",
     "text": [
      "gens_avg_error: 9.470989761092186 fakes_avg_error: 11.368840274924708 cumulative_avg_error: 10.419915018008453\n"
     ]
    },
    {
     "name": "stderr",
     "output_type": "stream",
     "text": [
      "\r",
      " 86%|######################################################################5           | 43/50 [07:41<01:22, 11.73s/it]"
     ]
    },
    {
     "name": "stdout",
     "output_type": "stream",
     "text": [
      "gens_avg_error: 9.552154195011376 fakes_avg_error: 11.330170750180057 cumulative_avg_error: 10.441162472595721\n"
     ]
    },
    {
     "name": "stderr",
     "output_type": "stream",
     "text": [
      "\r",
      " 88%|########################################################################1         | 44/50 [07:55<01:15, 12.58s/it]"
     ]
    },
    {
     "name": "stdout",
     "output_type": "stream",
     "text": [
      "gens_avg_error: 9.604519774011333 fakes_avg_error: 11.29176339170488 cumulative_avg_error: 10.448141582858106\n"
     ]
    },
    {
     "name": "stderr",
     "output_type": "stream",
     "text": [
      "\r",
      " 90%|#########################################################################8        | 45/50 [08:08<01:02, 12.59s/it]"
     ]
    },
    {
     "name": "stdout",
     "output_type": "stream",
     "text": [
      "gens_avg_error: 9.572072072072102 fakes_avg_error: 11.253615542408578 cumulative_avg_error: 10.412843807240346\n"
     ]
    },
    {
     "name": "stderr",
     "output_type": "stream",
     "text": [
      "\r",
      " 92%|###########################################################################4      | 46/50 [08:17<00:45, 11.41s/it]"
     ]
    },
    {
     "name": "stdout",
     "output_type": "stream",
     "text": [
      "gens_avg_error: 9.567901234567922 fakes_avg_error: 11.226947925543007 cumulative_avg_error: 10.397424580055459\n"
     ]
    },
    {
     "name": "stderr",
     "output_type": "stream",
     "text": [
      "\r",
      " 94%|#############################################################################     | 47/50 [08:27<00:33, 11.15s/it]"
     ]
    },
    {
     "name": "stdout",
     "output_type": "stream",
     "text": [
      "gens_avg_error: 9.535794183445212 fakes_avg_error: 11.357058838544543 cumulative_avg_error: 10.446426510994877\n"
     ]
    },
    {
     "name": "stderr",
     "output_type": "stream",
     "text": [
      "\r",
      " 96%|##############################################################################7   | 48/50 [08:40<00:23, 11.52s/it]"
     ]
    },
    {
     "name": "stdout",
     "output_type": "stream",
     "text": [
      "gens_avg_error: 9.615384615384636 fakes_avg_error: 11.330223636185988 cumulative_avg_error: 10.472804125785306\n"
     ]
    },
    {
     "name": "stderr",
     "output_type": "stream",
     "text": [
      "\r",
      " 98%|################################################################################3 | 49/50 [08:53<00:12, 12.02s/it]"
     ]
    },
    {
     "name": "stdout",
     "output_type": "stream",
     "text": [
      "gens_avg_error: 9.63888888888892 fakes_avg_error: 11.292456224065361 cumulative_avg_error: 10.465672556477145\n"
     ]
    },
    {
     "name": "stderr",
     "output_type": "stream",
     "text": [
      "100%|##################################################################################| 50/50 [09:07<00:00, 12.60s/it]\n",
      "  0%|                                                                                           | 0/50 [00:00<?, ?it/s]"
     ]
    },
    {
     "name": "stdout",
     "output_type": "stream",
     "text": [
      "gens_avg_error: 9.606866002214865 fakes_avg_error: 11.35460753229106 cumulative_avg_error: 10.480736767252964\n"
     ]
    },
    {
     "name": "stderr",
     "output_type": "stream",
     "text": [
      "\r",
      "  2%|#6                                                                                 | 1/50 [00:11<09:25, 11.54s/it]"
     ]
    },
    {
     "name": "stdout",
     "output_type": "stream",
     "text": [
      "gens_avg_error: 9.575055187637993 fakes_avg_error: 11.372197132073769 cumulative_avg_error: 10.473626159855876\n"
     ]
    },
    {
     "name": "stderr",
     "output_type": "stream",
     "text": [
      "\r",
      "  4%|###3                                                                               | 2/50 [00:21<08:44, 10.93s/it]"
     ]
    },
    {
     "name": "stdout",
     "output_type": "stream",
     "text": [
      "gens_avg_error: 9.59845984598463 fakes_avg_error: 11.334665128337551 cumulative_avg_error: 10.466562487161092\n"
     ]
    },
    {
     "name": "stderr",
     "output_type": "stream",
     "text": [
      "\r",
      "  6%|####9                                                                              | 3/50 [00:30<08:10, 10.43s/it]"
     ]
    },
    {
     "name": "stdout",
     "output_type": "stream",
     "text": [
      "gens_avg_error: 9.56688596491231 fakes_avg_error: 11.505713379011883 cumulative_avg_error: 10.536299671962102\n"
     ]
    },
    {
     "name": "stderr",
     "output_type": "stream",
     "text": [
      "\r",
      "  8%|######6                                                                            | 4/50 [00:39<07:47, 10.16s/it]"
     ]
    },
    {
     "name": "stdout",
     "output_type": "stream",
     "text": [
      "gens_avg_error: 9.590163934426265 fakes_avg_error: 11.46798972858889 cumulative_avg_error: 10.529076831507577\n"
     ]
    },
    {
     "name": "stderr",
     "output_type": "stream",
     "text": [
      "\r",
      " 10%|########3                                                                          | 5/50 [00:53<08:29, 11.31s/it]"
     ]
    },
    {
     "name": "stdout",
     "output_type": "stream",
     "text": [
      "gens_avg_error: 9.586056644880204 fakes_avg_error: 11.44140588415996 cumulative_avg_error: 10.513731264520088\n"
     ]
    },
    {
     "name": "stderr",
     "output_type": "stream",
     "text": [
      "\r",
      " 12%|#########9                                                                         | 6/50 [01:06<08:40, 11.83s/it]"
     ]
    },
    {
     "name": "stdout",
     "output_type": "stream",
     "text": [
      "gens_avg_error: 9.554831704668864 fakes_avg_error: 11.404137461084519 cumulative_avg_error: 10.479484582876687\n"
     ]
    },
    {
     "name": "stderr",
     "output_type": "stream",
     "text": [
      "\r",
      " 14%|###########6                                                                       | 7/50 [01:16<07:59, 11.15s/it]"
     ]
    },
    {
     "name": "stdout",
     "output_type": "stream",
     "text": [
      "gens_avg_error: 9.523809523809557 fakes_avg_error: 11.377933551578845 cumulative_avg_error: 10.450871537694194\n"
     ]
    },
    {
     "name": "stderr",
     "output_type": "stream",
     "text": [
      "\r",
      " 16%|#############2                                                                     | 8/50 [01:27<07:49, 11.19s/it]"
     ]
    },
    {
     "name": "stdout",
     "output_type": "stream",
     "text": [
      "gens_avg_error: 9.492988133764868 fakes_avg_error: 11.341111760149792 cumulative_avg_error: 10.417049946957334\n"
     ]
    },
    {
     "name": "stderr",
     "output_type": "stream",
     "text": [
      "\r",
      " 18%|##############9                                                                    | 9/50 [01:40<07:58, 11.66s/it]"
     ]
    },
    {
     "name": "stdout",
     "output_type": "stream",
     "text": [
      "gens_avg_error: 9.46236559139788 fakes_avg_error: 11.32603290500952 cumulative_avg_error: 10.394199248203705\n"
     ]
    },
    {
     "name": "stderr",
     "output_type": "stream",
     "text": [
      "\r",
      " 20%|################4                                                                 | 10/50 [01:52<07:55, 11.88s/it]"
     ]
    },
    {
     "name": "stdout",
     "output_type": "stream",
     "text": [
      "gens_avg_error: 9.565916398713858 fakes_avg_error: 11.28961479277476 cumulative_avg_error: 10.42776559574431\n"
     ]
    },
    {
     "name": "stderr",
     "output_type": "stream",
     "text": [
      "\r",
      " 22%|##################                                                                | 11/50 [02:01<07:05, 10.90s/it]"
     ]
    },
    {
     "name": "stdout",
     "output_type": "stream",
     "text": [
      "gens_avg_error: 9.535256410256443 fakes_avg_error: 11.34958397613125 cumulative_avg_error: 10.442420193193847\n"
     ]
    },
    {
     "name": "stderr",
     "output_type": "stream",
     "text": [
      "\r",
      " 24%|###################6                                                              | 12/50 [02:12<06:54, 10.91s/it]"
     ]
    },
    {
     "name": "stdout",
     "output_type": "stream",
     "text": [
      "gens_avg_error: 9.55804046858364 fakes_avg_error: 11.31332332445032 cumulative_avg_error: 10.435681896516979\n"
     ]
    },
    {
     "name": "stderr",
     "output_type": "stream",
     "text": [
      "\r",
      " 26%|#####################3                                                            | 13/50 [02:21<06:22, 10.34s/it]"
     ]
    },
    {
     "name": "stdout",
     "output_type": "stream",
     "text": [
      "gens_avg_error: 9.527600849256945 fakes_avg_error: 11.27729363233424 cumulative_avg_error: 10.402447240795599\n"
     ]
    },
    {
     "name": "stderr",
     "output_type": "stream",
     "text": [
      "\r",
      " 28%|######################9                                                           | 14/50 [02:36<06:58, 11.62s/it]"
     ]
    },
    {
     "name": "stdout",
     "output_type": "stream",
     "text": [
      "gens_avg_error: 9.497354497354538 fakes_avg_error: 11.241492700168099 cumulative_avg_error: 10.369423598761319\n"
     ]
    },
    {
     "name": "stderr",
     "output_type": "stream",
     "text": [
      "\r",
      " 30%|########################5                                                         | 15/50 [02:42<05:49, 10.00s/it]"
     ]
    },
    {
     "name": "stdout",
     "output_type": "stream",
     "text": [
      "gens_avg_error: 9.49367088607599 fakes_avg_error: 11.216466879386989 cumulative_avg_error: 10.355068882731489\n"
     ]
    },
    {
     "name": "stderr",
     "output_type": "stream",
     "text": [
      "\r",
      " 32%|##########################2                                                       | 16/50 [02:53<05:54, 10.42s/it]"
     ]
    },
    {
     "name": "stdout",
     "output_type": "stream",
     "text": [
      "gens_avg_error: 9.490010515247139 fakes_avg_error: 11.254690432869474 cumulative_avg_error: 10.372350474058312\n"
     ]
    },
    {
     "name": "stderr",
     "output_type": "stream",
     "text": [
      "\r",
      " 34%|###########################8                                                      | 17/50 [03:02<05:32, 10.08s/it]"
     ]
    },
    {
     "name": "stdout",
     "output_type": "stream",
     "text": [
      "gens_avg_error: 9.486373165618478 fakes_avg_error: 11.21929832459001 cumulative_avg_error: 10.352835745104239\n"
     ]
    },
    {
     "name": "stderr",
     "output_type": "stream",
     "text": [
      "\r",
      " 36%|#############################5                                                    | 18/50 [03:14<05:34, 10.47s/it]"
     ]
    },
    {
     "name": "stdout",
     "output_type": "stream",
     "text": [
      "gens_avg_error: 9.53500522466042 fakes_avg_error: 11.184128110406345 cumulative_avg_error: 10.359566667533382\n"
     ]
    },
    {
     "name": "stderr",
     "output_type": "stream",
     "text": [
      "\r",
      " 38%|###############################1                                                  | 19/50 [03:24<05:26, 10.52s/it]"
     ]
    },
    {
     "name": "stdout",
     "output_type": "stream",
     "text": [
      "gens_avg_error: 9.531250000000014 fakes_avg_error: 11.14917771006132 cumulative_avg_error: 10.340213855030667\n"
     ]
    },
    {
     "name": "stderr",
     "output_type": "stream",
     "text": [
      "\r",
      " 40%|################################8                                                 | 20/50 [03:38<05:45, 11.52s/it]"
     ]
    },
    {
     "name": "stdout",
     "output_type": "stream",
     "text": [
      "gens_avg_error: 9.501557632398772 fakes_avg_error: 11.187134581161862 cumulative_avg_error: 10.344346106780321\n"
     ]
    },
    {
     "name": "stderr",
     "output_type": "stream",
     "text": [
      "\r",
      " 42%|##################################4                                               | 21/50 [03:48<05:20, 11.06s/it]"
     ]
    },
    {
     "name": "stdout",
     "output_type": "stream",
     "text": [
      "gens_avg_error: 9.523809523809545 fakes_avg_error: 11.162743894056815 cumulative_avg_error: 10.34327670893318\n"
     ]
    },
    {
     "name": "stderr",
     "output_type": "stream",
     "text": [
      "\r",
      " 44%|####################################                                              | 22/50 [03:58<04:58, 10.67s/it]"
     ]
    },
    {
     "name": "stdout",
     "output_type": "stream",
     "text": [
      "gens_avg_error: 9.494324045407666 fakes_avg_error: 11.13850423287811 cumulative_avg_error: 10.316414139142882\n"
     ]
    },
    {
     "name": "stderr",
     "output_type": "stream",
     "text": [
      "\r",
      " 46%|#####################################7                                            | 23/50 [04:09<04:46, 10.61s/it]"
     ]
    },
    {
     "name": "stdout",
     "output_type": "stream",
     "text": [
      "gens_avg_error: 9.46502057613171 fakes_avg_error: 11.10412613339392 cumulative_avg_error: 10.284573354762816\n"
     ]
    },
    {
     "name": "stderr",
     "output_type": "stream",
     "text": [
      "\r",
      " 48%|#######################################3                                          | 24/50 [04:16<04:07,  9.53s/it]"
     ]
    },
    {
     "name": "stdout",
     "output_type": "stream",
     "text": [
      "gens_avg_error: 9.435897435897456 fakes_avg_error: 11.121241642727075 cumulative_avg_error: 10.278569539312265\n"
     ]
    },
    {
     "name": "stderr",
     "output_type": "stream",
     "text": [
      "\r",
      " 50%|#########################################                                         | 25/50 [04:30<04:38, 11.13s/it]"
     ]
    },
    {
     "name": "stdout",
     "output_type": "stream",
     "text": [
      "gens_avg_error: 9.43251533742333 fakes_avg_error: 11.087127404559194 cumulative_avg_error: 10.259821370991261\n"
     ]
    },
    {
     "name": "stderr",
     "output_type": "stream",
     "text": [
      "\r",
      " 52%|##########################################6                                       | 26/50 [04:42<04:28, 11.20s/it]"
     ]
    },
    {
     "name": "stdout",
     "output_type": "stream",
     "text": [
      "gens_avg_error: 9.403669724770658 fakes_avg_error: 11.053221816166047 cumulative_avg_error: 10.228445770468353\n"
     ]
    },
    {
     "name": "stderr",
     "output_type": "stream",
     "text": [
      "\r",
      " 54%|############################################2                                     | 27/50 [04:52<04:11, 10.94s/it]"
     ]
    },
    {
     "name": "stdout",
     "output_type": "stream",
     "text": [
      "gens_avg_error: 9.375000000000021 fakes_avg_error: 11.02968557079157 cumulative_avg_error: 10.202342785395802\n"
     ]
    },
    {
     "name": "stderr",
     "output_type": "stream",
     "text": [
      "\r",
      " 56%|#############################################9                                    | 28/50 [05:01<03:44, 10.20s/it]"
     ]
    },
    {
     "name": "stdout",
     "output_type": "stream",
     "text": [
      "gens_avg_error: 9.34650455927053 fakes_avg_error: 10.99616069063718 cumulative_avg_error: 10.171332624953855\n"
     ]
    },
    {
     "name": "stderr",
     "output_type": "stream",
     "text": [
      "\r",
      " 58%|###############################################5                                  | 29/50 [05:14<03:52, 11.09s/it]"
     ]
    },
    {
     "name": "stdout",
     "output_type": "stream",
     "text": [
      "gens_avg_error: 9.318181818181836 fakes_avg_error: 11.013344042079709 cumulative_avg_error: 10.165762930130773\n"
     ]
    },
    {
     "name": "stderr",
     "output_type": "stream",
     "text": [
      "\r",
      " 60%|#################################################1                                | 30/50 [05:23<03:28, 10.41s/it]"
     ]
    },
    {
     "name": "stdout",
     "output_type": "stream",
     "text": [
      "gens_avg_error: 9.290030211480381 fakes_avg_error: 11.042577610449289 cumulative_avg_error: 10.166303910964835\n"
     ]
    },
    {
     "name": "stderr",
     "output_type": "stream",
     "text": [
      "\r",
      " 62%|##################################################8                               | 31/50 [05:28<02:51,  9.02s/it]"
     ]
    },
    {
     "name": "stdout",
     "output_type": "stream",
     "text": [
      "gens_avg_error: 9.287148594377525 fakes_avg_error: 11.009316834514205 cumulative_avg_error: 10.148232714445871\n"
     ]
    },
    {
     "name": "stderr",
     "output_type": "stream",
     "text": [
      "\r",
      " 64%|####################################################4                             | 32/50 [05:39<02:48,  9.39s/it]"
     ]
    },
    {
     "name": "stdout",
     "output_type": "stream",
     "text": [
      "gens_avg_error: 9.284284284284293 fakes_avg_error: 10.976255822999148 cumulative_avg_error: 10.130270053641722\n"
     ]
    },
    {
     "name": "stderr",
     "output_type": "stream",
     "text": [
      "\r",
      " 66%|######################################################1                           | 33/50 [05:48<02:38,  9.34s/it]"
     ]
    },
    {
     "name": "stdout",
     "output_type": "stream",
     "text": [
      "gens_avg_error: 9.281437125748504 fakes_avg_error: 10.943392781612914 cumulative_avg_error: 10.112414953680716\n"
     ]
    },
    {
     "name": "stderr",
     "output_type": "stream",
     "text": [
      "\r",
      " 68%|#######################################################7                          | 34/50 [06:01<02:46, 10.43s/it]"
     ]
    },
    {
     "name": "stdout",
     "output_type": "stream",
     "text": [
      "gens_avg_error: 9.253731343283578 fakes_avg_error: 11.010228425050883 cumulative_avg_error: 10.13197988416723\n"
     ]
    },
    {
     "name": "stderr",
     "output_type": "stream",
     "text": [
      "\r",
      " 70%|#########################################################4                        | 35/50 [06:11<02:35, 10.35s/it]"
     ]
    },
    {
     "name": "stdout",
     "output_type": "stream",
     "text": [
      "gens_avg_error: 9.275793650793652 fakes_avg_error: 11.09650750711918 cumulative_avg_error: 10.186150578956422\n"
     ]
    },
    {
     "name": "stderr",
     "output_type": "stream",
     "text": [
      "\r",
      " 72%|###########################################################                       | 36/50 [06:26<02:43, 11.71s/it]"
     ]
    },
    {
     "name": "stdout",
     "output_type": "stream",
     "text": [
      "gens_avg_error: 9.272997032640951 fakes_avg_error: 11.07347138197442 cumulative_avg_error: 10.17323420730769\n"
     ]
    },
    {
     "name": "stderr",
     "output_type": "stream",
     "text": [
      "\r",
      " 74%|############################################################6                     | 37/50 [06:38<02:32, 11.70s/it]"
     ]
    },
    {
     "name": "stdout",
     "output_type": "stream",
     "text": [
      "gens_avg_error: 9.24556213017751 fakes_avg_error: 11.05057156526248 cumulative_avg_error: 10.148066847719994\n"
     ]
    },
    {
     "name": "stderr",
     "output_type": "stream",
     "text": [
      "\r",
      " 76%|##############################################################3                   | 38/50 [06:49<02:18, 11.56s/it]"
     ]
    },
    {
     "name": "stdout",
     "output_type": "stream",
     "text": [
      "gens_avg_error: 9.218289085545727 fakes_avg_error: 11.037639692405254 cumulative_avg_error: 10.127964388975496\n"
     ]
    },
    {
     "name": "stderr",
     "output_type": "stream",
     "text": [
      "\r",
      " 78%|###############################################################9                  | 39/50 [07:04<02:18, 12.58s/it]"
     ]
    },
    {
     "name": "stdout",
     "output_type": "stream",
     "text": [
      "gens_avg_error: 9.215686274509792 fakes_avg_error: 11.00517604625113 cumulative_avg_error: 10.110431160380461\n"
     ]
    },
    {
     "name": "stderr",
     "output_type": "stream",
     "text": [
      "\r",
      " 80%|#################################################################6                | 40/50 [07:12<01:54, 11.42s/it]"
     ]
    },
    {
     "name": "stdout",
     "output_type": "stream",
     "text": [
      "gens_avg_error: 9.18866080156402 fakes_avg_error: 10.972902802713735 cumulative_avg_error: 10.080781802138873\n"
     ]
    },
    {
     "name": "stderr",
     "output_type": "stream",
     "text": [
      "\r",
      " 82%|###################################################################2              | 41/50 [07:26<01:47, 11.96s/it]"
     ]
    },
    {
     "name": "stdout",
     "output_type": "stream",
     "text": [
      "gens_avg_error: 9.186159844054565 fakes_avg_error: 10.94081829159469 cumulative_avg_error: 10.063489067824626\n"
     ]
    },
    {
     "name": "stderr",
     "output_type": "stream",
     "text": [
      "\r",
      " 84%|####################################################################8             | 42/50 [07:41<01:43, 12.97s/it]"
     ]
    },
    {
     "name": "stdout",
     "output_type": "stream",
     "text": [
      "gens_avg_error: 9.23226433430514 fakes_avg_error: 11.08384797587576 cumulative_avg_error: 10.158056155090446\n"
     ]
    },
    {
     "name": "stderr",
     "output_type": "stream",
     "text": [
      "\r",
      " 86%|######################################################################5           | 43/50 [07:53<01:29, 12.80s/it]"
     ]
    },
    {
     "name": "stdout",
     "output_type": "stream",
     "text": [
      "gens_avg_error: 9.205426356589141 fakes_avg_error: 11.05162748757379 cumulative_avg_error: 10.128526922081459\n"
     ]
    },
    {
     "name": "stderr",
     "output_type": "stream",
     "text": [
      "\r",
      " 88%|########################################################################1         | 44/50 [08:05<01:15, 12.51s/it]"
     ]
    },
    {
     "name": "stdout",
     "output_type": "stream",
     "text": [
      "gens_avg_error: 9.275362318840564 fakes_avg_error: 11.029255620460066 cumulative_avg_error: 10.152308969650313\n"
     ]
    },
    {
     "name": "stderr",
     "output_type": "stream",
     "text": [
      "\r",
      " 90%|#########################################################################8        | 45/50 [08:12<00:54, 10.89s/it]"
     ]
    },
    {
     "name": "stdout",
     "output_type": "stream",
     "text": [
      "gens_avg_error: 9.272639691714812 fakes_avg_error: 11.045548715969334 cumulative_avg_error: 10.159094203842066\n"
     ]
    },
    {
     "name": "stderr",
     "output_type": "stream",
     "text": [
      "\r",
      " 92%|###########################################################################4      | 46/50 [08:25<00:46, 11.56s/it]"
     ]
    },
    {
     "name": "stdout",
     "output_type": "stream",
     "text": [
      "gens_avg_error: 9.269932756964428 fakes_avg_error: 11.02332331140843 cumulative_avg_error: 10.146628034186422\n"
     ]
    },
    {
     "name": "stderr",
     "output_type": "stream",
     "text": [
      "\r",
      " 94%|#############################################################################     | 47/50 [08:36<00:33, 11.30s/it]"
     ]
    },
    {
     "name": "stdout",
     "output_type": "stream",
     "text": [
      "gens_avg_error: 9.24329501915706 fakes_avg_error: 10.991647094996338 cumulative_avg_error: 10.117471057076699\n"
     ]
    },
    {
     "name": "stderr",
     "output_type": "stream",
     "text": [
      "\r",
      " 96%|##############################################################################7   | 48/50 [08:48<00:22, 11.41s/it]"
     ]
    },
    {
     "name": "stdout",
     "output_type": "stream",
     "text": [
      "gens_avg_error: 9.360076408786988 fakes_avg_error: 10.96970350255605 cumulative_avg_error: 10.16488995567152\n"
     ]
    },
    {
     "name": "stderr",
     "output_type": "stream",
     "text": [
      "\r",
      " 98%|################################################################################3 | 49/50 [08:56<00:10, 10.33s/it]"
     ]
    },
    {
     "name": "stdout",
     "output_type": "stream",
     "text": [
      "gens_avg_error: 9.333333333333304 fakes_avg_error: 10.995504349691599 cumulative_avg_error: 10.164418841512447\n"
     ]
    },
    {
     "name": "stderr",
     "output_type": "stream",
     "text": [
      "100%|##################################################################################| 50/50 [09:09<00:00, 11.34s/it]\n",
      "  0%|                                                                                           | 0/50 [00:00<?, ?it/s]"
     ]
    },
    {
     "name": "stdout",
     "output_type": "stream",
     "text": [
      "gens_avg_error: 9.30674264007595 fakes_avg_error: 10.9641781264731 cumulative_avg_error: 10.13546038327453\n"
     ]
    },
    {
     "name": "stderr",
     "output_type": "stream",
     "text": [
      "\r",
      "  2%|#6                                                                                 | 1/50 [00:08<07:12,  8.83s/it]"
     ]
    },
    {
     "name": "stdout",
     "output_type": "stream",
     "text": [
      "gens_avg_error: 9.303977272727238 fakes_avg_error: 10.933029893159263 cumulative_avg_error: 10.11850358294325\n"
     ]
    },
    {
     "name": "stderr",
     "output_type": "stream",
     "text": [
      "\r",
      "  4%|###3                                                                               | 2/50 [00:19<07:23,  9.24s/it]"
     ]
    },
    {
     "name": "stdout",
     "output_type": "stream",
     "text": [
      "gens_avg_error: 9.27762039660054 fakes_avg_error: 10.90205813708799 cumulative_avg_error: 10.089839266844258\n"
     ]
    },
    {
     "name": "stderr",
     "output_type": "stream",
     "text": [
      "\r",
      "  6%|####9                                                                              | 3/50 [00:29<07:29,  9.57s/it]"
     ]
    },
    {
     "name": "stdout",
     "output_type": "stream",
     "text": [
      "gens_avg_error: 9.251412429378503 fakes_avg_error: 10.871261362689433 cumulative_avg_error: 10.061336896033968\n"
     ]
    },
    {
     "name": "stderr",
     "output_type": "stream",
     "text": [
      "\r",
      "  8%|######6                                                                            | 4/50 [00:39<07:26,  9.71s/it]"
     ]
    },
    {
     "name": "stdout",
     "output_type": "stream",
     "text": [
      "gens_avg_error: 9.24882629107977 fakes_avg_error: 10.840638091245236 cumulative_avg_error: 10.04473219116251\n"
     ]
    },
    {
     "name": "stderr",
     "output_type": "stream",
     "text": [
      "\r",
      " 10%|########3                                                                          | 5/50 [00:53<08:09, 10.89s/it]"
     ]
    },
    {
     "name": "stdout",
     "output_type": "stream",
     "text": [
      "gens_avg_error: 9.22284644194753 fakes_avg_error: 10.81018686065185 cumulative_avg_error: 10.016516651299689\n"
     ]
    },
    {
     "name": "stderr",
     "output_type": "stream",
     "text": [
      "\r",
      " 12%|#########9                                                                         | 6/50 [01:01<07:32, 10.29s/it]"
     ]
    },
    {
     "name": "stdout",
     "output_type": "stream",
     "text": [
      "gens_avg_error: 9.22035480859006 fakes_avg_error: 10.835928634151426 cumulative_avg_error: 10.028141721370742\n"
     ]
    },
    {
     "name": "stderr",
     "output_type": "stream",
     "text": [
      "\r",
      " 14%|###########6                                                                       | 7/50 [01:15<07:58, 11.13s/it]"
     ]
    },
    {
     "name": "stdout",
     "output_type": "stream",
     "text": [
      "gens_avg_error: 9.217877094972016 fakes_avg_error: 10.805660677072792 cumulative_avg_error: 10.011768886022399\n"
     ]
    },
    {
     "name": "stderr",
     "output_type": "stream",
     "text": [
      "\r",
      " 16%|#############2                                                                     | 8/50 [01:28<08:12, 11.73s/it]"
     ]
    },
    {
     "name": "stdout",
     "output_type": "stream",
     "text": [
      "gens_avg_error: 9.192200557103014 fakes_avg_error: 10.78516656895301 cumulative_avg_error: 9.988683563028012\n"
     ]
    },
    {
     "name": "stderr",
     "output_type": "stream",
     "text": [
      "\r",
      " 18%|##############9                                                                    | 9/50 [01:40<08:08, 11.92s/it]"
     ]
    },
    {
     "name": "stdout",
     "output_type": "stream",
     "text": [
      "gens_avg_error: 9.189814814814767 fakes_avg_error: 10.77372629144665 cumulative_avg_error: 9.981770553130708\n"
     ]
    },
    {
     "name": "stderr",
     "output_type": "stream",
     "text": [
      "\r",
      " 20%|################4                                                                 | 10/50 [01:54<08:17, 12.43s/it]"
     ]
    },
    {
     "name": "stdout",
     "output_type": "stream",
     "text": [
      "gens_avg_error: 9.164358264081207 fakes_avg_error: 10.743882174295827 cumulative_avg_error: 9.95412021918851\n"
     ]
    },
    {
     "name": "stderr",
     "output_type": "stream",
     "text": [
      "\r",
      " 22%|##################                                                                | 11/50 [02:07<08:14, 12.68s/it]"
     ]
    },
    {
     "name": "stdout",
     "output_type": "stream",
     "text": [
      "gens_avg_error: 9.18508287292813 fakes_avg_error: 10.72341104490091 cumulative_avg_error: 9.954246958914513\n"
     ]
    },
    {
     "name": "stderr",
     "output_type": "stream",
     "text": [
      "\r",
      " 24%|###################6                                                              | 12/50 [02:23<08:42, 13.74s/it]"
     ]
    },
    {
     "name": "stdout",
     "output_type": "stream",
     "text": [
      "gens_avg_error: 9.159779614325025 fakes_avg_error: 10.758149122830485 cumulative_avg_error: 9.95896436857775\n"
     ]
    },
    {
     "name": "stderr",
     "output_type": "stream",
     "text": [
      "\r",
      " 26%|#####################3                                                            | 13/50 [02:33<07:49, 12.70s/it]"
     ]
    },
    {
     "name": "stdout",
     "output_type": "stream",
     "text": [
      "gens_avg_error: 9.157509157509104 fakes_avg_error: 10.728593768097438 cumulative_avg_error: 9.943051462803275\n"
     ]
    },
    {
     "name": "stderr",
     "output_type": "stream",
     "text": [
      "\r",
      " 28%|######################9                                                           | 14/50 [02:42<06:56, 11.57s/it]"
     ]
    },
    {
     "name": "stdout",
     "output_type": "stream",
     "text": [
      "gens_avg_error: 9.178082191780778 fakes_avg_error: 10.708332780604934 cumulative_avg_error: 9.943207486192861\n"
     ]
    },
    {
     "name": "stderr",
     "output_type": "stream",
     "text": [
      "\r",
      " 30%|########################5                                                         | 15/50 [02:55<06:51, 11.76s/it]"
     ]
    },
    {
     "name": "stdout",
     "output_type": "stream",
     "text": [
      "gens_avg_error: 9.175774134790482 fakes_avg_error: 10.679075040767216 cumulative_avg_error: 9.927424587778845\n"
     ]
    },
    {
     "name": "stderr",
     "output_type": "stream",
     "text": [
      "\r",
      " 32%|##########################2                                                       | 16/50 [03:06<06:36, 11.66s/it]"
     ]
    },
    {
     "name": "stdout",
     "output_type": "stream",
     "text": [
      "gens_avg_error: 9.17347865576743 fakes_avg_error: 10.67816428476025 cumulative_avg_error: 9.925821470263841\n"
     ]
    },
    {
     "name": "stderr",
     "output_type": "stream",
     "text": [
      "\r",
      " 34%|###########################8                                                      | 17/50 [03:17<06:14, 11.34s/it]"
     ]
    },
    {
     "name": "stdout",
     "output_type": "stream",
     "text": [
      "gens_avg_error: 9.148550724637627 fakes_avg_error: 10.65820550500094 cumulative_avg_error: 9.903378114819283\n"
     ]
    },
    {
     "name": "stderr",
     "output_type": "stream",
     "text": [
      "\r",
      " 36%|#############################5                                                    | 18/50 [03:31<06:31, 12.24s/it]"
     ]
    },
    {
     "name": "stdout",
     "output_type": "stream",
     "text": [
      "gens_avg_error: 9.123757904245656 fakes_avg_error: 10.629321479242137 cumulative_avg_error: 9.87653969174389\n"
     ]
    },
    {
     "name": "stderr",
     "output_type": "stream",
     "text": [
      "\r",
      " 38%|###############################1                                                  | 19/50 [03:46<06:42, 12.98s/it]"
     ]
    },
    {
     "name": "stdout",
     "output_type": "stream",
     "text": [
      "gens_avg_error: 9.144144144144095 fakes_avg_error: 10.60059358335229 cumulative_avg_error: 9.872368863748193\n"
     ]
    },
    {
     "name": "stderr",
     "output_type": "stream",
     "text": [
      "\r",
      " 40%|################################8                                                 | 20/50 [04:03<07:09, 14.33s/it]"
     ]
    },
    {
     "name": "stdout",
     "output_type": "stream",
     "text": [
      "gens_avg_error: 9.119496855345865 fakes_avg_error: 10.572020554825734 cumulative_avg_error: 9.845758705085794\n"
     ]
    },
    {
     "name": "stderr",
     "output_type": "stream",
     "text": [
      "\r",
      " 42%|##################################4                                               | 21/50 [04:15<06:33, 13.59s/it]"
     ]
    },
    {
     "name": "stdout",
     "output_type": "stream",
     "text": [
      "gens_avg_error: 9.139784946236517 fakes_avg_error: 10.579443438638926 cumulative_avg_error: 9.859614192437727\n"
     ]
    },
    {
     "name": "stderr",
     "output_type": "stream",
     "text": [
      "\r",
      " 44%|####################################                                              | 22/50 [04:24<05:39, 12.13s/it]"
     ]
    },
    {
     "name": "stdout",
     "output_type": "stream",
     "text": [
      "gens_avg_error: 9.115281501340434 fakes_avg_error: 10.613636172941055 cumulative_avg_error: 9.864458837140743\n"
     ]
    },
    {
     "name": "stderr",
     "output_type": "stream",
     "text": [
      "\r",
      " 46%|#####################################7                                            | 23/50 [04:37<05:35, 12.44s/it]"
     ]
    },
    {
     "name": "stdout",
     "output_type": "stream",
     "text": [
      "gens_avg_error: 9.15775401069514 fakes_avg_error: 10.585257466596298 cumulative_avg_error: 9.871505738645725\n"
     ]
    },
    {
     "name": "stderr",
     "output_type": "stream",
     "text": [
      "\r",
      " 48%|#######################################3                                          | 24/50 [04:49<05:20, 12.32s/it]"
     ]
    },
    {
     "name": "stdout",
     "output_type": "stream",
     "text": [
      "gens_avg_error: 9.17777777777774 fakes_avg_error: 10.565919002240932 cumulative_avg_error: 9.87184839000934\n"
     ]
    },
    {
     "name": "stderr",
     "output_type": "stream",
     "text": [
      "\r",
      " 50%|#########################################                                         | 25/50 [04:59<04:53, 11.75s/it]"
     ]
    },
    {
     "name": "stdout",
     "output_type": "stream",
     "text": [
      "gens_avg_error: 9.1533687943262 fakes_avg_error: 10.546683402057678 cumulative_avg_error: 9.850026098191943\n"
     ]
    },
    {
     "name": "stderr",
     "output_type": "stream",
     "text": [
      "\r",
      " 52%|##########################################6                                       | 26/50 [05:11<04:40, 11.70s/it]"
     ]
    },
    {
     "name": "stdout",
     "output_type": "stream",
     "text": [
      "gens_avg_error: 9.129089301503058 fakes_avg_error: 10.52931819409466 cumulative_avg_error: 9.829203747798854\n"
     ]
    },
    {
     "name": "stderr",
     "output_type": "stream",
     "text": [
      "\r",
      " 54%|############################################2                                     | 27/50 [05:20<04:11, 10.92s/it]"
     ]
    },
    {
     "name": "stdout",
     "output_type": "stream",
     "text": [
      "gens_avg_error: 9.104938271604901 fakes_avg_error: 10.501462854956845 cumulative_avg_error: 9.803200563280878\n"
     ]
    },
    {
     "name": "stderr",
     "output_type": "stream",
     "text": [
      "\r",
      " 56%|#############################################9                                    | 28/50 [05:29<03:49, 10.42s/it]"
     ]
    },
    {
     "name": "stdout",
     "output_type": "stream",
     "text": [
      "gens_avg_error: 9.080914687774811 fakes_avg_error: 10.526524958241923 cumulative_avg_error: 9.803719823008361\n"
     ]
    },
    {
     "name": "stderr",
     "output_type": "stream",
     "text": [
      "\r",
      " 58%|###############################################5                                  | 29/50 [05:41<03:48, 10.87s/it]"
     ]
    },
    {
     "name": "stdout",
     "output_type": "stream",
     "text": [
      "gens_avg_error: 9.12280701754382 fakes_avg_error: 10.51636743642198 cumulative_avg_error: 9.819587226982907\n"
     ]
    },
    {
     "name": "stderr",
     "output_type": "stream",
     "text": [
      "\r",
      " 60%|#################################################1                                | 30/50 [05:59<04:19, 12.99s/it]"
     ]
    },
    {
     "name": "stdout",
     "output_type": "stream",
     "text": [
      "gens_avg_error: 9.120734908136441 fakes_avg_error: 10.488765422153158 cumulative_avg_error: 9.804750165144792\n"
     ]
    },
    {
     "name": "stderr",
     "output_type": "stream",
     "text": [
      "\r",
      " 62%|##################################################8                               | 31/50 [06:12<04:07, 13.03s/it]"
     ]
    },
    {
     "name": "stdout",
     "output_type": "stream",
     "text": [
      "gens_avg_error: 9.162303664921422 fakes_avg_error: 10.496211935009647 cumulative_avg_error: 9.829257799965529\n"
     ]
    },
    {
     "name": "stderr",
     "output_type": "stream",
     "text": [
      "\r",
      " 64%|####################################################4                             | 32/50 [06:22<03:36, 12.00s/it]"
     ]
    },
    {
     "name": "stdout",
     "output_type": "stream",
     "text": [
      "gens_avg_error: 9.138381201044343 fakes_avg_error: 10.573245324213277 cumulative_avg_error: 9.85581326262881\n"
     ]
    },
    {
     "name": "stderr",
     "output_type": "stream",
     "text": [
      "\r",
      " 66%|######################################################1                           | 33/50 [06:32<03:13, 11.39s/it]"
     ]
    },
    {
     "name": "stdout",
     "output_type": "stream",
     "text": [
      "gens_avg_error: 9.114583333333293 fakes_avg_error: 10.701960831181479 cumulative_avg_error: 9.908272082257385\n"
     ]
    },
    {
     "name": "stderr",
     "output_type": "stream",
     "text": [
      "\r",
      " 68%|#######################################################7                          | 34/50 [06:42<02:55, 10.95s/it]"
     ]
    },
    {
     "name": "stdout",
     "output_type": "stream",
     "text": [
      "gens_avg_error: 9.090909090909049 fakes_avg_error: 10.674163530321268 cumulative_avg_error: 9.882536310615153\n"
     ]
    },
    {
     "name": "stderr",
     "output_type": "stream",
     "text": [
      "\r",
      " 70%|#########################################################4                        | 35/50 [06:54<02:48, 11.25s/it]"
     ]
    },
    {
     "name": "stdout",
     "output_type": "stream",
     "text": [
      "gens_avg_error: 9.067357512953322 fakes_avg_error: 10.655762662552103 cumulative_avg_error: 9.861560087752718\n"
     ]
    },
    {
     "name": "stderr",
     "output_type": "stream",
     "text": [
      "\r",
      " 72%|###########################################################                       | 36/50 [07:03<02:29, 10.70s/it]"
     ]
    },
    {
     "name": "stdout",
     "output_type": "stream",
     "text": [
      "gens_avg_error: 9.043927648578764 fakes_avg_error: 10.628228392106243 cumulative_avg_error: 9.836078020342498\n"
     ]
    },
    {
     "name": "stderr",
     "output_type": "stream",
     "text": [
      "\r",
      " 74%|############################################################6                     | 37/50 [07:13<02:17, 10.61s/it]"
     ]
    },
    {
     "name": "stdout",
     "output_type": "stream",
     "text": [
      "gens_avg_error: 9.085051546391709 fakes_avg_error: 10.755475226147205 cumulative_avg_error: 9.920263386269458\n"
     ]
    },
    {
     "name": "stderr",
     "output_type": "stream",
     "text": [
      "\r",
      " 76%|##############################################################3                   | 38/50 [07:24<02:07, 10.59s/it]"
     ]
    },
    {
     "name": "stdout",
     "output_type": "stream",
     "text": [
      "gens_avg_error: 9.06169665809764 fakes_avg_error: 10.72782618957614 cumulative_avg_error: 9.894761423836895\n"
     ]
    },
    {
     "name": "stderr",
     "output_type": "stream",
     "text": [
      "\r",
      " 78%|###############################################################9                  | 39/50 [07:34<01:53, 10.30s/it]"
     ]
    },
    {
     "name": "stdout",
     "output_type": "stream",
     "text": [
      "gens_avg_error: 9.038461538461496 fakes_avg_error: 10.700318942936192 cumulative_avg_error: 9.869390240698838\n"
     ]
    },
    {
     "name": "stderr",
     "output_type": "stream",
     "text": [
      "\r",
      " 80%|#################################################################6                | 40/50 [07:45<01:47, 10.77s/it]"
     ]
    },
    {
     "name": "stdout",
     "output_type": "stream",
     "text": [
      "gens_avg_error: 9.015345268542152 fakes_avg_error: 10.690002696705324 cumulative_avg_error: 9.852673982623738\n"
     ]
    },
    {
     "name": "stderr",
     "output_type": "stream",
     "text": [
      "\r",
      " 82%|###################################################################2              | 41/50 [07:53<01:28,  9.83s/it]"
     ]
    },
    {
     "name": "stdout",
     "output_type": "stream",
     "text": [
      "gens_avg_error: 8.992346938775464 fakes_avg_error: 10.764773097989233 cumulative_avg_error: 9.878560018382343\n"
     ]
    },
    {
     "name": "stderr",
     "output_type": "stream",
     "text": [
      "\r",
      " 84%|####################################################################8             | 42/50 [08:01<01:14,  9.32s/it]"
     ]
    },
    {
     "name": "stdout",
     "output_type": "stream",
     "text": [
      "gens_avg_error: 9.075487701441865 fakes_avg_error: 10.762827110462547 cumulative_avg_error: 9.919157405952205\n"
     ]
    },
    {
     "name": "stderr",
     "output_type": "stream",
     "text": [
      "\r",
      " 86%|######################################################################5           | 43/50 [08:13<01:09,  9.98s/it]"
     ]
    },
    {
     "name": "stdout",
     "output_type": "stream",
     "text": [
      "gens_avg_error: 9.137055837563413 fakes_avg_error: 10.769351237931769 cumulative_avg_error: 9.95320353774759\n"
     ]
    },
    {
     "name": "stderr",
     "output_type": "stream",
     "text": [
      "\r",
      " 88%|########################################################################1         | 44/50 [08:31<01:15, 12.60s/it]"
     ]
    },
    {
     "name": "stdout",
     "output_type": "stream",
     "text": [
      "gens_avg_error: 9.113924050632871 fakes_avg_error: 10.76921183154278 cumulative_avg_error: 9.941567941087825\n"
     ]
    },
    {
     "name": "stderr",
     "output_type": "stream",
     "text": [
      "\r",
      " 90%|#########################################################################8        | 45/50 [08:40<00:56, 11.38s/it]"
     ]
    },
    {
     "name": "stdout",
     "output_type": "stream",
     "text": [
      "gens_avg_error: 9.11195286195281 fakes_avg_error: 10.767269377422728 cumulative_avg_error: 9.939611119687775\n"
     ]
    },
    {
     "name": "stderr",
     "output_type": "stream",
     "text": [
      "\r",
      " 92%|###########################################################################4      | 46/50 [08:50<00:43, 10.91s/it]"
     ]
    },
    {
     "name": "stdout",
     "output_type": "stream",
     "text": [
      "gens_avg_error: 9.089000839630511 fakes_avg_error: 10.740147792089171 cumulative_avg_error: 9.914574315859848\n"
     ]
    },
    {
     "name": "stderr",
     "output_type": "stream",
     "text": [
      "\r",
      " 94%|#############################################################################     | 47/50 [08:58<00:29,  9.99s/it]"
     ]
    },
    {
     "name": "stdout",
     "output_type": "stream",
     "text": [
      "gens_avg_error: 9.066164154103806 fakes_avg_error: 10.713162496129147 cumulative_avg_error: 9.889663325116471\n"
     ]
    },
    {
     "name": "stderr",
     "output_type": "stream",
     "text": [
      "\r",
      " 96%|##############################################################################7   | 48/50 [09:06<00:18,  9.45s/it]"
     ]
    },
    {
     "name": "stdout",
     "output_type": "stream",
     "text": [
      "gens_avg_error: 9.04344193817873 fakes_avg_error: 10.84504262354069 cumulative_avg_error: 9.944242280859704\n"
     ]
    },
    {
     "name": "stderr",
     "output_type": "stream",
     "text": [
      "\r",
      " 98%|################################################################################3 | 49/50 [09:14<00:08,  8.98s/it]"
     ]
    },
    {
     "name": "stdout",
     "output_type": "stream",
     "text": [
      "gens_avg_error: 9.062499999999963 fakes_avg_error: 10.817930016981837 cumulative_avg_error: 9.940215008490894\n"
     ]
    },
    {
     "name": "stderr",
     "output_type": "stream",
     "text": [
      "100%|##################################################################################| 50/50 [09:22<00:00,  8.71s/it]\n",
      "  0%|                                                                                           | 0/50 [00:00<?, ?it/s]"
     ]
    },
    {
     "name": "stdout",
     "output_type": "stream",
     "text": [
      "gens_avg_error: 9.060681629260136 fakes_avg_error: 10.824202843207143 cumulative_avg_error: 9.942442236233639\n"
     ]
    },
    {
     "name": "stderr",
     "output_type": "stream",
     "text": [
      "\r",
      "  2%|#6                                                                                 | 1/50 [00:09<08:08,  9.97s/it]"
     ]
    },
    {
     "name": "stdout",
     "output_type": "stream",
     "text": [
      "gens_avg_error: 9.058872305140909 fakes_avg_error: 10.797276965487724 cumulative_avg_error: 9.92807463531431\n"
     ]
    },
    {
     "name": "stderr",
     "output_type": "stream",
     "text": [
      "\r",
      "  4%|###3                                                                               | 2/50 [00:20<08:03, 10.08s/it]"
     ]
    },
    {
     "name": "stdout",
     "output_type": "stream",
     "text": [
      "gens_avg_error: 9.036393713813018 fakes_avg_error: 10.820112506516288 cumulative_avg_error: 9.928253110164654\n"
     ]
    },
    {
     "name": "stderr",
     "output_type": "stream",
     "text": [
      "\r",
      "  6%|####9                                                                              | 3/50 [00:28<07:26,  9.50s/it]"
     ]
    },
    {
     "name": "stdout",
     "output_type": "stream",
     "text": [
      "gens_avg_error: 9.075907590759025 fakes_avg_error: 10.793330049816996 cumulative_avg_error: 9.93461882028801\n"
     ]
    },
    {
     "name": "stderr",
     "output_type": "stream",
     "text": [
      "\r",
      "  8%|######6                                                                            | 4/50 [00:42<08:21, 10.91s/it]"
     ]
    },
    {
     "name": "stdout",
     "output_type": "stream",
     "text": [
      "gens_avg_error: 9.074074074074023 fakes_avg_error: 10.783140757512921 cumulative_avg_error: 9.928607415793467\n"
     ]
    },
    {
     "name": "stderr",
     "output_type": "stream",
     "text": [
      "\r",
      " 10%|########3                                                                          | 5/50 [00:51<07:46, 10.37s/it]"
     ]
    },
    {
     "name": "stdout",
     "output_type": "stream",
     "text": [
      "gens_avg_error: 9.051724137930982 fakes_avg_error: 10.764791478143021 cumulative_avg_error: 9.908257808037002\n"
     ]
    },
    {
     "name": "stderr",
     "output_type": "stream",
     "text": [
      "\r",
      " 12%|#########9                                                                         | 6/50 [00:59<06:59,  9.53s/it]"
     ]
    },
    {
     "name": "stdout",
     "output_type": "stream",
     "text": [
      "gens_avg_error: 9.04995904995899 fakes_avg_error: 10.746532367222116 cumulative_avg_error: 9.898245708590547\n"
     ]
    },
    {
     "name": "stderr",
     "output_type": "stream",
     "text": [
      "\r",
      " 14%|###########6                                                                       | 7/50 [01:12<07:40, 10.71s/it]"
     ]
    },
    {
     "name": "stdout",
     "output_type": "stream",
     "text": [
      "gens_avg_error: 9.027777777777713 fakes_avg_error: 10.720192827106379 cumulative_avg_error: 9.873985302442046\n"
     ]
    },
    {
     "name": "stderr",
     "output_type": "stream",
     "text": [
      "\r",
      " 16%|#############2                                                                     | 8/50 [01:20<06:49,  9.75s/it]"
     ]
    },
    {
     "name": "stdout",
     "output_type": "stream",
     "text": [
      "gens_avg_error: 9.005704971475081 fakes_avg_error: 10.702132045948021 cumulative_avg_error: 9.853918508711557\n"
     ]
    },
    {
     "name": "stderr",
     "output_type": "stream",
     "text": [
      "\r",
      " 18%|##############9                                                                    | 9/50 [01:31<07:00, 10.26s/it]"
     ]
    },
    {
     "name": "stdout",
     "output_type": "stream",
     "text": [
      "gens_avg_error: 8.98373983739832 fakes_avg_error: 10.676029284860345 cumulative_avg_error: 9.829884561129331\n"
     ]
    },
    {
     "name": "stderr",
     "output_type": "stream",
     "text": [
      "\r",
      " 20%|################4                                                                 | 10/50 [01:44<07:16, 10.90s/it]"
     ]
    },
    {
     "name": "stdout",
     "output_type": "stream",
     "text": [
      "gens_avg_error: 8.982157339821505 fakes_avg_error: 10.650053544507877 cumulative_avg_error: 9.816105442164691\n"
     ]
    },
    {
     "name": "stderr",
     "output_type": "stream",
     "text": [
      "\r",
      " 22%|##################                                                                | 11/50 [01:51<06:27,  9.93s/it]"
     ]
    },
    {
     "name": "stdout",
     "output_type": "stream",
     "text": [
      "gens_avg_error: 8.960355987054946 fakes_avg_error: 10.624203899982376 cumulative_avg_error: 9.792279943518656\n"
     ]
    },
    {
     "name": "stderr",
     "output_type": "stream",
     "text": [
      "\r",
      " 24%|###################6                                                              | 12/50 [02:01<06:12,  9.81s/it]"
     ]
    },
    {
     "name": "stdout",
     "output_type": "stream",
     "text": [
      "gens_avg_error: 8.938660209846583 fakes_avg_error: 10.63076353541421 cumulative_avg_error: 9.784711872630393\n"
     ]
    },
    {
     "name": "stderr",
     "output_type": "stream",
     "text": [
      "\r",
      " 26%|#####################3                                                            | 13/50 [02:09<05:47,  9.39s/it]"
     ]
    },
    {
     "name": "stdout",
     "output_type": "stream",
     "text": [
      "gens_avg_error: 8.99758454106273 fakes_avg_error: 10.605085362623356 cumulative_avg_error: 9.801334951843044\n"
     ]
    },
    {
     "name": "stderr",
     "output_type": "stream",
     "text": [
      "\r",
      " 28%|######################9                                                           | 14/50 [02:17<05:19,  8.88s/it]"
     ]
    },
    {
     "name": "stdout",
     "output_type": "stream",
     "text": [
      "gens_avg_error: 9.016064257028045 fakes_avg_error: 10.65985222520338 cumulative_avg_error: 9.837958241115707\n"
     ]
    },
    {
     "name": "stderr",
     "output_type": "stream",
     "text": [
      "\r",
      " 30%|########################5                                                         | 15/50 [02:27<05:20,  9.15s/it]"
     ]
    },
    {
     "name": "stdout",
     "output_type": "stream",
     "text": [
      "gens_avg_error: 8.994391025640958 fakes_avg_error: 10.754419888123568 cumulative_avg_error: 9.874405456882263\n"
     ]
    },
    {
     "name": "stderr",
     "output_type": "stream",
     "text": [
      "\r",
      " 32%|##########################2                                                       | 16/50 [02:38<05:36,  9.90s/it]"
     ]
    },
    {
     "name": "stdout",
     "output_type": "stream",
     "text": [
      "gens_avg_error: 9.05275779376492 fakes_avg_error: 10.728629912372668 cumulative_avg_error: 9.8906938530688\n"
     ]
    },
    {
     "name": "stderr",
     "output_type": "stream",
     "text": [
      "\r",
      " 34%|###########################8                                                      | 17/50 [02:50<05:48, 10.56s/it]"
     ]
    },
    {
     "name": "stdout",
     "output_type": "stream",
     "text": [
      "gens_avg_error: 9.051036682615553 fakes_avg_error: 10.70296333363494 cumulative_avg_error: 9.877000008125247\n"
     ]
    },
    {
     "name": "stderr",
     "output_type": "stream",
     "text": [
      "\r",
      " 36%|#############################5                                                    | 18/50 [02:59<05:18,  9.95s/it]"
     ]
    },
    {
     "name": "stdout",
     "output_type": "stream",
     "text": [
      "gens_avg_error: 9.049323786793872 fakes_avg_error: 10.685374717882434 cumulative_avg_error: 9.867349252338153\n"
     ]
    },
    {
     "name": "stderr",
     "output_type": "stream",
     "text": [
      "\r",
      " 38%|###############################1                                                  | 19/50 [03:10<05:17, 10.24s/it]"
     ]
    },
    {
     "name": "stdout",
     "output_type": "stream",
     "text": [
      "gens_avg_error: 9.047619047618971 fakes_avg_error: 10.659933349506524 cumulative_avg_error: 9.853776198562747\n"
     ]
    },
    {
     "name": "stderr",
     "output_type": "stream",
     "text": [
      "\r",
      " 40%|################################8                                                 | 20/50 [03:16<04:32,  9.08s/it]"
     ]
    },
    {
     "name": "stdout",
     "output_type": "stream",
     "text": [
      "gens_avg_error: 9.026128266033172 fakes_avg_error: 10.658365811859237 cumulative_avg_error: 9.842247038946205\n"
     ]
    },
    {
     "name": "stderr",
     "output_type": "stream",
     "text": [
      "\r",
      " 42%|##################################4                                               | 21/50 [03:24<04:14,  8.77s/it]"
     ]
    },
    {
     "name": "stdout",
     "output_type": "stream",
     "text": [
      "gens_avg_error: 9.004739336492806 fakes_avg_error: 10.68050238576479 cumulative_avg_error: 9.842620861128793\n"
     ]
    },
    {
     "name": "stderr",
     "output_type": "stream",
     "text": [
      "\r",
      " 44%|####################################                                              | 22/50 [03:36<04:28,  9.59s/it]"
     ]
    },
    {
     "name": "stdout",
     "output_type": "stream",
     "text": [
      "gens_avg_error: 8.98345153664295 fakes_avg_error: 10.655252971141227 cumulative_avg_error: 9.819352253892088\n"
     ]
    },
    {
     "name": "stderr",
     "output_type": "stream",
     "text": [
      "\r",
      " 46%|#####################################7                                            | 23/50 [03:46<04:26,  9.87s/it]"
     ]
    },
    {
     "name": "stdout",
     "output_type": "stream",
     "text": [
      "gens_avg_error: 8.96226415094331 fakes_avg_error: 10.63012265753005 cumulative_avg_error: 9.796193404236675\n"
     ]
    },
    {
     "name": "stderr",
     "output_type": "stream",
     "text": [
      "\r",
      " 48%|#######################################3                                          | 24/50 [03:55<04:07,  9.52s/it]"
     ]
    },
    {
     "name": "stdout",
     "output_type": "stream",
     "text": [
      "gens_avg_error: 8.941176470588152 fakes_avg_error: 10.620796878728012 cumulative_avg_error: 9.780986674658077\n"
     ]
    },
    {
     "name": "stderr",
     "output_type": "stream",
     "text": [
      "\r",
      " 50%|#########################################                                         | 25/50 [04:05<03:57,  9.50s/it]"
     ]
    },
    {
     "name": "stdout",
     "output_type": "stream",
     "text": [
      "gens_avg_error: 8.939749608763615 fakes_avg_error: 10.611514882925055 cumulative_avg_error: 9.775632245844335\n"
     ]
    },
    {
     "name": "stderr",
     "output_type": "stream",
     "text": [
      "\r",
      " 52%|##########################################6                                       | 26/50 [04:12<03:31,  8.79s/it]"
     ]
    },
    {
     "name": "stdout",
     "output_type": "stream",
     "text": [
      "gens_avg_error: 8.918813427010065 fakes_avg_error: 10.58666356001422 cumulative_avg_error: 9.752738493512147\n"
     ]
    },
    {
     "name": "stderr",
     "output_type": "stream",
     "text": [
      "\r",
      " 54%|############################################2                                     | 27/50 [04:19<03:11,  8.31s/it]"
     ]
    },
    {
     "name": "stdout",
     "output_type": "stream",
     "text": [
      "gens_avg_error: 8.936915887850382 fakes_avg_error: 10.561928364780549 cumulative_avg_error: 9.749422126315466\n"
     ]
    },
    {
     "name": "stderr",
     "output_type": "stream",
     "text": [
      "\r",
      " 56%|#############################################9                                    | 28/50 [04:29<03:14,  8.85s/it]"
     ]
    },
    {
     "name": "stdout",
     "output_type": "stream",
     "text": [
      "gens_avg_error: 8.99378399378391 fakes_avg_error: 10.537308485142361 cumulative_avg_error: 9.76554623946313\n"
     ]
    },
    {
     "name": "stderr",
     "output_type": "stream",
     "text": [
      "\r",
      " 58%|###############################################5                                  | 29/50 [04:40<03:21,  9.60s/it]"
     ]
    },
    {
     "name": "stdout",
     "output_type": "stream",
     "text": [
      "gens_avg_error: 8.992248062015417 fakes_avg_error: 10.543810868510239 cumulative_avg_error: 9.768029465262828\n"
     ]
    },
    {
     "name": "stderr",
     "output_type": "stream",
     "text": [
      "\r",
      " 60%|#################################################1                                | 30/50 [04:53<03:29, 10.49s/it]"
     ]
    },
    {
     "name": "stdout",
     "output_type": "stream",
     "text": [
      "gens_avg_error: 8.971384377416769 fakes_avg_error: 10.558017030454925 cumulative_avg_error: 9.764700703935848\n"
     ]
    },
    {
     "name": "stderr",
     "output_type": "stream",
     "text": [
      "\r",
      " 62%|##################################################8                               | 31/50 [05:01<03:05,  9.74s/it]"
     ]
    },
    {
     "name": "stdout",
     "output_type": "stream",
     "text": [
      "gens_avg_error: 8.950617283950535 fakes_avg_error: 10.680182114489368 cumulative_avg_error: 9.81539969921995\n"
     ]
    },
    {
     "name": "stderr",
     "output_type": "stream",
     "text": [
      "\r",
      " 64%|####################################################4                             | 32/50 [05:12<03:04, 10.24s/it]"
     ]
    },
    {
     "name": "stdout",
     "output_type": "stream",
     "text": [
      "gens_avg_error: 8.968437259430251 fakes_avg_error: 10.655516566880852 cumulative_avg_error: 9.81197691315555\n"
     ]
    },
    {
     "name": "stderr",
     "output_type": "stream",
     "text": [
      "\r",
      " 66%|######################################################1                           | 33/50 [05:23<02:57, 10.46s/it]"
     ]
    },
    {
     "name": "stdout",
     "output_type": "stream",
     "text": [
      "gens_avg_error: 9.043778801843239 fakes_avg_error: 10.638645176941807 cumulative_avg_error: 9.841211989392518\n"
     ]
    },
    {
     "name": "stderr",
     "output_type": "stream",
     "text": [
      "\r",
      " 68%|#######################################################7                          | 34/50 [05:39<03:14, 12.16s/it]"
     ]
    },
    {
     "name": "stdout",
     "output_type": "stream",
     "text": [
      "gens_avg_error: 9.080459770114867 fakes_avg_error: 10.614188521362621 cumulative_avg_error: 9.847324145738746\n"
     ]
    },
    {
     "name": "stderr",
     "output_type": "stream",
     "text": [
      "\r",
      " 70%|#########################################################4                        | 35/50 [05:50<02:54, 11.62s/it]"
     ]
    },
    {
     "name": "stdout",
     "output_type": "stream",
     "text": [
      "gens_avg_error: 9.059633027522862 fakes_avg_error: 10.58984405227693 cumulative_avg_error: 9.82473853989989\n"
     ]
    },
    {
     "name": "stderr",
     "output_type": "stream",
     "text": [
      "\r",
      " 72%|###########################################################                       | 36/50 [05:58<02:26, 10.50s/it]"
     ]
    },
    {
     "name": "stdout",
     "output_type": "stream",
     "text": [
      "gens_avg_error: 9.038901601830585 fakes_avg_error: 10.702910770692775 cumulative_avg_error: 9.870906186261674\n"
     ]
    },
    {
     "name": "stderr",
     "output_type": "stream",
     "text": [
      "\r",
      " 74%|############################################################6                     | 37/50 [06:09<02:18, 10.67s/it]"
     ]
    },
    {
     "name": "stdout",
     "output_type": "stream",
     "text": [
      "gens_avg_error: 9.018264840182566 fakes_avg_error: 10.678474901353297 cumulative_avg_error: 9.848369870767936\n"
     ]
    },
    {
     "name": "stderr",
     "output_type": "stream",
     "text": [
      "\r",
      " 76%|##############################################################3                   | 38/50 [06:18<02:01, 10.13s/it]"
     ]
    },
    {
     "name": "stdout",
     "output_type": "stream",
     "text": [
      "gens_avg_error: 8.9977220956719 fakes_avg_error: 10.775638587986514 cumulative_avg_error: 9.886680341829202\n"
     ]
    },
    {
     "name": "stderr",
     "output_type": "stream",
     "text": [
      "\r",
      " 78%|###############################################################9                  | 39/50 [06:28<01:51, 10.11s/it]"
     ]
    },
    {
     "name": "stdout",
     "output_type": "stream",
     "text": [
      "gens_avg_error: 8.977272727272645 fakes_avg_error: 10.751148500286545 cumulative_avg_error: 9.864210613779601\n"
     ]
    },
    {
     "name": "stderr",
     "output_type": "stream",
     "text": [
      "\r",
      " 80%|#################################################################6                | 40/50 [06:39<01:44, 10.49s/it]"
     ]
    },
    {
     "name": "stdout",
     "output_type": "stream",
     "text": [
      "gens_avg_error: 8.975812547241036 fakes_avg_error: 10.773684796595228 cumulative_avg_error: 9.874748671918132\n"
     ]
    },
    {
     "name": "stderr",
     "output_type": "stream",
     "text": [
      "\r",
      " 82%|###################################################################2              | 41/50 [06:47<01:26,  9.63s/it]"
     ]
    },
    {
     "name": "stdout",
     "output_type": "stream",
     "text": [
      "gens_avg_error: 8.993212669683182 fakes_avg_error: 10.756851422243962 cumulative_avg_error: 9.875032045963572\n"
     ]
    },
    {
     "name": "stderr",
     "output_type": "stream",
     "text": [
      "\r",
      " 84%|####################################################################8             | 42/50 [06:56<01:16,  9.54s/it]"
     ]
    },
    {
     "name": "stdout",
     "output_type": "stream",
     "text": [
      "gens_avg_error: 8.972911963882545 fakes_avg_error: 10.845436407746789 cumulative_avg_error: 9.909174185814674\n"
     ]
    },
    {
     "name": "stderr",
     "output_type": "stream",
     "text": [
      "\r",
      " 86%|######################################################################5           | 43/50 [07:09<01:13, 10.56s/it]"
     ]
    },
    {
     "name": "stdout",
     "output_type": "stream",
     "text": [
      "gens_avg_error: 8.971471471471393 fakes_avg_error: 10.828517256678305 cumulative_avg_error: 9.89999436407485\n"
     ]
    },
    {
     "name": "stderr",
     "output_type": "stream",
     "text": [
      "\r",
      " 88%|########################################################################1         | 44/50 [07:19<01:02, 10.46s/it]"
     ]
    },
    {
     "name": "stdout",
     "output_type": "stream",
     "text": [
      "gens_avg_error: 8.951310861423146 fakes_avg_error: 10.804183510034083 cumulative_avg_error: 9.877747185728614\n"
     ]
    },
    {
     "name": "stderr",
     "output_type": "stream",
     "text": [
      "\r",
      " 90%|#########################################################################8        | 45/50 [07:28<00:49,  9.87s/it]"
     ]
    },
    {
     "name": "stdout",
     "output_type": "stream",
     "text": [
      "gens_avg_error: 8.93124065769798 fakes_avg_error: 10.794906566439089 cumulative_avg_error: 9.86307361206853\n"
     ]
    },
    {
     "name": "stderr",
     "output_type": "stream",
     "text": [
      "\r",
      " 92%|###########################################################################4      | 46/50 [07:38<00:40, 10.18s/it]"
     ]
    },
    {
     "name": "stdout",
     "output_type": "stream",
     "text": [
      "gens_avg_error: 9.004474272930574 fakes_avg_error: 10.770756887319532 cumulative_avg_error: 9.887615580125054\n"
     ]
    },
    {
     "name": "stderr",
     "output_type": "stream",
     "text": [
      "\r",
      " 94%|#############################################################################     | 47/50 [07:49<00:30, 10.22s/it]"
     ]
    },
    {
     "name": "stdout",
     "output_type": "stream",
     "text": [
      "gens_avg_error: 8.984374999999922 fakes_avg_error: 10.7626588968185 cumulative_avg_error: 9.873516948409211\n"
     ]
    },
    {
     "name": "stderr",
     "output_type": "stream",
     "text": [
      "\r",
      " 96%|##############################################################################7   | 48/50 [07:59<00:20, 10.11s/it]"
     ]
    },
    {
     "name": "stdout",
     "output_type": "stream",
     "text": [
      "gens_avg_error: 9.001484780994728 fakes_avg_error: 10.753536419691212 cumulative_avg_error: 9.877510600342966\n"
     ]
    },
    {
     "name": "stderr",
     "output_type": "stream",
     "text": [
      "\r",
      " 98%|################################################################################3 | 49/50 [08:10<00:10, 10.49s/it]"
     ]
    },
    {
     "name": "stdout",
     "output_type": "stream",
     "text": [
      "gens_avg_error: 8.981481481481413 fakes_avg_error: 10.737047079499307 cumulative_avg_error: 9.859264280490354\n"
     ]
    },
    {
     "name": "stderr",
     "output_type": "stream",
     "text": [
      "100%|##################################################################################| 50/50 [08:22<00:00, 10.79s/it]\n",
      "  0%|                                                                                           | 0/50 [00:00<?, ?it/s]"
     ]
    },
    {
     "name": "stdout",
     "output_type": "stream",
     "text": [
      "gens_avg_error: 8.961566888396089 fakes_avg_error: 10.728021845767977 cumulative_avg_error: 9.844794367082033\n"
     ]
    },
    {
     "name": "stderr",
     "output_type": "stream",
     "text": [
      "\r",
      "  2%|#6                                                                                 | 1/50 [00:12<09:54, 12.13s/it]"
     ]
    },
    {
     "name": "stdout",
     "output_type": "stream",
     "text": [
      "gens_avg_error: 8.941740412979282 fakes_avg_error: 10.719036546699169 cumulative_avg_error: 9.830388479839225\n"
     ]
    },
    {
     "name": "stderr",
     "output_type": "stream",
     "text": [
      "\r",
      "  4%|###3                                                                               | 2/50 [00:21<08:55, 11.16s/it]"
     ]
    },
    {
     "name": "stdout",
     "output_type": "stream",
     "text": [
      "gens_avg_error: 8.940397350993301 fakes_avg_error: 10.695374214366494 cumulative_avg_error: 9.817885782679902\n"
     ]
    },
    {
     "name": "stderr",
     "output_type": "stream",
     "text": [
      "\r",
      "  6%|####9                                                                              | 3/50 [00:30<08:26, 10.77s/it]"
     ]
    },
    {
     "name": "stdout",
     "output_type": "stream",
     "text": [
      "gens_avg_error: 8.920704845814898 fakes_avg_error: 10.701184697007394 cumulative_avg_error: 9.810944771411146\n"
     ]
    },
    {
     "name": "stderr",
     "output_type": "stream",
     "text": [
      "\r",
      "  8%|######6                                                                            | 4/50 [00:38<07:32,  9.83s/it]"
     ]
    },
    {
     "name": "stdout",
     "output_type": "stream",
     "text": [
      "gens_avg_error: 8.901098901098825 fakes_avg_error: 10.677665609761222 cumulative_avg_error: 9.789382255430024\n"
     ]
    },
    {
     "name": "stderr",
     "output_type": "stream",
     "text": [
      "\r",
      " 10%|########3                                                                          | 5/50 [00:46<06:54,  9.21s/it]"
     ]
    },
    {
     "name": "stdout",
     "output_type": "stream",
     "text": [
      "gens_avg_error: 8.881578947368352 fakes_avg_error: 10.65424967640648 cumulative_avg_error: 9.767914311887417\n"
     ]
    },
    {
     "name": "stderr",
     "output_type": "stream",
     "text": [
      "\r",
      " 12%|#########9                                                                         | 6/50 [00:57<07:11,  9.81s/it]"
     ]
    },
    {
     "name": "stdout",
     "output_type": "stream",
     "text": [
      "gens_avg_error: 8.916849015317208 fakes_avg_error: 10.630936219784148 cumulative_avg_error: 9.773892617550683\n"
     ]
    },
    {
     "name": "stderr",
     "output_type": "stream",
     "text": [
      "\r",
      " 14%|###########6                                                                       | 7/50 [01:06<06:48,  9.51s/it]"
     ]
    },
    {
     "name": "stdout",
     "output_type": "stream",
     "text": [
      "gens_avg_error: 8.897379912663684 fakes_avg_error: 10.607724568649246 cumulative_avg_error: 9.752552240656465\n"
     ]
    },
    {
     "name": "stderr",
     "output_type": "stream",
     "text": [
      "\r",
      " 16%|#############2                                                                     | 8/50 [01:16<06:44,  9.63s/it]"
     ]
    },
    {
     "name": "stdout",
     "output_type": "stream",
     "text": [
      "gens_avg_error: 8.877995642701453 fakes_avg_error: 10.59268312885633 cumulative_avg_error: 9.735339385778886\n"
     ]
    },
    {
     "name": "stderr",
     "output_type": "stream",
     "text": [
      "\r",
      " 18%|##############9                                                                    | 9/50 [01:25<06:28,  9.49s/it]"
     ]
    },
    {
     "name": "stdout",
     "output_type": "stream",
     "text": [
      "gens_avg_error: 8.858695652173843 fakes_avg_error: 10.707336716257366 cumulative_avg_error: 9.783016184215597\n"
     ]
    },
    {
     "name": "stderr",
     "output_type": "stream",
     "text": [
      "\r",
      " 20%|################4                                                                 | 10/50 [01:37<06:53, 10.35s/it]"
     ]
    },
    {
     "name": "stdout",
     "output_type": "stream",
     "text": [
      "gens_avg_error: 8.893709327548738 fakes_avg_error: 10.684110389324053 cumulative_avg_error: 9.78890985843639\n"
     ]
    },
    {
     "name": "stderr",
     "output_type": "stream",
     "text": [
      "\r",
      " 22%|##################                                                                | 11/50 [01:46<06:20,  9.76s/it]"
     ]
    },
    {
     "name": "stdout",
     "output_type": "stream",
     "text": [
      "gens_avg_error: 9.01875901875895 fakes_avg_error: 10.668199616475594 cumulative_avg_error: 9.843479317617266\n"
     ]
    },
    {
     "name": "stderr",
     "output_type": "stream",
     "text": [
      "\r",
      " 24%|###################6                                                              | 12/50 [01:56<06:17,  9.93s/it]"
     ]
    },
    {
     "name": "stdout",
     "output_type": "stream",
     "text": [
      "gens_avg_error: 8.999280057595326 fakes_avg_error: 10.666756420759672 cumulative_avg_error: 9.833018239177505\n"
     ]
    },
    {
     "name": "stderr",
     "output_type": "stream",
     "text": [
      "\r",
      " 26%|#####################3                                                            | 13/50 [02:10<06:51, 11.11s/it]"
     ]
    },
    {
     "name": "stdout",
     "output_type": "stream",
     "text": [
      "gens_avg_error: 9.033764367816023 fakes_avg_error: 10.72279071008274 cumulative_avg_error: 9.878277538949387\n"
     ]
    },
    {
     "name": "stderr",
     "output_type": "stream",
     "text": [
      "\r",
      " 28%|######################9                                                           | 14/50 [02:24<07:10, 11.97s/it]"
     ]
    },
    {
     "name": "stdout",
     "output_type": "stream",
     "text": [
      "gens_avg_error: 9.068100358422871 fakes_avg_error: 10.699730945114826 cumulative_avg_error: 9.883915651768849\n"
     ]
    },
    {
     "name": "stderr",
     "output_type": "stream",
     "text": [
      "\r",
      " 30%|########################5                                                         | 15/50 [02:38<07:27, 12.80s/it]"
     ]
    },
    {
     "name": "stdout",
     "output_type": "stream",
     "text": [
      "gens_avg_error: 9.04864091559363 fakes_avg_error: 10.67677014909526 cumulative_avg_error: 9.862705532344451\n"
     ]
    },
    {
     "name": "stderr",
     "output_type": "stream",
     "text": [
      "\r",
      " 32%|##########################2                                                       | 16/50 [02:50<07:05, 12.52s/it]"
     ]
    },
    {
     "name": "stdout",
     "output_type": "stream",
     "text": [
      "gens_avg_error: 9.064953604568105 fakes_avg_error: 10.653907686249243 cumulative_avg_error: 9.859430645408674\n"
     ]
    },
    {
     "name": "stderr",
     "output_type": "stream",
     "text": [
      "\r",
      " 34%|###########################8                                                      | 17/50 [03:00<06:20, 11.54s/it]"
     ]
    },
    {
     "name": "stdout",
     "output_type": "stream",
     "text": [
      "gens_avg_error: 9.06339031339024 fakes_avg_error: 10.631142926235881 cumulative_avg_error: 9.847266619813055\n"
     ]
    },
    {
     "name": "stderr",
     "output_type": "stream",
     "text": [
      "\r",
      " 36%|#############################5                                                    | 18/50 [03:09<05:49, 10.93s/it]"
     ]
    },
    {
     "name": "stdout",
     "output_type": "stream",
     "text": [
      "gens_avg_error: 9.044065387348898 fakes_avg_error: 10.608475244090387 cumulative_avg_error: 9.826270315719643\n"
     ]
    },
    {
     "name": "stderr",
     "output_type": "stream",
     "text": [
      "\r",
      " 38%|###############################1                                                  | 19/50 [03:20<05:34, 10.78s/it]"
     ]
    },
    {
     "name": "stdout",
     "output_type": "stream",
     "text": [
      "gens_avg_error: 9.060283687943194 fakes_avg_error: 10.60008841732991 cumulative_avg_error: 9.830186052636547\n"
     ]
    },
    {
     "name": "stderr",
     "output_type": "stream",
     "text": [
      "\r",
      " 40%|################################8                                                 | 20/50 [03:29<05:07, 10.25s/it]"
     ]
    },
    {
     "name": "stdout",
     "output_type": "stream",
     "text": [
      "gens_avg_error: 9.12951167728232 fakes_avg_error: 10.584660062586826 cumulative_avg_error: 9.857085869934568\n"
     ]
    },
    {
     "name": "stderr",
     "output_type": "stream",
     "text": [
      "\r",
      " 42%|##################################4                                               | 21/50 [03:37<04:43,  9.79s/it]"
     ]
    },
    {
     "name": "stdout",
     "output_type": "stream",
     "text": [
      "gens_avg_error: 9.110169491525365 fakes_avg_error: 10.682291432510727 cumulative_avg_error: 9.89623046201804\n"
     ]
    },
    {
     "name": "stderr",
     "output_type": "stream",
     "text": [
      "\r",
      " 44%|####################################                                              | 22/50 [03:47<04:30,  9.68s/it]"
     ]
    },
    {
     "name": "stdout",
     "output_type": "stream",
     "text": [
      "gens_avg_error: 9.090909090909028 fakes_avg_error: 10.765415552103729 cumulative_avg_error: 9.928162321506374\n"
     ]
    },
    {
     "name": "stderr",
     "output_type": "stream",
     "text": [
      "\r",
      " 46%|#####################################7                                            | 23/50 [04:00<04:50, 10.77s/it]"
     ]
    },
    {
     "name": "stdout",
     "output_type": "stream",
     "text": [
      "gens_avg_error: 9.071729957805852 fakes_avg_error: 10.855221285819406 cumulative_avg_error: 9.963475621812634\n"
     ]
    },
    {
     "name": "stderr",
     "output_type": "stream",
     "text": [
      "\r",
      " 48%|#######################################3                                          | 24/50 [04:09<04:24, 10.16s/it]"
     ]
    },
    {
     "name": "stdout",
     "output_type": "stream",
     "text": [
      "gens_avg_error: 9.087719298245556 fakes_avg_error: 10.832368188375574 cumulative_avg_error: 9.960043743310564\n"
     ]
    },
    {
     "name": "stderr",
     "output_type": "stream",
     "text": [
      "\r",
      " 50%|#########################################                                         | 25/50 [04:24<04:51, 11.66s/it]"
     ]
    },
    {
     "name": "stdout",
     "output_type": "stream",
     "text": [
      "gens_avg_error: 9.138655462184818 fakes_avg_error: 10.809611112349582 cumulative_avg_error: 9.974133287267195\n"
     ]
    },
    {
     "name": "stderr",
     "output_type": "stream",
     "text": [
      "\r",
      " 52%|##########################################6                                       | 26/50 [04:36<04:41, 11.73s/it]"
     ]
    },
    {
     "name": "stdout",
     "output_type": "stream",
     "text": [
      "gens_avg_error: 9.136967155835018 fakes_avg_error: 10.786949453833117 cumulative_avg_error: 9.961958304834063\n"
     ]
    },
    {
     "name": "stderr",
     "output_type": "stream",
     "text": [
      "\r",
      " 54%|############################################2                                     | 27/50 [04:48<04:34, 11.92s/it]"
     ]
    },
    {
     "name": "stdout",
     "output_type": "stream",
     "text": [
      "gens_avg_error: 9.117852161785155 fakes_avg_error: 10.803124284512378 cumulative_avg_error: 9.960488223148767\n"
     ]
    },
    {
     "name": "stderr",
     "output_type": "stream",
     "text": [
      "\r",
      " 56%|#############################################9                                    | 28/50 [05:00<04:19, 11.78s/it]"
     ]
    },
    {
     "name": "stdout",
     "output_type": "stream",
     "text": [
      "gens_avg_error: 9.098816979819002 fakes_avg_error: 10.780570789137611 cumulative_avg_error: 9.939693884478306\n"
     ]
    },
    {
     "name": "stderr",
     "output_type": "stream",
     "text": [
      "\r",
      " 58%|###############################################5                                  | 29/50 [05:09<03:50, 10.97s/it]"
     ]
    },
    {
     "name": "stdout",
     "output_type": "stream",
     "text": [
      "gens_avg_error: 9.079861111111043 fakes_avg_error: 10.758111266660242 cumulative_avg_error: 9.918986188885647\n"
     ]
    },
    {
     "name": "stderr",
     "output_type": "stream",
     "text": [
      "\r",
      " 60%|#################################################1                                | 30/50 [05:19<03:33, 10.67s/it]"
     ]
    },
    {
     "name": "stdout",
     "output_type": "stream",
     "text": [
      "gens_avg_error: 9.060984060984001 fakes_avg_error: 10.749605144830731 cumulative_avg_error: 9.905294602907366\n"
     ]
    },
    {
     "name": "stderr",
     "output_type": "stream",
     "text": [
      "\r",
      " 62%|##################################################8                               | 31/50 [05:28<03:16, 10.33s/it]"
     ]
    },
    {
     "name": "stdout",
     "output_type": "stream",
     "text": [
      "gens_avg_error: 9.059474412171442 fakes_avg_error: 10.734218688790287 cumulative_avg_error: 9.896846550480864\n"
     ]
    },
    {
     "name": "stderr",
     "output_type": "stream",
     "text": [
      "\r",
      " 64%|####################################################4                             | 32/50 [05:38<03:03, 10.17s/it]"
     ]
    },
    {
     "name": "stdout",
     "output_type": "stream",
     "text": [
      "gens_avg_error: 9.04071773636984 fakes_avg_error: 10.711994633533994 cumulative_avg_error: 9.876356184951918\n"
     ]
    },
    {
     "name": "stderr",
     "output_type": "stream",
     "text": [
      "\r",
      " 66%|######################################################1                           | 33/50 [05:47<02:47,  9.83s/it]"
     ]
    },
    {
     "name": "stdout",
     "output_type": "stream",
     "text": [
      "gens_avg_error: 9.039256198347035 fakes_avg_error: 10.696749465558375 cumulative_avg_error: 9.868002831952705\n"
     ]
    },
    {
     "name": "stderr",
     "output_type": "stream",
     "text": [
      "\r",
      " 68%|#######################################################7                          | 34/50 [05:59<02:48, 10.55s/it]"
     ]
    },
    {
     "name": "stdout",
     "output_type": "stream",
     "text": [
      "gens_avg_error: 9.089347079037724 fakes_avg_error: 10.674694312021138 cumulative_avg_error: 9.882020695529437\n"
     ]
    },
    {
     "name": "stderr",
     "output_type": "stream",
     "text": [
      "\r",
      " 70%|#########################################################4                        | 35/50 [06:10<02:36, 10.46s/it]"
     ]
    },
    {
     "name": "stdout",
     "output_type": "stream",
     "text": [
      "gens_avg_error: 9.070644718792797 fakes_avg_error: 10.652729920432623 cumulative_avg_error: 9.861687319612711\n"
     ]
    },
    {
     "name": "stderr",
     "output_type": "stream",
     "text": [
      "\r",
      " 72%|###########################################################                       | 36/50 [06:18<02:19,  9.95s/it]"
     ]
    },
    {
     "name": "stdout",
     "output_type": "stream",
     "text": [
      "gens_avg_error: 9.05201916495544 fakes_avg_error: 10.630855731684296 cumulative_avg_error: 9.841437448319867\n"
     ]
    },
    {
     "name": "stderr",
     "output_type": "stream",
     "text": [
      "\r",
      " 74%|############################################################6                     | 37/50 [06:28<02:06,  9.75s/it]"
     ]
    },
    {
     "name": "stdout",
     "output_type": "stream",
     "text": [
      "gens_avg_error: 9.067622950819597 fakes_avg_error: 10.609071191250518 cumulative_avg_error: 9.83834707103506\n"
     ]
    },
    {
     "name": "stderr",
     "output_type": "stream",
     "text": [
      "\r",
      " 76%|##############################################################3                   | 38/50 [06:37<01:54,  9.57s/it]"
     ]
    },
    {
     "name": "stdout",
     "output_type": "stream",
     "text": [
      "gens_avg_error: 9.083162917518683 fakes_avg_error: 10.594192381725131 cumulative_avg_error: 9.838677649621907\n"
     ]
    },
    {
     "name": "stderr",
     "output_type": "stream",
     "text": [
      "\r",
      " 78%|###############################################################9                  | 39/50 [06:47<01:45,  9.63s/it]"
     ]
    },
    {
     "name": "stdout",
     "output_type": "stream",
     "text": [
      "gens_avg_error: 9.098639455782253 fakes_avg_error: 10.5725715809461 cumulative_avg_error: 9.835605518364176\n"
     ]
    },
    {
     "name": "stderr",
     "output_type": "stream",
     "text": [
      "\r",
      " 80%|#################################################################6                | 40/50 [06:57<01:38,  9.85s/it]"
     ]
    },
    {
     "name": "stdout",
     "output_type": "stream",
     "text": [
      "gens_avg_error: 9.097080787508416 fakes_avg_error: 10.566125218067201 cumulative_avg_error: 9.831603002787803\n"
     ]
    },
    {
     "name": "stderr",
     "output_type": "stream",
     "text": [
      "\r",
      " 82%|###################################################################2              | 41/50 [07:11<01:40, 11.19s/it]"
     ]
    },
    {
     "name": "stdout",
     "output_type": "stream",
     "text": [
      "gens_avg_error: 9.11246612466119 fakes_avg_error: 10.571749624805548 cumulative_avg_error: 9.842107874733363\n"
     ]
    },
    {
     "name": "stderr",
     "output_type": "stream",
     "text": [
      "\r",
      " 84%|####################################################################8             | 42/50 [07:21<01:26, 10.76s/it]"
     ]
    },
    {
     "name": "stdout",
     "output_type": "stream",
     "text": [
      "gens_avg_error: 9.093982420554369 fakes_avg_error: 10.631441816235954 cumulative_avg_error: 9.862712118395155\n"
     ]
    },
    {
     "name": "stderr",
     "output_type": "stream",
     "text": [
      "\r",
      " 86%|######################################################################5           | 43/50 [07:33<01:18, 11.28s/it]"
     ]
    },
    {
     "name": "stdout",
     "output_type": "stream",
     "text": [
      "gens_avg_error: 9.075573549257697 fakes_avg_error: 10.751621083814422 cumulative_avg_error: 9.91359731653606\n"
     ]
    },
    {
     "name": "stderr",
     "output_type": "stream",
     "text": [
      "\r",
      " 88%|########################################################################1         | 44/50 [07:41<01:01, 10.23s/it]"
     ]
    },
    {
     "name": "stdout",
     "output_type": "stream",
     "text": [
      "gens_avg_error: 9.124579124579057 fakes_avg_error: 10.736634643914467 cumulative_avg_error: 9.930606884246762\n"
     ]
    },
    {
     "name": "stderr",
     "output_type": "stream",
     "text": [
      "\r",
      " 90%|#########################################################################8        | 45/50 [07:53<00:53, 10.72s/it]"
     ]
    },
    {
     "name": "stdout",
     "output_type": "stream",
     "text": [
      "gens_avg_error: 9.156586021505309 fakes_avg_error: 10.835955945035614 cumulative_avg_error: 9.996270983270461\n"
     ]
    },
    {
     "name": "stderr",
     "output_type": "stream",
     "text": [
      "\r",
      " 92%|###########################################################################4      | 46/50 [08:04<00:43, 10.79s/it]"
     ]
    },
    {
     "name": "stdout",
     "output_type": "stream",
     "text": [
      "gens_avg_error: 9.238765928906712 fakes_avg_error: 10.821605336904149 cumulative_avg_error: 10.03018563290543\n"
     ]
    },
    {
     "name": "stderr",
     "output_type": "stream",
     "text": [
      "\r",
      " 94%|#############################################################################     | 47/50 [08:16<00:33, 11.05s/it]"
     ]
    },
    {
     "name": "stdout",
     "output_type": "stream",
     "text": [
      "gens_avg_error: 9.220214190093646 fakes_avg_error: 10.834496449300623 cumulative_avg_error: 10.02735531969714\n"
     ]
    },
    {
     "name": "stderr",
     "output_type": "stream",
     "text": [
      "\r",
      " 96%|##############################################################################7   | 48/50 [08:22<00:19,  9.64s/it]"
     ]
    },
    {
     "name": "stdout",
     "output_type": "stream",
     "text": [
      "gens_avg_error: 9.201736806947158 fakes_avg_error: 10.859544218607297 cumulative_avg_error: 10.030640512777222\n"
     ]
    },
    {
     "name": "stderr",
     "output_type": "stream",
     "text": [
      "\r",
      " 98%|################################################################################3 | 49/50 [08:30<00:09,  9.28s/it]"
     ]
    },
    {
     "name": "stdout",
     "output_type": "stream",
     "text": [
      "gens_avg_error: 9.183333333333266 fakes_avg_error: 10.857825130170095 cumulative_avg_error: 10.02057923175168\n"
     ]
    },
    {
     "name": "stderr",
     "output_type": "stream",
     "text": [
      "100%|##################################################################################| 50/50 [08:39<00:00,  9.18s/it]\n",
      "  0%|                                                                                           | 0/50 [00:00<?, ?it/s]"
     ]
    },
    {
     "name": "stdout",
     "output_type": "stream",
     "text": [
      "gens_avg_error: 9.16500332667991 fakes_avg_error: 10.889379704095226 cumulative_avg_error: 10.027191515387567\n"
     ]
    },
    {
     "name": "stderr",
     "output_type": "stream",
     "text": [
      "\r",
      "  2%|#6                                                                                 | 1/50 [00:05<04:20,  5.32s/it]"
     ]
    },
    {
     "name": "stdout",
     "output_type": "stream",
     "text": [
      "gens_avg_error: 9.146746347941503 fakes_avg_error: 10.88096792513621 cumulative_avg_error: 10.013857136538862\n"
     ]
    },
    {
     "name": "stderr",
     "output_type": "stream",
     "text": [
      "\r",
      "  4%|###3                                                                               | 2/50 [00:10<04:16,  5.35s/it]"
     ]
    },
    {
     "name": "stdout",
     "output_type": "stream",
     "text": [
      "gens_avg_error: 9.145129224652015 fakes_avg_error: 10.859335782143887 cumulative_avg_error: 10.002232503397956\n"
     ]
    },
    {
     "name": "stderr",
     "output_type": "stream",
     "text": [
      "\r",
      "  6%|####9                                                                              | 3/50 [00:21<05:26,  6.95s/it]"
     ]
    },
    {
     "name": "stdout",
     "output_type": "stream",
     "text": [
      "gens_avg_error: 9.143518518518444 fakes_avg_error: 10.857630750830117 cumulative_avg_error: 10.000574634674276\n"
     ]
    },
    {
     "name": "stderr",
     "output_type": "stream",
     "text": [
      "\r",
      "  8%|######6                                                                            | 4/50 [00:30<05:47,  7.55s/it]"
     ]
    },
    {
     "name": "stdout",
     "output_type": "stream",
     "text": [
      "gens_avg_error: 9.141914191419065 fakes_avg_error: 10.842731151983598 cumulative_avg_error: 9.992322671701338\n"
     ]
    },
    {
     "name": "stderr",
     "output_type": "stream",
     "text": [
      "\r",
      " 10%|########3                                                                          | 5/50 [00:41<06:28,  8.63s/it]"
     ]
    },
    {
     "name": "stdout",
     "output_type": "stream",
     "text": [
      "gens_avg_error: 9.140316205533516 fakes_avg_error: 10.834478060115382 cumulative_avg_error: 9.98739713282445\n"
     ]
    },
    {
     "name": "stderr",
     "output_type": "stream",
     "text": [
      "\r",
      " 12%|#########9                                                                         | 6/50 [00:50<06:26,  8.78s/it]"
     ]
    },
    {
     "name": "stdout",
     "output_type": "stream",
     "text": [
      "gens_avg_error: 9.155161078237928 fakes_avg_error: 10.82625752482258 cumulative_avg_error: 9.990709301530254\n"
     ]
    },
    {
     "name": "stderr",
     "output_type": "stream",
     "text": [
      "\r",
      " 14%|###########6                                                                       | 7/50 [01:02<06:59,  9.76s/it]"
     ]
    },
    {
     "name": "stdout",
     "output_type": "stream",
     "text": [
      "gens_avg_error: 9.169947506561604 fakes_avg_error: 10.811507674051935 cumulative_avg_error: 9.990727590306768\n"
     ]
    },
    {
     "name": "stderr",
     "output_type": "stream",
     "text": [
      "\r",
      " 16%|#############2                                                                     | 8/50 [01:13<07:03, 10.08s/it]"
     ]
    },
    {
     "name": "stdout",
     "output_type": "stream",
     "text": [
      "gens_avg_error: 9.151931892599796 fakes_avg_error: 10.790266990998788 cumulative_avg_error: 9.971099441799291\n"
     ]
    },
    {
     "name": "stderr",
     "output_type": "stream",
     "text": [
      "\r",
      " 18%|##############9                                                                    | 9/50 [01:21<06:29,  9.50s/it]"
     ]
    },
    {
     "name": "stdout",
     "output_type": "stream",
     "text": [
      "gens_avg_error: 9.1666666666666 fakes_avg_error: 10.769109604741933 cumulative_avg_error: 9.96788813570426\n"
     ]
    },
    {
     "name": "stderr",
     "output_type": "stream",
     "text": [
      "\r",
      " 20%|################4                                                                 | 10/50 [01:30<06:07,  9.18s/it]"
     ]
    },
    {
     "name": "stdout",
     "output_type": "stream",
     "text": [
      "gens_avg_error: 9.181343770384798 fakes_avg_error: 10.748035026259062 cumulative_avg_error: 9.964689398321935\n"
     ]
    },
    {
     "name": "stderr",
     "output_type": "stream",
     "text": [
      "\r",
      " 22%|##################                                                                | 11/50 [01:41<06:27,  9.94s/it]"
     ]
    },
    {
     "name": "stdout",
     "output_type": "stream",
     "text": [
      "gens_avg_error: 9.16341145833327 fakes_avg_error: 10.727042770348405 cumulative_avg_error: 9.945227114340838\n"
     ]
    },
    {
     "name": "stderr",
     "output_type": "stream",
     "text": [
      "\r",
      " 24%|###################6                                                              | 12/50 [01:47<05:28,  8.63s/it]"
     ]
    },
    {
     "name": "stdout",
     "output_type": "stream",
     "text": [
      "gens_avg_error: 9.161793372319627 fakes_avg_error: 10.706132355591391 cumulative_avg_error: 9.933962863955514\n"
     ]
    },
    {
     "name": "stderr",
     "output_type": "stream",
     "text": [
      "\r",
      " 26%|#####################3                                                            | 13/50 [01:56<05:26,  8.83s/it]"
     ]
    },
    {
     "name": "stdout",
     "output_type": "stream",
     "text": [
      "gens_avg_error: 9.143968871595265 fakes_avg_error: 10.68530330431592 cumulative_avg_error: 9.914636087955596\n"
     ]
    },
    {
     "name": "stderr",
     "output_type": "stream",
     "text": [
      "\r",
      " 28%|######################9                                                           | 14/50 [02:07<05:35,  9.32s/it]"
     ]
    },
    {
     "name": "stdout",
     "output_type": "stream",
     "text": [
      "gens_avg_error: 9.142394822006406 fakes_avg_error: 10.664555142559973 cumulative_avg_error: 9.90347498228319\n"
     ]
    },
    {
     "name": "stderr",
     "output_type": "stream",
     "text": [
      "\r",
      " 30%|########################5                                                         | 15/50 [02:19<05:56, 10.17s/it]"
     ]
    },
    {
     "name": "stdout",
     "output_type": "stream",
     "text": [
      "gens_avg_error: 9.124677002583914 fakes_avg_error: 10.643887400035624 cumulative_avg_error: 9.88428220130977\n"
     ]
    },
    {
     "name": "stderr",
     "output_type": "stream",
     "text": [
      "\r",
      " 32%|##########################2                                                       | 16/50 [02:29<05:44, 10.12s/it]"
     ]
    },
    {
     "name": "stdout",
     "output_type": "stream",
     "text": [
      "gens_avg_error: 9.107027724048933 fakes_avg_error: 10.656648506245114 cumulative_avg_error: 9.881838115147023\n"
     ]
    },
    {
     "name": "stderr",
     "output_type": "stream",
     "text": [
      "\r",
      " 34%|###########################8                                                      | 17/50 [02:41<05:53, 10.70s/it]"
     ]
    },
    {
     "name": "stdout",
     "output_type": "stream",
     "text": [
      "gens_avg_error: 9.089446589446515 fakes_avg_error: 10.636075825731128 cumulative_avg_error: 9.862761207588822\n"
     ]
    },
    {
     "name": "stderr",
     "output_type": "stream",
     "text": [
      "\r",
      " 36%|#############################5                                                    | 18/50 [02:52<05:45, 10.79s/it]"
     ]
    },
    {
     "name": "stdout",
     "output_type": "stream",
     "text": [
      "gens_avg_error: 9.07193320488111 fakes_avg_error: 10.647695461262806 cumulative_avg_error: 9.85981433307196\n"
     ]
    },
    {
     "name": "stderr",
     "output_type": "stream",
     "text": [
      "\r",
      " 38%|###############################1                                                  | 19/50 [03:03<05:33, 10.76s/it]"
     ]
    },
    {
     "name": "stdout",
     "output_type": "stream",
     "text": [
      "gens_avg_error: 9.102564102564036 fakes_avg_error: 10.627219123837294 cumulative_avg_error: 9.864891613200665\n"
     ]
    },
    {
     "name": "stderr",
     "output_type": "stream",
     "text": [
      "\r",
      " 40%|################################8                                                 | 20/50 [03:12<05:11, 10.40s/it]"
     ]
    },
    {
     "name": "stdout",
     "output_type": "stream",
     "text": [
      "gens_avg_error: 9.149072296864935 fakes_avg_error: 10.606821390394227 cumulative_avg_error: 9.877946843629582\n"
     ]
    },
    {
     "name": "stderr",
     "output_type": "stream",
     "text": [
      "\r",
      " 42%|##################################4                                               | 21/50 [03:21<04:47,  9.92s/it]"
     ]
    },
    {
     "name": "stdout",
     "output_type": "stream",
     "text": [
      "gens_avg_error: 9.131545338441816 fakes_avg_error: 10.599273201268321 cumulative_avg_error: 9.865409269855064\n"
     ]
    },
    {
     "name": "stderr",
     "output_type": "stream",
     "text": [
      "\r",
      " 44%|####################################                                              | 22/50 [03:33<04:52, 10.43s/it]"
     ]
    },
    {
     "name": "stdout",
     "output_type": "stream",
     "text": [
      "gens_avg_error: 9.11408540471631 fakes_avg_error: 10.687356171565444 cumulative_avg_error: 9.900720788140882\n"
     ]
    },
    {
     "name": "stderr",
     "output_type": "stream",
     "text": [
      "\r",
      " 46%|#####################################7                                            | 23/50 [03:43<04:38, 10.31s/it]"
     ]
    },
    {
     "name": "stdout",
     "output_type": "stream",
     "text": [
      "gens_avg_error: 9.096692111959214 fakes_avg_error: 10.666960453680774 cumulative_avg_error: 9.881826282819993\n"
     ]
    },
    {
     "name": "stderr",
     "output_type": "stream",
     "text": [
      "\r",
      " 48%|#######################################3                                          | 24/50 [03:53<04:26, 10.26s/it]"
     ]
    },
    {
     "name": "stdout",
     "output_type": "stream",
     "text": [
      "gens_avg_error: 9.07936507936501 fakes_avg_error: 10.69743608456265 cumulative_avg_error: 9.888400581963829\n"
     ]
    },
    {
     "name": "stderr",
     "output_type": "stream",
     "text": [
      "\r",
      " 50%|#########################################                                         | 25/50 [04:02<04:08,  9.95s/it]"
     ]
    },
    {
     "name": "stdout",
     "output_type": "stream",
     "text": [
      "gens_avg_error: 9.125475285171024 fakes_avg_error: 10.761593895132771 cumulative_avg_error: 9.943534590151891\n"
     ]
    },
    {
     "name": "stderr",
     "output_type": "stream",
     "text": [
      "\r",
      " 52%|##########################################6                                       | 26/50 [04:12<04:01, 10.06s/it]"
     ]
    },
    {
     "name": "stdout",
     "output_type": "stream",
     "text": [
      "gens_avg_error: 9.139784946236485 fakes_avg_error: 10.74749852404777 cumulative_avg_error: 9.943641735142128\n"
     ]
    },
    {
     "name": "stderr",
     "output_type": "stream",
     "text": [
      "\r",
      " 54%|############################################2                                     | 27/50 [04:24<04:01, 10.52s/it]"
     ]
    },
    {
     "name": "stdout",
     "output_type": "stream",
     "text": [
      "gens_avg_error: 9.122474747474673 fakes_avg_error: 10.796587857651218 cumulative_avg_error: 9.95953130256295\n"
     ]
    },
    {
     "name": "stderr",
     "output_type": "stream",
     "text": [
      "\r",
      " 56%|#############################################9                                    | 28/50 [04:32<03:38,  9.91s/it]"
     ]
    },
    {
     "name": "stdout",
     "output_type": "stream",
     "text": [
      "gens_avg_error: 9.136735979836097 fakes_avg_error: 10.783179759061523 cumulative_avg_error: 9.959957869448811\n"
     ]
    },
    {
     "name": "stderr",
     "output_type": "stream",
     "text": [
      "\r",
      " 58%|###############################################5                                  | 29/50 [04:44<03:40, 10.50s/it]"
     ]
    },
    {
     "name": "stdout",
     "output_type": "stream",
     "text": [
      "gens_avg_error: 9.119496855345844 fakes_avg_error: 10.794280677755118 cumulative_avg_error: 9.956888766550476\n"
     ]
    },
    {
     "name": "stderr",
     "output_type": "stream",
     "text": [
      "\r",
      " 60%|#################################################1                                | 30/50 [04:55<03:34, 10.73s/it]"
     ]
    },
    {
     "name": "stdout",
     "output_type": "stream",
     "text": [
      "gens_avg_error: 9.133709981167549 fakes_avg_error: 10.773952465555958 cumulative_avg_error: 9.953831223361753\n"
     ]
    },
    {
     "name": "stderr",
     "output_type": "stream",
     "text": [
      "\r",
      " 62%|##################################################8                               | 31/50 [05:04<03:12, 10.14s/it]"
     ]
    },
    {
     "name": "stdout",
     "output_type": "stream",
     "text": [
      "gens_avg_error: 9.11654135338339 fakes_avg_error: 10.760662524274267 cumulative_avg_error: 9.938601938828828\n"
     ]
    },
    {
     "name": "stderr",
     "output_type": "stream",
     "text": [
      "\r",
      " 64%|####################################################4                             | 32/50 [05:13<02:56,  9.82s/it]"
     ]
    },
    {
     "name": "stdout",
     "output_type": "stream",
     "text": [
      "gens_avg_error: 9.115071919949902 fakes_avg_error: 10.740473664003591 cumulative_avg_error: 9.927772791976741\n"
     ]
    },
    {
     "name": "stderr",
     "output_type": "stream",
     "text": [
      "\r",
      " 66%|######################################################1                           | 33/50 [05:23<02:44,  9.66s/it]"
     ]
    },
    {
     "name": "stdout",
     "output_type": "stream",
     "text": [
      "gens_avg_error: 9.113607990012419 fakes_avg_error: 10.732844811948649 cumulative_avg_error: 9.923226400980534\n"
     ]
    },
    {
     "name": "stderr",
     "output_type": "stream",
     "text": [
      "\r",
      " 68%|#######################################################7                          | 34/50 [05:34<02:42, 10.16s/it]"
     ]
    },
    {
     "name": "stdout",
     "output_type": "stream",
     "text": [
      "gens_avg_error: 9.127725856697754 fakes_avg_error: 10.712783419776784 cumulative_avg_error: 9.92025463823727\n"
     ]
    },
    {
     "name": "stderr",
     "output_type": "stream",
     "text": [
      "\r",
      " 70%|#########################################################4                        | 35/50 [05:42<02:23,  9.58s/it]"
     ]
    },
    {
     "name": "stdout",
     "output_type": "stream",
     "text": [
      "gens_avg_error: 9.172885572139233 fakes_avg_error: 10.692796883545853 cumulative_avg_error: 9.932841227842548\n"
     ]
    },
    {
     "name": "stderr",
     "output_type": "stream",
     "text": [
      "\r",
      " 72%|###########################################################                       | 36/50 [05:54<02:22, 10.17s/it]"
     ]
    },
    {
     "name": "stdout",
     "output_type": "stream",
     "text": [
      "gens_avg_error: 9.171322160148899 fakes_avg_error: 10.67288478506625 cumulative_avg_error: 9.92210347260758\n"
     ]
    },
    {
     "name": "stderr",
     "output_type": "stream",
     "text": [
      "\r",
      " 74%|############################################################6                     | 37/50 [06:06<02:22, 10.94s/it]"
     ]
    },
    {
     "name": "stdout",
     "output_type": "stream",
     "text": [
      "gens_avg_error: 9.185254027261392 fakes_avg_error: 10.653046709257586 cumulative_avg_error: 9.919150368259489\n"
     ]
    },
    {
     "name": "stderr",
     "output_type": "stream",
     "text": [
      "\r",
      " 76%|##############################################################3                   | 38/50 [06:19<02:17, 11.42s/it]"
     ]
    },
    {
     "name": "stdout",
     "output_type": "stream",
     "text": [
      "gens_avg_error: 9.168212739641247 fakes_avg_error: 10.633282244119812 cumulative_avg_error: 9.900747491880523\n"
     ]
    },
    {
     "name": "stderr",
     "output_type": "stream",
     "text": [
      "\r",
      " 78%|###############################################################9                  | 39/50 [06:29<01:59, 10.88s/it]"
     ]
    },
    {
     "name": "stdout",
     "output_type": "stream",
     "text": [
      "gens_avg_error: 9.151234567901167 fakes_avg_error: 10.613590980704778 cumulative_avg_error: 9.882412774302974\n"
     ]
    },
    {
     "name": "stderr",
     "output_type": "stream",
     "text": [
      "\r",
      " 80%|#################################################################6                | 40/50 [06:38<01:43, 10.32s/it]"
     ]
    },
    {
     "name": "stdout",
     "output_type": "stream",
     "text": [
      "gens_avg_error: 9.165126309303695 fakes_avg_error: 10.593972513087946 cumulative_avg_error: 9.879549411195821\n"
     ]
    },
    {
     "name": "stderr",
     "output_type": "stream",
     "text": [
      "\r",
      " 82%|###################################################################2              | 41/50 [06:48<01:34, 10.46s/it]"
     ]
    },
    {
     "name": "stdout",
     "output_type": "stream",
     "text": [
      "gens_avg_error: 9.14821648216475 fakes_avg_error: 10.574426438340556 cumulative_avg_error: 9.861321460252647\n"
     ]
    },
    {
     "name": "stderr",
     "output_type": "stream",
     "text": [
      "\r",
      " 84%|####################################################################8             | 42/50 [07:01<01:27, 10.98s/it]"
     ]
    },
    {
     "name": "stdout",
     "output_type": "stream",
     "text": [
      "gens_avg_error: 9.131368937998708 fakes_avg_error: 10.554952356501989 cumulative_avg_error: 9.843160647250349\n"
     ]
    },
    {
     "name": "stderr",
     "output_type": "stream",
     "text": [
      "\r",
      " 86%|######################################################################5           | 43/50 [07:14<01:21, 11.60s/it]"
     ]
    },
    {
     "name": "stdout",
     "output_type": "stream",
     "text": [
      "gens_avg_error: 9.145220588235237 fakes_avg_error: 10.53554987055253 cumulative_avg_error: 9.840385229393878\n"
     ]
    },
    {
     "name": "stderr",
     "output_type": "stream",
     "text": [
      "\r",
      " 88%|########################################################################1         | 44/50 [07:26<01:10, 11.75s/it]"
     ]
    },
    {
     "name": "stdout",
     "output_type": "stream",
     "text": [
      "gens_avg_error: 9.128440366972413 fakes_avg_error: 10.516218586386383 cumulative_avg_error: 9.822329476679403\n"
     ]
    },
    {
     "name": "stderr",
     "output_type": "stream",
     "text": [
      "\r",
      " 90%|#########################################################################8        | 45/50 [07:31<00:49,  9.88s/it]"
     ]
    },
    {
     "name": "stdout",
     "output_type": "stream",
     "text": [
      "gens_avg_error: 9.142246642246587 fakes_avg_error: 10.503063118889955 cumulative_avg_error: 9.82265488056827\n"
     ]
    },
    {
     "name": "stderr",
     "output_type": "stream",
     "text": [
      "\r",
      " 92%|###########################################################################4      | 46/50 [07:44<00:42, 10.71s/it]"
     ]
    },
    {
     "name": "stdout",
     "output_type": "stream",
     "text": [
      "gens_avg_error: 9.140767824497198 fakes_avg_error: 10.496049597039459 cumulative_avg_error: 9.818408710768335\n"
     ]
    },
    {
     "name": "stderr",
     "output_type": "stream",
     "text": [
      "\r",
      " 94%|#############################################################################     | 47/50 [07:56<00:33, 11.00s/it]"
     ]
    },
    {
     "name": "stdout",
     "output_type": "stream",
     "text": [
      "gens_avg_error: 9.154501216544952 fakes_avg_error: 10.476896221862376 cumulative_avg_error: 9.81569871920367\n"
     ]
    },
    {
     "name": "stderr",
     "output_type": "stream",
     "text": [
      "\r",
      " 96%|##############################################################################7   | 48/50 [08:06<00:21, 10.74s/it]"
     ]
    },
    {
     "name": "stdout",
     "output_type": "stream",
     "text": [
      "gens_avg_error: 9.137826350941047 fakes_avg_error: 10.457812622186847 cumulative_avg_error: 9.797819486563952\n"
     ]
    },
    {
     "name": "stderr",
     "output_type": "stream",
     "text": [
      "\r",
      " 98%|################################################################################3 | 49/50 [08:13<00:09,  9.80s/it]"
     ]
    },
    {
     "name": "stdout",
     "output_type": "stream",
     "text": [
      "gens_avg_error: 9.121212121212064 fakes_avg_error: 10.438798417419237 cumulative_avg_error: 9.78000526931565\n"
     ]
    },
    {
     "name": "stderr",
     "output_type": "stream",
     "text": [
      "100%|##################################################################################| 50/50 [08:23<00:00,  9.78s/it]\n"
     ]
    }
   ],
   "source": [
    "DECISION_THRESHOLD = 0.4\n",
    "scores_sum = 0\n",
    "run_count = 0\n",
    "gens_sum = 0\n",
    "gens_r_count = 0\n",
    "fakes_sum = 0\n",
    "fakes_r_count = 0\n",
    "randoms_sum = 0\n",
    "randoms_r_count = 0\n",
    "\n",
    "for fold in np.arange(0,11):\n",
    "    user_numbers = data_f['user_id'].unique()\n",
    "    np.random.shuffle(user_numbers)\n",
    "    dev_user_ids = user_numbers[0:531]\n",
    "    validation_user_ids = user_numbers[531:581]\n",
    "    exploitation_user_ids = user_numbers[581:]\n",
    "\n",
    "    dev_df = data_f.loc[data_f['user_id'].isin(dev_user_ids)]\n",
    "    dev_vf = visual_f.loc[dev_df.index]\n",
    "    val_df = data_f.loc[data_f['user_id'].isin(validation_user_ids)]\n",
    "    val_vf = visual_f.loc[val_df.index]\n",
    "    exp_df = data_f.loc[data_f['user_id'].isin(exploitation_user_ids)]\n",
    "    exp_vf = visual_f.loc[exp_df.index]\n",
    "\n",
    "    dev_df_gen = dev_df.loc[dev_df['fakeness']==0]\n",
    "    dev_df_fake = dev_df.loc[dev_df['fakeness']==1]\n",
    "    dev_df_gen_12 = dev_df_gen.loc[dev_df_gen['sig_id'].isin(np.arange(1,13))]\n",
    "    dev_df_valid_12 = dev_df_gen.loc[dev_df_gen['sig_id'].isin(np.arange(13,25))]\n",
    "\n",
    "    val_df_gen = val_df.loc[val_df['fakeness']==0]\n",
    "    val_df_fake = val_df.loc[val_df['fakeness']==1]\n",
    "    val_df_gen_12 = val_df_gen.loc[val_df_gen['sig_id'].isin(np.arange(1,13))]\n",
    "    val_df_valid_gen_12 = val_df_gen.loc[val_df_gen['sig_id'].isin(np.arange(13,25))]\n",
    "\n",
    "\n",
    "    for user_id in tqdm.tqdm(validation_user_ids, ascii=True):\n",
    "        clf = SVC(C=1,gamma='scale',class_weight='balanced', probability=True, kernel='linear', random_state=1923, cache_size=200) # gens avg: 0.9433333333333331 fakes_avg: 0.8593333333333333 cumulative_avg: 0.9013333333333332\n",
    "        # gens_avg_error: 9.121212121212064 fakes_avg_error: 10.438798417419237 cumulative_avg_error: 9.78000526931565\n",
    "        y_train = y_train=(pd.concat([val_df_gen_12.loc[val_df_gen_12['user_id']==user_id],dev_df_gen]))['user_id']==user_id\n",
    "        X_train = visual_f.loc[y_train.index]  \n",
    "        clf.fit(X_train, y_train)\n",
    "\n",
    "        y_valid_fakes = val_df_fake.loc[(val_df_fake['user_id']==user_id)]\n",
    "        y_valid_f = len(y_valid_fakes.index)*[False]\n",
    "        X_valid_f = visual_f.loc[y_valid_fakes.index]\n",
    "        # score = accuracy_score(y_valid_f, (clf.predict(X_valid_f)))\n",
    "        score = accuracy_score(y_valid_f, (clf.predict_proba(X_valid_f)[:,1]> DECISION_THRESHOLD))\n",
    "        # score = clf.score(X_valid_f,y_valid_f)\n",
    "        fakes_sum += score\n",
    "        fakes_r_count += 1 \n",
    "        # print(score)\n",
    "        scores_sum += score\n",
    "        run_count += 1\n",
    "        y_valid_gens = val_df_valid_gen_12.loc[val_df_valid_gen_12['user_id']==user_id]\n",
    "        y_valid_g = len(y_valid_gens.index)*[True]\n",
    "        X_valid_g = visual_f.loc[y_valid_gens.index]\n",
    "        # score = accuracy_score(y_valid_g, (clf.predict(X_valid_g)))\n",
    "        score = accuracy_score(y_valid_g, (clf.predict_proba(X_valid_g)[:,1]> DECISION_THRESHOLD))\n",
    "        # score = clf.score(X_valid_g,y_valid_g)\n",
    "        gens_sum += score\n",
    "        gens_r_count += 1 \n",
    "        # print(score)\n",
    "        scores_sum += score\n",
    "        run_count += 1\n",
    "        '''\n",
    "        y_valid_rand_fakes = data_f_gen_valid_12.loc[choice(data_f_gen_valid_12.loc[data_f_gen_valid_12['user_id']!=user_id].index,10)]\n",
    "        y_valid_rf = len(y_valid_rand_fakes.index)*[False]\n",
    "        X_valid_rf = visual_f.loc[y_valid_rand_fakes.index]\n",
    "        score = clf.score(X_valid_rf,y_valid_rf)\n",
    "        randoms_sum += score\n",
    "        randoms_r_count += 1\n",
    "        '''\n",
    "        # print(score)\n",
    "        scores_sum += score\n",
    "        run_count += 1\n",
    "        # print(scores_sum/run_count)\n",
    "        print (\"gens_avg_error:\", 100*(1-(float(gens_sum)/gens_r_count)), \"fakes_avg_error:\", 100*(1-(float(fakes_sum)/fakes_r_count)), \n",
    "                \"cumulative_avg_error:\", 100*(1-((float(gens_sum)/gens_r_count)/2 + (float(fakes_sum)/fakes_r_count)/2)))"
   ]
  },
  {
   "cell_type": "code",
   "execution_count": null,
   "metadata": {},
   "outputs": [],
   "source": []
  }
 ],
 "metadata": {
  "kernelspec": {
   "display_name": "Python 3",
   "language": "python",
   "name": "python3"
  },
  "language_info": {
   "codemirror_mode": {
    "name": "ipython",
    "version": 3
   },
   "file_extension": ".py",
   "mimetype": "text/x-python",
   "name": "python",
   "nbconvert_exporter": "python",
   "pygments_lexer": "ipython3",
   "version": "3.7.3"
  }
 },
 "nbformat": 4,
 "nbformat_minor": 2
}
