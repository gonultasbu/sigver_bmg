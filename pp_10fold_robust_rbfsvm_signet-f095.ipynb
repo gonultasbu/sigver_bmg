{
 "cells": [
  {
   "cell_type": "code",
   "execution_count": 1,
   "metadata": {
    "scrolled": true
   },
   "outputs": [],
   "source": [
    "import scipy.io as sio\n",
    "from scipy.misc import imread\n",
    "from preprocess.normalize import preprocess_signature\n",
    "import tf_signet\n",
    "from tf_cnn_model import TF_CNNModel\n",
    "import tensorflow as tf\n",
    "import numpy as np\n",
    "import pandas as pd\n",
    "import sys\n",
    "import os\n",
    "import scipy.io\n",
    "from find_largest_image import find_largest\n",
    "import tqdm \n",
    "from sklearn.model_selection import train_test_split\n",
    "from sklearn.svm import SVC\n",
    "from xgboost import XGBClassifier\n",
    "import random\n",
    "from numpy.random import choice\n",
    "from sklearn.neural_network import MLPClassifier\n",
    "from sklearn.metrics import accuracy_score"
   ]
  },
  {
   "cell_type": "code",
   "execution_count": 2,
   "metadata": {},
   "outputs": [],
   "source": [
    "data_folder = 'C:\\\\Users\\\\Mert\\\\Documents\\\\GitHub\\\\sigver_bmg\\\\data\\\\downloaded_pp_features\\\\gpds_signet_f_all'"
   ]
  },
  {
   "cell_type": "code",
   "execution_count": 3,
   "metadata": {},
   "outputs": [],
   "source": [
    "data_f = pd.read_csv(os.path.join(data_folder,'data_features.csv'))\n",
    "visual_f = pd.read_csv(os.path.join(data_folder,'visual_features.csv'))"
   ]
  },
  {
   "cell_type": "code",
   "execution_count": 4,
   "metadata": {},
   "outputs": [
    {
     "name": "stderr",
     "output_type": "stream",
     "text": [
      "\r",
      "  0%|                                                                                           | 0/50 [00:00<?, ?it/s]"
     ]
    },
    {
     "name": "stdout",
     "output_type": "stream",
     "text": [
      "gens_avg_error: 16.666666666666664 fakes_avg_error: 0.0 cumulative_avg_error: 8.333333333333325\n"
     ]
    },
    {
     "name": "stderr",
     "output_type": "stream",
     "text": [
      "\r",
      "  2%|#6                                                                                 | 1/50 [00:13<10:57, 13.42s/it]"
     ]
    },
    {
     "name": "stdout",
     "output_type": "stream",
     "text": [
      "gens_avg_error: 8.333333333333325 fakes_avg_error: 9.999999999999998 cumulative_avg_error: 9.166666666666657\n"
     ]
    },
    {
     "name": "stderr",
     "output_type": "stream",
     "text": [
      "\r",
      "  4%|###3                                                                               | 2/50 [00:41<14:14, 17.79s/it]"
     ]
    },
    {
     "name": "stdout",
     "output_type": "stream",
     "text": [
      "gens_avg_error: 5.5555555555555465 fakes_avg_error: 6.666666666666677 cumulative_avg_error: 6.111111111111112\n"
     ]
    },
    {
     "name": "stderr",
     "output_type": "stream",
     "text": [
      "\r",
      "  6%|####9                                                                              | 3/50 [01:02<14:40, 18.72s/it]"
     ]
    },
    {
     "name": "stdout",
     "output_type": "stream",
     "text": [
      "gens_avg_error: 4.1666666666666625 fakes_avg_error: 8.333333333333337 cumulative_avg_error: 6.25\n"
     ]
    },
    {
     "name": "stderr",
     "output_type": "stream",
     "text": [
      "\r",
      "  8%|######6                                                                            | 4/50 [01:16<13:23, 17.48s/it]"
     ]
    },
    {
     "name": "stdout",
     "output_type": "stream",
     "text": [
      "gens_avg_error: 3.3333333333333215 fakes_avg_error: 6.666666666666677 cumulative_avg_error: 5.000000000000004\n"
     ]
    },
    {
     "name": "stderr",
     "output_type": "stream",
     "text": [
      "\r",
      " 10%|########3                                                                          | 5/50 [01:33<12:48, 17.07s/it]"
     ]
    },
    {
     "name": "stdout",
     "output_type": "stream",
     "text": [
      "gens_avg_error: 4.166666666666652 fakes_avg_error: 6.666666666666677 cumulative_avg_error: 5.41666666666667\n"
     ]
    },
    {
     "name": "stderr",
     "output_type": "stream",
     "text": [
      "\r",
      " 12%|#########9                                                                         | 6/50 [01:53<13:17, 18.13s/it]"
     ]
    },
    {
     "name": "stdout",
     "output_type": "stream",
     "text": [
      "gens_avg_error: 3.5714285714285587 fakes_avg_error: 6.190476190476191 cumulative_avg_error: 4.880952380952374\n"
     ]
    },
    {
     "name": "stderr",
     "output_type": "stream",
     "text": [
      "\r",
      " 14%|###########6                                                                       | 7/50 [02:12<13:10, 18.37s/it]"
     ]
    },
    {
     "name": "stdout",
     "output_type": "stream",
     "text": [
      "gens_avg_error: 4.166666666666652 fakes_avg_error: 5.41666666666667 cumulative_avg_error: 4.791666666666661\n"
     ]
    },
    {
     "name": "stderr",
     "output_type": "stream",
     "text": [
      "\r",
      " 16%|#############2                                                                     | 8/50 [02:30<12:41, 18.13s/it]"
     ]
    },
    {
     "name": "stdout",
     "output_type": "stream",
     "text": [
      "gens_avg_error: 3.703703703703687 fakes_avg_error: 4.814814814814817 cumulative_avg_error: 4.2592592592592515\n"
     ]
    },
    {
     "name": "stderr",
     "output_type": "stream",
     "text": [
      "\r",
      " 18%|##############9                                                                    | 9/50 [02:49<12:35, 18.42s/it]"
     ]
    },
    {
     "name": "stdout",
     "output_type": "stream",
     "text": [
      "gens_avg_error: 3.3333333333333215 fakes_avg_error: 5.000000000000004 cumulative_avg_error: 4.1666666666666625\n"
     ]
    },
    {
     "name": "stderr",
     "output_type": "stream",
     "text": [
      "\r",
      " 20%|################4                                                                 | 10/50 [03:02<11:20, 17.01s/it]"
     ]
    },
    {
     "name": "stdout",
     "output_type": "stream",
     "text": [
      "gens_avg_error: 3.0303030303030165 fakes_avg_error: 4.545454545454541 cumulative_avg_error: 3.7878787878787845\n"
     ]
    },
    {
     "name": "stderr",
     "output_type": "stream",
     "text": [
      "\r",
      " 22%|##################                                                                | 11/50 [03:23<11:42, 18.03s/it]"
     ]
    },
    {
     "name": "stdout",
     "output_type": "stream",
     "text": [
      "gens_avg_error: 2.777777777777768 fakes_avg_error: 5.357142857142849 cumulative_avg_error: 4.067460317460303\n"
     ]
    },
    {
     "name": "stderr",
     "output_type": "stream",
     "text": [
      "\r",
      " 24%|###################6                                                              | 12/50 [03:38<10:53, 17.20s/it]"
     ]
    },
    {
     "name": "stdout",
     "output_type": "stream",
     "text": [
      "gens_avg_error: 4.487179487179482 fakes_avg_error: 5.457875457875449 cumulative_avg_error: 4.9725274725274655\n"
     ]
    },
    {
     "name": "stderr",
     "output_type": "stream",
     "text": [
      "\r",
      " 26%|#####################3                                                            | 13/50 [03:58<11:03, 17.93s/it]"
     ]
    },
    {
     "name": "stdout",
     "output_type": "stream",
     "text": [
      "gens_avg_error: 4.1666666666666625 fakes_avg_error: 7.210884353741498 cumulative_avg_error: 5.6887755102040805\n"
     ]
    },
    {
     "name": "stderr",
     "output_type": "stream",
     "text": [
      "\r",
      " 28%|######################9                                                           | 14/50 [04:17<10:58, 18.28s/it]"
     ]
    },
    {
     "name": "stdout",
     "output_type": "stream",
     "text": [
      "gens_avg_error: 5.5555555555555465 fakes_avg_error: 6.730158730158731 cumulative_avg_error: 6.142857142857139\n"
     ]
    },
    {
     "name": "stderr",
     "output_type": "stream",
     "text": [
      "\r",
      " 30%|########################5                                                         | 15/50 [04:32<10:08, 17.39s/it]"
     ]
    },
    {
     "name": "stdout",
     "output_type": "stream",
     "text": [
      "gens_avg_error: 5.208333333333326 fakes_avg_error: 8.601190476190478 cumulative_avg_error: 6.904761904761902\n"
     ]
    },
    {
     "name": "stderr",
     "output_type": "stream",
     "text": [
      "\r",
      " 32%|##########################2                                                       | 16/50 [04:47<09:23, 16.58s/it]"
     ]
    },
    {
     "name": "stdout",
     "output_type": "stream",
     "text": [
      "gens_avg_error: 4.901960784313719 fakes_avg_error: 8.0952380952381 cumulative_avg_error: 6.4985994397759095\n"
     ]
    },
    {
     "name": "stderr",
     "output_type": "stream",
     "text": [
      "\r",
      " 34%|###########################8                                                      | 17/50 [04:55<07:47, 14.17s/it]"
     ]
    },
    {
     "name": "stdout",
     "output_type": "stream",
     "text": [
      "gens_avg_error: 4.629629629629628 fakes_avg_error: 7.645502645502644 cumulative_avg_error: 6.137566137566131\n"
     ]
    },
    {
     "name": "stderr",
     "output_type": "stream",
     "text": [
      "\r",
      " 36%|#############################5                                                    | 18/50 [05:17<08:45, 16.42s/it]"
     ]
    },
    {
     "name": "stdout",
     "output_type": "stream",
     "text": [
      "gens_avg_error: 8.333333333333325 fakes_avg_error: 7.243107769423562 cumulative_avg_error: 7.788220551378444\n"
     ]
    },
    {
     "name": "stderr",
     "output_type": "stream",
     "text": [
      "\r",
      " 38%|###############################1                                                  | 19/50 [05:37<09:06, 17.62s/it]"
     ]
    },
    {
     "name": "stdout",
     "output_type": "stream",
     "text": [
      "gens_avg_error: 7.916666666666661 fakes_avg_error: 8.047619047619058 cumulative_avg_error: 7.982142857142859\n"
     ]
    },
    {
     "name": "stderr",
     "output_type": "stream",
     "text": [
      "\r",
      " 40%|################################8                                                 | 20/50 [05:54<08:40, 17.34s/it]"
     ]
    },
    {
     "name": "stdout",
     "output_type": "stream",
     "text": [
      "gens_avg_error: 7.9365079365079305 fakes_avg_error: 7.981859410430847 cumulative_avg_error: 7.959183673469394\n"
     ]
    },
    {
     "name": "stderr",
     "output_type": "stream",
     "text": [
      "\r",
      " 42%|##################################4                                               | 21/50 [06:14<08:46, 18.17s/it]"
     ]
    },
    {
     "name": "stdout",
     "output_type": "stream",
     "text": [
      "gens_avg_error: 7.954545454545436 fakes_avg_error: 7.619047619047626 cumulative_avg_error: 7.786796536796525\n"
     ]
    },
    {
     "name": "stderr",
     "output_type": "stream",
     "text": [
      "\r",
      " 44%|####################################                                              | 22/50 [06:34<08:37, 18.49s/it]"
     ]
    },
    {
     "name": "stdout",
     "output_type": "stream",
     "text": [
      "gens_avg_error: 7.608695652173902 fakes_avg_error: 7.287784679089027 cumulative_avg_error: 7.448240165631459\n"
     ]
    },
    {
     "name": "stderr",
     "output_type": "stream",
     "text": [
      "\r",
      " 46%|#####################################7                                            | 23/50 [06:49<07:54, 17.57s/it]"
     ]
    },
    {
     "name": "stdout",
     "output_type": "stream",
     "text": [
      "gens_avg_error: 8.680555555555536 fakes_avg_error: 6.984126984126993 cumulative_avg_error: 7.83234126984127\n"
     ]
    },
    {
     "name": "stderr",
     "output_type": "stream",
     "text": [
      "\r",
      " 48%|#######################################3                                          | 24/50 [07:03<07:10, 16.56s/it]"
     ]
    },
    {
     "name": "stdout",
     "output_type": "stream",
     "text": [
      "gens_avg_error: 8.333333333333314 fakes_avg_error: 6.704761904761913 cumulative_avg_error: 7.519047619047614\n"
     ]
    },
    {
     "name": "stderr",
     "output_type": "stream",
     "text": [
      "\r",
      " 50%|#########################################                                         | 25/50 [07:18<06:44, 16.17s/it]"
     ]
    },
    {
     "name": "stdout",
     "output_type": "stream",
     "text": [
      "gens_avg_error: 8.974358974358953 fakes_avg_error: 6.446886446886446 cumulative_avg_error: 7.710622710622705\n"
     ]
    },
    {
     "name": "stderr",
     "output_type": "stream",
     "text": [
      "\r",
      " 52%|##########################################6                                       | 26/50 [07:37<06:47, 17.00s/it]"
     ]
    },
    {
     "name": "stdout",
     "output_type": "stream",
     "text": [
      "gens_avg_error: 8.641975308641959 fakes_avg_error: 6.208112874779548 cumulative_avg_error: 7.4250440917107525\n"
     ]
    },
    {
     "name": "stderr",
     "output_type": "stream",
     "text": [
      "\r",
      " 54%|############################################2                                     | 27/50 [07:51<06:07, 15.96s/it]"
     ]
    },
    {
     "name": "stdout",
     "output_type": "stream",
     "text": [
      "gens_avg_error: 8.92857142857142 fakes_avg_error: 5.986394557823138 cumulative_avg_error: 7.457482993197284\n"
     ]
    },
    {
     "name": "stderr",
     "output_type": "stream",
     "text": [
      "\r",
      " 56%|#############################################9                                    | 28/50 [08:13<06:30, 17.75s/it]"
     ]
    },
    {
     "name": "stdout",
     "output_type": "stream",
     "text": [
      "gens_avg_error: 9.482758620689646 fakes_avg_error: 6.7651888341543565 cumulative_avg_error: 8.123973727421996\n"
     ]
    },
    {
     "name": "stderr",
     "output_type": "stream",
     "text": [
      "\r",
      " 58%|###############################################5                                  | 29/50 [08:31<06:18, 18.03s/it]"
     ]
    },
    {
     "name": "stdout",
     "output_type": "stream",
     "text": [
      "gens_avg_error: 9.72222222222221 fakes_avg_error: 6.873015873015875 cumulative_avg_error: 8.297619047619042\n"
     ]
    },
    {
     "name": "stderr",
     "output_type": "stream",
     "text": [
      "\r",
      " 60%|#################################################1                                | 30/50 [08:56<06:37, 19.90s/it]"
     ]
    },
    {
     "name": "stdout",
     "output_type": "stream",
     "text": [
      "gens_avg_error: 10.483870967741925 fakes_avg_error: 6.651305683563757 cumulative_avg_error: 8.567588325652842\n"
     ]
    },
    {
     "name": "stderr",
     "output_type": "stream",
     "text": [
      "\r",
      " 62%|##################################################8                               | 31/50 [09:15<06:14, 19.73s/it]"
     ]
    },
    {
     "name": "stdout",
     "output_type": "stream",
     "text": [
      "gens_avg_error: 10.416666666666652 fakes_avg_error: 6.651785714285719 cumulative_avg_error: 8.53422619047619\n"
     ]
    },
    {
     "name": "stderr",
     "output_type": "stream",
     "text": [
      "\r",
      " 64%|####################################################4                             | 32/50 [09:44<06:42, 22.36s/it]"
     ]
    },
    {
     "name": "stdout",
     "output_type": "stream",
     "text": [
      "gens_avg_error: 10.101010101010088 fakes_avg_error: 6.652236652236654 cumulative_avg_error: 8.376623376623371\n"
     ]
    },
    {
     "name": "stderr",
     "output_type": "stream",
     "text": [
      "\r",
      " 66%|######################################################1                           | 33/50 [10:06<06:19, 22.34s/it]"
     ]
    },
    {
     "name": "stdout",
     "output_type": "stream",
     "text": [
      "gens_avg_error: 10.049019607843125 fakes_avg_error: 6.4565826330532206 cumulative_avg_error: 8.252801120448172\n"
     ]
    },
    {
     "name": "stderr",
     "output_type": "stream",
     "text": [
      "\r",
      " 68%|#######################################################7                          | 34/50 [10:19<05:15, 19.70s/it]"
     ]
    },
    {
     "name": "stdout",
     "output_type": "stream",
     "text": [
      "gens_avg_error: 9.761904761904749 fakes_avg_error: 6.272108843537416 cumulative_avg_error: 8.017006802721083\n"
     ]
    },
    {
     "name": "stderr",
     "output_type": "stream",
     "text": [
      "\r",
      " 70%|#########################################################4                        | 35/50 [10:37<04:47, 19.16s/it]"
     ]
    },
    {
     "name": "stdout",
     "output_type": "stream",
     "text": [
      "gens_avg_error: 9.49074074074071 fakes_avg_error: 6.406525573192257 cumulative_avg_error: 7.948633156966478\n"
     ]
    },
    {
     "name": "stderr",
     "output_type": "stream",
     "text": [
      "\r",
      " 72%|###########################################################                       | 36/50 [10:59<04:40, 20.05s/it]"
     ]
    },
    {
     "name": "stdout",
     "output_type": "stream",
     "text": [
      "gens_avg_error: 9.234234234234206 fakes_avg_error: 6.233376233376243 cumulative_avg_error: 7.733805233805224\n"
     ]
    },
    {
     "name": "stderr",
     "output_type": "stream",
     "text": [
      "\r",
      " 74%|############################################################6                     | 37/50 [11:17<04:10, 19.25s/it]"
     ]
    },
    {
     "name": "stdout",
     "output_type": "stream",
     "text": [
      "gens_avg_error: 9.649122807017518 fakes_avg_error: 6.069340016708447 cumulative_avg_error: 7.859231411862977\n"
     ]
    },
    {
     "name": "stderr",
     "output_type": "stream",
     "text": [
      "\r",
      " 76%|##############################################################3                   | 38/50 [11:34<03:43, 18.60s/it]"
     ]
    },
    {
     "name": "stdout",
     "output_type": "stream",
     "text": [
      "gens_avg_error: 9.615384615384592 fakes_avg_error: 5.913715913715922 cumulative_avg_error: 7.764550264550252\n"
     ]
    },
    {
     "name": "stderr",
     "output_type": "stream",
     "text": [
      "\r",
      " 78%|###############################################################9                  | 39/50 [11:52<03:24, 18.56s/it]"
     ]
    },
    {
     "name": "stdout",
     "output_type": "stream",
     "text": [
      "gens_avg_error: 9.374999999999979 fakes_avg_error: 5.765873015873025 cumulative_avg_error: 7.5704365079364955\n"
     ]
    },
    {
     "name": "stderr",
     "output_type": "stream",
     "text": [
      "\r",
      " 80%|#################################################################6                | 40/50 [12:10<03:02, 18.28s/it]"
     ]
    },
    {
     "name": "stdout",
     "output_type": "stream",
     "text": [
      "gens_avg_error: 9.14634146341462 fakes_avg_error: 5.625241966705397 cumulative_avg_error: 7.385791715060009\n"
     ]
    },
    {
     "name": "stderr",
     "output_type": "stream",
     "text": [
      "\r",
      " 82%|###################################################################2              | 41/50 [12:23<02:30, 16.68s/it]"
     ]
    },
    {
     "name": "stdout",
     "output_type": "stream",
     "text": [
      "gens_avg_error: 9.325396825396803 fakes_avg_error: 5.491307634164788 cumulative_avg_error: 7.408352229780801\n"
     ]
    },
    {
     "name": "stderr",
     "output_type": "stream",
     "text": [
      "\r",
      " 84%|####################################################################8             | 42/50 [12:48<02:34, 19.29s/it]"
     ]
    },
    {
     "name": "stdout",
     "output_type": "stream",
     "text": [
      "gens_avg_error: 9.108527131782928 fakes_avg_error: 5.363602805463286 cumulative_avg_error: 7.236064968623102\n"
     ]
    },
    {
     "name": "stderr",
     "output_type": "stream",
     "text": [
      "\r",
      " 86%|######################################################################5           | 43/50 [13:04<02:06, 18.08s/it]"
     ]
    },
    {
     "name": "stdout",
     "output_type": "stream",
     "text": [
      "gens_avg_error: 8.901515151515127 fakes_avg_error: 6.150793650793663 cumulative_avg_error: 7.526154401154395\n"
     ]
    },
    {
     "name": "stderr",
     "output_type": "stream",
     "text": [
      "\r",
      " 88%|########################################################################1         | 44/50 [13:19<01:44, 17.39s/it]"
     ]
    },
    {
     "name": "stdout",
     "output_type": "stream",
     "text": [
      "gens_avg_error: 9.074074074074046 fakes_avg_error: 6.0141093474426865 cumulative_avg_error: 7.5440917107583605\n"
     ]
    },
    {
     "name": "stderr",
     "output_type": "stream",
     "text": [
      "\r",
      " 90%|#########################################################################8        | 45/50 [13:48<01:44, 20.85s/it]"
     ]
    },
    {
     "name": "stdout",
     "output_type": "stream",
     "text": [
      "gens_avg_error: 8.876811594202872 fakes_avg_error: 5.883367839889586 cumulative_avg_error: 7.380089717046223\n"
     ]
    },
    {
     "name": "stderr",
     "output_type": "stream",
     "text": [
      "\r",
      " 92%|###########################################################################4      | 46/50 [14:07<01:21, 20.34s/it]"
     ]
    },
    {
     "name": "stdout",
     "output_type": "stream",
     "text": [
      "gens_avg_error: 8.865248226950339 fakes_avg_error: 5.758189800742997 cumulative_avg_error: 7.311719013846663\n"
     ]
    },
    {
     "name": "stderr",
     "output_type": "stream",
     "text": [
      "\r",
      " 94%|#############################################################################     | 47/50 [14:32<01:04, 21.47s/it]"
     ]
    },
    {
     "name": "stdout",
     "output_type": "stream",
     "text": [
      "gens_avg_error: 8.680555555555536 fakes_avg_error: 5.638227513227523 cumulative_avg_error: 7.159391534391535\n"
     ]
    },
    {
     "name": "stderr",
     "output_type": "stream",
     "text": [
      "\r",
      " 96%|##############################################################################7   | 48/50 [14:51<00:42, 21.00s/it]"
     ]
    },
    {
     "name": "stdout",
     "output_type": "stream",
     "text": [
      "gens_avg_error: 8.503401360544194 fakes_avg_error: 5.591188856494977 cumulative_avg_error: 7.04729510851958\n"
     ]
    },
    {
     "name": "stderr",
     "output_type": "stream",
     "text": [
      "\r",
      " 98%|################################################################################3 | 49/50 [15:08<00:19, 19.54s/it]"
     ]
    },
    {
     "name": "stdout",
     "output_type": "stream",
     "text": [
      "gens_avg_error: 8.333333333333314 fakes_avg_error: 5.679365079365084 cumulative_avg_error: 7.006349206349194\n"
     ]
    },
    {
     "name": "stderr",
     "output_type": "stream",
     "text": [
      "100%|##################################################################################| 50/50 [15:23<00:00, 18.18s/it]\n",
      "  0%|                                                                                           | 0/50 [00:00<?, ?it/s]"
     ]
    },
    {
     "name": "stdout",
     "output_type": "stream",
     "text": [
      "gens_avg_error: 8.333333333333314 fakes_avg_error: 5.633364456893874 cumulative_avg_error: 6.983348895113595\n"
     ]
    },
    {
     "name": "stderr",
     "output_type": "stream",
     "text": [
      "\r",
      "  2%|#6                                                                                 | 1/50 [00:16<13:23, 16.40s/it]"
     ]
    },
    {
     "name": "stdout",
     "output_type": "stream",
     "text": [
      "gens_avg_error: 8.173076923076906 fakes_avg_error: 5.525030525030528 cumulative_avg_error: 6.849053724053711\n"
     ]
    },
    {
     "name": "stderr",
     "output_type": "stream",
     "text": [
      "\r",
      "  4%|###3                                                                               | 2/50 [00:30<12:31, 15.65s/it]"
     ]
    },
    {
     "name": "stdout",
     "output_type": "stream",
     "text": [
      "gens_avg_error: 8.333333333333314 fakes_avg_error: 5.420784666067691 cumulative_avg_error: 6.877058999700503\n"
     ]
    },
    {
     "name": "stderr",
     "output_type": "stream",
     "text": [
      "\r",
      "  6%|####9                                                                              | 3/50 [00:51<13:31, 17.27s/it]"
     ]
    },
    {
     "name": "stdout",
     "output_type": "stream",
     "text": [
      "gens_avg_error: 8.179012345678993 fakes_avg_error: 6.122868900646672 cumulative_avg_error: 7.150940623162838\n"
     ]
    },
    {
     "name": "stderr",
     "output_type": "stream",
     "text": [
      "\r",
      "  8%|######6                                                                            | 4/50 [01:11<13:58, 18.22s/it]"
     ]
    },
    {
     "name": "stdout",
     "output_type": "stream",
     "text": [
      "gens_avg_error: 8.03030303030301 fakes_avg_error: 6.0721500721500625 cumulative_avg_error: 7.0512265512265415\n"
     ]
    },
    {
     "name": "stderr",
     "output_type": "stream",
     "text": [
      "\r",
      " 10%|########3                                                                          | 5/50 [01:26<12:54, 17.20s/it]"
     ]
    },
    {
     "name": "stdout",
     "output_type": "stream",
     "text": [
      "gens_avg_error: 8.035714285714269 fakes_avg_error: 6.0232426303854725 cumulative_avg_error: 7.029478458049865\n"
     ]
    },
    {
     "name": "stderr",
     "output_type": "stream",
     "text": [
      "\r",
      " 12%|#########9                                                                         | 6/50 [01:54<14:57, 20.41s/it]"
     ]
    },
    {
     "name": "stdout",
     "output_type": "stream",
     "text": [
      "gens_avg_error: 8.625730994152025 fakes_avg_error: 5.9175717070453775 cumulative_avg_error: 7.271651350598707\n"
     ]
    },
    {
     "name": "stderr",
     "output_type": "stream",
     "text": [
      "\r",
      " 14%|###########6                                                                       | 7/50 [02:12<14:09, 19.77s/it]"
     ]
    },
    {
     "name": "stdout",
     "output_type": "stream",
     "text": [
      "gens_avg_error: 8.477011494252862 fakes_avg_error: 5.8155446086480485 cumulative_avg_error: 7.14627805145045\n"
     ]
    },
    {
     "name": "stderr",
     "output_type": "stream",
     "text": [
      "\r",
      " 16%|#############2                                                                     | 8/50 [02:31<13:39, 19.51s/it]"
     ]
    },
    {
     "name": "stdout",
     "output_type": "stream",
     "text": [
      "gens_avg_error: 8.333333333333314 fakes_avg_error: 6.225450632230278 cumulative_avg_error: 7.279391982781802\n"
     ]
    },
    {
     "name": "stderr",
     "output_type": "stream",
     "text": [
      "\r",
      " 18%|##############9                                                                    | 9/50 [02:50<13:17, 19.45s/it]"
     ]
    },
    {
     "name": "stdout",
     "output_type": "stream",
     "text": [
      "gens_avg_error: 8.194444444444427 fakes_avg_error: 6.121693121693106 cumulative_avg_error: 7.158068783068772\n"
     ]
    },
    {
     "name": "stderr",
     "output_type": "stream",
     "text": [
      "\r",
      " 20%|################4                                                                 | 10/50 [03:09<12:50, 19.27s/it]"
     ]
    },
    {
     "name": "stdout",
     "output_type": "stream",
     "text": [
      "gens_avg_error: 8.060109289617468 fakes_avg_error: 6.130627114233667 cumulative_avg_error: 7.095368201925567\n"
     ]
    },
    {
     "name": "stderr",
     "output_type": "stream",
     "text": [
      "\r",
      " 22%|##################                                                                | 11/50 [03:32<13:09, 20.24s/it]"
     ]
    },
    {
     "name": "stdout",
     "output_type": "stream",
     "text": [
      "gens_avg_error: 8.064516129032251 fakes_avg_error: 6.408090117767529 cumulative_avg_error: 7.23630312339989\n"
     ]
    },
    {
     "name": "stderr",
     "output_type": "stream",
     "text": [
      "\r",
      " 24%|###################6                                                              | 12/50 [03:48<11:56, 18.87s/it]"
     ]
    },
    {
     "name": "stdout",
     "output_type": "stream",
     "text": [
      "gens_avg_error: 8.068783068783059 fakes_avg_error: 6.518014613252698 cumulative_avg_error: 7.293398841017873\n"
     ]
    },
    {
     "name": "stderr",
     "output_type": "stream",
     "text": [
      "\r",
      " 26%|#####################3                                                            | 13/50 [04:11<12:29, 20.26s/it]"
     ]
    },
    {
     "name": "stdout",
     "output_type": "stream",
     "text": [
      "gens_avg_error: 8.20312499999999 fakes_avg_error: 6.416170634920626 cumulative_avg_error: 7.3096478174603075\n"
     ]
    },
    {
     "name": "stderr",
     "output_type": "stream",
     "text": [
      "\r",
      " 28%|######################9                                                           | 14/50 [04:30<11:56, 19.89s/it]"
     ]
    },
    {
     "name": "stdout",
     "output_type": "stream",
     "text": [
      "gens_avg_error: 8.07692307692307 fakes_avg_error: 6.7277167277167145 cumulative_avg_error: 7.402319902319898\n"
     ]
    },
    {
     "name": "stderr",
     "output_type": "stream",
     "text": [
      "\r",
      " 30%|########################5                                                         | 15/50 [04:55<12:25, 21.29s/it]"
     ]
    },
    {
     "name": "stdout",
     "output_type": "stream",
     "text": [
      "gens_avg_error: 8.207070707070695 fakes_avg_error: 6.625781625781613 cumulative_avg_error: 7.416426166426149\n"
     ]
    },
    {
     "name": "stderr",
     "output_type": "stream",
     "text": [
      "\r",
      " 32%|##########################2                                                       | 16/50 [05:15<11:50, 20.89s/it]"
     ]
    },
    {
     "name": "stdout",
     "output_type": "stream",
     "text": [
      "gens_avg_error: 8.084577114427848 fakes_avg_error: 6.676143094053533 cumulative_avg_error: 7.38036010424069\n"
     ]
    },
    {
     "name": "stderr",
     "output_type": "stream",
     "text": [
      "\r",
      " 34%|###########################8                                                      | 17/50 [05:30<10:37, 19.32s/it]"
     ]
    },
    {
     "name": "stdout",
     "output_type": "stream",
     "text": [
      "gens_avg_error: 7.965686274509787 fakes_avg_error: 6.626984126984114 cumulative_avg_error: 7.296335200746951\n"
     ]
    },
    {
     "name": "stderr",
     "output_type": "stream",
     "text": [
      "\r",
      " 36%|#############################5                                                    | 18/50 [05:53<10:55, 20.48s/it]"
     ]
    },
    {
     "name": "stdout",
     "output_type": "stream",
     "text": [
      "gens_avg_error: 7.85024154589371 fakes_avg_error: 6.530940878766955 cumulative_avg_error: 7.190591212330332\n"
     ]
    },
    {
     "name": "stderr",
     "output_type": "stream",
     "text": [
      "\r",
      " 38%|###############################1                                                  | 19/50 [06:14<10:32, 20.39s/it]"
     ]
    },
    {
     "name": "stdout",
     "output_type": "stream",
     "text": [
      "gens_avg_error: 7.738095238095221 fakes_avg_error: 6.437641723356002 cumulative_avg_error: 7.0878684807256125\n"
     ]
    },
    {
     "name": "stderr",
     "output_type": "stream",
     "text": [
      "\r",
      " 40%|################################8                                                 | 20/50 [06:43<11:33, 23.12s/it]"
     ]
    },
    {
     "name": "stdout",
     "output_type": "stream",
     "text": [
      "gens_avg_error: 7.62910798122064 fakes_avg_error: 6.393919069975396 cumulative_avg_error: 7.011513525598012\n"
     ]
    },
    {
     "name": "stderr",
     "output_type": "stream",
     "text": [
      "\r",
      " 42%|##################################4                                               | 21/50 [07:05<11:04, 22.90s/it]"
     ]
    },
    {
     "name": "stdout",
     "output_type": "stream",
     "text": [
      "gens_avg_error: 7.638888888888873 fakes_avg_error: 6.305114638447962 cumulative_avg_error: 6.972001763668412\n"
     ]
    },
    {
     "name": "stderr",
     "output_type": "stream",
     "text": [
      "\r",
      " 44%|####################################                                              | 22/50 [07:23<09:58, 21.37s/it]"
     ]
    },
    {
     "name": "stdout",
     "output_type": "stream",
     "text": [
      "gens_avg_error: 7.5342465753424515 fakes_avg_error: 6.2187432050445635 cumulative_avg_error: 6.8764948901935075\n"
     ]
    },
    {
     "name": "stderr",
     "output_type": "stream",
     "text": [
      "\r",
      " 46%|#####################################7                                            | 23/50 [07:44<09:28, 21.05s/it]"
     ]
    },
    {
     "name": "stdout",
     "output_type": "stream",
     "text": [
      "gens_avg_error: 7.432432432432412 fakes_avg_error: 6.134706134706125 cumulative_avg_error: 6.7835692835692685\n"
     ]
    },
    {
     "name": "stderr",
     "output_type": "stream",
     "text": [
      "\r",
      " 48%|#######################################3                                          | 24/50 [08:01<08:41, 20.06s/it]"
     ]
    },
    {
     "name": "stdout",
     "output_type": "stream",
     "text": [
      "gens_avg_error: 7.44444444444442 fakes_avg_error: 6.512680167852558 cumulative_avg_error: 6.978562306148484\n"
     ]
    },
    {
     "name": "stderr",
     "output_type": "stream",
     "text": [
      "\r",
      " 50%|#########################################                                         | 25/50 [08:20<08:12, 19.68s/it]"
     ]
    },
    {
     "name": "stdout",
     "output_type": "stream",
     "text": [
      "gens_avg_error: 7.456140350877161 fakes_avg_error: 6.426987007749241 cumulative_avg_error: 6.941563679313201\n"
     ]
    },
    {
     "name": "stderr",
     "output_type": "stream",
     "text": [
      "\r",
      " 52%|##########################################6                                       | 26/50 [08:39<07:48, 19.51s/it]"
     ]
    },
    {
     "name": "stdout",
     "output_type": "stream",
     "text": [
      "gens_avg_error: 7.467532467532434 fakes_avg_error: 6.34351964401223 cumulative_avg_error: 6.905526055772326\n"
     ]
    },
    {
     "name": "stderr",
     "output_type": "stream",
     "text": [
      "\r",
      " 54%|############################################2                                     | 27/50 [09:00<07:39, 20.00s/it]"
     ]
    },
    {
     "name": "stdout",
     "output_type": "stream",
     "text": [
      "gens_avg_error: 7.371794871794835 fakes_avg_error: 6.390397597294117 cumulative_avg_error: 6.88109623454447\n"
     ]
    },
    {
     "name": "stderr",
     "output_type": "stream",
     "text": [
      "\r",
      " 56%|#############################################9                                    | 28/50 [09:17<06:58, 19.03s/it]"
     ]
    },
    {
     "name": "stdout",
     "output_type": "stream",
     "text": [
      "gens_avg_error: 7.2784810126581885 fakes_avg_error: 6.351700581294617 cumulative_avg_error: 6.815090796976397\n"
     ]
    },
    {
     "name": "stderr",
     "output_type": "stream",
     "text": [
      "\r",
      " 58%|###############################################5                                  | 29/50 [09:43<07:22, 21.06s/it]"
     ]
    },
    {
     "name": "stdout",
     "output_type": "stream",
     "text": [
      "gens_avg_error: 7.604166666666623 fakes_avg_error: 6.313970990695095 cumulative_avg_error: 6.959068828680859\n"
     ]
    },
    {
     "name": "stderr",
     "output_type": "stream",
     "text": [
      "\r",
      " 60%|#################################################1                                | 30/50 [10:07<07:19, 21.96s/it]"
     ]
    },
    {
     "name": "stdout",
     "output_type": "stream",
     "text": [
      "gens_avg_error: 7.510288065843584 fakes_avg_error: 6.482934311797628 cumulative_avg_error: 6.996611188820601\n"
     ]
    },
    {
     "name": "stderr",
     "output_type": "stream",
     "text": [
      "\r",
      " 62%|##################################################8                               | 31/50 [10:28<06:52, 21.71s/it]"
     ]
    },
    {
     "name": "stdout",
     "output_type": "stream",
     "text": [
      "gens_avg_error: 7.418699186991828 fakes_avg_error: 6.688426982791973 cumulative_avg_error: 7.0535630848919\n"
     ]
    },
    {
     "name": "stderr",
     "output_type": "stream",
     "text": [
      "\r",
      " 64%|####################################################4                             | 32/50 [10:52<06:45, 22.51s/it]"
     ]
    },
    {
     "name": "stdout",
     "output_type": "stream",
     "text": [
      "gens_avg_error: 7.329317269076263 fakes_avg_error: 6.607843525167967 cumulative_avg_error: 6.968580397122115\n"
     ]
    },
    {
     "name": "stderr",
     "output_type": "stream",
     "text": [
      "\r",
      " 66%|######################################################1                           | 33/50 [11:12<06:05, 21.52s/it]"
     ]
    },
    {
     "name": "stdout",
     "output_type": "stream",
     "text": [
      "gens_avg_error: 7.539682539682502 fakes_avg_error: 6.529178721296924 cumulative_avg_error: 7.034430630489719\n"
     ]
    },
    {
     "name": "stderr",
     "output_type": "stream",
     "text": [
      "\r",
      " 68%|#######################################################7                          | 34/50 [11:28<05:20, 20.01s/it]"
     ]
    },
    {
     "name": "stdout",
     "output_type": "stream",
     "text": [
      "gens_avg_error: 7.549019607843088 fakes_avg_error: 6.452364853987547 cumulative_avg_error: 7.000692230915318\n"
     ]
    },
    {
     "name": "stderr",
     "output_type": "stream",
     "text": [
      "\r",
      " 70%|#########################################################4                        | 35/50 [11:53<05:20, 21.40s/it]"
     ]
    },
    {
     "name": "stdout",
     "output_type": "stream",
     "text": [
      "gens_avg_error: 7.461240310077477 fakes_avg_error: 6.3773373556853645 cumulative_avg_error: 6.919288832881421\n"
     ]
    },
    {
     "name": "stderr",
     "output_type": "stream",
     "text": [
      "\r",
      " 72%|###########################################################                       | 36/50 [12:16<05:05, 21.81s/it]"
     ]
    },
    {
     "name": "stdout",
     "output_type": "stream",
     "text": [
      "gens_avg_error: 7.375478927203016 fakes_avg_error: 6.342348803704301 cumulative_avg_error: 6.858913865453653\n"
     ]
    },
    {
     "name": "stderr",
     "output_type": "stream",
     "text": [
      "\r",
      " 74%|############################################################6                     | 37/50 [12:38<04:45, 21.95s/it]"
     ]
    },
    {
     "name": "stdout",
     "output_type": "stream",
     "text": [
      "gens_avg_error: 7.481060606060563 fakes_avg_error: 6.2702766582076634 cumulative_avg_error: 6.875668632134113\n"
     ]
    },
    {
     "name": "stderr",
     "output_type": "stream",
     "text": [
      "\r",
      " 76%|##############################################################3                   | 38/50 [12:56<04:09, 20.83s/it]"
     ]
    },
    {
     "name": "stdout",
     "output_type": "stream",
     "text": [
      "gens_avg_error: 7.67790262172281 fakes_avg_error: 6.19982411148623 cumulative_avg_error: 6.93886336660452\n"
     ]
    },
    {
     "name": "stderr",
     "output_type": "stream",
     "text": [
      "\r",
      " 78%|###############################################################9                  | 39/50 [13:15<03:41, 20.18s/it]"
     ]
    },
    {
     "name": "stdout",
     "output_type": "stream",
     "text": [
      "gens_avg_error: 7.592592592592551 fakes_avg_error: 6.1309371769141645 cumulative_avg_error: 6.861764884753363\n"
     ]
    },
    {
     "name": "stderr",
     "output_type": "stream",
     "text": [
      "\r",
      " 80%|#################################################################6                | 40/50 [13:32<03:13, 19.37s/it]"
     ]
    },
    {
     "name": "stdout",
     "output_type": "stream",
     "text": [
      "gens_avg_error: 7.509157509157472 fakes_avg_error: 6.1368243141641905 cumulative_avg_error: 6.822990911660831\n"
     ]
    },
    {
     "name": "stderr",
     "output_type": "stream",
     "text": [
      "\r",
      " 82%|###################################################################2              | 41/50 [13:49<02:46, 18.50s/it]"
     ]
    },
    {
     "name": "stdout",
     "output_type": "stream",
     "text": [
      "gens_avg_error: 7.427536231884025 fakes_avg_error: 6.0701197020537005 cumulative_avg_error: 6.748827966968863\n"
     ]
    },
    {
     "name": "stderr",
     "output_type": "stream",
     "text": [
      "\r",
      " 84%|####################################################################8             | 42/50 [14:11<02:36, 19.52s/it]"
     ]
    },
    {
     "name": "stdout",
     "output_type": "stream",
     "text": [
      "gens_avg_error: 7.347670250896021 fakes_avg_error: 6.040691891637351 cumulative_avg_error: 6.694181071266692\n"
     ]
    },
    {
     "name": "stderr",
     "output_type": "stream",
     "text": [
      "\r",
      " 86%|######################################################################5           | 43/50 [14:25<02:06, 18.09s/it]"
     ]
    },
    {
     "name": "stdout",
     "output_type": "stream",
     "text": [
      "gens_avg_error: 7.269503546099254 fakes_avg_error: 6.04735119775468 cumulative_avg_error: 6.658427371926967\n"
     ]
    },
    {
     "name": "stderr",
     "output_type": "stream",
     "text": [
      "\r",
      " 88%|########################################################################1         | 44/50 [14:46<01:53, 18.92s/it]"
     ]
    },
    {
     "name": "stdout",
     "output_type": "stream",
     "text": [
      "gens_avg_error: 7.368421052631547 fakes_avg_error: 5.9836948693572705 cumulative_avg_error: 6.676057960994408\n"
     ]
    },
    {
     "name": "stderr",
     "output_type": "stream",
     "text": [
      "\r",
      " 90%|#########################################################################8        | 45/50 [15:00<01:26, 17.32s/it]"
     ]
    },
    {
     "name": "stdout",
     "output_type": "stream",
     "text": [
      "gens_avg_error: 7.986111111111082 fakes_avg_error: 6.060253603357024 cumulative_avg_error: 7.023182357234048\n"
     ]
    },
    {
     "name": "stderr",
     "output_type": "stream",
     "text": [
      "\r",
      " 92%|###########################################################################4      | 46/50 [15:25<01:18, 19.69s/it]"
     ]
    },
    {
     "name": "stdout",
     "output_type": "stream",
     "text": [
      "gens_avg_error: 7.903780068728494 fakes_avg_error: 5.997776762085305 cumulative_avg_error: 6.9507784154069\n"
     ]
    },
    {
     "name": "stderr",
     "output_type": "stream",
     "text": [
      "\r",
      " 94%|#############################################################################     | 47/50 [15:47<01:00, 20.30s/it]"
     ]
    },
    {
     "name": "stdout",
     "output_type": "stream",
     "text": [
      "gens_avg_error: 7.823129251700656 fakes_avg_error: 5.93657495839055 cumulative_avg_error: 6.879852105045603\n"
     ]
    },
    {
     "name": "stderr",
     "output_type": "stream",
     "text": [
      "\r",
      " 96%|##############################################################################7   | 48/50 [16:03<00:38, 19.13s/it]"
     ]
    },
    {
     "name": "stdout",
     "output_type": "stream",
     "text": [
      "gens_avg_error: 7.828282828282795 fakes_avg_error: 5.876609554770451 cumulative_avg_error: 6.852446191526629\n"
     ]
    },
    {
     "name": "stderr",
     "output_type": "stream",
     "text": [
      "\r",
      " 98%|################################################################################3 | 49/50 [16:20<00:18, 18.48s/it]"
     ]
    },
    {
     "name": "stdout",
     "output_type": "stream",
     "text": [
      "gens_avg_error: 7.749999999999968 fakes_avg_error: 5.817843459222738 cumulative_avg_error: 6.783921729611353\n"
     ]
    },
    {
     "name": "stderr",
     "output_type": "stream",
     "text": [
      "100%|##################################################################################| 50/50 [16:40<00:00, 18.78s/it]\n",
      "  0%|                                                                                           | 0/50 [00:00<?, ?it/s]"
     ]
    },
    {
     "name": "stdout",
     "output_type": "stream",
     "text": [
      "gens_avg_error: 7.673267326732647 fakes_avg_error: 5.760241048735393 cumulative_avg_error: 6.71675418773402\n"
     ]
    },
    {
     "name": "stderr",
     "output_type": "stream",
     "text": [
      "\r",
      "  2%|#6                                                                                 | 1/50 [00:14<11:53, 14.56s/it]"
     ]
    },
    {
     "name": "stdout",
     "output_type": "stream",
     "text": [
      "gens_avg_error: 7.679738562091476 fakes_avg_error: 5.703768097277195 cumulative_avg_error: 6.691753329684335\n"
     ]
    },
    {
     "name": "stderr",
     "output_type": "stream",
     "text": [
      "\r",
      "  4%|###3                                                                               | 2/50 [00:35<13:03, 16.33s/it]"
     ]
    },
    {
     "name": "stdout",
     "output_type": "stream",
     "text": [
      "gens_avg_error: 7.605177993527478 fakes_avg_error: 5.648391707983247 cumulative_avg_error: 6.626784850755363\n"
     ]
    },
    {
     "name": "stderr",
     "output_type": "stream",
     "text": [
      "\r",
      "  6%|####9                                                                              | 3/50 [00:50<12:34, 16.06s/it]"
     ]
    },
    {
     "name": "stdout",
     "output_type": "stream",
     "text": [
      "gens_avg_error: 7.532051282051255 fakes_avg_error: 5.594080249252642 cumulative_avg_error: 6.563065765651954\n"
     ]
    },
    {
     "name": "stderr",
     "output_type": "stream",
     "text": [
      "\r",
      "  8%|######6                                                                            | 4/50 [01:15<14:23, 18.78s/it]"
     ]
    },
    {
     "name": "stdout",
     "output_type": "stream",
     "text": [
      "gens_avg_error: 7.460317460317434 fakes_avg_error: 5.540803294497854 cumulative_avg_error: 6.500560377407649\n"
     ]
    },
    {
     "name": "stderr",
     "output_type": "stream",
     "text": [
      "\r",
      " 10%|########3                                                                          | 5/50 [01:31<13:31, 18.04s/it]"
     ]
    },
    {
     "name": "stdout",
     "output_type": "stream",
     "text": [
      "gens_avg_error: 7.547169811320731 fakes_avg_error: 5.488531565304477 cumulative_avg_error: 6.51785068831261\n"
     ]
    },
    {
     "name": "stderr",
     "output_type": "stream",
     "text": [
      "\r",
      " 12%|#########9                                                                         | 6/50 [01:49<13:11, 17.98s/it]"
     ]
    },
    {
     "name": "stdout",
     "output_type": "stream",
     "text": [
      "gens_avg_error: 7.554517133956351 fakes_avg_error: 5.470614714894428 cumulative_avg_error: 6.512565924425395\n"
     ]
    },
    {
     "name": "stderr",
     "output_type": "stream",
     "text": [
      "\r",
      " 14%|###########6                                                                       | 7/50 [02:13<14:05, 19.67s/it]"
     ]
    },
    {
     "name": "stdout",
     "output_type": "stream",
     "text": [
      "gens_avg_error: 7.48456790123454 fakes_avg_error: 5.450825072472565 cumulative_avg_error: 6.467696486853547\n"
     ]
    },
    {
     "name": "stderr",
     "output_type": "stream",
     "text": [
      "\r",
      " 16%|#############2                                                                     | 8/50 [02:31<13:31, 19.32s/it]"
     ]
    },
    {
     "name": "stdout",
     "output_type": "stream",
     "text": [
      "gens_avg_error: 7.721712538226266 fakes_avg_error: 5.400817503000333 cumulative_avg_error: 6.561265020613294\n"
     ]
    },
    {
     "name": "stderr",
     "output_type": "stream",
     "text": [
      "\r",
      " 18%|##############9                                                                    | 9/50 [02:51<13:17, 19.45s/it]"
     ]
    },
    {
     "name": "stdout",
     "output_type": "stream",
     "text": [
      "gens_avg_error: 8.106060606060572 fakes_avg_error: 5.351719162063972 cumulative_avg_error: 6.728889884062273\n"
     ]
    },
    {
     "name": "stderr",
     "output_type": "stream",
     "text": [
      "\r",
      " 20%|################4                                                                 | 10/50 [03:16<14:05, 21.15s/it]"
     ]
    },
    {
     "name": "stdout",
     "output_type": "stream",
     "text": [
      "gens_avg_error: 8.033033033033 fakes_avg_error: 5.303505475919246 cumulative_avg_error: 6.668269254476122\n"
     ]
    },
    {
     "name": "stderr",
     "output_type": "stream",
     "text": [
      "\r",
      " 22%|##################                                                                | 11/50 [03:39<14:05, 21.69s/it]"
     ]
    },
    {
     "name": "stdout",
     "output_type": "stream",
     "text": [
      "gens_avg_error: 7.96130952380949 fakes_avg_error: 5.256152748455689 cumulative_avg_error: 6.608731136132584\n"
     ]
    },
    {
     "name": "stderr",
     "output_type": "stream",
     "text": [
      "\r",
      " 24%|###################6                                                              | 12/50 [03:54<12:31, 19.77s/it]"
     ]
    },
    {
     "name": "stdout",
     "output_type": "stream",
     "text": [
      "gens_avg_error: 8.1120943952802 fakes_avg_error: 5.209638122363158 cumulative_avg_error: 6.660866258821674\n"
     ]
    },
    {
     "name": "stderr",
     "output_type": "stream",
     "text": [
      "\r",
      " 26%|#####################3                                                            | 13/50 [04:22<13:33, 21.99s/it]"
     ]
    },
    {
     "name": "stdout",
     "output_type": "stream",
     "text": [
      "gens_avg_error: 8.114035087719262 fakes_avg_error: 5.163939542342422 cumulative_avg_error: 6.6389873150308425\n"
     ]
    },
    {
     "name": "stderr",
     "output_type": "stream",
     "text": [
      "\r",
      " 28%|######################9                                                           | 14/50 [04:40<12:32, 20.90s/it]"
     ]
    },
    {
     "name": "stdout",
     "output_type": "stream",
     "text": [
      "gens_avg_error: 8.04347826086953 fakes_avg_error: 5.148021227481481 cumulative_avg_error: 6.595749744175505\n"
     ]
    },
    {
     "name": "stderr",
     "output_type": "stream",
     "text": [
      "\r",
      " 30%|########################5                                                         | 15/50 [04:57<11:30, 19.74s/it]"
     ]
    },
    {
     "name": "stdout",
     "output_type": "stream",
     "text": [
      "gens_avg_error: 7.974137931034441 fakes_avg_error: 5.103641734141117 cumulative_avg_error: 6.538889832587779\n"
     ]
    },
    {
     "name": "stderr",
     "output_type": "stream",
     "text": [
      "\r",
      " 32%|##########################2                                                       | 16/50 [05:14<10:40, 18.84s/it]"
     ]
    },
    {
     "name": "stdout",
     "output_type": "stream",
     "text": [
      "gens_avg_error: 7.977207977207934 fakes_avg_error: 5.145490950088627 cumulative_avg_error: 6.5613494636482805\n"
     ]
    },
    {
     "name": "stderr",
     "output_type": "stream",
     "text": [
      "\r",
      " 34%|###########################8                                                      | 17/50 [05:33<10:27, 19.00s/it]"
     ]
    },
    {
     "name": "stdout",
     "output_type": "stream",
     "text": [
      "gens_avg_error: 7.980225988700518 fakes_avg_error: 5.101885094579394 cumulative_avg_error: 6.541055541639951\n"
     ]
    },
    {
     "name": "stderr",
     "output_type": "stream",
     "text": [
      "\r",
      " 36%|#############################5                                                    | 18/50 [05:51<10:00, 18.76s/it]"
     ]
    },
    {
     "name": "stdout",
     "output_type": "stream",
     "text": [
      "gens_avg_error: 7.983193277310874 fakes_avg_error: 5.059012110591343 cumulative_avg_error: 6.521102693951109\n"
     ]
    },
    {
     "name": "stderr",
     "output_type": "stream",
     "text": [
      "\r",
      " 38%|###############################1                                                  | 19/50 [06:07<09:14, 17.89s/it]"
     ]
    },
    {
     "name": "stdout",
     "output_type": "stream",
     "text": [
      "gens_avg_error: 7.916666666666616 fakes_avg_error: 5.016853676336408 cumulative_avg_error: 6.466760171501518\n"
     ]
    },
    {
     "name": "stderr",
     "output_type": "stream",
     "text": [
      "\r",
      " 40%|################################8                                                 | 20/50 [06:25<08:58, 17.94s/it]"
     ]
    },
    {
     "name": "stdout",
     "output_type": "stream",
     "text": [
      "gens_avg_error: 7.851239669421439 fakes_avg_error: 5.058036703804703 cumulative_avg_error: 6.454638186613071\n"
     ]
    },
    {
     "name": "stderr",
     "output_type": "stream",
     "text": [
      "\r",
      " 42%|##################################4                                               | 21/50 [06:41<08:18, 17.20s/it]"
     ]
    },
    {
     "name": "stdout",
     "output_type": "stream",
     "text": [
      "gens_avg_error: 7.786885245901598 fakes_avg_error: 5.016577386560394 cumulative_avg_error: 6.401731316230997\n"
     ]
    },
    {
     "name": "stderr",
     "output_type": "stream",
     "text": [
      "\r",
      " 44%|####################################                                              | 22/50 [07:00<08:15, 17.70s/it]"
     ]
    },
    {
     "name": "stdout",
     "output_type": "stream",
     "text": [
      "gens_avg_error: 7.791327913279078 fakes_avg_error: 5.029992746561263 cumulative_avg_error: 6.41066032992017\n"
     ]
    },
    {
     "name": "stderr",
     "output_type": "stream",
     "text": [
      "\r",
      " 46%|#####################################7                                            | 23/50 [07:19<08:14, 18.30s/it]"
     ]
    },
    {
     "name": "stdout",
     "output_type": "stream",
     "text": [
      "gens_avg_error: 7.728494623655868 fakes_avg_error: 5.204482052368564 cumulative_avg_error: 6.466488338012222\n"
     ]
    },
    {
     "name": "stderr",
     "output_type": "stream",
     "text": [
      "\r",
      " 48%|#######################################3                                          | 24/50 [07:43<08:34, 19.80s/it]"
     ]
    },
    {
     "name": "stdout",
     "output_type": "stream",
     "text": [
      "gens_avg_error: 7.666666666666622 fakes_avg_error: 5.216179529282938 cumulative_avg_error: 6.441423097974774\n"
     ]
    },
    {
     "name": "stderr",
     "output_type": "stream",
     "text": [
      "\r",
      " 50%|#########################################                                         | 25/50 [08:05<08:35, 20.64s/it]"
     ]
    },
    {
     "name": "stdout",
     "output_type": "stream",
     "text": [
      "gens_avg_error: 7.671957671957619 fakes_avg_error: 5.174781279050533 cumulative_avg_error: 6.4233694755040815\n"
     ]
    },
    {
     "name": "stderr",
     "output_type": "stream",
     "text": [
      "\r",
      " 52%|##########################################6                                       | 26/50 [08:18<07:19, 18.30s/it]"
     ]
    },
    {
     "name": "stdout",
     "output_type": "stream",
     "text": [
      "gens_avg_error: 7.611548556430392 fakes_avg_error: 5.1340349697666765 cumulative_avg_error: 6.372791763098529\n"
     ]
    },
    {
     "name": "stderr",
     "output_type": "stream",
     "text": [
      "\r",
      " 54%|############################################2                                     | 27/50 [08:40<07:25, 19.35s/it]"
     ]
    },
    {
     "name": "stdout",
     "output_type": "stream",
     "text": [
      "gens_avg_error: 7.617187499999945 fakes_avg_error: 5.093925321565374 cumulative_avg_error: 6.355556410782659\n"
     ]
    },
    {
     "name": "stderr",
     "output_type": "stream",
     "text": [
      "\r",
      " 56%|#############################################9                                    | 28/50 [08:59<07:05, 19.36s/it]"
     ]
    },
    {
     "name": "stdout",
     "output_type": "stream",
     "text": [
      "gens_avg_error: 7.622739018087799 fakes_avg_error: 5.080277321656601 cumulative_avg_error: 6.3515081698722\n"
     ]
    },
    {
     "name": "stderr",
     "output_type": "stream",
     "text": [
      "\r",
      " 58%|###############################################5                                  | 29/50 [09:15<06:24, 18.33s/it]"
     ]
    },
    {
     "name": "stdout",
     "output_type": "stream",
     "text": [
      "gens_avg_error: 7.5641025641025035 fakes_avg_error: 5.041198265336167 cumulative_avg_error: 6.302650414719335\n"
     ]
    },
    {
     "name": "stderr",
     "output_type": "stream",
     "text": [
      "\r",
      " 60%|#################################################1                                | 30/50 [09:28<05:34, 16.74s/it]"
     ]
    },
    {
     "name": "stdout",
     "output_type": "stream",
     "text": [
      "gens_avg_error: 7.5063613231551525 fakes_avg_error: 5.155387591554971 cumulative_avg_error: 6.330874457355062\n"
     ]
    },
    {
     "name": "stderr",
     "output_type": "stream",
     "text": [
      "\r",
      " 62%|##################################################8                               | 31/50 [09:42<05:03, 15.99s/it]"
     ]
    },
    {
     "name": "stdout",
     "output_type": "stream",
     "text": [
      "gens_avg_error: 7.575757575757525 fakes_avg_error: 5.116331624952286 cumulative_avg_error: 6.346044600354905\n"
     ]
    },
    {
     "name": "stderr",
     "output_type": "stream",
     "text": [
      "\r",
      " 64%|####################################################4                             | 32/50 [10:08<05:37, 18.74s/it]"
     ]
    },
    {
     "name": "stdout",
     "output_type": "stream",
     "text": [
      "gens_avg_error: 7.89473684210521 fakes_avg_error: 5.077862966118052 cumulative_avg_error: 6.486299904111625\n"
     ]
    },
    {
     "name": "stderr",
     "output_type": "stream",
     "text": [
      "\r",
      " 66%|######################################################1                           | 33/50 [10:22<04:54, 17.33s/it]"
     ]
    },
    {
     "name": "stdout",
     "output_type": "stream",
     "text": [
      "gens_avg_error: 7.898009950248697 fakes_avg_error: 5.039968466370903 cumulative_avg_error: 6.4689892083098055\n"
     ]
    },
    {
     "name": "stderr",
     "output_type": "stream",
     "text": [
      "\r",
      " 68%|#######################################################7                          | 34/50 [10:39<04:37, 17.37s/it]"
     ]
    },
    {
     "name": "stdout",
     "output_type": "stream",
     "text": [
      "gens_avg_error: 8.209876543209816 fakes_avg_error: 5.002635366620012 cumulative_avg_error: 6.606255954914908\n"
     ]
    },
    {
     "name": "stderr",
     "output_type": "stream",
     "text": [
      "\r",
      " 70%|#########################################################4                        | 35/50 [10:58<04:26, 17.80s/it]"
     ]
    },
    {
     "name": "stdout",
     "output_type": "stream",
     "text": [
      "gens_avg_error: 8.333333333333282 fakes_avg_error: 4.965851283041922 cumulative_avg_error: 6.649592308187602\n"
     ]
    },
    {
     "name": "stderr",
     "output_type": "stream",
     "text": [
      "\r",
      " 72%|###########################################################                       | 36/50 [11:21<04:30, 19.35s/it]"
     ]
    },
    {
     "name": "stdout",
     "output_type": "stream",
     "text": [
      "gens_avg_error: 8.759124087591186 fakes_avg_error: 4.929604193384685 cumulative_avg_error: 6.844364140487935\n"
     ]
    },
    {
     "name": "stderr",
     "output_type": "stream",
     "text": [
      "\r",
      " 74%|############################################################6                     | 37/50 [11:42<04:20, 20.04s/it]"
     ]
    },
    {
     "name": "stdout",
     "output_type": "stream",
     "text": [
      "gens_avg_error: 8.695652173912993 fakes_avg_error: 4.893882423867401 cumulative_avg_error: 6.794767298890192\n"
     ]
    },
    {
     "name": "stderr",
     "output_type": "stream",
     "text": [
      "\r",
      " 76%|##############################################################3                   | 38/50 [12:03<04:03, 20.33s/it]"
     ]
    },
    {
     "name": "stdout",
     "output_type": "stream",
     "text": [
      "gens_avg_error: 8.693045563549106 fakes_avg_error: 5.09848279012256 cumulative_avg_error: 6.895764176835839\n"
     ]
    },
    {
     "name": "stderr",
     "output_type": "stream",
     "text": [
      "\r",
      " 78%|###############################################################9                  | 39/50 [12:27<03:53, 21.19s/it]"
     ]
    },
    {
     "name": "stdout",
     "output_type": "stream",
     "text": [
      "gens_avg_error: 8.690476190476137 fakes_avg_error: 5.062065055907395 cumulative_avg_error: 6.87627062319176\n"
     ]
    },
    {
     "name": "stderr",
     "output_type": "stream",
     "text": [
      "\r",
      " 80%|#################################################################6                | 40/50 [12:50<03:38, 21.88s/it]"
     ]
    },
    {
     "name": "stdout",
     "output_type": "stream",
     "text": [
      "gens_avg_error: 8.62884160756494 fakes_avg_error: 5.026163885298129 cumulative_avg_error: 6.827502746431535\n"
     ]
    },
    {
     "name": "stderr",
     "output_type": "stream",
     "text": [
      "\r",
      " 82%|###################################################################2              | 41/50 [13:09<03:10, 21.11s/it]"
     ]
    },
    {
     "name": "stdout",
     "output_type": "stream",
     "text": [
      "gens_avg_error: 9.154929577464731 fakes_avg_error: 4.990768364979125 cumulative_avg_error: 7.0728489712219345\n"
     ]
    },
    {
     "name": "stderr",
     "output_type": "stream",
     "text": [
      "\r",
      " 84%|####################################################################8             | 42/50 [13:24<02:33, 19.23s/it]"
     ]
    },
    {
     "name": "stdout",
     "output_type": "stream",
     "text": [
      "gens_avg_error: 9.149184149184098 fakes_avg_error: 4.979177910212373 cumulative_avg_error: 7.0641810296982355\n"
     ]
    },
    {
     "name": "stderr",
     "output_type": "stream",
     "text": [
      "\r",
      " 86%|######################################################################5           | 43/50 [13:51<02:29, 21.37s/it]"
     ]
    },
    {
     "name": "stdout",
     "output_type": "stream",
     "text": [
      "gens_avg_error: 9.317129629629584 fakes_avg_error: 4.967748433984043 cumulative_avg_error: 7.142439031806813\n"
     ]
    },
    {
     "name": "stderr",
     "output_type": "stream",
     "text": [
      "\r",
      " 88%|########################################################################1         | 44/50 [14:06<01:58, 19.68s/it]"
     ]
    },
    {
     "name": "stdout",
     "output_type": "stream",
     "text": [
      "gens_avg_error: 9.252873563218344 fakes_avg_error: 4.933488099956563 cumulative_avg_error: 7.093180831587453\n"
     ]
    },
    {
     "name": "stderr",
     "output_type": "stream",
     "text": [
      "\r",
      " 90%|#########################################################################8        | 45/50 [14:25<01:36, 19.30s/it]"
     ]
    },
    {
     "name": "stdout",
     "output_type": "stream",
     "text": [
      "gens_avg_error: 9.189497716894934 fakes_avg_error: 5.105176537628098 cumulative_avg_error: 7.147337127261522\n"
     ]
    },
    {
     "name": "stderr",
     "output_type": "stream",
     "text": [
      "\r",
      " 92%|###########################################################################4      | 46/50 [14:40<01:12, 18.02s/it]"
     ]
    },
    {
     "name": "stdout",
     "output_type": "stream",
     "text": [
      "gens_avg_error: 9.126984126984084 fakes_avg_error: 5.070447445535398 cumulative_avg_error: 7.098715786259735\n"
     ]
    },
    {
     "name": "stderr",
     "output_type": "stream",
     "text": [
      "\r",
      " 94%|#############################################################################     | 47/50 [14:56<00:52, 17.43s/it]"
     ]
    },
    {
     "name": "stdout",
     "output_type": "stream",
     "text": [
      "gens_avg_error: 9.121621621621578 fakes_avg_error: 5.036187665497993 cumulative_avg_error: 7.07890464355978\n"
     ]
    },
    {
     "name": "stderr",
     "output_type": "stream",
     "text": [
      "\r",
      " 96%|##############################################################################7   | 48/50 [15:21<00:39, 19.68s/it]"
     ]
    },
    {
     "name": "stdout",
     "output_type": "stream",
     "text": [
      "gens_avg_error: 9.060402684563718 fakes_avg_error: 5.00238774827989 cumulative_avg_error: 7.0313952164217985\n"
     ]
    },
    {
     "name": "stderr",
     "output_type": "stream",
     "text": [
      "\r",
      " 98%|################################################################################3 | 49/50 [15:37<00:18, 18.74s/it]"
     ]
    },
    {
     "name": "stdout",
     "output_type": "stream",
     "text": [
      "gens_avg_error: 8.999999999999964 fakes_avg_error: 4.969038496624689 cumulative_avg_error: 6.984519248312326\n"
     ]
    },
    {
     "name": "stderr",
     "output_type": "stream",
     "text": [
      "100%|##################################################################################| 50/50 [15:52<00:00, 17.49s/it]\n",
      "  0%|                                                                                           | 0/50 [00:00<?, ?it/s]"
     ]
    },
    {
     "name": "stdout",
     "output_type": "stream",
     "text": [
      "gens_avg_error: 8.940397350993335 fakes_avg_error: 4.958206012099575 cumulative_avg_error: 6.94930168154646\n"
     ]
    },
    {
     "name": "stderr",
     "output_type": "stream",
     "text": [
      "\r",
      "  2%|#6                                                                                 | 1/50 [00:21<17:48, 21.81s/it]"
     ]
    },
    {
     "name": "stdout",
     "output_type": "stream",
     "text": [
      "gens_avg_error: 9.210526315789435 fakes_avg_error: 4.925586235704182 cumulative_avg_error: 7.0680562757468035\n"
     ]
    },
    {
     "name": "stderr",
     "output_type": "stream",
     "text": [
      "\r",
      "  4%|###3                                                                               | 2/50 [00:40<16:44, 20.92s/it]"
     ]
    },
    {
     "name": "stdout",
     "output_type": "stream",
     "text": [
      "gens_avg_error: 9.150326797385588 fakes_avg_error: 4.893392861614609 cumulative_avg_error: 7.021859829500099\n"
     ]
    },
    {
     "name": "stderr",
     "output_type": "stream",
     "text": [
      "\r",
      "  6%|####9                                                                              | 3/50 [01:01<16:27, 21.00s/it]"
     ]
    },
    {
     "name": "stdout",
     "output_type": "stream",
     "text": [
      "gens_avg_error: 9.090909090909049 fakes_avg_error: 4.883262604937466 cumulative_avg_error: 6.987085847923257\n"
     ]
    },
    {
     "name": "stderr",
     "output_type": "stream",
     "text": [
      "\r",
      "  8%|######6                                                                            | 4/50 [01:14<14:04, 18.36s/it]"
     ]
    },
    {
     "name": "stdout",
     "output_type": "stream",
     "text": [
      "gens_avg_error: 9.032258064516096 fakes_avg_error: 4.937779190281944 cumulative_avg_error: 6.98501862739902\n"
     ]
    },
    {
     "name": "stderr",
     "output_type": "stream",
     "text": [
      "\r",
      " 10%|########3                                                                          | 5/50 [01:36<14:35, 19.46s/it]"
     ]
    },
    {
     "name": "stdout",
     "output_type": "stream",
     "text": [
      "gens_avg_error: 9.027777777777747 fakes_avg_error: 4.906126759575013 cumulative_avg_error: 6.966952268676385\n"
     ]
    },
    {
     "name": "stderr",
     "output_type": "stream",
     "text": [
      "\r",
      " 12%|#########9                                                                         | 6/50 [01:54<13:58, 19.06s/it]"
     ]
    },
    {
     "name": "stdout",
     "output_type": "stream",
     "text": [
      "gens_avg_error: 8.97027600849254 fakes_avg_error: 5.150886037114876 cumulative_avg_error: 7.060581022803714\n"
     ]
    },
    {
     "name": "stderr",
     "output_type": "stream",
     "text": [
      "\r",
      " 14%|###########6                                                                       | 7/50 [02:15<14:09, 19.77s/it]"
     ]
    },
    {
     "name": "stdout",
     "output_type": "stream",
     "text": [
      "gens_avg_error: 8.913502109704607 fakes_avg_error: 5.1182854925761685 cumulative_avg_error: 7.015893801140383\n"
     ]
    },
    {
     "name": "stderr",
     "output_type": "stream",
     "text": [
      "\r",
      " 16%|#############2                                                                     | 8/50 [02:38<14:29, 20.70s/it]"
     ]
    },
    {
     "name": "stdout",
     "output_type": "stream",
     "text": [
      "gens_avg_error: 8.962264150943355 fakes_avg_error: 5.086095017780101 cumulative_avg_error: 7.024179584361723\n"
     ]
    },
    {
     "name": "stderr",
     "output_type": "stream",
     "text": [
      "\r",
      " 18%|##############9                                                                    | 9/50 [02:58<14:05, 20.62s/it]"
     ]
    },
    {
     "name": "stdout",
     "output_type": "stream",
     "text": [
      "gens_avg_error: 8.906249999999961 fakes_avg_error: 5.054306923918972 cumulative_avg_error: 6.980278461959466\n"
     ]
    },
    {
     "name": "stderr",
     "output_type": "stream",
     "text": [
      "\r",
      " 20%|################4                                                                 | 10/50 [03:13<12:30, 18.75s/it]"
     ]
    },
    {
     "name": "stdout",
     "output_type": "stream",
     "text": [
      "gens_avg_error: 8.850931677018604 fakes_avg_error: 5.147137315695871 cumulative_avg_error: 6.999034496357237\n"
     ]
    },
    {
     "name": "stderr",
     "output_type": "stream",
     "text": [
      "\r",
      " 22%|##################                                                                | 11/50 [03:28<11:33, 17.79s/it]"
     ]
    },
    {
     "name": "stdout",
     "output_type": "stream",
     "text": [
      "gens_avg_error: 9.00205761316869 fakes_avg_error: 5.115364863129845 cumulative_avg_error: 7.058711238149273\n"
     ]
    },
    {
     "name": "stderr",
     "output_type": "stream",
     "text": [
      "\r",
      " 24%|###################6                                                              | 12/50 [03:47<11:23, 17.98s/it]"
     ]
    },
    {
     "name": "stdout",
     "output_type": "stream",
     "text": [
      "gens_avg_error: 9.30470347648259 fakes_avg_error: 5.083982256607578 cumulative_avg_error: 7.194342866545078\n"
     ]
    },
    {
     "name": "stderr",
     "output_type": "stream",
     "text": [
      "\r",
      " 26%|#####################3                                                            | 13/50 [03:59<10:01, 16.25s/it]"
     ]
    },
    {
     "name": "stdout",
     "output_type": "stream",
     "text": [
      "gens_avg_error: 9.247967479674779 fakes_avg_error: 5.052982364798986 cumulative_avg_error: 7.150474922236882\n"
     ]
    },
    {
     "name": "stderr",
     "output_type": "stream",
     "text": [
      "\r",
      " 28%|######################9                                                           | 14/50 [04:17<09:58, 16.63s/it]"
     ]
    },
    {
     "name": "stdout",
     "output_type": "stream",
     "text": [
      "gens_avg_error: 9.191919191919173 fakes_avg_error: 5.042560249456773 cumulative_avg_error: 7.117239720687973\n"
     ]
    },
    {
     "name": "stderr",
     "output_type": "stream",
     "text": [
      "\r",
      " 30%|########################5                                                         | 15/50 [04:33<09:41, 16.61s/it]"
     ]
    },
    {
     "name": "stdout",
     "output_type": "stream",
     "text": [
      "gens_avg_error: 9.136546184738936 fakes_avg_error: 5.012183380484137 cumulative_avg_error: 7.074364782611542\n"
     ]
    },
    {
     "name": "stderr",
     "output_type": "stream",
     "text": [
      "\r",
      " 32%|##########################2                                                       | 16/50 [04:48<09:02, 15.96s/it]"
     ]
    },
    {
     "name": "stdout",
     "output_type": "stream",
     "text": [
      "gens_avg_error: 9.081836327345282 fakes_avg_error: 4.982170306349509 cumulative_avg_error: 7.0320033168473906\n"
     ]
    },
    {
     "name": "stderr",
     "output_type": "stream",
     "text": [
      "\r",
      " 34%|###########################8                                                      | 17/50 [05:07<09:20, 16.98s/it]"
     ]
    },
    {
     "name": "stdout",
     "output_type": "stream",
     "text": [
      "gens_avg_error: 9.126984126984095 fakes_avg_error: 4.972355800557738 cumulative_avg_error: 7.0496699637709215\n"
     ]
    },
    {
     "name": "stderr",
     "output_type": "stream",
     "text": [
      "\r",
      " 36%|#############################5                                                    | 18/50 [05:24<09:07, 17.11s/it]"
     ]
    },
    {
     "name": "stdout",
     "output_type": "stream",
     "text": [
      "gens_avg_error: 9.072978303747503 fakes_avg_error: 5.081000638029776 cumulative_avg_error: 7.076989470888639\n"
     ]
    },
    {
     "name": "stderr",
     "output_type": "stream",
     "text": [
      "\r",
      " 38%|###############################1                                                  | 19/50 [05:46<09:32, 18.46s/it]"
     ]
    },
    {
     "name": "stdout",
     "output_type": "stream",
     "text": [
      "gens_avg_error: 9.019607843137223 fakes_avg_error: 5.090328085257056 cumulative_avg_error: 7.054967964197134\n"
     ]
    },
    {
     "name": "stderr",
     "output_type": "stream",
     "text": [
      "\r",
      " 40%|################################8                                                 | 20/50 [06:01<08:47, 17.59s/it]"
     ]
    },
    {
     "name": "stdout",
     "output_type": "stream",
     "text": [
      "gens_avg_error: 9.064327485380087 fakes_avg_error: 5.080053262146389 cumulative_avg_error: 7.072190373763232\n"
     ]
    },
    {
     "name": "stderr",
     "output_type": "stream",
     "text": [
      "\r",
      " 42%|##################################4                                               | 21/50 [06:16<07:59, 16.52s/it]"
     ]
    },
    {
     "name": "stdout",
     "output_type": "stream",
     "text": [
      "gens_avg_error: 9.011627906976717 fakes_avg_error: 5.108657603645527 cumulative_avg_error: 7.060142755311127\n"
     ]
    },
    {
     "name": "stderr",
     "output_type": "stream",
     "text": [
      "\r",
      " 44%|####################################                                              | 22/50 [06:30<07:23, 15.85s/it]"
     ]
    },
    {
     "name": "stdout",
     "output_type": "stream",
     "text": [
      "gens_avg_error: 8.959537572254305 fakes_avg_error: 5.11766343637976 cumulative_avg_error: 7.0386005043170385\n"
     ]
    },
    {
     "name": "stderr",
     "output_type": "stream",
     "text": [
      "\r",
      " 46%|#####################################7                                            | 23/50 [06:47<07:15, 16.12s/it]"
     ]
    },
    {
     "name": "stdout",
     "output_type": "stream",
     "text": [
      "gens_avg_error: 8.955938697317977 fakes_avg_error: 5.145722841917799 cumulative_avg_error: 7.050830769617889\n"
     ]
    },
    {
     "name": "stderr",
     "output_type": "stream",
     "text": [
      "\r",
      " 48%|#######################################3                                          | 24/50 [07:00<06:40, 15.39s/it]"
     ]
    },
    {
     "name": "stdout",
     "output_type": "stream",
     "text": [
      "gens_avg_error: 9.142857142857109 fakes_avg_error: 5.1163187113925535 cumulative_avg_error: 7.129587927124836\n"
     ]
    },
    {
     "name": "stderr",
     "output_type": "stream",
     "text": [
      "\r",
      " 50%|#########################################                                         | 25/50 [07:24<07:29, 17.97s/it]"
     ]
    },
    {
     "name": "stdout",
     "output_type": "stream",
     "text": [
      "gens_avg_error: 9.090909090909062 fakes_avg_error: 5.0872487187141875 cumulative_avg_error: 7.08907890481163\n"
     ]
    },
    {
     "name": "stderr",
     "output_type": "stream",
     "text": [
      "\r",
      " 52%|##########################################6                                       | 26/50 [07:40<06:58, 17.43s/it]"
     ]
    },
    {
     "name": "stdout",
     "output_type": "stream",
     "text": [
      "gens_avg_error: 9.180790960451946 fakes_avg_error: 5.058507200529361 cumulative_avg_error: 7.119649080490653\n"
     ]
    },
    {
     "name": "stderr",
     "output_type": "stream",
     "text": [
      "\r",
      " 54%|############################################2                                     | 27/50 [08:00<06:58, 18.19s/it]"
     ]
    },
    {
     "name": "stdout",
     "output_type": "stream",
     "text": [
      "gens_avg_error: 9.129213483146037 fakes_avg_error: 5.030088620751105 cumulative_avg_error: 7.079651051948566\n"
     ]
    },
    {
     "name": "stderr",
     "output_type": "stream",
     "text": [
      "\r",
      " 56%|#############################################9                                    | 28/50 [08:16<06:23, 17.43s/it]"
     ]
    },
    {
     "name": "stdout",
     "output_type": "stream",
     "text": [
      "gens_avg_error: 9.078212290502762 fakes_avg_error: 5.001987567003896 cumulative_avg_error: 7.04009992875333\n"
     ]
    },
    {
     "name": "stderr",
     "output_type": "stream",
     "text": [
      "\r",
      " 58%|###############################################5                                  | 29/50 [08:38<06:31, 18.66s/it]"
     ]
    },
    {
     "name": "stdout",
     "output_type": "stream",
     "text": [
      "gens_avg_error: 9.027777777777747 fakes_avg_error: 4.9741987471872084 cumulative_avg_error: 7.000988262482477\n"
     ]
    },
    {
     "name": "stderr",
     "output_type": "stream",
     "text": [
      "\r",
      " 60%|#################################################1                                | 30/50 [09:01<06:42, 20.12s/it]"
     ]
    },
    {
     "name": "stdout",
     "output_type": "stream",
     "text": [
      "gens_avg_error: 8.977900552486151 fakes_avg_error: 5.0203818111990595 cumulative_avg_error: 6.999141181842605\n"
     ]
    },
    {
     "name": "stderr",
     "output_type": "stream",
     "text": [
      "\r",
      " 62%|##################################################8                               | 31/50 [09:20<06:16, 19.82s/it]"
     ]
    },
    {
     "name": "stdout",
     "output_type": "stream",
     "text": [
      "gens_avg_error: 9.20329670329667 fakes_avg_error: 5.011112314067933 cumulative_avg_error: 7.107204508682297\n"
     ]
    },
    {
     "name": "stderr",
     "output_type": "stream",
     "text": [
      "\r",
      " 64%|####################################################4                             | 32/50 [09:40<05:57, 19.84s/it]"
     ]
    },
    {
     "name": "stdout",
     "output_type": "stream",
     "text": [
      "gens_avg_error: 9.335154826958082 fakes_avg_error: 4.983729186668651 cumulative_avg_error: 7.159442006813366\n"
     ]
    },
    {
     "name": "stderr",
     "output_type": "stream",
     "text": [
      "\r",
      " 66%|######################################################1                           | 33/50 [10:07<06:14, 22.01s/it]"
     ]
    },
    {
     "name": "stdout",
     "output_type": "stream",
     "text": [
      "gens_avg_error: 9.284420289855044 fakes_avg_error: 4.956643701958496 cumulative_avg_error: 7.120531995906765\n"
     ]
    },
    {
     "name": "stderr",
     "output_type": "stream",
     "text": [
      "\r",
      " 68%|#######################################################7                          | 34/50 [10:21<05:12, 19.52s/it]"
     ]
    },
    {
     "name": "stdout",
     "output_type": "stream",
     "text": [
      "gens_avg_error: 9.234234234234206 fakes_avg_error: 5.055977159425373 cumulative_avg_error: 7.1451056968297895\n"
     ]
    },
    {
     "name": "stderr",
     "output_type": "stream",
     "text": [
      "\r",
      " 70%|#########################################################4                        | 35/50 [10:32<04:14, 16.98s/it]"
     ]
    },
    {
     "name": "stdout",
     "output_type": "stream",
     "text": [
      "gens_avg_error: 9.229390681003569 fakes_avg_error: 5.1363213682456665 cumulative_avg_error: 7.182856024624618\n"
     ]
    },
    {
     "name": "stderr",
     "output_type": "stream",
     "text": [
      "\r",
      " 72%|###########################################################                       | 36/50 [10:46<03:46, 16.21s/it]"
     ]
    },
    {
     "name": "stdout",
     "output_type": "stream",
     "text": [
      "gens_avg_error: 9.180035650623864 fakes_avg_error: 5.269282216543825 cumulative_avg_error: 7.2246589335838385\n"
     ]
    },
    {
     "name": "stderr",
     "output_type": "stream",
     "text": [
      "\r",
      " 74%|############################################################6                     | 37/50 [11:07<03:47, 17.52s/it]"
     ]
    },
    {
     "name": "stdout",
     "output_type": "stream",
     "text": [
      "gens_avg_error: 9.131205673758846 fakes_avg_error: 5.418559084186326 cumulative_avg_error: 7.27488237897258\n"
     ]
    },
    {
     "name": "stderr",
     "output_type": "stream",
     "text": [
      "\r",
      " 76%|##############################################################3                   | 38/50 [11:22<03:20, 16.70s/it]"
     ]
    },
    {
     "name": "stdout",
     "output_type": "stream",
     "text": [
      "gens_avg_error: 9.126984126984116 fakes_avg_error: 5.389889459402275 cumulative_avg_error: 7.2584367931932015\n"
     ]
    },
    {
     "name": "stderr",
     "output_type": "stream",
     "text": [
      "\r",
      " 78%|###############################################################9                  | 39/50 [11:32<02:43, 14.86s/it]"
     ]
    },
    {
     "name": "stdout",
     "output_type": "stream",
     "text": [
      "gens_avg_error: 9.078947368421042 fakes_avg_error: 5.466784778036993 cumulative_avg_error: 7.272866073229012\n"
     ]
    },
    {
     "name": "stderr",
     "output_type": "stream",
     "text": [
      "\r",
      " 80%|#################################################################6                | 40/50 [11:49<02:33, 15.34s/it]"
     ]
    },
    {
     "name": "stdout",
     "output_type": "stream",
     "text": [
      "gens_avg_error: 9.03141361256543 fakes_avg_error: 5.438162868204333 cumulative_avg_error: 7.234788240384882\n"
     ]
    },
    {
     "name": "stderr",
     "output_type": "stream",
     "text": [
      "\r",
      " 82%|###################################################################2              | 41/50 [12:10<02:35, 17.26s/it]"
     ]
    },
    {
     "name": "stdout",
     "output_type": "stream",
     "text": [
      "gens_avg_error: 9.027777777777768 fakes_avg_error: 5.427200214376882 cumulative_avg_error: 7.227488996077325\n"
     ]
    },
    {
     "name": "stderr",
     "output_type": "stream",
     "text": [
      "\r",
      " 84%|####################################################################8             | 42/50 [12:23<02:06, 15.80s/it]"
     ]
    },
    {
     "name": "stdout",
     "output_type": "stream",
     "text": [
      "gens_avg_error: 9.153713298791011 fakes_avg_error: 5.399080006012236 cumulative_avg_error: 7.276396652401629\n"
     ]
    },
    {
     "name": "stderr",
     "output_type": "stream",
     "text": [
      "\r",
      " 86%|######################################################################5           | 43/50 [12:38<01:48, 15.47s/it]"
     ]
    },
    {
     "name": "stdout",
     "output_type": "stream",
     "text": [
      "gens_avg_error: 9.106529209621982 fakes_avg_error: 5.40561395787128 cumulative_avg_error: 7.256071583746637\n"
     ]
    },
    {
     "name": "stderr",
     "output_type": "stream",
     "text": [
      "\r",
      " 88%|########################################################################1         | 44/50 [12:53<01:32, 15.44s/it]"
     ]
    },
    {
     "name": "stdout",
     "output_type": "stream",
     "text": [
      "gens_avg_error: 9.18803418803419 fakes_avg_error: 5.394986877745445 cumulative_avg_error: 7.291510532889811\n"
     ]
    },
    {
     "name": "stderr",
     "output_type": "stream",
     "text": [
      "\r",
      " 90%|#########################################################################8        | 45/50 [13:07<01:14, 14.92s/it]"
     ]
    },
    {
     "name": "stdout",
     "output_type": "stream",
     "text": [
      "gens_avg_error: 9.141156462585032 fakes_avg_error: 5.367461434491638 cumulative_avg_error: 7.254308948538335\n"
     ]
    },
    {
     "name": "stderr",
     "output_type": "stream",
     "text": [
      "\r",
      " 92%|###########################################################################4      | 46/50 [13:24<01:02, 15.74s/it]"
     ]
    },
    {
     "name": "stdout",
     "output_type": "stream",
     "text": [
      "gens_avg_error: 9.094754653130288 fakes_avg_error: 5.390976858682029 cumulative_avg_error: 7.242865755906158\n"
     ]
    },
    {
     "name": "stderr",
     "output_type": "stream",
     "text": [
      "\r",
      " 94%|#############################################################################     | 47/50 [13:33<00:41, 13.71s/it]"
     ]
    },
    {
     "name": "stdout",
     "output_type": "stream",
     "text": [
      "gens_avg_error: 9.090909090909093 fakes_avg_error: 5.414254753335146 cumulative_avg_error: 7.2525819221221255\n"
     ]
    },
    {
     "name": "stderr",
     "output_type": "stream",
     "text": [
      "\r",
      " 96%|##############################################################################7   | 48/50 [13:48<00:28, 14.13s/it]"
     ]
    },
    {
     "name": "stdout",
     "output_type": "stream",
     "text": [
      "gens_avg_error: 9.08710217755444 fakes_avg_error: 5.437298699298287 cumulative_avg_error: 7.262200438426358\n"
     ]
    },
    {
     "name": "stderr",
     "output_type": "stream",
     "text": [
      "\r",
      " 98%|################################################################################3 | 49/50 [14:04<00:14, 14.56s/it]"
     ]
    },
    {
     "name": "stdout",
     "output_type": "stream",
     "text": [
      "gens_avg_error: 9.04166666666667 fakes_avg_error: 5.460112205801792 cumulative_avg_error: 7.250889436234232\n"
     ]
    },
    {
     "name": "stderr",
     "output_type": "stream",
     "text": [
      "100%|##################################################################################| 50/50 [14:12<00:00, 12.55s/it]\n",
      "  0%|                                                                                           | 0/50 [00:00<?, ?it/s]"
     ]
    },
    {
     "name": "stdout",
     "output_type": "stream",
     "text": [
      "gens_avg_error: 8.996683250414595 fakes_avg_error: 5.451373855045083 cumulative_avg_error: 7.224028552729833\n"
     ]
    },
    {
     "name": "stderr",
     "output_type": "stream",
     "text": [
      "\r",
      "  2%|#6                                                                                 | 1/50 [00:14<11:53, 14.56s/it]"
     ]
    },
    {
     "name": "stdout",
     "output_type": "stream",
     "text": [
      "gens_avg_error: 8.952145214521456 fakes_avg_error: 5.506895106587761 cumulative_avg_error: 7.229520160554603\n"
     ]
    },
    {
     "name": "stderr",
     "output_type": "stream",
     "text": [
      "\r",
      "  4%|###3                                                                               | 2/50 [00:30<11:57, 14.94s/it]"
     ]
    },
    {
     "name": "stdout",
     "output_type": "stream",
     "text": [
      "gens_avg_error: 8.908045977011502 fakes_avg_error: 5.4961879057342955 cumulative_avg_error: 7.202116941372894\n"
     ]
    },
    {
     "name": "stderr",
     "output_type": "stream",
     "text": [
      "\r",
      "  6%|####9                                                                              | 3/50 [00:45<11:44, 14.98s/it]"
     ]
    },
    {
     "name": "stdout",
     "output_type": "stream",
     "text": [
      "gens_avg_error: 8.864379084967322 fakes_avg_error: 5.501925546719255 cumulative_avg_error: 7.183152315843289\n"
     ]
    },
    {
     "name": "stderr",
     "output_type": "stream",
     "text": [
      "\r",
      "  8%|######6                                                                            | 4/50 [01:01<11:37, 15.16s/it]"
     ]
    },
    {
     "name": "stdout",
     "output_type": "stream",
     "text": [
      "gens_avg_error: 8.821138211382118 fakes_avg_error: 5.556387698523868 cumulative_avg_error: 7.1887629549529874\n"
     ]
    },
    {
     "name": "stderr",
     "output_type": "stream",
     "text": [
      "\r",
      " 10%|########3                                                                          | 5/50 [01:14<10:57, 14.62s/it]"
     ]
    },
    {
     "name": "stdout",
     "output_type": "stream",
     "text": [
      "gens_avg_error: 8.778317152103565 fakes_avg_error: 5.54559617247925 cumulative_avg_error: 7.161956662291402\n"
     ]
    },
    {
     "name": "stderr",
     "output_type": "stream",
     "text": [
      "\r",
      " 12%|#########9                                                                         | 6/50 [01:24<09:41, 13.22s/it]"
     ]
    },
    {
     "name": "stdout",
     "output_type": "stream",
     "text": [
      "gens_avg_error: 8.73590982286635 fakes_avg_error: 5.518805852805442 cumulative_avg_error: 7.12735783783589\n"
     ]
    },
    {
     "name": "stderr",
     "output_type": "stream",
     "text": [
      "\r",
      " 14%|###########6                                                                       | 7/50 [01:36<09:10, 12.81s/it]"
     ]
    },
    {
     "name": "stdout",
     "output_type": "stream",
     "text": [
      "gens_avg_error: 8.693910256410264 fakes_avg_error: 5.49227313235926 cumulative_avg_error: 7.093091694384768\n"
     ]
    },
    {
     "name": "stderr",
     "output_type": "stream",
     "text": [
      "\r",
      " 16%|#############2                                                                     | 8/50 [01:47<08:40, 12.40s/it]"
     ]
    },
    {
     "name": "stdout",
     "output_type": "stream",
     "text": [
      "gens_avg_error: 8.652312599681022 fakes_avg_error: 5.465994313544142 cumulative_avg_error: 7.059153456612588\n"
     ]
    },
    {
     "name": "stderr",
     "output_type": "stream",
     "text": [
      "\r",
      " 18%|##############9                                                                    | 9/50 [02:05<09:36, 14.06s/it]"
     ]
    },
    {
     "name": "stdout",
     "output_type": "stream",
     "text": [
      "gens_avg_error: 8.611111111111114 fakes_avg_error: 5.4399657691939325 cumulative_avg_error: 7.025538440152523\n"
     ]
    },
    {
     "name": "stderr",
     "output_type": "stream",
     "text": [
      "\r",
      " 20%|################4                                                                 | 10/50 [02:16<08:47, 13.20s/it]"
     ]
    },
    {
     "name": "stdout",
     "output_type": "stream",
     "text": [
      "gens_avg_error: 8.688783570300163 fakes_avg_error: 5.4615773058328205 cumulative_avg_error: 7.075180438066497\n"
     ]
    },
    {
     "name": "stderr",
     "output_type": "stream",
     "text": [
      "\r",
      " 22%|##################                                                                | 11/50 [02:30<08:39, 13.32s/it]"
     ]
    },
    {
     "name": "stdout",
     "output_type": "stream",
     "text": [
      "gens_avg_error: 8.647798742138368 fakes_avg_error: 5.435815148729839 cumulative_avg_error: 7.041806945434104\n"
     ]
    },
    {
     "name": "stderr",
     "output_type": "stream",
     "text": [
      "\r",
      " 24%|###################6                                                              | 12/50 [02:44<08:35, 13.58s/it]"
     ]
    },
    {
     "name": "stdout",
     "output_type": "stream",
     "text": [
      "gens_avg_error: 8.685446009389675 fakes_avg_error: 5.4102948898156145 cumulative_avg_error: 7.0478704496026445\n"
     ]
    },
    {
     "name": "stderr",
     "output_type": "stream",
     "text": [
      "\r",
      " 26%|#####################3                                                            | 13/50 [02:57<08:13, 13.33s/it]"
     ]
    },
    {
     "name": "stdout",
     "output_type": "stream",
     "text": [
      "gens_avg_error: 8.683800623052962 fakes_avg_error: 5.385013137994044 cumulative_avg_error: 7.034406880523503\n"
     ]
    },
    {
     "name": "stderr",
     "output_type": "stream",
     "text": [
      "\r",
      " 28%|######################9                                                           | 14/50 [03:10<08:01, 13.38s/it]"
     ]
    },
    {
     "name": "stdout",
     "output_type": "stream",
     "text": [
      "gens_avg_error: 8.953488372093021 fakes_avg_error: 5.359966565259189 cumulative_avg_error: 7.156727468676105\n"
     ]
    },
    {
     "name": "stderr",
     "output_type": "stream",
     "text": [
      "\r",
      " 30%|########################5                                                         | 15/50 [03:23<07:40, 13.17s/it]"
     ]
    },
    {
     "name": "stdout",
     "output_type": "stream",
     "text": [
      "gens_avg_error: 8.912037037037035 fakes_avg_error: 5.458608695358302 cumulative_avg_error: 7.185322866197663\n"
     ]
    },
    {
     "name": "stderr",
     "output_type": "stream",
     "text": [
      "\r",
      " 32%|##########################2                                                       | 16/50 [03:37<07:34, 13.35s/it]"
     ]
    },
    {
     "name": "stdout",
     "output_type": "stream",
     "text": [
      "gens_avg_error: 8.94777265745007 fakes_avg_error: 5.433453816577849 cumulative_avg_error: 7.190613237013954\n"
     ]
    },
    {
     "name": "stderr",
     "output_type": "stream",
     "text": [
      "\r",
      " 34%|###########################8                                                      | 17/50 [03:50<07:21, 13.38s/it]"
     ]
    },
    {
     "name": "stdout",
     "output_type": "stream",
     "text": [
      "gens_avg_error: 8.906727828746174 fakes_avg_error: 5.408529716501809 cumulative_avg_error: 7.157628772623992\n"
     ]
    },
    {
     "name": "stderr",
     "output_type": "stream",
     "text": [
      "\r",
      " 36%|#############################5                                                    | 18/50 [04:01<06:45, 12.68s/it]"
     ]
    },
    {
     "name": "stdout",
     "output_type": "stream",
     "text": [
      "gens_avg_error: 9.1324200913242 fakes_avg_error: 5.3838332337780574 cumulative_avg_error: 7.258126662551123\n"
     ]
    },
    {
     "name": "stderr",
     "output_type": "stream",
     "text": [
      "\r",
      " 38%|###############################1                                                  | 19/50 [04:13<06:25, 12.45s/it]"
     ]
    },
    {
     "name": "stdout",
     "output_type": "stream",
     "text": [
      "gens_avg_error: 9.12878787878788 fakes_avg_error: 5.359361264533613 cumulative_avg_error: 7.244074571660741\n"
     ]
    },
    {
     "name": "stderr",
     "output_type": "stream",
     "text": [
      "\r",
      " 40%|################################8                                                 | 20/50 [04:27<06:29, 12.97s/it]"
     ]
    },
    {
     "name": "stdout",
     "output_type": "stream",
     "text": [
      "gens_avg_error: 9.087481146304677 fakes_avg_error: 5.485940323668448 cumulative_avg_error: 7.286710734986568\n"
     ]
    },
    {
     "name": "stderr",
     "output_type": "stream",
     "text": [
      "\r",
      " 42%|##################################4                                               | 21/50 [04:44<06:49, 14.11s/it]"
     ]
    },
    {
     "name": "stdout",
     "output_type": "stream",
     "text": [
      "gens_avg_error: 9.046546546546551 fakes_avg_error: 5.461228880769042 cumulative_avg_error: 7.253887713657803\n"
     ]
    },
    {
     "name": "stderr",
     "output_type": "stream",
     "text": [
      "\r",
      " 44%|####################################                                              | 22/50 [04:57<06:27, 13.84s/it]"
     ]
    },
    {
     "name": "stdout",
     "output_type": "stream",
     "text": [
      "gens_avg_error: 9.005979073243653 fakes_avg_error: 5.4367390651602125 cumulative_avg_error: 7.221359069201938\n"
     ]
    },
    {
     "name": "stderr",
     "output_type": "stream",
     "text": [
      "\r",
      " 46%|#####################################7                                            | 23/50 [05:10<06:00, 13.35s/it]"
     ]
    },
    {
     "name": "stdout",
     "output_type": "stream",
     "text": [
      "gens_avg_error: 8.965773809523814 fakes_avg_error: 5.486872670524079 cumulative_avg_error: 7.226323240023946\n"
     ]
    },
    {
     "name": "stderr",
     "output_type": "stream",
     "text": [
      "\r",
      " 48%|#######################################3                                          | 24/50 [05:25<06:01, 13.92s/it]"
     ]
    },
    {
     "name": "stdout",
     "output_type": "stream",
     "text": [
      "gens_avg_error: 8.925925925925926 fakes_avg_error: 5.46248656976619 cumulative_avg_error: 7.194206247846058\n"
     ]
    },
    {
     "name": "stderr",
     "output_type": "stream",
     "text": [
      "\r",
      " 50%|#########################################                                         | 25/50 [05:40<05:58, 14.34s/it]"
     ]
    },
    {
     "name": "stdout",
     "output_type": "stream",
     "text": [
      "gens_avg_error: 8.886430678466084 fakes_avg_error: 5.453065537746582 cumulative_avg_error: 7.169748108106333\n"
     ]
    },
    {
     "name": "stderr",
     "output_type": "stream",
     "text": [
      "\r",
      " 52%|##########################################6                                       | 26/50 [05:55<05:49, 14.58s/it]"
     ]
    },
    {
     "name": "stdout",
     "output_type": "stream",
     "text": [
      "gens_avg_error: 8.84728340675478 fakes_avg_error: 5.429043222602326 cumulative_avg_error: 7.138163314678558\n"
     ]
    },
    {
     "name": "stderr",
     "output_type": "stream",
     "text": [
      "\r",
      " 54%|############################################2                                     | 27/50 [06:10<05:33, 14.50s/it]"
     ]
    },
    {
     "name": "stdout",
     "output_type": "stream",
     "text": [
      "gens_avg_error: 8.808479532163748 fakes_avg_error: 5.46371116168447 cumulative_avg_error: 7.13609534692411\n"
     ]
    },
    {
     "name": "stderr",
     "output_type": "stream",
     "text": [
      "\r",
      " 56%|#############################################9                                    | 28/50 [06:21<04:59, 13.61s/it]"
     ]
    },
    {
     "name": "stdout",
     "output_type": "stream",
     "text": [
      "gens_avg_error: 8.770014556040762 fakes_avg_error: 5.468964242492246 cumulative_avg_error: 7.119489399266499\n"
     ]
    },
    {
     "name": "stderr",
     "output_type": "stream",
     "text": [
      "\r",
      " 58%|###############################################5                                  | 29/50 [06:35<04:48, 13.72s/it]"
     ]
    },
    {
     "name": "stdout",
     "output_type": "stream",
     "text": [
      "gens_avg_error: 8.731884057971017 fakes_avg_error: 5.445186137090108 cumulative_avg_error: 7.088535097530557\n"
     ]
    },
    {
     "name": "stderr",
     "output_type": "stream",
     "text": [
      "\r",
      " 60%|#################################################1                                | 30/50 [06:47<04:22, 13.10s/it]"
     ]
    },
    {
     "name": "stdout",
     "output_type": "stream",
     "text": [
      "gens_avg_error: 8.694083694083698 fakes_avg_error: 5.4216139027304155 cumulative_avg_error: 7.0578487984070515\n"
     ]
    },
    {
     "name": "stderr",
     "output_type": "stream",
     "text": [
      "\r",
      " 62%|##################################################8                               | 31/50 [07:00<04:07, 13.01s/it]"
     ]
    },
    {
     "name": "stdout",
     "output_type": "stream",
     "text": [
      "gens_avg_error: 8.656609195402298 fakes_avg_error: 5.4269805094715124 cumulative_avg_error: 7.0417948524369\n"
     ]
    },
    {
     "name": "stderr",
     "output_type": "stream",
     "text": [
      "\r",
      " 64%|####################################################4                             | 32/50 [07:16<04:10, 13.90s/it]"
     ]
    },
    {
     "name": "stdout",
     "output_type": "stream",
     "text": [
      "gens_avg_error: 8.619456366237488 fakes_avg_error: 5.403688747628288 cumulative_avg_error: 7.011572556932888\n"
     ]
    },
    {
     "name": "stderr",
     "output_type": "stream",
     "text": [
      "\r",
      " 66%|######################################################1                           | 33/50 [07:30<03:59, 14.11s/it]"
     ]
    },
    {
     "name": "stdout",
     "output_type": "stream",
     "text": [
      "gens_avg_error: 8.582621082621088 fakes_avg_error: 5.380596060672616 cumulative_avg_error: 6.981608571646847\n"
     ]
    },
    {
     "name": "stderr",
     "output_type": "stream",
     "text": [
      "\r",
      " 68%|#######################################################7                          | 34/50 [07:43<03:38, 13.65s/it]"
     ]
    },
    {
     "name": "stdout",
     "output_type": "stream",
     "text": [
      "gens_avg_error: 8.546099290780152 fakes_avg_error: 5.357699907222946 cumulative_avg_error: 6.951899599001554\n"
     ]
    },
    {
     "name": "stderr",
     "output_type": "stream",
     "text": [
      "\r",
      " 70%|#########################################################4                        | 35/50 [07:53<03:11, 12.75s/it]"
     ]
    },
    {
     "name": "stdout",
     "output_type": "stream",
     "text": [
      "gens_avg_error: 8.615819209039554 fakes_avg_error: 5.363246376542619 cumulative_avg_error: 6.989532792791087\n"
     ]
    },
    {
     "name": "stderr",
     "output_type": "stream",
     "text": [
      "\r",
      " 72%|###########################################################                       | 36/50 [08:13<03:25, 14.68s/it]"
     ]
    },
    {
     "name": "stdout",
     "output_type": "stream",
     "text": [
      "gens_avg_error: 8.64978902953587 fakes_avg_error: 5.340616644996022 cumulative_avg_error: 6.995202837265946\n"
     ]
    },
    {
     "name": "stderr",
     "output_type": "stream",
     "text": [
      "\r",
      " 74%|############################################################6                     | 37/50 [08:29<03:18, 15.26s/it]"
     ]
    },
    {
     "name": "stdout",
     "output_type": "stream",
     "text": [
      "gens_avg_error: 8.613445378151264 fakes_avg_error: 5.318177079260744 cumulative_avg_error: 6.965811228706009\n"
     ]
    },
    {
     "name": "stderr",
     "output_type": "stream",
     "text": [
      "\r",
      " 76%|##############################################################3                   | 38/50 [08:41<02:49, 14.11s/it]"
     ]
    },
    {
     "name": "stdout",
     "output_type": "stream",
     "text": [
      "gens_avg_error: 8.716875871687591 fakes_avg_error: 5.295925292318238 cumulative_avg_error: 7.0064005820029145\n"
     ]
    },
    {
     "name": "stderr",
     "output_type": "stream",
     "text": [
      "\r",
      " 78%|###############################################################9                  | 39/50 [08:55<02:37, 14.31s/it]"
     ]
    },
    {
     "name": "stdout",
     "output_type": "stream",
     "text": [
      "gens_avg_error: 8.680555555555557 fakes_avg_error: 5.287747825822464 cumulative_avg_error: 6.984151690689011\n"
     ]
    },
    {
     "name": "stderr",
     "output_type": "stream",
     "text": [
      "\r",
      " 80%|#################################################################6                | 40/50 [09:08<02:19, 13.92s/it]"
     ]
    },
    {
     "name": "stdout",
     "output_type": "stream",
     "text": [
      "gens_avg_error: 8.644536652835411 fakes_avg_error: 5.265806963474651 cumulative_avg_error: 6.955171808155036\n"
     ]
    },
    {
     "name": "stderr",
     "output_type": "stream",
     "text": [
      "\r",
      " 82%|###################################################################2              | 41/50 [09:25<02:13, 14.82s/it]"
     ]
    },
    {
     "name": "stdout",
     "output_type": "stream",
     "text": [
      "gens_avg_error: 8.677685950413228 fakes_avg_error: 5.299143849300513 cumulative_avg_error: 6.988414899856865\n"
     ]
    },
    {
     "name": "stderr",
     "output_type": "stream",
     "text": [
      "\r",
      " 84%|####################################################################8             | 42/50 [09:35<01:47, 13.40s/it]"
     ]
    },
    {
     "name": "stdout",
     "output_type": "stream",
     "text": [
      "gens_avg_error: 8.64197530864198 fakes_avg_error: 5.277336672965937 cumulative_avg_error: 6.9596559908039595\n"
     ]
    },
    {
     "name": "stderr",
     "output_type": "stream",
     "text": [
      "\r",
      " 86%|######################################################################5           | 43/50 [09:45<01:26, 12.38s/it]"
     ]
    },
    {
     "name": "stdout",
     "output_type": "stream",
     "text": [
      "gens_avg_error: 8.64071038251366 fakes_avg_error: 5.255708243978374 cumulative_avg_error: 6.948209313246023\n"
     ]
    },
    {
     "name": "stderr",
     "output_type": "stream",
     "text": [
      "\r",
      " 88%|########################################################################1         | 44/50 [10:03<01:23, 13.95s/it]"
     ]
    },
    {
     "name": "stdout",
     "output_type": "stream",
     "text": [
      "gens_avg_error: 8.605442176870747 fakes_avg_error: 5.234256373594793 cumulative_avg_error: 6.91984927523277\n"
     ]
    },
    {
     "name": "stderr",
     "output_type": "stream",
     "text": [
      "\r",
      " 90%|#########################################################################8        | 45/50 [10:17<01:09, 13.91s/it]"
     ]
    },
    {
     "name": "stdout",
     "output_type": "stream",
     "text": [
      "gens_avg_error: 8.739837398373984 fakes_avg_error: 5.212978908661481 cumulative_avg_error: 6.976408153517733\n"
     ]
    },
    {
     "name": "stderr",
     "output_type": "stream",
     "text": [
      "\r",
      " 92%|###########################################################################4      | 46/50 [10:31<00:56, 14.15s/it]"
     ]
    },
    {
     "name": "stdout",
     "output_type": "stream",
     "text": [
      "gens_avg_error: 8.738191632928483 fakes_avg_error: 5.245854837506303 cumulative_avg_error: 6.992023235217393\n"
     ]
    },
    {
     "name": "stderr",
     "output_type": "stream",
     "text": [
      "\r",
      " 94%|#############################################################################     | 47/50 [10:46<00:42, 14.24s/it]"
     ]
    },
    {
     "name": "stdout",
     "output_type": "stream",
     "text": [
      "gens_avg_error: 8.702956989247312 fakes_avg_error: 5.238143057247536 cumulative_avg_error: 6.970550023247424\n"
     ]
    },
    {
     "name": "stderr",
     "output_type": "stream",
     "text": [
      "\r",
      " 96%|##############################################################################7   | 48/50 [11:00<00:28, 14.34s/it]"
     ]
    },
    {
     "name": "stdout",
     "output_type": "stream",
     "text": [
      "gens_avg_error: 8.734939759036141 fakes_avg_error: 5.231980650205193 cumulative_avg_error: 6.983460204620662\n"
     ]
    },
    {
     "name": "stderr",
     "output_type": "stream",
     "text": [
      "\r",
      " 98%|################################################################################3 | 49/50 [11:13<00:13, 13.81s/it]"
     ]
    },
    {
     "name": "stdout",
     "output_type": "stream",
     "text": [
      "gens_avg_error: 8.699999999999996 fakes_avg_error: 5.21105272760437 cumulative_avg_error: 6.955526363802189\n"
     ]
    },
    {
     "name": "stderr",
     "output_type": "stream",
     "text": [
      "100%|##################################################################################| 50/50 [11:23<00:00, 12.58s/it]\n",
      "  0%|                                                                                           | 0/50 [00:00<?, ?it/s]"
     ]
    },
    {
     "name": "stdout",
     "output_type": "stream",
     "text": [
      "gens_avg_error: 8.66533864541833 fakes_avg_error: 5.19029156135894 cumulative_avg_error: 6.927815103388635\n"
     ]
    },
    {
     "name": "stderr",
     "output_type": "stream",
     "text": [
      "\r",
      "  2%|#6                                                                                 | 1/50 [00:16<13:22, 16.38s/it]"
     ]
    },
    {
     "name": "stdout",
     "output_type": "stream",
     "text": [
      "gens_avg_error: 8.630952380952383 fakes_avg_error: 5.169695166274179 cumulative_avg_error: 6.900323773613282\n"
     ]
    },
    {
     "name": "stderr",
     "output_type": "stream",
     "text": [
      "\r",
      "  4%|###3                                                                               | 2/50 [00:35<13:50, 17.30s/it]"
     ]
    },
    {
     "name": "stdout",
     "output_type": "stream",
     "text": [
      "gens_avg_error: 8.629776021080371 fakes_avg_error: 5.188787280241469 cumulative_avg_error: 6.9092816506609145\n"
     ]
    },
    {
     "name": "stderr",
     "output_type": "stream",
     "text": [
      "\r",
      "  6%|####9                                                                              | 3/50 [00:45<11:50, 15.11s/it]"
     ]
    },
    {
     "name": "stdout",
     "output_type": "stream",
     "text": [
      "gens_avg_error: 8.595800524934383 fakes_avg_error: 5.168358983862575 cumulative_avg_error: 6.8820797543984735\n"
     ]
    },
    {
     "name": "stderr",
     "output_type": "stream",
     "text": [
      "\r",
      "  8%|######6                                                                            | 4/50 [00:58<11:03, 14.42s/it]"
     ]
    },
    {
     "name": "stdout",
     "output_type": "stream",
     "text": [
      "gens_avg_error: 8.562091503267977 fakes_avg_error: 5.148090909416048 cumulative_avg_error: 6.855091206342012\n"
     ]
    },
    {
     "name": "stderr",
     "output_type": "stream",
     "text": [
      "\r",
      " 10%|########3                                                                          | 5/50 [01:10<10:11, 13.59s/it]"
     ]
    },
    {
     "name": "stdout",
     "output_type": "stream",
     "text": [
      "gens_avg_error: 8.561197916666675 fakes_avg_error: 5.167043679301142 cumulative_avg_error: 6.864120797983908\n"
     ]
    },
    {
     "name": "stderr",
     "output_type": "stream",
     "text": [
      "\r",
      " 12%|#########9                                                                         | 6/50 [01:26<10:37, 14.50s/it]"
     ]
    },
    {
     "name": "stdout",
     "output_type": "stream",
     "text": [
      "gens_avg_error: 8.560311284046707 fakes_avg_error: 5.146938450977013 cumulative_avg_error: 6.853624867511865\n"
     ]
    },
    {
     "name": "stderr",
     "output_type": "stream",
     "text": [
      "\r",
      " 14%|###########6                                                                       | 7/50 [01:36<09:20, 13.03s/it]"
     ]
    },
    {
     "name": "stdout",
     "output_type": "stream",
     "text": [
      "gens_avg_error: 8.527131782945752 fakes_avg_error: 5.126989077136013 cumulative_avg_error: 6.827060430040888\n"
     ]
    },
    {
     "name": "stderr",
     "output_type": "stream",
     "text": [
      "\r",
      " 16%|#############2                                                                     | 8/50 [01:48<08:51, 12.66s/it]"
     ]
    },
    {
     "name": "stdout",
     "output_type": "stream",
     "text": [
      "gens_avg_error: 8.494208494208511 fakes_avg_error: 5.107193752513872 cumulative_avg_error: 6.800701123361197\n"
     ]
    },
    {
     "name": "stderr",
     "output_type": "stream",
     "text": [
      "\r",
      " 18%|##############9                                                                    | 9/50 [02:00<08:28, 12.40s/it]"
     ]
    },
    {
     "name": "stdout",
     "output_type": "stream",
     "text": [
      "gens_avg_error: 8.461538461538476 fakes_avg_error: 5.08755069961958 cumulative_avg_error: 6.774544580579023\n"
     ]
    },
    {
     "name": "stderr",
     "output_type": "stream",
     "text": [
      "\r",
      " 20%|################4                                                                 | 10/50 [02:13<08:28, 12.71s/it]"
     ]
    },
    {
     "name": "stdout",
     "output_type": "stream",
     "text": [
      "gens_avg_error: 8.429118773946376 fakes_avg_error: 5.122792705696577 cumulative_avg_error: 6.775955739821482\n"
     ]
    },
    {
     "name": "stderr",
     "output_type": "stream",
     "text": [
      "\r",
      " 22%|##################                                                                | 11/50 [02:24<07:49, 12.05s/it]"
     ]
    },
    {
     "name": "stdout",
     "output_type": "stream",
     "text": [
      "gens_avg_error: 8.39694656488551 fakes_avg_error: 5.28135711012776 cumulative_avg_error: 6.83915183750663\n"
     ]
    },
    {
     "name": "stderr",
     "output_type": "stream",
     "text": [
      "\r",
      " 24%|###################6                                                              | 12/50 [02:36<07:48, 12.32s/it]"
     ]
    },
    {
     "name": "stdout",
     "output_type": "stream",
     "text": [
      "gens_avg_error: 8.36501901140686 fakes_avg_error: 5.286624446844634 cumulative_avg_error: 6.825821729125748\n"
     ]
    },
    {
     "name": "stderr",
     "output_type": "stream",
     "text": [
      "\r",
      " 26%|#####################3                                                            | 13/50 [02:49<07:38, 12.39s/it]"
     ]
    },
    {
     "name": "stdout",
     "output_type": "stream",
     "text": [
      "gens_avg_error: 8.333333333333348 fakes_avg_error: 5.27922561686921 cumulative_avg_error: 6.8062794751012845\n"
     ]
    },
    {
     "name": "stderr",
     "output_type": "stream",
     "text": [
      "\r",
      " 28%|######################9                                                           | 14/50 [03:02<07:26, 12.41s/it]"
     ]
    },
    {
     "name": "stdout",
     "output_type": "stream",
     "text": [
      "gens_avg_error: 8.364779874213845 fakes_avg_error: 5.284461243472228 cumulative_avg_error: 6.824620558843031\n"
     ]
    },
    {
     "name": "stderr",
     "output_type": "stream",
     "text": [
      "\r",
      " 30%|########################5                                                         | 15/50 [03:20<08:19, 14.26s/it]"
     ]
    },
    {
     "name": "stdout",
     "output_type": "stream",
     "text": [
      "gens_avg_error: 8.333333333333337 fakes_avg_error: 5.302188832782473 cumulative_avg_error: 6.8177610830579045\n"
     ]
    },
    {
     "name": "stderr",
     "output_type": "stream",
     "text": [
      "\r",
      " 32%|##########################2                                                       | 16/50 [03:34<08:05, 14.28s/it]"
     ]
    },
    {
     "name": "stdout",
     "output_type": "stream",
     "text": [
      "gens_avg_error: 8.302122347066177 fakes_avg_error: 5.294814842147833 cumulative_avg_error: 6.798468594606999\n"
     ]
    },
    {
     "name": "stderr",
     "output_type": "stream",
     "text": [
      "\r",
      " 34%|###########################8                                                      | 17/50 [03:53<08:36, 15.65s/it]"
     ]
    },
    {
     "name": "stdout",
     "output_type": "stream",
     "text": [
      "gens_avg_error: 8.271144278606968 fakes_avg_error: 5.27505807034877 cumulative_avg_error: 6.773101174477869\n"
     ]
    },
    {
     "name": "stderr",
     "output_type": "stream",
     "text": [
      "\r",
      " 36%|#############################5                                                    | 18/50 [04:05<07:39, 14.37s/it]"
     ]
    },
    {
     "name": "stdout",
     "output_type": "stream",
     "text": [
      "gens_avg_error: 8.240396530359362 fakes_avg_error: 5.255448189046364 cumulative_avg_error: 6.747922359702862\n"
     ]
    },
    {
     "name": "stderr",
     "output_type": "stream",
     "text": [
      "\r",
      " 38%|###############################1                                                  | 19/50 [04:19<07:23, 14.30s/it]"
     ]
    },
    {
     "name": "stdout",
     "output_type": "stream",
     "text": [
      "gens_avg_error: 8.209876543209882 fakes_avg_error: 5.23598356612397 cumulative_avg_error: 6.722930054666931\n"
     ]
    },
    {
     "name": "stderr",
     "output_type": "stream",
     "text": [
      "\r",
      " 40%|################################8                                                 | 20/50 [04:29<06:32, 13.09s/it]"
     ]
    },
    {
     "name": "stdout",
     "output_type": "stream",
     "text": [
      "gens_avg_error: 8.17958179581797 fakes_avg_error: 5.253562962558933 cumulative_avg_error: 6.716572379188457\n"
     ]
    },
    {
     "name": "stderr",
     "output_type": "stream",
     "text": [
      "\r",
      " 42%|##################################4                                               | 21/50 [04:43<06:24, 13.27s/it]"
     ]
    },
    {
     "name": "stdout",
     "output_type": "stream",
     "text": [
      "gens_avg_error: 8.18014705882354 fakes_avg_error: 5.234248392843643 cumulative_avg_error: 6.707197725833591\n"
     ]
    },
    {
     "name": "stderr",
     "output_type": "stream",
     "text": [
      "\r",
      " 44%|####################################                                              | 22/50 [04:58<06:26, 13.79s/it]"
     ]
    },
    {
     "name": "stdout",
     "output_type": "stream",
     "text": [
      "gens_avg_error: 8.150183150183166 fakes_avg_error: 5.215075321807583 cumulative_avg_error: 6.682629235995375\n"
     ]
    },
    {
     "name": "stderr",
     "output_type": "stream",
     "text": [
      "\r",
      " 46%|#####################################7                                            | 23/50 [05:13<06:21, 14.14s/it]"
     ]
    },
    {
     "name": "stdout",
     "output_type": "stream",
     "text": [
      "gens_avg_error: 8.120437956204384 fakes_avg_error: 5.19604220019515 cumulative_avg_error: 6.658240078199773\n"
     ]
    },
    {
     "name": "stderr",
     "output_type": "stream",
     "text": [
      "\r",
      " 48%|#######################################3                                          | 24/50 [05:27<06:12, 14.33s/it]"
     ]
    },
    {
     "name": "stdout",
     "output_type": "stream",
     "text": [
      "gens_avg_error: 8.090909090909104 fakes_avg_error: 5.407450531588376 cumulative_avg_error: 6.74917981124874\n"
     ]
    },
    {
     "name": "stderr",
     "output_type": "stream",
     "text": [
      "\r",
      " 50%|#########################################                                         | 25/50 [05:41<05:50, 14.04s/it]"
     ]
    },
    {
     "name": "stdout",
     "output_type": "stream",
     "text": [
      "gens_avg_error: 8.061594202898558 fakes_avg_error: 5.387858319517402 cumulative_avg_error: 6.72472626120798\n"
     ]
    },
    {
     "name": "stderr",
     "output_type": "stream",
     "text": [
      "\r",
      " 52%|##########################################6                                       | 26/50 [05:52<05:18, 13.27s/it]"
     ]
    },
    {
     "name": "stdout",
     "output_type": "stream",
     "text": [
      "gens_avg_error: 8.062575210589662 fakes_avg_error: 5.380441261805558 cumulative_avg_error: 6.721508236197615\n"
     ]
    },
    {
     "name": "stderr",
     "output_type": "stream",
     "text": [
      "\r",
      " 54%|############################################2                                     | 27/50 [06:04<04:52, 12.71s/it]"
     ]
    },
    {
     "name": "stdout",
     "output_type": "stream",
     "text": [
      "gens_avg_error: 8.033573141486826 fakes_avg_error: 5.373077564221129 cumulative_avg_error: 6.703325352853984\n"
     ]
    },
    {
     "name": "stderr",
     "output_type": "stream",
     "text": [
      "\r",
      " 56%|#############################################9                                    | 28/50 [06:22<05:16, 14.38s/it]"
     ]
    },
    {
     "name": "stdout",
     "output_type": "stream",
     "text": [
      "gens_avg_error: 8.00477897252092 fakes_avg_error: 5.366178633389051 cumulative_avg_error: 6.6854788029549805\n"
     ]
    },
    {
     "name": "stderr",
     "output_type": "stream",
     "text": [
      "\r",
      " 58%|###############################################5                                  | 29/50 [06:35<04:53, 13.95s/it]"
     ]
    },
    {
     "name": "stdout",
     "output_type": "stream",
     "text": [
      "gens_avg_error: 7.976190476190492 fakes_avg_error: 5.347013709698379 cumulative_avg_error: 6.661602092944441\n"
     ]
    },
    {
     "name": "stderr",
     "output_type": "stream",
     "text": [
      "\r",
      " 60%|#################################################1                                | 30/50 [06:50<04:45, 14.28s/it]"
     ]
    },
    {
     "name": "stdout",
     "output_type": "stream",
     "text": [
      "gens_avg_error: 7.947805456702273 fakes_avg_error: 5.434746756994824 cumulative_avg_error: 6.691276106848543\n"
     ]
    },
    {
     "name": "stderr",
     "output_type": "stream",
     "text": [
      "\r",
      " 62%|##################################################8                               | 31/50 [07:01<04:12, 13.28s/it]"
     ]
    },
    {
     "name": "stdout",
     "output_type": "stream",
     "text": [
      "gens_avg_error: 7.919621749409 fakes_avg_error: 5.415474605374282 cumulative_avg_error: 6.667548177391636\n"
     ]
    },
    {
     "name": "stderr",
     "output_type": "stream",
     "text": [
      "\r",
      " 64%|####################################################4                             | 32/50 [07:18<04:18, 14.38s/it]"
     ]
    },
    {
     "name": "stdout",
     "output_type": "stream",
     "text": [
      "gens_avg_error: 7.89163722025914 fakes_avg_error: 5.396338652705113 cumulative_avg_error: 6.643987936482132\n"
     ]
    },
    {
     "name": "stderr",
     "output_type": "stream",
     "text": [
      "\r",
      " 66%|######################################################1                           | 33/50 [07:32<04:04, 14.38s/it]"
     ]
    },
    {
     "name": "stdout",
     "output_type": "stream",
     "text": [
      "gens_avg_error: 7.951877934272311 fakes_avg_error: 5.389074549467898 cumulative_avg_error: 6.670476241870105\n"
     ]
    },
    {
     "name": "stderr",
     "output_type": "stream",
     "text": [
      "\r",
      " 68%|#######################################################7                          | 34/50 [07:45<03:43, 13.98s/it]"
     ]
    },
    {
     "name": "stdout",
     "output_type": "stream",
     "text": [
      "gens_avg_error: 7.923976608187145 fakes_avg_error: 5.37016551596099 cumulative_avg_error: 6.6470710620740725\n"
     ]
    },
    {
     "name": "stderr",
     "output_type": "stream",
     "text": [
      "\r",
      " 70%|#########################################################4                        | 35/50 [08:00<03:34, 14.28s/it]"
     ]
    },
    {
     "name": "stdout",
     "output_type": "stream",
     "text": [
      "gens_avg_error: 8.012820512820518 fakes_avg_error: 5.351388713457627 cumulative_avg_error: 6.682104613139073\n"
     ]
    },
    {
     "name": "stderr",
     "output_type": "stream",
     "text": [
      "\r",
      " 72%|###########################################################                       | 36/50 [08:16<03:27, 14.81s/it]"
     ]
    },
    {
     "name": "stdout",
     "output_type": "stream",
     "text": [
      "gens_avg_error: 8.333333333333337 fakes_avg_error: 5.344357161610514 cumulative_avg_error: 6.838845247471925\n"
     ]
    },
    {
     "name": "stderr",
     "output_type": "stream",
     "text": [
      "\r",
      " 74%|############################################################6                     | 37/50 [08:29<03:05, 14.26s/it]"
     ]
    },
    {
     "name": "stdout",
     "output_type": "stream",
     "text": [
      "gens_avg_error: 8.333333333333337 fakes_avg_error: 5.3258003659104824 cumulative_avg_error: 6.829566849621904\n"
     ]
    },
    {
     "name": "stderr",
     "output_type": "stream",
     "text": [
      "\r",
      " 76%|##############################################################3                   | 38/50 [08:47<03:02, 15.24s/it]"
     ]
    },
    {
     "name": "stdout",
     "output_type": "stream",
     "text": [
      "gens_avg_error: 8.304498269896198 fakes_avg_error: 5.307371990941934 cumulative_avg_error: 6.805935130419072\n"
     ]
    },
    {
     "name": "stderr",
     "output_type": "stream",
     "text": [
      "\r",
      " 78%|###############################################################9                  | 39/50 [09:03<02:49, 15.44s/it]"
     ]
    },
    {
     "name": "stdout",
     "output_type": "stream",
     "text": [
      "gens_avg_error: 8.275862068965523 fakes_avg_error: 5.289070708214549 cumulative_avg_error: 6.782466388590036\n"
     ]
    },
    {
     "name": "stderr",
     "output_type": "stream",
     "text": [
      "\r",
      " 80%|#################################################################6                | 40/50 [09:14<02:22, 14.24s/it]"
     ]
    },
    {
     "name": "stdout",
     "output_type": "stream",
     "text": [
      "gens_avg_error: 8.247422680412376 fakes_avg_error: 5.282349961221833 cumulative_avg_error: 6.7648863208171095\n"
     ]
    },
    {
     "name": "stderr",
     "output_type": "stream",
     "text": [
      "\r",
      " 82%|###################################################################2              | 41/50 [09:27<02:03, 13.69s/it]"
     ]
    },
    {
     "name": "stdout",
     "output_type": "stream",
     "text": [
      "gens_avg_error: 8.21917808219178 fakes_avg_error: 5.264259721628606 cumulative_avg_error: 6.741718901910199\n"
     ]
    },
    {
     "name": "stderr",
     "output_type": "stream",
     "text": [
      "\r",
      " 84%|####################################################################8             | 42/50 [09:38<01:44, 13.03s/it]"
     ]
    },
    {
     "name": "stdout",
     "output_type": "stream",
     "text": [
      "gens_avg_error: 8.276450511945388 fakes_avg_error: 5.2576695291771 cumulative_avg_error: 6.767060020561244\n"
     ]
    },
    {
     "name": "stderr",
     "output_type": "stream",
     "text": [
      "\r",
      " 86%|######################################################################5           | 43/50 [09:49<01:27, 12.43s/it]"
     ]
    },
    {
     "name": "stdout",
     "output_type": "stream",
     "text": [
      "gens_avg_error: 8.2766439909297 fakes_avg_error: 5.239786299486015 cumulative_avg_error: 6.758215145207858\n"
     ]
    },
    {
     "name": "stderr",
     "output_type": "stream",
     "text": [
      "\r",
      " 88%|########################################################################1         | 44/50 [10:00<01:11, 11.93s/it]"
     ]
    },
    {
     "name": "stdout",
     "output_type": "stream",
     "text": [
      "gens_avg_error: 8.27683615819208 fakes_avg_error: 5.222024312030138 cumulative_avg_error: 6.7494302351111095\n"
     ]
    },
    {
     "name": "stderr",
     "output_type": "stream",
     "text": [
      "\r",
      " 90%|#########################################################################8        | 45/50 [10:15<01:04, 12.89s/it]"
     ]
    },
    {
     "name": "stdout",
     "output_type": "stream",
     "text": [
      "gens_avg_error: 8.333333333333325 fakes_avg_error: 5.204382338003011 cumulative_avg_error: 6.768857835668163\n"
     ]
    },
    {
     "name": "stderr",
     "output_type": "stream",
     "text": [
      "\r",
      " 92%|###########################################################################4      | 46/50 [10:35<00:59, 14.90s/it]"
     ]
    },
    {
     "name": "stdout",
     "output_type": "stream",
     "text": [
      "gens_avg_error: 8.613916947250278 fakes_avg_error: 5.186859165147784 cumulative_avg_error: 6.900388056199036\n"
     ]
    },
    {
     "name": "stderr",
     "output_type": "stream",
     "text": [
      "\r",
      " 94%|#############################################################################     | 47/50 [10:49<00:44, 14.87s/it]"
     ]
    },
    {
     "name": "stdout",
     "output_type": "stream",
     "text": [
      "gens_avg_error: 8.585011185682323 fakes_avg_error: 5.19182496213274 cumulative_avg_error: 6.888418073907532\n"
     ]
    },
    {
     "name": "stderr",
     "output_type": "stream",
     "text": [
      "\r",
      " 96%|##############################################################################7   | 48/50 [11:02<00:28, 14.33s/it]"
     ]
    },
    {
     "name": "stdout",
     "output_type": "stream",
     "text": [
      "gens_avg_error: 8.612040133779264 fakes_avg_error: 5.185609271066527 cumulative_avg_error: 6.89882470242289\n"
     ]
    },
    {
     "name": "stderr",
     "output_type": "stream",
     "text": [
      "\r",
      " 98%|################################################################################3 | 49/50 [11:15<00:13, 13.71s/it]"
     ]
    },
    {
     "name": "stdout",
     "output_type": "stream",
     "text": [
      "gens_avg_error: 8.666666666666668 fakes_avg_error: 5.179435017940759 cumulative_avg_error: 6.923050842303713\n"
     ]
    },
    {
     "name": "stderr",
     "output_type": "stream",
     "text": [
      "100%|##################################################################################| 50/50 [11:26<00:00, 12.93s/it]\n",
      "  0%|                                                                                           | 0/50 [00:00<?, ?it/s]"
     ]
    },
    {
     "name": "stdout",
     "output_type": "stream",
     "text": [
      "gens_avg_error: 8.637873754152825 fakes_avg_error: 5.174092803832742 cumulative_avg_error: 6.905983278992789\n"
     ]
    },
    {
     "name": "stderr",
     "output_type": "stream",
     "text": [
      "\r",
      "  2%|#6                                                                                 | 1/50 [00:14<12:14, 14.98s/it]"
     ]
    },
    {
     "name": "stdout",
     "output_type": "stream",
     "text": [
      "gens_avg_error: 8.609271523178808 fakes_avg_error: 5.156960046204162 cumulative_avg_error: 6.883115784691485\n"
     ]
    },
    {
     "name": "stderr",
     "output_type": "stream",
     "text": [
      "\r",
      "  4%|###3                                                                               | 2/50 [00:29<11:58, 14.98s/it]"
     ]
    },
    {
     "name": "stdout",
     "output_type": "stream",
     "text": [
      "gens_avg_error: 8.580858085808584 fakes_avg_error: 5.139940376084673 cumulative_avg_error: 6.860399230946634\n"
     ]
    },
    {
     "name": "stderr",
     "output_type": "stream",
     "text": [
      "\r",
      "  6%|####9                                                                              | 3/50 [00:39<10:34, 13.49s/it]"
     ]
    },
    {
     "name": "stdout",
     "output_type": "stream",
     "text": [
      "gens_avg_error: 8.552631578947366 fakes_avg_error: 5.133997589759842 cumulative_avg_error: 6.84331458435361\n"
     ]
    },
    {
     "name": "stderr",
     "output_type": "stream",
     "text": [
      "\r",
      "  8%|######6                                                                            | 4/50 [00:55<10:43, 14.00s/it]"
     ]
    },
    {
     "name": "stdout",
     "output_type": "stream",
     "text": [
      "gens_avg_error: 8.52459016393443 fakes_avg_error: 5.11716481077702 cumulative_avg_error: 6.820877487355725\n"
     ]
    },
    {
     "name": "stderr",
     "output_type": "stream",
     "text": [
      "\r",
      " 10%|########3                                                                          | 5/50 [01:07<10:02, 13.38s/it]"
     ]
    },
    {
     "name": "stdout",
     "output_type": "stream",
     "text": [
      "gens_avg_error: 8.5239651416122 fakes_avg_error: 5.122228542332219 cumulative_avg_error: 6.823096841972209\n"
     ]
    },
    {
     "name": "stderr",
     "output_type": "stream",
     "text": [
      "\r",
      " 12%|#########9                                                                         | 6/50 [01:28<11:40, 15.93s/it]"
     ]
    },
    {
     "name": "stdout",
     "output_type": "stream",
     "text": [
      "gens_avg_error: 8.496199782844727 fakes_avg_error: 5.105543758806707 cumulative_avg_error: 6.800871770825712\n"
     ]
    },
    {
     "name": "stderr",
     "output_type": "stream",
     "text": [
      "\r",
      " 14%|###########6                                                                       | 7/50 [01:45<11:28, 16.02s/it]"
     ]
    },
    {
     "name": "stdout",
     "output_type": "stream",
     "text": [
      "gens_avg_error: 8.52272727272727 fakes_avg_error: 5.110612339676379 cumulative_avg_error: 6.8166698062018245\n"
     ]
    },
    {
     "name": "stderr",
     "output_type": "stream",
     "text": [
      "\r",
      " 16%|#############2                                                                     | 8/50 [02:04<11:58, 17.11s/it]"
     ]
    },
    {
     "name": "stdout",
     "output_type": "stream",
     "text": [
      "gens_avg_error: 8.522114347357057 fakes_avg_error: 5.1048606276817505 cumulative_avg_error: 6.8134874875193985\n"
     ]
    },
    {
     "name": "stderr",
     "output_type": "stream",
     "text": [
      "\r",
      " 18%|##############9                                                                    | 9/50 [02:17<10:41, 15.64s/it]"
     ]
    },
    {
     "name": "stdout",
     "output_type": "stream",
     "text": [
      "gens_avg_error: 8.49462365591397 fakes_avg_error: 5.088393335334384 cumulative_avg_error: 6.791508495624177\n"
     ]
    },
    {
     "name": "stderr",
     "output_type": "stream",
     "text": [
      "\r",
      " 20%|################4                                                                 | 10/50 [02:27<09:24, 14.10s/it]"
     ]
    },
    {
     "name": "stdout",
     "output_type": "stream",
     "text": [
      "gens_avg_error: 8.467309753483377 fakes_avg_error: 5.082750055585194 cumulative_avg_error: 6.775029904534291\n"
     ]
    },
    {
     "name": "stderr",
     "output_type": "stream",
     "text": [
      "\r",
      " 22%|##################                                                                | 11/50 [02:40<08:59, 13.84s/it]"
     ]
    },
    {
     "name": "stdout",
     "output_type": "stream",
     "text": [
      "gens_avg_error: 8.440170940170933 fakes_avg_error: 5.066459190022421 cumulative_avg_error: 6.753315065096677\n"
     ]
    },
    {
     "name": "stderr",
     "output_type": "stream",
     "text": [
      "\r",
      " 24%|###################6                                                              | 12/50 [02:56<09:04, 14.34s/it]"
     ]
    },
    {
     "name": "stdout",
     "output_type": "stream",
     "text": [
      "gens_avg_error: 8.413205537806167 fakes_avg_error: 5.050272419447277 cumulative_avg_error: 6.731738978626723\n"
     ]
    },
    {
     "name": "stderr",
     "output_type": "stream",
     "text": [
      "\r",
      " 26%|#####################3                                                            | 13/50 [03:09<08:38, 14.02s/it]"
     ]
    },
    {
     "name": "stdout",
     "output_type": "stream",
     "text": [
      "gens_avg_error: 8.412951167728222 fakes_avg_error: 5.034188749321644 cumulative_avg_error: 6.7235699585249336\n"
     ]
    },
    {
     "name": "stderr",
     "output_type": "stream",
     "text": [
      "\r",
      " 28%|######################9                                                           | 14/50 [03:23<08:19, 13.86s/it]"
     ]
    },
    {
     "name": "stdout",
     "output_type": "stream",
     "text": [
      "gens_avg_error: 8.412698412698393 fakes_avg_error: 5.039371218900513 cumulative_avg_error: 6.726034815799453\n"
     ]
    },
    {
     "name": "stderr",
     "output_type": "stream",
     "text": [
      "\r",
      " 30%|########################5                                                         | 15/50 [03:34<07:39, 13.13s/it]"
     ]
    },
    {
     "name": "stdout",
     "output_type": "stream",
     "text": [
      "gens_avg_error: 8.43881856540083 fakes_avg_error: 5.023423841625519 cumulative_avg_error: 6.7311212035131796\n"
     ]
    },
    {
     "name": "stderr",
     "output_type": "stream",
     "text": [
      "\r",
      " 32%|##########################2                                                       | 16/50 [03:47<07:21, 13.00s/it]"
     ]
    },
    {
     "name": "stdout",
     "output_type": "stream",
     "text": [
      "gens_avg_error: 8.412197686645628 fakes_avg_error: 5.0075770787181835 cumulative_avg_error: 6.7098873826819005\n"
     ]
    },
    {
     "name": "stderr",
     "output_type": "stream",
     "text": [
      "\r",
      " 34%|###########################8                                                      | 17/50 [04:00<07:07, 12.95s/it]"
     ]
    },
    {
     "name": "stdout",
     "output_type": "stream",
     "text": [
      "gens_avg_error: 8.41194968553457 fakes_avg_error: 5.002312161279876 cumulative_avg_error: 6.707130923407223\n"
     ]
    },
    {
     "name": "stderr",
     "output_type": "stream",
     "text": [
      "\r",
      " 36%|#############################5                                                    | 18/50 [04:10<06:32, 12.25s/it]"
     ]
    },
    {
     "name": "stdout",
     "output_type": "stream",
     "text": [
      "gens_avg_error: 8.385579937304055 fakes_avg_error: 4.986630931934166 cumulative_avg_error: 6.686105434619116\n"
     ]
    },
    {
     "name": "stderr",
     "output_type": "stream",
     "text": [
      "\r",
      " 38%|###############################1                                                  | 19/50 [04:21<06:04, 11.75s/it]"
     ]
    },
    {
     "name": "stdout",
     "output_type": "stream",
     "text": [
      "gens_avg_error: 8.385416666666645 fakes_avg_error: 4.97104771027187 cumulative_avg_error: 6.6782321884692575\n"
     ]
    },
    {
     "name": "stderr",
     "output_type": "stream",
     "text": [
      "\r",
      " 40%|################################8                                                 | 20/50 [04:32<05:44, 11.48s/it]"
     ]
    },
    {
     "name": "stdout",
     "output_type": "stream",
     "text": [
      "gens_avg_error: 8.359293873312545 fakes_avg_error: 4.98671422830842 cumulative_avg_error: 6.673004050810483\n"
     ]
    },
    {
     "name": "stderr",
     "output_type": "stream",
     "text": [
      "\r",
      " 42%|##################################4                                               | 21/50 [04:50<06:35, 13.64s/it]"
     ]
    },
    {
     "name": "stdout",
     "output_type": "stream",
     "text": [
      "gens_avg_error: 8.333333333333314 fakes_avg_error: 4.971227538158384 cumulative_avg_error: 6.652280435745849\n"
     ]
    },
    {
     "name": "stderr",
     "output_type": "stream",
     "text": [
      "\r",
      " 44%|####################################                                              | 22/50 [05:02<06:06, 13.11s/it]"
     ]
    },
    {
     "name": "stdout",
     "output_type": "stream",
     "text": [
      "gens_avg_error: 8.30753353973166 fakes_avg_error: 4.966156658267296 cumulative_avg_error: 6.636845098999478\n"
     ]
    },
    {
     "name": "stderr",
     "output_type": "stream",
     "text": [
      "\r",
      " 46%|#####################################7                                            | 23/50 [05:16<05:58, 13.29s/it]"
     ]
    },
    {
     "name": "stdout",
     "output_type": "stream",
     "text": [
      "gens_avg_error: 8.333333333333314 fakes_avg_error: 4.9508290142603055 cumulative_avg_error: 6.64208117379681\n"
     ]
    },
    {
     "name": "stderr",
     "output_type": "stream",
     "text": [
      "\r",
      " 48%|#######################################3                                          | 24/50 [05:29<05:46, 13.34s/it]"
     ]
    },
    {
     "name": "stdout",
     "output_type": "stream",
     "text": [
      "gens_avg_error: 8.333333333333314 fakes_avg_error: 4.935595694216421 cumulative_avg_error: 6.634464513774874\n"
     ]
    },
    {
     "name": "stderr",
     "output_type": "stream",
     "text": [
      "\r",
      " 50%|#########################################                                         | 25/50 [05:44<05:45, 13.82s/it]"
     ]
    },
    {
     "name": "stdout",
     "output_type": "stream",
     "text": [
      "gens_avg_error: 8.307770961145167 fakes_avg_error: 4.920455830123737 cumulative_avg_error: 6.614113395634447\n"
     ]
    },
    {
     "name": "stderr",
     "output_type": "stream",
     "text": [
      "\r",
      " 52%|##########################################6                                       | 26/50 [05:57<05:25, 13.54s/it]"
     ]
    },
    {
     "name": "stdout",
     "output_type": "stream",
     "text": [
      "gens_avg_error: 8.28236493374106 fakes_avg_error: 4.915602244506645 cumulative_avg_error: 6.598983589123852\n"
     ]
    },
    {
     "name": "stderr",
     "output_type": "stream",
     "text": [
      "\r",
      " 54%|############################################2                                     | 27/50 [06:12<05:19, 13.91s/it]"
     ]
    },
    {
     "name": "stdout",
     "output_type": "stream",
     "text": [
      "gens_avg_error: 8.257113821138184 fakes_avg_error: 4.941266058801852 cumulative_avg_error: 6.599189939970018\n"
     ]
    },
    {
     "name": "stderr",
     "output_type": "stream",
     "text": [
      "\r",
      " 56%|#############################################9                                    | 28/50 [06:22<04:42, 12.83s/it]"
     ]
    },
    {
     "name": "stdout",
     "output_type": "stream",
     "text": [
      "gens_avg_error: 8.232016210739591 fakes_avg_error: 4.926247013030416 cumulative_avg_error: 6.579131611885003\n"
     ]
    },
    {
     "name": "stderr",
     "output_type": "stream",
     "text": [
      "\r",
      " 58%|###############################################5                                  | 29/50 [06:34<04:23, 12.55s/it]"
     ]
    },
    {
     "name": "stdout",
     "output_type": "stream",
     "text": [
      "gens_avg_error: 8.232323232323202 fakes_avg_error: 4.911318991778801 cumulative_avg_error: 6.571821112051001\n"
     ]
    },
    {
     "name": "stderr",
     "output_type": "stream",
     "text": [
      "\r",
      " 60%|#################################################1                                | 30/50 [06:51<04:36, 13.84s/it]"
     ]
    },
    {
     "name": "stdout",
     "output_type": "stream",
     "text": [
      "gens_avg_error: 8.20745216515606 fakes_avg_error: 4.896481170051381 cumulative_avg_error: 6.551966667603715\n"
     ]
    },
    {
     "name": "stderr",
     "output_type": "stream",
     "text": [
      "\r",
      " 62%|##################################################8                               | 31/50 [07:05<04:26, 14.03s/it]"
     ]
    },
    {
     "name": "stdout",
     "output_type": "stream",
     "text": [
      "gens_avg_error: 8.182730923694749 fakes_avg_error: 4.952013857290183 cumulative_avg_error: 6.567372390492466\n"
     ]
    },
    {
     "name": "stderr",
     "output_type": "stream",
     "text": [
      "\r",
      " 64%|####################################################4                             | 32/50 [07:23<04:33, 15.20s/it]"
     ]
    },
    {
     "name": "stdout",
     "output_type": "stream",
     "text": [
      "gens_avg_error: 8.158158158158123 fakes_avg_error: 4.947152954815848 cumulative_avg_error: 6.552655556486986\n"
     ]
    },
    {
     "name": "stderr",
     "output_type": "stream",
     "text": [
      "\r",
      " 66%|######################################################1                           | 33/50 [07:39<04:20, 15.34s/it]"
     ]
    },
    {
     "name": "stdout",
     "output_type": "stream",
     "text": [
      "gens_avg_error: 8.233532934131704 fakes_avg_error: 4.9323411196217855 cumulative_avg_error: 6.5829370268767455\n"
     ]
    },
    {
     "name": "stderr",
     "output_type": "stream",
     "text": [
      "\r",
      " 68%|#######################################################7                          | 34/50 [07:50<03:45, 14.10s/it]"
     ]
    },
    {
     "name": "stdout",
     "output_type": "stream",
     "text": [
      "gens_avg_error: 8.208955223880565 fakes_avg_error: 4.927567962050783 cumulative_avg_error: 6.5682615929656745\n"
     ]
    },
    {
     "name": "stderr",
     "output_type": "stream",
     "text": [
      "\r",
      " 70%|#########################################################4                        | 35/50 [08:06<03:41, 14.73s/it]"
     ]
    },
    {
     "name": "stdout",
     "output_type": "stream",
     "text": [
      "gens_avg_error: 8.18452380952378 fakes_avg_error: 4.912902581211343 cumulative_avg_error: 6.5487131953675615\n"
     ]
    },
    {
     "name": "stderr",
     "output_type": "stream",
     "text": [
      "\r",
      " 72%|###########################################################                       | 36/50 [08:22<03:29, 14.97s/it]"
     ]
    },
    {
     "name": "stdout",
     "output_type": "stream",
     "text": [
      "gens_avg_error: 8.160237388724001 fakes_avg_error: 4.898324235273033 cumulative_avg_error: 6.529280811998516\n"
     ]
    },
    {
     "name": "stderr",
     "output_type": "stream",
     "text": [
      "\r",
      " 74%|############################################################6                     | 37/50 [08:42<03:34, 16.53s/it]"
     ]
    },
    {
     "name": "stdout",
     "output_type": "stream",
     "text": [
      "gens_avg_error: 8.160749506903308 fakes_avg_error: 4.883832151736723 cumulative_avg_error: 6.52229082932001\n"
     ]
    },
    {
     "name": "stderr",
     "output_type": "stream",
     "text": [
      "\r",
      " 76%|##############################################################3                   | 38/50 [08:58<03:16, 16.34s/it]"
     ]
    },
    {
     "name": "stdout",
     "output_type": "stream",
     "text": [
      "gens_avg_error: 8.161258603736432 fakes_avg_error: 4.879258408909582 cumulative_avg_error: 6.520258506323007\n"
     ]
    },
    {
     "name": "stderr",
     "output_type": "stream",
     "text": [
      "\r",
      " 78%|###############################################################9                  | 39/50 [09:11<02:47, 15.27s/it]"
     ]
    },
    {
     "name": "stdout",
     "output_type": "stream",
     "text": [
      "gens_avg_error: 8.137254901960745 fakes_avg_error: 4.864907648883376 cumulative_avg_error: 6.50108127542206\n"
     ]
    },
    {
     "name": "stderr",
     "output_type": "stream",
     "text": [
      "\r",
      " 80%|#################################################################6                | 40/50 [09:22<02:19, 13.93s/it]"
     ]
    },
    {
     "name": "stdout",
     "output_type": "stream",
     "text": [
      "gens_avg_error: 8.113391984359685 fakes_avg_error: 4.870191399668666 cumulative_avg_error: 6.4917916920141705\n"
     ]
    },
    {
     "name": "stderr",
     "output_type": "stream",
     "text": [
      "\r",
      " 82%|###################################################################2              | 41/50 [09:35<02:02, 13.64s/it]"
     ]
    },
    {
     "name": "stdout",
     "output_type": "stream",
     "text": [
      "gens_avg_error: 8.089668615984358 fakes_avg_error: 4.855951073938636 cumulative_avg_error: 6.472809844961502\n"
     ]
    },
    {
     "name": "stderr",
     "output_type": "stream",
     "text": [
      "\r",
      " 84%|####################################################################8             | 42/50 [09:45<01:41, 12.71s/it]"
     ]
    },
    {
     "name": "stdout",
     "output_type": "stream",
     "text": [
      "gens_avg_error: 8.066083576287609 fakes_avg_error: 4.841793782177883 cumulative_avg_error: 6.45393867923274\n"
     ]
    },
    {
     "name": "stderr",
     "output_type": "stream",
     "text": [
      "\r",
      " 86%|######################################################################5           | 43/50 [09:56<01:25, 12.20s/it]"
     ]
    },
    {
     "name": "stdout",
     "output_type": "stream",
     "text": [
      "gens_avg_error: 8.042635658914687 fakes_avg_error: 4.9246180250591465 cumulative_avg_error: 6.483626841986911\n"
     ]
    },
    {
     "name": "stderr",
     "output_type": "stream",
     "text": [
      "\r",
      " 88%|########################################################################1         | 44/50 [10:09<01:14, 12.49s/it]"
     ]
    },
    {
     "name": "stdout",
     "output_type": "stream",
     "text": [
      "gens_avg_error: 8.019323671497535 fakes_avg_error: 4.91034376991405 cumulative_avg_error: 6.464833720705787\n"
     ]
    },
    {
     "name": "stderr",
     "output_type": "stream",
     "text": [
      "\r",
      " 90%|#########################################################################8        | 45/50 [10:22<01:02, 12.57s/it]"
     ]
    },
    {
     "name": "stdout",
     "output_type": "stream",
     "text": [
      "gens_avg_error: 7.9961464354527445 fakes_avg_error: 4.896152024914291 cumulative_avg_error: 6.446149230183518\n"
     ]
    },
    {
     "name": "stderr",
     "output_type": "stream",
     "text": [
      "\r",
      " 92%|###########################################################################4      | 46/50 [10:41<00:58, 14.54s/it]"
     ]
    },
    {
     "name": "stdout",
     "output_type": "stream",
     "text": [
      "gens_avg_error: 8.045148895292941 fakes_avg_error: 4.882042076715698 cumulative_avg_error: 6.463595486004325\n"
     ]
    },
    {
     "name": "stderr",
     "output_type": "stream",
     "text": [
      "\r",
      " 94%|#############################################################################     | 47/50 [10:57<00:44, 14.97s/it]"
     ]
    },
    {
     "name": "stdout",
     "output_type": "stream",
     "text": [
      "gens_avg_error: 8.045977011494198 fakes_avg_error: 4.868013220173406 cumulative_avg_error: 6.456995115833797\n"
     ]
    },
    {
     "name": "stderr",
     "output_type": "stream",
     "text": [
      "\r",
      " 96%|##############################################################################7   | 48/50 [11:11<00:29, 14.67s/it]"
     ]
    },
    {
     "name": "stdout",
     "output_type": "stream",
     "text": [
      "gens_avg_error: 8.022922636103102 fakes_avg_error: 4.854064758224485 cumulative_avg_error: 6.4384936971637945\n"
     ]
    },
    {
     "name": "stderr",
     "output_type": "stream",
     "text": [
      "\r",
      " 98%|################################################################################3 | 49/50 [11:27<00:15, 15.10s/it]"
     ]
    },
    {
     "name": "stdout",
     "output_type": "stream",
     "text": [
      "gens_avg_error: 7.999999999999952 fakes_avg_error: 4.840196001772423 cumulative_avg_error: 6.420098000886187\n"
     ]
    },
    {
     "name": "stderr",
     "output_type": "stream",
     "text": [
      "100%|##################################################################################| 50/50 [11:42<00:00, 14.95s/it]\n",
      "  0%|                                                                                           | 0/50 [00:00<?, ?it/s]"
     ]
    },
    {
     "name": "stdout",
     "output_type": "stream",
     "text": [
      "gens_avg_error: 8.024691358024649 fakes_avg_error: 4.826406269573635 cumulative_avg_error: 6.425548813799143\n"
     ]
    },
    {
     "name": "stderr",
     "output_type": "stream",
     "text": [
      "\r",
      "  2%|#6                                                                                 | 1/50 [00:10<08:56, 10.94s/it]"
     ]
    },
    {
     "name": "stdout",
     "output_type": "stream",
     "text": [
      "gens_avg_error: 8.025568181818132 fakes_avg_error: 4.831634282065378 cumulative_avg_error: 6.428601231941755\n"
     ]
    },
    {
     "name": "stderr",
     "output_type": "stream",
     "text": [
      "\r",
      "  4%|###3                                                                               | 2/50 [00:31<11:05, 13.86s/it]"
     ]
    },
    {
     "name": "stdout",
     "output_type": "stream",
     "text": [
      "gens_avg_error: 8.002832861189757 fakes_avg_error: 4.817946932824402 cumulative_avg_error: 6.410389897007085\n"
     ]
    },
    {
     "name": "stderr",
     "output_type": "stream",
     "text": [
      "\r",
      "  6%|####9                                                                              | 3/50 [00:42<10:13, 13.06s/it]"
     ]
    },
    {
     "name": "stdout",
     "output_type": "stream",
     "text": [
      "gens_avg_error: 8.0037664783427 fakes_avg_error: 4.804336913240148 cumulative_avg_error: 6.4040516957914235\n"
     ]
    },
    {
     "name": "stderr",
     "output_type": "stream",
     "text": [
      "\r",
      "  8%|######6                                                                            | 4/50 [00:58<10:41, 13.94s/it]"
     ]
    },
    {
     "name": "stdout",
     "output_type": "stream",
     "text": [
      "gens_avg_error: 7.981220657276944 fakes_avg_error: 4.8189725839070885 cumulative_avg_error: 6.400096620592022\n"
     ]
    },
    {
     "name": "stderr",
     "output_type": "stream",
     "text": [
      "\r",
      " 10%|########3                                                                          | 5/50 [01:06<09:01, 12.03s/it]"
     ]
    },
    {
     "name": "stdout",
     "output_type": "stream",
     "text": [
      "gens_avg_error: 7.958801498127288 fakes_avg_error: 4.983338765787493 cumulative_avg_error: 6.47107013195739\n"
     ]
    },
    {
     "name": "stderr",
     "output_type": "stream",
     "text": [
      "\r",
      " 12%|#########9                                                                         | 6/50 [01:20<09:19, 12.72s/it]"
     ]
    },
    {
     "name": "stdout",
     "output_type": "stream",
     "text": [
      "gens_avg_error: 7.936507936507886 fakes_avg_error: 4.969379833670439 cumulative_avg_error: 6.4529438850891685\n"
     ]
    },
    {
     "name": "stderr",
     "output_type": "stream",
     "text": [
      "\r",
      " 14%|###########6                                                                       | 7/50 [01:35<09:34, 13.36s/it]"
     ]
    },
    {
     "name": "stdout",
     "output_type": "stream",
     "text": [
      "gens_avg_error: 7.914338919925457 fakes_avg_error: 4.955498884414378 cumulative_avg_error: 6.434918902169917\n"
     ]
    },
    {
     "name": "stderr",
     "output_type": "stream",
     "text": [
      "\r",
      " 16%|#############2                                                                     | 8/50 [01:48<09:20, 13.34s/it]"
     ]
    },
    {
     "name": "stdout",
     "output_type": "stream",
     "text": [
      "gens_avg_error: 7.9387186629526045 fakes_avg_error: 4.9416952663519425 cumulative_avg_error: 6.440206964652273\n"
     ]
    },
    {
     "name": "stderr",
     "output_type": "stream",
     "text": [
      "\r",
      " 18%|##############9                                                                    | 9/50 [02:03<09:17, 13.60s/it]"
     ]
    },
    {
     "name": "stdout",
     "output_type": "stream",
     "text": [
      "gens_avg_error: 7.916666666666616 fakes_avg_error: 4.983523890612074 cumulative_avg_error: 6.4500952786393455\n"
     ]
    },
    {
     "name": "stderr",
     "output_type": "stream",
     "text": [
      "\r",
      " 20%|################4                                                                 | 10/50 [02:15<08:55, 13.39s/it]"
     ]
    },
    {
     "name": "stdout",
     "output_type": "stream",
     "text": [
      "gens_avg_error: 7.894736842105221 fakes_avg_error: 4.969719115291815 cumulative_avg_error: 6.432227978698513\n"
     ]
    },
    {
     "name": "stderr",
     "output_type": "stream",
     "text": [
      "\r",
      " 22%|##################                                                                | 11/50 [02:31<09:12, 14.17s/it]"
     ]
    },
    {
     "name": "stdout",
     "output_type": "stream",
     "text": [
      "gens_avg_error: 7.9189686924493135 fakes_avg_error: 4.9559906094484685 cumulative_avg_error: 6.437479650948896\n"
     ]
    },
    {
     "name": "stderr",
     "output_type": "stream",
     "text": [
      "\r",
      " 24%|###################6                                                              | 12/50 [02:46<09:07, 14.41s/it]"
     ]
    },
    {
     "name": "stdout",
     "output_type": "stream",
     "text": [
      "gens_avg_error: 7.920110192837415 fakes_avg_error: 4.942337742755775 cumulative_avg_error: 6.431223967796596\n"
     ]
    },
    {
     "name": "stderr",
     "output_type": "stream",
     "text": [
      "\r",
      " 26%|#####################3                                                            | 13/50 [02:58<08:23, 13.61s/it]"
     ]
    },
    {
     "name": "stdout",
     "output_type": "stream",
     "text": [
      "gens_avg_error: 7.898351648351598 fakes_avg_error: 4.937917400971658 cumulative_avg_error: 6.418134524661623\n"
     ]
    },
    {
     "name": "stderr",
     "output_type": "stream",
     "text": [
      "\r",
      " 28%|######################9                                                           | 14/50 [03:12<08:07, 13.54s/it]"
     ]
    },
    {
     "name": "stdout",
     "output_type": "stream",
     "text": [
      "gens_avg_error: 7.899543378995377 fakes_avg_error: 4.9243888601470776 cumulative_avg_error: 6.411966119571222\n"
     ]
    },
    {
     "name": "stderr",
     "output_type": "stream",
     "text": [
      "\r",
      " 30%|########################5                                                         | 15/50 [03:25<07:53, 13.53s/it]"
     ]
    },
    {
     "name": "stdout",
     "output_type": "stream",
     "text": [
      "gens_avg_error: 7.877959927140199 fakes_avg_error: 4.910934245775089 cumulative_avg_error: 6.394447086457644\n"
     ]
    },
    {
     "name": "stderr",
     "output_type": "stream",
     "text": [
      "\r",
      " 32%|##########################2                                                       | 16/50 [03:35<07:01, 12.41s/it]"
     ]
    },
    {
     "name": "stdout",
     "output_type": "stream",
     "text": [
      "gens_avg_error: 7.901907356948179 fakes_avg_error: 4.897552953552264 cumulative_avg_error: 6.399730155250216\n"
     ]
    },
    {
     "name": "stderr",
     "output_type": "stream",
     "text": [
      "\r",
      " 34%|###########################8                                                      | 17/50 [03:52<07:33, 13.75s/it]"
     ]
    },
    {
     "name": "stdout",
     "output_type": "stream",
     "text": [
      "gens_avg_error: 7.880434782608647 fakes_avg_error: 4.884244385743697 cumulative_avg_error: 6.382339584176178\n"
     ]
    },
    {
     "name": "stderr",
     "output_type": "stream",
     "text": [
      "\r",
      " 36%|#############################5                                                    | 18/50 [04:03<06:55, 12.97s/it]"
     ]
    },
    {
     "name": "stdout",
     "output_type": "stream",
     "text": [
      "gens_avg_error: 7.859078590785861 fakes_avg_error: 4.889074798429127 cumulative_avg_error: 6.3740766946075\n"
     ]
    },
    {
     "name": "stderr",
     "output_type": "stream",
     "text": [
      "\r",
      " 38%|###############################1                                                  | 19/50 [04:18<07:01, 13.59s/it]"
     ]
    },
    {
     "name": "stdout",
     "output_type": "stream",
     "text": [
      "gens_avg_error: 7.837837837837791 fakes_avg_error: 4.875861082757704 cumulative_avg_error: 6.356849460297753\n"
     ]
    },
    {
     "name": "stderr",
     "output_type": "stream",
     "text": [
      "\r",
      " 40%|################################8                                                 | 20/50 [04:35<07:20, 14.67s/it]"
     ]
    },
    {
     "name": "stdout",
     "output_type": "stream",
     "text": [
      "gens_avg_error: 7.816711590296455 fakes_avg_error: 4.8627186000548495 cumulative_avg_error: 6.339715095175658\n"
     ]
    },
    {
     "name": "stderr",
     "output_type": "stream",
     "text": [
      "\r",
      " 42%|##################################4                                               | 21/50 [04:46<06:28, 13.40s/it]"
     ]
    },
    {
     "name": "stdout",
     "output_type": "stream",
     "text": [
      "gens_avg_error: 7.818100358422885 fakes_avg_error: 4.8496467758611495 cumulative_avg_error: 6.333873567142012\n"
     ]
    },
    {
     "name": "stderr",
     "output_type": "stream",
     "text": [
      "\r",
      " 44%|####################################                                              | 22/50 [05:05<07:04, 15.17s/it]"
     ]
    },
    {
     "name": "stdout",
     "output_type": "stream",
     "text": [
      "gens_avg_error: 7.7971403038426645 fakes_avg_error: 4.943883647775726 cumulative_avg_error: 6.370511975809201\n"
     ]
    },
    {
     "name": "stderr",
     "output_type": "stream",
     "text": [
      "\r",
      " 46%|#####################################7                                            | 23/50 [05:18<06:31, 14.50s/it]"
     ]
    },
    {
     "name": "stdout",
     "output_type": "stream",
     "text": [
      "gens_avg_error: 7.776292335115809 fakes_avg_error: 4.930664707541032 cumulative_avg_error: 6.353478521328415\n"
     ]
    },
    {
     "name": "stderr",
     "output_type": "stream",
     "text": [
      "\r",
      " 48%|#######################################3                                          | 24/50 [05:28<05:45, 13.31s/it]"
     ]
    },
    {
     "name": "stdout",
     "output_type": "stream",
     "text": [
      "gens_avg_error: 7.755555555555505 fakes_avg_error: 4.91751626832092 cumulative_avg_error: 6.3365359119382125\n"
     ]
    },
    {
     "name": "stderr",
     "output_type": "stream",
     "text": [
      "\r",
      " 50%|#########################################                                         | 25/50 [05:43<05:44, 13.77s/it]"
     ]
    },
    {
     "name": "stdout",
     "output_type": "stream",
     "text": [
      "gens_avg_error: 7.823581560283632 fakes_avg_error: 4.904437767607305 cumulative_avg_error: 6.364009663945469\n"
     ]
    },
    {
     "name": "stderr",
     "output_type": "stream",
     "text": [
      "\r",
      " 52%|##########################################6                                       | 26/50 [05:58<05:35, 13.97s/it]"
     ]
    },
    {
     "name": "stdout",
     "output_type": "stream",
     "text": [
      "gens_avg_error: 7.824933687002589 fakes_avg_error: 4.926795580778986 cumulative_avg_error: 6.375864633890793\n"
     ]
    },
    {
     "name": "stderr",
     "output_type": "stream",
     "text": [
      "\r",
      " 54%|############################################2                                     | 27/50 [06:15<05:46, 15.06s/it]"
     ]
    },
    {
     "name": "stdout",
     "output_type": "stream",
     "text": [
      "gens_avg_error: 7.804232804232747 fakes_avg_error: 4.913761730036192 cumulative_avg_error: 6.35899726713447\n"
     ]
    },
    {
     "name": "stderr",
     "output_type": "stream",
     "text": [
      "\r",
      " 56%|#############################################9                                    | 28/50 [06:33<05:47, 15.81s/it]"
     ]
    },
    {
     "name": "stdout",
     "output_type": "stream",
     "text": [
      "gens_avg_error: 7.84960422163582 fakes_avg_error: 4.900796659508389 cumulative_avg_error: 6.3752004405721046\n"
     ]
    },
    {
     "name": "stderr",
     "output_type": "stream",
     "text": [
      "\r",
      " 58%|###############################################5                                  | 29/50 [06:48<05:29, 15.71s/it]"
     ]
    },
    {
     "name": "stdout",
     "output_type": "stream",
     "text": [
      "gens_avg_error: 7.894736842105199 fakes_avg_error: 4.958075264790384 cumulative_avg_error: 6.426406053447797\n"
     ]
    },
    {
     "name": "stderr",
     "output_type": "stream",
     "text": [
      "\r",
      " 60%|#################################################1                                | 30/50 [07:03<05:10, 15.54s/it]"
     ]
    },
    {
     "name": "stdout",
     "output_type": "stream",
     "text": [
      "gens_avg_error: 7.939632545931696 fakes_avg_error: 4.94506194388542 cumulative_avg_error: 6.442347244908553\n"
     ]
    },
    {
     "name": "stderr",
     "output_type": "stream",
     "text": [
      "\r",
      " 62%|##################################################8                               | 31/50 [07:17<04:44, 14.97s/it]"
     ]
    },
    {
     "name": "stdout",
     "output_type": "stream",
     "text": [
      "gens_avg_error: 7.940663176265206 fakes_avg_error: 4.932116755550641 cumulative_avg_error: 6.436389965907918\n"
     ]
    },
    {
     "name": "stderr",
     "output_type": "stream",
     "text": [
      "\r",
      " 64%|####################################################4                             | 32/50 [07:31<04:22, 14.58s/it]"
     ]
    },
    {
     "name": "stdout",
     "output_type": "stream",
     "text": [
      "gens_avg_error: 7.941688424717075 fakes_avg_error: 4.919239166110556 cumulative_avg_error: 6.43046379541381\n"
     ]
    },
    {
     "name": "stderr",
     "output_type": "stream",
     "text": [
      "\r",
      " 66%|######################################################1                           | 33/50 [07:43<03:54, 13.77s/it]"
     ]
    },
    {
     "name": "stdout",
     "output_type": "stream",
     "text": [
      "gens_avg_error: 7.921006944444375 fakes_avg_error: 4.906428647448813 cumulative_avg_error: 6.413717795946594\n"
     ]
    },
    {
     "name": "stderr",
     "output_type": "stream",
     "text": [
      "\r",
      " 68%|#######################################################7                          | 34/50 [07:56<03:39, 13.74s/it]"
     ]
    },
    {
     "name": "stdout",
     "output_type": "stream",
     "text": [
      "gens_avg_error: 7.90043290043283 fakes_avg_error: 4.91965870290999 cumulative_avg_error: 6.410045801671416\n"
     ]
    },
    {
     "name": "stderr",
     "output_type": "stream",
     "text": [
      "\r",
      " 70%|#########################################################4                        | 35/50 [08:11<03:29, 13.94s/it]"
     ]
    },
    {
     "name": "stdout",
     "output_type": "stream",
     "text": [
      "gens_avg_error: 7.8799654576856 fakes_avg_error: 4.906913473109709 cumulative_avg_error: 6.3934394653976545\n"
     ]
    },
    {
     "name": "stderr",
     "output_type": "stream",
     "text": [
      "\r",
      " 72%|###########################################################                       | 36/50 [08:26<03:20, 14.36s/it]"
     ]
    },
    {
     "name": "stdout",
     "output_type": "stream",
     "text": [
      "gens_avg_error: 7.859603789836278 fakes_avg_error: 4.894234110130091 cumulative_avg_error: 6.376918949983179\n"
     ]
    },
    {
     "name": "stderr",
     "output_type": "stream",
     "text": [
      "\r",
      " 74%|############################################################6                     | 37/50 [08:39<02:59, 13.82s/it]"
     ]
    },
    {
     "name": "stdout",
     "output_type": "stream",
     "text": [
      "gens_avg_error: 7.839347079037728 fakes_avg_error: 4.88162010469162 cumulative_avg_error: 6.360483591864674\n"
     ]
    },
    {
     "name": "stderr",
     "output_type": "stream",
     "text": [
      "\r",
      " 76%|##############################################################3                   | 38/50 [08:52<02:46, 13.84s/it]"
     ]
    },
    {
     "name": "stdout",
     "output_type": "stream",
     "text": [
      "gens_avg_error: 7.819194515852546 fakes_avg_error: 4.869070952751531 cumulative_avg_error: 6.344132734302033\n"
     ]
    },
    {
     "name": "stderr",
     "output_type": "stream",
     "text": [
      "\r",
      " 78%|###############################################################9                  | 39/50 [09:07<02:34, 14.07s/it]"
     ]
    },
    {
     "name": "stdout",
     "output_type": "stream",
     "text": [
      "gens_avg_error: 7.820512820512748 fakes_avg_error: 4.856586155436782 cumulative_avg_error: 6.338549487974765\n"
     ]
    },
    {
     "name": "stderr",
     "output_type": "stream",
     "text": [
      "\r",
      " 80%|#################################################################6                | 40/50 [09:21<02:19, 13.99s/it]"
     ]
    },
    {
     "name": "stdout",
     "output_type": "stream",
     "text": [
      "gens_avg_error: 7.8005115089513355 fakes_avg_error: 4.844165218977869 cumulative_avg_error: 6.322338363964608\n"
     ]
    },
    {
     "name": "stderr",
     "output_type": "stream",
     "text": [
      "\r",
      " 82%|###################################################################2              | 41/50 [09:33<02:00, 13.41s/it]"
     ]
    },
    {
     "name": "stdout",
     "output_type": "stream",
     "text": [
      "gens_avg_error: 7.780612244897888 fakes_avg_error: 4.831807654643738 cumulative_avg_error: 6.306209949770814\n"
     ]
    },
    {
     "name": "stderr",
     "output_type": "stream",
     "text": [
      "\r",
      " 84%|####################################################################8             | 42/50 [09:43<01:40, 12.51s/it]"
     ]
    },
    {
     "name": "stdout",
     "output_type": "stream",
     "text": [
      "gens_avg_error: 7.76081424936379 fakes_avg_error: 4.819512978677731 cumulative_avg_error: 6.290163614020761\n"
     ]
    },
    {
     "name": "stderr",
     "output_type": "stream",
     "text": [
      "\r",
      " 86%|######################################################################5           | 43/50 [09:59<01:35, 13.61s/it]"
     ]
    },
    {
     "name": "stdout",
     "output_type": "stream",
     "text": [
      "gens_avg_error: 7.741116751268962 fakes_avg_error: 4.807280712234386 cumulative_avg_error: 6.274198731751679\n"
     ]
    },
    {
     "name": "stderr",
     "output_type": "stream",
     "text": [
      "\r",
      " 88%|########################################################################1         | 44/50 [10:13<01:21, 13.63s/it]"
     ]
    },
    {
     "name": "stdout",
     "output_type": "stream",
     "text": [
      "gens_avg_error: 7.721518987341702 fakes_avg_error: 4.899868129025753 cumulative_avg_error: 6.310693558183722\n"
     ]
    },
    {
     "name": "stderr",
     "output_type": "stream",
     "text": [
      "\r",
      " 90%|#########################################################################8        | 45/50 [10:32<01:16, 15.34s/it]"
     ]
    },
    {
     "name": "stdout",
     "output_type": "stream",
     "text": [
      "gens_avg_error: 7.702020202020132 fakes_avg_error: 4.887494724659525 cumulative_avg_error: 6.294757463339828\n"
     ]
    },
    {
     "name": "stderr",
     "output_type": "stream",
     "text": [
      "\r",
      " 92%|###########################################################################4      | 46/50 [10:46<00:58, 14.73s/it]"
     ]
    },
    {
     "name": "stdout",
     "output_type": "stream",
     "text": [
      "gens_avg_error: 7.682619647355093 fakes_avg_error: 4.9423540998283055 cumulative_avg_error: 6.312486873591694\n"
     ]
    },
    {
     "name": "stderr",
     "output_type": "stream",
     "text": [
      "\r",
      " 94%|#############################################################################     | 47/50 [10:57<00:41, 13.81s/it]"
     ]
    },
    {
     "name": "stdout",
     "output_type": "stream",
     "text": [
      "gens_avg_error: 7.663316582914503 fakes_avg_error: 4.938311334083345 cumulative_avg_error: 6.30081395849893\n"
     ]
    },
    {
     "name": "stderr",
     "output_type": "stream",
     "text": [
      "\r",
      " 96%|##############################################################################7   | 48/50 [11:12<00:28, 14.11s/it]"
     ]
    },
    {
     "name": "stdout",
     "output_type": "stream",
     "text": [
      "gens_avg_error: 7.664995822890486 fakes_avg_error: 4.942643051708872 cumulative_avg_error: 6.303819437299674\n"
     ]
    },
    {
     "name": "stderr",
     "output_type": "stream",
     "text": [
      "\r",
      " 98%|################################################################################3 | 49/50 [11:28<00:14, 14.49s/it]"
     ]
    },
    {
     "name": "stdout",
     "output_type": "stream",
     "text": [
      "gens_avg_error: 7.687499999999925 fakes_avg_error: 4.930286444079601 cumulative_avg_error: 6.3088932220397576\n"
     ]
    },
    {
     "name": "stderr",
     "output_type": "stream",
     "text": [
      "100%|##################################################################################| 50/50 [11:37<00:00, 13.06s/it]\n",
      "  0%|                                                                                           | 0/50 [00:00<?, ?it/s]"
     ]
    },
    {
     "name": "stdout",
     "output_type": "stream",
     "text": [
      "gens_avg_error: 7.668329177057287 fakes_avg_error: 4.942929121276418 cumulative_avg_error: 6.305629149166858\n"
     ]
    },
    {
     "name": "stderr",
     "output_type": "stream",
     "text": [
      "\r",
      "  2%|#6                                                                                 | 1/50 [00:07<05:51,  7.17s/it]"
     ]
    },
    {
     "name": "stdout",
     "output_type": "stream",
     "text": [
      "gens_avg_error: 7.649253731343208 fakes_avg_error: 4.990677882254535 cumulative_avg_error: 6.319965806798877\n"
     ]
    },
    {
     "name": "stderr",
     "output_type": "stream",
     "text": [
      "\r",
      "  4%|###3                                                                               | 2/50 [00:21<07:31,  9.41s/it]"
     ]
    },
    {
     "name": "stdout",
     "output_type": "stream",
     "text": [
      "gens_avg_error: 7.630272952853523 fakes_avg_error: 4.986565364763429 cumulative_avg_error: 6.308419158808476\n"
     ]
    },
    {
     "name": "stderr",
     "output_type": "stream",
     "text": [
      "\r",
      "  6%|####9                                                                              | 3/50 [00:37<08:48, 11.24s/it]"
     ]
    },
    {
     "name": "stdout",
     "output_type": "stream",
     "text": [
      "gens_avg_error: 7.6113861386137955 fakes_avg_error: 4.9742223811872766 cumulative_avg_error: 6.292804259900531\n"
     ]
    },
    {
     "name": "stderr",
     "output_type": "stream",
     "text": [
      "\r",
      "  8%|######6                                                                            | 4/50 [00:48<08:34, 11.19s/it]"
     ]
    },
    {
     "name": "stdout",
     "output_type": "stream",
     "text": [
      "gens_avg_error: 7.633744855967017 fakes_avg_error: 5.003092613990933 cumulative_avg_error: 6.318418734978981\n"
     ]
    },
    {
     "name": "stderr",
     "output_type": "stream",
     "text": [
      "\r",
      " 10%|########3                                                                          | 5/50 [01:12<11:11, 14.93s/it]"
     ]
    },
    {
     "name": "stdout",
     "output_type": "stream",
     "text": [
      "gens_avg_error: 7.655993431855446 fakes_avg_error: 4.999892148694651 cumulative_avg_error: 6.327942790275043\n"
     ]
    },
    {
     "name": "stderr",
     "output_type": "stream",
     "text": [
      "\r",
      " 12%|#########9                                                                         | 6/50 [01:27<11:03, 15.09s/it]"
     ]
    },
    {
     "name": "stdout",
     "output_type": "stream",
     "text": [
      "gens_avg_error: 7.637182637182571 fakes_avg_error: 4.987607401400562 cumulative_avg_error: 6.312395019291572\n"
     ]
    },
    {
     "name": "stderr",
     "output_type": "stream",
     "text": [
      "\r",
      " 14%|###########6                                                                       | 7/50 [01:41<10:32, 14.71s/it]"
     ]
    },
    {
     "name": "stdout",
     "output_type": "stream",
     "text": [
      "gens_avg_error: 7.618464052287521 fakes_avg_error: 4.975382873455958 cumulative_avg_error: 6.29692346287174\n"
     ]
    },
    {
     "name": "stderr",
     "output_type": "stream",
     "text": [
      "\r",
      " 16%|#############2                                                                     | 8/50 [02:01<11:30, 16.43s/it]"
     ]
    },
    {
     "name": "stdout",
     "output_type": "stream",
     "text": [
      "gens_avg_error: 7.640586797065962 fakes_avg_error: 4.995817960154925 cumulative_avg_error: 6.318202378610449\n"
     ]
    },
    {
     "name": "stderr",
     "output_type": "stream",
     "text": [
      "\r",
      " 18%|##############9                                                                    | 9/50 [02:17<11:07, 16.28s/it]"
     ]
    },
    {
     "name": "stdout",
     "output_type": "stream",
     "text": [
      "gens_avg_error: 7.621951219512136 fakes_avg_error: 5.008864325096518 cumulative_avg_error: 6.315407772304327\n"
     ]
    },
    {
     "name": "stderr",
     "output_type": "stream",
     "text": [
      "\r",
      " 20%|################4                                                                 | 10/50 [02:32<10:30, 15.75s/it]"
     ]
    },
    {
     "name": "stdout",
     "output_type": "stream",
     "text": [
      "gens_avg_error: 7.603406326034012 fakes_avg_error: 5.012897907436098 cumulative_avg_error: 6.308152116735055\n"
     ]
    },
    {
     "name": "stderr",
     "output_type": "stream",
     "text": [
      "\r",
      " 22%|##################                                                                | 11/50 [02:49<10:33, 16.25s/it]"
     ]
    },
    {
     "name": "stdout",
     "output_type": "stream",
     "text": [
      "gens_avg_error: 7.807443365695743 fakes_avg_error: 5.000730679505427 cumulative_avg_error: 6.40408702260058\n"
     ]
    },
    {
     "name": "stderr",
     "output_type": "stream",
     "text": [
      "\r",
      " 24%|###################6                                                              | 12/50 [03:08<10:46, 17.03s/it]"
     ]
    },
    {
     "name": "stdout",
     "output_type": "stream",
     "text": [
      "gens_avg_error: 7.7885391444712955 fakes_avg_error: 4.9886223727753976 cumulative_avg_error: 6.388580758623341\n"
     ]
    },
    {
     "name": "stderr",
     "output_type": "stream",
     "text": [
      "\r",
      " 26%|#####################3                                                            | 13/50 [03:24<10:18, 16.71s/it]"
     ]
    },
    {
     "name": "stdout",
     "output_type": "stream",
     "text": [
      "gens_avg_error: 7.809983896940375 fakes_avg_error: 4.9765725602807676 cumulative_avg_error: 6.393278228610577\n"
     ]
    },
    {
     "name": "stderr",
     "output_type": "stream",
     "text": [
      "\r",
      " 28%|######################9                                                           | 14/50 [03:40<09:52, 16.46s/it]"
     ]
    },
    {
     "name": "stdout",
     "output_type": "stream",
     "text": [
      "gens_avg_error: 7.791164658634497 fakes_avg_error: 4.972612947685717 cumulative_avg_error: 6.381888803160107\n"
     ]
    },
    {
     "name": "stderr",
     "output_type": "stream",
     "text": [
      "\r",
      " 30%|########################5                                                         | 15/50 [03:51<08:37, 14.78s/it]"
     ]
    },
    {
     "name": "stdout",
     "output_type": "stream",
     "text": [
      "gens_avg_error: 7.792467948717896 fakes_avg_error: 4.992710833228142 cumulative_avg_error: 6.392589390973025\n"
     ]
    },
    {
     "name": "stderr",
     "output_type": "stream",
     "text": [
      "\r",
      " 32%|##########################2                                                       | 16/50 [04:04<08:12, 14.48s/it]"
     ]
    },
    {
     "name": "stdout",
     "output_type": "stream",
     "text": [
      "gens_avg_error: 7.793764988009533 fakes_avg_error: 4.988731510686428 cumulative_avg_error: 6.3912482493479805\n"
     ]
    },
    {
     "name": "stderr",
     "output_type": "stream",
     "text": [
      "\r",
      " 34%|###########################8                                                      | 17/50 [04:19<07:57, 14.47s/it]"
     ]
    },
    {
     "name": "stdout",
     "output_type": "stream",
     "text": [
      "gens_avg_error: 7.775119617224824 fakes_avg_error: 4.9767967463068 cumulative_avg_error: 6.375958181765817\n"
     ]
    },
    {
     "name": "stderr",
     "output_type": "stream",
     "text": [
      "\r",
      " 36%|#############################5                                                    | 18/50 [04:32<07:34, 14.20s/it]"
     ]
    },
    {
     "name": "stdout",
     "output_type": "stream",
     "text": [
      "gens_avg_error: 7.756563245823333 fakes_avg_error: 4.997838051084768 cumulative_avg_error: 6.3772006484540515\n"
     ]
    },
    {
     "name": "stderr",
     "output_type": "stream",
     "text": [
      "\r",
      " 38%|###############################1                                                  | 19/50 [04:43<06:46, 13.10s/it]"
     ]
    },
    {
     "name": "stdout",
     "output_type": "stream",
     "text": [
      "gens_avg_error: 7.738095238095188 fakes_avg_error: 4.99387494461393 cumulative_avg_error: 6.3659850913545535\n"
     ]
    },
    {
     "name": "stderr",
     "output_type": "stream",
     "text": [
      "\r",
      " 40%|################################8                                                 | 20/50 [04:59<07:00, 14.00s/it]"
     ]
    },
    {
     "name": "stdout",
     "output_type": "stream",
     "text": [
      "gens_avg_error: 7.719714964370494 fakes_avg_error: 4.982013008878505 cumulative_avg_error: 6.3508639866245\n"
     ]
    },
    {
     "name": "stderr",
     "output_type": "stream",
     "text": [
      "\r",
      " 42%|##################################4                                               | 21/50 [05:13<06:48, 14.07s/it]"
     ]
    },
    {
     "name": "stdout",
     "output_type": "stream",
     "text": [
      "gens_avg_error: 7.701421800947816 fakes_avg_error: 4.970207290847995 cumulative_avg_error: 6.335814545897911\n"
     ]
    },
    {
     "name": "stderr",
     "output_type": "stream",
     "text": [
      "\r",
      " 44%|####################################                                              | 22/50 [05:28<06:38, 14.22s/it]"
     ]
    },
    {
     "name": "stdout",
     "output_type": "stream",
     "text": [
      "gens_avg_error: 7.702915681639033 fakes_avg_error: 4.974217833107608 cumulative_avg_error: 6.338566757373321\n"
     ]
    },
    {
     "name": "stderr",
     "output_type": "stream",
     "text": [
      "\r",
      " 46%|#####################################7                                            | 23/50 [05:46<06:54, 15.34s/it]"
     ]
    },
    {
     "name": "stdout",
     "output_type": "stream",
     "text": [
      "gens_avg_error: 7.6847484276728935 fakes_avg_error: 4.962486187274806 cumulative_avg_error: 6.3236173074738495\n"
     ]
    },
    {
     "name": "stderr",
     "output_type": "stream",
     "text": [
      "\r",
      " 48%|#######################################3                                          | 24/50 [05:58<06:15, 14.45s/it]"
     ]
    },
    {
     "name": "stdout",
     "output_type": "stream",
     "text": [
      "gens_avg_error: 7.666666666666611 fakes_avg_error: 4.974339160951812 cumulative_avg_error: 6.320502913809212\n"
     ]
    },
    {
     "name": "stderr",
     "output_type": "stream",
     "text": [
      "\r",
      " 50%|#########################################                                         | 25/50 [06:10<05:39, 13.59s/it]"
     ]
    },
    {
     "name": "stdout",
     "output_type": "stream",
     "text": [
      "gens_avg_error: 7.648669796557062 fakes_avg_error: 4.962662308461319 cumulative_avg_error: 6.305666052509196\n"
     ]
    },
    {
     "name": "stderr",
     "output_type": "stream",
     "text": [
      "\r",
      " 52%|##########################################6                                       | 26/50 [06:26<05:42, 14.27s/it]"
     ]
    },
    {
     "name": "stdout",
     "output_type": "stream",
     "text": [
      "gens_avg_error: 7.630757220921103 fakes_avg_error: 4.951040148488339 cumulative_avg_error: 6.2908986847047155\n"
     ]
    },
    {
     "name": "stderr",
     "output_type": "stream",
     "text": [
      "\r",
      " 54%|############################################2                                     | 27/50 [06:39<05:20, 13.96s/it]"
     ]
    },
    {
     "name": "stdout",
     "output_type": "stream",
     "text": [
      "gens_avg_error: 7.612928348909598 fakes_avg_error: 4.939472297674108 cumulative_avg_error: 6.276200323291858\n"
     ]
    },
    {
     "name": "stderr",
     "output_type": "stream",
     "text": [
      "\r",
      " 56%|#############################################9                                    | 28/50 [07:00<05:52, 16.02s/it]"
     ]
    },
    {
     "name": "stdout",
     "output_type": "stream",
     "text": [
      "gens_avg_error: 7.595182595182537 fakes_avg_error: 4.943498391774326 cumulative_avg_error: 6.269340493478426\n"
     ]
    },
    {
     "name": "stderr",
     "output_type": "stream",
     "text": [
      "\r",
      " 58%|###############################################5                                  | 29/50 [07:12<05:14, 14.99s/it]"
     ]
    },
    {
     "name": "stdout",
     "output_type": "stream",
     "text": [
      "gens_avg_error: 7.713178294573586 fakes_avg_error: 4.932001883886484 cumulative_avg_error: 6.32259008923004\n"
     ]
    },
    {
     "name": "stderr",
     "output_type": "stream",
     "text": [
      "\r",
      " 60%|#################################################1                                | 30/50 [07:33<05:34, 16.71s/it]"
     ]
    },
    {
     "name": "stdout",
     "output_type": "stream",
     "text": [
      "gens_avg_error: 7.8499613302396964 fakes_avg_error: 4.920558724063073 cumulative_avg_error: 6.385260027151385\n"
     ]
    },
    {
     "name": "stderr",
     "output_type": "stream",
     "text": [
      "\r",
      " 62%|##################################################8                               | 31/50 [07:50<05:19, 16.82s/it]"
     ]
    },
    {
     "name": "stdout",
     "output_type": "stream",
     "text": [
      "gens_avg_error: 7.851080246913522 fakes_avg_error: 4.909168541831455 cumulative_avg_error: 6.380124394372489\n"
     ]
    },
    {
     "name": "stderr",
     "output_type": "stream",
     "text": [
      "\r",
      " 64%|####################################################4                             | 32/50 [08:02<04:36, 15.33s/it]"
     ]
    },
    {
     "name": "stdout",
     "output_type": "stream",
     "text": [
      "gens_avg_error: 7.871439568899097 fakes_avg_error: 4.897830970141303 cumulative_avg_error: 6.3846352695202\n"
     ]
    },
    {
     "name": "stderr",
     "output_type": "stream",
     "text": [
      "\r",
      " 66%|######################################################1                           | 33/50 [08:18<04:23, 15.47s/it]"
     ]
    },
    {
     "name": "stdout",
     "output_type": "stream",
     "text": [
      "gens_avg_error: 7.8533026113670745 fakes_avg_error: 4.894226136876778 cumulative_avg_error: 6.373764374121926\n"
     ]
    },
    {
     "name": "stderr",
     "output_type": "stream",
     "text": [
      "\r",
      " 68%|#######################################################7                          | 34/50 [08:31<03:56, 14.80s/it]"
     ]
    },
    {
     "name": "stdout",
     "output_type": "stream",
     "text": [
      "gens_avg_error: 7.835249042145542 fakes_avg_error: 4.905963548056381 cumulative_avg_error: 6.370606295100956\n"
     ]
    },
    {
     "name": "stderr",
     "output_type": "stream",
     "text": [
      "\r",
      " 70%|#########################################################4                        | 35/50 [08:44<03:32, 14.20s/it]"
     ]
    },
    {
     "name": "stdout",
     "output_type": "stream",
     "text": [
      "gens_avg_error: 7.8363914373088095 fakes_avg_error: 4.894711338083768 cumulative_avg_error: 6.365551387696289\n"
     ]
    },
    {
     "name": "stderr",
     "output_type": "stream",
     "text": [
      "\r",
      " 72%|###########################################################                       | 36/50 [08:58<03:17, 14.13s/it]"
     ]
    },
    {
     "name": "stdout",
     "output_type": "stream",
     "text": [
      "gens_avg_error: 7.818459191456839 fakes_avg_error: 4.8835106256396426 cumulative_avg_error: 6.350984908548241\n"
     ]
    },
    {
     "name": "stderr",
     "output_type": "stream",
     "text": [
      "\r",
      " 74%|############################################################6                     | 37/50 [09:16<03:17, 15.23s/it]"
     ]
    },
    {
     "name": "stdout",
     "output_type": "stream",
     "text": [
      "gens_avg_error: 7.876712328767055 fakes_avg_error: 4.872361058001196 cumulative_avg_error: 6.374536693384125\n"
     ]
    },
    {
     "name": "stderr",
     "output_type": "stream",
     "text": [
      "\r",
      " 76%|##############################################################3                   | 38/50 [09:26<02:45, 13.82s/it]"
     ]
    },
    {
     "name": "stdout",
     "output_type": "stream",
     "text": [
      "gens_avg_error: 7.858769931662801 fakes_avg_error: 4.861262285659507 cumulative_avg_error: 6.360016108661148\n"
     ]
    },
    {
     "name": "stderr",
     "output_type": "stream",
     "text": [
      "\r",
      " 78%|###############################################################9                  | 39/50 [09:40<02:30, 13.71s/it]"
     ]
    },
    {
     "name": "stdout",
     "output_type": "stream",
     "text": [
      "gens_avg_error: 7.85984848484842 fakes_avg_error: 4.8653654774345245 cumulative_avg_error: 6.362606981141472\n"
     ]
    },
    {
     "name": "stderr",
     "output_type": "stream",
     "text": [
      "\r",
      " 80%|#################################################################6                | 40/50 [09:56<02:25, 14.52s/it]"
     ]
    },
    {
     "name": "stdout",
     "output_type": "stream",
     "text": [
      "gens_avg_error: 7.842025699168486 fakes_avg_error: 4.8543329026557664 cumulative_avg_error: 6.348179300912127\n"
     ]
    },
    {
     "name": "stderr",
     "output_type": "stream",
     "text": [
      "\r",
      " 82%|###################################################################2              | 41/50 [10:08<02:04, 13.86s/it]"
     ]
    },
    {
     "name": "stdout",
     "output_type": "stream",
     "text": [
      "gens_avg_error: 7.8808446455504555 fakes_avg_error: 4.865974683418994 cumulative_avg_error: 6.373409664484719\n"
     ]
    },
    {
     "name": "stderr",
     "output_type": "stream",
     "text": [
      "\r",
      " 84%|####################################################################8             | 42/50 [10:24<01:55, 14.44s/it]"
     ]
    },
    {
     "name": "stdout",
     "output_type": "stream",
     "text": [
      "gens_avg_error: 7.8630549285176095 fakes_avg_error: 4.854990541921433 cumulative_avg_error: 6.359022735219522\n"
     ]
    },
    {
     "name": "stderr",
     "output_type": "stream",
     "text": [
      "\r",
      " 86%|######################################################################5           | 43/50 [10:36<01:36, 13.80s/it]"
     ]
    },
    {
     "name": "stdout",
     "output_type": "stream",
     "text": [
      "gens_avg_error: 7.845345345345278 fakes_avg_error: 4.85907089355374 cumulative_avg_error: 6.352208119449509\n"
     ]
    },
    {
     "name": "stderr",
     "output_type": "stream",
     "text": [
      "\r",
      " 88%|########################################################################1         | 44/50 [10:51<01:23, 13.95s/it]"
     ]
    },
    {
     "name": "stdout",
     "output_type": "stream",
     "text": [
      "gens_avg_error: 7.940074906366979 fakes_avg_error: 4.848151633118791 cumulative_avg_error: 6.394113269742885\n"
     ]
    },
    {
     "name": "stderr",
     "output_type": "stream",
     "text": [
      "\r",
      " 90%|#########################################################################8        | 45/50 [11:02<01:05, 13.00s/it]"
     ]
    },
    {
     "name": "stdout",
     "output_type": "stream",
     "text": [
      "gens_avg_error: 7.940956651718912 fakes_avg_error: 4.852229021086385 cumulative_avg_error: 6.3965928364026485\n"
     ]
    },
    {
     "name": "stderr",
     "output_type": "stream",
     "text": [
      "\r",
      " 92%|###########################################################################4      | 46/50 [11:22<01:01, 15.38s/it]"
     ]
    },
    {
     "name": "stdout",
     "output_type": "stream",
     "text": [
      "gens_avg_error: 7.923191648023787 fakes_avg_error: 4.848831044156288 cumulative_avg_error: 6.3860113460900365\n"
     ]
    },
    {
     "name": "stderr",
     "output_type": "stream",
     "text": [
      "\r",
      " 94%|#############################################################################     | 47/50 [11:36<00:44, 14.76s/it]"
     ]
    },
    {
     "name": "stdout",
     "output_type": "stream",
     "text": [
      "gens_avg_error: 7.905505952380876 fakes_avg_error: 4.84544823676607 cumulative_avg_error: 6.375477094573467\n"
     ]
    },
    {
     "name": "stderr",
     "output_type": "stream",
     "text": [
      "\r",
      " 96%|##############################################################################7   | 48/50 [11:50<00:29, 14.70s/it]"
     ]
    },
    {
     "name": "stdout",
     "output_type": "stream",
     "text": [
      "gens_avg_error: 7.90645879732732 fakes_avg_error: 4.8346565925861835 cumulative_avg_error: 6.370557694956758\n"
     ]
    },
    {
     "name": "stderr",
     "output_type": "stream",
     "text": [
      "\r",
      " 98%|################################################################################3 | 49/50 [12:07<00:15, 15.25s/it]"
     ]
    },
    {
     "name": "stdout",
     "output_type": "stream",
     "text": [
      "gens_avg_error: 8.092592592592517 fakes_avg_error: 4.823912911269323 cumulative_avg_error: 6.458252751930926\n"
     ]
    },
    {
     "name": "stderr",
     "output_type": "stream",
     "text": [
      "100%|##################################################################################| 50/50 [12:21<00:00, 14.98s/it]\n",
      "  0%|                                                                                           | 0/50 [00:00<?, ?it/s]"
     ]
    },
    {
     "name": "stdout",
     "output_type": "stream",
     "text": [
      "gens_avg_error: 8.074648928307393 fakes_avg_error: 4.82799883977354 cumulative_avg_error: 6.451323884040461\n"
     ]
    },
    {
     "name": "stderr",
     "output_type": "stream",
     "text": [
      "\r",
      "  2%|#6                                                                                 | 1/50 [00:10<08:52, 10.87s/it]"
     ]
    },
    {
     "name": "stdout",
     "output_type": "stream",
     "text": [
      "gens_avg_error: 8.130530973451256 fakes_avg_error: 4.817317426411205 cumulative_avg_error: 6.473924199931225\n"
     ]
    },
    {
     "name": "stderr",
     "output_type": "stream",
     "text": [
      "\r",
      "  4%|###3                                                                               | 2/50 [00:26<09:51, 12.32s/it]"
     ]
    },
    {
     "name": "stdout",
     "output_type": "stream",
     "text": [
      "gens_avg_error: 8.11258278145688 fakes_avg_error: 4.806683171606762 cumulative_avg_error: 6.459632976531826\n"
     ]
    },
    {
     "name": "stderr",
     "output_type": "stream",
     "text": [
      "\r",
      "  6%|####9                                                                              | 3/50 [00:40<09:57, 12.72s/it]"
     ]
    },
    {
     "name": "stdout",
     "output_type": "stream",
     "text": [
      "gens_avg_error: 8.113069016152641 fakes_avg_error: 4.810780051551832 cumulative_avg_error: 6.461924533852237\n"
     ]
    },
    {
     "name": "stderr",
     "output_type": "stream",
     "text": [
      "\r",
      "  8%|######6                                                                            | 4/50 [00:52<09:37, 12.54s/it]"
     ]
    },
    {
     "name": "stdout",
     "output_type": "stream",
     "text": [
      "gens_avg_error: 8.11355311355303 fakes_avg_error: 4.800206908581384 cumulative_avg_error: 6.456880011067212\n"
     ]
    },
    {
     "name": "stderr",
     "output_type": "stream",
     "text": [
      "\r",
      " 10%|########3                                                                          | 5/50 [01:08<10:09, 13.55s/it]"
     ]
    },
    {
     "name": "stdout",
     "output_type": "stream",
     "text": [
      "gens_avg_error: 8.095760233918048 fakes_avg_error: 4.8199281729228165 cumulative_avg_error: 6.4578442034204375\n"
     ]
    },
    {
     "name": "stderr",
     "output_type": "stream",
     "text": [
      "\r",
      " 12%|#########9                                                                         | 6/50 [01:24<10:25, 14.21s/it]"
     ]
    },
    {
     "name": "stdout",
     "output_type": "stream",
     "text": [
      "gens_avg_error: 8.078045222465269 fakes_avg_error: 4.823969176191401 cumulative_avg_error: 6.45100719932834\n"
     ]
    },
    {
     "name": "stderr",
     "output_type": "stream",
     "text": [
      "\r",
      " 14%|###########6                                                                       | 7/50 [01:39<10:28, 14.62s/it]"
     ]
    },
    {
     "name": "stdout",
     "output_type": "stream",
     "text": [
      "gens_avg_error: 8.060407569141114 fakes_avg_error: 4.813436492400591 cumulative_avg_error: 6.4369220307708535\n"
     ]
    },
    {
     "name": "stderr",
     "output_type": "stream",
     "text": [
      "\r",
      " 16%|#############2                                                                     | 8/50 [01:54<10:22, 14.83s/it]"
     ]
    },
    {
     "name": "stdout",
     "output_type": "stream",
     "text": [
      "gens_avg_error: 8.15177923021052 fakes_avg_error: 4.8029497026568 cumulative_avg_error: 6.477364466433655\n"
     ]
    },
    {
     "name": "stderr",
     "output_type": "stream",
     "text": [
      "\r",
      " 18%|##############9                                                                    | 9/50 [02:04<09:02, 13.23s/it]"
     ]
    },
    {
     "name": "stdout",
     "output_type": "stream",
     "text": [
      "gens_avg_error: 8.170289855072388 fakes_avg_error: 4.814247638085812 cumulative_avg_error: 6.4922687465791\n"
     ]
    },
    {
     "name": "stderr",
     "output_type": "stream",
     "text": [
      "\r",
      " 20%|################4                                                                 | 10/50 [02:22<09:48, 14.72s/it]"
     ]
    },
    {
     "name": "stdout",
     "output_type": "stream",
     "text": [
      "gens_avg_error: 8.152566883586331 fakes_avg_error: 4.8182659006206885 cumulative_avg_error: 6.485416392103516\n"
     ]
    },
    {
     "name": "stderr",
     "output_type": "stream",
     "text": [
      "\r",
      " 22%|##################                                                                | 11/50 [02:39<10:02, 15.45s/it]"
     ]
    },
    {
     "name": "stdout",
     "output_type": "stream",
     "text": [
      "gens_avg_error: 8.134920634920562 fakes_avg_error: 4.807836753649653 cumulative_avg_error: 6.471378694285113\n"
     ]
    },
    {
     "name": "stderr",
     "output_type": "stream",
     "text": [
      "\r",
      " 24%|###################6                                                              | 12/50 [02:57<10:11, 16.08s/it]"
     ]
    },
    {
     "name": "stdout",
     "output_type": "stream",
     "text": [
      "gens_avg_error: 8.117350611950968 fakes_avg_error: 4.797452656989498 cumulative_avg_error: 6.457401634470239\n"
     ]
    },
    {
     "name": "stderr",
     "output_type": "stream",
     "text": [
      "\r",
      " 26%|#####################3                                                            | 13/50 [03:12<09:50, 15.95s/it]"
     ]
    },
    {
     "name": "stdout",
     "output_type": "stream",
     "text": [
      "gens_avg_error: 8.099856321839006 fakes_avg_error: 4.830216767642536 cumulative_avg_error: 6.4650365447407765\n"
     ]
    },
    {
     "name": "stderr",
     "output_type": "stream",
     "text": [
      "\r",
      " 28%|######################9                                                           | 14/50 [03:30<09:54, 16.50s/it]"
     ]
    },
    {
     "name": "stdout",
     "output_type": "stream",
     "text": [
      "gens_avg_error: 8.082437275985587 fakes_avg_error: 4.819829204701376 cumulative_avg_error: 6.451133240343476\n"
     ]
    },
    {
     "name": "stderr",
     "output_type": "stream",
     "text": [
      "\r",
      " 30%|########################5                                                         | 15/50 [03:44<09:09, 15.69s/it]"
     ]
    },
    {
     "name": "stdout",
     "output_type": "stream",
     "text": [
      "gens_avg_error: 8.065092989985612 fakes_avg_error: 4.823792375220615 cumulative_avg_error: 6.444442682603113\n"
     ]
    },
    {
     "name": "stderr",
     "output_type": "stream",
     "text": [
      "\r",
      " 32%|##########################2                                                       | 16/50 [03:57<08:27, 14.93s/it]"
     ]
    },
    {
     "name": "stdout",
     "output_type": "stream",
     "text": [
      "gens_avg_error: 8.047822983583075 fakes_avg_error: 4.870565125309357 cumulative_avg_error: 6.459194054446216\n"
     ]
    },
    {
     "name": "stderr",
     "output_type": "stream",
     "text": [
      "\r",
      " 34%|###########################8                                                      | 17/50 [04:15<08:44, 15.89s/it]"
     ]
    },
    {
     "name": "stdout",
     "output_type": "stream",
     "text": [
      "gens_avg_error: 8.048433048432969 fakes_avg_error: 4.8601579348706565 cumulative_avg_error: 6.454295491651818\n"
     ]
    },
    {
     "name": "stderr",
     "output_type": "stream",
     "text": [
      "\r",
      " 36%|#############################5                                                    | 18/50 [04:28<07:55, 14.85s/it]"
     ]
    },
    {
     "name": "stdout",
     "output_type": "stream",
     "text": [
      "gens_avg_error: 8.031272210376606 fakes_avg_error: 4.87111708639546 cumulative_avg_error: 6.451194648386038\n"
     ]
    },
    {
     "name": "stderr",
     "output_type": "stream",
     "text": [
      "\r",
      " 38%|###############################1                                                  | 19/50 [04:39<07:07, 13.79s/it]"
     ]
    },
    {
     "name": "stdout",
     "output_type": "stream",
     "text": [
      "gens_avg_error: 8.014184397163039 fakes_avg_error: 4.860753007488238 cumulative_avg_error: 6.437468702325644\n"
     ]
    },
    {
     "name": "stderr",
     "output_type": "stream",
     "text": [
      "\r",
      " 40%|################################8                                                 | 20/50 [04:50<06:32, 13.08s/it]"
     ]
    },
    {
     "name": "stdout",
     "output_type": "stream",
     "text": [
      "gens_avg_error: 8.01486199575363 fakes_avg_error: 4.850432937408645 cumulative_avg_error: 6.432647466581143\n"
     ]
    },
    {
     "name": "stderr",
     "output_type": "stream",
     "text": [
      "\r",
      " 42%|##################################4                                               | 21/50 [05:02<06:03, 12.52s/it]"
     ]
    },
    {
     "name": "stdout",
     "output_type": "stream",
     "text": [
      "gens_avg_error: 7.997881355932124 fakes_avg_error: 4.840156596439559 cumulative_avg_error: 6.419018976185842\n"
     ]
    },
    {
     "name": "stderr",
     "output_type": "stream",
     "text": [
      "\r",
      " 44%|####################################                                              | 22/50 [05:16<06:08, 13.18s/it]"
     ]
    },
    {
     "name": "stdout",
     "output_type": "stream",
     "text": [
      "gens_avg_error: 7.9809725158561555 fakes_avg_error: 4.829923707229322 cumulative_avg_error: 6.405448111542733\n"
     ]
    },
    {
     "name": "stderr",
     "output_type": "stream",
     "text": [
      "\r",
      " 46%|#####################################7                                            | 23/50 [05:32<06:13, 13.82s/it]"
     ]
    },
    {
     "name": "stdout",
     "output_type": "stream",
     "text": [
      "gens_avg_error: 7.964135021096963 fakes_avg_error: 4.861928087593814 cumulative_avg_error: 6.413031554345383\n"
     ]
    },
    {
     "name": "stderr",
     "output_type": "stream",
     "text": [
      "\r",
      " 48%|#######################################3                                          | 24/50 [05:44<05:46, 13.32s/it]"
     ]
    },
    {
     "name": "stdout",
     "output_type": "stream",
     "text": [
      "gens_avg_error: 7.9473684210525475 fakes_avg_error: 4.900815256532221 cumulative_avg_error: 6.424091838792378\n"
     ]
    },
    {
     "name": "stderr",
     "output_type": "stream",
     "text": [
      "\r",
      " 50%|#########################################                                         | 25/50 [05:58<05:38, 13.54s/it]"
     ]
    },
    {
     "name": "stdout",
     "output_type": "stream",
     "text": [
      "gens_avg_error: 7.930672268907479 fakes_avg_error: 4.8905194261613545 cumulative_avg_error: 6.410595847534417\n"
     ]
    },
    {
     "name": "stderr",
     "output_type": "stream",
     "text": [
      "\r",
      " 52%|##########################################6                                       | 26/50 [06:10<05:14, 13.09s/it]"
     ]
    },
    {
     "name": "stdout",
     "output_type": "stream",
     "text": [
      "gens_avg_error: 7.91404612159321 fakes_avg_error: 4.887254885086245 cumulative_avg_error: 6.400650503339733\n"
     ]
    },
    {
     "name": "stderr",
     "output_type": "stream",
     "text": [
      "\r",
      " 54%|############################################2                                     | 27/50 [06:19<04:35, 11.98s/it]"
     ]
    },
    {
     "name": "stdout",
     "output_type": "stream",
     "text": [
      "gens_avg_error: 7.932357043235627 fakes_avg_error: 4.897951004573519 cumulative_avg_error: 6.415154023904579\n"
     ]
    },
    {
     "name": "stderr",
     "output_type": "stream",
     "text": [
      "\r",
      " 56%|#############################################9                                    | 28/50 [06:33<04:34, 12.48s/it]"
     ]
    },
    {
     "name": "stdout",
     "output_type": "stream",
     "text": [
      "gens_avg_error: 7.915796798886488 fakes_avg_error: 4.901643521613385 cumulative_avg_error: 6.408720160249937\n"
     ]
    },
    {
     "name": "stderr",
     "output_type": "stream",
     "text": [
      "\r",
      " 58%|###############################################5                                  | 29/50 [06:45<04:16, 12.20s/it]"
     ]
    },
    {
     "name": "stdout",
     "output_type": "stream",
     "text": [
      "gens_avg_error: 7.899305555555481 fakes_avg_error: 4.8983762087211336 cumulative_avg_error: 6.3988408821383125\n"
     ]
    },
    {
     "name": "stderr",
     "output_type": "stream",
     "text": [
      "\r",
      " 60%|#################################################1                                | 30/50 [06:57<04:05, 12.27s/it]"
     ]
    },
    {
     "name": "stdout",
     "output_type": "stream",
     "text": [
      "gens_avg_error: 7.917532917532844 fakes_avg_error: 4.8881924743994665 cumulative_avg_error: 6.402862695966149\n"
     ]
    },
    {
     "name": "stderr",
     "output_type": "stream",
     "text": [
      "\r",
      " 62%|##################################################8                               | 31/50 [07:11<04:00, 12.65s/it]"
     ]
    },
    {
     "name": "stdout",
     "output_type": "stream",
     "text": [
      "gens_avg_error: 7.970262793914163 fakes_avg_error: 4.898797884203621 cumulative_avg_error: 6.434530339058897\n"
     ]
    },
    {
     "name": "stderr",
     "output_type": "stream",
     "text": [
      "\r",
      " 64%|####################################################4                             | 32/50 [07:30<04:22, 14.56s/it]"
     ]
    },
    {
     "name": "stdout",
     "output_type": "stream",
     "text": [
      "gens_avg_error: 8.126293995859136 fakes_avg_error: 4.888655445519974 cumulative_avg_error: 6.5074747206895545\n"
     ]
    },
    {
     "name": "stderr",
     "output_type": "stream",
     "text": [
      "\r",
      " 66%|######################################################1                           | 33/50 [07:39<03:42, 13.11s/it]"
     ]
    },
    {
     "name": "stdout",
     "output_type": "stream",
     "text": [
      "gens_avg_error: 8.109504132231326 fakes_avg_error: 4.878554917739974 cumulative_avg_error: 6.494029524985656\n"
     ]
    },
    {
     "name": "stderr",
     "output_type": "stream",
     "text": [
      "\r",
      " 68%|#######################################################7                          | 34/50 [07:53<03:33, 13.34s/it]"
     ]
    },
    {
     "name": "stdout",
     "output_type": "stream",
     "text": [
      "gens_avg_error: 8.092783505154555 fakes_avg_error: 4.895987450555628 cumulative_avg_error: 6.494385477855092\n"
     ]
    },
    {
     "name": "stderr",
     "output_type": "stream",
     "text": [
      "\r",
      " 70%|#########################################################4                        | 35/50 [08:08<03:25, 13.73s/it]"
     ]
    },
    {
     "name": "stdout",
     "output_type": "stream",
     "text": [
      "gens_avg_error: 8.076131687242716 fakes_avg_error: 4.885913402303455 cumulative_avg_error: 6.481022544773085\n"
     ]
    },
    {
     "name": "stderr",
     "output_type": "stream",
     "text": [
      "\r",
      " 72%|###########################################################                       | 36/50 [08:19<03:01, 12.93s/it]"
     ]
    },
    {
     "name": "stdout",
     "output_type": "stream",
     "text": [
      "gens_avg_error: 8.110882956878774 fakes_avg_error: 4.875880725912696 cumulative_avg_error: 6.49338184139574\n"
     ]
    },
    {
     "name": "stderr",
     "output_type": "stream",
     "text": [
      "\r",
      " 74%|############################################################6                     | 37/50 [08:31<02:43, 12.56s/it]"
     ]
    },
    {
     "name": "stdout",
     "output_type": "stream",
     "text": [
      "gens_avg_error: 8.094262295081888 fakes_avg_error: 4.86588916704812 cumulative_avg_error: 6.480075731065005\n"
     ]
    },
    {
     "name": "stderr",
     "output_type": "stream",
     "text": [
      "\r",
      " 76%|##############################################################3                   | 38/50 [08:49<02:50, 14.21s/it]"
     ]
    },
    {
     "name": "stdout",
     "output_type": "stream",
     "text": [
      "gens_avg_error: 8.077709611451866 fakes_avg_error: 4.883205003788982 cumulative_avg_error: 6.480457307620425\n"
     ]
    },
    {
     "name": "stderr",
     "output_type": "stream",
     "text": [
      "\r",
      " 78%|###############################################################9                  | 39/50 [09:07<02:51, 15.56s/it]"
     ]
    },
    {
     "name": "stdout",
     "output_type": "stream",
     "text": [
      "gens_avg_error: 8.112244897959098 fakes_avg_error: 4.880042000379891 cumulative_avg_error: 6.496143449169489\n"
     ]
    },
    {
     "name": "stderr",
     "output_type": "stream",
     "text": [
      "\r",
      " 80%|#################################################################6                | 40/50 [09:17<02:17, 13.77s/it]"
     ]
    },
    {
     "name": "stdout",
     "output_type": "stream",
     "text": [
      "gens_avg_error: 8.095723014256539 fakes_avg_error: 4.87010301463574 cumulative_avg_error: 6.4829130144461455\n"
     ]
    },
    {
     "name": "stderr",
     "output_type": "stream",
     "text": [
      "\r",
      " 82%|###################################################################2              | 41/50 [09:29<01:59, 13.27s/it]"
     ]
    },
    {
     "name": "stdout",
     "output_type": "stream",
     "text": [
      "gens_avg_error: 8.079268292682851 fakes_avg_error: 4.900854837776725 cumulative_avg_error: 6.490061565229787\n"
     ]
    },
    {
     "name": "stderr",
     "output_type": "stream",
     "text": [
      "\r",
      " 84%|####################################################################8             | 42/50 [09:46<01:55, 14.41s/it]"
     ]
    },
    {
     "name": "stdout",
     "output_type": "stream",
     "text": [
      "gens_avg_error: 8.062880324543531 fakes_avg_error: 4.89091395575284 cumulative_avg_error: 6.476897140148186\n"
     ]
    },
    {
     "name": "stderr",
     "output_type": "stream",
     "text": [
      "\r",
      " 86%|######################################################################5           | 43/50 [10:03<01:46, 15.24s/it]"
     ]
    },
    {
     "name": "stdout",
     "output_type": "stream",
     "text": [
      "gens_avg_error: 8.046558704453366 fakes_avg_error: 4.881013320214878 cumulative_avg_error: 6.463786012334127\n"
     ]
    },
    {
     "name": "stderr",
     "output_type": "stream",
     "text": [
      "\r",
      " 88%|########################################################################1         | 44/50 [10:21<01:36, 16.07s/it]"
     ]
    },
    {
     "name": "stdout",
     "output_type": "stream",
     "text": [
      "gens_avg_error: 8.164983164983086 fakes_avg_error: 4.87115268724474 cumulative_avg_error: 6.518067926113913\n"
     ]
    },
    {
     "name": "stderr",
     "output_type": "stream",
     "text": [
      "\r",
      " 90%|#########################################################################8        | 45/50 [10:30<01:09, 14.00s/it]"
     ]
    },
    {
     "name": "stdout",
     "output_type": "stream",
     "text": [
      "gens_avg_error: 8.198924731182721 fakes_avg_error: 4.903044829351932 cumulative_avg_error: 6.550984780267322\n"
     ]
    },
    {
     "name": "stderr",
     "output_type": "stream",
     "text": [
      "\r",
      " 92%|###########################################################################4      | 46/50 [10:41<00:52, 13.05s/it]"
     ]
    },
    {
     "name": "stdout",
     "output_type": "stream",
     "text": [
      "gens_avg_error: 8.182427900737688 fakes_avg_error: 4.906593364235867 cumulative_avg_error: 6.5445106324867774\n"
     ]
    },
    {
     "name": "stderr",
     "output_type": "stream",
     "text": [
      "\r",
      " 94%|#############################################################################     | 47/50 [10:52<00:37, 12.43s/it]"
     ]
    },
    {
     "name": "stdout",
     "output_type": "stream",
     "text": [
      "gens_avg_error: 8.165997322623753 fakes_avg_error: 4.896740767118935 cumulative_avg_error: 6.531369044871349\n"
     ]
    },
    {
     "name": "stderr",
     "output_type": "stream",
     "text": [
      "\r",
      " 96%|##############################################################################7   | 48/50 [11:03<00:23, 11.85s/it]"
     ]
    },
    {
     "name": "stdout",
     "output_type": "stream",
     "text": [
      "gens_avg_error: 8.14963259853032 fakes_avg_error: 4.886927659369189 cumulative_avg_error: 6.518280128949749\n"
     ]
    },
    {
     "name": "stderr",
     "output_type": "stream",
     "text": [
      "\r",
      " 98%|################################################################################3 | 49/50 [11:16<00:12, 12.18s/it]"
     ]
    },
    {
     "name": "stdout",
     "output_type": "stream",
     "text": [
      "gens_avg_error: 8.133333333333258 fakes_avg_error: 4.904740010946995 cumulative_avg_error: 6.519036672140133\n"
     ]
    },
    {
     "name": "stderr",
     "output_type": "stream",
     "text": [
      "100%|##################################################################################| 50/50 [11:27<00:00, 11.84s/it]\n",
      "  0%|                                                                                           | 0/50 [00:00<?, ?it/s]"
     ]
    },
    {
     "name": "stdout",
     "output_type": "stream",
     "text": [
      "gens_avg_error: 8.117099135063132 fakes_avg_error: 4.914910190565869 cumulative_avg_error: 6.516004662814501\n"
     ]
    },
    {
     "name": "stderr",
     "output_type": "stream",
     "text": [
      "\r",
      "  2%|#6                                                                                 | 1/50 [00:16<13:46, 16.86s/it]"
     ]
    },
    {
     "name": "stdout",
     "output_type": "stream",
     "text": [
      "gens_avg_error: 8.100929614873763 fakes_avg_error: 4.911988608238193 cumulative_avg_error: 6.506459111555984\n"
     ]
    },
    {
     "name": "stderr",
     "output_type": "stream",
     "text": [
      "\r",
      "  4%|###3                                                                               | 2/50 [00:28<12:16, 15.34s/it]"
     ]
    },
    {
     "name": "stdout",
     "output_type": "stream",
     "text": [
      "gens_avg_error: 8.084824387011192 fakes_avg_error: 4.922103939036926 cumulative_avg_error: 6.503464163024053\n"
     ]
    },
    {
     "name": "stderr",
     "output_type": "stream",
     "text": [
      "\r",
      "  6%|####9                                                                              | 3/50 [00:37<10:36, 13.54s/it]"
     ]
    },
    {
     "name": "stdout",
     "output_type": "stream",
     "text": [
      "gens_avg_error: 8.101851851851782 fakes_avg_error: 4.938792886247834 cumulative_avg_error: 6.5203223690498024\n"
     ]
    },
    {
     "name": "stderr",
     "output_type": "stream",
     "text": [
      "\r",
      "  8%|######6                                                                            | 4/50 [00:48<09:40, 12.62s/it]"
     ]
    },
    {
     "name": "stdout",
     "output_type": "stream",
     "text": [
      "gens_avg_error: 8.08580858085801 fakes_avg_error: 4.9290130983542735 cumulative_avg_error: 6.507410839606143\n"
     ]
    },
    {
     "name": "stderr",
     "output_type": "stream",
     "text": [
      "\r",
      " 10%|########3                                                                          | 5/50 [00:56<08:30, 11.35s/it]"
     ]
    },
    {
     "name": "stdout",
     "output_type": "stream",
     "text": [
      "gens_avg_error: 8.069828722002558 fakes_avg_error: 4.9390348115986304 cumulative_avg_error: 6.5044317668006\n"
     ]
    },
    {
     "name": "stderr",
     "output_type": "stream",
     "text": [
      "\r",
      " 12%|#########9                                                                         | 6/50 [01:08<08:24, 11.47s/it]"
     ]
    },
    {
     "name": "stdout",
     "output_type": "stream",
     "text": [
      "gens_avg_error: 8.05391190006568 fakes_avg_error: 4.935867747538946 cumulative_avg_error: 6.494889823802308\n"
     ]
    },
    {
     "name": "stderr",
     "output_type": "stream",
     "text": [
      "\r",
      " 14%|###########6                                                                       | 7/50 [01:19<08:09, 11.38s/it]"
     ]
    },
    {
     "name": "stdout",
     "output_type": "stream",
     "text": [
      "gens_avg_error: 8.03805774278208 fakes_avg_error: 4.926151472445362 cumulative_avg_error: 6.4821046076137145\n"
     ]
    },
    {
     "name": "stderr",
     "output_type": "stream",
     "text": [
      "\r",
      " 16%|#############2                                                                     | 8/50 [01:33<08:28, 12.10s/it]"
     ]
    },
    {
     "name": "stdout",
     "output_type": "stream",
     "text": [
      "gens_avg_error: 8.03863785199731 fakes_avg_error: 4.916473375249986 cumulative_avg_error: 6.477555613623642\n"
     ]
    },
    {
     "name": "stderr",
     "output_type": "stream",
     "text": [
      "\r",
      " 18%|##############9                                                                    | 9/50 [01:44<08:00, 11.71s/it]"
     ]
    },
    {
     "name": "stdout",
     "output_type": "stream",
     "text": [
      "gens_avg_error: 8.039215686274437 fakes_avg_error: 4.90683323137695 cumulative_avg_error: 6.4730244588256936\n"
     ]
    },
    {
     "name": "stderr",
     "output_type": "stream",
     "text": [
      "\r",
      " 20%|################4                                                                 | 10/50 [01:56<07:59, 11.98s/it]"
     ]
    },
    {
     "name": "stdout",
     "output_type": "stream",
     "text": [
      "gens_avg_error: 8.039791258969265 fakes_avg_error: 4.897230818008302 cumulative_avg_error: 6.468511038488778\n"
     ]
    },
    {
     "name": "stderr",
     "output_type": "stream",
     "text": [
      "\r",
      " 22%|##################                                                                | 11/50 [02:12<08:26, 12.98s/it]"
     ]
    },
    {
     "name": "stdout",
     "output_type": "stream",
     "text": [
      "gens_avg_error: 8.024088541666586 fakes_avg_error: 4.913707580733551 cumulative_avg_error: 6.468898061200068\n"
     ]
    },
    {
     "name": "stderr",
     "output_type": "stream",
     "text": [
      "\r",
      " 24%|###################6                                                              | 12/50 [02:22<07:39, 12.10s/it]"
     ]
    },
    {
     "name": "stdout",
     "output_type": "stream",
     "text": [
      "gens_avg_error: 8.073424301494391 fakes_avg_error: 4.949613283955001 cumulative_avg_error: 6.511518792724691\n"
     ]
    },
    {
     "name": "stderr",
     "output_type": "stream",
     "text": [
      "\r",
      " 26%|#####################3                                                            | 13/50 [02:38<08:18, 13.47s/it]"
     ]
    },
    {
     "name": "stdout",
     "output_type": "stream",
     "text": [
      "gens_avg_error: 8.05771725032417 fakes_avg_error: 4.985379276268964 cumulative_avg_error: 6.521548263296562\n"
     ]
    },
    {
     "name": "stderr",
     "output_type": "stream",
     "text": [
      "\r",
      " 28%|######################9                                                           | 14/50 [02:57<08:59, 14.98s/it]"
     ]
    },
    {
     "name": "stdout",
     "output_type": "stream",
     "text": [
      "gens_avg_error: 8.042071197410916 fakes_avg_error: 4.9756989281597 cumulative_avg_error: 6.508885062785308\n"
     ]
    },
    {
     "name": "stderr",
     "output_type": "stream",
     "text": [
      "\r",
      " 30%|########################5                                                         | 15/50 [03:13<08:52, 15.20s/it]"
     ]
    },
    {
     "name": "stdout",
     "output_type": "stream",
     "text": [
      "gens_avg_error: 8.042635658914643 fakes_avg_error: 4.966056100779548 cumulative_avg_error: 6.5043458798470954\n"
     ]
    },
    {
     "name": "stderr",
     "output_type": "stream",
     "text": [
      "\r",
      " 32%|##########################2                                                       | 16/50 [03:31<09:09, 16.17s/it]"
     ]
    },
    {
     "name": "stdout",
     "output_type": "stream",
     "text": [
      "gens_avg_error: 8.043197936814861 fakes_avg_error: 4.956450576406668 cumulative_avg_error: 6.499824256610765\n"
     ]
    },
    {
     "name": "stderr",
     "output_type": "stream",
     "text": [
      "\r",
      " 34%|###########################8                                                      | 17/50 [03:46<08:44, 15.88s/it]"
     ]
    },
    {
     "name": "stdout",
     "output_type": "stream",
     "text": [
      "gens_avg_error: 8.059845559845469 fakes_avg_error: 4.946882139000475 cumulative_avg_error: 6.503363849422971\n"
     ]
    },
    {
     "name": "stderr",
     "output_type": "stream",
     "text": [
      "\r",
      " 36%|#############################5                                                    | 18/50 [03:58<07:47, 14.62s/it]"
     ]
    },
    {
     "name": "stdout",
     "output_type": "stream",
     "text": [
      "gens_avg_error: 8.044315992292784 fakes_avg_error: 4.943773181764133 cumulative_avg_error: 6.494044587028458\n"
     ]
    },
    {
     "name": "stderr",
     "output_type": "stream",
     "text": [
      "\r",
      " 38%|###############################1                                                  | 19/50 [04:12<07:27, 14.44s/it]"
     ]
    },
    {
     "name": "stdout",
     "output_type": "stream",
     "text": [
      "gens_avg_error: 8.108974358974274 fakes_avg_error: 4.934265925645354 cumulative_avg_error: 6.521620142309814\n"
     ]
    },
    {
     "name": "stderr",
     "output_type": "stream",
     "text": [
      "\r",
      " 40%|################################8                                                 | 20/50 [04:25<06:59, 13.98s/it]"
     ]
    },
    {
     "name": "stdout",
     "output_type": "stream",
     "text": [
      "gens_avg_error: 8.09341010876511 fakes_avg_error: 4.963182881642192 cumulative_avg_error: 6.528296495203656\n"
     ]
    },
    {
     "name": "stderr",
     "output_type": "stream",
     "text": [
      "\r",
      " 42%|##################################4                                               | 21/50 [04:38<06:33, 13.58s/it]"
     ]
    },
    {
     "name": "stdout",
     "output_type": "stream",
     "text": [
      "gens_avg_error: 8.077905491698512 fakes_avg_error: 4.953674868458968 cumulative_avg_error: 6.51579018007874\n"
     ]
    },
    {
     "name": "stderr",
     "output_type": "stream",
     "text": [
      "\r",
      " 44%|####################################                                              | 22/50 [04:48<05:53, 12.62s/it]"
     ]
    },
    {
     "name": "stdout",
     "output_type": "stream",
     "text": [
      "gens_avg_error: 8.062460165710561 fakes_avg_error: 4.950576701087794 cumulative_avg_error: 6.506518433399178\n"
     ]
    },
    {
     "name": "stderr",
     "output_type": "stream",
     "text": [
      "\r",
      " 46%|#####################################7                                            | 23/50 [05:00<05:34, 12.38s/it]"
     ]
    },
    {
     "name": "stdout",
     "output_type": "stream",
     "text": [
      "gens_avg_error: 8.12659033078873 fakes_avg_error: 4.9411290356277116 cumulative_avg_error: 6.53385968320822\n"
     ]
    },
    {
     "name": "stderr",
     "output_type": "stream",
     "text": [
      "\r",
      " 48%|#######################################3                                          | 24/50 [05:14<05:38, 13.03s/it]"
     ]
    },
    {
     "name": "stdout",
     "output_type": "stream",
     "text": [
      "gens_avg_error: 8.285714285714207 fakes_avg_error: 4.931717361274135 cumulative_avg_error: 6.608715823494171\n"
     ]
    },
    {
     "name": "stderr",
     "output_type": "stream",
     "text": [
      "\r",
      " 50%|#########################################                                         | 25/50 [05:28<05:33, 13.35s/it]"
     ]
    },
    {
     "name": "stdout",
     "output_type": "stream",
     "text": [
      "gens_avg_error: 8.269961977186234 fakes_avg_error: 5.042747049433938 cumulative_avg_error: 6.656354513310081\n"
     ]
    },
    {
     "name": "stderr",
     "output_type": "stream",
     "text": [
      "\r",
      " 52%|##########################################6                                       | 26/50 [05:43<05:27, 13.66s/it]"
     ]
    },
    {
     "name": "stdout",
     "output_type": "stream",
     "text": [
      "gens_avg_error: 8.444022770398407 fakes_avg_error: 5.033178269453986 cumulative_avg_error: 6.738600519926196\n"
     ]
    },
    {
     "name": "stderr",
     "output_type": "stream",
     "text": [
      "\r",
      " 54%|############################################2                                     | 27/50 [05:51<04:37, 12.05s/it]"
     ]
    },
    {
     "name": "stdout",
     "output_type": "stream",
     "text": [
      "gens_avg_error: 8.428030303030232 fakes_avg_error: 5.023645734852744 cumulative_avg_error: 6.725838018941488\n"
     ]
    },
    {
     "name": "stderr",
     "output_type": "stream",
     "text": [
      "\r",
      " 56%|#############################################9                                    | 28/50 [06:06<04:44, 12.91s/it]"
     ]
    },
    {
     "name": "stdout",
     "output_type": "stream",
     "text": [
      "gens_avg_error: 8.412098298676673 fakes_avg_error: 5.014149240079869 cumulative_avg_error: 6.713123769378271\n"
     ]
    },
    {
     "name": "stderr",
     "output_type": "stream",
     "text": [
      "\r",
      " 58%|###############################################5                                  | 29/50 [06:22<04:51, 13.90s/it]"
     ]
    },
    {
     "name": "stdout",
     "output_type": "stream",
     "text": [
      "gens_avg_error: 8.427672955974774 fakes_avg_error: 5.004688581136318 cumulative_avg_error: 6.716180768555546\n"
     ]
    },
    {
     "name": "stderr",
     "output_type": "stream",
     "text": [
      "\r",
      " 60%|#################################################1                                | 30/50 [06:39<04:52, 14.65s/it]"
     ]
    },
    {
     "name": "stdout",
     "output_type": "stream",
     "text": [
      "gens_avg_error: 8.411801632140548 fakes_avg_error: 5.032928338987286 cumulative_avg_error: 6.722364985563911\n"
     ]
    },
    {
     "name": "stderr",
     "output_type": "stream",
     "text": [
      "\r",
      " 62%|##################################################8                               | 31/50 [06:53<04:35, 14.49s/it]"
     ]
    },
    {
     "name": "stdout",
     "output_type": "stream",
     "text": [
      "gens_avg_error: 8.411654135338276 fakes_avg_error: 5.035999275693448 cumulative_avg_error: 6.723826705515856\n"
     ]
    },
    {
     "name": "stderr",
     "output_type": "stream",
     "text": [
      "\r",
      " 64%|####################################################4                             | 32/50 [07:06<04:15, 14.20s/it]"
     ]
    },
    {
     "name": "stdout",
     "output_type": "stream",
     "text": [
      "gens_avg_error: 8.395872420262585 fakes_avg_error: 5.054346021545464 cumulative_avg_error: 6.725109220904024\n"
     ]
    },
    {
     "name": "stderr",
     "output_type": "stream",
     "text": [
      "\r",
      " 66%|######################################################1                           | 33/50 [07:25<04:23, 15.47s/it]"
     ]
    },
    {
     "name": "stdout",
     "output_type": "stream",
     "text": [
      "gens_avg_error: 8.380149812734006 fakes_avg_error: 5.094818532116852 cumulative_avg_error: 6.737484172425434\n"
     ]
    },
    {
     "name": "stderr",
     "output_type": "stream",
     "text": [
      "\r",
      " 68%|#######################################################7                          | 34/50 [07:43<04:21, 16.36s/it]"
     ]
    },
    {
     "name": "stdout",
     "output_type": "stream",
     "text": [
      "gens_avg_error: 8.364485981308334 fakes_avg_error: 5.10398709560822 cumulative_avg_error: 6.7342365384582825\n"
     ]
    },
    {
     "name": "stderr",
     "output_type": "stream",
     "text": [
      "\r",
      " 70%|#########################################################4                        | 35/50 [07:57<03:53, 15.59s/it]"
     ]
    },
    {
     "name": "stdout",
     "output_type": "stream",
     "text": [
      "gens_avg_error: 8.348880597014851 fakes_avg_error: 5.094464731623882 cumulative_avg_error: 6.721672664319367\n"
     ]
    },
    {
     "name": "stderr",
     "output_type": "stream",
     "text": [
      "\r",
      " 72%|###########################################################                       | 36/50 [08:12<03:36, 15.48s/it]"
     ]
    },
    {
     "name": "stdout",
     "output_type": "stream",
     "text": [
      "gens_avg_error: 8.33333333333326 fakes_avg_error: 5.097820573323164 cumulative_avg_error: 6.715576953328206\n"
     ]
    },
    {
     "name": "stderr",
     "output_type": "stream",
     "text": [
      "\r",
      " 74%|############################################################6                     | 37/50 [08:33<03:40, 16.94s/it]"
     ]
    },
    {
     "name": "stdout",
     "output_type": "stream",
     "text": [
      "gens_avg_error: 8.317843866170927 fakes_avg_error: 5.131715578453299 cumulative_avg_error: 6.724779722312113\n"
     ]
    },
    {
     "name": "stderr",
     "output_type": "stream",
     "text": [
      "\r",
      " 76%|##############################################################3                   | 38/50 [08:43<03:01, 15.13s/it]"
     ]
    },
    {
     "name": "stdout",
     "output_type": "stream",
     "text": [
      "gens_avg_error: 8.302411873840377 fakes_avg_error: 5.122194770330002 cumulative_avg_error: 6.712303322085189\n"
     ]
    },
    {
     "name": "stderr",
     "output_type": "stream",
     "text": [
      "\r",
      " 78%|###############################################################9                  | 39/50 [08:58<02:44, 14.94s/it]"
     ]
    },
    {
     "name": "stdout",
     "output_type": "stream",
     "text": [
      "gens_avg_error: 8.317901234567826 fakes_avg_error: 5.112709224459033 cumulative_avg_error: 6.715305229513424\n"
     ]
    },
    {
     "name": "stderr",
     "output_type": "stream",
     "text": [
      "\r",
      " 80%|#################################################################6                | 40/50 [09:13<02:28, 14.84s/it]"
     ]
    },
    {
     "name": "stdout",
     "output_type": "stream",
     "text": [
      "gens_avg_error: 8.456561922365912 fakes_avg_error: 5.103258745301065 cumulative_avg_error: 6.779910333833494\n"
     ]
    },
    {
     "name": "stderr",
     "output_type": "stream",
     "text": [
      "\r",
      " 82%|###################################################################2              | 41/50 [09:28<02:15, 15.09s/it]"
     ]
    },
    {
     "name": "stdout",
     "output_type": "stream",
     "text": [
      "gens_avg_error: 8.440959409594019 fakes_avg_error: 5.112293323261774 cumulative_avg_error: 6.776626366427896\n"
     ]
    },
    {
     "name": "stderr",
     "output_type": "stream",
     "text": [
      "\r",
      " 84%|####################################################################8             | 42/50 [09:40<01:53, 14.21s/it]"
     ]
    },
    {
     "name": "stdout",
     "output_type": "stream",
     "text": [
      "gens_avg_error: 8.425414364640815 fakes_avg_error: 5.102878418430723 cumulative_avg_error: 6.764146391535775\n"
     ]
    },
    {
     "name": "stderr",
     "output_type": "stream",
     "text": [
      "\r",
      " 86%|######################################################################5           | 43/50 [09:57<01:43, 14.82s/it]"
     ]
    },
    {
     "name": "stdout",
     "output_type": "stream",
     "text": [
      "gens_avg_error: 8.409926470588157 fakes_avg_error: 5.093498127220375 cumulative_avg_error: 6.751712298904266\n"
     ]
    },
    {
     "name": "stderr",
     "output_type": "stream",
     "text": [
      "\r",
      " 88%|########################################################################1         | 44/50 [10:10<01:27, 14.54s/it]"
     ]
    },
    {
     "name": "stdout",
     "output_type": "stream",
     "text": [
      "gens_avg_error: 8.39449541284396 fakes_avg_error: 5.08415225909703 cumulative_avg_error: 6.73932383597049\n"
     ]
    },
    {
     "name": "stderr",
     "output_type": "stream",
     "text": [
      "\r",
      " 90%|#########################################################################8        | 45/50 [10:26<01:14, 14.96s/it]"
     ]
    },
    {
     "name": "stdout",
     "output_type": "stream",
     "text": [
      "gens_avg_error: 8.440170940170866 fakes_avg_error: 5.080945631027856 cumulative_avg_error: 6.760558285599361\n"
     ]
    },
    {
     "name": "stderr",
     "output_type": "stream",
     "text": [
      "\r",
      " 92%|###########################################################################4      | 46/50 [10:39<00:57, 14.31s/it]"
     ]
    },
    {
     "name": "stdout",
     "output_type": "stream",
     "text": [
      "gens_avg_error: 8.439975624619056 fakes_avg_error: 5.071656882159436 cumulative_avg_error: 6.755816253389247\n"
     ]
    },
    {
     "name": "stderr",
     "output_type": "stream",
     "text": [
      "\r",
      " 94%|#############################################################################     | 47/50 [10:52<00:41, 13.78s/it]"
     ]
    },
    {
     "name": "stdout",
     "output_type": "stream",
     "text": [
      "gens_avg_error: 8.454987834549799 fakes_avg_error: 5.062402033834323 cumulative_avg_error: 6.7586949341920555\n"
     ]
    },
    {
     "name": "stderr",
     "output_type": "stream",
     "text": [
      "\r",
      " 96%|##############################################################################7   | 48/50 [11:05<00:27, 13.67s/it]"
     ]
    },
    {
     "name": "stdout",
     "output_type": "stream",
     "text": [
      "gens_avg_error: 8.454766241651413 fakes_avg_error: 5.0531809008036666 cumulative_avg_error: 6.753973571227534\n"
     ]
    },
    {
     "name": "stderr",
     "output_type": "stream",
     "text": [
      "\r",
      " 98%|################################################################################3 | 49/50 [11:26<00:15, 15.71s/it]"
     ]
    },
    {
     "name": "stdout",
     "output_type": "stream",
     "text": [
      "gens_avg_error: 8.439393939393858 fakes_avg_error: 5.043993299165839 cumulative_avg_error: 6.741693619279854\n"
     ]
    },
    {
     "name": "stderr",
     "output_type": "stream",
     "text": [
      "100%|##################################################################################| 50/50 [11:38<00:00, 14.72s/it]\n"
     ]
    }
   ],
   "source": [
    "DECISION_THRESHOLD = 0.15\n",
    "scores_sum = 0\n",
    "run_count = 0\n",
    "gens_sum = 0\n",
    "gens_r_count = 0\n",
    "fakes_sum = 0\n",
    "fakes_r_count = 0\n",
    "randoms_sum = 0\n",
    "randoms_r_count = 0\n",
    "\n",
    "for fold in np.arange(0,10):\n",
    "    user_numbers = data_f['user_id'].unique()\n",
    "    np.random.shuffle(user_numbers)\n",
    "    dev_user_ids = user_numbers[0:531]\n",
    "    validation_user_ids = user_numbers[531:581]\n",
    "    exploitation_user_ids = user_numbers[581:]\n",
    "\n",
    "    dev_df = data_f.loc[data_f['user_id'].isin(dev_user_ids)]\n",
    "    dev_vf = visual_f.loc[dev_df.index]\n",
    "    val_df = data_f.loc[data_f['user_id'].isin(validation_user_ids)]\n",
    "    val_vf = visual_f.loc[val_df.index]\n",
    "    exp_df = data_f.loc[data_f['user_id'].isin(exploitation_user_ids)]\n",
    "    exp_vf = visual_f.loc[exp_df.index]\n",
    "\n",
    "    dev_df_gen = dev_df.loc[dev_df['fakeness']==0]\n",
    "    dev_df_fake = dev_df.loc[dev_df['fakeness']==1]\n",
    "    dev_df_gen_12 = dev_df_gen.loc[dev_df_gen['sig_id'].isin(np.arange(1,13))]\n",
    "    dev_df_valid_12 = dev_df_gen.loc[dev_df_gen['sig_id'].isin(np.arange(13,25))]\n",
    "\n",
    "    val_df_gen = val_df.loc[val_df['fakeness']==0]\n",
    "    val_df_fake = val_df.loc[val_df['fakeness']==1]\n",
    "    val_df_gen_12 = val_df_gen.loc[val_df_gen['sig_id'].isin(np.arange(1,13))]\n",
    "    val_df_valid_gen_12 = val_df_gen.loc[val_df_gen['sig_id'].isin(np.arange(13,25))]\n",
    "\n",
    "\n",
    "    for user_id in tqdm.tqdm(validation_user_ids, ascii=True):\n",
    "        clf = SVC(C=1,gamma='scale',class_weight='balanced', probability=True, kernel='rbf', random_state=1923, cache_size=200) # gens avg: 0.9433333333333331 fakes_avg: 0.8593333333333333 cumulative_avg: 0.9013333333333332\n",
    "\n",
    "        y_train = y_train=(pd.concat([val_df_gen_12.loc[val_df_gen_12['user_id']==user_id],dev_df_gen]))['user_id']==user_id\n",
    "        X_train = visual_f.loc[y_train.index]  \n",
    "        clf.fit(X_train, y_train)\n",
    "\n",
    "        y_valid_fakes = val_df_fake.loc[(val_df_fake['user_id']==user_id)]\n",
    "        y_valid_f = len(y_valid_fakes.index)*[False]\n",
    "        X_valid_f = visual_f.loc[y_valid_fakes.index]\n",
    "        # score = accuracy_score(y_valid_f, (clf.predict(X_valid_f)))\n",
    "        score = accuracy_score(y_valid_f, (clf.predict_proba(X_valid_f)[:,1]> DECISION_THRESHOLD))\n",
    "        # score = clf.score(X_valid_f,y_valid_f)\n",
    "        fakes_sum += score\n",
    "        fakes_r_count += 1 \n",
    "        # print(score)\n",
    "        scores_sum += score\n",
    "        run_count += 1\n",
    "        y_valid_gens = val_df_valid_gen_12.loc[val_df_valid_gen_12['user_id']==user_id]\n",
    "        y_valid_g = len(y_valid_gens.index)*[True]\n",
    "        X_valid_g = visual_f.loc[y_valid_gens.index]\n",
    "        # score = accuracy_score(y_valid_g, (clf.predict(X_valid_g)))\n",
    "        score = accuracy_score(y_valid_g, (clf.predict_proba(X_valid_g)[:,1]> DECISION_THRESHOLD))\n",
    "        # score = clf.score(X_valid_g,y_valid_g)\n",
    "        gens_sum += score\n",
    "        gens_r_count += 1 \n",
    "        # print(score)\n",
    "        scores_sum += score\n",
    "        run_count += 1\n",
    "        '''\n",
    "        y_valid_rand_fakes = data_f_gen_valid_12.loc[choice(data_f_gen_valid_12.loc[data_f_gen_valid_12['user_id']!=user_id].index,10)]\n",
    "        y_valid_rf = len(y_valid_rand_fakes.index)*[False]\n",
    "        X_valid_rf = visual_f.loc[y_valid_rand_fakes.index]\n",
    "        score = clf.score(X_valid_rf,y_valid_rf)\n",
    "        randoms_sum += score\n",
    "        randoms_r_count += 1\n",
    "        '''\n",
    "        # print(score)\n",
    "        scores_sum += score\n",
    "        run_count += 1\n",
    "        # print(scores_sum/run_count)\n",
    "        print (\"gens_avg_error:\", 100*(1-(float(gens_sum)/gens_r_count)), \"fakes_avg_error:\", 100*(1-(float(fakes_sum)/fakes_r_count)), \n",
    "                \"cumulative_avg_error:\", 100*(1-((float(gens_sum)/gens_r_count)/2 + (float(fakes_sum)/fakes_r_count)/2)))"
   ]
  }
 ],
 "metadata": {
  "kernelspec": {
   "display_name": "Python 3",
   "language": "python",
   "name": "python3"
  },
  "language_info": {
   "codemirror_mode": {
    "name": "ipython",
    "version": 3
   },
   "file_extension": ".py",
   "mimetype": "text/x-python",
   "name": "python",
   "nbconvert_exporter": "python",
   "pygments_lexer": "ipython3",
   "version": "3.7.3"
  }
 },
 "nbformat": 4,
 "nbformat_minor": 2
}
