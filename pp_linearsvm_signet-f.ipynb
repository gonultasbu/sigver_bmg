{
 "cells": [
  {
   "cell_type": "code",
   "execution_count": 1,
   "metadata": {
    "scrolled": true
   },
   "outputs": [],
   "source": [
    "import scipy.io as sio\n",
    "from scipy.misc import imread\n",
    "from preprocess.normalize import preprocess_signature\n",
    "import tf_signet\n",
    "from tf_cnn_model import TF_CNNModel\n",
    "import tensorflow as tf\n",
    "import numpy as np\n",
    "import pandas as pd\n",
    "import sys\n",
    "import os\n",
    "import scipy.io\n",
    "from find_largest_image import find_largest\n",
    "import tqdm \n",
    "from sklearn.model_selection import train_test_split\n",
    "from sklearn.svm import SVC\n",
    "from xgboost import XGBClassifier\n",
    "import random\n",
    "from numpy.random import choice\n",
    "from sklearn.neural_network import MLPClassifier\n",
    "from sklearn.metrics import accuracy_score"
   ]
  },
  {
   "cell_type": "code",
   "execution_count": 2,
   "metadata": {},
   "outputs": [],
   "source": [
    "data_folder = 'C:\\\\Users\\\\Mert\\\\Documents\\\\GitHub\\\\sigver_bmg\\\\data\\\\downloaded_pp_features\\\\gpds_signet_f_all'"
   ]
  },
  {
   "cell_type": "code",
   "execution_count": 3,
   "metadata": {},
   "outputs": [],
   "source": [
    "data_f = pd.read_csv(os.path.join(data_folder,'data_features.csv'))\n",
    "visual_f = pd.read_csv(os.path.join(data_folder,'visual_features.csv'))"
   ]
  },
  {
   "cell_type": "markdown",
   "metadata": {},
   "source": [
    "# RUN THE CELLS BELOW HERE IF YOU WANT TO RESHUFFLE"
   ]
  },
  {
   "cell_type": "code",
   "execution_count": 4,
   "metadata": {},
   "outputs": [],
   "source": [
    "user_numbers = data_f['user_id'].unique()\n",
    "np.random.shuffle(user_numbers)\n",
    "dev_user_ids = user_numbers[0:531]\n",
    "validation_user_ids = user_numbers[531:581]\n",
    "exploitation_user_ids = user_numbers[581:]"
   ]
  },
  {
   "cell_type": "code",
   "execution_count": 5,
   "metadata": {},
   "outputs": [],
   "source": [
    "dev_df = data_f.loc[data_f['user_id'].isin(dev_user_ids)]\n",
    "dev_vf = visual_f.loc[dev_df.index]\n",
    "val_df = data_f.loc[data_f['user_id'].isin(validation_user_ids)]\n",
    "val_vf = visual_f.loc[val_df.index]\n",
    "exp_df = data_f.loc[data_f['user_id'].isin(exploitation_user_ids)]\n",
    "exp_vf = visual_f.loc[exp_df.index]"
   ]
  },
  {
   "cell_type": "code",
   "execution_count": 6,
   "metadata": {},
   "outputs": [],
   "source": [
    "dev_df_gen = dev_df.loc[dev_df['fakeness']==0]\n",
    "dev_df_fake = dev_df.loc[dev_df['fakeness']==1]\n",
    "dev_df_gen_12 = dev_df_gen.loc[dev_df_gen['sig_id'].isin(np.arange(1,13))]\n",
    "dev_df_valid_12 = dev_df_gen.loc[dev_df_gen['sig_id'].isin(np.arange(13,25))]"
   ]
  },
  {
   "cell_type": "code",
   "execution_count": 7,
   "metadata": {},
   "outputs": [],
   "source": [
    "val_df_gen = val_df.loc[val_df['fakeness']==0]\n",
    "val_df_fake = val_df.loc[val_df['fakeness']==1]\n",
    "val_df_gen_12 = val_df_gen.loc[val_df_gen['sig_id'].isin(np.arange(1,13))]\n",
    "val_df_valid_gen_12 = val_df_gen.loc[val_df_gen['sig_id'].isin(np.arange(13,25))]"
   ]
  },
  {
   "cell_type": "code",
   "execution_count": 8,
   "metadata": {},
   "outputs": [
    {
     "name": "stderr",
     "output_type": "stream",
     "text": [
      "\r",
      "  0%|                                                                                           | 0/50 [00:00<?, ?it/s]"
     ]
    },
    {
     "name": "stdout",
     "output_type": "stream",
     "text": [
      "gens_avg_error: 0.0 fakes_avg_error: 3.3333333333333326 cumulative_avg_error: 1.6666666666666607\n"
     ]
    },
    {
     "name": "stderr",
     "output_type": "stream",
     "text": [
      "\r",
      "  2%|#6                                                                                 | 1/50 [00:10<08:55, 10.93s/it]"
     ]
    },
    {
     "name": "stdout",
     "output_type": "stream",
     "text": [
      "gens_avg_error: 0.0 fakes_avg_error: 23.33333333333334 cumulative_avg_error: 11.66666666666667\n"
     ]
    },
    {
     "name": "stderr",
     "output_type": "stream",
     "text": [
      "\r",
      "  4%|###3                                                                               | 2/50 [00:21<08:39, 10.83s/it]"
     ]
    },
    {
     "name": "stdout",
     "output_type": "stream",
     "text": [
      "gens_avg_error: 0.0 fakes_avg_error: 15.555555555555555 cumulative_avg_error: 7.777777777777772\n"
     ]
    },
    {
     "name": "stderr",
     "output_type": "stream",
     "text": [
      "\r",
      "  6%|####9                                                                              | 3/50 [00:29<07:43,  9.86s/it]"
     ]
    },
    {
     "name": "stdout",
     "output_type": "stream",
     "text": [
      "gens_avg_error: 0.0 fakes_avg_error: 12.5 cumulative_avg_error: 6.25\n"
     ]
    },
    {
     "name": "stderr",
     "output_type": "stream",
     "text": [
      "\r",
      "  8%|######6                                                                            | 4/50 [00:39<07:47, 10.16s/it]"
     ]
    },
    {
     "name": "stdout",
     "output_type": "stream",
     "text": [
      "gens_avg_error: 3.3333333333333437 fakes_avg_error: 12.666666666666659 cumulative_avg_error: 8.000000000000007\n"
     ]
    },
    {
     "name": "stderr",
     "output_type": "stream",
     "text": [
      "\r",
      " 10%|########3                                                                          | 5/50 [00:50<07:40, 10.24s/it]"
     ]
    },
    {
     "name": "stdout",
     "output_type": "stream",
     "text": [
      "gens_avg_error: 6.9444444444444535 fakes_avg_error: 10.555555555555552 cumulative_avg_error: 8.750000000000002\n"
     ]
    },
    {
     "name": "stderr",
     "output_type": "stream",
     "text": [
      "\r",
      " 12%|#########9                                                                         | 6/50 [01:01<07:35, 10.35s/it]"
     ]
    },
    {
     "name": "stdout",
     "output_type": "stream",
     "text": [
      "gens_avg_error: 5.952380952380953 fakes_avg_error: 19.047619047619047 cumulative_avg_error: 12.5\n"
     ]
    },
    {
     "name": "stderr",
     "output_type": "stream",
     "text": [
      "\r",
      " 14%|###########6                                                                       | 7/50 [01:12<07:36, 10.62s/it]"
     ]
    },
    {
     "name": "stdout",
     "output_type": "stream",
     "text": [
      "gens_avg_error: 5.2083333333333375 fakes_avg_error: 18.75 cumulative_avg_error: 11.979166666666675\n"
     ]
    },
    {
     "name": "stderr",
     "output_type": "stream",
     "text": [
      "\r",
      " 16%|#############2                                                                     | 8/50 [01:22<07:27, 10.64s/it]"
     ]
    },
    {
     "name": "stdout",
     "output_type": "stream",
     "text": [
      "gens_avg_error: 4.629629629629639 fakes_avg_error: 16.666666666666664 cumulative_avg_error: 10.64814814814815\n"
     ]
    },
    {
     "name": "stderr",
     "output_type": "stream",
     "text": [
      "\r",
      " 18%|##############9                                                                    | 9/50 [01:35<07:37, 11.16s/it]"
     ]
    },
    {
     "name": "stdout",
     "output_type": "stream",
     "text": [
      "gens_avg_error: 4.166666666666674 fakes_avg_error: 15.000000000000002 cumulative_avg_error: 9.583333333333343\n"
     ]
    },
    {
     "name": "stderr",
     "output_type": "stream",
     "text": [
      "\r",
      " 20%|################4                                                                 | 10/50 [01:44<06:59, 10.49s/it]"
     ]
    },
    {
     "name": "stdout",
     "output_type": "stream",
     "text": [
      "gens_avg_error: 3.7878787878787956 fakes_avg_error: 13.939393939393941 cumulative_avg_error: 8.863636363636363\n"
     ]
    },
    {
     "name": "stderr",
     "output_type": "stream",
     "text": [
      "\r",
      " 22%|##################                                                                | 11/50 [01:53<06:29,  9.99s/it]"
     ]
    },
    {
     "name": "stdout",
     "output_type": "stream",
     "text": [
      "gens_avg_error: 3.472222222222232 fakes_avg_error: 12.777777777777777 cumulative_avg_error: 8.125000000000004\n"
     ]
    },
    {
     "name": "stderr",
     "output_type": "stream",
     "text": [
      "\r",
      " 24%|###################6                                                              | 12/50 [02:02<06:12,  9.81s/it]"
     ]
    },
    {
     "name": "stdout",
     "output_type": "stream",
     "text": [
      "gens_avg_error: 3.205128205128216 fakes_avg_error: 15.64102564102564 cumulative_avg_error: 9.423076923076934\n"
     ]
    },
    {
     "name": "stderr",
     "output_type": "stream",
     "text": [
      "\r",
      " 26%|#####################3                                                            | 13/50 [02:18<07:12, 11.70s/it]"
     ]
    },
    {
     "name": "stdout",
     "output_type": "stream",
     "text": [
      "gens_avg_error: 2.976190476190488 fakes_avg_error: 14.523809523809527 cumulative_avg_error: 8.750000000000014\n"
     ]
    },
    {
     "name": "stderr",
     "output_type": "stream",
     "text": [
      "\r",
      " 28%|######################9                                                           | 14/50 [02:31<07:11, 11.98s/it]"
     ]
    },
    {
     "name": "stdout",
     "output_type": "stream",
     "text": [
      "gens_avg_error: 2.77777777777779 fakes_avg_error: 14.000000000000002 cumulative_avg_error: 8.38888888888889\n"
     ]
    },
    {
     "name": "stderr",
     "output_type": "stream",
     "text": [
      "\r",
      " 30%|########################5                                                         | 15/50 [02:42<06:47, 11.66s/it]"
     ]
    },
    {
     "name": "stdout",
     "output_type": "stream",
     "text": [
      "gens_avg_error: 2.604166666666674 fakes_avg_error: 16.874999999999996 cumulative_avg_error: 9.739583333333336\n"
     ]
    },
    {
     "name": "stderr",
     "output_type": "stream",
     "text": [
      "\r",
      " 32%|##########################2                                                       | 16/50 [02:54<06:42, 11.83s/it]"
     ]
    },
    {
     "name": "stdout",
     "output_type": "stream",
     "text": [
      "gens_avg_error: 2.450980392156865 fakes_avg_error: 16.274509803921568 cumulative_avg_error: 9.362745098039216\n"
     ]
    },
    {
     "name": "stderr",
     "output_type": "stream",
     "text": [
      "\r",
      " 34%|###########################8                                                      | 17/50 [03:05<06:25, 11.67s/it]"
     ]
    },
    {
     "name": "stdout",
     "output_type": "stream",
     "text": [
      "gens_avg_error: 2.314814814814825 fakes_avg_error: 15.370370370370367 cumulative_avg_error: 8.842592592592592\n"
     ]
    },
    {
     "name": "stderr",
     "output_type": "stream",
     "text": [
      "\r",
      " 36%|#############################5                                                    | 18/50 [03:14<05:43, 10.75s/it]"
     ]
    },
    {
     "name": "stdout",
     "output_type": "stream",
     "text": [
      "gens_avg_error: 2.631578947368418 fakes_avg_error: 14.73684210526316 cumulative_avg_error: 8.684210526315784\n"
     ]
    },
    {
     "name": "stderr",
     "output_type": "stream",
     "text": [
      "\r",
      " 38%|###############################1                                                  | 19/50 [03:26<05:48, 11.23s/it]"
     ]
    },
    {
     "name": "stdout",
     "output_type": "stream",
     "text": [
      "gens_avg_error: 2.500000000000002 fakes_avg_error: 14.500000000000012 cumulative_avg_error: 8.500000000000007\n"
     ]
    },
    {
     "name": "stderr",
     "output_type": "stream",
     "text": [
      "\r",
      " 40%|################################8                                                 | 20/50 [03:34<05:10, 10.36s/it]"
     ]
    },
    {
     "name": "stdout",
     "output_type": "stream",
     "text": [
      "gens_avg_error: 2.3809523809523836 fakes_avg_error: 14.285714285714302 cumulative_avg_error: 8.333333333333348\n"
     ]
    },
    {
     "name": "stderr",
     "output_type": "stream",
     "text": [
      "\r",
      " 42%|##################################4                                               | 21/50 [03:44<04:55, 10.18s/it]"
     ]
    },
    {
     "name": "stdout",
     "output_type": "stream",
     "text": [
      "gens_avg_error: 2.2727272727272707 fakes_avg_error: 13.787878787878816 cumulative_avg_error: 8.030303030303044\n"
     ]
    },
    {
     "name": "stderr",
     "output_type": "stream",
     "text": [
      "\r",
      " 44%|####################################                                              | 22/50 [03:58<05:13, 11.21s/it]"
     ]
    },
    {
     "name": "stdout",
     "output_type": "stream",
     "text": [
      "gens_avg_error: 2.1739130434782594 fakes_avg_error: 15.942028985507262 cumulative_avg_error: 9.057971014492761\n"
     ]
    },
    {
     "name": "stderr",
     "output_type": "stream",
     "text": [
      "\r",
      " 46%|#####################################7                                            | 23/50 [04:07<04:49, 10.72s/it]"
     ]
    },
    {
     "name": "stdout",
     "output_type": "stream",
     "text": [
      "gens_avg_error: 2.430555555555547 fakes_avg_error: 15.277777777777802 cumulative_avg_error: 8.854166666666675\n"
     ]
    },
    {
     "name": "stderr",
     "output_type": "stream",
     "text": [
      "\r",
      " 48%|#######################################3                                          | 24/50 [04:17<04:26, 10.25s/it]"
     ]
    },
    {
     "name": "stdout",
     "output_type": "stream",
     "text": [
      "gens_avg_error: 2.3333333333333317 fakes_avg_error: 14.800000000000024 cumulative_avg_error: 8.566666666666677\n"
     ]
    },
    {
     "name": "stderr",
     "output_type": "stream",
     "text": [
      "\r",
      " 50%|#########################################                                         | 25/50 [04:25<04:03,  9.73s/it]"
     ]
    },
    {
     "name": "stdout",
     "output_type": "stream",
     "text": [
      "gens_avg_error: 2.564102564102555 fakes_avg_error: 14.230769230769258 cumulative_avg_error: 8.397435897435912\n"
     ]
    },
    {
     "name": "stderr",
     "output_type": "stream",
     "text": [
      "\r",
      " 52%|##########################################6                                       | 26/50 [04:35<03:54,  9.76s/it]"
     ]
    },
    {
     "name": "stdout",
     "output_type": "stream",
     "text": [
      "gens_avg_error: 2.4691358024691246 fakes_avg_error: 15.061728395061758 cumulative_avg_error: 8.765432098765435\n"
     ]
    },
    {
     "name": "stderr",
     "output_type": "stream",
     "text": [
      "\r",
      " 54%|############################################2                                     | 27/50 [04:50<04:23, 11.47s/it]"
     ]
    },
    {
     "name": "stdout",
     "output_type": "stream",
     "text": [
      "gens_avg_error: 2.3809523809523725 fakes_avg_error: 14.642857142857169 cumulative_avg_error: 8.511904761904777\n"
     ]
    },
    {
     "name": "stderr",
     "output_type": "stream",
     "text": [
      "\r",
      " 56%|#############################################9                                    | 28/50 [05:02<04:15, 11.59s/it]"
     ]
    },
    {
     "name": "stdout",
     "output_type": "stream",
     "text": [
      "gens_avg_error: 2.298850574712641 fakes_avg_error: 14.367816091954055 cumulative_avg_error: 8.333333333333348\n"
     ]
    },
    {
     "name": "stderr",
     "output_type": "stream",
     "text": [
      "\r",
      " 58%|###############################################5                                  | 29/50 [05:12<03:51, 11.04s/it]"
     ]
    },
    {
     "name": "stdout",
     "output_type": "stream",
     "text": [
      "gens_avg_error: 2.2222222222222143 fakes_avg_error: 14.333333333333364 cumulative_avg_error: 8.277777777777784\n"
     ]
    },
    {
     "name": "stderr",
     "output_type": "stream",
     "text": [
      "\r",
      " 60%|#################################################1                                | 30/50 [05:21<03:28, 10.45s/it]"
     ]
    },
    {
     "ename": "KeyboardInterrupt",
     "evalue": "",
     "output_type": "error",
     "traceback": [
      "\u001b[1;31m---------------------------------------------------------------------------\u001b[0m",
      "\u001b[1;31mKeyboardInterrupt\u001b[0m                         Traceback (most recent call last)",
      "\u001b[1;32m<ipython-input-8-1e05d8c1c346>\u001b[0m in \u001b[0;36m<module>\u001b[1;34m\u001b[0m\n\u001b[0;32m     13\u001b[0m     \u001b[0my_train\u001b[0m \u001b[1;33m=\u001b[0m \u001b[0my_train\u001b[0m\u001b[1;33m=\u001b[0m\u001b[1;33m(\u001b[0m\u001b[0mpd\u001b[0m\u001b[1;33m.\u001b[0m\u001b[0mconcat\u001b[0m\u001b[1;33m(\u001b[0m\u001b[1;33m[\u001b[0m\u001b[0mval_df_gen_12\u001b[0m\u001b[1;33m.\u001b[0m\u001b[0mloc\u001b[0m\u001b[1;33m[\u001b[0m\u001b[0mval_df_gen_12\u001b[0m\u001b[1;33m[\u001b[0m\u001b[1;34m'user_id'\u001b[0m\u001b[1;33m]\u001b[0m\u001b[1;33m==\u001b[0m\u001b[0muser_id\u001b[0m\u001b[1;33m]\u001b[0m\u001b[1;33m,\u001b[0m\u001b[0mdev_df_gen\u001b[0m\u001b[1;33m]\u001b[0m\u001b[1;33m)\u001b[0m\u001b[1;33m)\u001b[0m\u001b[1;33m[\u001b[0m\u001b[1;34m'user_id'\u001b[0m\u001b[1;33m]\u001b[0m\u001b[1;33m==\u001b[0m\u001b[0muser_id\u001b[0m\u001b[1;33m\u001b[0m\u001b[1;33m\u001b[0m\u001b[0m\n\u001b[0;32m     14\u001b[0m     \u001b[0mX_train\u001b[0m \u001b[1;33m=\u001b[0m \u001b[0mvisual_f\u001b[0m\u001b[1;33m.\u001b[0m\u001b[0mloc\u001b[0m\u001b[1;33m[\u001b[0m\u001b[0my_train\u001b[0m\u001b[1;33m.\u001b[0m\u001b[0mindex\u001b[0m\u001b[1;33m]\u001b[0m\u001b[1;33m\u001b[0m\u001b[1;33m\u001b[0m\u001b[0m\n\u001b[1;32m---> 15\u001b[1;33m     \u001b[0mclf\u001b[0m\u001b[1;33m.\u001b[0m\u001b[0mfit\u001b[0m\u001b[1;33m(\u001b[0m\u001b[0mX_train\u001b[0m\u001b[1;33m,\u001b[0m \u001b[0my_train\u001b[0m\u001b[1;33m)\u001b[0m\u001b[1;33m\u001b[0m\u001b[1;33m\u001b[0m\u001b[0m\n\u001b[0m\u001b[0;32m     16\u001b[0m \u001b[1;33m\u001b[0m\u001b[0m\n\u001b[0;32m     17\u001b[0m     \u001b[0my_valid_fakes\u001b[0m \u001b[1;33m=\u001b[0m \u001b[0mval_df_fake\u001b[0m\u001b[1;33m.\u001b[0m\u001b[0mloc\u001b[0m\u001b[1;33m[\u001b[0m\u001b[1;33m(\u001b[0m\u001b[0mval_df_fake\u001b[0m\u001b[1;33m[\u001b[0m\u001b[1;34m'user_id'\u001b[0m\u001b[1;33m]\u001b[0m\u001b[1;33m==\u001b[0m\u001b[0muser_id\u001b[0m\u001b[1;33m)\u001b[0m\u001b[1;33m]\u001b[0m\u001b[1;33m\u001b[0m\u001b[1;33m\u001b[0m\u001b[0m\n",
      "\u001b[1;32mc:\\users\\mert\\anaconda3\\envs\\ml_gpu\\lib\\site-packages\\sklearn\\svm\\base.py\u001b[0m in \u001b[0;36mfit\u001b[1;34m(self, X, y, sample_weight)\u001b[0m\n\u001b[0;32m    210\u001b[0m \u001b[1;33m\u001b[0m\u001b[0m\n\u001b[0;32m    211\u001b[0m         \u001b[0mseed\u001b[0m \u001b[1;33m=\u001b[0m \u001b[0mrnd\u001b[0m\u001b[1;33m.\u001b[0m\u001b[0mrandint\u001b[0m\u001b[1;33m(\u001b[0m\u001b[0mnp\u001b[0m\u001b[1;33m.\u001b[0m\u001b[0miinfo\u001b[0m\u001b[1;33m(\u001b[0m\u001b[1;34m'i'\u001b[0m\u001b[1;33m)\u001b[0m\u001b[1;33m.\u001b[0m\u001b[0mmax\u001b[0m\u001b[1;33m)\u001b[0m\u001b[1;33m\u001b[0m\u001b[1;33m\u001b[0m\u001b[0m\n\u001b[1;32m--> 212\u001b[1;33m         \u001b[0mfit\u001b[0m\u001b[1;33m(\u001b[0m\u001b[0mX\u001b[0m\u001b[1;33m,\u001b[0m \u001b[0my\u001b[0m\u001b[1;33m,\u001b[0m \u001b[0msample_weight\u001b[0m\u001b[1;33m,\u001b[0m \u001b[0msolver_type\u001b[0m\u001b[1;33m,\u001b[0m \u001b[0mkernel\u001b[0m\u001b[1;33m,\u001b[0m \u001b[0mrandom_seed\u001b[0m\u001b[1;33m=\u001b[0m\u001b[0mseed\u001b[0m\u001b[1;33m)\u001b[0m\u001b[1;33m\u001b[0m\u001b[1;33m\u001b[0m\u001b[0m\n\u001b[0m\u001b[0;32m    213\u001b[0m         \u001b[1;31m# see comment on the other call to np.iinfo in this file\u001b[0m\u001b[1;33m\u001b[0m\u001b[1;33m\u001b[0m\u001b[1;33m\u001b[0m\u001b[0m\n\u001b[0;32m    214\u001b[0m \u001b[1;33m\u001b[0m\u001b[0m\n",
      "\u001b[1;32mc:\\users\\mert\\anaconda3\\envs\\ml_gpu\\lib\\site-packages\\sklearn\\svm\\base.py\u001b[0m in \u001b[0;36m_dense_fit\u001b[1;34m(self, X, y, sample_weight, solver_type, kernel, random_seed)\u001b[0m\n\u001b[0;32m    269\u001b[0m                 \u001b[0mcache_size\u001b[0m\u001b[1;33m=\u001b[0m\u001b[0mself\u001b[0m\u001b[1;33m.\u001b[0m\u001b[0mcache_size\u001b[0m\u001b[1;33m,\u001b[0m \u001b[0mcoef0\u001b[0m\u001b[1;33m=\u001b[0m\u001b[0mself\u001b[0m\u001b[1;33m.\u001b[0m\u001b[0mcoef0\u001b[0m\u001b[1;33m,\u001b[0m\u001b[1;33m\u001b[0m\u001b[1;33m\u001b[0m\u001b[0m\n\u001b[0;32m    270\u001b[0m                 \u001b[0mgamma\u001b[0m\u001b[1;33m=\u001b[0m\u001b[0mself\u001b[0m\u001b[1;33m.\u001b[0m\u001b[0m_gamma\u001b[0m\u001b[1;33m,\u001b[0m \u001b[0mepsilon\u001b[0m\u001b[1;33m=\u001b[0m\u001b[0mself\u001b[0m\u001b[1;33m.\u001b[0m\u001b[0mepsilon\u001b[0m\u001b[1;33m,\u001b[0m\u001b[1;33m\u001b[0m\u001b[1;33m\u001b[0m\u001b[0m\n\u001b[1;32m--> 271\u001b[1;33m                 max_iter=self.max_iter, random_seed=random_seed)\n\u001b[0m\u001b[0;32m    272\u001b[0m \u001b[1;33m\u001b[0m\u001b[0m\n\u001b[0;32m    273\u001b[0m         \u001b[0mself\u001b[0m\u001b[1;33m.\u001b[0m\u001b[0m_warn_from_fit_status\u001b[0m\u001b[1;33m(\u001b[0m\u001b[1;33m)\u001b[0m\u001b[1;33m\u001b[0m\u001b[1;33m\u001b[0m\u001b[0m\n",
      "\u001b[1;31mKeyboardInterrupt\u001b[0m: "
     ]
    }
   ],
   "source": [
    "DECISION_THRESHOLD = 0.1\n",
    "scores_sum = 0\n",
    "run_count = 0\n",
    "gens_sum = 0\n",
    "gens_r_count = 0\n",
    "fakes_sum = 0\n",
    "fakes_r_count = 0\n",
    "randoms_sum = 0\n",
    "randoms_r_count = 0\n",
    "for user_id in tqdm.tqdm(validation_user_ids, ascii=True):\n",
    "    clf = SVC(C=1,gamma='scale',class_weight='balanced', probability=True, kernel='linear', random_state=1923, cache_size=200) # gens avg: 0.9433333333333331 fakes_avg: 0.8593333333333333 cumulative_avg: 0.9013333333333332\n",
    "    \n",
    "    y_train = y_train=(pd.concat([val_df_gen_12.loc[val_df_gen_12['user_id']==user_id],dev_df_gen]))['user_id']==user_id\n",
    "    X_train = visual_f.loc[y_train.index]  \n",
    "    clf.fit(X_train, y_train)\n",
    "    \n",
    "    y_valid_fakes = val_df_fake.loc[(val_df_fake['user_id']==user_id)]\n",
    "    y_valid_f = len(y_valid_fakes.index)*[False]\n",
    "    X_valid_f = visual_f.loc[y_valid_fakes.index]\n",
    "    # score = accuracy_score(y_valid_f, (clf.predict(X_valid_f)))\n",
    "    score = accuracy_score(y_valid_f, (clf.predict_proba(X_valid_f)[:,1]> DECISION_THRESHOLD))\n",
    "    # score = clf.score(X_valid_f,y_valid_f)\n",
    "    fakes_sum += score\n",
    "    fakes_r_count += 1 \n",
    "    # print(score)\n",
    "    scores_sum += score\n",
    "    run_count += 1\n",
    "    y_valid_gens = val_df_valid_gen_12.loc[val_df_valid_gen_12['user_id']==user_id]\n",
    "    y_valid_g = len(y_valid_gens.index)*[True]\n",
    "    X_valid_g = visual_f.loc[y_valid_gens.index]\n",
    "    # score = accuracy_score(y_valid_g, (clf.predict(X_valid_g)))\n",
    "    score = accuracy_score(y_valid_g, (clf.predict_proba(X_valid_g)[:,1]> DECISION_THRESHOLD))\n",
    "    # score = clf.score(X_valid_g,y_valid_g)\n",
    "    gens_sum += score\n",
    "    gens_r_count += 1 \n",
    "    # print(score)\n",
    "    scores_sum += score\n",
    "    run_count += 1\n",
    "    '''\n",
    "    y_valid_rand_fakes = data_f_gen_valid_12.loc[choice(data_f_gen_valid_12.loc[data_f_gen_valid_12['user_id']!=user_id].index,10)]\n",
    "    y_valid_rf = len(y_valid_rand_fakes.index)*[False]\n",
    "    X_valid_rf = visual_f.loc[y_valid_rand_fakes.index]\n",
    "    score = clf.score(X_valid_rf,y_valid_rf)\n",
    "    randoms_sum += score\n",
    "    randoms_r_count += 1\n",
    "    '''\n",
    "    # print(score)\n",
    "    scores_sum += score\n",
    "    run_count += 1\n",
    "    # print(scores_sum/run_count)\n",
    "    print (\"gens_avg_error:\", 100*(1-(float(gens_sum)/gens_r_count)), \"fakes_avg_error:\", 100*(1-(float(fakes_sum)/fakes_r_count)), \n",
    "            \"cumulative_avg_error:\", 100*(1-((float(gens_sum)/gens_r_count)/2 + (float(fakes_sum)/fakes_r_count)/2)))"
   ]
  },
  {
   "cell_type": "code",
   "execution_count": null,
   "metadata": {},
   "outputs": [],
   "source": []
  }
 ],
 "metadata": {
  "kernelspec": {
   "display_name": "Python 3",
   "language": "python",
   "name": "python3"
  },
  "language_info": {
   "codemirror_mode": {
    "name": "ipython",
    "version": 3
   },
   "file_extension": ".py",
   "mimetype": "text/x-python",
   "name": "python",
   "nbconvert_exporter": "python",
   "pygments_lexer": "ipython3",
   "version": "3.7.3"
  }
 },
 "nbformat": 4,
 "nbformat_minor": 2
}
