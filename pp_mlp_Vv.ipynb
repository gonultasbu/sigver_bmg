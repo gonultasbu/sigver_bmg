{
 "cells": [
  {
   "cell_type": "code",
   "execution_count": 17,
   "metadata": {
    "scrolled": true
   },
   "outputs": [],
   "source": [
    "import scipy.io as sio\n",
    "from scipy.misc import imread\n",
    "from preprocess.normalize import preprocess_signature\n",
    "import tf_signet\n",
    "from tf_cnn_model import TF_CNNModel\n",
    "import tensorflow as tf\n",
    "import numpy as np\n",
    "import pandas as pd\n",
    "import sys\n",
    "import os\n",
    "import scipy.io\n",
    "from find_largest_image import find_largest\n",
    "import tqdm \n",
    "from sklearn.model_selection import train_test_split\n",
    "from sklearn.svm import SVC\n",
    "from xgboost import XGBClassifier\n",
    "import random\n",
    "from numpy.random import choice\n",
    "from sklearn.neural_network import MLPClassifier\n",
    "from sklearn.metrics import accuracy_score"
   ]
  },
  {
   "cell_type": "code",
   "execution_count": 2,
   "metadata": {},
   "outputs": [],
   "source": [
    "data_folder = 'C:\\\\Users\\\\Mert\\\\Documents\\\\GitHub\\\\sigver_bmg\\\\data\\\\downloaded_pp_features\\\\gpds_signet\\\\validation'"
   ]
  },
  {
   "cell_type": "code",
   "execution_count": 3,
   "metadata": {},
   "outputs": [],
   "source": [
    "data_f=pd.read_csv(os.path.join(data_folder,'data_features.csv'))\n",
    "visual_f=pd.read_csv(os.path.join(data_folder,'visual_features.csv'))"
   ]
  },
  {
   "cell_type": "code",
   "execution_count": 4,
   "metadata": {},
   "outputs": [
    {
     "data": {
      "text/html": [
       "<div>\n",
       "<style scoped>\n",
       "    .dataframe tbody tr th:only-of-type {\n",
       "        vertical-align: middle;\n",
       "    }\n",
       "\n",
       "    .dataframe tbody tr th {\n",
       "        vertical-align: top;\n",
       "    }\n",
       "\n",
       "    .dataframe thead th {\n",
       "        text-align: right;\n",
       "    }\n",
       "</style>\n",
       "<table border=\"1\" class=\"dataframe\">\n",
       "  <thead>\n",
       "    <tr style=\"text-align: right;\">\n",
       "      <th></th>\n",
       "      <th>user_id</th>\n",
       "      <th>sig_id</th>\n",
       "      <th>fakeness</th>\n",
       "    </tr>\n",
       "  </thead>\n",
       "  <tbody>\n",
       "    <tr>\n",
       "      <th>0</th>\n",
       "      <td>352</td>\n",
       "      <td>1</td>\n",
       "      <td>True</td>\n",
       "    </tr>\n",
       "    <tr>\n",
       "      <th>1</th>\n",
       "      <td>352</td>\n",
       "      <td>2</td>\n",
       "      <td>True</td>\n",
       "    </tr>\n",
       "    <tr>\n",
       "      <th>2</th>\n",
       "      <td>352</td>\n",
       "      <td>3</td>\n",
       "      <td>True</td>\n",
       "    </tr>\n",
       "    <tr>\n",
       "      <th>3</th>\n",
       "      <td>352</td>\n",
       "      <td>4</td>\n",
       "      <td>True</td>\n",
       "    </tr>\n",
       "    <tr>\n",
       "      <th>4</th>\n",
       "      <td>352</td>\n",
       "      <td>5</td>\n",
       "      <td>True</td>\n",
       "    </tr>\n",
       "  </tbody>\n",
       "</table>\n",
       "</div>"
      ],
      "text/plain": [
       "   user_id  sig_id  fakeness\n",
       "0      352       1      True\n",
       "1      352       2      True\n",
       "2      352       3      True\n",
       "3      352       4      True\n",
       "4      352       5      True"
      ]
     },
     "execution_count": 4,
     "metadata": {},
     "output_type": "execute_result"
    }
   ],
   "source": [
    "data_f.head()"
   ]
  },
  {
   "cell_type": "code",
   "execution_count": 5,
   "metadata": {},
   "outputs": [
    {
     "data": {
      "text/html": [
       "<div>\n",
       "<style scoped>\n",
       "    .dataframe tbody tr th:only-of-type {\n",
       "        vertical-align: middle;\n",
       "    }\n",
       "\n",
       "    .dataframe tbody tr th {\n",
       "        vertical-align: top;\n",
       "    }\n",
       "\n",
       "    .dataframe thead th {\n",
       "        text-align: right;\n",
       "    }\n",
       "</style>\n",
       "<table border=\"1\" class=\"dataframe\">\n",
       "  <thead>\n",
       "    <tr style=\"text-align: right;\">\n",
       "      <th></th>\n",
       "      <th>0</th>\n",
       "      <th>1</th>\n",
       "      <th>2</th>\n",
       "      <th>3</th>\n",
       "      <th>4</th>\n",
       "      <th>5</th>\n",
       "      <th>6</th>\n",
       "      <th>7</th>\n",
       "      <th>8</th>\n",
       "      <th>9</th>\n",
       "      <th>...</th>\n",
       "      <th>2038</th>\n",
       "      <th>2039</th>\n",
       "      <th>2040</th>\n",
       "      <th>2041</th>\n",
       "      <th>2042</th>\n",
       "      <th>2043</th>\n",
       "      <th>2044</th>\n",
       "      <th>2045</th>\n",
       "      <th>2046</th>\n",
       "      <th>2047</th>\n",
       "    </tr>\n",
       "  </thead>\n",
       "  <tbody>\n",
       "    <tr>\n",
       "      <th>0</th>\n",
       "      <td>0.000000</td>\n",
       "      <td>0.000000</td>\n",
       "      <td>0.0</td>\n",
       "      <td>1.370572</td>\n",
       "      <td>0.000000</td>\n",
       "      <td>0.000000</td>\n",
       "      <td>0.0</td>\n",
       "      <td>0.149738</td>\n",
       "      <td>0.323547</td>\n",
       "      <td>0.000000</td>\n",
       "      <td>...</td>\n",
       "      <td>0.0</td>\n",
       "      <td>0.0</td>\n",
       "      <td>0.0</td>\n",
       "      <td>0.0</td>\n",
       "      <td>0.0</td>\n",
       "      <td>0.000000</td>\n",
       "      <td>1.186365</td>\n",
       "      <td>0.331796</td>\n",
       "      <td>0.356497</td>\n",
       "      <td>0.0</td>\n",
       "    </tr>\n",
       "    <tr>\n",
       "      <th>1</th>\n",
       "      <td>0.160537</td>\n",
       "      <td>0.000000</td>\n",
       "      <td>0.0</td>\n",
       "      <td>1.169396</td>\n",
       "      <td>0.239608</td>\n",
       "      <td>0.000000</td>\n",
       "      <td>0.0</td>\n",
       "      <td>0.000000</td>\n",
       "      <td>1.208937</td>\n",
       "      <td>0.000000</td>\n",
       "      <td>...</td>\n",
       "      <td>0.0</td>\n",
       "      <td>0.0</td>\n",
       "      <td>0.0</td>\n",
       "      <td>0.0</td>\n",
       "      <td>0.0</td>\n",
       "      <td>0.000000</td>\n",
       "      <td>1.141376</td>\n",
       "      <td>0.893188</td>\n",
       "      <td>0.000000</td>\n",
       "      <td>0.0</td>\n",
       "    </tr>\n",
       "    <tr>\n",
       "      <th>2</th>\n",
       "      <td>0.393000</td>\n",
       "      <td>0.223869</td>\n",
       "      <td>0.0</td>\n",
       "      <td>0.195907</td>\n",
       "      <td>0.000000</td>\n",
       "      <td>0.000000</td>\n",
       "      <td>0.0</td>\n",
       "      <td>0.060111</td>\n",
       "      <td>0.088993</td>\n",
       "      <td>0.194043</td>\n",
       "      <td>...</td>\n",
       "      <td>0.0</td>\n",
       "      <td>0.0</td>\n",
       "      <td>0.0</td>\n",
       "      <td>0.0</td>\n",
       "      <td>0.0</td>\n",
       "      <td>0.000000</td>\n",
       "      <td>1.038160</td>\n",
       "      <td>0.215892</td>\n",
       "      <td>0.050661</td>\n",
       "      <td>0.0</td>\n",
       "    </tr>\n",
       "    <tr>\n",
       "      <th>3</th>\n",
       "      <td>0.280439</td>\n",
       "      <td>0.609959</td>\n",
       "      <td>0.0</td>\n",
       "      <td>0.392170</td>\n",
       "      <td>0.000000</td>\n",
       "      <td>0.568858</td>\n",
       "      <td>0.0</td>\n",
       "      <td>0.000000</td>\n",
       "      <td>0.246439</td>\n",
       "      <td>0.000000</td>\n",
       "      <td>...</td>\n",
       "      <td>0.0</td>\n",
       "      <td>0.0</td>\n",
       "      <td>0.0</td>\n",
       "      <td>0.0</td>\n",
       "      <td>0.0</td>\n",
       "      <td>0.138333</td>\n",
       "      <td>1.180603</td>\n",
       "      <td>0.000000</td>\n",
       "      <td>0.000000</td>\n",
       "      <td>0.0</td>\n",
       "    </tr>\n",
       "    <tr>\n",
       "      <th>4</th>\n",
       "      <td>0.351282</td>\n",
       "      <td>0.000000</td>\n",
       "      <td>0.0</td>\n",
       "      <td>0.000000</td>\n",
       "      <td>0.000000</td>\n",
       "      <td>0.940088</td>\n",
       "      <td>0.0</td>\n",
       "      <td>0.000000</td>\n",
       "      <td>0.000000</td>\n",
       "      <td>0.000000</td>\n",
       "      <td>...</td>\n",
       "      <td>0.0</td>\n",
       "      <td>0.0</td>\n",
       "      <td>0.0</td>\n",
       "      <td>0.0</td>\n",
       "      <td>0.0</td>\n",
       "      <td>0.398407</td>\n",
       "      <td>1.215286</td>\n",
       "      <td>0.000000</td>\n",
       "      <td>0.000000</td>\n",
       "      <td>0.0</td>\n",
       "    </tr>\n",
       "  </tbody>\n",
       "</table>\n",
       "<p>5 rows × 2048 columns</p>\n",
       "</div>"
      ],
      "text/plain": [
       "          0         1    2         3         4         5    6         7  \\\n",
       "0  0.000000  0.000000  0.0  1.370572  0.000000  0.000000  0.0  0.149738   \n",
       "1  0.160537  0.000000  0.0  1.169396  0.239608  0.000000  0.0  0.000000   \n",
       "2  0.393000  0.223869  0.0  0.195907  0.000000  0.000000  0.0  0.060111   \n",
       "3  0.280439  0.609959  0.0  0.392170  0.000000  0.568858  0.0  0.000000   \n",
       "4  0.351282  0.000000  0.0  0.000000  0.000000  0.940088  0.0  0.000000   \n",
       "\n",
       "          8         9  ...  2038  2039  2040  2041  2042      2043      2044  \\\n",
       "0  0.323547  0.000000  ...   0.0   0.0   0.0   0.0   0.0  0.000000  1.186365   \n",
       "1  1.208937  0.000000  ...   0.0   0.0   0.0   0.0   0.0  0.000000  1.141376   \n",
       "2  0.088993  0.194043  ...   0.0   0.0   0.0   0.0   0.0  0.000000  1.038160   \n",
       "3  0.246439  0.000000  ...   0.0   0.0   0.0   0.0   0.0  0.138333  1.180603   \n",
       "4  0.000000  0.000000  ...   0.0   0.0   0.0   0.0   0.0  0.398407  1.215286   \n",
       "\n",
       "       2045      2046  2047  \n",
       "0  0.331796  0.356497   0.0  \n",
       "1  0.893188  0.000000   0.0  \n",
       "2  0.215892  0.050661   0.0  \n",
       "3  0.000000  0.000000   0.0  \n",
       "4  0.000000  0.000000   0.0  \n",
       "\n",
       "[5 rows x 2048 columns]"
      ]
     },
     "execution_count": 5,
     "metadata": {},
     "output_type": "execute_result"
    }
   ],
   "source": [
    "visual_f.head()"
   ]
  },
  {
   "cell_type": "code",
   "execution_count": 6,
   "metadata": {},
   "outputs": [],
   "source": [
    "data_f_gen = data_f.loc[data_f['fakeness']==False]\n",
    "data_f_fake = data_f.loc[data_f['fakeness']==True]\n",
    "data_f_gen_12 = data_f_gen.loc[data_f_gen['sig_id'].isin(np.arange(1,13))]\n",
    "data_f_gen_valid_12 = data_f_gen.loc[data_f_gen['sig_id'].isin(np.arange(13,25))]"
   ]
  },
  {
   "cell_type": "code",
   "execution_count": 16,
   "metadata": {},
   "outputs": [
    {
     "name": "stderr",
     "output_type": "stream",
     "text": [
      "\n",
      "\n",
      "\n",
      "\n",
      "  0%|                                                                                           | 0/50 [00:00<?, ?it/s]"
     ]
    },
    {
     "name": "stdout",
     "output_type": "stream",
     "text": [
      "gens avg: 1.0 fakes_avg: 0.5666666666666667 cumulative_avg: 0.7833333333333333\n"
     ]
    },
    {
     "name": "stderr",
     "output_type": "stream",
     "text": [
      "\n",
      "\n",
      "\n",
      "\n",
      "  2%|#6                                                                                 | 1/50 [00:00<00:26,  1.82it/s]"
     ]
    },
    {
     "name": "stdout",
     "output_type": "stream",
     "text": [
      "gens avg: 1.0 fakes_avg: 0.6333333333333333 cumulative_avg: 0.8166666666666667\n"
     ]
    },
    {
     "name": "stderr",
     "output_type": "stream",
     "text": [
      "\n",
      "\n",
      "\n",
      "\n",
      "  4%|###3                                                                               | 2/50 [00:01<00:26,  1.78it/s]"
     ]
    },
    {
     "name": "stdout",
     "output_type": "stream",
     "text": [
      "gens avg: 1.0 fakes_avg: 0.7444444444444445 cumulative_avg: 0.8722222222222222\n"
     ]
    },
    {
     "name": "stderr",
     "output_type": "stream",
     "text": [
      "\n",
      "\n",
      "\n",
      "\n",
      "  6%|####9                                                                              | 3/50 [00:01<00:28,  1.67it/s]"
     ]
    },
    {
     "name": "stdout",
     "output_type": "stream",
     "text": [
      "gens avg: 0.9791666666666666 fakes_avg: 0.8083333333333333 cumulative_avg: 0.89375\n"
     ]
    },
    {
     "name": "stderr",
     "output_type": "stream",
     "text": [
      "\n",
      "\n",
      "\n",
      "\n",
      "  8%|######6                                                                            | 4/50 [00:02<00:25,  1.80it/s]"
     ]
    },
    {
     "name": "stdout",
     "output_type": "stream",
     "text": [
      "gens avg: 0.9833333333333332 fakes_avg: 0.8466666666666667 cumulative_avg: 0.9149999999999999\n"
     ]
    },
    {
     "name": "stderr",
     "output_type": "stream",
     "text": [
      "\n",
      "\n",
      "\n",
      "\n",
      " 10%|########3                                                                          | 5/50 [00:02<00:25,  1.76it/s]"
     ]
    },
    {
     "name": "stdout",
     "output_type": "stream",
     "text": [
      "gens avg: 0.986111111111111 fakes_avg: 0.8222222222222223 cumulative_avg: 0.9041666666666667\n"
     ]
    },
    {
     "name": "stderr",
     "output_type": "stream",
     "text": [
      "\n",
      "\n",
      "\n",
      "\n",
      " 12%|#########9                                                                         | 6/50 [00:03<00:25,  1.75it/s]"
     ]
    },
    {
     "name": "stdout",
     "output_type": "stream",
     "text": [
      "gens avg: 0.988095238095238 fakes_avg: 0.7428571428571429 cumulative_avg: 0.8654761904761905\n"
     ]
    },
    {
     "name": "stderr",
     "output_type": "stream",
     "text": [
      "\n",
      "\n",
      "\n",
      "\n",
      " 14%|###########6                                                                       | 7/50 [00:03<00:23,  1.82it/s]"
     ]
    },
    {
     "name": "stdout",
     "output_type": "stream",
     "text": [
      "gens avg: 0.9895833333333333 fakes_avg: 0.775 cumulative_avg: 0.8822916666666667\n"
     ]
    },
    {
     "name": "stderr",
     "output_type": "stream",
     "text": [
      "\n",
      "\n",
      "\n",
      "\n",
      " 16%|#############2                                                                     | 8/50 [00:04<00:24,  1.73it/s]"
     ]
    },
    {
     "name": "stdout",
     "output_type": "stream",
     "text": [
      "gens avg: 0.9814814814814814 fakes_avg: 0.7481481481481481 cumulative_avg: 0.8648148148148147\n"
     ]
    },
    {
     "name": "stderr",
     "output_type": "stream",
     "text": [
      "\n",
      "\n",
      "\n",
      "\n",
      " 18%|##############9                                                                    | 9/50 [00:05<00:22,  1.79it/s]"
     ]
    },
    {
     "name": "stdout",
     "output_type": "stream",
     "text": [
      "gens avg: 0.9833333333333332 fakes_avg: 0.7733333333333333 cumulative_avg: 0.8783333333333332\n"
     ]
    },
    {
     "name": "stderr",
     "output_type": "stream",
     "text": [
      "\n",
      "\n",
      "\n",
      "\n",
      " 20%|################4                                                                 | 10/50 [00:05<00:21,  1.83it/s]"
     ]
    },
    {
     "name": "stdout",
     "output_type": "stream",
     "text": [
      "gens avg: 0.9848484848484848 fakes_avg: 0.7757575757575758 cumulative_avg: 0.8803030303030303\n"
     ]
    },
    {
     "name": "stderr",
     "output_type": "stream",
     "text": [
      "\n",
      "\n",
      "\n",
      "\n",
      " 22%|##################                                                                | 11/50 [00:06<00:19,  1.96it/s]"
     ]
    },
    {
     "name": "stdout",
     "output_type": "stream",
     "text": [
      "gens avg: 0.986111111111111 fakes_avg: 0.7777777777777778 cumulative_avg: 0.8819444444444444\n"
     ]
    },
    {
     "name": "stderr",
     "output_type": "stream",
     "text": [
      "\n",
      "\n",
      "\n",
      "\n",
      " 24%|###################6                                                              | 12/50 [00:06<00:19,  1.92it/s]"
     ]
    },
    {
     "name": "stdout",
     "output_type": "stream",
     "text": [
      "gens avg: 0.9871794871794871 fakes_avg: 0.7384615384615386 cumulative_avg: 0.8628205128205129\n"
     ]
    },
    {
     "name": "stderr",
     "output_type": "stream",
     "text": [
      "\n",
      "\n",
      "\n",
      "\n",
      " 26%|#####################3                                                            | 13/50 [00:07<00:18,  2.03it/s]"
     ]
    },
    {
     "name": "stdout",
     "output_type": "stream",
     "text": [
      "gens avg: 0.988095238095238 fakes_avg: 0.7571428571428572 cumulative_avg: 0.8726190476190476\n"
     ]
    },
    {
     "name": "stderr",
     "output_type": "stream",
     "text": [
      "\n",
      "\n",
      "\n",
      "\n",
      " 28%|######################9                                                           | 14/50 [00:07<00:19,  1.88it/s]"
     ]
    },
    {
     "name": "stdout",
     "output_type": "stream",
     "text": [
      "gens avg: 0.9777777777777777 fakes_avg: 0.7711111111111112 cumulative_avg: 0.8744444444444445\n"
     ]
    },
    {
     "name": "stderr",
     "output_type": "stream",
     "text": [
      "\n",
      "\n",
      "\n",
      "\n",
      " 30%|########################5                                                         | 15/50 [00:08<00:19,  1.82it/s]"
     ]
    },
    {
     "name": "stdout",
     "output_type": "stream",
     "text": [
      "gens avg: 0.953125 fakes_avg: 0.7791666666666668 cumulative_avg: 0.8661458333333334\n"
     ]
    },
    {
     "name": "stderr",
     "output_type": "stream",
     "text": [
      "\n",
      "\n",
      "\n",
      "\n",
      " 32%|##########################2                                                       | 16/50 [00:08<00:18,  1.79it/s]"
     ]
    },
    {
     "name": "stdout",
     "output_type": "stream",
     "text": [
      "gens avg: 0.9558823529411765 fakes_avg: 0.7882352941176471 cumulative_avg: 0.8720588235294118\n"
     ]
    },
    {
     "name": "stderr",
     "output_type": "stream",
     "text": [
      "\n",
      "\n",
      "\n",
      "\n",
      " 34%|###########################8                                                      | 17/50 [00:09<00:18,  1.78it/s]"
     ]
    },
    {
     "name": "stdout",
     "output_type": "stream",
     "text": [
      "gens avg: 0.9583333333333334 fakes_avg: 0.7685185185185186 cumulative_avg: 0.863425925925926\n"
     ]
    },
    {
     "name": "stderr",
     "output_type": "stream",
     "text": [
      "\n",
      "\n",
      "\n",
      "\n",
      " 36%|#############################5                                                    | 18/50 [00:10<00:19,  1.63it/s]"
     ]
    },
    {
     "name": "stdout",
     "output_type": "stream",
     "text": [
      "gens avg: 0.9605263157894737 fakes_avg: 0.7771929824561404 cumulative_avg: 0.8688596491228071\n"
     ]
    },
    {
     "name": "stderr",
     "output_type": "stream",
     "text": [
      "\n",
      "\n",
      "\n",
      "\n",
      " 38%|###############################1                                                  | 19/50 [00:10<00:18,  1.71it/s]"
     ]
    },
    {
     "name": "stdout",
     "output_type": "stream",
     "text": [
      "gens avg: 0.9416666666666667 fakes_avg: 0.7833333333333334 cumulative_avg: 0.8625\n"
     ]
    },
    {
     "name": "stderr",
     "output_type": "stream",
     "text": [
      "\n",
      "\n",
      "\n",
      "\n",
      " 40%|################################8                                                 | 20/50 [00:11<00:17,  1.72it/s]"
     ]
    },
    {
     "name": "stdout",
     "output_type": "stream",
     "text": [
      "gens avg: 0.9444444444444444 fakes_avg: 0.7841269841269842 cumulative_avg: 0.8642857142857143\n"
     ]
    },
    {
     "name": "stderr",
     "output_type": "stream",
     "text": [
      "\n",
      "\n",
      "\n",
      "\n",
      " 42%|##################################4                                               | 21/50 [00:11<00:15,  1.83it/s]"
     ]
    },
    {
     "name": "stdout",
     "output_type": "stream",
     "text": [
      "gens avg: 0.9469696969696969 fakes_avg: 0.7772727272727273 cumulative_avg: 0.8621212121212121\n"
     ]
    },
    {
     "name": "stderr",
     "output_type": "stream",
     "text": [
      "\n",
      "\n",
      "\n",
      "\n",
      " 44%|####################################                                              | 22/50 [00:12<00:14,  1.92it/s]"
     ]
    },
    {
     "name": "stdout",
     "output_type": "stream",
     "text": [
      "gens avg: 0.9492753623188406 fakes_avg: 0.782608695652174 cumulative_avg: 0.8659420289855073\n"
     ]
    },
    {
     "name": "stderr",
     "output_type": "stream",
     "text": [
      "\n",
      "\n",
      "\n",
      "\n",
      " 46%|#####################################7                                            | 23/50 [00:12<00:15,  1.70it/s]"
     ]
    },
    {
     "name": "stdout",
     "output_type": "stream",
     "text": [
      "gens avg: 0.9513888888888888 fakes_avg: 0.7916666666666666 cumulative_avg: 0.8715277777777777\n"
     ]
    },
    {
     "name": "stderr",
     "output_type": "stream",
     "text": [
      "\n",
      "\n",
      "\n",
      "\n",
      " 48%|#######################################3                                          | 24/50 [00:13<00:16,  1.62it/s]"
     ]
    },
    {
     "name": "stdout",
     "output_type": "stream",
     "text": [
      "gens avg: 0.9133333333333333 fakes_avg: 0.8 cumulative_avg: 0.8566666666666667\n"
     ]
    },
    {
     "name": "stderr",
     "output_type": "stream",
     "text": [
      "\n",
      "\n",
      "\n",
      "\n",
      " 50%|#########################################                                         | 25/50 [00:14<00:14,  1.75it/s]"
     ]
    },
    {
     "name": "stdout",
     "output_type": "stream",
     "text": [
      "gens avg: 0.9166666666666666 fakes_avg: 0.8076923076923077 cumulative_avg: 0.8621794871794872\n"
     ]
    },
    {
     "name": "stderr",
     "output_type": "stream",
     "text": [
      "\n",
      "\n",
      "\n",
      "\n",
      " 52%|##########################################6                                       | 26/50 [00:14<00:13,  1.74it/s]"
     ]
    },
    {
     "name": "stdout",
     "output_type": "stream",
     "text": [
      "gens avg: 0.9197530864197531 fakes_avg: 0.8148148148148148 cumulative_avg: 0.8672839506172839\n"
     ]
    },
    {
     "name": "stderr",
     "output_type": "stream",
     "text": [
      "\n",
      "\n",
      "\n",
      "\n",
      " 54%|############################################2                                     | 27/50 [00:15<00:14,  1.56it/s]"
     ]
    },
    {
     "name": "stdout",
     "output_type": "stream",
     "text": [
      "gens avg: 0.9226190476190476 fakes_avg: 0.7928571428571428 cumulative_avg: 0.8577380952380952\n"
     ]
    },
    {
     "name": "stderr",
     "output_type": "stream",
     "text": [
      "\n",
      "\n",
      "\n",
      "\n",
      " 56%|#############################################9                                    | 28/50 [00:15<00:13,  1.69it/s]"
     ]
    },
    {
     "name": "stdout",
     "output_type": "stream",
     "text": [
      "gens avg: 0.925287356321839 fakes_avg: 0.7701149425287356 cumulative_avg: 0.8477011494252873\n"
     ]
    },
    {
     "name": "stderr",
     "output_type": "stream",
     "text": [
      "\n",
      "\n",
      "\n",
      "\n",
      " 58%|###############################################5                                  | 29/50 [00:16<00:11,  1.82it/s]"
     ]
    },
    {
     "name": "stdout",
     "output_type": "stream",
     "text": [
      "gens avg: 0.925 fakes_avg: 0.7777777777777778 cumulative_avg: 0.851388888888889\n"
     ]
    },
    {
     "name": "stderr",
     "output_type": "stream",
     "text": [
      "\n",
      "\n",
      "\n",
      "\n",
      " 60%|#################################################1                                | 30/50 [00:16<00:11,  1.74it/s]"
     ]
    },
    {
     "name": "stdout",
     "output_type": "stream",
     "text": [
      "gens avg: 0.9274193548387096 fakes_avg: 0.7827956989247311 cumulative_avg: 0.8551075268817203\n"
     ]
    },
    {
     "name": "stderr",
     "output_type": "stream",
     "text": [
      "\n",
      "\n",
      "\n",
      "\n",
      " 62%|##################################################8                               | 31/50 [00:17<00:10,  1.79it/s]"
     ]
    },
    {
     "name": "stdout",
     "output_type": "stream",
     "text": [
      "gens avg: 0.9296875 fakes_avg: 0.7895833333333333 cumulative_avg: 0.8596354166666667\n"
     ]
    },
    {
     "name": "stderr",
     "output_type": "stream",
     "text": [
      "\n",
      "\n",
      "\n",
      "\n",
      " 64%|####################################################4                             | 32/50 [00:18<00:10,  1.78it/s]"
     ]
    },
    {
     "name": "stdout",
     "output_type": "stream",
     "text": [
      "gens avg: 0.9292929292929293 fakes_avg: 0.7777777777777777 cumulative_avg: 0.8535353535353535\n"
     ]
    },
    {
     "name": "stderr",
     "output_type": "stream",
     "text": [
      "\n",
      "\n",
      "\n",
      "\n",
      " 66%|######################################################1                           | 33/50 [00:18<00:08,  1.92it/s]"
     ]
    },
    {
     "name": "stdout",
     "output_type": "stream",
     "text": [
      "gens avg: 0.9313725490196079 fakes_avg: 0.784313725490196 cumulative_avg: 0.8578431372549019\n"
     ]
    },
    {
     "name": "stderr",
     "output_type": "stream",
     "text": [
      "\n",
      "\n",
      "\n",
      "\n",
      " 68%|#######################################################7                          | 34/50 [00:19<00:08,  1.79it/s]"
     ]
    },
    {
     "name": "stdout",
     "output_type": "stream",
     "text": [
      "gens avg: 0.9333333333333335 fakes_avg: 0.7876190476190476 cumulative_avg: 0.8604761904761905\n"
     ]
    },
    {
     "name": "stderr",
     "output_type": "stream",
     "text": [
      "\n",
      "\n",
      "\n",
      "\n",
      " 70%|#########################################################4                        | 35/50 [00:19<00:08,  1.85it/s]"
     ]
    },
    {
     "name": "stdout",
     "output_type": "stream",
     "text": [
      "gens avg: 0.9351851851851853 fakes_avg: 0.7888888888888888 cumulative_avg: 0.862037037037037\n"
     ]
    },
    {
     "name": "stderr",
     "output_type": "stream",
     "text": [
      "\n",
      "\n",
      "\n",
      "\n",
      " 72%|###########################################################                       | 36/50 [00:20<00:07,  1.82it/s]"
     ]
    },
    {
     "name": "stdout",
     "output_type": "stream",
     "text": [
      "gens avg: 0.936936936936937 fakes_avg: 0.7909909909909909 cumulative_avg: 0.863963963963964\n"
     ]
    },
    {
     "name": "stderr",
     "output_type": "stream",
     "text": [
      "\n",
      "\n",
      "\n",
      "\n",
      " 74%|############################################################6                     | 37/50 [00:20<00:07,  1.84it/s]"
     ]
    },
    {
     "name": "stdout",
     "output_type": "stream",
     "text": [
      "gens avg: 0.9385964912280703 fakes_avg: 0.7921052631578945 cumulative_avg: 0.8653508771929824\n"
     ]
    },
    {
     "name": "stderr",
     "output_type": "stream",
     "text": [
      "\n",
      "\n",
      "\n",
      "\n",
      " 76%|##############################################################3                   | 38/50 [00:21<00:06,  1.72it/s]"
     ]
    },
    {
     "name": "stdout",
     "output_type": "stream",
     "text": [
      "gens avg: 0.9401709401709403 fakes_avg: 0.7948717948717947 cumulative_avg: 0.8675213675213675\n"
     ]
    },
    {
     "name": "stderr",
     "output_type": "stream",
     "text": [
      "\n",
      "\n",
      "\n",
      "\n",
      " 78%|###############################################################9                  | 39/50 [00:21<00:05,  1.88it/s]"
     ]
    },
    {
     "name": "stdout",
     "output_type": "stream",
     "text": [
      "gens avg: 0.9416666666666668 fakes_avg: 0.7991666666666665 cumulative_avg: 0.8704166666666666\n"
     ]
    },
    {
     "name": "stderr",
     "output_type": "stream",
     "text": [
      "\n",
      "\n",
      "\n",
      "\n",
      " 80%|#################################################################6                | 40/50 [00:22<00:05,  1.69it/s]"
     ]
    },
    {
     "name": "stdout",
     "output_type": "stream",
     "text": [
      "gens avg: 0.9430894308943091 fakes_avg: 0.8040650406504062 cumulative_avg: 0.8735772357723577\n"
     ]
    },
    {
     "name": "stderr",
     "output_type": "stream",
     "text": [
      "\n",
      "\n",
      "\n",
      "\n",
      " 82%|###################################################################2              | 41/50 [00:23<00:05,  1.74it/s]"
     ]
    },
    {
     "name": "stdout",
     "output_type": "stream",
     "text": [
      "gens avg: 0.9384920634920636 fakes_avg: 0.8071428571428567 cumulative_avg: 0.8728174603174601\n"
     ]
    },
    {
     "name": "stderr",
     "output_type": "stream",
     "text": [
      "\n",
      "\n",
      "\n",
      "\n",
      " 84%|####################################################################8             | 42/50 [00:23<00:04,  1.73it/s]"
     ]
    },
    {
     "name": "stdout",
     "output_type": "stream",
     "text": [
      "gens avg: 0.9399224806201552 fakes_avg: 0.8023255813953485 cumulative_avg: 0.8711240310077518\n"
     ]
    },
    {
     "name": "stderr",
     "output_type": "stream",
     "text": [
      "\n",
      "\n",
      "\n",
      "\n",
      " 86%|######################################################################5           | 43/50 [00:24<00:04,  1.58it/s]"
     ]
    },
    {
     "name": "stdout",
     "output_type": "stream",
     "text": [
      "gens avg: 0.9375000000000001 fakes_avg: 0.8060606060606058 cumulative_avg: 0.871780303030303\n"
     ]
    },
    {
     "name": "stderr",
     "output_type": "stream",
     "text": [
      "\n",
      "\n",
      "\n",
      "\n",
      " 88%|########################################################################1         | 44/50 [00:25<00:03,  1.60it/s]"
     ]
    },
    {
     "name": "stdout",
     "output_type": "stream",
     "text": [
      "gens avg: 0.938888888888889 fakes_avg: 0.7933333333333331 cumulative_avg: 0.866111111111111\n"
     ]
    },
    {
     "name": "stderr",
     "output_type": "stream",
     "text": [
      "\n",
      "\n",
      "\n",
      "\n",
      " 90%|#########################################################################8        | 45/50 [00:25<00:02,  1.71it/s]"
     ]
    },
    {
     "name": "stdout",
     "output_type": "stream",
     "text": [
      "gens avg: 0.940217391304348 fakes_avg: 0.7978260869565215 cumulative_avg: 0.8690217391304347\n"
     ]
    },
    {
     "name": "stderr",
     "output_type": "stream",
     "text": [
      "\n",
      "\n",
      "\n",
      "\n",
      " 92%|###########################################################################4      | 46/50 [00:26<00:02,  1.74it/s]"
     ]
    },
    {
     "name": "stdout",
     "output_type": "stream",
     "text": [
      "gens avg: 0.9397163120567377 fakes_avg: 0.7943262411347515 cumulative_avg: 0.8670212765957446\n"
     ]
    },
    {
     "name": "stderr",
     "output_type": "stream",
     "text": [
      "\n",
      "\n",
      "\n",
      "\n",
      " 94%|#############################################################################     | 47/50 [00:26<00:01,  1.57it/s]"
     ]
    },
    {
     "name": "stdout",
     "output_type": "stream",
     "text": [
      "gens avg: 0.9392361111111112 fakes_avg: 0.7965277777777775 cumulative_avg: 0.8678819444444443\n"
     ]
    },
    {
     "name": "stderr",
     "output_type": "stream",
     "text": [
      "\n",
      "\n",
      "\n",
      "\n",
      " 96%|##############################################################################7   | 48/50 [00:27<00:01,  1.66it/s]"
     ]
    },
    {
     "name": "stdout",
     "output_type": "stream",
     "text": [
      "gens avg: 0.9404761904761906 fakes_avg: 0.8006802721088433 cumulative_avg: 0.870578231292517\n"
     ]
    },
    {
     "name": "stderr",
     "output_type": "stream",
     "text": [
      "\n",
      "\n",
      "\n",
      "\n",
      " 98%|################################################################################3 | 49/50 [00:27<00:00,  1.75it/s]"
     ]
    },
    {
     "name": "stdout",
     "output_type": "stream",
     "text": [
      "gens avg: 0.9416666666666668 fakes_avg: 0.8026666666666664 cumulative_avg: 0.8721666666666665\n"
     ]
    },
    {
     "name": "stderr",
     "output_type": "stream",
     "text": [
      "\n",
      "\n",
      "\n",
      "\n",
      "100%|##################################################################################| 50/50 [00:28<00:00,  1.74it/s]"
     ]
    },
    {
     "name": "stdout",
     "output_type": "stream",
     "text": [
      "0.8721666666666669\n",
      "gens avg: 0.9416666666666668 fakes_avg: 0.8026666666666664 cumulative_avg: 0.8721666666666665\n"
     ]
    }
   ],
   "source": [
    "scores_sum = 0\n",
    "run_count = 0\n",
    "gens_sum = 0\n",
    "gens_r_count = 0\n",
    "fakes_sum = 0\n",
    "fakes_r_count = 0\n",
    "for user_id in tqdm.tqdm(data_f['user_id'].unique(), ascii=True):\n",
    "    y_train = data_f_gen_12['user_id']==user_id\n",
    "    X_train = visual_f.loc[y_train.index]\n",
    "    class_weight = (data_f_gen_12.shape[0]-data_f_gen_12[y_train].shape[0])/data_f_gen_12[y_train].shape[0]\n",
    "    # clf = XGBClassifier(tree_method='gpu_hist',verbosity=2, scale_pos_weight=float(class_weight))\n",
    "    # clf = SVC(class_weight='balanced',gamma='scale', probability=True, kernel='rbf') # gens avg: 0.8593333333333333 fakes_avg: 0.9433333333333331 randoms_avg: 1.0 cumulative_avg: 0.9342222222222221\n",
    "    clf = MLPClassifier(hidden_layer_sizes=(50,20), random_state=1923) # gens avg: 0.9416666666666668 fakes_avg: 0.8026666666666664 cumulative_avg: 0.8721666666666665\n",
    "    clf.fit(X_train, y_train)\n",
    "    y_valid_fakes = data_f_fake.loc[data_f_fake['user_id']==user_id]\n",
    "    y_valid_f = len(y_valid_fakes.index)*[False]\n",
    "    X_valid_f = visual_f.loc[y_valid_fakes.index]\n",
    "    score = clf.score(X_valid_f,y_valid_f)\n",
    "    fakes_sum += score\n",
    "    fakes_r_count += 1 \n",
    "    # print(score)\n",
    "    scores_sum += score\n",
    "    run_count += 1\n",
    "    y_valid_gens = data_f_gen_valid_12.loc[data_f_gen_valid_12['user_id']==user_id]\n",
    "    y_valid_g = len(y_valid_gens.index)*[True]\n",
    "    X_valid_g = visual_f.loc[y_valid_gens.index]\n",
    "    score = clf.score(X_valid_g,y_valid_g)\n",
    "    gens_sum += score\n",
    "    gens_r_count += 1 \n",
    "    # print(score)\n",
    "    scores_sum += score\n",
    "    run_count += 1\n",
    "    '''\n",
    "    y_valid_rand_fakes = data_f_gen_valid_12.loc[choice(data_f_gen_valid_12.loc[data_f_gen_valid_12['user_id']!=user_id].index,10)]\n",
    "    y_valid_rf = len(y_valid_rand_fakes.index)*[False]\n",
    "    X_valid_rf = visual_f.loc[y_valid_rand_fakes.index]\n",
    "    score = clf.score(X_valid_rf,y_valid_rf)\n",
    "    randoms_sum += score\n",
    "    randoms_r_count += 1 \n",
    "    # print(score)\n",
    "    scores_sum += score\n",
    "    run_count += 1\n",
    "    '''\n",
    "    # print(scores_sum/run_count)\n",
    "    print (\"gens avg:\", float(gens_sum)/gens_r_count, \"fakes_avg:\", float(fakes_sum)/fakes_r_count, \n",
    "        \"cumulative_avg:\", (float(gens_sum)/gens_r_count)/2+ \n",
    "        (float(fakes_sum)/fakes_r_count)/2)\n",
    "print(scores_sum/run_count)\n",
    "print(\"gens avg:\", float(gens_sum)/gens_r_count, \"fakes_avg:\", float(fakes_sum)/fakes_r_count, \n",
    "    \"cumulative_avg:\", (float(gens_sum)/gens_r_count)/2+ \n",
    "    (float(fakes_sum)/fakes_r_count)/2)"
   ]
  },
  {
   "cell_type": "code",
   "execution_count": 13,
   "metadata": {},
   "outputs": [
    {
     "data": {
      "text/plain": [
       "array([[3.77410111e-03, 9.96225899e-01],\n",
       "       [2.62956356e-03, 9.97370436e-01],\n",
       "       [9.31564764e-02, 9.06843524e-01],\n",
       "       [9.85176601e-01, 1.48233991e-02],\n",
       "       [9.92196439e-01, 7.80356128e-03],\n",
       "       [9.81047384e-01, 1.89526163e-02],\n",
       "       [9.99893955e-01, 1.06045376e-04],\n",
       "       [9.91656827e-01, 8.34317263e-03],\n",
       "       [9.94328969e-01, 5.67103109e-03],\n",
       "       [9.99998098e-01, 1.90236809e-06],\n",
       "       [9.99988006e-01, 1.19939700e-05],\n",
       "       [9.99984664e-01, 1.53358585e-05],\n",
       "       [9.99999960e-01, 3.99752390e-08],\n",
       "       [9.99999775e-01, 2.24635721e-07],\n",
       "       [9.99999787e-01, 2.12685029e-07],\n",
       "       [9.99997704e-01, 2.29568339e-06],\n",
       "       [9.99998405e-01, 1.59492152e-06],\n",
       "       [9.99992893e-01, 7.10733169e-06],\n",
       "       [9.99992893e-01, 7.10733169e-06],\n",
       "       [3.74436983e-01, 6.25563017e-01],\n",
       "       [9.51167760e-01, 4.88322395e-02],\n",
       "       [9.99992893e-01, 7.10733169e-06],\n",
       "       [9.99097763e-01, 9.02237166e-04],\n",
       "       [9.98972042e-01, 1.02795832e-03],\n",
       "       [9.99969850e-01, 3.01498219e-05],\n",
       "       [9.98500076e-01, 1.49992401e-03],\n",
       "       [9.66320352e-01, 3.36796477e-02],\n",
       "       [9.99980838e-01, 1.91618424e-05],\n",
       "       [9.93399087e-01, 6.60091325e-03],\n",
       "       [9.99955085e-01, 4.49153170e-05]])"
      ]
     },
     "execution_count": 13,
     "metadata": {},
     "output_type": "execute_result"
    }
   ],
   "source": [
    "clf.predict_proba(X_valid_f)"
   ]
  },
  {
   "cell_type": "code",
   "execution_count": null,
   "metadata": {},
   "outputs": [],
   "source": [
    "X_valid_f.shape"
   ]
  },
  {
   "cell_type": "code",
   "execution_count": null,
   "metadata": {},
   "outputs": [],
   "source": []
  }
 ],
 "metadata": {
  "kernelspec": {
   "display_name": "Python 3",
   "language": "python",
   "name": "python3"
  },
  "language_info": {
   "codemirror_mode": {
    "name": "ipython",
    "version": 3
   },
   "file_extension": ".py",
   "mimetype": "text/x-python",
   "name": "python",
   "nbconvert_exporter": "python",
   "pygments_lexer": "ipython3",
   "version": "3.7.3"
  }
 },
 "nbformat": 4,
 "nbformat_minor": 2
}
