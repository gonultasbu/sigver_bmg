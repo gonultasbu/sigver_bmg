{
 "cells": [
  {
   "cell_type": "code",
   "execution_count": 1,
   "metadata": {
    "scrolled": true
   },
   "outputs": [],
   "source": [
    "import scipy.io as sio\n",
    "from scipy.misc import imread\n",
    "from preprocess.normalize import preprocess_signature\n",
    "import tf_signet\n",
    "from tf_cnn_model import TF_CNNModel\n",
    "import tensorflow as tf\n",
    "import numpy as np\n",
    "import pandas as pd\n",
    "import sys\n",
    "import os\n",
    "import scipy.io\n",
    "from find_largest_image import find_largest\n",
    "import tqdm \n",
    "from sklearn.model_selection import train_test_split\n",
    "from sklearn.svm import SVC\n",
    "from xgboost import XGBClassifier\n",
    "import random\n",
    "from numpy.random import choice"
   ]
  },
  {
   "cell_type": "code",
   "execution_count": 2,
   "metadata": {},
   "outputs": [],
   "source": [
    "data_folder = 'C:\\\\Users\\\\Mert\\\\Documents\\\\GitHub\\\\sigver_bmg\\\\data\\\\downloaded_pp_features\\\\cedar_signet'"
   ]
  },
  {
   "cell_type": "code",
   "execution_count": 3,
   "metadata": {},
   "outputs": [],
   "source": [
    "datalist = [x for x in os.listdir(data_folder) if not x.endswith('.csv')]"
   ]
  },
  {
   "cell_type": "code",
   "execution_count": 4,
   "metadata": {},
   "outputs": [
    {
     "name": "stderr",
     "output_type": "stream",
     "text": [
      "100%|##############################################################################| 110/110 [00:00<00:00, 1869.38it/s]\n"
     ]
    },
    {
     "name": "stdout",
     "output_type": "stream",
     "text": [
      "The .csv should contain 2640 rows!\n"
     ]
    }
   ],
   "source": [
    "rc=0 # row counter\n",
    "for data in tqdm.tqdm(datalist, ascii=True):\n",
    "    # print(fakeness)\n",
    "    user_id = int(data.split('.')[0].split('_')[-1])\n",
    "    matfile = sio.loadmat(os.path.join(data_folder, data))\n",
    "    for row in range(matfile['features'].shape[0]):\n",
    "        rc+=1\n",
    "print(\"The .csv should contain\", rc, 'rows!')"
   ]
  },
  {
   "cell_type": "code",
   "execution_count": 5,
   "metadata": {},
   "outputs": [],
   "source": [
    "data_f = pd.DataFrame(np.zeros((rc,3)),columns=['user_id','sig_id','fakeness'])\n",
    "visual_f = pd.DataFrame(np.zeros((rc,2048)))"
   ]
  },
  {
   "cell_type": "code",
   "execution_count": 6,
   "metadata": {},
   "outputs": [
    {
     "name": "stderr",
     "output_type": "stream",
     "text": [
      "100%|################################################################################| 110/110 [00:01<00:00, 69.54it/s]\n"
     ]
    }
   ],
   "source": [
    "rc=0 # row counter\n",
    "for data in tqdm.tqdm(datalist, ascii=True):\n",
    "    if not(data.endswith('.mat')): continue\n",
    "    if (data.split('.')[0].split('_')[0] == 'forg'): fakeness = 1\n",
    "    else: fakeness = 0\n",
    "    # print(fakeness)\n",
    "    user_id = int(data.split('.')[0].split('_')[-1])\n",
    "    matfile = sio.loadmat(os.path.join(data_folder, data))\n",
    "    for row in range(matfile['features'].shape[0]):\n",
    "        data_f.iloc[rc]['user_id'] = user_id\n",
    "        data_f.iloc[rc]['sig_id'] = int(row+1)\n",
    "        data_f.iloc[rc]['fakeness'] = fakeness\n",
    "        visual_f.iloc[rc] = np.expand_dims(matfile['features'][row], 1).T\n",
    "        rc+=1"
   ]
  },
  {
   "cell_type": "code",
   "execution_count": 7,
   "metadata": {},
   "outputs": [],
   "source": [
    "# data_f = data_f.reset_index().drop(columns=['index'])\n",
    "# visual_f = visual_f.reset_index().drop(columns=['index'])"
   ]
  },
  {
   "cell_type": "code",
   "execution_count": 8,
   "metadata": {},
   "outputs": [
    {
     "data": {
      "text/plain": [
       "(2640, 2048)"
      ]
     },
     "execution_count": 8,
     "metadata": {},
     "output_type": "execute_result"
    }
   ],
   "source": [
    "visual_f.shape"
   ]
  },
  {
   "cell_type": "code",
   "execution_count": 9,
   "metadata": {},
   "outputs": [
    {
     "data": {
      "text/plain": [
       "(2640, 3)"
      ]
     },
     "execution_count": 9,
     "metadata": {},
     "output_type": "execute_result"
    }
   ],
   "source": [
    "data_f.shape"
   ]
  },
  {
   "cell_type": "code",
   "execution_count": 10,
   "metadata": {},
   "outputs": [],
   "source": [
    "data_f.to_csv(os.path.join(data_folder,'data_features.csv'), index=False)\n",
    "visual_f.to_csv(os.path.join(data_folder,'visual_features.csv'), index=False)"
   ]
  },
  {
   "cell_type": "code",
   "execution_count": null,
   "metadata": {},
   "outputs": [],
   "source": []
  }
 ],
 "metadata": {
  "kernelspec": {
   "display_name": "Python 3",
   "language": "python",
   "name": "python3"
  },
  "language_info": {
   "codemirror_mode": {
    "name": "ipython",
    "version": 3
   },
   "file_extension": ".py",
   "mimetype": "text/x-python",
   "name": "python",
   "nbconvert_exporter": "python",
   "pygments_lexer": "ipython3",
   "version": "3.7.3"
  }
 },
 "nbformat": 4,
 "nbformat_minor": 2
}
