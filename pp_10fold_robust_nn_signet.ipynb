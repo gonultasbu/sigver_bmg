{
 "cells": [
  {
   "cell_type": "code",
   "execution_count": 1,
   "metadata": {
    "scrolled": true
   },
   "outputs": [],
   "source": [
    "import scipy.io as sio\n",
    "from scipy.misc import imread\n",
    "from preprocess.normalize import preprocess_signature\n",
    "import tf_signet\n",
    "from tf_cnn_model import TF_CNNModel\n",
    "import tensorflow as tf\n",
    "import numpy as np\n",
    "import pandas as pd\n",
    "import sys\n",
    "import os\n",
    "import scipy.io\n",
    "from find_largest_image import find_largest\n",
    "import tqdm \n",
    "from sklearn.model_selection import train_test_split\n",
    "from sklearn.svm import SVC\n",
    "from xgboost import XGBClassifier\n",
    "import random\n",
    "from numpy.random import choice\n",
    "from sklearn.neural_network import MLPClassifier\n",
    "from sklearn.metrics import accuracy_score"
   ]
  },
  {
   "cell_type": "code",
   "execution_count": 2,
   "metadata": {},
   "outputs": [],
   "source": [
    "data_folder = 'C:\\\\Users\\\\Mert\\\\Documents\\\\GitHub\\\\sigver_bmg\\\\data\\\\downloaded_pp_features\\\\gpds_signet_all'"
   ]
  },
  {
   "cell_type": "code",
   "execution_count": 3,
   "metadata": {},
   "outputs": [],
   "source": [
    "data_f = pd.read_csv(os.path.join(data_folder,'data_features.csv'))\n",
    "visual_f = pd.read_csv(os.path.join(data_folder,'visual_features.csv'))"
   ]
  },
  {
   "cell_type": "code",
   "execution_count": 5,
   "metadata": {},
   "outputs": [
    {
     "name": "stderr",
     "output_type": "stream",
     "text": [
      "\n",
      "  0%|                                                                                           | 0/50 [00:00<?, ?it/s]"
     ]
    },
    {
     "name": "stdout",
     "output_type": "stream",
     "text": [
      "gens_avg_error: 0.0 fakes_avg_error: 0.0 cumulative_avg_error: 0.0\n"
     ]
    },
    {
     "name": "stderr",
     "output_type": "stream",
     "text": [
      "\n",
      "  2%|#6                                                                                 | 1/50 [00:13<10:56, 13.39s/it]"
     ]
    },
    {
     "name": "stdout",
     "output_type": "stream",
     "text": [
      "gens_avg_error: 12.5 fakes_avg_error: 6.666666666666665 cumulative_avg_error: 9.583333333333332\n"
     ]
    },
    {
     "name": "stderr",
     "output_type": "stream",
     "text": [
      "\n",
      "  4%|###3                                                                               | 2/50 [00:26<10:36, 13.26s/it]"
     ]
    },
    {
     "name": "stdout",
     "output_type": "stream",
     "text": [
      "gens_avg_error: 8.333333333333337 fakes_avg_error: 25.555555555555554 cumulative_avg_error: 16.94444444444445\n"
     ]
    },
    {
     "name": "stderr",
     "output_type": "stream",
     "text": [
      "\n",
      "  6%|####9                                                                              | 3/50 [00:39<10:20, 13.20s/it]"
     ]
    },
    {
     "name": "stdout",
     "output_type": "stream",
     "text": [
      "gens_avg_error: 6.25 fakes_avg_error: 24.16666666666667 cumulative_avg_error: 15.208333333333336\n"
     ]
    },
    {
     "name": "stderr",
     "output_type": "stream",
     "text": [
      "\n",
      "  8%|######6                                                                            | 4/50 [00:52<10:00, 13.05s/it]"
     ]
    },
    {
     "name": "stdout",
     "output_type": "stream",
     "text": [
      "gens_avg_error: 5.000000000000004 fakes_avg_error: 19.999999999999996 cumulative_avg_error: 12.5\n"
     ]
    },
    {
     "name": "stderr",
     "output_type": "stream",
     "text": [
      "\n",
      " 10%|########3                                                                          | 5/50 [01:05<09:49, 13.09s/it]"
     ]
    },
    {
     "name": "stdout",
     "output_type": "stream",
     "text": [
      "gens_avg_error: 4.1666666666666625 fakes_avg_error: 17.261904761904756 cumulative_avg_error: 10.71428571428571\n"
     ]
    },
    {
     "name": "stderr",
     "output_type": "stream",
     "text": [
      "\n",
      " 12%|#########9                                                                         | 6/50 [01:18<09:35, 13.07s/it]"
     ]
    },
    {
     "name": "stdout",
     "output_type": "stream",
     "text": [
      "gens_avg_error: 3.57142857142857 fakes_avg_error: 18.12925170068027 cumulative_avg_error: 10.850340136054415\n"
     ]
    },
    {
     "name": "stderr",
     "output_type": "stream",
     "text": [
      "\n",
      " 14%|###########6                                                                       | 7/50 [01:31<09:29, 13.23s/it]"
     ]
    },
    {
     "name": "stdout",
     "output_type": "stream",
     "text": [
      "gens_avg_error: 3.125 fakes_avg_error: 16.725164203612476 cumulative_avg_error: 9.925082101806238\n"
     ]
    },
    {
     "name": "stderr",
     "output_type": "stream",
     "text": [
      "\n",
      " 16%|#############2                                                                     | 8/50 [01:45<09:22, 13.40s/it]"
     ]
    },
    {
     "name": "stdout",
     "output_type": "stream",
     "text": [
      "gens_avg_error: 2.777777777777779 fakes_avg_error: 16.348294106914786 cumulative_avg_error: 9.563035942346287\n"
     ]
    },
    {
     "name": "stderr",
     "output_type": "stream",
     "text": [
      "\n",
      " 18%|##############9                                                                    | 9/50 [01:59<09:08, 13.38s/it]"
     ]
    },
    {
     "name": "stdout",
     "output_type": "stream",
     "text": [
      "gens_avg_error: 2.500000000000002 fakes_avg_error: 21.713464696223305 cumulative_avg_error: 12.10673234811166\n"
     ]
    },
    {
     "name": "stderr",
     "output_type": "stream",
     "text": [
      "\n",
      " 20%|################4                                                                 | 10/50 [02:12<08:54, 13.37s/it]"
     ]
    },
    {
     "name": "stdout",
     "output_type": "stream",
     "text": [
      "gens_avg_error: 2.2727272727272707 fakes_avg_error: 19.73951336020302 cumulative_avg_error: 11.00612031646515\n"
     ]
    },
    {
     "name": "stderr",
     "output_type": "stream",
     "text": [
      "\n",
      " 22%|##################                                                                | 11/50 [02:26<08:48, 13.54s/it]"
     ]
    },
    {
     "name": "stdout",
     "output_type": "stream",
     "text": [
      "gens_avg_error: 2.083333333333337 fakes_avg_error: 19.205665024630537 cumulative_avg_error: 10.644499178981937\n"
     ]
    },
    {
     "name": "stderr",
     "output_type": "stream",
     "text": [
      "\n",
      " 24%|###################6                                                              | 12/50 [02:39<08:33, 13.53s/it]"
     ]
    },
    {
     "name": "stdout",
     "output_type": "stream",
     "text": [
      "gens_avg_error: 1.9230769230769273 fakes_avg_error: 21.061639509915373 cumulative_avg_error: 11.492358216496147\n"
     ]
    },
    {
     "name": "stderr",
     "output_type": "stream",
     "text": [
      "\n",
      " 26%|#####################3                                                            | 13/50 [02:53<08:19, 13.49s/it]"
     ]
    },
    {
     "name": "stdout",
     "output_type": "stream",
     "text": [
      "gens_avg_error: 1.7857142857142905 fakes_avg_error: 22.176284306826176 cumulative_avg_error: 11.980999296270234\n"
     ]
    },
    {
     "name": "stderr",
     "output_type": "stream",
     "text": [
      "\n",
      " 28%|######################9                                                           | 14/50 [03:06<07:58, 13.28s/it]"
     ]
    },
    {
     "name": "stdout",
     "output_type": "stream",
     "text": [
      "gens_avg_error: 1.6666666666666718 fakes_avg_error: 23.36453201970444 cumulative_avg_error: 12.515599343185556\n"
     ]
    },
    {
     "name": "stderr",
     "output_type": "stream",
     "text": [
      "\n",
      " 30%|########################5                                                         | 15/50 [03:20<07:58, 13.67s/it]"
     ]
    },
    {
     "name": "stdout",
     "output_type": "stream",
     "text": [
      "gens_avg_error: 1.5625 fakes_avg_error: 21.90424876847291 cumulative_avg_error: 11.73337438423645\n"
     ]
    },
    {
     "name": "stderr",
     "output_type": "stream",
     "text": [
      "\n",
      " 32%|##########################2                                                       | 16/50 [03:33<07:37, 13.45s/it]"
     ]
    },
    {
     "name": "stdout",
     "output_type": "stream",
     "text": [
      "gens_avg_error: 1.4705882352941124 fakes_avg_error: 22.184390997778436 cumulative_avg_error: 11.82748961653628\n"
     ]
    },
    {
     "name": "stderr",
     "output_type": "stream",
     "text": [
      "\n",
      " 34%|###########################8                                                      | 17/50 [03:46<07:19, 13.33s/it]"
     ]
    },
    {
     "name": "stdout",
     "output_type": "stream",
     "text": [
      "gens_avg_error: 1.851851851851849 fakes_avg_error: 21.13711001642037 cumulative_avg_error: 11.494480934136108\n"
     ]
    },
    {
     "name": "stderr",
     "output_type": "stream",
     "text": [
      "\n",
      " 36%|#############################5                                                    | 18/50 [03:59<07:01, 13.19s/it]"
     ]
    },
    {
     "name": "stdout",
     "output_type": "stream",
     "text": [
      "gens_avg_error: 2.1929824561403355 fakes_avg_error: 20.72638492783684 cumulative_avg_error: 11.459683691988587\n"
     ]
    },
    {
     "name": "stderr",
     "output_type": "stream",
     "text": [
      "\n",
      " 38%|###############################1                                                  | 19/50 [04:13<06:53, 13.35s/it]"
     ]
    },
    {
     "name": "stdout",
     "output_type": "stream",
     "text": [
      "gens_avg_error: 2.083333333333326 fakes_avg_error: 20.356732348111663 cumulative_avg_error: 11.220032840722494\n"
     ]
    },
    {
     "name": "stderr",
     "output_type": "stream",
     "text": [
      "\n",
      " 40%|################################8                                                 | 20/50 [04:25<06:34, 13.14s/it]"
     ]
    },
    {
     "name": "stdout",
     "output_type": "stream",
     "text": [
      "gens_avg_error: 1.984126984126977 fakes_avg_error: 19.38736414105874 cumulative_avg_error: 10.685745562592853\n"
     ]
    },
    {
     "name": "stderr",
     "output_type": "stream",
     "text": [
      "\n",
      " 42%|##################################4                                               | 21/50 [04:38<06:17, 13.03s/it]"
     ]
    },
    {
     "name": "stdout",
     "output_type": "stream",
     "text": [
      "gens_avg_error: 1.8939393939393812 fakes_avg_error: 18.80915061949545 cumulative_avg_error: 10.351545006717423\n"
     ]
    },
    {
     "name": "stderr",
     "output_type": "stream",
     "text": [
      "\n",
      " 44%|####################################                                              | 22/50 [04:51<06:07, 13.11s/it]"
     ]
    },
    {
     "name": "stdout",
     "output_type": "stream",
     "text": [
      "gens_avg_error: 2.1739130434782483 fakes_avg_error: 18.281216534589863 cumulative_avg_error: 10.22756478903406\n"
     ]
    },
    {
     "name": "stderr",
     "output_type": "stream",
     "text": [
      "\n",
      " 46%|#####################################7                                            | 23/50 [05:04<05:49, 12.95s/it]"
     ]
    },
    {
     "name": "stdout",
     "output_type": "stream",
     "text": [
      "gens_avg_error: 2.083333333333315 fakes_avg_error: 18.491721401204174 cumulative_avg_error: 10.287527367268744\n"
     ]
    },
    {
     "name": "stderr",
     "output_type": "stream",
     "text": [
      "\n",
      " 48%|#######################################3                                          | 24/50 [05:16<05:29, 12.68s/it]"
     ]
    },
    {
     "name": "stdout",
     "output_type": "stream",
     "text": [
      "gens_avg_error: 1.9999999999999907 fakes_avg_error: 17.752052545156005 cumulative_avg_error: 9.876026272577999\n"
     ]
    },
    {
     "name": "stderr",
     "output_type": "stream",
     "text": [
      "\n",
      " 50%|#########################################                                         | 25/50 [05:28<05:14, 12.58s/it]"
     ]
    },
    {
     "name": "stdout",
     "output_type": "stream",
     "text": [
      "gens_avg_error: 2.564102564102555 fakes_avg_error: 18.223127447265398 cumulative_avg_error: 10.393615005683976\n"
     ]
    },
    {
     "name": "stderr",
     "output_type": "stream",
     "text": [
      "\n",
      " 52%|##########################################6                                       | 26/50 [05:41<05:04, 12.69s/it]"
     ]
    },
    {
     "name": "stdout",
     "output_type": "stream",
     "text": [
      "gens_avg_error: 2.4691358024691246 fakes_avg_error: 18.41239433193458 cumulative_avg_error: 10.440765067201852\n"
     ]
    },
    {
     "name": "stderr",
     "output_type": "stream",
     "text": [
      "\n",
      " 54%|############################################2                                     | 27/50 [05:54<04:49, 12.57s/it]"
     ]
    },
    {
     "name": "stdout",
     "output_type": "stream",
     "text": [
      "gens_avg_error: 2.678571428571419 fakes_avg_error: 17.75480882007977 cumulative_avg_error: 10.2166901243256\n"
     ]
    },
    {
     "name": "stderr",
     "output_type": "stream",
     "text": [
      "\n",
      " 56%|#############################################9                                    | 28/50 [06:08<04:45, 12.99s/it]"
     ]
    },
    {
     "name": "stdout",
     "output_type": "stream",
     "text": [
      "gens_avg_error: 2.5862068965517127 fakes_avg_error: 17.14257403318047 cumulative_avg_error: 9.86439046486609\n"
     ]
    },
    {
     "name": "stderr",
     "output_type": "stream",
     "text": [
      "\n",
      " 58%|###############################################5                                  | 29/50 [06:20<04:30, 12.87s/it]"
     ]
    },
    {
     "name": "stdout",
     "output_type": "stream",
     "text": [
      "gens_avg_error: 2.499999999999991 fakes_avg_error: 18.015599343185563 cumulative_avg_error: 10.257799671592771\n"
     ]
    },
    {
     "name": "stderr",
     "output_type": "stream",
     "text": [
      "\n",
      " 60%|#################################################1                                | 30/50 [06:32<04:13, 12.68s/it]"
     ]
    },
    {
     "name": "stdout",
     "output_type": "stream",
     "text": [
      "gens_avg_error: 2.9569892473118253 fakes_avg_error: 17.43445097727635 cumulative_avg_error: 10.195720112294083\n"
     ]
    },
    {
     "name": "stderr",
     "output_type": "stream",
     "text": [
      "\n",
      " 62%|##################################################8                               | 31/50 [06:45<03:58, 12.56s/it]"
     ]
    },
    {
     "name": "stdout",
     "output_type": "stream",
     "text": [
      "gens_avg_error: 3.124999999999989 fakes_avg_error: 16.88962438423647 cumulative_avg_error: 10.007312192118235\n"
     ]
    },
    {
     "name": "stderr",
     "output_type": "stream",
     "text": [
      "\n",
      " 64%|####################################################4                             | 32/50 [06:59<03:58, 13.23s/it]"
     ]
    },
    {
     "name": "stdout",
     "output_type": "stream",
     "text": [
      "gens_avg_error: 4.040404040404022 fakes_avg_error: 16.37781758471415 cumulative_avg_error: 10.209110812559086\n"
     ]
    },
    {
     "name": "stderr",
     "output_type": "stream",
     "text": [
      "\n",
      " 66%|######################################################1                           | 33/50 [07:12<03:41, 13.05s/it]"
     ]
    },
    {
     "name": "stdout",
     "output_type": "stream",
     "text": [
      "gens_avg_error: 4.1666666666666625 fakes_avg_error: 15.994156283202955 cumulative_avg_error: 10.080411474934813\n"
     ]
    },
    {
     "name": "stderr",
     "output_type": "stream",
     "text": [
      "\n",
      " 68%|#######################################################7                          | 34/50 [07:25<03:25, 12.85s/it]"
     ]
    },
    {
     "name": "stdout",
     "output_type": "stream",
     "text": [
      "gens_avg_error: 4.047619047619044 fakes_avg_error: 15.537180389397154 cumulative_avg_error: 9.792399718508094\n"
     ]
    },
    {
     "name": "stderr",
     "output_type": "stream",
     "text": [
      "\n",
      " 70%|#########################################################4                        | 35/50 [07:37<03:12, 12.82s/it]"
     ]
    },
    {
     "name": "stdout",
     "output_type": "stream",
     "text": [
      "gens_avg_error: 4.629629629629628 fakes_avg_error: 15.800036489691681 cumulative_avg_error: 10.214833059660656\n"
     ]
    },
    {
     "name": "stderr",
     "output_type": "stream",
     "text": [
      "\n",
      " 72%|###########################################################                       | 36/50 [07:50<02:58, 12.76s/it]"
     ]
    },
    {
     "name": "stdout",
     "output_type": "stream",
     "text": [
      "gens_avg_error: 5.630630630630618 fakes_avg_error: 15.373008476456773 cumulative_avg_error: 10.501819553543701\n"
     ]
    },
    {
     "name": "stderr",
     "output_type": "stream",
     "text": [
      "\n",
      " 74%|############################################################6                     | 37/50 [08:08<03:07, 14.39s/it]"
     ]
    },
    {
     "name": "stdout",
     "output_type": "stream",
     "text": [
      "gens_avg_error: 5.482456140350866 fakes_avg_error: 16.72284158672546 cumulative_avg_error: 11.102648863538157\n"
     ]
    },
    {
     "name": "stderr",
     "output_type": "stream",
     "text": [
      "\n",
      " 76%|##############################################################3                   | 38/50 [08:21<02:47, 13.96s/it]"
     ]
    },
    {
     "name": "stdout",
     "output_type": "stream",
     "text": [
      "gens_avg_error: 5.341880341880334 fakes_avg_error: 16.379520862279495 cumulative_avg_error: 10.860700602079909\n"
     ]
    },
    {
     "name": "stderr",
     "output_type": "stream",
     "text": [
      "\n",
      " 78%|###############################################################9                  | 39/50 [08:35<02:33, 13.96s/it]"
     ]
    },
    {
     "name": "stdout",
     "output_type": "stream",
     "text": [
      "gens_avg_error: 5.208333333333326 fakes_avg_error: 16.7200328407225 cumulative_avg_error: 10.964183087027912\n"
     ]
    },
    {
     "name": "stderr",
     "output_type": "stream",
     "text": [
      "\n",
      " 80%|#################################################################6                | 40/50 [08:48<02:16, 13.69s/it]"
     ]
    },
    {
     "name": "stdout",
     "output_type": "stream",
     "text": [
      "gens_avg_error: 5.0813008130081165 fakes_avg_error: 16.312227161680493 cumulative_avg_error: 10.696763987344305\n"
     ]
    },
    {
     "name": "stderr",
     "output_type": "stream",
     "text": [
      "\n",
      " 82%|###################################################################2              | 41/50 [09:01<02:02, 13.56s/it]"
     ]
    },
    {
     "name": "stdout",
     "output_type": "stream",
     "text": [
      "gens_avg_error: 4.960317460317453 fakes_avg_error: 15.923840800688094 cumulative_avg_error: 10.44207913050277\n"
     ]
    },
    {
     "name": "stderr",
     "output_type": "stream",
     "text": [
      "\n",
      " 84%|####################################################################8             | 42/50 [09:15<01:49, 13.64s/it]"
     ]
    },
    {
     "name": "stdout",
     "output_type": "stream",
     "text": [
      "gens_avg_error: 4.844961240310064 fakes_avg_error: 15.553518921602327 cumulative_avg_error: 10.199240080956196\n"
     ]
    },
    {
     "name": "stderr",
     "output_type": "stream",
     "text": [
      "\n",
      " 86%|######################################################################5           | 43/50 [09:29<01:35, 13.69s/it]"
     ]
    },
    {
     "name": "stdout",
     "output_type": "stream",
     "text": [
      "gens_avg_error: 5.113636363636342 fakes_avg_error: 15.20002985520228 cumulative_avg_error: 10.156833109419306\n"
     ]
    },
    {
     "name": "stderr",
     "output_type": "stream",
     "text": [
      "\n",
      " 88%|########################################################################1         | 44/50 [09:42<01:21, 13.56s/it]"
     ]
    },
    {
     "name": "stdout",
     "output_type": "stream",
     "text": [
      "gens_avg_error: 5.185185185185171 fakes_avg_error: 14.862251413975558 cumulative_avg_error: 10.023718299580365\n"
     ]
    },
    {
     "name": "stderr",
     "output_type": "stream",
     "text": [
      "\n",
      " 90%|#########################################################################8        | 45/50 [09:55<01:07, 13.44s/it]"
     ]
    },
    {
     "name": "stdout",
     "output_type": "stream",
     "text": [
      "gens_avg_error: 5.072463768115931 fakes_avg_error: 14.53915899193261 cumulative_avg_error: 9.805811380024277\n"
     ]
    },
    {
     "name": "stderr",
     "output_type": "stream",
     "text": [
      "\n",
      " 92%|###########################################################################4      | 46/50 [10:08<00:53, 13.28s/it]"
     ]
    },
    {
     "name": "stdout",
     "output_type": "stream",
     "text": [
      "gens_avg_error: 5.496453900709208 fakes_avg_error: 14.371659155224837 cumulative_avg_error: 9.934056527967016\n"
     ]
    },
    {
     "name": "stderr",
     "output_type": "stream",
     "text": [
      "\n",
      " 94%|#############################################################################     | 47/50 [10:22<00:40, 13.46s/it]"
     ]
    },
    {
     "name": "stdout",
     "output_type": "stream",
     "text": [
      "gens_avg_error: 5.38194444444443 fakes_avg_error: 14.55836070060209 cumulative_avg_error: 9.970152572523261\n"
     ]
    },
    {
     "name": "stderr",
     "output_type": "stream",
     "text": [
      "\n",
      " 96%|##############################################################################7   | 48/50 [10:35<00:26, 13.32s/it]"
     ]
    },
    {
     "name": "stdout",
     "output_type": "stream",
     "text": [
      "gens_avg_error: 5.612244897959173 fakes_avg_error: 14.261251298548993 cumulative_avg_error: 9.936748098254089\n"
     ]
    },
    {
     "name": "stderr",
     "output_type": "stream",
     "text": [
      "\n",
      " 98%|################################################################################3 | 49/50 [10:49<00:13, 13.48s/it]"
     ]
    },
    {
     "name": "stdout",
     "output_type": "stream",
     "text": [
      "gens_avg_error: 5.666666666666654 fakes_avg_error: 14.042692939244672 cumulative_avg_error: 9.854679802955669\n"
     ]
    },
    {
     "name": "stderr",
     "output_type": "stream",
     "text": [
      "\n",
      "100%|##################################################################################| 50/50 [11:02<00:00, 13.26s/it]\n",
      "  0%|                                                                                           | 0/50 [00:00<?, ?it/s]"
     ]
    },
    {
     "name": "stdout",
     "output_type": "stream",
     "text": [
      "gens_avg_error: 5.718954248366003 fakes_avg_error: 13.96342445023988 cumulative_avg_error: 9.841189349302937\n"
     ]
    },
    {
     "name": "stderr",
     "output_type": "stream",
     "text": [
      "\n",
      "  2%|#6                                                                                 | 1/50 [00:13<11:06, 13.61s/it]"
     ]
    },
    {
     "name": "stdout",
     "output_type": "stream",
     "text": [
      "gens_avg_error: 5.608974358974351 fakes_avg_error: 13.694897056966038 cumulative_avg_error: 9.651935707970194\n"
     ]
    },
    {
     "name": "stderr",
     "output_type": "stream",
     "text": [
      "\n",
      "  4%|###3                                                                               | 2/50 [00:27<10:56, 13.68s/it]"
     ]
    },
    {
     "name": "stdout",
     "output_type": "stream",
     "text": [
      "gens_avg_error: 5.503144654088043 fakes_avg_error: 13.571273662360205 cumulative_avg_error: 9.537209158224124\n"
     ]
    },
    {
     "name": "stderr",
     "output_type": "stream",
     "text": [
      "\n",
      "  6%|####9                                                                              | 3/50 [00:41<10:43, 13.69s/it]"
     ]
    },
    {
     "name": "stdout",
     "output_type": "stream",
     "text": [
      "gens_avg_error: 5.401234567901225 fakes_avg_error: 13.394027853797974 cumulative_avg_error: 9.3976312108496\n"
     ]
    },
    {
     "name": "stderr",
     "output_type": "stream",
     "text": [
      "\n",
      "  8%|######6                                                                            | 4/50 [00:54<10:21, 13.51s/it]"
     ]
    },
    {
     "name": "stdout",
     "output_type": "stream",
     "text": [
      "gens_avg_error: 5.454545454545457 fakes_avg_error: 13.3323182564562 cumulative_avg_error: 9.393431855500832\n"
     ]
    },
    {
     "name": "stderr",
     "output_type": "stream",
     "text": [
      "\n",
      " 10%|########3                                                                          | 5/50 [01:07<10:03, 13.42s/it]"
     ]
    },
    {
     "name": "stdout",
     "output_type": "stream",
     "text": [
      "gens_avg_error: 5.654761904761896 fakes_avg_error: 13.451384001876631 cumulative_avg_error: 9.553072953319264\n"
     ]
    },
    {
     "name": "stderr",
     "output_type": "stream",
     "text": [
      "\n",
      " 12%|#########9                                                                         | 6/50 [01:21<09:54, 13.51s/it]"
     ]
    },
    {
     "name": "stdout",
     "output_type": "stream",
     "text": [
      "gens_avg_error: 5.5555555555555465 fakes_avg_error: 13.566272001843704 cumulative_avg_error: 9.560913778699632\n"
     ]
    },
    {
     "name": "stderr",
     "output_type": "stream",
     "text": [
      "\n",
      " 14%|###########6                                                                       | 7/50 [01:34<09:34, 13.36s/it]"
     ]
    },
    {
     "name": "stdout",
     "output_type": "stream",
     "text": [
      "gens_avg_error: 5.459770114942519 fakes_avg_error: 13.504784553536064 cumulative_avg_error: 9.482277334239297\n"
     ]
    },
    {
     "name": "stderr",
     "output_type": "stream",
     "text": [
      "\n",
      " 16%|#############2                                                                     | 8/50 [01:47<09:14, 13.21s/it]"
     ]
    },
    {
     "name": "stdout",
     "output_type": "stream",
     "text": [
      "gens_avg_error: 5.649717514124286 fakes_avg_error: 13.445381425510028 cumulative_avg_error: 9.547549469817152\n"
     ]
    },
    {
     "name": "stderr",
     "output_type": "stream",
     "text": [
      "\n",
      " 18%|##############9                                                                    | 9/50 [01:59<08:57, 13.11s/it]"
     ]
    },
    {
     "name": "stdout",
     "output_type": "stream",
     "text": [
      "gens_avg_error: 5.5555555555555465 fakes_avg_error: 13.221291735084861 cumulative_avg_error: 9.388423645320199\n"
     ]
    },
    {
     "name": "stderr",
     "output_type": "stream",
     "text": [
      "\n",
      " 20%|################4                                                                 | 10/50 [02:12<08:39, 12.98s/it]"
     ]
    },
    {
     "name": "stdout",
     "output_type": "stream",
     "text": [
      "gens_avg_error: 5.874316939890701 fakes_avg_error: 13.332418100083476 cumulative_avg_error: 9.603367519987094\n"
     ]
    },
    {
     "name": "stderr",
     "output_type": "stream",
     "text": [
      "\n",
      " 22%|##################                                                                | 11/50 [02:28<08:59, 13.84s/it]"
     ]
    },
    {
     "name": "stdout",
     "output_type": "stream",
     "text": [
      "gens_avg_error: 5.779569892473113 fakes_avg_error: 14.192647915673518 cumulative_avg_error: 9.98610890407332\n"
     ]
    },
    {
     "name": "stderr",
     "output_type": "stream",
     "text": [
      "\n",
      " 24%|###################6                                                              | 12/50 [02:42<08:45, 13.82s/it]"
     ]
    },
    {
     "name": "stdout",
     "output_type": "stream",
     "text": [
      "gens_avg_error: 5.687830687830675 fakes_avg_error: 13.967367790027907 cumulative_avg_error: 9.827599238929285\n"
     ]
    },
    {
     "name": "stderr",
     "output_type": "stream",
     "text": [
      "\n",
      " 26%|#####################3                                                            | 13/50 [02:55<08:23, 13.60s/it]"
     ]
    },
    {
     "name": "stdout",
     "output_type": "stream",
     "text": [
      "gens_avg_error: 5.7291666666666625 fakes_avg_error: 13.749127668308725 cumulative_avg_error: 9.739147167487694\n"
     ]
    },
    {
     "name": "stderr",
     "output_type": "stream",
     "text": [
      "\n",
      " 28%|######################9                                                           | 14/50 [03:08<08:01, 13.36s/it]"
     ]
    },
    {
     "name": "stdout",
     "output_type": "stream",
     "text": [
      "gens_avg_error: 5.641025641025632 fakes_avg_error: 13.537602627257817 cumulative_avg_error: 9.589314134141723\n"
     ]
    },
    {
     "name": "stderr",
     "output_type": "stream",
     "text": [
      "\n",
      " 30%|########################5                                                         | 15/50 [03:22<07:53, 13.52s/it]"
     ]
    },
    {
     "name": "stdout",
     "output_type": "stream",
     "text": [
      "gens_avg_error: 5.5555555555555465 fakes_avg_error: 13.38299248644078 cumulative_avg_error: 9.469274020998164\n"
     ]
    },
    {
     "name": "stderr",
     "output_type": "stream",
     "text": [
      "\n",
      " 32%|##########################2                                                       | 16/50 [03:35<07:34, 13.38s/it]"
     ]
    },
    {
     "name": "stdout",
     "output_type": "stream",
     "text": [
      "gens_avg_error: 5.8457711442786 fakes_avg_error: 13.282748817488931 cumulative_avg_error: 9.564259980883772\n"
     ]
    },
    {
     "name": "stderr",
     "output_type": "stream",
     "text": [
      "\n",
      " 34%|###########################8                                                      | 17/50 [03:47<07:15, 13.20s/it]"
     ]
    },
    {
     "name": "stdout",
     "output_type": "stream",
     "text": [
      "gens_avg_error: 5.7598039215686185 fakes_avg_error: 13.087414276055275 cumulative_avg_error: 9.423609098811948\n"
     ]
    },
    {
     "name": "stderr",
     "output_type": "stream",
     "text": [
      "\n",
      " 36%|#############################5                                                    | 18/50 [04:01<07:02, 13.21s/it]"
     ]
    },
    {
     "name": "stdout",
     "output_type": "stream",
     "text": [
      "gens_avg_error: 5.797101449275344 fakes_avg_error: 13.235905856595531 cumulative_avg_error: 9.516503652935437\n"
     ]
    },
    {
     "name": "stderr",
     "output_type": "stream",
     "text": [
      "\n",
      " 38%|###############################1                                                  | 19/50 [04:14<06:49, 13.20s/it]"
     ]
    },
    {
     "name": "stdout",
     "output_type": "stream",
     "text": [
      "gens_avg_error: 5.714285714285694 fakes_avg_error: 13.046821487215599 cumulative_avg_error: 9.380553600750652\n"
     ]
    },
    {
     "name": "stderr",
     "output_type": "stream",
     "text": [
      "\n",
      " 40%|################################8                                                 | 20/50 [04:28<06:41, 13.37s/it]"
     ]
    },
    {
     "name": "stdout",
     "output_type": "stream",
     "text": [
      "gens_avg_error: 5.63380281690139 fakes_avg_error: 12.956960151714913 cumulative_avg_error: 9.295381484308152\n"
     ]
    },
    {
     "name": "stderr",
     "output_type": "stream",
     "text": [
      "\n",
      " 42%|##################################4                                               | 21/50 [04:42<06:33, 13.56s/it]"
     ]
    },
    {
     "name": "stdout",
     "output_type": "stream",
     "text": [
      "gens_avg_error: 5.555555555555536 fakes_avg_error: 12.777002371829981 cumulative_avg_error: 9.166278963692754\n"
     ]
    },
    {
     "name": "stderr",
     "output_type": "stream",
     "text": [
      "\n",
      " 44%|####################################                                              | 22/50 [04:57<06:35, 14.13s/it]"
     ]
    },
    {
     "name": "stdout",
     "output_type": "stream",
     "text": [
      "gens_avg_error: 5.479452054794498 fakes_avg_error: 12.601974942078886 cumulative_avg_error: 9.040713498436691\n"
     ]
    },
    {
     "name": "stderr",
     "output_type": "stream",
     "text": [
      "\n",
      " 46%|#####################################7                                            | 23/50 [05:10<06:12, 13.78s/it]"
     ]
    },
    {
     "name": "stdout",
     "output_type": "stream",
     "text": [
      "gens_avg_error: 5.405405405405384 fakes_avg_error: 12.837083388807557 cumulative_avg_error: 9.121244397106466\n"
     ]
    },
    {
     "name": "stderr",
     "output_type": "stream",
     "text": [
      "\n",
      " 48%|#######################################3                                          | 24/50 [05:23<05:51, 13.52s/it]"
     ]
    },
    {
     "name": "stdout",
     "output_type": "stream",
     "text": [
      "gens_avg_error: 5.333333333333313 fakes_avg_error: 12.843700054734574 cumulative_avg_error: 9.088516694033943\n"
     ]
    },
    {
     "name": "stderr",
     "output_type": "stream",
     "text": [
      "\n",
      " 50%|#########################################                                         | 25/50 [05:36<05:31, 13.27s/it]"
     ]
    },
    {
     "name": "stdout",
     "output_type": "stream",
     "text": [
      "gens_avg_error: 5.263157894736825 fakes_avg_error: 12.674704001382809 cumulative_avg_error: 8.968930948059818\n"
     ]
    },
    {
     "name": "stderr",
     "output_type": "stream",
     "text": [
      "\n",
      " 52%|##########################################6                                       | 26/50 [05:50<05:27, 13.66s/it]"
     ]
    },
    {
     "name": "stdout",
     "output_type": "stream",
     "text": [
      "gens_avg_error: 5.194805194805174 fakes_avg_error: 12.639967585780433 cumulative_avg_error: 8.917386390292803\n"
     ]
    },
    {
     "name": "stderr",
     "output_type": "stream",
     "text": [
      "\n",
      " 54%|############################################2                                     | 27/50 [06:03<05:10, 13.52s/it]"
     ]
    },
    {
     "name": "stdout",
     "output_type": "stream",
     "text": [
      "gens_avg_error: 5.235042735042706 fakes_avg_error: 12.477916719296067 cumulative_avg_error: 8.856479727169386\n"
     ]
    },
    {
     "name": "stderr",
     "output_type": "stream",
     "text": [
      "\n",
      " 56%|#############################################9                                    | 28/50 [06:16<04:51, 13.27s/it]"
     ]
    },
    {
     "name": "stdout",
     "output_type": "stream",
     "text": [
      "gens_avg_error: 5.168776371307993 fakes_avg_error: 12.404356592047582 cumulative_avg_error: 8.786566481677793\n"
     ]
    },
    {
     "name": "stderr",
     "output_type": "stream",
     "text": [
      "\n",
      " 58%|###############################################5                                  | 29/50 [06:29<04:36, 13.17s/it]"
     ]
    },
    {
     "name": "stdout",
     "output_type": "stream",
     "text": [
      "gens_avg_error: 5.729166666666641 fakes_avg_error: 12.290968801313651 cumulative_avg_error: 9.010067733990146\n"
     ]
    },
    {
     "name": "stderr",
     "output_type": "stream",
     "text": [
      "\n",
      " 60%|#################################################1                                | 30/50 [06:43<04:26, 13.30s/it]"
     ]
    },
    {
     "name": "stdout",
     "output_type": "stream",
     "text": [
      "gens_avg_error: 5.658436213991747 fakes_avg_error: 12.180380709116367 cumulative_avg_error: 8.919408461554056\n"
     ]
    },
    {
     "name": "stderr",
     "output_type": "stream",
     "text": [
      "\n",
      " 62%|##################################################8                               | 31/50 [06:55<04:09, 13.15s/it]"
     ]
    },
    {
     "name": "stdout",
     "output_type": "stream",
     "text": [
      "gens_avg_error: 5.589430894308922 fakes_avg_error: 12.031839480956407 cumulative_avg_error: 8.810635187632665\n"
     ]
    },
    {
     "name": "stderr",
     "output_type": "stream",
     "text": [
      "\n",
      " 64%|####################################################4                             | 32/50 [07:08<03:55, 13.10s/it]"
     ]
    },
    {
     "name": "stdout",
     "output_type": "stream",
     "text": [
      "gens_avg_error: 5.5220883534136345 fakes_avg_error: 11.886877559499098 cumulative_avg_error: 8.70448295645636\n"
     ]
    },
    {
     "name": "stderr",
     "output_type": "stream",
     "text": [
      "\n",
      " 66%|######################################################1                           | 33/50 [07:21<03:41, 13.01s/it]"
     ]
    },
    {
     "name": "stdout",
     "output_type": "stream",
     "text": [
      "gens_avg_error: 5.456349206349187 fakes_avg_error: 11.864414731409823 cumulative_avg_error: 8.660381968879506\n"
     ]
    },
    {
     "name": "stderr",
     "output_type": "stream",
     "text": [
      "\n",
      " 68%|#######################################################7                          | 34/50 [07:35<03:30, 13.18s/it]"
     ]
    },
    {
     "name": "stdout",
     "output_type": "stream",
     "text": [
      "gens_avg_error: 5.392156862745079 fakes_avg_error: 11.72483338162853 cumulative_avg_error: 8.558495122186805\n"
     ]
    },
    {
     "name": "stderr",
     "output_type": "stream",
     "text": [
      "\n",
      " 70%|#########################################################4                        | 35/50 [07:48<03:16, 13.09s/it]"
     ]
    },
    {
     "name": "stdout",
     "output_type": "stream",
     "text": [
      "gens_avg_error: 5.329457364341062 fakes_avg_error: 11.588498109749123 cumulative_avg_error: 8.458977737045092\n"
     ]
    },
    {
     "name": "stderr",
     "output_type": "stream",
     "text": [
      "\n",
      " 72%|###########################################################                       | 36/50 [08:00<03:01, 12.98s/it]"
     ]
    },
    {
     "name": "stdout",
     "output_type": "stream",
     "text": [
      "gens_avg_error: 5.363984674329469 fakes_avg_error: 12.068323801974234 cumulative_avg_error: 8.716154238151852\n"
     ]
    },
    {
     "name": "stderr",
     "output_type": "stream",
     "text": [
      "\n",
      " 74%|############################################################6                     | 37/50 [08:13<02:49, 13.01s/it]"
     ]
    },
    {
     "name": "stdout",
     "output_type": "stream",
     "text": [
      "gens_avg_error: 5.303030303030276 fakes_avg_error: 12.575123152709367 cumulative_avg_error: 8.939076727869821\n"
     ]
    },
    {
     "name": "stderr",
     "output_type": "stream",
     "text": [
      "\n",
      " 76%|##############################################################3                   | 38/50 [08:27<02:37, 13.09s/it]"
     ]
    },
    {
     "name": "stdout",
     "output_type": "stream",
     "text": [
      "gens_avg_error: 5.2434456928838635 fakes_avg_error: 12.433829634139604 cumulative_avg_error: 8.83863766351174\n"
     ]
    },
    {
     "name": "stderr",
     "output_type": "stream",
     "text": [
      "\n",
      " 78%|###############################################################9                  | 39/50 [08:40<02:23, 13.04s/it]"
     ]
    },
    {
     "name": "stdout",
     "output_type": "stream",
     "text": [
      "gens_avg_error: 5.185185185185159 fakes_avg_error: 12.517898193760269 cumulative_avg_error: 8.851541689472707\n"
     ]
    },
    {
     "name": "stderr",
     "output_type": "stream",
     "text": [
      "\n",
      " 80%|#################################################################6                | 40/50 [08:53<02:10, 13.03s/it]"
     ]
    },
    {
     "name": "stdout",
     "output_type": "stream",
     "text": [
      "gens_avg_error: 5.128205128205099 fakes_avg_error: 12.600119092729944 cumulative_avg_error: 8.864162110467522\n"
     ]
    },
    {
     "name": "stderr",
     "output_type": "stream",
     "text": [
      "\n",
      " 82%|###################################################################2              | 41/50 [09:06<01:57, 13.04s/it]"
     ]
    },
    {
     "name": "stdout",
     "output_type": "stream",
     "text": [
      "gens_avg_error: 5.07246376811592 fakes_avg_error: 12.644320696794475 cumulative_avg_error: 8.858392232455191\n"
     ]
    },
    {
     "name": "stderr",
     "output_type": "stream",
     "text": [
      "\n",
      " 84%|####################################################################8             | 42/50 [09:19<01:44, 13.01s/it]"
     ]
    },
    {
     "name": "stdout",
     "output_type": "stream",
     "text": [
      "gens_avg_error: 5.017921146953375 fakes_avg_error: 13.368575312957976 cumulative_avg_error: 9.193248229955675\n"
     ]
    },
    {
     "name": "stderr",
     "output_type": "stream",
     "text": [
      "\n",
      " 86%|######################################################################5           | 43/50 [09:31<01:30, 12.96s/it]"
     ]
    },
    {
     "name": "stdout",
     "output_type": "stream",
     "text": [
      "gens_avg_error: 5.053191489361675 fakes_avg_error: 13.616427348635717 cumulative_avg_error: 9.334809418998692\n"
     ]
    },
    {
     "name": "stderr",
     "output_type": "stream",
     "text": [
      "\n",
      " 88%|########################################################################1         | 44/50 [09:44<01:17, 12.92s/it]"
     ]
    },
    {
     "name": "stdout",
     "output_type": "stream",
     "text": [
      "gens_avg_error: 5.087719298245574 fakes_avg_error: 13.473096534439556 cumulative_avg_error: 9.28040791634257\n"
     ]
    },
    {
     "name": "stderr",
     "output_type": "stream",
     "text": [
      "\n",
      " 90%|#########################################################################8        | 45/50 [09:57<01:04, 12.93s/it]"
     ]
    },
    {
     "name": "stdout",
     "output_type": "stream",
     "text": [
      "gens_avg_error: 5.208333333333304 fakes_avg_error: 13.368671319102354 cumulative_avg_error: 9.288502326217829\n"
     ]
    },
    {
     "name": "stderr",
     "output_type": "stream",
     "text": [
      "\n",
      " 92%|###########################################################################4      | 46/50 [10:15<00:57, 14.49s/it]"
     ]
    },
    {
     "name": "stdout",
     "output_type": "stream",
     "text": [
      "gens_avg_error: 5.326460481099637 fakes_avg_error: 13.230849965297175 cumulative_avg_error: 9.278655223198406\n"
     ]
    },
    {
     "name": "stderr",
     "output_type": "stream",
     "text": [
      "\n",
      " 94%|#############################################################################     | 47/50 [10:28<00:42, 14.05s/it]"
     ]
    },
    {
     "name": "stdout",
     "output_type": "stream",
     "text": [
      "gens_avg_error: 5.442176870748283 fakes_avg_error: 13.197882108508418 cumulative_avg_error: 9.320029489628357\n"
     ]
    },
    {
     "name": "stderr",
     "output_type": "stream",
     "text": [
      "\n",
      " 96%|##############################################################################7   | 48/50 [10:42<00:28, 14.01s/it]"
     ]
    },
    {
     "name": "stdout",
     "output_type": "stream",
     "text": [
      "gens_avg_error: 5.387205387205363 fakes_avg_error: 13.434940538388807 cumulative_avg_error: 9.411072962797085\n"
     ]
    },
    {
     "name": "stderr",
     "output_type": "stream",
     "text": [
      "\n",
      " 98%|################################################################################3 | 49/50 [10:55<00:13, 13.75s/it]"
     ]
    },
    {
     "name": "stdout",
     "output_type": "stream",
     "text": [
      "gens_avg_error: 5.499999999999982 fakes_avg_error: 13.300591133004913 cumulative_avg_error: 9.400295566502448\n"
     ]
    },
    {
     "name": "stderr",
     "output_type": "stream",
     "text": [
      "\n",
      "100%|##################################################################################| 50/50 [11:08<00:00, 13.52s/it]\n",
      "  0%|                                                                                           | 0/50 [00:00<?, ?it/s]"
     ]
    },
    {
     "name": "stdout",
     "output_type": "stream",
     "text": [
      "gens_avg_error: 5.445544554455428 fakes_avg_error: 13.201905412216085 cumulative_avg_error: 9.323724983335758\n"
     ]
    },
    {
     "name": "stderr",
     "output_type": "stream",
     "text": [
      "\n",
      "  2%|#6                                                                                 | 1/50 [00:12<10:27, 12.81s/it]"
     ]
    },
    {
     "name": "stdout",
     "output_type": "stream",
     "text": [
      "gens_avg_error: 5.473856209150307 fakes_avg_error: 13.072474966998282 cumulative_avg_error: 9.273165588074296\n"
     ]
    },
    {
     "name": "stderr",
     "output_type": "stream",
     "text": [
      "\n",
      "  4%|###3                                                                               | 2/50 [00:25<10:17, 12.87s/it]"
     ]
    },
    {
     "name": "stdout",
     "output_type": "stream",
     "text": [
      "gens_avg_error: 6.310679611650471 fakes_avg_error: 12.945557734308977 cumulative_avg_error: 9.628118672979724\n"
     ]
    },
    {
     "name": "stderr",
     "output_type": "stream",
     "text": [
      "\n",
      "  6%|####9                                                                              | 3/50 [00:39<10:20, 13.20s/it]"
     ]
    },
    {
     "name": "stdout",
     "output_type": "stream",
     "text": [
      "gens_avg_error: 6.249999999999989 fakes_avg_error: 13.365953012504717 cumulative_avg_error: 9.80797650625236\n"
     ]
    },
    {
     "name": "stderr",
     "output_type": "stream",
     "text": [
      "\n",
      "  8%|######6                                                                            | 4/50 [00:52<10:05, 13.16s/it]"
     ]
    },
    {
     "name": "stdout",
     "output_type": "stream",
     "text": [
      "gens_avg_error: 6.190476190476179 fakes_avg_error: 13.23865822190944 cumulative_avg_error: 9.714567206192815\n"
     ]
    },
    {
     "name": "stderr",
     "output_type": "stream",
     "text": [
      "\n",
      " 10%|########3                                                                          | 5/50 [01:05<09:50, 13.11s/it]"
     ]
    },
    {
     "name": "stdout",
     "output_type": "stream",
     "text": [
      "gens_avg_error: 6.132075471698095 fakes_avg_error: 13.145211760696451 cumulative_avg_error: 9.638643616197273\n"
     ]
    },
    {
     "name": "stderr",
     "output_type": "stream",
     "text": [
      "\n",
      " 12%|#########9                                                                         | 6/50 [01:18<09:32, 13.01s/it]"
     ]
    },
    {
     "name": "stdout",
     "output_type": "stream",
     "text": [
      "gens_avg_error: 6.074766355140171 fakes_avg_error: 13.115817258260032 cumulative_avg_error: 9.595291806700102\n"
     ]
    },
    {
     "name": "stderr",
     "output_type": "stream",
     "text": [
      "\n",
      " 14%|###########6                                                                       | 7/50 [01:31<09:21, 13.07s/it]"
     ]
    },
    {
     "name": "stdout",
     "output_type": "stream",
     "text": [
      "gens_avg_error: 6.018518518518501 fakes_avg_error: 12.994374505868734 cumulative_avg_error: 9.506446512193612\n"
     ]
    },
    {
     "name": "stderr",
     "output_type": "stream",
     "text": [
      "\n",
      " 16%|#############2                                                                     | 8/50 [01:44<09:09, 13.08s/it]"
     ]
    },
    {
     "name": "stdout",
     "output_type": "stream",
     "text": [
      "gens_avg_error: 5.963302752293565 fakes_avg_error: 12.96690318012682 cumulative_avg_error: 9.465102966210193\n"
     ]
    },
    {
     "name": "stderr",
     "output_type": "stream",
     "text": [
      "\n",
      " 18%|##############9                                                                    | 9/50 [01:57<08:54, 13.04s/it]"
     ]
    },
    {
     "name": "stdout",
     "output_type": "stream",
     "text": [
      "gens_avg_error: 5.909090909090898 fakes_avg_error: 12.970234363337784 cumulative_avg_error: 9.43966263621434\n"
     ]
    },
    {
     "name": "stderr",
     "output_type": "stream",
     "text": [
      "\n",
      " 20%|################4                                                                 | 10/50 [02:11<08:43, 13.08s/it]"
     ]
    },
    {
     "name": "stdout",
     "output_type": "stream",
     "text": [
      "gens_avg_error: 5.8558558558558405 fakes_avg_error: 12.853385405109519 cumulative_avg_error: 9.35462063048268\n"
     ]
    },
    {
     "name": "stderr",
     "output_type": "stream",
     "text": [
      "\n",
      " 22%|##################                                                                | 11/50 [02:24<08:31, 13.10s/it]"
     ]
    },
    {
     "name": "stdout",
     "output_type": "stream",
     "text": [
      "gens_avg_error: 5.803571428571419 fakes_avg_error: 12.917194463992477 cumulative_avg_error: 9.360382946281941\n"
     ]
    },
    {
     "name": "stderr",
     "output_type": "stream",
     "text": [
      "\n",
      " 24%|###################6                                                              | 12/50 [02:37<08:15, 13.03s/it]"
     ]
    },
    {
     "name": "stdout",
     "output_type": "stream",
     "text": [
      "gens_avg_error: 5.899705014749257 fakes_avg_error: 12.894430155339498 cumulative_avg_error: 9.397067585044372\n"
     ]
    },
    {
     "name": "stderr",
     "output_type": "stream",
     "text": [
      "\n",
      " 26%|#####################3                                                            | 13/50 [02:51<08:12, 13.30s/it]"
     ]
    },
    {
     "name": "stdout",
     "output_type": "stream",
     "text": [
      "gens_avg_error: 6.28654970760233 fakes_avg_error: 12.781321118889155 cumulative_avg_error: 9.533935413245743\n"
     ]
    },
    {
     "name": "stderr",
     "output_type": "stream",
     "text": [
      "\n",
      " 28%|######################9                                                           | 14/50 [03:04<08:03, 13.44s/it]"
     ]
    },
    {
     "name": "stdout",
     "output_type": "stream",
     "text": [
      "gens_avg_error: 6.304347826086943 fakes_avg_error: 12.757135717855327 cumulative_avg_error: 9.53074177197113\n"
     ]
    },
    {
     "name": "stderr",
     "output_type": "stream",
     "text": [
      "\n",
      " 30%|########################5                                                         | 15/50 [03:17<07:45, 13.29s/it]"
     ]
    },
    {
     "name": "stdout",
     "output_type": "stream",
     "text": [
      "gens_avg_error: 6.249999999999989 fakes_avg_error: 12.704631674310596 cumulative_avg_error: 9.477315837155299\n"
     ]
    },
    {
     "name": "stderr",
     "output_type": "stream",
     "text": [
      "\n",
      " 32%|##########################2                                                       | 16/50 [03:31<07:35, 13.40s/it]"
     ]
    },
    {
     "name": "stdout",
     "output_type": "stream",
     "text": [
      "gens_avg_error: 6.196581196581185 fakes_avg_error: 12.654989965334762 cumulative_avg_error: 9.425785580957967\n"
     ]
    },
    {
     "name": "stderr",
     "output_type": "stream",
     "text": [
      "\n",
      " 34%|###########################8                                                      | 17/50 [03:44<07:19, 13.30s/it]"
     ]
    },
    {
     "name": "stdout",
     "output_type": "stream",
     "text": [
      "gens_avg_error: 6.285310734463268 fakes_avg_error: 12.575992875233055 cumulative_avg_error: 9.430651804848168\n"
     ]
    },
    {
     "name": "stderr",
     "output_type": "stream",
     "text": [
      "\n",
      " 36%|#############################5                                                    | 18/50 [03:58<07:11, 13.49s/it]"
     ]
    },
    {
     "name": "stdout",
     "output_type": "stream",
     "text": [
      "gens_avg_error: 6.232492997198868 fakes_avg_error: 12.526334671799722 cumulative_avg_error: 9.379413834499296\n"
     ]
    },
    {
     "name": "stderr",
     "output_type": "stream",
     "text": [
      "\n",
      " 38%|###############################1                                                  | 19/50 [04:12<07:05, 13.72s/it]"
     ]
    },
    {
     "name": "stdout",
     "output_type": "stream",
     "text": [
      "gens_avg_error: 6.180555555555545 fakes_avg_error: 12.72750410509027 cumulative_avg_error: 9.454029830322908\n"
     ]
    },
    {
     "name": "stderr",
     "output_type": "stream",
     "text": [
      "\n",
      " 40%|################################8                                                 | 20/50 [04:26<06:52, 13.74s/it]"
     ]
    },
    {
     "name": "stdout",
     "output_type": "stream",
     "text": [
      "gens_avg_error: 6.129476584022031 fakes_avg_error: 12.677414539483467 cumulative_avg_error: 9.403445561752743\n"
     ]
    },
    {
     "name": "stderr",
     "output_type": "stream",
     "text": [
      "\n",
      " 42%|##################################4                                               | 21/50 [04:41<06:48, 14.07s/it]"
     ]
    },
    {
     "name": "stdout",
     "output_type": "stream",
     "text": [
      "gens_avg_error: 6.35245901639343 fakes_avg_error: 12.57350130555327 cumulative_avg_error: 9.462980160973355\n"
     ]
    },
    {
     "name": "stderr",
     "output_type": "stream",
     "text": [
      "\n",
      " 44%|####################################                                              | 22/50 [04:55<06:32, 14.02s/it]"
     ]
    },
    {
     "name": "stdout",
     "output_type": "stream",
     "text": [
      "gens_avg_error: 6.300813008130069 fakes_avg_error: 12.796480969735768 cumulative_avg_error: 9.54864698893292\n"
     ]
    },
    {
     "name": "stderr",
     "output_type": "stream",
     "text": [
      "\n",
      " 46%|#####################################7                                            | 23/50 [05:08<06:11, 13.77s/it]"
     ]
    },
    {
     "name": "stdout",
     "output_type": "stream",
     "text": [
      "gens_avg_error: 6.384408602150526 fakes_avg_error: 12.693283542560485 cumulative_avg_error: 9.538846072355511\n"
     ]
    },
    {
     "name": "stderr",
     "output_type": "stream",
     "text": [
      "\n",
      " 48%|#######################################3                                          | 24/50 [05:21<05:52, 13.56s/it]"
     ]
    },
    {
     "name": "stdout",
     "output_type": "stream",
     "text": [
      "gens_avg_error: 6.333333333333324 fakes_avg_error: 12.805070607553326 cumulative_avg_error: 9.56920197044333\n"
     ]
    },
    {
     "name": "stderr",
     "output_type": "stream",
     "text": [
      "\n",
      " 50%|#########################################                                         | 25/50 [05:34<05:34, 13.40s/it]"
     ]
    },
    {
     "name": "stdout",
     "output_type": "stream",
     "text": [
      "gens_avg_error: 6.349206349206337 fakes_avg_error: 12.729898089503966 cumulative_avg_error: 9.539552219355151\n"
     ]
    },
    {
     "name": "stderr",
     "output_type": "stream",
     "text": [
      "\n",
      " 52%|##########################################6                                       | 26/50 [05:47<05:18, 13.26s/it]"
     ]
    },
    {
     "name": "stdout",
     "output_type": "stream",
     "text": [
      "gens_avg_error: 6.299212598425186 fakes_avg_error: 12.682156109796583 cumulative_avg_error: 9.49068435411089\n"
     ]
    },
    {
     "name": "stderr",
     "output_type": "stream",
     "text": [
      "\n",
      " 54%|############################################2                                     | 27/50 [06:00<05:03, 13.19s/it]"
     ]
    },
    {
     "name": "stdout",
     "output_type": "stream",
     "text": [
      "gens_avg_error: 6.249999999999989 fakes_avg_error: 12.583076765188794 cumulative_avg_error: 9.416538382594396\n"
     ]
    },
    {
     "name": "stderr",
     "output_type": "stream",
     "text": [
      "\n",
      " 56%|#############################################9                                    | 28/50 [06:14<04:56, 13.47s/it]"
     ]
    },
    {
     "name": "stdout",
     "output_type": "stream",
     "text": [
      "gens_avg_error: 6.201550387596888 fakes_avg_error: 12.563052914295858 cumulative_avg_error: 9.382301650946378\n"
     ]
    },
    {
     "name": "stderr",
     "output_type": "stream",
     "text": [
      "\n",
      " 58%|###############################################5                                  | 29/50 [06:27<04:39, 13.32s/it]"
     ]
    },
    {
     "name": "stdout",
     "output_type": "stream",
     "text": [
      "gens_avg_error: 6.538461538461526 fakes_avg_error: 12.492055071365371 cumulative_avg_error: 9.515258304913443\n"
     ]
    },
    {
     "name": "stderr",
     "output_type": "stream",
     "text": [
      "\n",
      " 60%|#################################################1                                | 30/50 [06:40<04:23, 13.17s/it]"
     ]
    },
    {
     "name": "stdout",
     "output_type": "stream",
     "text": [
      "gens_avg_error: 6.806615776081415 fakes_avg_error: 12.422141164968181 cumulative_avg_error: 9.614378470524798\n"
     ]
    },
    {
     "name": "stderr",
     "output_type": "stream",
     "text": [
      "\n",
      " 62%|##################################################8                               | 31/50 [06:55<04:18, 13.63s/it]"
     ]
    },
    {
     "name": "stdout",
     "output_type": "stream",
     "text": [
      "gens_avg_error: 6.755050505050497 fakes_avg_error: 12.328034034930546 cumulative_avg_error: 9.541542269990522\n"
     ]
    },
    {
     "name": "stderr",
     "output_type": "stream",
     "text": [
      "\n",
      " 64%|####################################################4                             | 32/50 [07:07<04:01, 13.39s/it]"
     ]
    },
    {
     "name": "stdout",
     "output_type": "stream",
     "text": [
      "gens_avg_error: 6.704260651629069 fakes_avg_error: 12.2353420497055 cumulative_avg_error: 9.469801350667284\n"
     ]
    },
    {
     "name": "stderr",
     "output_type": "stream",
     "text": [
      "\n",
      " 66%|######################################################1                           | 33/50 [07:21<03:51, 13.60s/it]"
     ]
    },
    {
     "name": "stdout",
     "output_type": "stream",
     "text": [
      "gens_avg_error: 6.716417910447747 fakes_avg_error: 12.168909148837049 cumulative_avg_error: 9.442663529642402\n"
     ]
    },
    {
     "name": "stderr",
     "output_type": "stream",
     "text": [
      "\n",
      " 68%|#######################################################7                          | 34/50 [07:34<03:33, 13.34s/it]"
     ]
    },
    {
     "name": "stdout",
     "output_type": "stream",
     "text": [
      "gens_avg_error: 6.975308641975298 fakes_avg_error: 12.103460439092572 cumulative_avg_error: 9.539384540533934\n"
     ]
    },
    {
     "name": "stderr",
     "output_type": "stream",
     "text": [
      "\n",
      " 70%|#########################################################4                        | 35/50 [07:48<03:23, 13.57s/it]"
     ]
    },
    {
     "name": "stdout",
     "output_type": "stream",
     "text": [
      "gens_avg_error: 6.924019607843135 fakes_avg_error: 12.529170288805137 cumulative_avg_error: 9.72659494832413\n"
     ]
    },
    {
     "name": "stderr",
     "output_type": "stream",
     "text": [
      "\n",
      " 72%|###########################################################                       | 36/50 [08:01<03:07, 13.39s/it]"
     ]
    },
    {
     "name": "stdout",
     "output_type": "stream",
     "text": [
      "gens_avg_error: 6.873479318734788 fakes_avg_error: 12.437716491076623 cumulative_avg_error: 9.655597904905711\n"
     ]
    },
    {
     "name": "stderr",
     "output_type": "stream",
     "text": [
      "\n",
      " 74%|############################################################6                     | 37/50 [08:14<02:53, 13.32s/it]"
     ]
    },
    {
     "name": "stdout",
     "output_type": "stream",
     "text": [
      "gens_avg_error: 6.823671497584538 fakes_avg_error: 12.347588110706509 cumulative_avg_error: 9.585629804145523\n"
     ]
    },
    {
     "name": "stderr",
     "output_type": "stream",
     "text": [
      "\n",
      " 76%|##############################################################3                   | 38/50 [08:27<02:38, 13.19s/it]"
     ]
    },
    {
     "name": "stdout",
     "output_type": "stream",
     "text": [
      "gens_avg_error: 6.834532374100721 fakes_avg_error: 12.306718172260178 cumulative_avg_error: 9.570625273180443\n"
     ]
    },
    {
     "name": "stderr",
     "output_type": "stream",
     "text": [
      "\n",
      " 78%|###############################################################9                  | 39/50 [08:40<02:23, 13.09s/it]"
     ]
    },
    {
     "name": "stdout",
     "output_type": "stream",
     "text": [
      "gens_avg_error: 6.785714285714284 fakes_avg_error: 12.242622566267835 cumulative_avg_error: 9.514168425991066\n"
     ]
    },
    {
     "name": "stderr",
     "output_type": "stream",
     "text": [
      "\n",
      " 80%|#################################################################6                | 40/50 [08:54<02:13, 13.31s/it]"
     ]
    },
    {
     "name": "stdout",
     "output_type": "stream",
     "text": [
      "gens_avg_error: 6.737588652482273 fakes_avg_error: 12.155795455868779 cumulative_avg_error: 9.446692054175521\n"
     ]
    },
    {
     "name": "stderr",
     "output_type": "stream",
     "text": [
      "\n",
      " 82%|###################################################################2              | 41/50 [09:08<02:01, 13.51s/it]"
     ]
    },
    {
     "name": "stdout",
     "output_type": "stream",
     "text": [
      "gens_avg_error: 6.690140845070425 fakes_avg_error: 12.070191262517582 cumulative_avg_error: 9.380166053794003\n"
     ]
    },
    {
     "name": "stderr",
     "output_type": "stream",
     "text": [
      "\n",
      " 84%|####################################################################8             | 42/50 [09:21<01:46, 13.31s/it]"
     ]
    },
    {
     "name": "stdout",
     "output_type": "stream",
     "text": [
      "gens_avg_error: 6.643356643356646 fakes_avg_error: 12.00909435392189 cumulative_avg_error: 9.326225498639262\n"
     ]
    },
    {
     "name": "stderr",
     "output_type": "stream",
     "text": [
      "\n",
      " 86%|######################################################################5           | 43/50 [09:34<01:32, 13.25s/it]"
     ]
    },
    {
     "name": "stdout",
     "output_type": "stream",
     "text": [
      "gens_avg_error: 6.597222222222221 fakes_avg_error: 12.018290457945591 cumulative_avg_error: 9.307756340083905\n"
     ]
    },
    {
     "name": "stderr",
     "output_type": "stream",
     "text": [
      "\n",
      " 88%|########################################################################1         | 44/50 [09:47<01:19, 13.20s/it]"
     ]
    },
    {
     "name": "stdout",
     "output_type": "stream",
     "text": [
      "gens_avg_error: 6.5517241379310365 fakes_avg_error: 11.935405696166656 cumulative_avg_error: 9.243564917048852\n"
     ]
    },
    {
     "name": "stderr",
     "output_type": "stream",
     "text": [
      "\n",
      " 90%|#########################################################################8        | 45/50 [10:00<01:06, 13.28s/it]"
     ]
    },
    {
     "name": "stdout",
     "output_type": "stream",
     "text": [
      "gens_avg_error: 6.5068493150684965 fakes_avg_error: 12.287446296421212 cumulative_avg_error: 9.397147805744854\n"
     ]
    },
    {
     "name": "stderr",
     "output_type": "stream",
     "text": [
      "\n",
      " 92%|###########################################################################4      | 46/50 [10:13<00:52, 13.15s/it]"
     ]
    },
    {
     "name": "stdout",
     "output_type": "stream",
     "text": [
      "gens_avg_error: 6.4625850340136015 fakes_avg_error: 12.317236911184782 cumulative_avg_error: 9.389910972599191\n"
     ]
    },
    {
     "name": "stderr",
     "output_type": "stream",
     "text": [
      "\n",
      " 94%|#############################################################################     | 47/50 [10:26<00:39, 13.12s/it]"
     ]
    },
    {
     "name": "stdout",
     "output_type": "stream",
     "text": [
      "gens_avg_error: 6.418918918918914 fakes_avg_error: 12.34662495007317 cumulative_avg_error: 9.382771934496038\n"
     ]
    },
    {
     "name": "stderr",
     "output_type": "stream",
     "text": [
      "\n",
      " 96%|##############################################################################7   | 48/50 [10:39<00:26, 13.04s/it]"
     ]
    },
    {
     "name": "stdout",
     "output_type": "stream",
     "text": [
      "gens_avg_error: 6.711409395973156 fakes_avg_error: 12.263761695374686 cumulative_avg_error: 9.487585545673927\n"
     ]
    },
    {
     "name": "stderr",
     "output_type": "stream",
     "text": [
      "\n",
      " 98%|################################################################################3 | 49/50 [10:52<00:13, 13.01s/it]"
     ]
    },
    {
     "name": "stdout",
     "output_type": "stream",
     "text": [
      "gens_avg_error: 6.666666666666665 fakes_avg_error: 12.248669950738854 cumulative_avg_error: 9.457668308702761\n"
     ]
    },
    {
     "name": "stderr",
     "output_type": "stream",
     "text": [
      "\n",
      "100%|##################################################################################| 50/50 [11:05<00:00, 12.91s/it]\n",
      "  0%|                                                                                           | 0/50 [00:00<?, ?it/s]"
     ]
    },
    {
     "name": "stdout",
     "output_type": "stream",
     "text": [
      "gens_avg_error: 6.622516556291391 fakes_avg_error: 12.167552931197534 cumulative_avg_error: 9.395034743744457\n"
     ]
    },
    {
     "name": "stderr",
     "output_type": "stream",
     "text": [
      "\n",
      "  2%|#6                                                                                 | 1/50 [00:12<10:27, 12.81s/it]"
     ]
    },
    {
     "name": "stdout",
     "output_type": "stream",
     "text": [
      "gens_avg_error: 6.578947368421051 fakes_avg_error: 12.153292714544916 cumulative_avg_error: 9.366120041482983\n"
     ]
    },
    {
     "name": "stderr",
     "output_type": "stream",
     "text": [
      "\n",
      "  4%|###3                                                                               | 2/50 [00:25<10:15, 12.83s/it]"
     ]
    },
    {
     "name": "stdout",
     "output_type": "stream",
     "text": [
      "gens_avg_error: 6.5359477124183 fakes_avg_error: 12.073859428828937 cumulative_avg_error: 9.304903570623612\n"
     ]
    },
    {
     "name": "stderr",
     "output_type": "stream",
     "text": [
      "\n",
      "  6%|####9                                                                              | 3/50 [00:38<10:02, 12.82s/it]"
     ]
    },
    {
     "name": "stdout",
     "output_type": "stream",
     "text": [
      "gens_avg_error: 6.547619047619058 fakes_avg_error: 11.995457744226156 cumulative_avg_error: 9.271538395922608\n"
     ]
    },
    {
     "name": "stderr",
     "output_type": "stream",
     "text": [
      "\n",
      "  8%|######6                                                                            | 4/50 [00:52<10:08, 13.23s/it]"
     ]
    },
    {
     "name": "stdout",
     "output_type": "stream",
     "text": [
      "gens_avg_error: 6.505376344086022 fakes_avg_error: 12.068605328672 cumulative_avg_error: 9.286990836379005\n"
     ]
    },
    {
     "name": "stderr",
     "output_type": "stream",
     "text": [
      "\n",
      " 10%|########3                                                                          | 5/50 [01:05<09:52, 13.16s/it]"
     ]
    },
    {
     "name": "stdout",
     "output_type": "stream",
     "text": [
      "gens_avg_error: 6.463675213675224 fakes_avg_error: 12.055345038103582 cumulative_avg_error: 9.259510125889403\n"
     ]
    },
    {
     "name": "stderr",
     "output_type": "stream",
     "text": [
      "\n",
      " 12%|#########9                                                                         | 6/50 [01:19<09:46, 13.33s/it]"
     ]
    },
    {
     "name": "stdout",
     "output_type": "stream",
     "text": [
      "gens_avg_error: 6.42250530785563 fakes_avg_error: 12.025740339818892 cumulative_avg_error: 9.224122823837266\n"
     ]
    },
    {
     "name": "stderr",
     "output_type": "stream",
     "text": [
      "\n",
      " 14%|###########6                                                                       | 7/50 [01:32<09:32, 13.32s/it]"
     ]
    },
    {
     "name": "stdout",
     "output_type": "stream",
     "text": [
      "gens_avg_error: 6.381856540084396 fakes_avg_error: 12.01291919842763 cumulative_avg_error: 9.197387869256012\n"
     ]
    },
    {
     "name": "stderr",
     "output_type": "stream",
     "text": [
      "\n",
      " 16%|#############2                                                                     | 8/50 [01:47<09:38, 13.78s/it]"
     ]
    },
    {
     "name": "stdout",
     "output_type": "stream",
     "text": [
      "gens_avg_error: 6.341719077568142 fakes_avg_error: 11.958330608081125 cumulative_avg_error: 9.150024842824633\n"
     ]
    },
    {
     "name": "stderr",
     "output_type": "stream",
     "text": [
      "\n",
      " 18%|##############9                                                                    | 9/50 [02:00<09:14, 13.53s/it]"
     ]
    },
    {
     "name": "stdout",
     "output_type": "stream",
     "text": [
      "gens_avg_error: 6.354166666666683 fakes_avg_error: 12.09192437511396 cumulative_avg_error: 9.223045520890327\n"
     ]
    },
    {
     "name": "stderr",
     "output_type": "stream",
     "text": [
      "\n",
      " 20%|################4                                                                 | 10/50 [02:13<08:55, 13.40s/it]"
     ]
    },
    {
     "name": "stdout",
     "output_type": "stream",
     "text": [
      "gens_avg_error: 6.314699792960676 fakes_avg_error: 12.016819254771638 cumulative_avg_error: 9.165759523866157\n"
     ]
    },
    {
     "name": "stderr",
     "output_type": "stream",
     "text": [
      "\n",
      " 22%|##################                                                                | 11/50 [02:26<08:38, 13.29s/it]"
     ]
    },
    {
     "name": "stdout",
     "output_type": "stream",
     "text": [
      "gens_avg_error: 6.275720164609067 fakes_avg_error: 12.168978806696916 cumulative_avg_error: 9.222349485652991\n"
     ]
    },
    {
     "name": "stderr",
     "output_type": "stream",
     "text": [
      "\n",
      " 24%|###################6                                                              | 12/50 [02:39<08:19, 13.15s/it]"
     ]
    },
    {
     "name": "stdout",
     "output_type": "stream",
     "text": [
      "gens_avg_error: 6.237218813905942 fakes_avg_error: 12.094322494999387 cumulative_avg_error: 9.165770654452665\n"
     ]
    },
    {
     "name": "stderr",
     "output_type": "stream",
     "text": [
      "\n",
      " 26%|#####################3                                                            | 13/50 [02:52<08:04, 13.08s/it]"
     ]
    },
    {
     "name": "stdout",
     "output_type": "stream",
     "text": [
      "gens_avg_error: 6.250000000000022 fakes_avg_error: 12.04090182937948 cumulative_avg_error: 9.145450914689746\n"
     ]
    },
    {
     "name": "stderr",
     "output_type": "stream",
     "text": [
      "\n",
      " 28%|######################9                                                           | 14/50 [03:05<07:50, 13.07s/it]"
     ]
    },
    {
     "name": "stdout",
     "output_type": "stream",
     "text": [
      "gens_avg_error: 6.414141414141438 fakes_avg_error: 12.008330707181214 cumulative_avg_error: 9.21123606066132\n"
     ]
    },
    {
     "name": "stderr",
     "output_type": "stream",
     "text": [
      "\n",
      " 30%|########################5                                                         | 15/50 [03:19<07:51, 13.46s/it]"
     ]
    },
    {
     "name": "stdout",
     "output_type": "stream",
     "text": [
      "gens_avg_error: 6.726907630522117 fakes_avg_error: 11.935991365571684 cumulative_avg_error: 9.331449498046895\n"
     ]
    },
    {
     "name": "stderr",
     "output_type": "stream",
     "text": [
      "\n",
      " 32%|##########################2                                                       | 16/50 [03:32<07:31, 13.28s/it]"
     ]
    },
    {
     "name": "stdout",
     "output_type": "stream",
     "text": [
      "gens_avg_error: 6.686626746507018 fakes_avg_error: 11.864518363382636 cumulative_avg_error: 9.275572554944823\n"
     ]
    },
    {
     "name": "stderr",
     "output_type": "stream",
     "text": [
      "\n",
      " 34%|###########################8                                                      | 17/50 [03:45<07:15, 13.19s/it]"
     ]
    },
    {
     "name": "stdout",
     "output_type": "stream",
     "text": [
      "gens_avg_error: 6.7460317460317665 fakes_avg_error: 11.793896230267265 cumulative_avg_error: 9.26996398814952\n"
     ]
    },
    {
     "name": "stderr",
     "output_type": "stream",
     "text": [
      "\n",
      " 36%|#############################5                                                    | 18/50 [03:59<07:10, 13.46s/it]"
     ]
    },
    {
     "name": "stdout",
     "output_type": "stream",
     "text": [
      "gens_avg_error: 6.804733727810664 fakes_avg_error: 11.724109862040832 cumulative_avg_error: 9.264421794925749\n"
     ]
    },
    {
     "name": "stderr",
     "output_type": "stream",
     "text": [
      "\n",
      " 38%|###############################1                                                  | 19/50 [04:13<07:03, 13.67s/it]"
     ]
    },
    {
     "name": "stdout",
     "output_type": "stream",
     "text": [
      "gens_avg_error: 6.862745098039225 fakes_avg_error: 11.772791568734696 cumulative_avg_error: 9.317768333386955\n"
     ]
    },
    {
     "name": "stderr",
     "output_type": "stream",
     "text": [
      "\n",
      " 40%|################################8                                                 | 20/50 [04:27<06:52, 13.76s/it]"
     ]
    },
    {
     "name": "stdout",
     "output_type": "stream",
     "text": [
      "gens_avg_error: 6.871345029239784 fakes_avg_error: 11.78191754396627 cumulative_avg_error: 9.326631286603027\n"
     ]
    },
    {
     "name": "stderr",
     "output_type": "stream",
     "text": [
      "\n",
      " 42%|##################################4                                               | 21/50 [04:40<06:33, 13.57s/it]"
     ]
    },
    {
     "name": "stdout",
     "output_type": "stream",
     "text": [
      "gens_avg_error: 6.831395348837221 fakes_avg_error: 11.713418023361811 cumulative_avg_error: 9.272406686099522\n"
     ]
    },
    {
     "name": "stderr",
     "output_type": "stream",
     "text": [
      "\n",
      " 44%|####################################                                              | 22/50 [04:56<06:32, 14.01s/it]"
     ]
    },
    {
     "name": "stdout",
     "output_type": "stream",
     "text": [
      "gens_avg_error: 6.888246628131034 fakes_avg_error: 11.645710404729659 cumulative_avg_error: 9.266978516430346\n"
     ]
    },
    {
     "name": "stderr",
     "output_type": "stream",
     "text": [
      "\n",
      " 46%|#####################################7                                            | 23/50 [05:08<06:09, 13.70s/it]"
     ]
    },
    {
     "name": "stdout",
     "output_type": "stream",
     "text": [
      "gens_avg_error: 6.8486590038314255 fakes_avg_error: 11.597938122710138 cumulative_avg_error: 9.223298563270777\n"
     ]
    },
    {
     "name": "stderr",
     "output_type": "stream",
     "text": [
      "\n",
      " 48%|#######################################3                                          | 24/50 [05:22<05:51, 13.54s/it]"
     ]
    },
    {
     "name": "stdout",
     "output_type": "stream",
     "text": [
      "gens_avg_error: 6.809523809523821 fakes_avg_error: 11.588807047723225 cumulative_avg_error: 9.199165428623523\n"
     ]
    },
    {
     "name": "stderr",
     "output_type": "stream",
     "text": [
      "\n",
      " 50%|#########################################                                         | 25/50 [05:35<05:36, 13.47s/it]"
     ]
    },
    {
     "name": "stdout",
     "output_type": "stream",
     "text": [
      "gens_avg_error: 6.770833333333348 fakes_avg_error: 11.636597916770242 cumulative_avg_error: 9.2037156250518\n"
     ]
    },
    {
     "name": "stderr",
     "output_type": "stream",
     "text": [
      "\n",
      " 52%|##########################################6                                       | 26/50 [05:48<05:19, 13.33s/it]"
     ]
    },
    {
     "name": "stdout",
     "output_type": "stream",
     "text": [
      "gens_avg_error: 6.732580037664793 fakes_avg_error: 11.57085442571505 cumulative_avg_error: 9.151717231689926\n"
     ]
    },
    {
     "name": "stderr",
     "output_type": "stream",
     "text": [
      "\n",
      " 54%|############################################2                                     | 27/50 [06:01<05:04, 13.23s/it]"
     ]
    },
    {
     "name": "stdout",
     "output_type": "stream",
     "text": [
      "gens_avg_error: 6.694756554307125 fakes_avg_error: 11.599482584372067 cumulative_avg_error: 9.147119569339601\n"
     ]
    },
    {
     "name": "stderr",
     "output_type": "stream",
     "text": [
      "\n",
      " 56%|#############################################9                                    | 28/50 [06:15<04:55, 13.42s/it]"
     ]
    },
    {
     "name": "stdout",
     "output_type": "stream",
     "text": [
      "gens_avg_error: 6.657355679702059 fakes_avg_error: 11.571924953546898 cumulative_avg_error: 9.114640316624477\n"
     ]
    },
    {
     "name": "stderr",
     "output_type": "stream",
     "text": [
      "\n",
      " 58%|###############################################5                                  | 29/50 [06:29<04:45, 13.61s/it]"
     ]
    },
    {
     "name": "stdout",
     "output_type": "stream",
     "text": [
      "gens_avg_error: 6.6203703703703765 fakes_avg_error: 11.618747592693857 cumulative_avg_error: 9.119558981532116\n"
     ]
    },
    {
     "name": "stderr",
     "output_type": "stream",
     "text": [
      "\n",
      " 60%|#################################################1                                | 30/50 [06:42<04:30, 13.53s/it]"
     ]
    },
    {
     "name": "stdout",
     "output_type": "stream",
     "text": [
      "gens_avg_error: 6.583793738489884 fakes_avg_error: 11.554555617043615 cumulative_avg_error: 9.069174677766757\n"
     ]
    },
    {
     "name": "stderr",
     "output_type": "stream",
     "text": [
      "\n",
      " 62%|##################################################8                               | 31/50 [06:55<04:15, 13.43s/it]"
     ]
    },
    {
     "name": "stdout",
     "output_type": "stream",
     "text": [
      "gens_avg_error: 6.593406593406614 fakes_avg_error: 11.52769908434923 cumulative_avg_error: 9.060552838877921\n"
     ]
    },
    {
     "name": "stderr",
     "output_type": "stream",
     "text": [
      "\n",
      " 64%|####################################################4                             | 32/50 [07:09<04:01, 13.42s/it]"
     ]
    },
    {
     "name": "stdout",
     "output_type": "stream",
     "text": [
      "gens_avg_error: 6.557377049180346 fakes_avg_error: 11.519351001921086 cumulative_avg_error: 9.038364025550717\n"
     ]
    },
    {
     "name": "stderr",
     "output_type": "stream",
     "text": [
      "\n",
      " 66%|######################################################1                           | 33/50 [07:25<04:01, 14.18s/it]"
     ]
    },
    {
     "name": "stdout",
     "output_type": "stream",
     "text": [
      "gens_avg_error: 6.521739130434801 fakes_avg_error: 11.49297771749036 cumulative_avg_error: 9.007358423962586\n"
     ]
    },
    {
     "name": "stderr",
     "output_type": "stream",
     "text": [
      "\n",
      " 68%|#######################################################7                          | 34/50 [07:38<03:41, 13.85s/it]"
     ]
    },
    {
     "name": "stdout",
     "output_type": "stream",
     "text": [
      "gens_avg_error: 6.486486486486498 fakes_avg_error: 11.430853513612027 cumulative_avg_error: 8.958670000049263\n"
     ]
    },
    {
     "name": "stderr",
     "output_type": "stream",
     "text": [
      "\n",
      " 70%|#########################################################4                        | 35/50 [07:51<03:24, 13.62s/it]"
     ]
    },
    {
     "name": "stdout",
     "output_type": "stream",
     "text": [
      "gens_avg_error: 6.451612903225823 fakes_avg_error: 11.369397311925944 cumulative_avg_error: 8.910505107575883\n"
     ]
    },
    {
     "name": "stderr",
     "output_type": "stream",
     "text": [
      "\n",
      " 72%|###########################################################                       | 36/50 [08:04<03:08, 13.45s/it]"
     ]
    },
    {
     "name": "stdout",
     "output_type": "stream",
     "text": [
      "gens_avg_error: 6.417112299465256 fakes_avg_error: 11.34424901970531 cumulative_avg_error: 8.880680659585282\n"
     ]
    },
    {
     "name": "stderr",
     "output_type": "stream",
     "text": [
      "\n",
      " 74%|############################################################6                     | 37/50 [08:17<02:52, 13.29s/it]"
     ]
    },
    {
     "name": "stdout",
     "output_type": "stream",
     "text": [
      "gens_avg_error: 6.382978723404276 fakes_avg_error: 11.28390726960049 cumulative_avg_error: 8.833442996502383\n"
     ]
    },
    {
     "name": "stderr",
     "output_type": "stream",
     "text": [
      "\n",
      " 76%|##############################################################3                   | 38/50 [08:30<02:38, 13.21s/it]"
     ]
    },
    {
     "name": "stdout",
     "output_type": "stream",
     "text": [
      "gens_avg_error: 6.34920634920636 fakes_avg_error: 11.259477425140519 cumulative_avg_error: 8.80434188717344\n"
     ]
    },
    {
     "name": "stderr",
     "output_type": "stream",
     "text": [
      "\n",
      " 78%|###############################################################9                  | 39/50 [08:44<02:28, 13.48s/it]"
     ]
    },
    {
     "name": "stdout",
     "output_type": "stream",
     "text": [
      "gens_avg_error: 6.31578947368423 fakes_avg_error: 11.53355035097311 cumulative_avg_error: 8.924669912328675\n"
     ]
    },
    {
     "name": "stderr",
     "output_type": "stream",
     "text": [
      "\n",
      " 80%|#################################################################6                | 40/50 [08:57<02:13, 13.39s/it]"
     ]
    },
    {
     "name": "stdout",
     "output_type": "stream",
     "text": [
      "gens_avg_error: 6.282722513089023 fakes_avg_error: 11.473165270601527 cumulative_avg_error: 8.877943891845275\n"
     ]
    },
    {
     "name": "stderr",
     "output_type": "stream",
     "text": [
      "\n",
      " 82%|###################################################################2              | 41/50 [09:12<02:02, 13.66s/it]"
     ]
    },
    {
     "name": "stdout",
     "output_type": "stream",
     "text": [
      "gens_avg_error: 6.250000000000011 fakes_avg_error: 11.656464757039364 cumulative_avg_error: 8.953232378519683\n"
     ]
    },
    {
     "name": "stderr",
     "output_type": "stream",
     "text": [
      "\n",
      " 84%|####################################################################8             | 42/50 [09:25<01:47, 13.49s/it]"
     ]
    },
    {
     "name": "stdout",
     "output_type": "stream",
     "text": [
      "gens_avg_error: 6.217616580310892 fakes_avg_error: 11.699695509593555 cumulative_avg_error: 8.958656044952228\n"
     ]
    },
    {
     "name": "stderr",
     "output_type": "stream",
     "text": [
      "\n",
      " 86%|######################################################################5           | 43/50 [09:38<01:33, 13.40s/it]"
     ]
    },
    {
     "name": "stdout",
     "output_type": "stream",
     "text": [
      "gens_avg_error: 6.400343642611695 fakes_avg_error: 11.63938780078122 cumulative_avg_error: 9.019865721696462\n"
     ]
    },
    {
     "name": "stderr",
     "output_type": "stream",
     "text": [
      "\n",
      " 88%|########################################################################1         | 44/50 [09:51<01:19, 13.27s/it]"
     ]
    },
    {
     "name": "stdout",
     "output_type": "stream",
     "text": [
      "gens_avg_error: 6.367521367521379 fakes_avg_error: 11.73164545118558 cumulative_avg_error: 9.04958340935348\n"
     ]
    },
    {
     "name": "stderr",
     "output_type": "stream",
     "text": [
      "\n",
      " 90%|#########################################################################8        | 45/50 [10:04<01:06, 13.23s/it]"
     ]
    },
    {
     "name": "stdout",
     "output_type": "stream",
     "text": [
      "gens_avg_error: 6.377551020408179 fakes_avg_error: 11.75682413085639 cumulative_avg_error: 9.067187575632286\n"
     ]
    },
    {
     "name": "stderr",
     "output_type": "stream",
     "text": [
      "\n",
      " 92%|###########################################################################4      | 46/50 [10:18<00:54, 13.56s/it]"
     ]
    },
    {
     "name": "stdout",
     "output_type": "stream",
     "text": [
      "gens_avg_error: 6.345177664974633 fakes_avg_error: 11.798667663187068 cumulative_avg_error: 9.071922664080855\n"
     ]
    },
    {
     "name": "stderr",
     "output_type": "stream",
     "text": [
      "\n",
      " 94%|#############################################################################     | 47/50 [10:31<00:40, 13.41s/it]"
     ]
    },
    {
     "name": "stdout",
     "output_type": "stream",
     "text": [
      "gens_avg_error: 6.3973063973064015 fakes_avg_error: 11.755913449399923 cumulative_avg_error: 9.076609923353162\n"
     ]
    },
    {
     "name": "stderr",
     "output_type": "stream",
     "text": [
      "\n",
      " 96%|##############################################################################7   | 48/50 [10:45<00:27, 13.59s/it]"
     ]
    },
    {
     "name": "stdout",
     "output_type": "stream",
     "text": [
      "gens_avg_error: 6.365159128978237 fakes_avg_error: 12.03184688265252 cumulative_avg_error: 9.198503005815372\n"
     ]
    },
    {
     "name": "stderr",
     "output_type": "stream",
     "text": [
      "\n",
      " 98%|################################################################################3 | 49/50 [10:59<00:13, 13.52s/it]"
     ]
    },
    {
     "name": "stdout",
     "output_type": "stream",
     "text": [
      "gens_avg_error: 6.333333333333346 fakes_avg_error: 11.971687648239248 cumulative_avg_error: 9.152510490786291\n"
     ]
    },
    {
     "name": "stderr",
     "output_type": "stream",
     "text": [
      "\n",
      "100%|##################################################################################| 50/50 [11:12<00:00, 13.34s/it]\n",
      "  0%|                                                                                           | 0/50 [00:00<?, ?it/s]"
     ]
    },
    {
     "name": "stdout",
     "output_type": "stream",
     "text": [
      "gens_avg_error: 6.343283582089565 fakes_avg_error: 11.91212701317339 cumulative_avg_error: 9.127705297631472\n"
     ]
    },
    {
     "name": "stderr",
     "output_type": "stream",
     "text": [
      "\n",
      "  2%|#6                                                                                 | 1/50 [00:13<11:01, 13.51s/it]"
     ]
    },
    {
     "name": "stdout",
     "output_type": "stream",
     "text": [
      "gens_avg_error: 6.353135313531377 fakes_avg_error: 11.853156087365601 cumulative_avg_error: 9.10314570044849\n"
     ]
    },
    {
     "name": "stderr",
     "output_type": "stream",
     "text": [
      "\n",
      "  4%|###3                                                                               | 2/50 [00:27<10:52, 13.59s/it]"
     ]
    },
    {
     "name": "stdout",
     "output_type": "stream",
     "text": [
      "gens_avg_error: 6.362889983579667 fakes_avg_error: 12.041071574619956 cumulative_avg_error: 9.201980779099816\n"
     ]
    },
    {
     "name": "stderr",
     "output_type": "stream",
     "text": [
      "\n",
      "  6%|####9                                                                              | 3/50 [00:41<10:43, 13.69s/it]"
     ]
    },
    {
     "name": "stdout",
     "output_type": "stream",
     "text": [
      "gens_avg_error: 6.331699346405251 fakes_avg_error: 11.998386583241095 cumulative_avg_error: 9.165042964823167\n"
     ]
    },
    {
     "name": "stderr",
     "output_type": "stream",
     "text": [
      "\n",
      "  8%|######6                                                                            | 4/50 [00:55<10:38, 13.88s/it]"
     ]
    },
    {
     "name": "stdout",
     "output_type": "stream",
     "text": [
      "gens_avg_error: 6.300813008130102 fakes_avg_error: 11.939857868200898 cumulative_avg_error: 9.120335438165505\n"
     ]
    },
    {
     "name": "stderr",
     "output_type": "stream",
     "text": [
      "\n",
      " 10%|########3                                                                          | 5/50 [01:08<10:17, 13.73s/it]"
     ]
    },
    {
     "name": "stdout",
     "output_type": "stream",
     "text": [
      "gens_avg_error: 6.27022653721685 fakes_avg_error: 11.881897393112538 cumulative_avg_error: 9.076061965164694\n"
     ]
    },
    {
     "name": "stderr",
     "output_type": "stream",
     "text": [
      "\n",
      " 12%|#########9                                                                         | 6/50 [01:22<09:59, 13.62s/it]"
     ]
    },
    {
     "name": "stdout",
     "output_type": "stream",
     "text": [
      "gens_avg_error: 6.239935587761702 fakes_avg_error: 11.824496922614413 cumulative_avg_error: 9.032216255188064\n"
     ]
    },
    {
     "name": "stderr",
     "output_type": "stream",
     "text": [
      "\n",
      " 14%|###########6                                                                       | 7/50 [01:37<10:10, 14.19s/it]"
     ]
    },
    {
     "name": "stdout",
     "output_type": "stream",
     "text": [
      "gens_avg_error: 6.209935897435925 fakes_avg_error: 11.767648379717233 cumulative_avg_error: 8.988792138576574\n"
     ]
    },
    {
     "name": "stderr",
     "output_type": "stream",
     "text": [
      "\n",
      " 16%|#############2                                                                     | 8/50 [01:51<09:47, 13.99s/it]"
     ]
    },
    {
     "name": "stdout",
     "output_type": "stream",
     "text": [
      "gens_avg_error: 6.180223285486464 fakes_avg_error: 11.86513741686145 cumulative_avg_error: 9.02268035117395\n"
     ]
    },
    {
     "name": "stderr",
     "output_type": "stream",
     "text": [
      "\n",
      " 18%|##############9                                                                    | 9/50 [02:04<09:28, 13.86s/it]"
     ]
    },
    {
     "name": "stdout",
     "output_type": "stream",
     "text": [
      "gens_avg_error: 6.150793650793673 fakes_avg_error: 11.824509778368453 cumulative_avg_error: 8.98765171458107\n"
     ]
    },
    {
     "name": "stderr",
     "output_type": "stream",
     "text": [
      "\n",
      " 20%|################4                                                                 | 10/50 [02:18<09:08, 13.71s/it]"
     ]
    },
    {
     "name": "stdout",
     "output_type": "stream",
     "text": [
      "gens_avg_error: 6.1216429699842205 fakes_avg_error: 11.768469447665286 cumulative_avg_error: 8.945056208824752\n"
     ]
    },
    {
     "name": "stderr",
     "output_type": "stream",
     "text": [
      "\n",
      " 22%|##################                                                                | 11/50 [02:31<08:53, 13.69s/it]"
     ]
    },
    {
     "name": "stdout",
     "output_type": "stream",
     "text": [
      "gens_avg_error: 6.171383647798756 fakes_avg_error: 11.712957799327238 cumulative_avg_error: 8.942170723563002\n"
     ]
    },
    {
     "name": "stderr",
     "output_type": "stream",
     "text": [
      "\n",
      " 24%|###################6                                                              | 12/50 [02:45<08:39, 13.68s/it]"
     ]
    },
    {
     "name": "stdout",
     "output_type": "stream",
     "text": [
      "gens_avg_error: 6.142410015649469 fakes_avg_error: 11.657967387123824 cumulative_avg_error: 8.900188701386647\n"
     ]
    },
    {
     "name": "stderr",
     "output_type": "stream",
     "text": [
      "\n",
      " 26%|#####################3                                                            | 13/50 [03:00<08:36, 13.96s/it]"
     ]
    },
    {
     "name": "stdout",
     "output_type": "stream",
     "text": [
      "gens_avg_error: 6.347352024922137 fakes_avg_error: 11.650219875969036 cumulative_avg_error: 8.998785950445587\n"
     ]
    },
    {
     "name": "stderr",
     "output_type": "stream",
     "text": [
      "\n",
      " 28%|######################9                                                           | 14/50 [03:13<08:20, 13.91s/it]"
     ]
    },
    {
     "name": "stdout",
     "output_type": "stream",
     "text": [
      "gens_avg_error: 6.317829457364354 fakes_avg_error: 11.61153668274748 cumulative_avg_error: 8.964683070055912\n"
     ]
    },
    {
     "name": "stderr",
     "output_type": "stream",
     "text": [
      "\n",
      " 30%|########################5                                                         | 15/50 [03:27<08:05, 13.86s/it]"
     ]
    },
    {
     "name": "stdout",
     "output_type": "stream",
     "text": [
      "gens_avg_error: 6.365740740740755 fakes_avg_error: 11.573211667240935 cumulative_avg_error: 8.969476203990844\n"
     ]
    },
    {
     "name": "stderr",
     "output_type": "stream",
     "text": [
      "\n",
      " 32%|##########################2                                                       | 16/50 [03:41<07:47, 13.74s/it]"
     ]
    },
    {
     "name": "stdout",
     "output_type": "stream",
     "text": [
      "gens_avg_error: 6.41321044546852 fakes_avg_error: 11.535239877683756 cumulative_avg_error: 8.974225161576133\n"
     ]
    },
    {
     "name": "stderr",
     "output_type": "stream",
     "text": [
      "\n",
      " 34%|###########################8                                                      | 17/50 [03:54<07:32, 13.71s/it]"
     ]
    },
    {
     "name": "stdout",
     "output_type": "stream",
     "text": [
      "gens_avg_error: 6.383792048929671 fakes_avg_error: 11.49761645316838 cumulative_avg_error: 8.940704251049025\n"
     ]
    },
    {
     "name": "stderr",
     "output_type": "stream",
     "text": [
      "\n",
      " 36%|#############################5                                                    | 18/50 [04:08<07:17, 13.66s/it]"
     ]
    },
    {
     "name": "stdout",
     "output_type": "stream",
     "text": [
      "gens_avg_error: 6.3546423135464325 fakes_avg_error: 11.460336621570965 cumulative_avg_error: 8.907489467558705\n"
     ]
    },
    {
     "name": "stderr",
     "output_type": "stream",
     "text": [
      "\n",
      " 38%|###############################1                                                  | 19/50 [04:22<07:11, 13.92s/it]"
     ]
    },
    {
     "name": "stdout",
     "output_type": "stream",
     "text": [
      "gens_avg_error: 6.325757575757585 fakes_avg_error: 11.57491084904867 cumulative_avg_error: 8.95033421240312\n"
     ]
    },
    {
     "name": "stderr",
     "output_type": "stream",
     "text": [
      "\n",
      " 40%|################################8                                                 | 20/50 [04:37<07:00, 14.01s/it]"
     ]
    },
    {
     "name": "stdout",
     "output_type": "stream",
     "text": [
      "gens_avg_error: 6.29713423831072 fakes_avg_error: 11.522535686835777 cumulative_avg_error: 8.90983496257325\n"
     ]
    },
    {
     "name": "stderr",
     "output_type": "stream",
     "text": [
      "\n",
      " 42%|##################################4                                               | 21/50 [04:50<06:40, 13.80s/it]"
     ]
    },
    {
     "name": "stdout",
     "output_type": "stream",
     "text": [
      "gens_avg_error: 6.268768768768773 fakes_avg_error: 11.5607224630212 cumulative_avg_error: 8.914745615894981\n"
     ]
    },
    {
     "name": "stderr",
     "output_type": "stream",
     "text": [
      "\n",
      " 44%|####################################                                              | 22/50 [05:03<06:23, 13.68s/it]"
     ]
    },
    {
     "name": "stdout",
     "output_type": "stream",
     "text": [
      "gens_avg_error: 6.240657698056806 fakes_avg_error: 11.508880658254295 cumulative_avg_error: 8.87476917815555\n"
     ]
    },
    {
     "name": "stderr",
     "output_type": "stream",
     "text": [
      "\n",
      " 46%|#####################################7                                            | 23/50 [05:17<06:06, 13.57s/it]"
     ]
    },
    {
     "name": "stdout",
     "output_type": "stream",
     "text": [
      "gens_avg_error: 6.2127976190476275 fakes_avg_error: 11.517025536268033 cumulative_avg_error: 8.86491157765783\n"
     ]
    },
    {
     "name": "stderr",
     "output_type": "stream",
     "text": [
      "\n",
      " 48%|#######################################3                                          | 24/50 [05:30<05:50, 13.50s/it]"
     ]
    },
    {
     "name": "stdout",
     "output_type": "stream",
     "text": [
      "gens_avg_error: 6.185185185185194 fakes_avg_error: 11.46583875610684 cumulative_avg_error: 8.825511970646016\n"
     ]
    },
    {
     "name": "stderr",
     "output_type": "stream",
     "text": [
      "\n",
      " 50%|#########################################                                         | 25/50 [05:45<05:50, 14.03s/it]"
     ]
    },
    {
     "name": "stdout",
     "output_type": "stream",
     "text": [
      "gens_avg_error: 6.157817109144547 fakes_avg_error: 11.547848319132925 cumulative_avg_error: 8.852832714138737\n"
     ]
    },
    {
     "name": "stderr",
     "output_type": "stream",
     "text": [
      "\n",
      " 52%|##########################################6                                       | 26/50 [05:59<05:31, 13.81s/it]"
     ]
    },
    {
     "name": "stdout",
     "output_type": "stream",
     "text": [
      "gens_avg_error: 6.130690161527175 fakes_avg_error: 11.496976740634535 cumulative_avg_error: 8.813833451080855\n"
     ]
    },
    {
     "name": "stderr",
     "output_type": "stream",
     "text": [
      "\n",
      " 54%|############################################2                                     | 27/50 [06:12<05:13, 13.64s/it]"
     ]
    },
    {
     "name": "stdout",
     "output_type": "stream",
     "text": [
      "gens_avg_error: 6.10380116959065 fakes_avg_error: 11.446551404052807 cumulative_avg_error: 8.77517628682173\n"
     ]
    },
    {
     "name": "stderr",
     "output_type": "stream",
     "text": [
      "\n",
      " 56%|#############################################9                                    | 28/50 [06:26<05:02, 13.76s/it]"
     ]
    },
    {
     "name": "stdout",
     "output_type": "stream",
     "text": [
      "gens_avg_error: 6.259097525473079 fakes_avg_error: 11.396566463423763 cumulative_avg_error: 8.82783199444842\n"
     ]
    },
    {
     "name": "stderr",
     "output_type": "stream",
     "text": [
      "\n",
      " 58%|###############################################5                                  | 29/50 [06:39<04:47, 13.68s/it]c:\\users\\mert\\anaconda3\\envs\\ml_gpu\\lib\\site-packages\\sklearn\\neural_network\\multilayer_perceptron.py:564: UserWarning: Training interrupted by user.\n",
      "  warnings.warn(\"Training interrupted by user.\")\n"
     ]
    },
    {
     "name": "stdout",
     "output_type": "stream",
     "text": [
      "gens_avg_error: 6.304347826086953 fakes_avg_error: 11.376001681698721 cumulative_avg_error: 8.840174753892837\n"
     ]
    },
    {
     "name": "stderr",
     "output_type": "stream",
     "text": [
      "\n",
      " 60%|#################################################1                                | 30/50 [06:44<03:37, 10.88s/it]ERROR:root:Internal Python error in the inspect module.\n",
      "Below is the traceback from this internal error.\n",
      "\n"
     ]
    },
    {
     "name": "stdout",
     "output_type": "stream",
     "text": [
      "Traceback (most recent call last):\n",
      "  File \"c:\\users\\mert\\anaconda3\\envs\\ml_gpu\\lib\\site-packages\\IPython\\core\\interactiveshell.py\", line 3296, in run_code\n",
      "    exec(code_obj, self.user_global_ns, self.user_ns)\n",
      "  File \"<ipython-input-5-6907dd193845>\", line 40, in <module>\n",
      "    X_train = visual_f.loc[y_train.index]\n",
      "  File \"c:\\users\\mert\\anaconda3\\envs\\ml_gpu\\lib\\site-packages\\pandas\\core\\indexing.py\", line 1500, in __getitem__\n",
      "    return self._getitem_axis(maybe_callable, axis=axis)\n",
      "  File \"c:\\users\\mert\\anaconda3\\envs\\ml_gpu\\lib\\site-packages\\pandas\\core\\indexing.py\", line 1902, in _getitem_axis\n",
      "    return self._getitem_iterable(key, axis=axis)\n",
      "  File \"c:\\users\\mert\\anaconda3\\envs\\ml_gpu\\lib\\site-packages\\pandas\\core\\indexing.py\", line 1207, in _getitem_iterable\n",
      "    copy=True, allow_dups=True)\n",
      "  File \"c:\\users\\mert\\anaconda3\\envs\\ml_gpu\\lib\\site-packages\\pandas\\core\\generic.py\", line 4490, in _reindex_with_indexers\n",
      "    copy=copy)\n",
      "  File \"c:\\users\\mert\\anaconda3\\envs\\ml_gpu\\lib\\site-packages\\pandas\\core\\internals\\managers.py\", line 1235, in reindex_indexer\n",
      "    for blk in self.blocks]\n",
      "  File \"c:\\users\\mert\\anaconda3\\envs\\ml_gpu\\lib\\site-packages\\pandas\\core\\internals\\managers.py\", line 1235, in <listcomp>\n",
      "    for blk in self.blocks]\n",
      "  File \"c:\\users\\mert\\anaconda3\\envs\\ml_gpu\\lib\\site-packages\\pandas\\core\\internals\\blocks.py\", line 1238, in take_nd\n",
      "    allow_fill=True, fill_value=fill_value)\n",
      "KeyboardInterrupt\n",
      "\n",
      "During handling of the above exception, another exception occurred:\n",
      "\n",
      "Traceback (most recent call last):\n",
      "  File \"c:\\users\\mert\\anaconda3\\envs\\ml_gpu\\lib\\site-packages\\IPython\\core\\interactiveshell.py\", line 2033, in showtraceback\n",
      "    stb = value._render_traceback_()\n",
      "AttributeError: 'KeyboardInterrupt' object has no attribute '_render_traceback_'\n",
      "\n",
      "During handling of the above exception, another exception occurred:\n",
      "\n",
      "Traceback (most recent call last):\n",
      "  File \"c:\\users\\mert\\anaconda3\\envs\\ml_gpu\\lib\\site-packages\\IPython\\core\\ultratb.py\", line 1095, in get_records\n",
      "    return _fixed_getinnerframes(etb, number_of_lines_of_context, tb_offset)\n",
      "  File \"c:\\users\\mert\\anaconda3\\envs\\ml_gpu\\lib\\site-packages\\IPython\\core\\ultratb.py\", line 313, in wrapped\n",
      "    return f(*args, **kwargs)\n",
      "  File \"c:\\users\\mert\\anaconda3\\envs\\ml_gpu\\lib\\site-packages\\IPython\\core\\ultratb.py\", line 347, in _fixed_getinnerframes\n",
      "    records = fix_frame_records_filenames(inspect.getinnerframes(etb, context))\n",
      "  File \"c:\\users\\mert\\anaconda3\\envs\\ml_gpu\\lib\\inspect.py\", line 1502, in getinnerframes\n",
      "    frameinfo = (tb.tb_frame,) + getframeinfo(tb, context)\n",
      "  File \"c:\\users\\mert\\anaconda3\\envs\\ml_gpu\\lib\\inspect.py\", line 1460, in getframeinfo\n",
      "    filename = getsourcefile(frame) or getfile(frame)\n",
      "  File \"c:\\users\\mert\\anaconda3\\envs\\ml_gpu\\lib\\inspect.py\", line 696, in getsourcefile\n",
      "    if getattr(getmodule(object, filename), '__loader__', None) is not None:\n",
      "  File \"c:\\users\\mert\\anaconda3\\envs\\ml_gpu\\lib\\inspect.py\", line 739, in getmodule\n",
      "    f = getabsfile(module)\n",
      "  File \"c:\\users\\mert\\anaconda3\\envs\\ml_gpu\\lib\\inspect.py\", line 708, in getabsfile\n",
      "    _filename = getsourcefile(object) or getfile(object)\n",
      "  File \"c:\\users\\mert\\anaconda3\\envs\\ml_gpu\\lib\\inspect.py\", line 693, in getsourcefile\n",
      "    if os.path.exists(filename):\n",
      "  File \"c:\\users\\mert\\anaconda3\\envs\\ml_gpu\\lib\\genericpath.py\", line 19, in exists\n",
      "    os.stat(path)\n",
      "KeyboardInterrupt\n"
     ]
    },
    {
     "ename": "KeyboardInterrupt",
     "evalue": "",
     "output_type": "error",
     "traceback": [
      "\u001b[1;31m---------------------------------------------------------------------------\u001b[0m"
     ]
    }
   ],
   "source": [
    "DECISION_THRESHOLD = 0.3\n",
    "scores_sum = 0\n",
    "run_count = 0\n",
    "gens_sum = 0\n",
    "gens_r_count = 0\n",
    "fakes_sum = 0\n",
    "fakes_r_count = 0\n",
    "randoms_sum = 0\n",
    "randoms_r_count = 0\n",
    "\n",
    "for fold in np.arange(0,10):\n",
    "    user_numbers = data_f['user_id'].unique()\n",
    "    np.random.shuffle(user_numbers)\n",
    "    dev_user_ids = user_numbers[0:531]\n",
    "    validation_user_ids = user_numbers[531:581]\n",
    "    exploitation_user_ids = user_numbers[581:]\n",
    "\n",
    "    dev_df = data_f.loc[data_f['user_id'].isin(dev_user_ids)]\n",
    "    dev_vf = visual_f.loc[dev_df.index]\n",
    "    val_df = data_f.loc[data_f['user_id'].isin(validation_user_ids)]\n",
    "    val_vf = visual_f.loc[val_df.index]\n",
    "    exp_df = data_f.loc[data_f['user_id'].isin(exploitation_user_ids)]\n",
    "    exp_vf = visual_f.loc[exp_df.index]\n",
    "\n",
    "    dev_df_gen = dev_df.loc[dev_df['fakeness']==0]\n",
    "    dev_df_fake = dev_df.loc[dev_df['fakeness']==1]\n",
    "    dev_df_gen_12 = dev_df_gen.loc[dev_df_gen['sig_id'].isin(np.arange(1,13))]\n",
    "    dev_df_valid_12 = dev_df_gen.loc[dev_df_gen['sig_id'].isin(np.arange(13,25))]\n",
    "\n",
    "    val_df_gen = val_df.loc[val_df['fakeness']==0]\n",
    "    val_df_fake = val_df.loc[val_df['fakeness']==1]\n",
    "    val_df_gen_12 = val_df_gen.loc[val_df_gen['sig_id'].isin(np.arange(1,13))]\n",
    "    val_df_valid_gen_12 = val_df_gen.loc[val_df_gen['sig_id'].isin(np.arange(13,25))]\n",
    "\n",
    "\n",
    "    for user_id in tqdm.tqdm(validation_user_ids, ascii=True):\n",
    "        clf = MLPClassifier(hidden_layer_sizes=(150,100,50),random_state=1923)\n",
    "        # gens_avg_error: 4.151515151515117 fakes_avg_error: 12.885750775406112 cumulative_avg_error: 8.518632963460615\n",
    "        y_train = y_train=(pd.concat([val_df_gen_12.loc[val_df_gen_12['user_id']==user_id],dev_df_gen]))['user_id']==user_id\n",
    "        X_train = visual_f.loc[y_train.index]  \n",
    "        clf.fit(X_train, y_train)\n",
    "\n",
    "        y_valid_fakes = val_df_fake.loc[(val_df_fake['user_id']==user_id)]\n",
    "        y_valid_f = len(y_valid_fakes.index)*[False]\n",
    "        X_valid_f = visual_f.loc[y_valid_fakes.index]\n",
    "        # score = accuracy_score(y_valid_f, (clf.predict(X_valid_f)))\n",
    "        score = accuracy_score(y_valid_f, (clf.predict_proba(X_valid_f)[:,1]> DECISION_THRESHOLD))\n",
    "        # score = clf.score(X_valid_f,y_valid_f)\n",
    "        fakes_sum += score\n",
    "        fakes_r_count += 1 \n",
    "        # print(score)\n",
    "        scores_sum += score\n",
    "        run_count += 1\n",
    "        y_valid_gens = val_df_valid_gen_12.loc[val_df_valid_gen_12['user_id']==user_id]\n",
    "        y_valid_g = len(y_valid_gens.index)*[True]\n",
    "        X_valid_g = visual_f.loc[y_valid_gens.index]\n",
    "        # score = accuracy_score(y_valid_g, (clf.predict(X_valid_g)))\n",
    "        score = accuracy_score(y_valid_g, (clf.predict_proba(X_valid_g)[:,1]> DECISION_THRESHOLD))\n",
    "        # score = clf.score(X_valid_g,y_valid_g)\n",
    "        gens_sum += score\n",
    "        gens_r_count += 1 \n",
    "        # print(score)\n",
    "        scores_sum += score\n",
    "        run_count += 1\n",
    "        '''\n",
    "        y_valid_rand_fakes = data_f_gen_valid_12.loc[choice(data_f_gen_valid_12.loc[data_f_gen_valid_12['user_id']!=user_id].index,10)]\n",
    "        y_valid_rf = len(y_valid_rand_fakes.index)*[False]\n",
    "        X_valid_rf = visual_f.loc[y_valid_rand_fakes.index]\n",
    "        score = clf.score(X_valid_rf,y_valid_rf)\n",
    "        randoms_sum += score\n",
    "        randoms_r_count += 1\n",
    "        '''\n",
    "        # print(score)\n",
    "        scores_sum += score\n",
    "        run_count += 1\n",
    "        # print(scores_sum/run_count)\n",
    "        print (\"gens_avg_error:\", 100*(1-(float(gens_sum)/gens_r_count)), \"fakes_avg_error:\", 100*(1-(float(fakes_sum)/fakes_r_count)), \n",
    "                \"cumulative_avg_error:\", 100*(1-((float(gens_sum)/gens_r_count)/2 + (float(fakes_sum)/fakes_r_count)/2)))"
   ]
  },
  {
   "cell_type": "code",
   "execution_count": null,
   "metadata": {},
   "outputs": [],
   "source": []
  }
 ],
 "metadata": {
  "kernelspec": {
   "display_name": "Python 3",
   "language": "python",
   "name": "python3"
  },
  "language_info": {
   "codemirror_mode": {
    "name": "ipython",
    "version": 3
   },
   "file_extension": ".py",
   "mimetype": "text/x-python",
   "name": "python",
   "nbconvert_exporter": "python",
   "pygments_lexer": "ipython3",
   "version": "3.7.3"
  }
 },
 "nbformat": 4,
 "nbformat_minor": 2
}
