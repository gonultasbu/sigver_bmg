{
 "cells": [
  {
   "cell_type": "code",
   "execution_count": 1,
   "metadata": {
    "scrolled": true
   },
   "outputs": [],
   "source": [
    "import scipy.io as sio\n",
    "from scipy.misc import imread\n",
    "from preprocess.normalize import preprocess_signature\n",
    "import tf_signet\n",
    "from tf_cnn_model import TF_CNNModel\n",
    "import tensorflow as tf\n",
    "import numpy as np\n",
    "import pandas as pd\n",
    "import sys\n",
    "import os\n",
    "import scipy.io\n",
    "from find_largest_image import find_largest\n",
    "import tqdm \n",
    "from sklearn.model_selection import train_test_split\n",
    "from sklearn.svm import SVC\n",
    "from xgboost import XGBClassifier\n",
    "import random\n",
    "from numpy.random import choice\n",
    "from sklearn.neural_network import MLPClassifier\n",
    "from sklearn.metrics import accuracy_score, roc_curve\n",
    "import sklearn.pipeline as pipeline\n",
    "import sklearn.preprocessing as preprocessing"
   ]
  },
  {
   "cell_type": "code",
   "execution_count": 2,
   "metadata": {},
   "outputs": [],
   "source": [
    "data_folder = 'C:\\\\Users\\\\Mert\\\\Documents\\\\GitHub\\\\sigver_bmg\\\\data\\\\downloaded_pp_features\\\\gpds_signet_f_all'"
   ]
  },
  {
   "cell_type": "code",
   "execution_count": null,
   "metadata": {},
   "outputs": [],
   "source": [
    "user_kernel = 'linear'"
   ]
  },
  {
   "cell_type": "code",
   "execution_count": 3,
   "metadata": {},
   "outputs": [],
   "source": [
    "data_f = pd.read_csv(os.path.join(data_folder,'data_features.csv'))\n",
    "visual_f = pd.read_csv(os.path.join(data_folder,'visual_features.csv'))"
   ]
  },
  {
   "cell_type": "markdown",
   "metadata": {},
   "source": [
    "# MODEL SELECTION & TRAINING"
   ]
  },
  {
   "cell_type": "code",
   "execution_count": null,
   "metadata": {},
   "outputs": [
    {
     "name": "stderr",
     "output_type": "stream",
     "text": [
      "100%|##################################################################################| 50/50 [01:41<00:00,  1.88s/it]\n",
      "100%|##################################################################################| 50/50 [01:33<00:00,  1.73s/it]\n",
      "100%|##################################################################################| 50/50 [01:42<00:00,  2.06s/it]\n",
      "100%|##################################################################################| 50/50 [01:37<00:00,  1.97s/it]\n",
      "100%|##################################################################################| 50/50 [01:39<00:00,  1.96s/it]\n",
      "100%|##################################################################################| 50/50 [01:37<00:00,  2.32s/it]\n",
      "100%|##################################################################################| 50/50 [01:42<00:00,  2.10s/it]\n",
      " 46%|#####################################7                                            | 23/50 [00:44<00:55,  2.05s/it]"
     ]
    }
   ],
   "source": [
    "fakes_preds = []\n",
    "gens_preds = []\n",
    "\n",
    "for fold in np.arange(0,10):\n",
    "    user_numbers = data_f['user_id'].unique()\n",
    "    np.random.shuffle(user_numbers)\n",
    "    dev_user_ids = user_numbers[0:531]\n",
    "    validation_user_ids = user_numbers[531:581]\n",
    "    exploitation_user_ids = user_numbers[581:]\n",
    "\n",
    "    dev_df = data_f.loc[data_f['user_id'].isin(dev_user_ids)]\n",
    "    dev_vf = visual_f.loc[dev_df.index]\n",
    "    val_df = data_f.loc[data_f['user_id'].isin(validation_user_ids)]\n",
    "    val_vf = visual_f.loc[val_df.index]\n",
    "    exp_df = data_f.loc[data_f['user_id'].isin(exploitation_user_ids)]\n",
    "    exp_vf = visual_f.loc[exp_df.index]\n",
    "\n",
    "    dev_df_gen = dev_df.loc[dev_df['fakeness']==0]\n",
    "    dev_df_fake = dev_df.loc[dev_df['fakeness']==1]\n",
    "    dev_df_gen_12 = dev_df_gen.loc[dev_df_gen['sig_id'].isin(np.arange(1,13))]\n",
    "    dev_df_valid_12 = dev_df_gen.loc[dev_df_gen['sig_id'].isin(np.arange(13,25))]\n",
    "    dev_df_gen_14 = dev_df_gen.loc[dev_df_gen['sig_id'].isin(np.arange(1,15))]\n",
    "    \n",
    "    val_df_gen = val_df.loc[val_df['fakeness']==0]\n",
    "    val_df_fake = val_df.loc[val_df['fakeness']==1]\n",
    "    val_df_gen_12 = val_df_gen.loc[val_df_gen['sig_id'].isin(np.arange(1,13))]\n",
    "    val_df_valid_gen_12 = val_df_gen.loc[val_df_gen['sig_id'].isin(np.arange(13,25))]\n",
    "\n",
    "\n",
    "    for user_id in tqdm.tqdm(validation_user_ids, ascii=True):\n",
    "        clf = SVC(C=1,gamma='scale',class_weight='balanced', probability=False, kernel=user_kernel, random_state=1923)\n",
    "        # clf = pipeline.Pipeline([('scaler', preprocessing.StandardScaler(with_mean=False)), ('classifier', orig_clf)])\n",
    "        y_train = (pd.concat([val_df_gen_12.loc[val_df_gen_12['user_id']==user_id],dev_df_gen.loc[dev_df_gen['user_id']!=user_id]]))['user_id']==user_id\n",
    "        X_train = visual_f.loc[y_train.index]  \n",
    "        clf.fit(X_train, y_train)\n",
    "        y_valid_fakes = val_df_fake.loc[(val_df_fake['user_id']==user_id)]\n",
    "        X_valid_f = visual_f.loc[y_valid_fakes.index]\n",
    "        fakes_preds.append(clf.decision_function(X_valid_f))\n",
    "        y_valid_gens = val_df_valid_gen_12.loc[val_df_valid_gen_12['user_id']==user_id]\n",
    "        X_valid_g = visual_f.loc[y_valid_gens.index]\n",
    "        gens_preds.append(clf.decision_function(X_valid_g))\n"
   ]
  },
  {
   "cell_type": "markdown",
   "metadata": {},
   "source": [
    "# GLOBAL THRESHOLD SELECTION"
   ]
  },
  {
   "cell_type": "code",
   "execution_count": null,
   "metadata": {},
   "outputs": [],
   "source": [
    "flat_fakes_preds = np.expand_dims(np.array([item for sublist in fakes_preds for item in sublist]),axis=1)\n",
    "flat_gens_preds = np.expand_dims(np.array([item for sublist in gens_preds for item in sublist]),axis=1)\n",
    "all_preds = np.vstack((flat_fakes_preds,flat_gens_preds))\n",
    "all_labels = np.vstack((np.zeros((flat_fakes_preds.shape[0],1)),np.ones((flat_gens_preds.shape[0],1))))\n",
    "\n",
    "fpr,tpr,threshold = roc_curve(all_labels,all_preds)\n",
    "fnr = 1 - tpr\n",
    "EER = fpr[np.nanargmin(np.absolute((fnr - fpr)))]\n",
    "eer_th = threshold[np.nanargmin(np.absolute((fnr - fpr)))]\n",
    "print('EER_glob : ', EER*100,'\\nEER_Threshold_glob : ', eer_th)"
   ]
  },
  {
   "cell_type": "code",
   "execution_count": null,
   "metadata": {},
   "outputs": [],
   "source": []
  }
 ],
 "metadata": {
  "kernelspec": {
   "display_name": "Python 3",
   "language": "python",
   "name": "python3"
  },
  "language_info": {
   "codemirror_mode": {
    "name": "ipython",
    "version": 3
   },
   "file_extension": ".py",
   "mimetype": "text/x-python",
   "name": "python",
   "nbconvert_exporter": "python",
   "pygments_lexer": "ipython3",
   "version": "3.7.3"
  }
 },
 "nbformat": 4,
 "nbformat_minor": 2
}
