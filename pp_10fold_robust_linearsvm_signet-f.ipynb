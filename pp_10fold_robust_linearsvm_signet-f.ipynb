{
 "cells": [
  {
   "cell_type": "code",
   "execution_count": 1,
   "metadata": {
    "scrolled": true
   },
   "outputs": [],
   "source": [
    "import scipy.io as sio\n",
    "from scipy.misc import imread\n",
    "from preprocess.normalize import preprocess_signature\n",
    "import tf_signet\n",
    "from tf_cnn_model import TF_CNNModel\n",
    "import tensorflow as tf\n",
    "import numpy as np\n",
    "import pandas as pd\n",
    "import sys\n",
    "import os\n",
    "import scipy.io\n",
    "from find_largest_image import find_largest\n",
    "import tqdm \n",
    "from sklearn.model_selection import train_test_split\n",
    "from sklearn.svm import SVC\n",
    "from xgboost import XGBClassifier\n",
    "import random\n",
    "from numpy.random import choice\n",
    "from sklearn.neural_network import MLPClassifier\n",
    "from sklearn.metrics import accuracy_score"
   ]
  },
  {
   "cell_type": "code",
   "execution_count": 2,
   "metadata": {},
   "outputs": [],
   "source": [
    "data_folder = 'C:\\\\Users\\\\Mert\\\\Documents\\\\GitHub\\\\sigver_bmg\\\\data\\\\downloaded_pp_features\\\\gpds_signet_f_all'"
   ]
  },
  {
   "cell_type": "code",
   "execution_count": 3,
   "metadata": {},
   "outputs": [],
   "source": [
    "data_f = pd.read_csv(os.path.join(data_folder,'data_features.csv'))\n",
    "visual_f = pd.read_csv(os.path.join(data_folder,'visual_features.csv'))"
   ]
  },
  {
   "cell_type": "code",
   "execution_count": null,
   "metadata": {},
   "outputs": [
    {
     "name": "stderr",
     "output_type": "stream",
     "text": [
      "\n",
      "  0%|                                                                                           | 0/50 [00:00<?, ?it/s]"
     ]
    },
    {
     "name": "stdout",
     "output_type": "stream",
     "text": [
      "gens_avg_error: 58.33333333333333 fakes_avg_error: 13.33333333333333 cumulative_avg_error: 35.83333333333333\n"
     ]
    },
    {
     "name": "stderr",
     "output_type": "stream",
     "text": [
      "\n",
      "  2%|#6                                                                                 | 1/50 [00:09<08:04,  9.90s/it]"
     ]
    },
    {
     "name": "stdout",
     "output_type": "stream",
     "text": [
      "gens_avg_error: 29.166666666666664 fakes_avg_error: 6.666666666666665 cumulative_avg_error: 17.91666666666667\n"
     ]
    },
    {
     "name": "stderr",
     "output_type": "stream",
     "text": [
      "\n",
      "  4%|###3                                                                               | 2/50 [00:20<08:00, 10.00s/it]"
     ]
    }
   ],
   "source": [
    "DECISION_THRESHOLD = 0.1\n",
    "scores_sum = 0\n",
    "run_count = 0\n",
    "gens_sum = 0\n",
    "gens_r_count = 0\n",
    "fakes_sum = 0\n",
    "fakes_r_count = 0\n",
    "randoms_sum = 0\n",
    "randoms_r_count = 0\n",
    "\n",
    "for fold in np.arange(0,11):\n",
    "    user_numbers = data_f['user_id'].unique()\n",
    "    np.random.shuffle(user_numbers)\n",
    "    dev_user_ids = user_numbers[0:531]\n",
    "    validation_user_ids = user_numbers[531:581]\n",
    "    exploitation_user_ids = user_numbers[581:]\n",
    "\n",
    "    dev_df = data_f.loc[data_f['user_id'].isin(dev_user_ids)]\n",
    "    dev_vf = visual_f.loc[dev_df.index]\n",
    "    val_df = data_f.loc[data_f['user_id'].isin(validation_user_ids)]\n",
    "    val_vf = visual_f.loc[val_df.index]\n",
    "    exp_df = data_f.loc[data_f['user_id'].isin(exploitation_user_ids)]\n",
    "    exp_vf = visual_f.loc[exp_df.index]\n",
    "\n",
    "    dev_df_gen = dev_df.loc[dev_df['fakeness']==0]\n",
    "    dev_df_fake = dev_df.loc[dev_df['fakeness']==1]\n",
    "    dev_df_gen_12 = dev_df_gen.loc[dev_df_gen['sig_id'].isin(np.arange(1,13))]\n",
    "    dev_df_valid_12 = dev_df_gen.loc[dev_df_gen['sig_id'].isin(np.arange(13,25))]\n",
    "\n",
    "    val_df_gen = val_df.loc[val_df['fakeness']==0]\n",
    "    val_df_fake = val_df.loc[val_df['fakeness']==1]\n",
    "    val_df_gen_12 = val_df_gen.loc[val_df_gen['sig_id'].isin(np.arange(1,13))]\n",
    "    val_df_valid_gen_12 = val_df_gen.loc[val_df_gen['sig_id'].isin(np.arange(13,25))]\n",
    "\n",
    "\n",
    "    for user_id in tqdm.tqdm(validation_user_ids, ascii=True):\n",
    "        clf = SVC(C=1,gamma='scale',class_weight='balanced', probability=True, kernel='linear', random_state=1923, cache_size=200) # gens avg: 0.9433333333333331 fakes_avg: 0.8593333333333333 cumulative_avg: 0.9013333333333332\n",
    "\n",
    "        y_train = y_train=(pd.concat([val_df_gen_12.loc[val_df_gen_12['user_id']==user_id],dev_df_gen]))['user_id']==user_id\n",
    "        X_train = visual_f.loc[y_train.index]  \n",
    "        clf.fit(X_train, y_train)\n",
    "\n",
    "        y_valid_fakes = val_df_fake.loc[(val_df_fake['user_id']==user_id)]\n",
    "        y_valid_f = len(y_valid_fakes.index)*[False]\n",
    "        X_valid_f = visual_f.loc[y_valid_fakes.index]\n",
    "        # score = accuracy_score(y_valid_f, (clf.predict(X_valid_f)))\n",
    "        score = accuracy_score(y_valid_f, (clf.predict_proba(X_valid_f)[:,1]> DECISION_THRESHOLD))\n",
    "        # score = clf.score(X_valid_f,y_valid_f)\n",
    "        fakes_sum += score\n",
    "        fakes_r_count += 1 \n",
    "        # print(score)\n",
    "        scores_sum += score\n",
    "        run_count += 1\n",
    "        y_valid_gens = val_df_valid_gen_12.loc[val_df_valid_gen_12['user_id']==user_id]\n",
    "        y_valid_g = len(y_valid_gens.index)*[True]\n",
    "        X_valid_g = visual_f.loc[y_valid_gens.index]\n",
    "        # score = accuracy_score(y_valid_g, (clf.predict(X_valid_g)))\n",
    "        score = accuracy_score(y_valid_g, (clf.predict_proba(X_valid_g)[:,1]> DECISION_THRESHOLD))\n",
    "        # score = clf.score(X_valid_g,y_valid_g)\n",
    "        gens_sum += score\n",
    "        gens_r_count += 1 \n",
    "        # print(score)\n",
    "        scores_sum += score\n",
    "        run_count += 1\n",
    "        '''\n",
    "        y_valid_rand_fakes = data_f_gen_valid_12.loc[choice(data_f_gen_valid_12.loc[data_f_gen_valid_12['user_id']!=user_id].index,10)]\n",
    "        y_valid_rf = len(y_valid_rand_fakes.index)*[False]\n",
    "        X_valid_rf = visual_f.loc[y_valid_rand_fakes.index]\n",
    "        score = clf.score(X_valid_rf,y_valid_rf)\n",
    "        randoms_sum += score\n",
    "        randoms_r_count += 1\n",
    "        '''\n",
    "        # print(score)\n",
    "        scores_sum += score\n",
    "        run_count += 1\n",
    "        # print(scores_sum/run_count)\n",
    "        print (\"gens_avg_error:\", 100*(1-(float(gens_sum)/gens_r_count)), \"fakes_avg_error:\", 100*(1-(float(fakes_sum)/fakes_r_count)), \n",
    "                \"cumulative_avg_error:\", 100*(1-((float(gens_sum)/gens_r_count)/2 + (float(fakes_sum)/fakes_r_count)/2)))"
   ]
  },
  {
   "cell_type": "code",
   "execution_count": null,
   "metadata": {},
   "outputs": [],
   "source": []
  }
 ],
 "metadata": {
  "kernelspec": {
   "display_name": "Python 3",
   "language": "python",
   "name": "python3"
  },
  "language_info": {
   "codemirror_mode": {
    "name": "ipython",
    "version": 3
   },
   "file_extension": ".py",
   "mimetype": "text/x-python",
   "name": "python",
   "nbconvert_exporter": "python",
   "pygments_lexer": "ipython3",
   "version": "3.7.3"
  }
 },
 "nbformat": 4,
 "nbformat_minor": 2
}
