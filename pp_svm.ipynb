{
 "cells": [
  {
   "cell_type": "code",
   "execution_count": 1,
   "metadata": {
    "scrolled": true
   },
   "outputs": [
    {
     "name": "stderr",
     "output_type": "stream",
     "text": [
      "c:\\users\\mert\\anaconda3\\envs\\ml_env\\lib\\site-packages\\dask\\config.py:168: YAMLLoadWarning: calling yaml.load() without Loader=... is deprecated, as the default Loader is unsafe. Please read https://msg.pyyaml.org/load for full details.\n",
      "  data = yaml.load(f.read()) or {}\n"
     ]
    }
   ],
   "source": [
    "import scipy.io as sio\n",
    "from scipy.misc import imread\n",
    "from preprocess.normalize import preprocess_signature\n",
    "import tf_signet\n",
    "from tf_cnn_model import TF_CNNModel\n",
    "import tensorflow as tf\n",
    "import numpy as np\n",
    "import pandas as pd\n",
    "import sys\n",
    "import os\n",
    "import scipy.io\n",
    "from find_largest_image import find_largest\n",
    "import tqdm \n",
    "from sklearn.model_selection import train_test_split\n",
    "from sklearn.svm import SVC\n",
    "from xgboost import XGBClassifier\n",
    "import random\n",
    "from numpy.random import choice"
   ]
  },
  {
   "cell_type": "code",
   "execution_count": 2,
   "metadata": {},
   "outputs": [],
   "source": [
    "data_folder = 'C:\\\\Users\\\\Mert\\\\Documents\\\\GitHub\\\\sigver_bmg\\\\data\\\\downloaded_pp_features\\\\gpds_signet\\\\exploitation'"
   ]
  },
  {
   "cell_type": "code",
   "execution_count": 3,
   "metadata": {},
   "outputs": [],
   "source": [
    "data_f=pd.read_csv(os.path.join(data_folder,'data_features.csv'))\n",
    "visual_f=pd.read_csv(os.path.join(data_folder,'visual_features.csv'))"
   ]
  },
  {
   "cell_type": "code",
   "execution_count": 4,
   "metadata": {},
   "outputs": [
    {
     "data": {
      "text/html": [
       "<div>\n",
       "<style scoped>\n",
       "    .dataframe tbody tr th:only-of-type {\n",
       "        vertical-align: middle;\n",
       "    }\n",
       "\n",
       "    .dataframe tbody tr th {\n",
       "        vertical-align: top;\n",
       "    }\n",
       "\n",
       "    .dataframe thead th {\n",
       "        text-align: right;\n",
       "    }\n",
       "</style>\n",
       "<table border=\"1\" class=\"dataframe\">\n",
       "  <thead>\n",
       "    <tr style=\"text-align: right;\">\n",
       "      <th></th>\n",
       "      <th>user_id</th>\n",
       "      <th>sig_id</th>\n",
       "      <th>fakeness</th>\n",
       "    </tr>\n",
       "  </thead>\n",
       "  <tbody>\n",
       "    <tr>\n",
       "      <th>0</th>\n",
       "      <td>100</td>\n",
       "      <td>1</td>\n",
       "      <td>True</td>\n",
       "    </tr>\n",
       "    <tr>\n",
       "      <th>1</th>\n",
       "      <td>100</td>\n",
       "      <td>2</td>\n",
       "      <td>True</td>\n",
       "    </tr>\n",
       "    <tr>\n",
       "      <th>2</th>\n",
       "      <td>100</td>\n",
       "      <td>3</td>\n",
       "      <td>True</td>\n",
       "    </tr>\n",
       "    <tr>\n",
       "      <th>3</th>\n",
       "      <td>100</td>\n",
       "      <td>4</td>\n",
       "      <td>True</td>\n",
       "    </tr>\n",
       "    <tr>\n",
       "      <th>4</th>\n",
       "      <td>100</td>\n",
       "      <td>5</td>\n",
       "      <td>True</td>\n",
       "    </tr>\n",
       "  </tbody>\n",
       "</table>\n",
       "</div>"
      ],
      "text/plain": [
       "   user_id  sig_id  fakeness\n",
       "0      100       1      True\n",
       "1      100       2      True\n",
       "2      100       3      True\n",
       "3      100       4      True\n",
       "4      100       5      True"
      ]
     },
     "execution_count": 4,
     "metadata": {},
     "output_type": "execute_result"
    }
   ],
   "source": [
    "data_f.head()"
   ]
  },
  {
   "cell_type": "code",
   "execution_count": 5,
   "metadata": {},
   "outputs": [
    {
     "data": {
      "text/html": [
       "<div>\n",
       "<style scoped>\n",
       "    .dataframe tbody tr th:only-of-type {\n",
       "        vertical-align: middle;\n",
       "    }\n",
       "\n",
       "    .dataframe tbody tr th {\n",
       "        vertical-align: top;\n",
       "    }\n",
       "\n",
       "    .dataframe thead th {\n",
       "        text-align: right;\n",
       "    }\n",
       "</style>\n",
       "<table border=\"1\" class=\"dataframe\">\n",
       "  <thead>\n",
       "    <tr style=\"text-align: right;\">\n",
       "      <th></th>\n",
       "      <th>0</th>\n",
       "      <th>1</th>\n",
       "      <th>2</th>\n",
       "      <th>3</th>\n",
       "      <th>4</th>\n",
       "      <th>5</th>\n",
       "      <th>6</th>\n",
       "      <th>7</th>\n",
       "      <th>8</th>\n",
       "      <th>9</th>\n",
       "      <th>...</th>\n",
       "      <th>2038</th>\n",
       "      <th>2039</th>\n",
       "      <th>2040</th>\n",
       "      <th>2041</th>\n",
       "      <th>2042</th>\n",
       "      <th>2043</th>\n",
       "      <th>2044</th>\n",
       "      <th>2045</th>\n",
       "      <th>2046</th>\n",
       "      <th>2047</th>\n",
       "    </tr>\n",
       "  </thead>\n",
       "  <tbody>\n",
       "    <tr>\n",
       "      <th>0</th>\n",
       "      <td>0.000000</td>\n",
       "      <td>0.515184</td>\n",
       "      <td>0.0</td>\n",
       "      <td>0.446658</td>\n",
       "      <td>0.000000</td>\n",
       "      <td>1.533631</td>\n",
       "      <td>0.000000</td>\n",
       "      <td>0.830734</td>\n",
       "      <td>0.000000</td>\n",
       "      <td>0.0</td>\n",
       "      <td>...</td>\n",
       "      <td>0.0</td>\n",
       "      <td>0.000000</td>\n",
       "      <td>0.000000</td>\n",
       "      <td>0.0</td>\n",
       "      <td>0.0</td>\n",
       "      <td>0.557626</td>\n",
       "      <td>2.271116</td>\n",
       "      <td>0.000000</td>\n",
       "      <td>0.000000</td>\n",
       "      <td>0.0</td>\n",
       "    </tr>\n",
       "    <tr>\n",
       "      <th>1</th>\n",
       "      <td>0.775465</td>\n",
       "      <td>0.491479</td>\n",
       "      <td>0.0</td>\n",
       "      <td>0.000000</td>\n",
       "      <td>0.000000</td>\n",
       "      <td>1.406079</td>\n",
       "      <td>0.000000</td>\n",
       "      <td>0.492579</td>\n",
       "      <td>0.000000</td>\n",
       "      <td>0.0</td>\n",
       "      <td>...</td>\n",
       "      <td>0.0</td>\n",
       "      <td>0.000000</td>\n",
       "      <td>0.000000</td>\n",
       "      <td>0.0</td>\n",
       "      <td>0.0</td>\n",
       "      <td>0.000000</td>\n",
       "      <td>1.852994</td>\n",
       "      <td>0.000000</td>\n",
       "      <td>0.114499</td>\n",
       "      <td>0.0</td>\n",
       "    </tr>\n",
       "    <tr>\n",
       "      <th>2</th>\n",
       "      <td>0.000000</td>\n",
       "      <td>0.000000</td>\n",
       "      <td>0.0</td>\n",
       "      <td>0.536446</td>\n",
       "      <td>0.000000</td>\n",
       "      <td>1.768807</td>\n",
       "      <td>0.000000</td>\n",
       "      <td>0.676527</td>\n",
       "      <td>0.000000</td>\n",
       "      <td>0.0</td>\n",
       "      <td>...</td>\n",
       "      <td>0.0</td>\n",
       "      <td>0.000000</td>\n",
       "      <td>0.000000</td>\n",
       "      <td>0.0</td>\n",
       "      <td>0.0</td>\n",
       "      <td>0.000000</td>\n",
       "      <td>2.392846</td>\n",
       "      <td>0.000000</td>\n",
       "      <td>0.226075</td>\n",
       "      <td>0.0</td>\n",
       "    </tr>\n",
       "    <tr>\n",
       "      <th>3</th>\n",
       "      <td>0.558339</td>\n",
       "      <td>0.000000</td>\n",
       "      <td>0.0</td>\n",
       "      <td>0.693711</td>\n",
       "      <td>0.166456</td>\n",
       "      <td>0.771811</td>\n",
       "      <td>0.643744</td>\n",
       "      <td>0.890198</td>\n",
       "      <td>1.242508</td>\n",
       "      <td>0.0</td>\n",
       "      <td>...</td>\n",
       "      <td>0.0</td>\n",
       "      <td>0.036022</td>\n",
       "      <td>0.000000</td>\n",
       "      <td>0.0</td>\n",
       "      <td>0.0</td>\n",
       "      <td>0.000000</td>\n",
       "      <td>1.391226</td>\n",
       "      <td>0.653054</td>\n",
       "      <td>0.000000</td>\n",
       "      <td>0.0</td>\n",
       "    </tr>\n",
       "    <tr>\n",
       "      <th>4</th>\n",
       "      <td>0.000000</td>\n",
       "      <td>0.000000</td>\n",
       "      <td>0.0</td>\n",
       "      <td>0.000000</td>\n",
       "      <td>0.000000</td>\n",
       "      <td>0.227453</td>\n",
       "      <td>1.312067</td>\n",
       "      <td>1.143076</td>\n",
       "      <td>1.002350</td>\n",
       "      <td>0.0</td>\n",
       "      <td>...</td>\n",
       "      <td>0.0</td>\n",
       "      <td>0.000000</td>\n",
       "      <td>0.067551</td>\n",
       "      <td>0.0</td>\n",
       "      <td>0.0</td>\n",
       "      <td>0.000000</td>\n",
       "      <td>0.892711</td>\n",
       "      <td>0.037287</td>\n",
       "      <td>0.196272</td>\n",
       "      <td>0.0</td>\n",
       "    </tr>\n",
       "  </tbody>\n",
       "</table>\n",
       "<p>5 rows × 2048 columns</p>\n",
       "</div>"
      ],
      "text/plain": [
       "          0         1    2         3         4         5         6         7  \\\n",
       "0  0.000000  0.515184  0.0  0.446658  0.000000  1.533631  0.000000  0.830734   \n",
       "1  0.775465  0.491479  0.0  0.000000  0.000000  1.406079  0.000000  0.492579   \n",
       "2  0.000000  0.000000  0.0  0.536446  0.000000  1.768807  0.000000  0.676527   \n",
       "3  0.558339  0.000000  0.0  0.693711  0.166456  0.771811  0.643744  0.890198   \n",
       "4  0.000000  0.000000  0.0  0.000000  0.000000  0.227453  1.312067  1.143076   \n",
       "\n",
       "          8    9  ...  2038      2039      2040  2041  2042      2043  \\\n",
       "0  0.000000  0.0  ...   0.0  0.000000  0.000000   0.0   0.0  0.557626   \n",
       "1  0.000000  0.0  ...   0.0  0.000000  0.000000   0.0   0.0  0.000000   \n",
       "2  0.000000  0.0  ...   0.0  0.000000  0.000000   0.0   0.0  0.000000   \n",
       "3  1.242508  0.0  ...   0.0  0.036022  0.000000   0.0   0.0  0.000000   \n",
       "4  1.002350  0.0  ...   0.0  0.000000  0.067551   0.0   0.0  0.000000   \n",
       "\n",
       "       2044      2045      2046  2047  \n",
       "0  2.271116  0.000000  0.000000   0.0  \n",
       "1  1.852994  0.000000  0.114499   0.0  \n",
       "2  2.392846  0.000000  0.226075   0.0  \n",
       "3  1.391226  0.653054  0.000000   0.0  \n",
       "4  0.892711  0.037287  0.196272   0.0  \n",
       "\n",
       "[5 rows x 2048 columns]"
      ]
     },
     "execution_count": 5,
     "metadata": {},
     "output_type": "execute_result"
    }
   ],
   "source": [
    "visual_f.head()"
   ]
  },
  {
   "cell_type": "code",
   "execution_count": 6,
   "metadata": {},
   "outputs": [],
   "source": [
    "data_f_gen = data_f.loc[data_f['fakeness']==False]\n",
    "data_f_fake = data_f.loc[data_f['fakeness']==True]\n",
    "data_f_gen_12 = data_f_gen.loc[data_f_gen['sig_id'].isin(np.arange(1,13))]\n",
    "data_f_gen_valid_12 = data_f_gen.loc[data_f_gen['sig_id'].isin(np.arange(13,25))]"
   ]
  },
  {
   "cell_type": "code",
   "execution_count": 13,
   "metadata": {},
   "outputs": [
    {
     "name": "stderr",
     "output_type": "stream",
     "text": [
      "100%|################################################################################| 300/300 [03:26<00:00,  1.60it/s]\n"
     ]
    },
    {
     "name": "stdout",
     "output_type": "stream",
     "text": [
      "0.9390376558024057\n"
     ]
    }
   ],
   "source": [
    "scores_sum = 0\n",
    "run_count = 0\n",
    "for user_id in tqdm.tqdm(data_f['user_id'].unique(), ascii=True):\n",
    "    y_train = data_f_gen_12['user_id']==user_id\n",
    "    X_train = visual_f.loc[y_train.index]\n",
    "    # clf = XGBClassifier(tree_method='gpu_hist',verbosity=2,predictor='gpu_predictor')\n",
    "    clf = SVC(class_weight='balanced', gamma='scale')\n",
    "    clf.fit(X_train, y_train)\n",
    "    y_valid_fakes = data_f_fake.loc[data_f_fake['user_id']==user_id]\n",
    "    y_valid = len(y_valid_fakes.index)*[False]\n",
    "    X_valid = visual_f.loc[y_valid_fakes.index]\n",
    "    score = clf.score(X_valid,y_valid)\n",
    "    # print(score)\n",
    "    scores_sum += score\n",
    "    run_count += 1\n",
    "    y_valid_gens = data_f_gen_valid_12.loc[data_f_gen_valid_12['user_id']==user_id]\n",
    "    y_valid = len(y_valid_gens.index)*[True]\n",
    "    X_valid = visual_f.loc[y_valid_gens.index]\n",
    "    score = clf.score(X_valid,y_valid)\n",
    "    # print(score)\n",
    "    scores_sum += score\n",
    "    run_count += 1\n",
    "    y_valid_rand_fakes = data_f_gen_valid_12.loc[choice(data_f_gen_valid_12.loc[data_f_gen_valid_12['user_id']!=user_id].index,10)]\n",
    "    y_valid = len(y_valid_rand_fakes.index)*[False]\n",
    "    X_valid = visual_f.loc[y_valid_rand_fakes.index]\n",
    "    score = clf.score(X_valid,y_valid)\n",
    "    # print(score)\n",
    "    scores_sum += score\n",
    "    run_count += 1\n",
    "    # print(scores_sum/run_count)\n",
    "print(scores_sum/run_count)"
   ]
  },
  {
   "cell_type": "code",
   "execution_count": 8,
   "metadata": {},
   "outputs": [
    {
     "data": {
      "text/plain": [
       "\"\\ny_valid_fakes = data_f_fake.loc[data_f_fake['user_id']==user_id]\\ny_valid = len(y_valid_fakes.index)*[False]\\nX_valid = visual_f.loc[y_valid_fakes.index]\\n\""
      ]
     },
     "execution_count": 8,
     "metadata": {},
     "output_type": "execute_result"
    }
   ],
   "source": [
    "'''\n",
    "y_valid_fakes = data_f_fake.loc[data_f_fake['user_id']==user_id]\n",
    "y_valid = len(y_valid_fakes.index)*[False]\n",
    "X_valid = visual_f.loc[y_valid_fakes.index]\n",
    "'''"
   ]
  },
  {
   "cell_type": "code",
   "execution_count": 9,
   "metadata": {},
   "outputs": [],
   "source": [
    "# X_train"
   ]
  },
  {
   "cell_type": "code",
   "execution_count": null,
   "metadata": {},
   "outputs": [],
   "source": []
  }
 ],
 "metadata": {
  "kernelspec": {
   "display_name": "Python 3",
   "language": "python",
   "name": "python3"
  },
  "language_info": {
   "codemirror_mode": {
    "name": "ipython",
    "version": 3
   },
   "file_extension": ".py",
   "mimetype": "text/x-python",
   "name": "python",
   "nbconvert_exporter": "python",
   "pygments_lexer": "ipython3",
   "version": "3.6.8"
  }
 },
 "nbformat": 4,
 "nbformat_minor": 2
}
