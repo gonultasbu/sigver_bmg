{
 "cells": [
  {
   "cell_type": "code",
   "execution_count": 1,
   "metadata": {
    "scrolled": true
   },
   "outputs": [],
   "source": [
    "import scipy.io as sio\n",
    "from scipy.misc import imread\n",
    "from preprocess.normalize import preprocess_signature\n",
    "import tf_signet\n",
    "from tf_cnn_model import TF_CNNModel\n",
    "import tensorflow as tf\n",
    "import numpy as np\n",
    "import pandas as pd\n",
    "import sys\n",
    "import os\n",
    "import scipy.io\n",
    "from find_largest_image import find_largest\n",
    "import tqdm \n",
    "from sklearn.model_selection import train_test_split\n",
    "from sklearn.svm import SVC\n",
    "from xgboost import XGBClassifier\n",
    "import random\n",
    "from numpy.random import choice\n",
    "from sklearn.metrics import accuracy_score\n",
    "from sklearn.neural_network import MLPClassifier"
   ]
  },
  {
   "cell_type": "code",
   "execution_count": 2,
   "metadata": {},
   "outputs": [],
   "source": [
    "data_folder = 'C:\\\\Users\\\\Mert\\\\Documents\\\\GitHub\\\\sigver_bmg\\\\data\\\\downloaded_pp_features\\\\gpds_signet_f\\\\validation'"
   ]
  },
  {
   "cell_type": "code",
   "execution_count": 3,
   "metadata": {},
   "outputs": [],
   "source": [
    "data_f=pd.read_csv(os.path.join(data_folder,'data_features.csv'))\n",
    "visual_f=pd.read_csv(os.path.join(data_folder,'visual_features.csv'))"
   ]
  },
  {
   "cell_type": "code",
   "execution_count": 4,
   "metadata": {},
   "outputs": [
    {
     "data": {
      "text/html": [
       "<div>\n",
       "<style scoped>\n",
       "    .dataframe tbody tr th:only-of-type {\n",
       "        vertical-align: middle;\n",
       "    }\n",
       "\n",
       "    .dataframe tbody tr th {\n",
       "        vertical-align: top;\n",
       "    }\n",
       "\n",
       "    .dataframe thead th {\n",
       "        text-align: right;\n",
       "    }\n",
       "</style>\n",
       "<table border=\"1\" class=\"dataframe\">\n",
       "  <thead>\n",
       "    <tr style=\"text-align: right;\">\n",
       "      <th></th>\n",
       "      <th>user_id</th>\n",
       "      <th>sig_id</th>\n",
       "      <th>fakeness</th>\n",
       "    </tr>\n",
       "  </thead>\n",
       "  <tbody>\n",
       "    <tr>\n",
       "      <th>0</th>\n",
       "      <td>352</td>\n",
       "      <td>1</td>\n",
       "      <td>True</td>\n",
       "    </tr>\n",
       "    <tr>\n",
       "      <th>1</th>\n",
       "      <td>352</td>\n",
       "      <td>2</td>\n",
       "      <td>True</td>\n",
       "    </tr>\n",
       "    <tr>\n",
       "      <th>2</th>\n",
       "      <td>352</td>\n",
       "      <td>3</td>\n",
       "      <td>True</td>\n",
       "    </tr>\n",
       "    <tr>\n",
       "      <th>3</th>\n",
       "      <td>352</td>\n",
       "      <td>4</td>\n",
       "      <td>True</td>\n",
       "    </tr>\n",
       "    <tr>\n",
       "      <th>4</th>\n",
       "      <td>352</td>\n",
       "      <td>5</td>\n",
       "      <td>True</td>\n",
       "    </tr>\n",
       "  </tbody>\n",
       "</table>\n",
       "</div>"
      ],
      "text/plain": [
       "   user_id  sig_id  fakeness\n",
       "0      352       1      True\n",
       "1      352       2      True\n",
       "2      352       3      True\n",
       "3      352       4      True\n",
       "4      352       5      True"
      ]
     },
     "execution_count": 4,
     "metadata": {},
     "output_type": "execute_result"
    }
   ],
   "source": [
    "data_f.head()"
   ]
  },
  {
   "cell_type": "code",
   "execution_count": 5,
   "metadata": {},
   "outputs": [
    {
     "data": {
      "text/html": [
       "<div>\n",
       "<style scoped>\n",
       "    .dataframe tbody tr th:only-of-type {\n",
       "        vertical-align: middle;\n",
       "    }\n",
       "\n",
       "    .dataframe tbody tr th {\n",
       "        vertical-align: top;\n",
       "    }\n",
       "\n",
       "    .dataframe thead th {\n",
       "        text-align: right;\n",
       "    }\n",
       "</style>\n",
       "<table border=\"1\" class=\"dataframe\">\n",
       "  <thead>\n",
       "    <tr style=\"text-align: right;\">\n",
       "      <th></th>\n",
       "      <th>0</th>\n",
       "      <th>1</th>\n",
       "      <th>2</th>\n",
       "      <th>3</th>\n",
       "      <th>4</th>\n",
       "      <th>5</th>\n",
       "      <th>6</th>\n",
       "      <th>7</th>\n",
       "      <th>8</th>\n",
       "      <th>9</th>\n",
       "      <th>...</th>\n",
       "      <th>2038</th>\n",
       "      <th>2039</th>\n",
       "      <th>2040</th>\n",
       "      <th>2041</th>\n",
       "      <th>2042</th>\n",
       "      <th>2043</th>\n",
       "      <th>2044</th>\n",
       "      <th>2045</th>\n",
       "      <th>2046</th>\n",
       "      <th>2047</th>\n",
       "    </tr>\n",
       "  </thead>\n",
       "  <tbody>\n",
       "    <tr>\n",
       "      <th>0</th>\n",
       "      <td>0.492046</td>\n",
       "      <td>0.000000</td>\n",
       "      <td>0.262247</td>\n",
       "      <td>0.000000</td>\n",
       "      <td>0.000000</td>\n",
       "      <td>0.0</td>\n",
       "      <td>0.887893</td>\n",
       "      <td>0.0</td>\n",
       "      <td>0.0</td>\n",
       "      <td>0.000000</td>\n",
       "      <td>...</td>\n",
       "      <td>1.213698</td>\n",
       "      <td>0.000000</td>\n",
       "      <td>0.000000</td>\n",
       "      <td>0.350542</td>\n",
       "      <td>0.000000</td>\n",
       "      <td>0.022946</td>\n",
       "      <td>0.685446</td>\n",
       "      <td>0.515102</td>\n",
       "      <td>0.000000</td>\n",
       "      <td>2.431604</td>\n",
       "    </tr>\n",
       "    <tr>\n",
       "      <th>1</th>\n",
       "      <td>0.462773</td>\n",
       "      <td>0.158136</td>\n",
       "      <td>0.000000</td>\n",
       "      <td>0.000000</td>\n",
       "      <td>0.354178</td>\n",
       "      <td>0.0</td>\n",
       "      <td>0.154205</td>\n",
       "      <td>0.0</td>\n",
       "      <td>0.0</td>\n",
       "      <td>0.000000</td>\n",
       "      <td>...</td>\n",
       "      <td>0.815964</td>\n",
       "      <td>0.000000</td>\n",
       "      <td>0.000000</td>\n",
       "      <td>0.229273</td>\n",
       "      <td>0.145647</td>\n",
       "      <td>0.139663</td>\n",
       "      <td>0.616705</td>\n",
       "      <td>0.079669</td>\n",
       "      <td>0.000000</td>\n",
       "      <td>1.367158</td>\n",
       "    </tr>\n",
       "    <tr>\n",
       "      <th>2</th>\n",
       "      <td>0.000000</td>\n",
       "      <td>0.214853</td>\n",
       "      <td>0.000000</td>\n",
       "      <td>0.210621</td>\n",
       "      <td>0.000000</td>\n",
       "      <td>0.0</td>\n",
       "      <td>0.667727</td>\n",
       "      <td>0.0</td>\n",
       "      <td>0.0</td>\n",
       "      <td>0.754772</td>\n",
       "      <td>...</td>\n",
       "      <td>0.878875</td>\n",
       "      <td>0.000000</td>\n",
       "      <td>0.000000</td>\n",
       "      <td>0.086916</td>\n",
       "      <td>0.671329</td>\n",
       "      <td>0.000000</td>\n",
       "      <td>0.993817</td>\n",
       "      <td>1.146683</td>\n",
       "      <td>0.000000</td>\n",
       "      <td>0.858650</td>\n",
       "    </tr>\n",
       "    <tr>\n",
       "      <th>3</th>\n",
       "      <td>0.000000</td>\n",
       "      <td>0.263884</td>\n",
       "      <td>0.000000</td>\n",
       "      <td>0.000000</td>\n",
       "      <td>0.964106</td>\n",
       "      <td>0.0</td>\n",
       "      <td>0.360634</td>\n",
       "      <td>0.0</td>\n",
       "      <td>0.0</td>\n",
       "      <td>0.000000</td>\n",
       "      <td>...</td>\n",
       "      <td>0.514347</td>\n",
       "      <td>0.171412</td>\n",
       "      <td>0.057328</td>\n",
       "      <td>1.145879</td>\n",
       "      <td>0.000000</td>\n",
       "      <td>0.000000</td>\n",
       "      <td>0.062078</td>\n",
       "      <td>0.152515</td>\n",
       "      <td>0.000000</td>\n",
       "      <td>0.573888</td>\n",
       "    </tr>\n",
       "    <tr>\n",
       "      <th>4</th>\n",
       "      <td>0.000000</td>\n",
       "      <td>0.608160</td>\n",
       "      <td>0.000000</td>\n",
       "      <td>0.000000</td>\n",
       "      <td>0.588335</td>\n",
       "      <td>0.0</td>\n",
       "      <td>0.000000</td>\n",
       "      <td>0.0</td>\n",
       "      <td>0.0</td>\n",
       "      <td>0.000000</td>\n",
       "      <td>...</td>\n",
       "      <td>0.649497</td>\n",
       "      <td>0.607849</td>\n",
       "      <td>0.051503</td>\n",
       "      <td>0.731876</td>\n",
       "      <td>0.000000</td>\n",
       "      <td>0.000000</td>\n",
       "      <td>0.456680</td>\n",
       "      <td>0.713516</td>\n",
       "      <td>0.237488</td>\n",
       "      <td>0.063648</td>\n",
       "    </tr>\n",
       "  </tbody>\n",
       "</table>\n",
       "<p>5 rows × 2048 columns</p>\n",
       "</div>"
      ],
      "text/plain": [
       "          0         1         2         3         4    5         6    7    8  \\\n",
       "0  0.492046  0.000000  0.262247  0.000000  0.000000  0.0  0.887893  0.0  0.0   \n",
       "1  0.462773  0.158136  0.000000  0.000000  0.354178  0.0  0.154205  0.0  0.0   \n",
       "2  0.000000  0.214853  0.000000  0.210621  0.000000  0.0  0.667727  0.0  0.0   \n",
       "3  0.000000  0.263884  0.000000  0.000000  0.964106  0.0  0.360634  0.0  0.0   \n",
       "4  0.000000  0.608160  0.000000  0.000000  0.588335  0.0  0.000000  0.0  0.0   \n",
       "\n",
       "          9  ...      2038      2039      2040      2041      2042      2043  \\\n",
       "0  0.000000  ...  1.213698  0.000000  0.000000  0.350542  0.000000  0.022946   \n",
       "1  0.000000  ...  0.815964  0.000000  0.000000  0.229273  0.145647  0.139663   \n",
       "2  0.754772  ...  0.878875  0.000000  0.000000  0.086916  0.671329  0.000000   \n",
       "3  0.000000  ...  0.514347  0.171412  0.057328  1.145879  0.000000  0.000000   \n",
       "4  0.000000  ...  0.649497  0.607849  0.051503  0.731876  0.000000  0.000000   \n",
       "\n",
       "       2044      2045      2046      2047  \n",
       "0  0.685446  0.515102  0.000000  2.431604  \n",
       "1  0.616705  0.079669  0.000000  1.367158  \n",
       "2  0.993817  1.146683  0.000000  0.858650  \n",
       "3  0.062078  0.152515  0.000000  0.573888  \n",
       "4  0.456680  0.713516  0.237488  0.063648  \n",
       "\n",
       "[5 rows x 2048 columns]"
      ]
     },
     "execution_count": 5,
     "metadata": {},
     "output_type": "execute_result"
    }
   ],
   "source": [
    "visual_f.head()"
   ]
  },
  {
   "cell_type": "code",
   "execution_count": 6,
   "metadata": {},
   "outputs": [],
   "source": [
    "data_f_gen = data_f.loc[data_f['fakeness']==False]\n",
    "data_f_fake = data_f.loc[data_f['fakeness']==True]\n",
    "data_f_gen_12 = data_f_gen.loc[data_f_gen['sig_id'].isin(np.arange(1,13))]\n",
    "data_f_gen_valid_12 = data_f_gen.loc[data_f_gen['sig_id'].isin(np.arange(13,23))] # TODO is actually 10, fix"
   ]
  },
  {
   "cell_type": "code",
   "execution_count": 12,
   "metadata": {},
   "outputs": [
    {
     "name": "stderr",
     "output_type": "stream",
     "text": [
      "\r",
      "  0%|                                                                                           | 0/50 [00:00<?, ?it/s]"
     ]
    },
    {
     "name": "stdout",
     "output_type": "stream",
     "text": [
      "gens avg: 1.0 fakes_avg: 1.0 rand_avg 1.0 cumulative_avg: 1.0\n"
     ]
    },
    {
     "name": "stderr",
     "output_type": "stream",
     "text": [
      "\r",
      "  2%|#6                                                                                 | 1/50 [00:01<01:05,  1.34s/it]"
     ]
    },
    {
     "name": "stdout",
     "output_type": "stream",
     "text": [
      "gens avg: 1.0 fakes_avg: 0.95 rand_avg 1.0 cumulative_avg: 0.9833333333333332\n"
     ]
    },
    {
     "name": "stderr",
     "output_type": "stream",
     "text": [
      "\r",
      "  4%|###3                                                                               | 2/50 [00:02<01:03,  1.32s/it]"
     ]
    },
    {
     "name": "stdout",
     "output_type": "stream",
     "text": [
      "gens avg: 1.0 fakes_avg: 0.9666666666666667 rand_avg 1.0 cumulative_avg: 0.9888888888888889\n"
     ]
    },
    {
     "name": "stderr",
     "output_type": "stream",
     "text": [
      "\r",
      "  6%|####9                                                                              | 3/50 [00:03<01:02,  1.32s/it]"
     ]
    },
    {
     "name": "stdout",
     "output_type": "stream",
     "text": [
      "gens avg: 0.925 fakes_avg: 0.975 rand_avg 1.0 cumulative_avg: 0.9666666666666666\n"
     ]
    },
    {
     "name": "stderr",
     "output_type": "stream",
     "text": [
      "\r",
      "  8%|######6                                                                            | 4/50 [00:05<01:01,  1.33s/it]"
     ]
    },
    {
     "name": "stdout",
     "output_type": "stream",
     "text": [
      "gens avg: 0.9400000000000001 fakes_avg: 0.9800000000000001 rand_avg 1.0 cumulative_avg: 0.9733333333333334\n"
     ]
    },
    {
     "name": "stderr",
     "output_type": "stream",
     "text": [
      "\r",
      " 10%|########3                                                                          | 5/50 [00:06<01:00,  1.34s/it]"
     ]
    },
    {
     "name": "stdout",
     "output_type": "stream",
     "text": [
      "gens avg: 0.9500000000000001 fakes_avg: 0.9500000000000001 rand_avg 1.0 cumulative_avg: 0.9666666666666668\n"
     ]
    },
    {
     "name": "stderr",
     "output_type": "stream",
     "text": [
      "\r",
      " 12%|#########9                                                                         | 6/50 [00:08<00:59,  1.36s/it]"
     ]
    },
    {
     "name": "stdout",
     "output_type": "stream",
     "text": [
      "gens avg: 0.9571428571428572 fakes_avg: 0.942857142857143 rand_avg 1.0 cumulative_avg: 0.9666666666666668\n"
     ]
    },
    {
     "name": "stderr",
     "output_type": "stream",
     "text": [
      "\r",
      " 14%|###########6                                                                       | 7/50 [00:09<00:59,  1.39s/it]"
     ]
    },
    {
     "name": "stdout",
     "output_type": "stream",
     "text": [
      "gens avg: 0.9625 fakes_avg: 0.9500000000000001 rand_avg 1.0 cumulative_avg: 0.9708333333333334\n"
     ]
    },
    {
     "name": "stderr",
     "output_type": "stream",
     "text": [
      "\r",
      " 16%|#############2                                                                     | 8/50 [00:10<00:58,  1.38s/it]"
     ]
    },
    {
     "name": "stdout",
     "output_type": "stream",
     "text": [
      "gens avg: 0.9222222222222223 fakes_avg: 0.9555555555555557 rand_avg 1.0 cumulative_avg: 0.9592592592592593\n"
     ]
    },
    {
     "name": "stderr",
     "output_type": "stream",
     "text": [
      "\r",
      " 18%|##############9                                                                    | 9/50 [00:12<00:59,  1.45s/it]"
     ]
    },
    {
     "name": "stdout",
     "output_type": "stream",
     "text": [
      "gens avg: 0.8800000000000001 fakes_avg: 0.9600000000000002 rand_avg 1.0 cumulative_avg: 0.9466666666666668\n"
     ]
    },
    {
     "name": "stderr",
     "output_type": "stream",
     "text": [
      "\r",
      " 20%|################4                                                                 | 10/50 [00:14<00:59,  1.48s/it]"
     ]
    },
    {
     "name": "stdout",
     "output_type": "stream",
     "text": [
      "gens avg: 0.881818181818182 fakes_avg: 0.9636363636363637 rand_avg 1.0 cumulative_avg: 0.9484848484848485\n"
     ]
    },
    {
     "name": "stderr",
     "output_type": "stream",
     "text": [
      "\r",
      " 22%|##################                                                                | 11/50 [00:15<00:57,  1.47s/it]"
     ]
    },
    {
     "name": "stdout",
     "output_type": "stream",
     "text": [
      "gens avg: 0.8916666666666667 fakes_avg: 0.9416666666666668 rand_avg 1.0 cumulative_avg: 0.9444444444444444\n"
     ]
    },
    {
     "name": "stderr",
     "output_type": "stream",
     "text": [
      "\r",
      " 24%|###################6                                                              | 12/50 [00:16<00:54,  1.43s/it]"
     ]
    },
    {
     "name": "stdout",
     "output_type": "stream",
     "text": [
      "gens avg: 0.9000000000000001 fakes_avg: 0.9461538461538462 rand_avg 1.0 cumulative_avg: 0.9487179487179487\n"
     ]
    },
    {
     "name": "stderr",
     "output_type": "stream",
     "text": [
      "\r",
      " 26%|#####################3                                                            | 13/50 [00:18<00:52,  1.41s/it]"
     ]
    },
    {
     "name": "stdout",
     "output_type": "stream",
     "text": [
      "gens avg: 0.9000000000000001 fakes_avg: 0.9500000000000001 rand_avg 1.0 cumulative_avg: 0.95\n"
     ]
    },
    {
     "name": "stderr",
     "output_type": "stream",
     "text": [
      "\r",
      " 28%|######################9                                                           | 14/50 [00:19<00:50,  1.41s/it]"
     ]
    },
    {
     "name": "stdout",
     "output_type": "stream",
     "text": [
      "gens avg: 0.9000000000000001 fakes_avg: 0.9466666666666668 rand_avg 1.0 cumulative_avg: 0.9488888888888889\n"
     ]
    },
    {
     "name": "stderr",
     "output_type": "stream",
     "text": [
      "\r",
      " 30%|########################5                                                         | 15/50 [00:20<00:48,  1.40s/it]"
     ]
    },
    {
     "name": "stdout",
     "output_type": "stream",
     "text": [
      "gens avg: 0.8750000000000001 fakes_avg: 0.9500000000000001 rand_avg 1.0 cumulative_avg: 0.9416666666666667\n"
     ]
    },
    {
     "name": "stderr",
     "output_type": "stream",
     "text": [
      "\r",
      " 32%|##########################2                                                       | 16/50 [00:22<00:46,  1.35s/it]"
     ]
    },
    {
     "name": "stdout",
     "output_type": "stream",
     "text": [
      "gens avg: 0.8823529411764707 fakes_avg: 0.9529411764705884 rand_avg 1.0 cumulative_avg: 0.9450980392156862\n"
     ]
    },
    {
     "name": "stderr",
     "output_type": "stream",
     "text": [
      "\r",
      " 34%|###########################8                                                      | 17/50 [00:24<00:49,  1.50s/it]"
     ]
    },
    {
     "name": "stdout",
     "output_type": "stream",
     "text": [
      "gens avg: 0.8888888888888888 fakes_avg: 0.9555555555555557 rand_avg 1.0 cumulative_avg: 0.9481481481481482\n"
     ]
    },
    {
     "name": "stderr",
     "output_type": "stream",
     "text": [
      "\r",
      " 36%|#############################5                                                    | 18/50 [00:25<00:45,  1.42s/it]"
     ]
    },
    {
     "name": "stdout",
     "output_type": "stream",
     "text": [
      "gens avg: 0.8947368421052632 fakes_avg: 0.9526315789473685 rand_avg 1.0 cumulative_avg: 0.9491228070175439\n"
     ]
    },
    {
     "name": "stderr",
     "output_type": "stream",
     "text": [
      "\r",
      " 38%|###############################1                                                  | 19/50 [00:26<00:43,  1.41s/it]"
     ]
    },
    {
     "name": "stdout",
     "output_type": "stream",
     "text": [
      "gens avg: 0.8699999999999999 fakes_avg: 0.9450000000000001 rand_avg 1.0 cumulative_avg: 0.9383333333333332\n"
     ]
    },
    {
     "name": "stderr",
     "output_type": "stream",
     "text": [
      "\r",
      " 40%|################################8                                                 | 20/50 [00:28<00:42,  1.42s/it]"
     ]
    },
    {
     "name": "stdout",
     "output_type": "stream",
     "text": [
      "gens avg: 0.8714285714285713 fakes_avg: 0.9428571428571428 rand_avg 1.0 cumulative_avg: 0.9380952380952381\n"
     ]
    },
    {
     "name": "stderr",
     "output_type": "stream",
     "text": [
      "\r",
      " 42%|##################################4                                               | 21/50 [00:29<00:39,  1.36s/it]"
     ]
    },
    {
     "name": "stdout",
     "output_type": "stream",
     "text": [
      "gens avg: 0.8772727272727271 fakes_avg: 0.9454545454545454 rand_avg 1.0 cumulative_avg: 0.9409090909090907\n"
     ]
    },
    {
     "name": "stderr",
     "output_type": "stream",
     "text": [
      "\r",
      " 44%|####################################                                              | 22/50 [00:30<00:37,  1.35s/it]"
     ]
    },
    {
     "name": "stdout",
     "output_type": "stream",
     "text": [
      "gens avg: 0.8782608695652172 fakes_avg: 0.9478260869565218 rand_avg 1.0 cumulative_avg: 0.9420289855072463\n"
     ]
    },
    {
     "name": "stderr",
     "output_type": "stream",
     "text": [
      "\r",
      " 46%|#####################################7                                            | 23/50 [00:32<00:37,  1.37s/it]"
     ]
    },
    {
     "name": "stdout",
     "output_type": "stream",
     "text": [
      "gens avg: 0.8833333333333332 fakes_avg: 0.9500000000000001 rand_avg 1.0 cumulative_avg: 0.9444444444444444\n"
     ]
    },
    {
     "name": "stderr",
     "output_type": "stream",
     "text": [
      "\r",
      " 48%|#######################################3                                          | 24/50 [00:33<00:36,  1.40s/it]"
     ]
    },
    {
     "name": "stdout",
     "output_type": "stream",
     "text": [
      "gens avg: 0.8879999999999998 fakes_avg: 0.924 rand_avg 1.0 cumulative_avg: 0.9373333333333331\n"
     ]
    },
    {
     "name": "stderr",
     "output_type": "stream",
     "text": [
      "\r",
      " 50%|#########################################                                         | 25/50 [00:34<00:34,  1.37s/it]"
     ]
    },
    {
     "name": "stdout",
     "output_type": "stream",
     "text": [
      "gens avg: 0.8923076923076921 fakes_avg: 0.926923076923077 rand_avg 1.0 cumulative_avg: 0.9397435897435897\n"
     ]
    },
    {
     "name": "stderr",
     "output_type": "stream",
     "text": [
      "\r",
      " 52%|##########################################6                                       | 26/50 [00:36<00:32,  1.35s/it]"
     ]
    },
    {
     "name": "stdout",
     "output_type": "stream",
     "text": [
      "gens avg: 0.8962962962962961 fakes_avg: 0.9296296296296297 rand_avg 1.0 cumulative_avg: 0.9419753086419753\n"
     ]
    },
    {
     "name": "stderr",
     "output_type": "stream",
     "text": [
      "\r",
      " 54%|############################################2                                     | 27/50 [00:37<00:31,  1.35s/it]"
     ]
    },
    {
     "name": "stdout",
     "output_type": "stream",
     "text": [
      "gens avg: 0.8999999999999998 fakes_avg: 0.9214285714285715 rand_avg 1.0 cumulative_avg: 0.9404761904761905\n"
     ]
    },
    {
     "name": "stderr",
     "output_type": "stream",
     "text": [
      "\r",
      " 56%|#############################################9                                    | 28/50 [00:38<00:29,  1.36s/it]"
     ]
    },
    {
     "name": "stdout",
     "output_type": "stream",
     "text": [
      "gens avg: 0.9034482758620688 fakes_avg: 0.9 rand_avg 1.0 cumulative_avg: 0.9344827586206896\n"
     ]
    },
    {
     "name": "stderr",
     "output_type": "stream",
     "text": [
      "\r",
      " 58%|###############################################5                                  | 29/50 [00:40<00:28,  1.35s/it]"
     ]
    },
    {
     "name": "stdout",
     "output_type": "stream",
     "text": [
      "gens avg: 0.8966666666666665 fakes_avg: 0.9033333333333334 rand_avg 1.0 cumulative_avg: 0.9333333333333333\n"
     ]
    },
    {
     "name": "stderr",
     "output_type": "stream",
     "text": [
      "\r",
      " 60%|#################################################1                                | 30/50 [00:41<00:27,  1.36s/it]"
     ]
    },
    {
     "name": "stdout",
     "output_type": "stream",
     "text": [
      "gens avg: 0.8999999999999998 fakes_avg: 0.9064516129032258 rand_avg 1.0 cumulative_avg: 0.9354838709677418\n"
     ]
    },
    {
     "name": "stderr",
     "output_type": "stream",
     "text": [
      "\r",
      " 62%|##################################################8                               | 31/50 [00:42<00:25,  1.34s/it]"
     ]
    },
    {
     "name": "stdout",
     "output_type": "stream",
     "text": [
      "gens avg: 0.9031249999999998 fakes_avg: 0.909375 rand_avg 1.0 cumulative_avg: 0.9375\n"
     ]
    },
    {
     "name": "stderr",
     "output_type": "stream",
     "text": [
      "\r",
      " 64%|####################################################4                             | 32/50 [00:44<00:23,  1.30s/it]"
     ]
    },
    {
     "name": "stdout",
     "output_type": "stream",
     "text": [
      "gens avg: 0.8969696969696968 fakes_avg: 0.9090909090909091 rand_avg 1.0 cumulative_avg: 0.9353535353535352\n"
     ]
    },
    {
     "name": "stderr",
     "output_type": "stream",
     "text": [
      "\r",
      " 66%|######################################################1                           | 33/50 [00:45<00:22,  1.35s/it]"
     ]
    },
    {
     "name": "stdout",
     "output_type": "stream",
     "text": [
      "gens avg: 0.8941176470588234 fakes_avg: 0.9117647058823529 rand_avg 1.0 cumulative_avg: 0.9352941176470586\n"
     ]
    },
    {
     "name": "stderr",
     "output_type": "stream",
     "text": [
      "\r",
      " 68%|#######################################################7                          | 34/50 [00:46<00:20,  1.30s/it]"
     ]
    },
    {
     "name": "stdout",
     "output_type": "stream",
     "text": [
      "gens avg: 0.897142857142857 fakes_avg: 0.9114285714285714 rand_avg 1.0 cumulative_avg: 0.936190476190476\n"
     ]
    },
    {
     "name": "stderr",
     "output_type": "stream",
     "text": [
      "\r",
      " 70%|#########################################################4                        | 35/50 [00:48<00:19,  1.30s/it]"
     ]
    },
    {
     "name": "stdout",
     "output_type": "stream",
     "text": [
      "gens avg: 0.8916666666666665 fakes_avg: 0.911111111111111 rand_avg 1.0 cumulative_avg: 0.9342592592592591\n"
     ]
    },
    {
     "name": "stderr",
     "output_type": "stream",
     "text": [
      "\r",
      " 72%|###########################################################                       | 36/50 [00:49<00:18,  1.34s/it]"
     ]
    },
    {
     "name": "stdout",
     "output_type": "stream",
     "text": [
      "gens avg: 0.8918918918918917 fakes_avg: 0.9081081081081079 rand_avg 1.0 cumulative_avg: 0.9333333333333331\n"
     ]
    },
    {
     "name": "stderr",
     "output_type": "stream",
     "text": [
      "\r",
      " 74%|############################################################6                     | 37/50 [00:50<00:16,  1.29s/it]"
     ]
    },
    {
     "name": "stdout",
     "output_type": "stream",
     "text": [
      "gens avg: 0.8947368421052629 fakes_avg: 0.8999999999999999 rand_avg 1.0 cumulative_avg: 0.9315789473684208\n"
     ]
    },
    {
     "name": "stderr",
     "output_type": "stream",
     "text": [
      "\r",
      " 76%|##############################################################3                   | 38/50 [00:51<00:15,  1.28s/it]"
     ]
    },
    {
     "name": "stdout",
     "output_type": "stream",
     "text": [
      "gens avg: 0.8974358974358972 fakes_avg: 0.9025641025641025 rand_avg 1.0 cumulative_avg: 0.9333333333333331\n"
     ]
    },
    {
     "name": "stderr",
     "output_type": "stream",
     "text": [
      "\r",
      " 78%|###############################################################9                  | 39/50 [00:53<00:14,  1.28s/it]"
     ]
    },
    {
     "name": "stdout",
     "output_type": "stream",
     "text": [
      "gens avg: 0.8974999999999997 fakes_avg: 0.9049999999999999 rand_avg 1.0 cumulative_avg: 0.9341666666666666\n"
     ]
    },
    {
     "name": "stderr",
     "output_type": "stream",
     "text": [
      "\r",
      " 80%|#################################################################6                | 40/50 [00:54<00:13,  1.31s/it]"
     ]
    },
    {
     "name": "stdout",
     "output_type": "stream",
     "text": [
      "gens avg: 0.8999999999999998 fakes_avg: 0.9073170731707316 rand_avg 1.0 cumulative_avg: 0.935772357723577\n"
     ]
    },
    {
     "name": "stderr",
     "output_type": "stream",
     "text": [
      "\r",
      " 82%|###################################################################2              | 41/50 [00:56<00:12,  1.35s/it]"
     ]
    },
    {
     "name": "stdout",
     "output_type": "stream",
     "text": [
      "gens avg: 0.8976190476190473 fakes_avg: 0.9095238095238094 rand_avg 1.0 cumulative_avg: 0.9357142857142855\n"
     ]
    },
    {
     "name": "stderr",
     "output_type": "stream",
     "text": [
      "\r",
      " 84%|####################################################################8             | 42/50 [00:57<00:11,  1.40s/it]"
     ]
    },
    {
     "name": "stdout",
     "output_type": "stream",
     "text": [
      "gens avg: 0.8999999999999997 fakes_avg: 0.9093023255813952 rand_avg 1.0 cumulative_avg: 0.9364341085271315\n"
     ]
    },
    {
     "name": "stderr",
     "output_type": "stream",
     "text": [
      "\r",
      " 86%|######################################################################5           | 43/50 [00:58<00:09,  1.39s/it]"
     ]
    },
    {
     "name": "stdout",
     "output_type": "stream",
     "text": [
      "gens avg: 0.8999999999999997 fakes_avg: 0.9113636363636363 rand_avg 1.0 cumulative_avg: 0.937121212121212\n"
     ]
    },
    {
     "name": "stderr",
     "output_type": "stream",
     "text": [
      "\r",
      " 88%|########################################################################1         | 44/50 [01:00<00:08,  1.38s/it]"
     ]
    },
    {
     "name": "stdout",
     "output_type": "stream",
     "text": [
      "gens avg: 0.8955555555555553 fakes_avg: 0.9088888888888887 rand_avg 1.0 cumulative_avg: 0.9348148148148148\n"
     ]
    },
    {
     "name": "stderr",
     "output_type": "stream",
     "text": [
      "\r",
      " 90%|#########################################################################8        | 45/50 [01:01<00:07,  1.40s/it]"
     ]
    },
    {
     "name": "stdout",
     "output_type": "stream",
     "text": [
      "gens avg: 0.8978260869565216 fakes_avg: 0.9108695652173912 rand_avg 1.0 cumulative_avg: 0.9362318840579709\n"
     ]
    },
    {
     "name": "stderr",
     "output_type": "stream",
     "text": [
      "\r",
      " 92%|###########################################################################4      | 46/50 [01:02<00:05,  1.35s/it]"
     ]
    },
    {
     "name": "stdout",
     "output_type": "stream",
     "text": [
      "gens avg: 0.8978723404255317 fakes_avg: 0.9063829787234041 rand_avg 1.0 cumulative_avg: 0.9347517730496453\n"
     ]
    },
    {
     "name": "stderr",
     "output_type": "stream",
     "text": [
      "\r",
      " 94%|#############################################################################     | 47/50 [01:04<00:04,  1.39s/it]"
     ]
    },
    {
     "name": "stdout",
     "output_type": "stream",
     "text": [
      "gens avg: 0.895833333333333 fakes_avg: 0.9041666666666665 rand_avg 1.0 cumulative_avg: 0.9333333333333331\n"
     ]
    },
    {
     "name": "stderr",
     "output_type": "stream",
     "text": [
      "\r",
      " 96%|##############################################################################7   | 48/50 [01:05<00:02,  1.41s/it]"
     ]
    },
    {
     "name": "stdout",
     "output_type": "stream",
     "text": [
      "gens avg: 0.897959183673469 fakes_avg: 0.9061224489795917 rand_avg 1.0 cumulative_avg: 0.9346938775510203\n"
     ]
    },
    {
     "name": "stderr",
     "output_type": "stream",
     "text": [
      "\r",
      " 98%|################################################################################3 | 49/50 [01:07<00:01,  1.35s/it]"
     ]
    },
    {
     "name": "stdout",
     "output_type": "stream",
     "text": [
      "gens avg: 0.8999999999999997 fakes_avg: 0.9039999999999998 rand_avg 1.0 cumulative_avg: 0.9346666666666665\n"
     ]
    },
    {
     "name": "stderr",
     "output_type": "stream",
     "text": [
      "100%|##################################################################################| 50/50 [01:08<00:00,  1.35s/it]\n"
     ]
    }
   ],
   "source": [
    "scores_sum = 0\n",
    "run_count = 0\n",
    "gens_sum = 0\n",
    "gens_r_count = 0\n",
    "fakes_sum = 0\n",
    "fakes_r_count = 0\n",
    "randoms_sum = 0\n",
    "randoms_r_count = 0\n",
    "DECISION_THRESHOLD = 0.75\n",
    "for user_id in tqdm.tqdm(data_f['user_id'].unique(), ascii=True):\n",
    "    y_train = data_f_gen_12['user_id']==user_id\n",
    "    X_train = visual_f.loc[y_train.index]\n",
    "    class_weight = (data_f_gen_12.shape[0]-data_f_gen_12[y_train].shape[0])/data_f_gen_12[y_train].shape[0]\n",
    "    clf_2 = MLPClassifier(hidden_layer_sizes=(150,100,50),random_state=1923)\n",
    "    clf = SVC(class_weight='balanced',gamma='scale',probability=True,random_state=1923, kernel='linear') # gens avg: 0.8593333333333333 fakes_avg: 0.9433333333333331 randoms_avg: 1.0 cumulative_avg: 0.9342222222222221\n",
    "    clf.fit(X_train, y_train)\n",
    "    clf_2.fit(X_train, y_train)\n",
    "    y_valid_fakes = data_f_fake.loc[(data_f_fake['user_id']==user_id) & (data_f_fake['sig_id'].isin(np.arange(1,11)))]\n",
    "    y_valid_f = len(y_valid_fakes.index)*[False]\n",
    "    X_valid_f = visual_f.loc[y_valid_fakes.index]\n",
    "    score = accuracy_score(y_valid_f, ((clf.predict_proba(X_valid_f)/2)+(clf_2.predict_proba(X_valid_f)/2))[:,1]>= DECISION_THRESHOLD)\n",
    "    fakes_sum += score\n",
    "    fakes_r_count += 1 \n",
    "    # print(score)\n",
    "    scores_sum += score\n",
    "    run_count += 1\n",
    "    y_valid_gens = data_f_gen_valid_12.loc[data_f_gen_valid_12['user_id']==user_id]\n",
    "    y_valid_g = len(y_valid_gens.index)*[True]\n",
    "    X_valid_g = visual_f.loc[y_valid_gens.index]\n",
    "    score = accuracy_score(y_valid_g, ((clf.predict_proba(X_valid_g)/2)+(clf_2.predict_proba(X_valid_g)/2))[:,1]>= DECISION_THRESHOLD)\n",
    "    gens_sum += score\n",
    "    gens_r_count += 1 \n",
    "    # print(score)\n",
    "    scores_sum += score\n",
    "    run_count += 1\n",
    "    y_valid_rand_fakes = data_f_gen_valid_12.loc[choice(data_f_gen_valid_12.loc[data_f_gen_valid_12['user_id']!=user_id].index,10)]\n",
    "    y_valid_rf = len(y_valid_rand_fakes.index)*[False]\n",
    "    X_valid_rf = visual_f.loc[y_valid_rand_fakes.index]\n",
    "    score = clf.score(X_valid_rf,y_valid_rf)\n",
    "    randoms_sum += score\n",
    "    randoms_r_count += 1 \n",
    "    print (\"gens avg:\", float(gens_sum)/gens_r_count, \"fakes_avg:\", float(fakes_sum)/fakes_r_count, \n",
    "        \"rand_avg\", float(randoms_sum)/randoms_r_count,\"cumulative_avg:\", (float(gens_sum)/gens_r_count)/3 + \n",
    "        (float(fakes_sum)/fakes_r_count)/3 + (float(randoms_sum)/randoms_r_count)/3)\n"
   ]
  },
  {
   "cell_type": "code",
   "execution_count": 8,
   "metadata": {},
   "outputs": [
    {
     "data": {
      "text/plain": [
       "array([ True,  True,  True, False, False, False, False, False, False,\n",
       "       False])"
      ]
     },
     "execution_count": 8,
     "metadata": {},
     "output_type": "execute_result"
    }
   ],
   "source": [
    "clf.predict(X_valid_f)"
   ]
  }
 ],
 "metadata": {
  "kernelspec": {
   "display_name": "Python 3",
   "language": "python",
   "name": "python3"
  },
  "language_info": {
   "codemirror_mode": {
    "name": "ipython",
    "version": 3
   },
   "file_extension": ".py",
   "mimetype": "text/x-python",
   "name": "python",
   "nbconvert_exporter": "python",
   "pygments_lexer": "ipython3",
   "version": "3.7.3"
  }
 },
 "nbformat": 4,
 "nbformat_minor": 2
}
