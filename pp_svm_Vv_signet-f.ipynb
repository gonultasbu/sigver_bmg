{
 "cells": [
  {
   "cell_type": "code",
   "execution_count": 1,
   "metadata": {
    "scrolled": true
   },
   "outputs": [],
   "source": [
    "import scipy.io as sio\n",
    "from scipy.misc import imread\n",
    "from preprocess.normalize import preprocess_signature\n",
    "import tf_signet\n",
    "from tf_cnn_model import TF_CNNModel\n",
    "import tensorflow as tf\n",
    "import numpy as np\n",
    "import pandas as pd\n",
    "import sys\n",
    "import os\n",
    "import scipy.io\n",
    "from find_largest_image import find_largest\n",
    "import tqdm \n",
    "from sklearn.model_selection import train_test_split\n",
    "from sklearn.svm import SVC\n",
    "from xgboost import XGBClassifier\n",
    "import random\n",
    "from numpy.random import choice\n",
    "from sklearn.neural_network import MLPClassifier\n",
    "from sklearn.metrics import accuracy_score"
   ]
  },
  {
   "cell_type": "code",
   "execution_count": 2,
   "metadata": {},
   "outputs": [],
   "source": [
    "data_folder = 'C:\\\\Users\\\\Mert\\\\Documents\\\\GitHub\\\\sigver_bmg\\\\data\\\\downloaded_pp_features\\\\gpds_signet_f\\\\validation'"
   ]
  },
  {
   "cell_type": "code",
   "execution_count": 3,
   "metadata": {},
   "outputs": [],
   "source": [
    "data_f=pd.read_csv(os.path.join(data_folder,'data_features.csv'))\n",
    "visual_f=pd.read_csv(os.path.join(data_folder,'visual_features.csv'))"
   ]
  },
  {
   "cell_type": "code",
   "execution_count": 4,
   "metadata": {},
   "outputs": [
    {
     "data": {
      "text/html": [
       "<div>\n",
       "<style scoped>\n",
       "    .dataframe tbody tr th:only-of-type {\n",
       "        vertical-align: middle;\n",
       "    }\n",
       "\n",
       "    .dataframe tbody tr th {\n",
       "        vertical-align: top;\n",
       "    }\n",
       "\n",
       "    .dataframe thead th {\n",
       "        text-align: right;\n",
       "    }\n",
       "</style>\n",
       "<table border=\"1\" class=\"dataframe\">\n",
       "  <thead>\n",
       "    <tr style=\"text-align: right;\">\n",
       "      <th></th>\n",
       "      <th>user_id</th>\n",
       "      <th>sig_id</th>\n",
       "      <th>fakeness</th>\n",
       "    </tr>\n",
       "  </thead>\n",
       "  <tbody>\n",
       "    <tr>\n",
       "      <th>0</th>\n",
       "      <td>352</td>\n",
       "      <td>1</td>\n",
       "      <td>True</td>\n",
       "    </tr>\n",
       "    <tr>\n",
       "      <th>1</th>\n",
       "      <td>352</td>\n",
       "      <td>2</td>\n",
       "      <td>True</td>\n",
       "    </tr>\n",
       "    <tr>\n",
       "      <th>2</th>\n",
       "      <td>352</td>\n",
       "      <td>3</td>\n",
       "      <td>True</td>\n",
       "    </tr>\n",
       "    <tr>\n",
       "      <th>3</th>\n",
       "      <td>352</td>\n",
       "      <td>4</td>\n",
       "      <td>True</td>\n",
       "    </tr>\n",
       "    <tr>\n",
       "      <th>4</th>\n",
       "      <td>352</td>\n",
       "      <td>5</td>\n",
       "      <td>True</td>\n",
       "    </tr>\n",
       "  </tbody>\n",
       "</table>\n",
       "</div>"
      ],
      "text/plain": [
       "   user_id  sig_id  fakeness\n",
       "0      352       1      True\n",
       "1      352       2      True\n",
       "2      352       3      True\n",
       "3      352       4      True\n",
       "4      352       5      True"
      ]
     },
     "execution_count": 4,
     "metadata": {},
     "output_type": "execute_result"
    }
   ],
   "source": [
    "data_f.head()"
   ]
  },
  {
   "cell_type": "code",
   "execution_count": 5,
   "metadata": {},
   "outputs": [
    {
     "data": {
      "text/html": [
       "<div>\n",
       "<style scoped>\n",
       "    .dataframe tbody tr th:only-of-type {\n",
       "        vertical-align: middle;\n",
       "    }\n",
       "\n",
       "    .dataframe tbody tr th {\n",
       "        vertical-align: top;\n",
       "    }\n",
       "\n",
       "    .dataframe thead th {\n",
       "        text-align: right;\n",
       "    }\n",
       "</style>\n",
       "<table border=\"1\" class=\"dataframe\">\n",
       "  <thead>\n",
       "    <tr style=\"text-align: right;\">\n",
       "      <th></th>\n",
       "      <th>0</th>\n",
       "      <th>1</th>\n",
       "      <th>2</th>\n",
       "      <th>3</th>\n",
       "      <th>4</th>\n",
       "      <th>5</th>\n",
       "      <th>6</th>\n",
       "      <th>7</th>\n",
       "      <th>8</th>\n",
       "      <th>9</th>\n",
       "      <th>...</th>\n",
       "      <th>2038</th>\n",
       "      <th>2039</th>\n",
       "      <th>2040</th>\n",
       "      <th>2041</th>\n",
       "      <th>2042</th>\n",
       "      <th>2043</th>\n",
       "      <th>2044</th>\n",
       "      <th>2045</th>\n",
       "      <th>2046</th>\n",
       "      <th>2047</th>\n",
       "    </tr>\n",
       "  </thead>\n",
       "  <tbody>\n",
       "    <tr>\n",
       "      <th>0</th>\n",
       "      <td>0.492046</td>\n",
       "      <td>0.000000</td>\n",
       "      <td>0.262247</td>\n",
       "      <td>0.000000</td>\n",
       "      <td>0.000000</td>\n",
       "      <td>0.0</td>\n",
       "      <td>0.887893</td>\n",
       "      <td>0.0</td>\n",
       "      <td>0.0</td>\n",
       "      <td>0.000000</td>\n",
       "      <td>...</td>\n",
       "      <td>1.213698</td>\n",
       "      <td>0.000000</td>\n",
       "      <td>0.000000</td>\n",
       "      <td>0.350542</td>\n",
       "      <td>0.000000</td>\n",
       "      <td>0.022946</td>\n",
       "      <td>0.685446</td>\n",
       "      <td>0.515102</td>\n",
       "      <td>0.000000</td>\n",
       "      <td>2.431604</td>\n",
       "    </tr>\n",
       "    <tr>\n",
       "      <th>1</th>\n",
       "      <td>0.462773</td>\n",
       "      <td>0.158136</td>\n",
       "      <td>0.000000</td>\n",
       "      <td>0.000000</td>\n",
       "      <td>0.354178</td>\n",
       "      <td>0.0</td>\n",
       "      <td>0.154205</td>\n",
       "      <td>0.0</td>\n",
       "      <td>0.0</td>\n",
       "      <td>0.000000</td>\n",
       "      <td>...</td>\n",
       "      <td>0.815964</td>\n",
       "      <td>0.000000</td>\n",
       "      <td>0.000000</td>\n",
       "      <td>0.229273</td>\n",
       "      <td>0.145647</td>\n",
       "      <td>0.139663</td>\n",
       "      <td>0.616705</td>\n",
       "      <td>0.079669</td>\n",
       "      <td>0.000000</td>\n",
       "      <td>1.367158</td>\n",
       "    </tr>\n",
       "    <tr>\n",
       "      <th>2</th>\n",
       "      <td>0.000000</td>\n",
       "      <td>0.214853</td>\n",
       "      <td>0.000000</td>\n",
       "      <td>0.210621</td>\n",
       "      <td>0.000000</td>\n",
       "      <td>0.0</td>\n",
       "      <td>0.667727</td>\n",
       "      <td>0.0</td>\n",
       "      <td>0.0</td>\n",
       "      <td>0.754772</td>\n",
       "      <td>...</td>\n",
       "      <td>0.878875</td>\n",
       "      <td>0.000000</td>\n",
       "      <td>0.000000</td>\n",
       "      <td>0.086916</td>\n",
       "      <td>0.671329</td>\n",
       "      <td>0.000000</td>\n",
       "      <td>0.993817</td>\n",
       "      <td>1.146683</td>\n",
       "      <td>0.000000</td>\n",
       "      <td>0.858650</td>\n",
       "    </tr>\n",
       "    <tr>\n",
       "      <th>3</th>\n",
       "      <td>0.000000</td>\n",
       "      <td>0.263884</td>\n",
       "      <td>0.000000</td>\n",
       "      <td>0.000000</td>\n",
       "      <td>0.964106</td>\n",
       "      <td>0.0</td>\n",
       "      <td>0.360634</td>\n",
       "      <td>0.0</td>\n",
       "      <td>0.0</td>\n",
       "      <td>0.000000</td>\n",
       "      <td>...</td>\n",
       "      <td>0.514347</td>\n",
       "      <td>0.171412</td>\n",
       "      <td>0.057328</td>\n",
       "      <td>1.145879</td>\n",
       "      <td>0.000000</td>\n",
       "      <td>0.000000</td>\n",
       "      <td>0.062078</td>\n",
       "      <td>0.152515</td>\n",
       "      <td>0.000000</td>\n",
       "      <td>0.573888</td>\n",
       "    </tr>\n",
       "    <tr>\n",
       "      <th>4</th>\n",
       "      <td>0.000000</td>\n",
       "      <td>0.608160</td>\n",
       "      <td>0.000000</td>\n",
       "      <td>0.000000</td>\n",
       "      <td>0.588335</td>\n",
       "      <td>0.0</td>\n",
       "      <td>0.000000</td>\n",
       "      <td>0.0</td>\n",
       "      <td>0.0</td>\n",
       "      <td>0.000000</td>\n",
       "      <td>...</td>\n",
       "      <td>0.649497</td>\n",
       "      <td>0.607849</td>\n",
       "      <td>0.051503</td>\n",
       "      <td>0.731876</td>\n",
       "      <td>0.000000</td>\n",
       "      <td>0.000000</td>\n",
       "      <td>0.456680</td>\n",
       "      <td>0.713516</td>\n",
       "      <td>0.237488</td>\n",
       "      <td>0.063648</td>\n",
       "    </tr>\n",
       "  </tbody>\n",
       "</table>\n",
       "<p>5 rows × 2048 columns</p>\n",
       "</div>"
      ],
      "text/plain": [
       "          0         1         2         3         4    5         6    7    8  \\\n",
       "0  0.492046  0.000000  0.262247  0.000000  0.000000  0.0  0.887893  0.0  0.0   \n",
       "1  0.462773  0.158136  0.000000  0.000000  0.354178  0.0  0.154205  0.0  0.0   \n",
       "2  0.000000  0.214853  0.000000  0.210621  0.000000  0.0  0.667727  0.0  0.0   \n",
       "3  0.000000  0.263884  0.000000  0.000000  0.964106  0.0  0.360634  0.0  0.0   \n",
       "4  0.000000  0.608160  0.000000  0.000000  0.588335  0.0  0.000000  0.0  0.0   \n",
       "\n",
       "          9  ...      2038      2039      2040      2041      2042      2043  \\\n",
       "0  0.000000  ...  1.213698  0.000000  0.000000  0.350542  0.000000  0.022946   \n",
       "1  0.000000  ...  0.815964  0.000000  0.000000  0.229273  0.145647  0.139663   \n",
       "2  0.754772  ...  0.878875  0.000000  0.000000  0.086916  0.671329  0.000000   \n",
       "3  0.000000  ...  0.514347  0.171412  0.057328  1.145879  0.000000  0.000000   \n",
       "4  0.000000  ...  0.649497  0.607849  0.051503  0.731876  0.000000  0.000000   \n",
       "\n",
       "       2044      2045      2046      2047  \n",
       "0  0.685446  0.515102  0.000000  2.431604  \n",
       "1  0.616705  0.079669  0.000000  1.367158  \n",
       "2  0.993817  1.146683  0.000000  0.858650  \n",
       "3  0.062078  0.152515  0.000000  0.573888  \n",
       "4  0.456680  0.713516  0.237488  0.063648  \n",
       "\n",
       "[5 rows x 2048 columns]"
      ]
     },
     "execution_count": 5,
     "metadata": {},
     "output_type": "execute_result"
    }
   ],
   "source": [
    "visual_f.head()"
   ]
  },
  {
   "cell_type": "code",
   "execution_count": 6,
   "metadata": {},
   "outputs": [],
   "source": [
    "data_f_gen = data_f.loc[data_f['fakeness']==False]\n",
    "data_f_fake = data_f.loc[data_f['fakeness']==True]\n",
    "data_f_gen_12 = data_f_gen.loc[data_f_gen['sig_id'].isin(np.arange(1,13))]\n",
    "data_f_gen_valid_12 = data_f_gen.loc[data_f_gen['sig_id'].isin(np.arange(13,23))] # TODO is actually 10, fix"
   ]
  },
  {
   "cell_type": "code",
   "execution_count": 12,
   "metadata": {},
   "outputs": [
    {
     "name": "stderr",
     "output_type": "stream",
     "text": [
      "\r",
      "  0%|                                                                                           | 0/50 [00:00<?, ?it/s]"
     ]
    },
    {
     "name": "stdout",
     "output_type": "stream",
     "text": [
      "gens avg: 1.0 fakes_avg: 1.0 rand_avg 1.0 cumulative_avg: 1.0\n"
     ]
    },
    {
     "name": "stderr",
     "output_type": "stream",
     "text": [
      "\r",
      "  2%|#6                                                                                 | 1/50 [00:00<00:16,  3.05it/s]"
     ]
    },
    {
     "name": "stdout",
     "output_type": "stream",
     "text": [
      "gens avg: 1.0 fakes_avg: 0.95 rand_avg 1.0 cumulative_avg: 0.9833333333333332\n"
     ]
    },
    {
     "name": "stderr",
     "output_type": "stream",
     "text": [
      "\r",
      "  4%|###3                                                                               | 2/50 [00:00<00:14,  3.25it/s]"
     ]
    },
    {
     "name": "stdout",
     "output_type": "stream",
     "text": [
      "gens avg: 1.0 fakes_avg: 0.9666666666666667 rand_avg 1.0 cumulative_avg: 0.9888888888888889\n"
     ]
    },
    {
     "name": "stderr",
     "output_type": "stream",
     "text": [
      "\r",
      "  6%|####9                                                                              | 3/50 [00:00<00:14,  3.33it/s]"
     ]
    },
    {
     "name": "stdout",
     "output_type": "stream",
     "text": [
      "gens avg: 0.925 fakes_avg: 0.975 rand_avg 1.0 cumulative_avg: 0.9666666666666666\n"
     ]
    },
    {
     "name": "stderr",
     "output_type": "stream",
     "text": [
      "\r",
      "  8%|######6                                                                            | 4/50 [00:01<00:13,  3.49it/s]"
     ]
    },
    {
     "name": "stdout",
     "output_type": "stream",
     "text": [
      "gens avg: 0.9400000000000001 fakes_avg: 0.9800000000000001 rand_avg 1.0 cumulative_avg: 0.9733333333333334\n"
     ]
    },
    {
     "name": "stderr",
     "output_type": "stream",
     "text": [
      "\r",
      " 10%|########3                                                                          | 5/50 [00:01<00:13,  3.42it/s]"
     ]
    },
    {
     "name": "stdout",
     "output_type": "stream",
     "text": [
      "gens avg: 0.9500000000000001 fakes_avg: 0.9500000000000001 rand_avg 1.0 cumulative_avg: 0.9666666666666668\n"
     ]
    },
    {
     "name": "stderr",
     "output_type": "stream",
     "text": [
      "\r",
      " 12%|#########9                                                                         | 6/50 [00:01<00:13,  3.37it/s]"
     ]
    },
    {
     "name": "stdout",
     "output_type": "stream",
     "text": [
      "gens avg: 0.9571428571428572 fakes_avg: 0.942857142857143 rand_avg 1.0 cumulative_avg: 0.9666666666666668\n"
     ]
    },
    {
     "name": "stderr",
     "output_type": "stream",
     "text": [
      "\r",
      " 14%|###########6                                                                       | 7/50 [00:02<00:13,  3.23it/s]"
     ]
    },
    {
     "name": "stdout",
     "output_type": "stream",
     "text": [
      "gens avg: 0.9625 fakes_avg: 0.9500000000000001 rand_avg 1.0 cumulative_avg: 0.9708333333333334\n"
     ]
    },
    {
     "name": "stderr",
     "output_type": "stream",
     "text": [
      "\r",
      " 16%|#############2                                                                     | 8/50 [00:02<00:11,  3.57it/s]"
     ]
    },
    {
     "name": "stdout",
     "output_type": "stream",
     "text": [
      "gens avg: 0.9333333333333333 fakes_avg: 0.9555555555555557 rand_avg 1.0 cumulative_avg: 0.962962962962963\n"
     ]
    },
    {
     "name": "stderr",
     "output_type": "stream",
     "text": [
      "\r",
      " 18%|##############9                                                                    | 9/50 [00:02<00:12,  3.32it/s]"
     ]
    },
    {
     "name": "stdout",
     "output_type": "stream",
     "text": [
      "gens avg: 0.93 fakes_avg: 0.9500000000000002 rand_avg 1.0 cumulative_avg: 0.96\n"
     ]
    },
    {
     "name": "stderr",
     "output_type": "stream",
     "text": [
      "\r",
      " 20%|################4                                                                 | 10/50 [00:02<00:12,  3.29it/s]"
     ]
    },
    {
     "name": "stdout",
     "output_type": "stream",
     "text": [
      "gens avg: 0.9272727272727274 fakes_avg: 0.9545454545454547 rand_avg 1.0 cumulative_avg: 0.9606060606060607\n"
     ]
    },
    {
     "name": "stderr",
     "output_type": "stream",
     "text": [
      "\r",
      " 22%|##################                                                                | 11/50 [00:03<00:11,  3.33it/s]"
     ]
    },
    {
     "name": "stdout",
     "output_type": "stream",
     "text": [
      "gens avg: 0.9333333333333335 fakes_avg: 0.9333333333333335 rand_avg 1.0 cumulative_avg: 0.9555555555555557\n"
     ]
    },
    {
     "name": "stderr",
     "output_type": "stream",
     "text": [
      "\r",
      " 24%|###################6                                                              | 12/50 [00:03<00:11,  3.31it/s]"
     ]
    },
    {
     "name": "stdout",
     "output_type": "stream",
     "text": [
      "gens avg: 0.9384615384615386 fakes_avg: 0.9384615384615386 rand_avg 1.0 cumulative_avg: 0.9589743589743591\n"
     ]
    },
    {
     "name": "stderr",
     "output_type": "stream",
     "text": [
      "\r",
      " 26%|#####################3                                                            | 13/50 [00:03<00:11,  3.22it/s]"
     ]
    },
    {
     "name": "stdout",
     "output_type": "stream",
     "text": [
      "gens avg: 0.942857142857143 fakes_avg: 0.9357142857142858 rand_avg 1.0 cumulative_avg: 0.9595238095238097\n"
     ]
    },
    {
     "name": "stderr",
     "output_type": "stream",
     "text": [
      "\r",
      " 28%|######################9                                                           | 14/50 [00:04<00:11,  3.23it/s]"
     ]
    },
    {
     "name": "stdout",
     "output_type": "stream",
     "text": [
      "gens avg: 0.9400000000000001 fakes_avg: 0.9333333333333335 rand_avg 1.0 cumulative_avg: 0.9577777777777778\n"
     ]
    },
    {
     "name": "stderr",
     "output_type": "stream",
     "text": [
      "\r",
      " 30%|########################5                                                         | 15/50 [00:04<00:10,  3.26it/s]"
     ]
    },
    {
     "name": "stdout",
     "output_type": "stream",
     "text": [
      "gens avg: 0.9187500000000001 fakes_avg: 0.9375000000000001 rand_avg 1.0 cumulative_avg: 0.9520833333333334\n"
     ]
    },
    {
     "name": "stderr",
     "output_type": "stream",
     "text": [
      "\r",
      " 32%|##########################2                                                       | 16/50 [00:04<00:10,  3.37it/s]"
     ]
    },
    {
     "name": "stdout",
     "output_type": "stream",
     "text": [
      "gens avg: 0.9235294117647059 fakes_avg: 0.9411764705882353 rand_avg 1.0 cumulative_avg: 0.9549019607843137\n"
     ]
    },
    {
     "name": "stderr",
     "output_type": "stream",
     "text": [
      "\r",
      " 34%|###########################8                                                      | 17/50 [00:05<00:09,  3.42it/s]"
     ]
    },
    {
     "name": "stdout",
     "output_type": "stream",
     "text": [
      "gens avg: 0.9277777777777779 fakes_avg: 0.9444444444444444 rand_avg 1.0 cumulative_avg: 0.9574074074074075\n"
     ]
    },
    {
     "name": "stderr",
     "output_type": "stream",
     "text": [
      "\r",
      " 36%|#############################5                                                    | 18/50 [00:05<00:09,  3.42it/s]"
     ]
    },
    {
     "name": "stdout",
     "output_type": "stream",
     "text": [
      "gens avg: 0.9315789473684212 fakes_avg: 0.9421052631578947 rand_avg 1.0 cumulative_avg: 0.9578947368421051\n"
     ]
    },
    {
     "name": "stderr",
     "output_type": "stream",
     "text": [
      "\r",
      " 38%|###############################1                                                  | 19/50 [00:05<00:09,  3.44it/s]"
     ]
    },
    {
     "name": "stdout",
     "output_type": "stream",
     "text": [
      "gens avg: 0.905 fakes_avg: 0.9349999999999999 rand_avg 1.0 cumulative_avg: 0.9466666666666665\n"
     ]
    },
    {
     "name": "stderr",
     "output_type": "stream",
     "text": [
      "\r",
      " 40%|################################8                                                 | 20/50 [00:05<00:09,  3.28it/s]"
     ]
    },
    {
     "name": "stdout",
     "output_type": "stream",
     "text": [
      "gens avg: 0.9095238095238096 fakes_avg: 0.9333333333333332 rand_avg 1.0 cumulative_avg: 0.9476190476190476\n"
     ]
    },
    {
     "name": "stderr",
     "output_type": "stream",
     "text": [
      "\r",
      " 42%|##################################4                                               | 21/50 [00:06<00:08,  3.53it/s]"
     ]
    },
    {
     "name": "stdout",
     "output_type": "stream",
     "text": [
      "gens avg: 0.9136363636363637 fakes_avg: 0.9363636363636363 rand_avg 1.0 cumulative_avg: 0.95\n"
     ]
    },
    {
     "name": "stderr",
     "output_type": "stream",
     "text": [
      "\r",
      " 44%|####################################                                              | 22/50 [00:06<00:07,  3.65it/s]"
     ]
    },
    {
     "name": "stdout",
     "output_type": "stream",
     "text": [
      "gens avg: 0.9173913043478261 fakes_avg: 0.9391304347826086 rand_avg 1.0 cumulative_avg: 0.9521739130434781\n"
     ]
    },
    {
     "name": "stderr",
     "output_type": "stream",
     "text": [
      "\r",
      " 46%|#####################################7                                            | 23/50 [00:06<00:07,  3.39it/s]"
     ]
    },
    {
     "name": "stdout",
     "output_type": "stream",
     "text": [
      "gens avg: 0.9208333333333334 fakes_avg: 0.9416666666666665 rand_avg 1.0 cumulative_avg: 0.9541666666666666\n"
     ]
    },
    {
     "name": "stderr",
     "output_type": "stream",
     "text": [
      "\r",
      " 48%|#######################################3                                          | 24/50 [00:06<00:06,  3.76it/s]"
     ]
    },
    {
     "name": "stdout",
     "output_type": "stream",
     "text": [
      "gens avg: 0.924 fakes_avg: 0.9159999999999999 rand_avg 1.0 cumulative_avg: 0.9466666666666665\n"
     ]
    },
    {
     "name": "stderr",
     "output_type": "stream",
     "text": [
      "\r",
      " 50%|#########################################                                         | 25/50 [00:07<00:06,  3.80it/s]"
     ]
    },
    {
     "name": "stdout",
     "output_type": "stream",
     "text": [
      "gens avg: 0.926923076923077 fakes_avg: 0.9192307692307692 rand_avg 1.0 cumulative_avg: 0.9487179487179487\n"
     ]
    },
    {
     "name": "stderr",
     "output_type": "stream",
     "text": [
      "\r",
      " 52%|##########################################6                                       | 26/50 [00:07<00:06,  3.92it/s]"
     ]
    },
    {
     "name": "stdout",
     "output_type": "stream",
     "text": [
      "gens avg: 0.9296296296296297 fakes_avg: 0.9222222222222222 rand_avg 1.0 cumulative_avg: 0.9506172839506173\n"
     ]
    },
    {
     "name": "stderr",
     "output_type": "stream",
     "text": [
      "\r",
      " 54%|############################################2                                     | 27/50 [00:07<00:05,  3.98it/s]"
     ]
    },
    {
     "name": "stdout",
     "output_type": "stream",
     "text": [
      "gens avg: 0.9321428571428572 fakes_avg: 0.9142857142857143 rand_avg 1.0 cumulative_avg: 0.9488095238095238\n"
     ]
    },
    {
     "name": "stderr",
     "output_type": "stream",
     "text": [
      "\r",
      " 56%|#############################################9                                    | 28/50 [00:07<00:05,  3.88it/s]"
     ]
    },
    {
     "name": "stdout",
     "output_type": "stream",
     "text": [
      "gens avg: 0.9344827586206897 fakes_avg: 0.889655172413793 rand_avg 1.0 cumulative_avg: 0.9413793103448276\n"
     ]
    },
    {
     "name": "stderr",
     "output_type": "stream",
     "text": [
      "\r",
      " 58%|###############################################5                                  | 29/50 [00:08<00:05,  3.70it/s]"
     ]
    },
    {
     "name": "stdout",
     "output_type": "stream",
     "text": [
      "gens avg: 0.9333333333333333 fakes_avg: 0.8933333333333332 rand_avg 1.0 cumulative_avg: 0.9422222222222221\n"
     ]
    },
    {
     "name": "stderr",
     "output_type": "stream",
     "text": [
      "\r",
      " 60%|#################################################1                                | 30/50 [00:08<00:05,  3.74it/s]"
     ]
    },
    {
     "name": "stdout",
     "output_type": "stream",
     "text": [
      "gens avg: 0.9354838709677419 fakes_avg: 0.896774193548387 rand_avg 1.0 cumulative_avg: 0.9440860215053763\n"
     ]
    },
    {
     "name": "stderr",
     "output_type": "stream",
     "text": [
      "\r",
      " 62%|##################################################8                               | 31/50 [00:08<00:04,  3.82it/s]"
     ]
    },
    {
     "name": "stdout",
     "output_type": "stream",
     "text": [
      "gens avg: 0.9375 fakes_avg: 0.8999999999999999 rand_avg 1.0 cumulative_avg: 0.9458333333333333\n"
     ]
    },
    {
     "name": "stderr",
     "output_type": "stream",
     "text": [
      "\r",
      " 64%|####################################################4                             | 32/50 [00:09<00:04,  4.06it/s]"
     ]
    },
    {
     "name": "stdout",
     "output_type": "stream",
     "text": [
      "gens avg: 0.9333333333333333 fakes_avg: 0.8969696969696969 rand_avg 1.0 cumulative_avg: 0.9434343434343433\n"
     ]
    },
    {
     "name": "stderr",
     "output_type": "stream",
     "text": [
      "\r",
      " 66%|######################################################1                           | 33/50 [00:09<00:04,  3.71it/s]"
     ]
    },
    {
     "name": "stdout",
     "output_type": "stream",
     "text": [
      "gens avg: 0.9323529411764706 fakes_avg: 0.8999999999999999 rand_avg 1.0 cumulative_avg: 0.9441176470588235\n"
     ]
    },
    {
     "name": "stderr",
     "output_type": "stream",
     "text": [
      "\r",
      " 68%|#######################################################7                          | 34/50 [00:09<00:04,  3.79it/s]"
     ]
    },
    {
     "name": "stdout",
     "output_type": "stream",
     "text": [
      "gens avg: 0.9342857142857144 fakes_avg: 0.8999999999999999 rand_avg 1.0 cumulative_avg: 0.9447619047619047\n"
     ]
    },
    {
     "name": "stderr",
     "output_type": "stream",
     "text": [
      "\r",
      " 70%|#########################################################4                        | 35/50 [00:09<00:03,  3.81it/s]"
     ]
    },
    {
     "name": "stdout",
     "output_type": "stream",
     "text": [
      "gens avg: 0.9305555555555556 fakes_avg: 0.8944444444444444 rand_avg 1.0 cumulative_avg: 0.9416666666666667\n"
     ]
    },
    {
     "name": "stderr",
     "output_type": "stream",
     "text": [
      "\r",
      " 72%|###########################################################                       | 36/50 [00:10<00:03,  3.70it/s]"
     ]
    },
    {
     "name": "stdout",
     "output_type": "stream",
     "text": [
      "gens avg: 0.9297297297297297 fakes_avg: 0.8918918918918917 rand_avg 1.0 cumulative_avg: 0.9405405405405405\n"
     ]
    },
    {
     "name": "stderr",
     "output_type": "stream",
     "text": [
      "\r",
      " 74%|############################################################6                     | 37/50 [00:10<00:03,  3.97it/s]"
     ]
    },
    {
     "name": "stdout",
     "output_type": "stream",
     "text": [
      "gens avg: 0.9315789473684211 fakes_avg: 0.8842105263157893 rand_avg 1.0 cumulative_avg: 0.9385964912280702\n"
     ]
    },
    {
     "name": "stderr",
     "output_type": "stream",
     "text": [
      "\r",
      " 76%|##############################################################3                   | 38/50 [00:10<00:02,  4.11it/s]"
     ]
    },
    {
     "name": "stdout",
     "output_type": "stream",
     "text": [
      "gens avg: 0.9333333333333333 fakes_avg: 0.887179487179487 rand_avg 1.0 cumulative_avg: 0.9401709401709402\n"
     ]
    },
    {
     "name": "stderr",
     "output_type": "stream",
     "text": [
      "\r",
      " 78%|###############################################################9                  | 39/50 [00:10<00:02,  4.04it/s]"
     ]
    },
    {
     "name": "stdout",
     "output_type": "stream",
     "text": [
      "gens avg: 0.9324999999999999 fakes_avg: 0.8899999999999999 rand_avg 1.0 cumulative_avg: 0.9408333333333332\n"
     ]
    },
    {
     "name": "stderr",
     "output_type": "stream",
     "text": [
      "\r",
      " 80%|#################################################################6                | 40/50 [00:11<00:02,  3.65it/s]"
     ]
    },
    {
     "name": "stdout",
     "output_type": "stream",
     "text": [
      "gens avg: 0.9341463414634146 fakes_avg: 0.8926829268292682 rand_avg 1.0 cumulative_avg: 0.9422764227642275\n"
     ]
    },
    {
     "name": "stderr",
     "output_type": "stream",
     "text": [
      "\r",
      " 82%|###################################################################2              | 41/50 [00:11<00:02,  3.39it/s]"
     ]
    },
    {
     "name": "stdout",
     "output_type": "stream",
     "text": [
      "gens avg: 0.9333333333333332 fakes_avg: 0.8928571428571427 rand_avg 1.0 cumulative_avg: 0.9420634920634918\n"
     ]
    },
    {
     "name": "stderr",
     "output_type": "stream",
     "text": [
      "\r",
      " 84%|####################################################################8             | 42/50 [00:11<00:02,  3.32it/s]"
     ]
    },
    {
     "name": "stdout",
     "output_type": "stream",
     "text": [
      "gens avg: 0.9348837209302324 fakes_avg: 0.8883720930232557 rand_avg 1.0 cumulative_avg: 0.9410852713178293\n"
     ]
    },
    {
     "name": "stderr",
     "output_type": "stream",
     "text": [
      "\r",
      " 86%|######################################################################5           | 43/50 [00:12<00:02,  3.23it/s]"
     ]
    },
    {
     "name": "stdout",
     "output_type": "stream",
     "text": [
      "gens avg: 0.9363636363636363 fakes_avg: 0.8909090909090908 rand_avg 1.0 cumulative_avg: 0.9424242424242424\n"
     ]
    },
    {
     "name": "stderr",
     "output_type": "stream",
     "text": [
      "\r",
      " 88%|########################################################################1         | 44/50 [00:12<00:01,  3.31it/s]"
     ]
    },
    {
     "name": "stdout",
     "output_type": "stream",
     "text": [
      "gens avg: 0.9355555555555555 fakes_avg: 0.8888888888888887 rand_avg 1.0 cumulative_avg: 0.9414814814814814\n"
     ]
    },
    {
     "name": "stderr",
     "output_type": "stream",
     "text": [
      "\r",
      " 90%|#########################################################################8        | 45/50 [00:12<00:01,  3.48it/s]"
     ]
    },
    {
     "name": "stdout",
     "output_type": "stream",
     "text": [
      "gens avg: 0.9369565217391304 fakes_avg: 0.8913043478260868 rand_avg 1.0 cumulative_avg: 0.9427536231884057\n"
     ]
    },
    {
     "name": "stderr",
     "output_type": "stream",
     "text": [
      "\r",
      " 92%|###########################################################################4      | 46/50 [00:12<00:01,  3.51it/s]"
     ]
    },
    {
     "name": "stdout",
     "output_type": "stream",
     "text": [
      "gens avg: 0.9382978723404254 fakes_avg: 0.8872340425531914 rand_avg 1.0 cumulative_avg: 0.9418439716312055\n"
     ]
    },
    {
     "name": "stderr",
     "output_type": "stream",
     "text": [
      "\r",
      " 94%|#############################################################################     | 47/50 [00:13<00:00,  3.30it/s]"
     ]
    },
    {
     "name": "stdout",
     "output_type": "stream",
     "text": [
      "gens avg: 0.9374999999999999 fakes_avg: 0.8854166666666665 rand_avg 1.0 cumulative_avg: 0.9409722222222221\n"
     ]
    },
    {
     "name": "stderr",
     "output_type": "stream",
     "text": [
      "\r",
      " 96%|##############################################################################7   | 48/50 [00:13<00:00,  3.11it/s]"
     ]
    },
    {
     "name": "stdout",
     "output_type": "stream",
     "text": [
      "gens avg: 0.9387755102040815 fakes_avg: 0.8877551020408162 rand_avg 1.0 cumulative_avg: 0.9421768707482991\n"
     ]
    },
    {
     "name": "stderr",
     "output_type": "stream",
     "text": [
      "\r",
      " 98%|################################################################################3 | 49/50 [00:13<00:00,  3.37it/s]"
     ]
    },
    {
     "name": "stdout",
     "output_type": "stream",
     "text": [
      "gens avg: 0.9399999999999998 fakes_avg: 0.8859999999999998 rand_avg 1.0 cumulative_avg: 0.942\n"
     ]
    },
    {
     "name": "stderr",
     "output_type": "stream",
     "text": [
      "100%|##################################################################################| 50/50 [00:14<00:00,  3.47it/s]\n"
     ]
    }
   ],
   "source": [
    "DECISION_THRESHOLD = 0.5\n",
    "scores_sum = 0\n",
    "run_count = 0\n",
    "gens_sum = 0\n",
    "gens_r_count = 0\n",
    "fakes_sum = 0\n",
    "fakes_r_count = 0\n",
    "randoms_sum = 0\n",
    "randoms_r_count = 0\n",
    "for user_id in tqdm.tqdm(data_f['user_id'].unique(), ascii=True):\n",
    "    y_train = data_f_gen_12['user_id']==user_id\n",
    "    X_train = visual_f.loc[y_train.index]\n",
    "    class_weight = (data_f_gen_12.shape[0]-data_f_gen_12[y_train].shape[0])/data_f_gen_12[y_train].shape[0]\n",
    "    # clf = XGBClassifier(tree_method='gpu_hist',verbosity=2, scale_pos_weight=float(class_weight))\n",
    "    clf = SVC(C=1,class_weight='balanced',gamma='scale', probability=True, kernel='linear', random_state=1923, cache_size=500) # gens avg: 0.9433333333333331 fakes_avg: 0.8593333333333333 cumulative_avg: 0.9013333333333332\n",
    "    clf.fit(X_train, y_train)\n",
    "    y_valid_fakes = data_f_fake.loc[(data_f_fake['user_id']==user_id) & (data_f_fake['sig_id'].isin(np.arange(1,11)))]\n",
    "    y_valid_f = len(y_valid_fakes.index)*[False]\n",
    "    X_valid_f = visual_f.loc[y_valid_fakes.index]\n",
    "    # score = accuracy_score(y_valid_f, (clf.predict(X_valid_f)))\n",
    "    score = accuracy_score(y_valid_f, (clf.predict_proba(X_valid_f)[:,1]> DECISION_THRESHOLD))\n",
    "    # score = clf.score(X_valid_f,y_valid_f)\n",
    "    fakes_sum += score\n",
    "    fakes_r_count += 1 \n",
    "    # print(score)\n",
    "    scores_sum += score\n",
    "    run_count += 1\n",
    "    y_valid_gens = data_f_gen_valid_12.loc[data_f_gen_valid_12['user_id']==user_id]\n",
    "    y_valid_g = len(y_valid_gens.index)*[True]\n",
    "    X_valid_g = visual_f.loc[y_valid_gens.index]\n",
    "    # score = accuracy_score(y_valid_g, (clf.predict(X_valid_g)))\n",
    "    score = accuracy_score(y_valid_g, (clf.predict_proba(X_valid_g)[:,1]> DECISION_THRESHOLD))\n",
    "    # score = clf.score(X_valid_g,y_valid_g)\n",
    "    gens_sum += score\n",
    "    gens_r_count += 1 \n",
    "    # print(score)\n",
    "    scores_sum += score\n",
    "    run_count += 1\n",
    "    y_valid_rand_fakes = data_f_gen_valid_12.loc[choice(data_f_gen_valid_12.loc[data_f_gen_valid_12['user_id']!=user_id].index,10)]\n",
    "    y_valid_rf = len(y_valid_rand_fakes.index)*[False]\n",
    "    X_valid_rf = visual_f.loc[y_valid_rand_fakes.index]\n",
    "    score = clf.score(X_valid_rf,y_valid_rf)\n",
    "    randoms_sum += score\n",
    "    randoms_r_count += 1 \n",
    "    # print(score)\n",
    "    scores_sum += score\n",
    "    run_count += 1\n",
    "    # print(scores_sum/run_count)\n",
    "    print (\"gens avg:\", float(gens_sum)/gens_r_count, \"fakes_avg:\", float(fakes_sum)/fakes_r_count, \n",
    "        \"rand_avg\", float(randoms_sum)/randoms_r_count,\"cumulative_avg:\", (float(gens_sum)/gens_r_count)/3 + \n",
    "        (float(fakes_sum)/fakes_r_count)/3 + (float(randoms_sum)/randoms_r_count)/3)"
   ]
  },
  {
   "cell_type": "code",
   "execution_count": 8,
   "metadata": {},
   "outputs": [
    {
     "data": {
      "text/plain": [
       "0.6"
      ]
     },
     "execution_count": 8,
     "metadata": {},
     "output_type": "execute_result"
    }
   ],
   "source": [
    "accuracy_score(y_valid_f, (clf.predict(X_valid_f)))"
   ]
  },
  {
   "cell_type": "code",
   "execution_count": 9,
   "metadata": {},
   "outputs": [
    {
     "data": {
      "text/plain": [
       "10"
      ]
     },
     "execution_count": 9,
     "metadata": {},
     "output_type": "execute_result"
    }
   ],
   "source": [
    "len(y_valid_rf)"
   ]
  },
  {
   "cell_type": "code",
   "execution_count": null,
   "metadata": {},
   "outputs": [],
   "source": []
  }
 ],
 "metadata": {
  "kernelspec": {
   "display_name": "Python 3",
   "language": "python",
   "name": "python3"
  },
  "language_info": {
   "codemirror_mode": {
    "name": "ipython",
    "version": 3
   },
   "file_extension": ".py",
   "mimetype": "text/x-python",
   "name": "python",
   "nbconvert_exporter": "python",
   "pygments_lexer": "ipython3",
   "version": "3.7.3"
  }
 },
 "nbformat": 4,
 "nbformat_minor": 2
}
