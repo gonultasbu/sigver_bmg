{
 "cells": [
  {
   "cell_type": "code",
   "execution_count": 1,
   "metadata": {
    "scrolled": true
   },
   "outputs": [],
   "source": [
    "import scipy.io as sio\n",
    "from scipy.misc import imread\n",
    "from preprocess.normalize import preprocess_signature\n",
    "import tf_signet\n",
    "from tf_cnn_model import TF_CNNModel\n",
    "import tensorflow as tf\n",
    "import numpy as np\n",
    "import pandas as pd\n",
    "import sys\n",
    "import os\n",
    "import scipy.io\n",
    "from find_largest_image import find_largest\n",
    "import tqdm \n",
    "from sklearn.model_selection import train_test_split\n",
    "from sklearn.svm import SVC\n",
    "from xgboost import XGBClassifier\n",
    "import random\n",
    "from numpy.random import choice\n",
    "from sklearn.neural_network import MLPClassifier\n",
    "from sklearn.metrics import accuracy_score, roc_curve\n",
    "import sklearn.pipeline as pipeline\n",
    "import sklearn.preprocessing as preprocessing"
   ]
  },
  {
   "cell_type": "code",
   "execution_count": 2,
   "metadata": {},
   "outputs": [],
   "source": [
    "data_folder = 'C:\\\\Users\\\\Mert\\\\Documents\\\\GitHub\\\\sigver_bmg\\\\data\\\\downloaded_pp_features\\\\gpds_signet_all'"
   ]
  },
  {
   "cell_type": "code",
   "execution_count": 3,
   "metadata": {},
   "outputs": [],
   "source": [
    "user_kernel='rbf'"
   ]
  },
  {
   "cell_type": "code",
   "execution_count": 4,
   "metadata": {},
   "outputs": [],
   "source": [
    "data_f = pd.read_csv(os.path.join(data_folder,'data_features.csv'))\n",
    "visual_f = pd.read_csv(os.path.join(data_folder,'visual_features.csv'))"
   ]
  },
  {
   "cell_type": "markdown",
   "metadata": {},
   "source": [
    "# MODEL SELECTION & TRAINING"
   ]
  },
  {
   "cell_type": "code",
   "execution_count": 5,
   "metadata": {},
   "outputs": [
    {
     "name": "stderr",
     "output_type": "stream",
     "text": [
      "100%|##################################################################################| 50/50 [02:14<00:00,  2.57s/it]\n",
      "100%|##################################################################################| 50/50 [02:07<00:00,  2.72s/it]\n",
      "100%|##################################################################################| 50/50 [02:06<00:00,  2.59s/it]\n",
      "100%|##################################################################################| 50/50 [02:08<00:00,  2.51s/it]\n",
      "100%|##################################################################################| 50/50 [02:00<00:00,  2.63s/it]\n"
     ]
    }
   ],
   "source": [
    "fakes_preds = []\n",
    "gens_preds = []\n",
    "\n",
    "dev_exp_ratio = 0.66\n",
    "sorted_id_list = np.sort(data_f['user_id'].unique())\n",
    "dev_exp_splitter=int(len(sorted_id_list)*dev_exp_ratio)\n",
    "dev_val_user_ids = sorted_id_list[:dev_exp_splitter]\n",
    "\n",
    "for fold in np.arange(0,5):\n",
    "    assert len(dev_val_user_ids)==581\n",
    "    np.random.shuffle(dev_val_user_ids)\n",
    "    dev_user_ids = dev_val_user_ids[0:531]\n",
    "    validation_user_ids = dev_val_user_ids[531:len(dev_val_user_ids)]\n",
    "\n",
    "    dev_df = data_f.loc[data_f['user_id'].isin(dev_user_ids)]\n",
    "    dev_vf = visual_f.loc[dev_df.index]\n",
    "    val_df = data_f.loc[data_f['user_id'].isin(validation_user_ids)]\n",
    "    val_vf = visual_f.loc[val_df.index]\n",
    "\n",
    "    dev_df_gen = dev_df.loc[dev_df['fakeness']==0]\n",
    "    dev_df_fake = dev_df.loc[dev_df['fakeness']==1]\n",
    "    dev_df_gen_12 = dev_df_gen.loc[dev_df_gen['sig_id'].isin(np.arange(1,13))]\n",
    "    dev_df_valid_12 = dev_df_gen.loc[dev_df_gen['sig_id'].isin(np.arange(13,25))]\n",
    "    \n",
    "    val_df_gen = val_df.loc[val_df['fakeness']==0]\n",
    "    val_df_fake = val_df.loc[val_df['fakeness']==1]\n",
    "    val_df_gen_12 = val_df_gen.loc[val_df_gen['sig_id'].isin(np.arange(1,13))]\n",
    "    val_df_valid_gen_12 = val_df_gen.loc[val_df_gen['sig_id'].isin(np.arange(13,25))]\n",
    "\n",
    "    for user_id in tqdm.tqdm(validation_user_ids, ascii=True):\n",
    "        clf = SVC(C=1,gamma='scale',class_weight='balanced', probability=False, kernel=user_kernel)\n",
    "        y_train = (pd.concat([val_df_gen_12.loc[val_df_gen_12['user_id']==user_id],dev_df_gen.loc[dev_df_gen['user_id']!=user_id]]))['user_id']==user_id\n",
    "        X_train = visual_f.loc[y_train.index]  \n",
    "        clf.fit(X_train, y_train)\n",
    "        y_valid_fakes = val_df_fake.loc[(val_df_fake['user_id']==user_id)]\n",
    "        X_valid_f = visual_f.loc[y_valid_fakes.index]\n",
    "        fakes_preds.append(clf.decision_function(X_valid_f))\n",
    "        y_valid_gens = val_df_valid_gen_12.loc[val_df_valid_gen_12['user_id']==user_id]\n",
    "        X_valid_g = visual_f.loc[y_valid_gens.index]\n",
    "        gens_preds.append(clf.decision_function(X_valid_g))"
   ]
  },
  {
   "cell_type": "markdown",
   "metadata": {},
   "source": [
    "# GLOBAL THRESHOLD SELECTION"
   ]
  },
  {
   "cell_type": "code",
   "execution_count": 6,
   "metadata": {},
   "outputs": [
    {
     "name": "stdout",
     "output_type": "stream",
     "text": [
      "EER_glob :  8.24742268041237 \n",
      "EER_Threshold_glob :  -0.1000408573401752\n"
     ]
    }
   ],
   "source": [
    "flat_fakes_preds = np.expand_dims(np.array([item for sublist in fakes_preds for item in sublist]),axis=1)\n",
    "flat_gens_preds = np.expand_dims(np.array([item for sublist in gens_preds for item in sublist]),axis=1)\n",
    "all_preds = np.vstack((flat_fakes_preds,flat_gens_preds))\n",
    "all_labels = np.vstack((np.zeros((flat_fakes_preds.shape[0],1)),np.ones((flat_gens_preds.shape[0],1))))\n",
    "\n",
    "fpr,tpr,threshold = roc_curve(all_labels,all_preds)\n",
    "fnr = 1 - tpr\n",
    "EER = fpr[np.nanargmin(np.absolute((fnr - fpr)))]\n",
    "eer_th = threshold[np.nanargmin(np.absolute((fnr - fpr)))]\n",
    "print('EER_glob : ', EER*100,'\\nEER_Threshold_glob : ', eer_th)\n",
    "glob_th = eer_th"
   ]
  },
  {
   "cell_type": "code",
   "execution_count": 7,
   "metadata": {},
   "outputs": [
    {
     "name": "stdout",
     "output_type": "stream",
     "text": [
      "EER_user :  4.87207808794015\n"
     ]
    }
   ],
   "source": [
    "assert len(fakes_preds)==len(gens_preds)\n",
    "EER_accum=0\n",
    "for idx,val in enumerate(fakes_preds):\n",
    "    user_fakes_preds = np.expand_dims(np.array(fakes_preds[idx]),axis=1)\n",
    "    user_gens_preds = np.expand_dims(np.array(gens_preds[idx]),axis=1)\n",
    "    all_user_preds = np.vstack((user_fakes_preds,user_gens_preds))\n",
    "    all_user_labels = np.vstack((np.zeros((user_fakes_preds.shape[0],1)),np.ones((user_gens_preds.shape[0],1)))) \n",
    "    fpr,tpr,threshold = roc_curve(all_user_labels,all_user_preds)\n",
    "    fnr = 1 - tpr\n",
    "    EER = fpr[np.nanargmin(np.absolute((fnr - fpr)))]\n",
    "    EER_accum += EER\n",
    "    \n",
    "print('EER_user : ', (EER_accum*100)/len(fakes_preds)) "
   ]
  },
  {
   "cell_type": "code",
   "execution_count": 8,
   "metadata": {},
   "outputs": [
    {
     "name": "stdout",
     "output_type": "stream",
     "text": [
      "-0.1000408573401752\n"
     ]
    }
   ],
   "source": [
    "print(glob_th)"
   ]
  },
  {
   "cell_type": "markdown",
   "metadata": {},
   "source": [
    "# TRAIN AND TEST ON THE EXPLOITATION SET"
   ]
  },
  {
   "cell_type": "code",
   "execution_count": 9,
   "metadata": {},
   "outputs": [
    {
     "name": "stderr",
     "output_type": "stream",
     "text": [
      "100%|################################################################################| 300/300 [07:43<00:00,  1.42s/it]\n"
     ]
    }
   ],
   "source": [
    "test_gens_preds = []\n",
    "test_fakes_preds = []\n",
    "exp_user_ids = sorted_id_list[dev_exp_splitter:]\n",
    "    \n",
    "exp_df = data_f.loc[data_f['user_id'].isin(exp_user_ids)]\n",
    "exp_vf = visual_f.loc[exp_df.index]\n",
    "exp_df_gen = exp_df.loc[exp_df['fakeness']==0]\n",
    "exp_df_fake = exp_df.loc[exp_df['fakeness']==1]\n",
    "exp_df_gen_12 = exp_df_gen.loc[exp_df_gen['sig_id'].isin(np.arange(1,13))]\n",
    "exp_df_valid_gen_12 = exp_df_gen.loc[exp_df_gen['sig_id'].isin(np.arange(13,25))]\n",
    "\n",
    "dev_val_df = data_f.loc[data_f['user_id'].isin(dev_val_user_ids)]\n",
    "dev_val_vf = visual_f.loc[dev_val_df.index]\n",
    "dev_val_df_gen = dev_val_df.loc[dev_val_df['fakeness']==0]\n",
    "dev_val_df_fake = dev_val_df.loc[dev_val_df['fakeness']==1]\n",
    "dev_val_df_valid_gen_14 = dev_val_df_gen.loc[dev_val_df_gen['sig_id'].isin(np.arange(11,25))]\n",
    "\n",
    "for user_id in tqdm.tqdm(exp_user_ids, ascii=True):\n",
    "    clf = SVC(C=1,gamma='scale',class_weight='balanced', probability=False, kernel=user_kernel)\n",
    "    y_train = (pd.concat([exp_df_gen_12.loc[exp_df_gen_12['user_id']==user_id],dev_val_df_valid_gen_14.loc[dev_val_df_valid_gen_14['user_id']!=user_id]]))['user_id']==user_id\n",
    "    X_train = visual_f.loc[y_train.index]  \n",
    "    clf.fit(X_train, y_train)\n",
    "    y_valid_fakes = exp_df_fake.loc[(exp_df_fake['user_id']==user_id)]\n",
    "    X_valid_f = visual_f.loc[y_valid_fakes.index]\n",
    "    test_fakes_preds.append(clf.decision_function(X_valid_f))\n",
    "    y_valid_gens = exp_df_valid_gen_12.loc[exp_df_valid_gen_12['user_id']==user_id]\n",
    "    X_valid_g = visual_f.loc[y_valid_gens.index]\n",
    "    test_gens_preds.append(clf.decision_function(X_valid_g))"
   ]
  },
  {
   "cell_type": "code",
   "execution_count": 10,
   "metadata": {},
   "outputs": [
    {
     "name": "stdout",
     "output_type": "stream",
     "text": [
      "____At the EER threshold decided on the Validation set____\n",
      "FRR :  5.055555555555557\n",
      "FARskilled :  8.550434201736811\n"
     ]
    }
   ],
   "source": [
    "flat_test_fakes_preds = np.expand_dims(np.array([item for sublist in test_fakes_preds for item in sublist]),axis=1)\n",
    "flat_test_gens_preds = np.expand_dims(np.array([item for sublist in test_gens_preds for item in sublist]),axis=1)\n",
    "print(\"____At the EER threshold decided on the Validation set____\")\n",
    "print(\"FRR : \",(1-len(flat_test_gens_preds[flat_test_gens_preds>=glob_th])/len(flat_test_gens_preds))*100)\n",
    "print(\"FARskilled : \",(1-len(flat_test_fakes_preds[flat_test_fakes_preds<glob_th])/len(flat_test_fakes_preds))*100)"
   ]
  },
  {
   "cell_type": "code",
   "execution_count": 11,
   "metadata": {},
   "outputs": [
    {
     "name": "stdout",
     "output_type": "stream",
     "text": [
      "EER_glob for test set:  6.980627922511689 \n",
      "EER_Threshold_glob for test set:  -0.022186558951518\n"
     ]
    }
   ],
   "source": [
    "all_test_preds = np.vstack((flat_test_fakes_preds,flat_test_gens_preds))\n",
    "all_test_labels = np.vstack((np.zeros((flat_test_fakes_preds.shape[0],1)),np.ones((flat_test_gens_preds.shape[0],1))))\n",
    "\n",
    "fpr,tpr,threshold = roc_curve(all_test_labels,all_test_preds)\n",
    "fnr = 1 - tpr\n",
    "EER = fpr[np.nanargmin(np.absolute((fnr - fpr)))]\n",
    "eer_th = threshold[np.nanargmin(np.absolute((fnr - fpr)))]\n",
    "print('EER_glob for test set: ', EER*100,'\\nEER_Threshold_glob for test set: ', eer_th)"
   ]
  },
  {
   "cell_type": "code",
   "execution_count": 12,
   "metadata": {},
   "outputs": [
    {
     "name": "stdout",
     "output_type": "stream",
     "text": [
      "EER_user for test set :  4.349629629629626\n"
     ]
    }
   ],
   "source": [
    "assert len(test_fakes_preds)==len(test_gens_preds)\n",
    "EER_accum=0\n",
    "for idx,val in enumerate(test_fakes_preds):\n",
    "    user_fakes_preds = np.expand_dims(np.array(test_fakes_preds[idx]),axis=1)\n",
    "    user_gens_preds = np.expand_dims(np.array(test_gens_preds[idx]),axis=1)\n",
    "    all_user_preds = np.vstack((user_fakes_preds,user_gens_preds))\n",
    "    all_user_labels = np.vstack((np.zeros((user_fakes_preds.shape[0],1)),np.ones((user_gens_preds.shape[0],1)))) \n",
    "    fpr,tpr,threshold = roc_curve(all_user_labels,all_user_preds)\n",
    "    fnr = 1 - tpr\n",
    "    EER = fpr[np.nanargmin(np.absolute((fnr - fpr)))]\n",
    "    EER_accum += EER\n",
    "    \n",
    "print('EER_user for test set : ', (EER_accum*100)/len(fakes_preds)) "
   ]
  }
 ],
 "metadata": {
  "kernelspec": {
   "display_name": "Python 3",
   "language": "python",
   "name": "python3"
  },
  "language_info": {
   "codemirror_mode": {
    "name": "ipython",
    "version": 3
   },
   "file_extension": ".py",
   "mimetype": "text/x-python",
   "name": "python",
   "nbconvert_exporter": "python",
   "pygments_lexer": "ipython3",
   "version": "3.7.3"
  }
 },
 "nbformat": 4,
 "nbformat_minor": 2
}
