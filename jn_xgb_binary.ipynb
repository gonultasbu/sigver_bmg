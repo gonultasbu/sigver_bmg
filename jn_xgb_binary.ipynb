{
 "cells": [
  {
   "cell_type": "code",
   "execution_count": 1,
   "metadata": {},
   "outputs": [
    {
     "name": "stderr",
     "output_type": "stream",
     "text": [
      "c:\\users\\mert\\anaconda3\\envs\\ml_env\\lib\\site-packages\\dask\\config.py:168: YAMLLoadWarning: calling yaml.load() without Loader=... is deprecated, as the default Loader is unsafe. Please read https://msg.pyyaml.org/load for full details.\n",
      "  data = yaml.load(f.read()) or {}\n"
     ]
    }
   ],
   "source": [
    "from scipy.misc import imread\n",
    "from preprocess.normalize import preprocess_signature\n",
    "import tf_signet\n",
    "from tf_cnn_model import TF_CNNModel\n",
    "import tensorflow as tf\n",
    "import numpy as np\n",
    "import pandas as pd\n",
    "import sys\n",
    "import os\n",
    "import scipy.io\n",
    "from find_largest_image import find_largest\n",
    "import tqdm \n",
    "from sklearn.model_selection import train_test_split\n",
    "from sklearn.svm import SVC\n",
    "from xgboost import XGBClassifier\n",
    "# from lightgbm import LGBMClassifier\n",
    "# from thundersvm import SVC\n",
    "from sklearn.svm import SVC\n",
    "import random\n",
    "from numpy.random import choice"
   ]
  },
  {
   "cell_type": "code",
   "execution_count": 2,
   "metadata": {
    "scrolled": true
   },
   "outputs": [
    {
     "data": {
      "text/plain": [
       "['data_features.csv', 'firmasSINTESISmanuscritas', 'visual_features.csv']"
      ]
     },
     "execution_count": 2,
     "metadata": {},
     "output_type": "execute_result"
    }
   ],
   "source": [
    "os.listdir(os.path.join(os.getcwd(),'data','GPDSSyntheticSignatures4k'))"
   ]
  },
  {
   "cell_type": "code",
   "execution_count": 3,
   "metadata": {},
   "outputs": [],
   "source": [
    "data_f = pd.read_csv(os.path.join(os.getcwd(),'data','GPDSSyntheticSignatures4k','data_features.csv'))\n",
    "visual_f = pd.read_csv(os.path.join(os.getcwd(),'data','GPDSSyntheticSignatures4k','visual_features.csv'))"
   ]
  },
  {
   "cell_type": "code",
   "execution_count": 4,
   "metadata": {},
   "outputs": [
    {
     "data": {
      "text/html": [
       "<div>\n",
       "<style scoped>\n",
       "    .dataframe tbody tr th:only-of-type {\n",
       "        vertical-align: middle;\n",
       "    }\n",
       "\n",
       "    .dataframe tbody tr th {\n",
       "        vertical-align: top;\n",
       "    }\n",
       "\n",
       "    .dataframe thead th {\n",
       "        text-align: right;\n",
       "    }\n",
       "</style>\n",
       "<table border=\"1\" class=\"dataframe\">\n",
       "  <thead>\n",
       "    <tr style=\"text-align: right;\">\n",
       "      <th></th>\n",
       "      <th>path</th>\n",
       "      <th>user_id</th>\n",
       "      <th>sig_id</th>\n",
       "      <th>fakeness</th>\n",
       "    </tr>\n",
       "  </thead>\n",
       "  <tbody>\n",
       "    <tr>\n",
       "      <th>0</th>\n",
       "      <td>/home/mert/Desktop/sigver_dataset/GPDSSyntheti...</td>\n",
       "      <td>3131</td>\n",
       "      <td>29</td>\n",
       "      <td>True</td>\n",
       "    </tr>\n",
       "    <tr>\n",
       "      <th>1</th>\n",
       "      <td>/home/mert/Desktop/sigver_dataset/GPDSSyntheti...</td>\n",
       "      <td>3131</td>\n",
       "      <td>7</td>\n",
       "      <td>False</td>\n",
       "    </tr>\n",
       "    <tr>\n",
       "      <th>2</th>\n",
       "      <td>/home/mert/Desktop/sigver_dataset/GPDSSyntheti...</td>\n",
       "      <td>3131</td>\n",
       "      <td>4</td>\n",
       "      <td>False</td>\n",
       "    </tr>\n",
       "    <tr>\n",
       "      <th>3</th>\n",
       "      <td>/home/mert/Desktop/sigver_dataset/GPDSSyntheti...</td>\n",
       "      <td>3131</td>\n",
       "      <td>26</td>\n",
       "      <td>True</td>\n",
       "    </tr>\n",
       "    <tr>\n",
       "      <th>4</th>\n",
       "      <td>/home/mert/Desktop/sigver_dataset/GPDSSyntheti...</td>\n",
       "      <td>3131</td>\n",
       "      <td>17</td>\n",
       "      <td>False</td>\n",
       "    </tr>\n",
       "  </tbody>\n",
       "</table>\n",
       "</div>"
      ],
      "text/plain": [
       "                                                path  user_id  sig_id  \\\n",
       "0  /home/mert/Desktop/sigver_dataset/GPDSSyntheti...     3131      29   \n",
       "1  /home/mert/Desktop/sigver_dataset/GPDSSyntheti...     3131       7   \n",
       "2  /home/mert/Desktop/sigver_dataset/GPDSSyntheti...     3131       4   \n",
       "3  /home/mert/Desktop/sigver_dataset/GPDSSyntheti...     3131      26   \n",
       "4  /home/mert/Desktop/sigver_dataset/GPDSSyntheti...     3131      17   \n",
       "\n",
       "   fakeness  \n",
       "0      True  \n",
       "1     False  \n",
       "2     False  \n",
       "3      True  \n",
       "4     False  "
      ]
     },
     "execution_count": 4,
     "metadata": {},
     "output_type": "execute_result"
    }
   ],
   "source": [
    "data_f.columns = ['path','user_id','sig_id','fakeness']\n",
    "data_f.head()"
   ]
  },
  {
   "cell_type": "code",
   "execution_count": 5,
   "metadata": {},
   "outputs": [
    {
     "data": {
      "text/html": [
       "<div>\n",
       "<style scoped>\n",
       "    .dataframe tbody tr th:only-of-type {\n",
       "        vertical-align: middle;\n",
       "    }\n",
       "\n",
       "    .dataframe tbody tr th {\n",
       "        vertical-align: top;\n",
       "    }\n",
       "\n",
       "    .dataframe thead th {\n",
       "        text-align: right;\n",
       "    }\n",
       "</style>\n",
       "<table border=\"1\" class=\"dataframe\">\n",
       "  <thead>\n",
       "    <tr style=\"text-align: right;\">\n",
       "      <th></th>\n",
       "      <th>0</th>\n",
       "      <th>1</th>\n",
       "      <th>2</th>\n",
       "      <th>3</th>\n",
       "      <th>4</th>\n",
       "      <th>5</th>\n",
       "      <th>6</th>\n",
       "      <th>7</th>\n",
       "      <th>8</th>\n",
       "      <th>9</th>\n",
       "      <th>...</th>\n",
       "      <th>2038</th>\n",
       "      <th>2039</th>\n",
       "      <th>2040</th>\n",
       "      <th>2041</th>\n",
       "      <th>2042</th>\n",
       "      <th>2043</th>\n",
       "      <th>2044</th>\n",
       "      <th>2045</th>\n",
       "      <th>2046</th>\n",
       "      <th>2047</th>\n",
       "    </tr>\n",
       "  </thead>\n",
       "  <tbody>\n",
       "    <tr>\n",
       "      <th>0</th>\n",
       "      <td>0.0</td>\n",
       "      <td>0.0</td>\n",
       "      <td>2.086571</td>\n",
       "      <td>1.046970</td>\n",
       "      <td>2.012711</td>\n",
       "      <td>0.0</td>\n",
       "      <td>1.471289</td>\n",
       "      <td>0.0</td>\n",
       "      <td>0.0</td>\n",
       "      <td>1.308222</td>\n",
       "      <td>...</td>\n",
       "      <td>0.000000</td>\n",
       "      <td>2.560242</td>\n",
       "      <td>0.000000</td>\n",
       "      <td>0.000000</td>\n",
       "      <td>1.761090</td>\n",
       "      <td>2.054384</td>\n",
       "      <td>0.0</td>\n",
       "      <td>0.0</td>\n",
       "      <td>1.875244</td>\n",
       "      <td>1.555655</td>\n",
       "    </tr>\n",
       "    <tr>\n",
       "      <th>1</th>\n",
       "      <td>0.0</td>\n",
       "      <td>0.0</td>\n",
       "      <td>1.909776</td>\n",
       "      <td>1.295273</td>\n",
       "      <td>0.983222</td>\n",
       "      <td>0.0</td>\n",
       "      <td>0.708483</td>\n",
       "      <td>0.0</td>\n",
       "      <td>0.0</td>\n",
       "      <td>0.912948</td>\n",
       "      <td>...</td>\n",
       "      <td>0.000000</td>\n",
       "      <td>2.821531</td>\n",
       "      <td>0.000000</td>\n",
       "      <td>1.145785</td>\n",
       "      <td>2.461549</td>\n",
       "      <td>1.759992</td>\n",
       "      <td>0.0</td>\n",
       "      <td>0.0</td>\n",
       "      <td>2.124749</td>\n",
       "      <td>1.689826</td>\n",
       "    </tr>\n",
       "    <tr>\n",
       "      <th>2</th>\n",
       "      <td>0.0</td>\n",
       "      <td>0.0</td>\n",
       "      <td>1.989003</td>\n",
       "      <td>1.175972</td>\n",
       "      <td>1.191586</td>\n",
       "      <td>0.0</td>\n",
       "      <td>1.047355</td>\n",
       "      <td>0.0</td>\n",
       "      <td>0.0</td>\n",
       "      <td>1.942684</td>\n",
       "      <td>...</td>\n",
       "      <td>0.000000</td>\n",
       "      <td>2.109819</td>\n",
       "      <td>0.017639</td>\n",
       "      <td>0.462309</td>\n",
       "      <td>2.615123</td>\n",
       "      <td>1.609518</td>\n",
       "      <td>0.0</td>\n",
       "      <td>0.0</td>\n",
       "      <td>2.022851</td>\n",
       "      <td>1.887849</td>\n",
       "    </tr>\n",
       "    <tr>\n",
       "      <th>3</th>\n",
       "      <td>0.0</td>\n",
       "      <td>0.0</td>\n",
       "      <td>2.345391</td>\n",
       "      <td>1.077277</td>\n",
       "      <td>2.091065</td>\n",
       "      <td>0.0</td>\n",
       "      <td>1.449416</td>\n",
       "      <td>0.0</td>\n",
       "      <td>0.0</td>\n",
       "      <td>1.610568</td>\n",
       "      <td>...</td>\n",
       "      <td>0.000000</td>\n",
       "      <td>2.581949</td>\n",
       "      <td>0.000000</td>\n",
       "      <td>0.000000</td>\n",
       "      <td>1.917314</td>\n",
       "      <td>1.687836</td>\n",
       "      <td>0.0</td>\n",
       "      <td>0.0</td>\n",
       "      <td>2.093908</td>\n",
       "      <td>1.857081</td>\n",
       "    </tr>\n",
       "    <tr>\n",
       "      <th>4</th>\n",
       "      <td>0.0</td>\n",
       "      <td>0.0</td>\n",
       "      <td>0.980762</td>\n",
       "      <td>0.578907</td>\n",
       "      <td>0.712328</td>\n",
       "      <td>0.0</td>\n",
       "      <td>0.727942</td>\n",
       "      <td>0.0</td>\n",
       "      <td>0.0</td>\n",
       "      <td>1.355375</td>\n",
       "      <td>...</td>\n",
       "      <td>0.234534</td>\n",
       "      <td>2.123285</td>\n",
       "      <td>0.000000</td>\n",
       "      <td>1.186418</td>\n",
       "      <td>2.821104</td>\n",
       "      <td>1.428768</td>\n",
       "      <td>0.0</td>\n",
       "      <td>0.0</td>\n",
       "      <td>1.720274</td>\n",
       "      <td>1.232280</td>\n",
       "    </tr>\n",
       "  </tbody>\n",
       "</table>\n",
       "<p>5 rows × 2048 columns</p>\n",
       "</div>"
      ],
      "text/plain": [
       "     0    1         2         3         4    5         6    7    8         9  \\\n",
       "0  0.0  0.0  2.086571  1.046970  2.012711  0.0  1.471289  0.0  0.0  1.308222   \n",
       "1  0.0  0.0  1.909776  1.295273  0.983222  0.0  0.708483  0.0  0.0  0.912948   \n",
       "2  0.0  0.0  1.989003  1.175972  1.191586  0.0  1.047355  0.0  0.0  1.942684   \n",
       "3  0.0  0.0  2.345391  1.077277  2.091065  0.0  1.449416  0.0  0.0  1.610568   \n",
       "4  0.0  0.0  0.980762  0.578907  0.712328  0.0  0.727942  0.0  0.0  1.355375   \n",
       "\n",
       "   ...      2038      2039      2040      2041      2042      2043  2044  \\\n",
       "0  ...  0.000000  2.560242  0.000000  0.000000  1.761090  2.054384   0.0   \n",
       "1  ...  0.000000  2.821531  0.000000  1.145785  2.461549  1.759992   0.0   \n",
       "2  ...  0.000000  2.109819  0.017639  0.462309  2.615123  1.609518   0.0   \n",
       "3  ...  0.000000  2.581949  0.000000  0.000000  1.917314  1.687836   0.0   \n",
       "4  ...  0.234534  2.123285  0.000000  1.186418  2.821104  1.428768   0.0   \n",
       "\n",
       "   2045      2046      2047  \n",
       "0   0.0  1.875244  1.555655  \n",
       "1   0.0  2.124749  1.689826  \n",
       "2   0.0  2.022851  1.887849  \n",
       "3   0.0  2.093908  1.857081  \n",
       "4   0.0  1.720274  1.232280  \n",
       "\n",
       "[5 rows x 2048 columns]"
      ]
     },
     "execution_count": 5,
     "metadata": {},
     "output_type": "execute_result"
    }
   ],
   "source": [
    "visual_f.head()"
   ]
  },
  {
   "cell_type": "code",
   "execution_count": 6,
   "metadata": {},
   "outputs": [
    {
     "name": "stdout",
     "output_type": "stream",
     "text": [
      "(216000, 4)\n",
      "(216000, 2048)\n",
      "4000 users are enrolled in the dataset\n"
     ]
    }
   ],
   "source": [
    "print(data_f.shape)\n",
    "print(visual_f.shape)\n",
    "user_count = len(data_f['user_id'].unique())\n",
    "print(user_count, 'users are enrolled in the dataset')"
   ]
  },
  {
   "cell_type": "code",
   "execution_count": 7,
   "metadata": {},
   "outputs": [
    {
     "name": "stderr",
     "output_type": "stream",
     "text": [
      "c:\\users\\mert\\anaconda3\\envs\\ml_env\\lib\\site-packages\\sklearn\\model_selection\\_split.py:2179: FutureWarning: From version 0.21, test_size will always complement train_size unless both are specified.\n",
      "  FutureWarning)\n"
     ]
    }
   ],
   "source": [
    "user_id_list = np.arange(1,len(data_f['user_id'].unique())/5+1)\n",
    "train_idx, test_idx = train_test_split(user_id_list, train_size=0.8, random_state=1923)"
   ]
  },
  {
   "cell_type": "code",
   "execution_count": 8,
   "metadata": {},
   "outputs": [],
   "source": [
    "# Filter train users and test users.\n",
    "data_f_train = data_f.loc[data_f['user_id'].isin(train_idx)]\n",
    "data_f_test = data_f.loc[data_f['user_id'].isin(test_idx)]\n",
    "# Filter fakes and genuines.\n",
    "data_f_train_gen = data_f_train.loc[data_f_train['fakeness']==False]\n",
    "data_f_train_fake = data_f_train.loc[data_f_train['fakeness']==True]\n",
    "data_f_train_gen_5 = data_f_train_gen.loc[data_f_train_gen['sig_id'].isin(np.arange(1,6))]\n",
    "data_f_train_gen_14 = data_f_train_gen.loc[data_f_train_gen['sig_id'].isin(np.arange(1,15))]\n",
    "data_f_train_gen_valid_10 = data_f_train_gen.loc[data_f_train_gen['sig_id'].isin(np.arange(15,25))]"
   ]
  },
  {
   "cell_type": "code",
   "execution_count": 17,
   "metadata": {},
   "outputs": [
    {
     "data": {
      "text/html": [
       "<div>\n",
       "<style scoped>\n",
       "    .dataframe tbody tr th:only-of-type {\n",
       "        vertical-align: middle;\n",
       "    }\n",
       "\n",
       "    .dataframe tbody tr th {\n",
       "        vertical-align: top;\n",
       "    }\n",
       "\n",
       "    .dataframe thead th {\n",
       "        text-align: right;\n",
       "    }\n",
       "</style>\n",
       "<table border=\"1\" class=\"dataframe\">\n",
       "  <thead>\n",
       "    <tr style=\"text-align: right;\">\n",
       "      <th></th>\n",
       "      <th>0</th>\n",
       "      <th>1</th>\n",
       "      <th>2</th>\n",
       "      <th>3</th>\n",
       "      <th>4</th>\n",
       "      <th>5</th>\n",
       "      <th>6</th>\n",
       "      <th>7</th>\n",
       "      <th>8</th>\n",
       "      <th>9</th>\n",
       "      <th>...</th>\n",
       "      <th>2038</th>\n",
       "      <th>2039</th>\n",
       "      <th>2040</th>\n",
       "      <th>2041</th>\n",
       "      <th>2042</th>\n",
       "      <th>2043</th>\n",
       "      <th>2044</th>\n",
       "      <th>2045</th>\n",
       "      <th>2046</th>\n",
       "      <th>2047</th>\n",
       "    </tr>\n",
       "  </thead>\n",
       "  <tbody>\n",
       "    <tr>\n",
       "      <th>192695</th>\n",
       "      <td>0.0</td>\n",
       "      <td>0.000000</td>\n",
       "      <td>1.621573</td>\n",
       "      <td>0.752438</td>\n",
       "      <td>2.340590</td>\n",
       "      <td>0.0</td>\n",
       "      <td>1.527919</td>\n",
       "      <td>0.000000</td>\n",
       "      <td>0.000000</td>\n",
       "      <td>1.257096</td>\n",
       "      <td>...</td>\n",
       "      <td>0.000000</td>\n",
       "      <td>2.218231</td>\n",
       "      <td>0.000000</td>\n",
       "      <td>0.000000</td>\n",
       "      <td>1.447714</td>\n",
       "      <td>1.668069</td>\n",
       "      <td>0.0</td>\n",
       "      <td>0.0</td>\n",
       "      <td>1.279251</td>\n",
       "      <td>1.876335</td>\n",
       "    </tr>\n",
       "    <tr>\n",
       "      <th>58316</th>\n",
       "      <td>0.0</td>\n",
       "      <td>0.000000</td>\n",
       "      <td>0.271409</td>\n",
       "      <td>0.751206</td>\n",
       "      <td>0.093431</td>\n",
       "      <td>0.0</td>\n",
       "      <td>0.000000</td>\n",
       "      <td>0.703187</td>\n",
       "      <td>0.164419</td>\n",
       "      <td>1.222482</td>\n",
       "      <td>...</td>\n",
       "      <td>1.553104</td>\n",
       "      <td>0.302686</td>\n",
       "      <td>1.128608</td>\n",
       "      <td>0.551534</td>\n",
       "      <td>0.594208</td>\n",
       "      <td>0.471504</td>\n",
       "      <td>0.0</td>\n",
       "      <td>0.0</td>\n",
       "      <td>0.000000</td>\n",
       "      <td>1.883980</td>\n",
       "    </tr>\n",
       "    <tr>\n",
       "      <th>96752</th>\n",
       "      <td>0.0</td>\n",
       "      <td>0.085561</td>\n",
       "      <td>1.380951</td>\n",
       "      <td>1.273209</td>\n",
       "      <td>1.493375</td>\n",
       "      <td>0.0</td>\n",
       "      <td>0.735762</td>\n",
       "      <td>0.000000</td>\n",
       "      <td>0.000000</td>\n",
       "      <td>1.854687</td>\n",
       "      <td>...</td>\n",
       "      <td>0.000000</td>\n",
       "      <td>2.784135</td>\n",
       "      <td>0.000000</td>\n",
       "      <td>0.617424</td>\n",
       "      <td>2.019567</td>\n",
       "      <td>1.972065</td>\n",
       "      <td>0.0</td>\n",
       "      <td>0.0</td>\n",
       "      <td>2.209384</td>\n",
       "      <td>1.378371</td>\n",
       "    </tr>\n",
       "    <tr>\n",
       "      <th>60337</th>\n",
       "      <td>0.0</td>\n",
       "      <td>0.000000</td>\n",
       "      <td>1.298896</td>\n",
       "      <td>1.420663</td>\n",
       "      <td>1.260204</td>\n",
       "      <td>0.0</td>\n",
       "      <td>1.037401</td>\n",
       "      <td>0.000000</td>\n",
       "      <td>0.000000</td>\n",
       "      <td>1.711602</td>\n",
       "      <td>...</td>\n",
       "      <td>0.000000</td>\n",
       "      <td>2.634600</td>\n",
       "      <td>0.000000</td>\n",
       "      <td>1.421359</td>\n",
       "      <td>2.719750</td>\n",
       "      <td>1.646291</td>\n",
       "      <td>0.0</td>\n",
       "      <td>0.0</td>\n",
       "      <td>2.442997</td>\n",
       "      <td>1.877545</td>\n",
       "    </tr>\n",
       "    <tr>\n",
       "      <th>83234</th>\n",
       "      <td>0.0</td>\n",
       "      <td>0.467607</td>\n",
       "      <td>1.683026</td>\n",
       "      <td>2.387130</td>\n",
       "      <td>1.343066</td>\n",
       "      <td>0.0</td>\n",
       "      <td>1.613865</td>\n",
       "      <td>0.036213</td>\n",
       "      <td>0.000000</td>\n",
       "      <td>1.325640</td>\n",
       "      <td>...</td>\n",
       "      <td>0.233328</td>\n",
       "      <td>1.542116</td>\n",
       "      <td>0.000000</td>\n",
       "      <td>1.004324</td>\n",
       "      <td>1.391003</td>\n",
       "      <td>0.943640</td>\n",
       "      <td>0.0</td>\n",
       "      <td>0.0</td>\n",
       "      <td>1.740785</td>\n",
       "      <td>1.858059</td>\n",
       "    </tr>\n",
       "    <tr>\n",
       "      <th>60964</th>\n",
       "      <td>0.0</td>\n",
       "      <td>0.000000</td>\n",
       "      <td>1.722106</td>\n",
       "      <td>1.071501</td>\n",
       "      <td>2.263459</td>\n",
       "      <td>0.0</td>\n",
       "      <td>1.585181</td>\n",
       "      <td>0.000000</td>\n",
       "      <td>0.000000</td>\n",
       "      <td>1.239535</td>\n",
       "      <td>...</td>\n",
       "      <td>0.000000</td>\n",
       "      <td>2.448182</td>\n",
       "      <td>0.000000</td>\n",
       "      <td>0.000000</td>\n",
       "      <td>1.615686</td>\n",
       "      <td>1.517259</td>\n",
       "      <td>0.0</td>\n",
       "      <td>0.0</td>\n",
       "      <td>1.544139</td>\n",
       "      <td>1.738828</td>\n",
       "    </tr>\n",
       "    <tr>\n",
       "      <th>75217</th>\n",
       "      <td>0.0</td>\n",
       "      <td>0.137430</td>\n",
       "      <td>1.912181</td>\n",
       "      <td>0.896749</td>\n",
       "      <td>2.033177</td>\n",
       "      <td>0.0</td>\n",
       "      <td>1.603356</td>\n",
       "      <td>0.000000</td>\n",
       "      <td>0.000000</td>\n",
       "      <td>1.511271</td>\n",
       "      <td>...</td>\n",
       "      <td>0.000000</td>\n",
       "      <td>2.486612</td>\n",
       "      <td>0.000000</td>\n",
       "      <td>0.000000</td>\n",
       "      <td>1.636138</td>\n",
       "      <td>1.752387</td>\n",
       "      <td>0.0</td>\n",
       "      <td>0.0</td>\n",
       "      <td>1.690389</td>\n",
       "      <td>1.911143</td>\n",
       "    </tr>\n",
       "    <tr>\n",
       "      <th>49428</th>\n",
       "      <td>0.0</td>\n",
       "      <td>0.060129</td>\n",
       "      <td>1.418332</td>\n",
       "      <td>1.205353</td>\n",
       "      <td>2.070050</td>\n",
       "      <td>0.0</td>\n",
       "      <td>0.956670</td>\n",
       "      <td>0.000000</td>\n",
       "      <td>0.000000</td>\n",
       "      <td>1.131921</td>\n",
       "      <td>...</td>\n",
       "      <td>0.000000</td>\n",
       "      <td>1.794722</td>\n",
       "      <td>0.000000</td>\n",
       "      <td>0.000000</td>\n",
       "      <td>1.520536</td>\n",
       "      <td>1.791769</td>\n",
       "      <td>0.0</td>\n",
       "      <td>0.0</td>\n",
       "      <td>1.421181</td>\n",
       "      <td>2.156775</td>\n",
       "    </tr>\n",
       "    <tr>\n",
       "      <th>185165</th>\n",
       "      <td>0.0</td>\n",
       "      <td>0.000000</td>\n",
       "      <td>1.832127</td>\n",
       "      <td>1.112945</td>\n",
       "      <td>1.933915</td>\n",
       "      <td>0.0</td>\n",
       "      <td>1.433295</td>\n",
       "      <td>0.000000</td>\n",
       "      <td>0.000000</td>\n",
       "      <td>1.153206</td>\n",
       "      <td>...</td>\n",
       "      <td>0.000000</td>\n",
       "      <td>2.862256</td>\n",
       "      <td>0.000000</td>\n",
       "      <td>0.250512</td>\n",
       "      <td>2.097370</td>\n",
       "      <td>1.960247</td>\n",
       "      <td>0.0</td>\n",
       "      <td>0.0</td>\n",
       "      <td>2.131303</td>\n",
       "      <td>2.134420</td>\n",
       "    </tr>\n",
       "    <tr>\n",
       "      <th>12702</th>\n",
       "      <td>0.0</td>\n",
       "      <td>0.000000</td>\n",
       "      <td>2.013968</td>\n",
       "      <td>1.294413</td>\n",
       "      <td>1.719007</td>\n",
       "      <td>0.0</td>\n",
       "      <td>1.249856</td>\n",
       "      <td>0.000000</td>\n",
       "      <td>0.000000</td>\n",
       "      <td>2.108005</td>\n",
       "      <td>...</td>\n",
       "      <td>0.000000</td>\n",
       "      <td>2.412355</td>\n",
       "      <td>0.000000</td>\n",
       "      <td>0.129142</td>\n",
       "      <td>1.751121</td>\n",
       "      <td>1.619020</td>\n",
       "      <td>0.0</td>\n",
       "      <td>0.0</td>\n",
       "      <td>1.863611</td>\n",
       "      <td>1.954757</td>\n",
       "    </tr>\n",
       "  </tbody>\n",
       "</table>\n",
       "<p>10 rows × 2048 columns</p>\n",
       "</div>"
      ],
      "text/plain": [
       "          0         1         2         3         4    5         6         7  \\\n",
       "192695  0.0  0.000000  1.621573  0.752438  2.340590  0.0  1.527919  0.000000   \n",
       "58316   0.0  0.000000  0.271409  0.751206  0.093431  0.0  0.000000  0.703187   \n",
       "96752   0.0  0.085561  1.380951  1.273209  1.493375  0.0  0.735762  0.000000   \n",
       "60337   0.0  0.000000  1.298896  1.420663  1.260204  0.0  1.037401  0.000000   \n",
       "83234   0.0  0.467607  1.683026  2.387130  1.343066  0.0  1.613865  0.036213   \n",
       "60964   0.0  0.000000  1.722106  1.071501  2.263459  0.0  1.585181  0.000000   \n",
       "75217   0.0  0.137430  1.912181  0.896749  2.033177  0.0  1.603356  0.000000   \n",
       "49428   0.0  0.060129  1.418332  1.205353  2.070050  0.0  0.956670  0.000000   \n",
       "185165  0.0  0.000000  1.832127  1.112945  1.933915  0.0  1.433295  0.000000   \n",
       "12702   0.0  0.000000  2.013968  1.294413  1.719007  0.0  1.249856  0.000000   \n",
       "\n",
       "               8         9  ...      2038      2039      2040      2041  \\\n",
       "192695  0.000000  1.257096  ...  0.000000  2.218231  0.000000  0.000000   \n",
       "58316   0.164419  1.222482  ...  1.553104  0.302686  1.128608  0.551534   \n",
       "96752   0.000000  1.854687  ...  0.000000  2.784135  0.000000  0.617424   \n",
       "60337   0.000000  1.711602  ...  0.000000  2.634600  0.000000  1.421359   \n",
       "83234   0.000000  1.325640  ...  0.233328  1.542116  0.000000  1.004324   \n",
       "60964   0.000000  1.239535  ...  0.000000  2.448182  0.000000  0.000000   \n",
       "75217   0.000000  1.511271  ...  0.000000  2.486612  0.000000  0.000000   \n",
       "49428   0.000000  1.131921  ...  0.000000  1.794722  0.000000  0.000000   \n",
       "185165  0.000000  1.153206  ...  0.000000  2.862256  0.000000  0.250512   \n",
       "12702   0.000000  2.108005  ...  0.000000  2.412355  0.000000  0.129142   \n",
       "\n",
       "            2042      2043  2044  2045      2046      2047  \n",
       "192695  1.447714  1.668069   0.0   0.0  1.279251  1.876335  \n",
       "58316   0.594208  0.471504   0.0   0.0  0.000000  1.883980  \n",
       "96752   2.019567  1.972065   0.0   0.0  2.209384  1.378371  \n",
       "60337   2.719750  1.646291   0.0   0.0  2.442997  1.877545  \n",
       "83234   1.391003  0.943640   0.0   0.0  1.740785  1.858059  \n",
       "60964   1.615686  1.517259   0.0   0.0  1.544139  1.738828  \n",
       "75217   1.636138  1.752387   0.0   0.0  1.690389  1.911143  \n",
       "49428   1.520536  1.791769   0.0   0.0  1.421181  2.156775  \n",
       "185165  2.097370  1.960247   0.0   0.0  2.131303  2.134420  \n",
       "12702   1.751121  1.619020   0.0   0.0  1.863611  1.954757  \n",
       "\n",
       "[10 rows x 2048 columns]"
      ]
     },
     "execution_count": 17,
     "metadata": {},
     "output_type": "execute_result"
    }
   ],
   "source": [
    "visual_f.loc[data_f_train_gen_14.loc[choice(data_f_train_gen_14.loc[data_f_train_gen_14['user_id']!=3].index,10)].index]"
   ]
  },
  {
   "cell_type": "code",
   "execution_count": 20,
   "metadata": {},
   "outputs": [
    {
     "data": {
      "text/html": [
       "<div>\n",
       "<style scoped>\n",
       "    .dataframe tbody tr th:only-of-type {\n",
       "        vertical-align: middle;\n",
       "    }\n",
       "\n",
       "    .dataframe tbody tr th {\n",
       "        vertical-align: top;\n",
       "    }\n",
       "\n",
       "    .dataframe thead th {\n",
       "        text-align: right;\n",
       "    }\n",
       "</style>\n",
       "<table border=\"1\" class=\"dataframe\">\n",
       "  <thead>\n",
       "    <tr style=\"text-align: right;\">\n",
       "      <th></th>\n",
       "      <th>path</th>\n",
       "      <th>user_id</th>\n",
       "      <th>sig_id</th>\n",
       "      <th>fakeness</th>\n",
       "    </tr>\n",
       "  </thead>\n",
       "  <tbody>\n",
       "    <tr>\n",
       "      <th>212035</th>\n",
       "      <td>/home/mert/Desktop/sigver_dataset/GPDSSyntheti...</td>\n",
       "      <td>298</td>\n",
       "      <td>6</td>\n",
       "      <td>False</td>\n",
       "    </tr>\n",
       "    <tr>\n",
       "      <th>74093</th>\n",
       "      <td>/home/mert/Desktop/sigver_dataset/GPDSSyntheti...</td>\n",
       "      <td>790</td>\n",
       "      <td>8</td>\n",
       "      <td>False</td>\n",
       "    </tr>\n",
       "    <tr>\n",
       "      <th>33929</th>\n",
       "      <td>/home/mert/Desktop/sigver_dataset/GPDSSyntheti...</td>\n",
       "      <td>88</td>\n",
       "      <td>13</td>\n",
       "      <td>False</td>\n",
       "    </tr>\n",
       "    <tr>\n",
       "      <th>12687</th>\n",
       "      <td>/home/mert/Desktop/sigver_dataset/GPDSSyntheti...</td>\n",
       "      <td>613</td>\n",
       "      <td>3</td>\n",
       "      <td>False</td>\n",
       "    </tr>\n",
       "    <tr>\n",
       "      <th>95874</th>\n",
       "      <td>/home/mert/Desktop/sigver_dataset/GPDSSyntheti...</td>\n",
       "      <td>273</td>\n",
       "      <td>5</td>\n",
       "      <td>False</td>\n",
       "    </tr>\n",
       "    <tr>\n",
       "      <th>183784</th>\n",
       "      <td>/home/mert/Desktop/sigver_dataset/GPDSSyntheti...</td>\n",
       "      <td>782</td>\n",
       "      <td>14</td>\n",
       "      <td>False</td>\n",
       "    </tr>\n",
       "    <tr>\n",
       "      <th>104810</th>\n",
       "      <td>/home/mert/Desktop/sigver_dataset/GPDSSyntheti...</td>\n",
       "      <td>140</td>\n",
       "      <td>3</td>\n",
       "      <td>False</td>\n",
       "    </tr>\n",
       "    <tr>\n",
       "      <th>74092</th>\n",
       "      <td>/home/mert/Desktop/sigver_dataset/GPDSSyntheti...</td>\n",
       "      <td>790</td>\n",
       "      <td>12</td>\n",
       "      <td>False</td>\n",
       "    </tr>\n",
       "    <tr>\n",
       "      <th>145167</th>\n",
       "      <td>/home/mert/Desktop/sigver_dataset/GPDSSyntheti...</td>\n",
       "      <td>54</td>\n",
       "      <td>4</td>\n",
       "      <td>False</td>\n",
       "    </tr>\n",
       "    <tr>\n",
       "      <th>169193</th>\n",
       "      <td>/home/mert/Desktop/sigver_dataset/GPDSSyntheti...</td>\n",
       "      <td>522</td>\n",
       "      <td>12</td>\n",
       "      <td>False</td>\n",
       "    </tr>\n",
       "  </tbody>\n",
       "</table>\n",
       "</div>"
      ],
      "text/plain": [
       "                                                     path  user_id  sig_id  \\\n",
       "212035  /home/mert/Desktop/sigver_dataset/GPDSSyntheti...      298       6   \n",
       "74093   /home/mert/Desktop/sigver_dataset/GPDSSyntheti...      790       8   \n",
       "33929   /home/mert/Desktop/sigver_dataset/GPDSSyntheti...       88      13   \n",
       "12687   /home/mert/Desktop/sigver_dataset/GPDSSyntheti...      613       3   \n",
       "95874   /home/mert/Desktop/sigver_dataset/GPDSSyntheti...      273       5   \n",
       "183784  /home/mert/Desktop/sigver_dataset/GPDSSyntheti...      782      14   \n",
       "104810  /home/mert/Desktop/sigver_dataset/GPDSSyntheti...      140       3   \n",
       "74092   /home/mert/Desktop/sigver_dataset/GPDSSyntheti...      790      12   \n",
       "145167  /home/mert/Desktop/sigver_dataset/GPDSSyntheti...       54       4   \n",
       "169193  /home/mert/Desktop/sigver_dataset/GPDSSyntheti...      522      12   \n",
       "\n",
       "        fakeness  \n",
       "212035     False  \n",
       "74093      False  \n",
       "33929      False  \n",
       "12687      False  \n",
       "95874      False  \n",
       "183784     False  \n",
       "104810     False  \n",
       "74092      False  \n",
       "145167     False  \n",
       "169193     False  "
      ]
     },
     "execution_count": 20,
     "metadata": {},
     "output_type": "execute_result"
    }
   ],
   "source": [
    "data_f_train_gen_14.loc[choice(data_f_train_gen_14.loc[data_f_train_gen_14['user_id']!=3].index,10)]"
   ]
  },
  {
   "cell_type": "code",
   "execution_count": 12,
   "metadata": {},
   "outputs": [],
   "source": [
    "# choice(data_f_train_gen_14.loc[data_f_train_gen_14['user_id']!=3].index,10)"
   ]
  },
  {
   "cell_type": "code",
   "execution_count": 23,
   "metadata": {},
   "outputs": [
    {
     "name": "stderr",
     "output_type": "stream",
     "text": [
      "\n",
      "\n",
      "  0%|                                                                                          | 0/640 [00:00<?, ?it/s]"
     ]
    },
    {
     "name": "stdout",
     "output_type": "stream",
     "text": [
      "0.8666666666666667\n"
     ]
    },
    {
     "name": "stderr",
     "output_type": "stream",
     "text": [
      "\n",
      "\n",
      "  0%|▏                                                                               | 1/640 [00:16<3:00:49, 16.98s/it]"
     ]
    },
    {
     "name": "stdout",
     "output_type": "stream",
     "text": [
      "0.8722222222222222\n"
     ]
    },
    {
     "name": "stderr",
     "output_type": "stream",
     "text": [
      "\n",
      "\n",
      "  0%|▎                                                                               | 2/640 [00:36<3:08:21, 17.71s/it]"
     ]
    },
    {
     "name": "stdout",
     "output_type": "stream",
     "text": [
      "0.8814814814814815\n"
     ]
    },
    {
     "name": "stderr",
     "output_type": "stream",
     "text": [
      "\n",
      "\n",
      "  0%|▍                                                                               | 3/640 [00:50<2:56:26, 16.62s/it]"
     ]
    },
    {
     "name": "stdout",
     "output_type": "stream",
     "text": [
      "0.8694444444444445\n"
     ]
    },
    {
     "name": "stderr",
     "output_type": "stream",
     "text": [
      "\n",
      "\n",
      "  1%|▌                                                                               | 4/640 [01:05<2:52:24, 16.27s/it]"
     ]
    },
    {
     "name": "stdout",
     "output_type": "stream",
     "text": [
      "0.8422222222222223\n"
     ]
    },
    {
     "name": "stderr",
     "output_type": "stream",
     "text": [
      "\n",
      "\n",
      "  1%|▋                                                                               | 5/640 [01:34<3:31:53, 20.02s/it]"
     ]
    },
    {
     "name": "stdout",
     "output_type": "stream",
     "text": [
      "0.8407407407407409\n"
     ]
    },
    {
     "name": "stderr",
     "output_type": "stream",
     "text": [
      "\n",
      "\n",
      "  1%|▊                                                                               | 6/640 [02:09<4:17:08, 24.34s/it]"
     ]
    },
    {
     "name": "stdout",
     "output_type": "stream",
     "text": [
      "0.8603174603174605\n"
     ]
    },
    {
     "name": "stderr",
     "output_type": "stream",
     "text": [
      "\n",
      "\n",
      "  1%|▉                                                                               | 7/640 [02:32<4:14:20, 24.11s/it]"
     ]
    },
    {
     "name": "stdout",
     "output_type": "stream",
     "text": [
      "0.8611111111111112\n"
     ]
    },
    {
     "name": "stderr",
     "output_type": "stream",
     "text": [
      "\n",
      "\n",
      "  1%|█                                                                               | 8/640 [03:02<4:33:08, 25.93s/it]"
     ]
    },
    {
     "name": "stdout",
     "output_type": "stream",
     "text": [
      "0.8604938271604938\n"
     ]
    },
    {
     "name": "stderr",
     "output_type": "stream",
     "text": [
      "\n",
      "\n",
      "  1%|█▏                                                                              | 9/640 [03:23<4:16:18, 24.37s/it]"
     ]
    },
    {
     "name": "stdout",
     "output_type": "stream",
     "text": [
      "0.85\n"
     ]
    },
    {
     "name": "stderr",
     "output_type": "stream",
     "text": [
      "\n",
      "\n",
      "  2%|█▏                                                                             | 10/640 [03:34<3:32:49, 20.27s/it]"
     ]
    },
    {
     "name": "stdout",
     "output_type": "stream",
     "text": [
      "0.8404040404040404\n"
     ]
    },
    {
     "name": "stderr",
     "output_type": "stream",
     "text": [
      "\n",
      "\n",
      "  2%|█▎                                                                             | 11/640 [03:55<3:35:15, 20.53s/it]"
     ]
    },
    {
     "name": "stdout",
     "output_type": "stream",
     "text": [
      "0.8324074074074073\n"
     ]
    },
    {
     "name": "stderr",
     "output_type": "stream",
     "text": [
      "\n",
      "\n",
      "  2%|█▍                                                                             | 12/640 [04:12<3:22:35, 19.36s/it]"
     ]
    },
    {
     "name": "stdout",
     "output_type": "stream",
     "text": [
      "0.8435897435897434\n"
     ]
    },
    {
     "name": "stderr",
     "output_type": "stream",
     "text": [
      "\n",
      "\n",
      "  2%|█▌                                                                             | 13/640 [04:30<3:19:14, 19.07s/it]"
     ]
    },
    {
     "name": "stdout",
     "output_type": "stream",
     "text": [
      "0.8444444444444443\n"
     ]
    },
    {
     "name": "stderr",
     "output_type": "stream",
     "text": [
      "\n",
      "\n",
      "  2%|█▋                                                                             | 14/640 [04:43<3:01:29, 17.40s/it]"
     ]
    },
    {
     "name": "stdout",
     "output_type": "stream",
     "text": [
      "0.8437037037037036\n"
     ]
    },
    {
     "name": "stderr",
     "output_type": "stream",
     "text": [
      "\n",
      "\n",
      "  2%|█▊                                                                             | 15/640 [05:16<3:47:36, 21.85s/it]"
     ]
    },
    {
     "name": "stdout",
     "output_type": "stream",
     "text": [
      "0.8395833333333332\n"
     ]
    },
    {
     "name": "stderr",
     "output_type": "stream",
     "text": [
      "\n",
      "\n",
      "  2%|█▉                                                                             | 16/640 [05:28<3:16:39, 18.91s/it]"
     ]
    },
    {
     "name": "stdout",
     "output_type": "stream",
     "text": [
      "0.8307189542483661\n"
     ]
    },
    {
     "name": "stderr",
     "output_type": "stream",
     "text": [
      "\n",
      "\n",
      "  3%|██                                                                             | 17/640 [05:31<2:28:01, 14.26s/it]"
     ]
    },
    {
     "name": "stdout",
     "output_type": "stream",
     "text": [
      "0.8308641975308642\n"
     ]
    },
    {
     "name": "stderr",
     "output_type": "stream",
     "text": [
      "\n",
      "\n",
      "  3%|██▏                                                                            | 18/640 [05:51<2:43:47, 15.80s/it]"
     ]
    },
    {
     "name": "stdout",
     "output_type": "stream",
     "text": [
      "0.8228070175438597\n"
     ]
    },
    {
     "name": "stderr",
     "output_type": "stream",
     "text": [
      "\n",
      "\n",
      "  3%|██▎                                                                            | 19/640 [06:06<2:41:04, 15.56s/it]"
     ]
    },
    {
     "name": "stdout",
     "output_type": "stream",
     "text": [
      "0.8255555555555555\n"
     ]
    },
    {
     "name": "stderr",
     "output_type": "stream",
     "text": [
      "\n",
      "\n",
      "  3%|██▍                                                                            | 20/640 [06:20<2:37:34, 15.25s/it]"
     ]
    },
    {
     "name": "stdout",
     "output_type": "stream",
     "text": [
      "0.8306878306878306\n"
     ]
    },
    {
     "name": "stderr",
     "output_type": "stream",
     "text": [
      "\n",
      "\n",
      "  3%|██▌                                                                            | 21/640 [06:40<2:51:24, 16.62s/it]"
     ]
    },
    {
     "name": "stdout",
     "output_type": "stream",
     "text": [
      "0.8323232323232321\n"
     ]
    },
    {
     "name": "stderr",
     "output_type": "stream",
     "text": [
      "\n",
      "\n",
      "  3%|██▋                                                                            | 22/640 [06:52<2:38:20, 15.37s/it]"
     ]
    },
    {
     "name": "stdout",
     "output_type": "stream",
     "text": [
      "0.8391304347826086\n"
     ]
    },
    {
     "name": "stderr",
     "output_type": "stream",
     "text": [
      "\n",
      "\n",
      "  4%|██▊                                                                            | 23/640 [07:10<2:45:54, 16.13s/it]"
     ]
    },
    {
     "name": "stdout",
     "output_type": "stream",
     "text": [
      "0.8407407407407406\n"
     ]
    },
    {
     "name": "stderr",
     "output_type": "stream",
     "text": [
      "\n",
      "\n",
      "  4%|██▉                                                                            | 24/640 [07:27<2:46:03, 16.17s/it]"
     ]
    },
    {
     "name": "stdout",
     "output_type": "stream",
     "text": [
      "0.8417777777777776\n"
     ]
    },
    {
     "name": "stderr",
     "output_type": "stream",
     "text": [
      "\n",
      "\n",
      "  4%|███                                                                            | 25/640 [07:35<2:22:10, 13.87s/it]"
     ]
    },
    {
     "name": "stdout",
     "output_type": "stream",
     "text": [
      "0.8444444444444443\n"
     ]
    },
    {
     "name": "stderr",
     "output_type": "stream",
     "text": [
      "\n",
      "\n",
      "  4%|███▏                                                                           | 26/640 [08:05<3:11:18, 18.69s/it]"
     ]
    },
    {
     "name": "stdout",
     "output_type": "stream",
     "text": [
      "0.8460905349794239\n"
     ]
    },
    {
     "name": "stderr",
     "output_type": "stream",
     "text": [
      "\n",
      "\n",
      "  4%|███▎                                                                           | 27/640 [08:29<3:26:40, 20.23s/it]"
     ]
    },
    {
     "name": "stdout",
     "output_type": "stream",
     "text": [
      "0.8468253968253967\n"
     ]
    },
    {
     "name": "stderr",
     "output_type": "stream",
     "text": [
      "\n",
      "\n",
      "  4%|███▍                                                                           | 28/640 [08:42<3:05:28, 18.18s/it]"
     ]
    },
    {
     "name": "stdout",
     "output_type": "stream",
     "text": [
      "0.8501915708812261\n"
     ]
    },
    {
     "name": "stderr",
     "output_type": "stream",
     "text": [
      "\n",
      "\n",
      "  5%|███▌                                                                           | 29/640 [09:05<3:18:06, 19.45s/it]"
     ]
    },
    {
     "name": "stdout",
     "output_type": "stream",
     "text": [
      "0.8496296296296296\n"
     ]
    },
    {
     "name": "stderr",
     "output_type": "stream",
     "text": [
      "\n",
      "\n",
      "  5%|███▋                                                                           | 30/640 [09:35<3:51:55, 22.81s/it]"
     ]
    },
    {
     "name": "stdout",
     "output_type": "stream",
     "text": [
      "0.8494623655913979\n"
     ]
    },
    {
     "name": "stderr",
     "output_type": "stream",
     "text": [
      "\n",
      "\n",
      "  5%|███▊                                                                           | 31/640 [10:13<4:36:02, 27.20s/it]"
     ]
    },
    {
     "name": "stdout",
     "output_type": "stream",
     "text": [
      "0.8468749999999999\n"
     ]
    },
    {
     "name": "stderr",
     "output_type": "stream",
     "text": [
      "\n",
      "\n",
      "  5%|███▉                                                                           | 32/640 [10:25<3:51:15, 22.82s/it]"
     ]
    },
    {
     "name": "stdout",
     "output_type": "stream",
     "text": [
      "0.8505050505050505\n"
     ]
    },
    {
     "name": "stderr",
     "output_type": "stream",
     "text": [
      "\n",
      "\n",
      "  5%|████                                                                           | 33/640 [10:50<3:56:05, 23.34s/it]"
     ]
    },
    {
     "name": "stdout",
     "output_type": "stream",
     "text": [
      "0.8486928104575163\n"
     ]
    },
    {
     "name": "stderr",
     "output_type": "stream",
     "text": [
      "\n",
      "\n",
      "  5%|████▏                                                                          | 34/640 [11:09<3:43:49, 22.16s/it]"
     ]
    },
    {
     "name": "stdout",
     "output_type": "stream",
     "text": [
      "0.8488888888888888\n"
     ]
    },
    {
     "name": "stderr",
     "output_type": "stream",
     "text": [
      "\n",
      "\n",
      "  5%|████▎                                                                          | 35/640 [11:18<3:02:35, 18.11s/it]"
     ]
    },
    {
     "name": "stdout",
     "output_type": "stream",
     "text": [
      "0.8481481481481481\n"
     ]
    },
    {
     "name": "stderr",
     "output_type": "stream",
     "text": [
      "\n",
      "\n",
      "  6%|████▍                                                                          | 36/640 [11:35<2:59:47, 17.86s/it]"
     ]
    },
    {
     "name": "stdout",
     "output_type": "stream",
     "text": [
      "0.8480480480480481\n"
     ]
    },
    {
     "name": "stderr",
     "output_type": "stream",
     "text": [
      "\n",
      "\n",
      "  6%|████▌                                                                          | 37/640 [12:07<3:42:54, 22.18s/it]"
     ]
    },
    {
     "name": "stdout",
     "output_type": "stream",
     "text": [
      "0.8485380116959066\n"
     ]
    },
    {
     "name": "stderr",
     "output_type": "stream",
     "text": [
      "\n",
      "\n",
      "  6%|████▋                                                                          | 38/640 [12:25<3:28:18, 20.76s/it]"
     ]
    },
    {
     "name": "stdout",
     "output_type": "stream",
     "text": [
      "0.8495726495726497\n"
     ]
    },
    {
     "name": "stderr",
     "output_type": "stream",
     "text": [
      "\n",
      "\n",
      "  6%|████▊                                                                          | 39/640 [12:35<2:55:46, 17.55s/it]"
     ]
    },
    {
     "name": "stdout",
     "output_type": "stream",
     "text": [
      "0.8472222222222222\n"
     ]
    },
    {
     "name": "stderr",
     "output_type": "stream",
     "text": [
      "\n",
      "\n",
      "  6%|████▉                                                                          | 40/640 [12:50<2:48:42, 16.87s/it]"
     ]
    },
    {
     "name": "stdout",
     "output_type": "stream",
     "text": [
      "0.845528455284553\n"
     ]
    },
    {
     "name": "stderr",
     "output_type": "stream",
     "text": [
      "\n",
      "\n",
      "  6%|█████                                                                          | 41/640 [13:10<2:58:20, 17.86s/it]"
     ]
    },
    {
     "name": "stdout",
     "output_type": "stream",
     "text": [
      "0.8436507936507938\n"
     ]
    },
    {
     "name": "stderr",
     "output_type": "stream",
     "text": [
      "\n",
      "\n",
      "  7%|█████▏                                                                         | 42/640 [13:23<2:41:28, 16.20s/it]"
     ]
    },
    {
     "name": "stdout",
     "output_type": "stream",
     "text": [
      "0.8413436692506461\n"
     ]
    },
    {
     "name": "stderr",
     "output_type": "stream",
     "text": [
      "\n",
      "\n",
      "  7%|█████▎                                                                         | 43/640 [13:27<2:04:13, 12.48s/it]"
     ]
    },
    {
     "name": "stdout",
     "output_type": "stream",
     "text": [
      "0.8416666666666668\n"
     ]
    },
    {
     "name": "stderr",
     "output_type": "stream",
     "text": [
      "\n",
      "\n",
      "  7%|█████▍                                                                         | 44/640 [13:46<2:25:55, 14.69s/it]"
     ]
    },
    {
     "name": "stdout",
     "output_type": "stream",
     "text": [
      "0.8424691358024694\n"
     ]
    },
    {
     "name": "stderr",
     "output_type": "stream",
     "text": [
      "\n",
      "\n",
      "  7%|█████▌                                                                         | 45/640 [14:06<2:39:02, 16.04s/it]"
     ]
    },
    {
     "name": "stdout",
     "output_type": "stream",
     "text": [
      "0.8437198067632853\n"
     ]
    },
    {
     "name": "stderr",
     "output_type": "stream",
     "text": [
      "\n",
      "\n",
      "  7%|█████▋                                                                         | 46/640 [14:28<2:58:44, 18.06s/it]"
     ]
    },
    {
     "name": "stdout",
     "output_type": "stream",
     "text": [
      "0.8427895981087473\n"
     ]
    },
    {
     "name": "stderr",
     "output_type": "stream",
     "text": [
      "\n",
      "\n",
      "  7%|█████▊                                                                         | 47/640 [14:46<2:58:28, 18.06s/it]"
     ]
    },
    {
     "name": "stdout",
     "output_type": "stream",
     "text": [
      "0.8432870370370373\n"
     ]
    },
    {
     "name": "stderr",
     "output_type": "stream",
     "text": [
      "\n",
      "\n",
      "  8%|█████▉                                                                         | 48/640 [15:08<3:08:22, 19.09s/it]"
     ]
    },
    {
     "name": "stdout",
     "output_type": "stream",
     "text": [
      "0.8437641723356013\n"
     ]
    },
    {
     "name": "stderr",
     "output_type": "stream",
     "text": [
      "\n",
      "\n",
      "  8%|██████                                                                         | 49/640 [15:19<2:44:18, 16.68s/it]"
     ]
    },
    {
     "name": "stdout",
     "output_type": "stream",
     "text": [
      "0.8457777777777782\n"
     ]
    },
    {
     "name": "stderr",
     "output_type": "stream",
     "text": [
      "\n",
      "\n",
      "  8%|██████▏                                                                        | 50/640 [15:48<3:21:10, 20.46s/it]"
     ]
    },
    {
     "name": "stdout",
     "output_type": "stream",
     "text": [
      "0.8468409586056649\n"
     ]
    },
    {
     "name": "stderr",
     "output_type": "stream",
     "text": [
      "\n",
      "\n",
      "  8%|██████▎                                                                        | 51/640 [16:12<3:30:22, 21.43s/it]"
     ]
    },
    {
     "name": "stdout",
     "output_type": "stream",
     "text": [
      "0.8491452991452996\n"
     ]
    },
    {
     "name": "stderr",
     "output_type": "stream",
     "text": [
      "\n",
      "\n",
      "  8%|██████▍                                                                        | 52/640 [16:23<2:59:03, 18.27s/it]"
     ]
    },
    {
     "name": "stdout",
     "output_type": "stream",
     "text": [
      "0.8475890985324952\n"
     ]
    },
    {
     "name": "stderr",
     "output_type": "stream",
     "text": [
      "\n",
      "\n",
      "  8%|██████▌                                                                        | 53/640 [16:41<2:57:25, 18.14s/it]"
     ]
    },
    {
     "name": "stdout",
     "output_type": "stream",
     "text": [
      "0.8469135802469139\n"
     ]
    },
    {
     "name": "stderr",
     "output_type": "stream",
     "text": [
      "\n",
      "\n",
      "  8%|██████▋                                                                        | 54/640 [17:10<3:28:40, 21.37s/it]"
     ]
    },
    {
     "name": "stdout",
     "output_type": "stream",
     "text": [
      "0.8482828282828286\n"
     ]
    },
    {
     "name": "stderr",
     "output_type": "stream",
     "text": [
      "\n",
      "\n",
      "  9%|██████▊                                                                        | 55/640 [17:25<3:12:15, 19.72s/it]"
     ]
    },
    {
     "name": "stdout",
     "output_type": "stream",
     "text": [
      "0.8460317460317464\n"
     ]
    },
    {
     "name": "stderr",
     "output_type": "stream",
     "text": [
      "\n",
      "\n",
      "  9%|██████▉                                                                        | 56/640 [17:52<3:30:49, 21.66s/it]"
     ]
    },
    {
     "name": "stdout",
     "output_type": "stream",
     "text": [
      "0.8465886939571154\n"
     ]
    },
    {
     "name": "stderr",
     "output_type": "stream",
     "text": [
      "\n",
      "\n",
      "  9%|███████                                                                        | 57/640 [18:26<4:08:28, 25.57s/it]"
     ]
    },
    {
     "name": "stdout",
     "output_type": "stream",
     "text": [
      "0.8469348659003835\n"
     ]
    },
    {
     "name": "stderr",
     "output_type": "stream",
     "text": [
      "\n",
      "\n",
      "  9%|███████▏                                                                       | 58/640 [18:36<3:21:31, 20.78s/it]"
     ]
    },
    {
     "name": "stdout",
     "output_type": "stream",
     "text": [
      "0.8465160075329571\n"
     ]
    },
    {
     "name": "stderr",
     "output_type": "stream",
     "text": [
      "\n",
      "\n",
      "  9%|███████▎                                                                       | 59/640 [18:46<2:51:14, 17.68s/it]"
     ]
    },
    {
     "name": "stdout",
     "output_type": "stream",
     "text": [
      "0.8442592592592596\n"
     ]
    },
    {
     "name": "stderr",
     "output_type": "stream",
     "text": [
      "\n",
      "\n",
      "  9%|███████▍                                                                       | 60/640 [19:12<3:14:05, 20.08s/it]"
     ]
    },
    {
     "name": "stdout",
     "output_type": "stream",
     "text": [
      "0.8428051001821497\n"
     ]
    },
    {
     "name": "stderr",
     "output_type": "stream",
     "text": [
      "\n",
      "\n",
      " 10%|███████▌                                                                       | 61/640 [19:32<3:13:21, 20.04s/it]"
     ]
    },
    {
     "name": "stdout",
     "output_type": "stream",
     "text": [
      "0.8424731182795703\n"
     ]
    },
    {
     "name": "stderr",
     "output_type": "stream",
     "text": [
      "\n",
      "\n",
      " 10%|███████▋                                                                       | 62/640 [19:45<2:52:15, 17.88s/it]"
     ]
    },
    {
     "name": "stdout",
     "output_type": "stream",
     "text": [
      "0.8433862433862437\n"
     ]
    },
    {
     "name": "stderr",
     "output_type": "stream",
     "text": [
      "\n",
      "\n",
      " 10%|███████▊                                                                       | 63/640 [19:59<2:41:58, 16.84s/it]"
     ]
    },
    {
     "name": "stdout",
     "output_type": "stream",
     "text": [
      "0.8425347222222226\n"
     ]
    },
    {
     "name": "stderr",
     "output_type": "stream",
     "text": [
      "\n",
      "\n",
      " 10%|███████▉                                                                       | 64/640 [20:13<2:31:43, 15.81s/it]"
     ]
    },
    {
     "name": "stdout",
     "output_type": "stream",
     "text": [
      "0.843589743589744\n"
     ]
    },
    {
     "name": "stderr",
     "output_type": "stream",
     "text": [
      "\n",
      "\n",
      " 10%|████████                                                                       | 65/640 [20:32<2:41:00, 16.80s/it]"
     ]
    },
    {
     "name": "stdout",
     "output_type": "stream",
     "text": [
      "0.8432659932659937\n"
     ]
    },
    {
     "name": "stderr",
     "output_type": "stream",
     "text": [
      "\n",
      "\n",
      " 10%|████████▏                                                                      | 66/640 [20:58<3:08:21, 19.69s/it]"
     ]
    },
    {
     "ename": "KeyboardInterrupt",
     "evalue": "",
     "output_type": "error",
     "traceback": [
      "\u001b[1;31m---------------------------------------------------------------------------\u001b[0m",
      "\u001b[1;31mKeyboardInterrupt\u001b[0m                         Traceback (most recent call last)",
      "\u001b[1;32m<ipython-input-23-970c2154fd4d>\u001b[0m in \u001b[0;36m<module>\u001b[1;34m\u001b[0m\n\u001b[0;32m      6\u001b[0m     \u001b[1;31m# clf = XGBClassifier(tree_method='gpu_hist',verbosity=2,predictor='gpu_predictor', scale_pos_weight=8946/14)\u001b[0m\u001b[1;33m\u001b[0m\u001b[1;33m\u001b[0m\u001b[1;33m\u001b[0m\u001b[0m\n\u001b[0;32m      7\u001b[0m     \u001b[0mclf\u001b[0m \u001b[1;33m=\u001b[0m \u001b[0mSVC\u001b[0m\u001b[1;33m(\u001b[0m\u001b[0mclass_weight\u001b[0m\u001b[1;33m=\u001b[0m\u001b[1;34m'balanced'\u001b[0m\u001b[1;33m,\u001b[0m \u001b[0mgamma\u001b[0m\u001b[1;33m=\u001b[0m\u001b[1;34m'scale'\u001b[0m\u001b[1;33m)\u001b[0m\u001b[1;33m\u001b[0m\u001b[1;33m\u001b[0m\u001b[0m\n\u001b[1;32m----> 8\u001b[1;33m     \u001b[0mclf\u001b[0m\u001b[1;33m.\u001b[0m\u001b[0mfit\u001b[0m\u001b[1;33m(\u001b[0m\u001b[0mX_train\u001b[0m\u001b[1;33m,\u001b[0m \u001b[0my_train\u001b[0m\u001b[1;33m)\u001b[0m\u001b[1;33m\u001b[0m\u001b[1;33m\u001b[0m\u001b[0m\n\u001b[0m\u001b[0;32m      9\u001b[0m     \u001b[0my_valid_fakes\u001b[0m \u001b[1;33m=\u001b[0m \u001b[0mdata_f_train_fake\u001b[0m\u001b[1;33m.\u001b[0m\u001b[0mloc\u001b[0m\u001b[1;33m[\u001b[0m\u001b[0mdata_f_train_fake\u001b[0m\u001b[1;33m[\u001b[0m\u001b[1;34m'user_id'\u001b[0m\u001b[1;33m]\u001b[0m\u001b[1;33m==\u001b[0m\u001b[0muser_id\u001b[0m\u001b[1;33m]\u001b[0m\u001b[1;33m\u001b[0m\u001b[1;33m\u001b[0m\u001b[0m\n\u001b[0;32m     10\u001b[0m     \u001b[0my_valid\u001b[0m \u001b[1;33m=\u001b[0m \u001b[0mlen\u001b[0m\u001b[1;33m(\u001b[0m\u001b[0my_valid_fakes\u001b[0m\u001b[1;33m.\u001b[0m\u001b[0mindex\u001b[0m\u001b[1;33m)\u001b[0m\u001b[1;33m*\u001b[0m\u001b[1;33m[\u001b[0m\u001b[1;32mFalse\u001b[0m\u001b[1;33m]\u001b[0m\u001b[1;33m\u001b[0m\u001b[1;33m\u001b[0m\u001b[0m\n",
      "\u001b[1;32mc:\\users\\mert\\anaconda3\\envs\\ml_env\\lib\\site-packages\\sklearn\\svm\\base.py\u001b[0m in \u001b[0;36mfit\u001b[1;34m(self, X, y, sample_weight)\u001b[0m\n\u001b[0;32m    210\u001b[0m \u001b[1;33m\u001b[0m\u001b[0m\n\u001b[0;32m    211\u001b[0m         \u001b[0mseed\u001b[0m \u001b[1;33m=\u001b[0m \u001b[0mrnd\u001b[0m\u001b[1;33m.\u001b[0m\u001b[0mrandint\u001b[0m\u001b[1;33m(\u001b[0m\u001b[0mnp\u001b[0m\u001b[1;33m.\u001b[0m\u001b[0miinfo\u001b[0m\u001b[1;33m(\u001b[0m\u001b[1;34m'i'\u001b[0m\u001b[1;33m)\u001b[0m\u001b[1;33m.\u001b[0m\u001b[0mmax\u001b[0m\u001b[1;33m)\u001b[0m\u001b[1;33m\u001b[0m\u001b[1;33m\u001b[0m\u001b[0m\n\u001b[1;32m--> 212\u001b[1;33m         \u001b[0mfit\u001b[0m\u001b[1;33m(\u001b[0m\u001b[0mX\u001b[0m\u001b[1;33m,\u001b[0m \u001b[0my\u001b[0m\u001b[1;33m,\u001b[0m \u001b[0msample_weight\u001b[0m\u001b[1;33m,\u001b[0m \u001b[0msolver_type\u001b[0m\u001b[1;33m,\u001b[0m \u001b[0mkernel\u001b[0m\u001b[1;33m,\u001b[0m \u001b[0mrandom_seed\u001b[0m\u001b[1;33m=\u001b[0m\u001b[0mseed\u001b[0m\u001b[1;33m)\u001b[0m\u001b[1;33m\u001b[0m\u001b[1;33m\u001b[0m\u001b[0m\n\u001b[0m\u001b[0;32m    213\u001b[0m         \u001b[1;31m# see comment on the other call to np.iinfo in this file\u001b[0m\u001b[1;33m\u001b[0m\u001b[1;33m\u001b[0m\u001b[1;33m\u001b[0m\u001b[0m\n\u001b[0;32m    214\u001b[0m \u001b[1;33m\u001b[0m\u001b[0m\n",
      "\u001b[1;32mc:\\users\\mert\\anaconda3\\envs\\ml_env\\lib\\site-packages\\sklearn\\svm\\base.py\u001b[0m in \u001b[0;36m_dense_fit\u001b[1;34m(self, X, y, sample_weight, solver_type, kernel, random_seed)\u001b[0m\n\u001b[0;32m    269\u001b[0m                 \u001b[0mcache_size\u001b[0m\u001b[1;33m=\u001b[0m\u001b[0mself\u001b[0m\u001b[1;33m.\u001b[0m\u001b[0mcache_size\u001b[0m\u001b[1;33m,\u001b[0m \u001b[0mcoef0\u001b[0m\u001b[1;33m=\u001b[0m\u001b[0mself\u001b[0m\u001b[1;33m.\u001b[0m\u001b[0mcoef0\u001b[0m\u001b[1;33m,\u001b[0m\u001b[1;33m\u001b[0m\u001b[1;33m\u001b[0m\u001b[0m\n\u001b[0;32m    270\u001b[0m                 \u001b[0mgamma\u001b[0m\u001b[1;33m=\u001b[0m\u001b[0mself\u001b[0m\u001b[1;33m.\u001b[0m\u001b[0m_gamma\u001b[0m\u001b[1;33m,\u001b[0m \u001b[0mepsilon\u001b[0m\u001b[1;33m=\u001b[0m\u001b[0mself\u001b[0m\u001b[1;33m.\u001b[0m\u001b[0mepsilon\u001b[0m\u001b[1;33m,\u001b[0m\u001b[1;33m\u001b[0m\u001b[1;33m\u001b[0m\u001b[0m\n\u001b[1;32m--> 271\u001b[1;33m                 max_iter=self.max_iter, random_seed=random_seed)\n\u001b[0m\u001b[0;32m    272\u001b[0m \u001b[1;33m\u001b[0m\u001b[0m\n\u001b[0;32m    273\u001b[0m         \u001b[0mself\u001b[0m\u001b[1;33m.\u001b[0m\u001b[0m_warn_from_fit_status\u001b[0m\u001b[1;33m(\u001b[0m\u001b[1;33m)\u001b[0m\u001b[1;33m\u001b[0m\u001b[1;33m\u001b[0m\u001b[0m\n",
      "\u001b[1;31mKeyboardInterrupt\u001b[0m: "
     ]
    }
   ],
   "source": [
    "scores_sum = 0\n",
    "run_count = 0\n",
    "for user_id in tqdm.tqdm(data_f_train_gen_14['user_id'].unique()):\n",
    "    y_train = data_f_train_gen_14['user_id']==user_id\n",
    "    X_train = visual_f.loc[y_train.index]\n",
    "    # clf = XGBClassifier(tree_method='gpu_hist',verbosity=2,predictor='gpu_predictor', scale_pos_weight=8946/14)\n",
    "    clf = SVC(class_weight='balanced', gamma='scale')\n",
    "    clf.fit(X_train, y_train)\n",
    "    y_valid_fakes = data_f_train_fake.loc[data_f_train_fake['user_id']==user_id]\n",
    "    y_valid = len(y_valid_fakes.index)*[False]\n",
    "    X_valid = visual_f.loc[y_valid_fakes.index]\n",
    "    scores_sum += clf.score(X_valid,y_valid)\n",
    "    run_count += 1\n",
    "    y_valid_gens = data_f_train_gen_valid_10.loc[data_f_train_gen_valid_10['user_id']==user_id]\n",
    "    y_valid = len(y_valid_gens.index)*[True]\n",
    "    X_valid = visual_f.loc[y_valid_gens.index]\n",
    "    scores_sum += clf.score(X_valid,y_valid)\n",
    "    run_count += 1\n",
    "    y_valid_rand_fakes = data_f_train_gen_14.loc[choice(data_f_train_gen_14.loc[data_f_train_gen_14['user_id']!=3].index,10)]\n",
    "    y_valid = len(y_valid_rand_fakes.index)*[False]\n",
    "    X_valid = visual_f.loc[y_valid_rand_fakes.index]\n",
    "    scores_sum += clf.score(X_valid,y_valid)\n",
    "    run_count += 1\n",
    "    print(scores_sum/run_count)\n",
    "print(scores_sum/run_count)"
   ]
  }
 ],
 "metadata": {
  "kernelspec": {
   "display_name": "Python 3",
   "language": "python",
   "name": "python3"
  },
  "language_info": {
   "codemirror_mode": {
    "name": "ipython",
    "version": 3
   },
   "file_extension": ".py",
   "mimetype": "text/x-python",
   "name": "python",
   "nbconvert_exporter": "python",
   "pygments_lexer": "ipython3",
   "version": "3.6.8"
  }
 },
 "nbformat": 4,
 "nbformat_minor": 2
}
